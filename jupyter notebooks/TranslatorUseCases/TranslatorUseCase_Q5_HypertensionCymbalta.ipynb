{
 "cells": [
  {
   "cell_type": "markdown",
   "metadata": {},
   "source": [
    "# Translator Use Case Question 5: Hypertension and Cymbalta"
   ]
  },
  {
   "cell_type": "markdown",
   "metadata": {},
   "source": [
    "## Understanding the Question"
   ]
  },
  {
   "cell_type": "markdown",
   "metadata": {},
   "source": [
    "**To experiment with an executable version of this notebook, [load it in Google Colaboratory](https://colab.research.google.com/github/colleenXu/biothings_explorer/blob/relay/jupyter%20notebooks/TranslatorUseCases/TranslatorUseCase_Q5_HypertensionCymbalta.ipynb).**\n",
    "\n",
    "The Translator Use Case Question #5 is:    \n",
    "\n",
    "> If a patient with disease X is treated off-label with drug Y, what are some potential side effects?\n",
    "\n",
    "We interpret the Translator Use Case Question to be about **unintended drug-disease interactions**. These occur when a drug has an unintended effect on a person due to the person’s existing medical conditions. \n",
    "* The interaction could be beneficial: for example, a person taking [lorazepam](https://www.drugs.com/ppa/lorazepam.html) for nighttime anxiety may also experience drowsiness (a common side effect), which may help them with their insomnia. \n",
    "* On the other hand, the interaction could be harmful: for example, a person with peptic ulcers may want to take [ibuprofen](https://www.drugs.com/ppa/ibuprofen.html) for a headache. However, NSAIDS can increase the risk of serious gastrointestinal inflammation, ulceration, bleeding, and perforation, especially for people with a history of GI ulcers or current GI ulcers. Some adverse drug-disease interactions, like the example here, are described in formal drug warnings and contraindications.\n",
    "\n",
    "We notice that unintended drug-disease interactions occur in more contexts than off-label drug use. They can also occur when the drug is used following its label-indication and in [the context of comorbidity / multimorbidity](https://www.bmj.com/content/350/bmj.h949), when a person is taking a drug to treat one of their diseases and the drug affects a comorbid condition.\n",
    "\n",
    "**We therefore decided to reframe this question and find potential unintended drug-disease interactions with the following type of question:**\n",
    "> What symptoms do `Disease` X and `ChemicalSubstance` Y have in common? \n",
    "\n",
    "BioThings Explorer (BTE) can answer two classes of queries -- \"EXPLAIN\" and \"PREDICT\". This Question fits the EXPLAIN  template of starting with **a specific biomedical entity** (a specific `Disease` X) and finding indirect relationships with **another specific biomedical entity** (a specific `ChemicalSubstance` Y)."
   ]
  },
  {
   "cell_type": "markdown",
   "metadata": {},
   "source": [
    "## Specific use case: Cymbalta use exacerbating hypertension"
   ]
  },
  {
   "cell_type": "markdown",
   "metadata": {},
   "source": [
    "We will use **hypertension** as our specific disease of interest. We will use **Cymbalta** as our drug of interest. This use case is an example of comorbidity and unintended drug-disease interactions. Many people have both hypertension and a [disease that can be treated with Cymbalta](https://www.drugs.com/ppa/duloxetine.html) (references: [hypertension and psychiatric disease, including depression and anxiety](https://www.ncbi.nlm.nih.gov/pmc/articles/PMC3996437/), [hypertension and fibromyalgia](https://www.ncbi.nlm.nih.gov/pmc/articles/PMC4575027/)). \n",
    "\n",
    "However, [Cymbalta / duloxetine](https://www.accessdata.fda.gov/drugsatfda_docs/label/2007/021427s009s011s013lbl.pdf) and [other drugs in its class](https://pubmed.ncbi.nlm.nih.gov/30838456/) (serotonin and norepinephrine reuptake inhibitors, SNRIs) can increase blood pressure, which could exacerbate a pre-existing hypertension. This adverse effect is described in [Cymbalta's warnings](https://www.drugs.com/ppa/duloxetine.html), along with advice to use Cymbalta with caution in patients with hypertension, monitor patients' blood pressure periodically while they take Cymbalta, and reduce or discontinue its use if patients experience sustained higher blood pressure from its use. \n",
    "\n",
    "We tackle the search for side-effects associated with using Cymbalta and having hypertension using the query:  \n",
    "* `PhenotypicFeature` hypertension  &rarr; results:`Disease` &larr; `ChemicalSubstance` Cymbalta. \n",
    "    * Note that we use the `PhenotypicFeature` entity for hypertension and `Disease` as the intermediate node type to represent disease symptoms and drug effects. With the current APIs available and issues around BioThings type annotation (PhenotypicFeatures vs Diseases), it made more sense to use these types for these nodes.  \n",
    "* The query will return a graph object with entities as nodes and relationships as edges. We then use edge provenance information to **filter** the results. For each intermediate Disease node, we use the number of unique paths from the input nodes to that node to **score** it. The scores can then be used to sort the results.    "
   ]
  },
  {
   "cell_type": "markdown",
   "metadata": {},
   "source": [
    "## Step 0: Load BTE modules, notebook functions"
   ]
  },
  {
   "cell_type": "code",
   "execution_count": null,
   "metadata": {},
   "outputs": [],
   "source": [
    "## for Google Colab\n",
    "%%capture\n",
    "!pip install git+https://github.com/colleenXu/biothings_explorer@relay#egg=biothings_explorer"
   ]
  },
  {
   "cell_type": "code",
   "execution_count": 1,
   "metadata": {
    "ExecuteTime": {
     "end_time": "2020-09-20T04:16:59.880457Z",
     "start_time": "2020-09-20T04:16:59.016498Z"
    }
   },
   "outputs": [],
   "source": [
    "## CX: allows multiple lines of code to print from one code block\n",
    "from IPython.core.interactiveshell import InteractiveShell\n",
    "InteractiveShell.ast_node_interactivity = \"all\"\n",
    "\n",
    "# import modules from biothings_explorer\n",
    "from biothings_explorer.hint import Hint\n",
    "from biothings_explorer.user_query_dispatcher import FindConnection\n",
    "\n",
    "## show time that this notebook was executed \n",
    "from datetime import datetime\n",
    "\n",
    "## packages to work with objects \n",
    "import re\n",
    "\n",
    "## to get around bugs\n",
    "import nest_asyncio\n",
    "nest_asyncio.apply()"
   ]
  },
  {
   "cell_type": "code",
   "execution_count": 2,
   "metadata": {
    "ExecuteTime": {
     "end_time": "2020-09-20T04:17:00.472801Z",
     "start_time": "2020-09-20T04:17:00.467722Z"
    }
   },
   "outputs": [],
   "source": [
    "## functions to add to modules?\n",
    "def hint_display(query, hint_result):\n",
    "    \"\"\"\n",
    "    show the type, name, number of IDs for all results returned by the query\n",
    "    \n",
    "    :param: query: string used in hint query\n",
    "    :param: hint_result: object returned from hint query, a dictionary of lists of dictionaries\n",
    "    \n",
    "    Returns: None\n",
    "    \"\"\"\n",
    "    ## function needs to be rewritten if it's going to give the exact index of each object within its type \n",
    "    display = ['type', 'name']  ## replace with the parts of the BioThings object you want to see\n",
    "    concise_results = []\n",
    "    for BT_type, result in hint_result.items():\n",
    "        if result:  ## basically if it's not empty\n",
    "            for items in result:\n",
    "                ## number of identifiers per object: number of keys - 4 (name, primary, display, type)\n",
    "                temp = len(items) - 4\n",
    "                concise_results.append((items[display[0]], items[display[1]], \n",
    "                                         str(temp)))\n",
    "                    \n",
    "    print('There are {total} BioThings objects returned for {ht}:'.format(\\\n",
    "                total = len(concise_results), ht = query))\n",
    "    for display_info in concise_results:\n",
    "        print('{0}, {1}, num of IDs: {2}'.format(display_info[0], display_info[1], display_info[2]))"
   ]
  },
  {
   "cell_type": "code",
   "execution_count": 3,
   "metadata": {
    "ExecuteTime": {
     "end_time": "2020-09-20T04:17:01.122987Z",
     "start_time": "2020-09-20T04:17:01.118624Z"
    }
   },
   "outputs": [],
   "source": [
    "def filter_table(df):\n",
    "    \"\"\"\n",
    "    use _source and _method columns to remove rows (paths) from the dataframe\n",
    "    :param: pandas dataframe containing results from BTE FindConnection module, in table form\n",
    "    \n",
    "    Returns: filtered dataframe\n",
    "    \"\"\"\n",
    "    ## note: still needs checking with EXPLAIN queries\n",
    "    ## key is the string to match to column, value is a list of strings to match to column values\n",
    "    filter_out = {'_source': ['SEMMED', 'CTD', 'ctd', 'omia']   \n",
    "#                   '_method': []  ## currently no method stuff I want to filter out\n",
    "                 }\n",
    "    ## SEMMED: text mining results wrong for PhenotypicFeature -> Gene\n",
    "    ## CTD/ctd: results odd for MSUD -> ChemicalSubstance\n",
    "    ## omia: results wrong or discontinued gene IDs for PhenotypicFeature -> Gene\n",
    "    \n",
    "    \n",
    "    df_temp = df.copy()  ## so the original df isn't modified in-place\n",
    "    for key,val in filter_out.items():\n",
    "        ## find columns that match the key string\n",
    "        columns = [i for i in df_temp.columns if key in i]\n",
    "        ## iterate through each column\n",
    "        for col in columns:\n",
    "            ## iterate through each value to take out, check if string CONTAINS match. \n",
    "            ## only keep rows that don't contain the value\n",
    "            for i in val:\n",
    "                df_temp = df_temp[~ df_temp[col].str.contains(i, na = False)]\n",
    "    return df_temp"
   ]
  },
  {
   "cell_type": "code",
   "execution_count": 17,
   "metadata": {
    "ExecuteTime": {
     "end_time": "2020-09-20T04:23:12.067629Z",
     "start_time": "2020-09-20T04:23:12.059616Z"
    }
   },
   "outputs": [],
   "source": [
    "def scoring_output(df, q_type):\n",
    "    \"\"\"\n",
    "    score results based on whether query was Predict or Explain type, number of \n",
    "        intermediate nodes \n",
    "    :param: pandas dataframe containing results from BTE FindConnection module\n",
    "    :param: string describing type of query (Predict or Explain)\n",
    "    \n",
    "    May flatten some edges, because score only counts one edge per \n",
    "        unique predicate / API / method (ignoring source and pubmed col)\n",
    "    \n",
    "    Predict queries: score each output node by counting # of paths\n",
    "        from input nodes to it. Normalize by dividing by maximum\n",
    "        possible # of paths\n",
    "    Explain two-hop (one intermediate) queries: score each intermediate node by \n",
    "        counting # of paths (between input and output nodes) that include it. \n",
    "        Normalize by dividing by maximum possible # of paths    \n",
    "\n",
    "    Explain one-hop (direct) queries: no need to score, prints message\n",
    "    Other Explain queries (many-hops): currently not able to score, prints message     \n",
    "    \n",
    "    Returns: pandas series with scores, index is output_name\n",
    "             or None (one-hop or many-hop Explain query)\n",
    "    \"\"\"\n",
    "    df_temp = df.copy()  ## so no chance to mutate this   \n",
    "    flag_direct = False  ## one-hop query or not\n",
    "    ## use df_col to look quicker into columns\n",
    "    df_col = set(df_temp.columns)\n",
    "    \n",
    "    ## ignore source and pubmed col in looking at unique edges \n",
    "    columns_drop = [col for col in df_col if (('_source' in col) or ('_pubmed' in col))]\n",
    "    df_temp.drop(columns = columns_drop, inplace = True)    \n",
    "    df_temp.drop_duplicates(inplace = True)\n",
    "    \n",
    "    ## check if query is one-hop or not\n",
    "    if \"node1_name\" not in df_col:    ## name for first intermediate node layer\n",
    "        flag_direct = True  \n",
    "    \n",
    "    if q_type == 'Explain':\n",
    "        if flag_direct:   # one hop / no intermediates\n",
    "            print('No valid node scoring for one-hop (direct) Explain queries.')\n",
    "            return None\n",
    "        ## if there are many-hops/intermediate layers\n",
    "        elif \"node2_name\" in df_col:  ## name for 2nd intermed. node layer\n",
    "            print('Cannot currently score many-hop Explain queries.')\n",
    "            return None\n",
    "        else:   ## two-hop / 1 intermediate layer\n",
    "            ## count multi-edges to results (the intermediate node1 col)\n",
    "            scores = df_temp.node1_name.value_counts() \n",
    "            ## to find the maximum-possible number of edges, look at non-result cols\n",
    "            columns_drop = [col for col in df_col if 'node1' in col]\n",
    "            df_temp.drop(columns = columns_drop, inplace = True)\n",
    "            ## now look at number of unique combos for input, edge info, output\n",
    "            df_temp.drop_duplicates(inplace = True)\n",
    "            max_paths = df_temp.shape[0]            \n",
    "            ## normalize scores by dividing each by max number of paths\n",
    "            scores = scores / max_paths\n",
    "\n",
    "    else:  ## Predict type query\n",
    "        ## count multi-edges to results (the output col)\n",
    "        scores = df_temp.output_name.value_counts()\n",
    "        ## to find the maximum number of multi-edges, look at non-output col\n",
    "        columns_drop = [col for col in df_temp.columns if 'output' in col]\n",
    "        df_temp.drop(columns = columns_drop, inplace = True)\n",
    "        ## now look at number of unique paths possible\n",
    "        df_temp.drop_duplicates(inplace = True)\n",
    "        max_paths = df_temp.shape[0]\n",
    "        ## normalize scores by dividing each by max number of paths\n",
    "        scores = scores / max_paths\n",
    "            \n",
    "    ## return scores as pandas dataframe, with rank\n",
    "    scores = scores.to_frame(name = 'score') \n",
    "    scores['rank'] = scores['score'].rank(method = 'dense', ascending = False)\n",
    "    return scores"
   ]
  },
  {
   "cell_type": "code",
   "execution_count": 5,
   "metadata": {
    "ExecuteTime": {
     "end_time": "2020-09-20T04:17:03.741081Z",
     "start_time": "2020-09-20T04:17:03.736818Z"
    }
   },
   "outputs": [
    {
     "name": "stdout",
     "output_type": "stream",
     "text": [
      "The time that this notebook was executed is...\n",
      "Local time (PST, West Coast USA): \n",
      "2020-09-19 21:17:03.738341\n",
      "UTC time: \n",
      "2020-09-20 04:17:03.738776\n"
     ]
    }
   ],
   "source": [
    "## record when cell blocks are executed\n",
    "print('The time that this notebook was executed is...')\n",
    "print('Local time (PST, West Coast USA): ')\n",
    "print(datetime.now())\n",
    "print('UTC time: ')\n",
    "print(datetime.utcnow())"
   ]
  },
  {
   "cell_type": "markdown",
   "metadata": {},
   "source": [
    "## Step 1: Find representation of \"hypertension\" in BTE"
   ]
  },
  {
   "cell_type": "markdown",
   "metadata": {},
   "source": [
    "In this step, BioThings Explorer translates our query string \"hypertension\"  into BioThings objects, which contain mappings to many common identifiers. We then pick the BioThings object that best matches what we want (the rare disease). \n",
    "\n",
    "Generally, the top result returned by the Hint module for your BioThings type of interest will match what you want, but you should confirm that using the identifiers shown. \n",
    "\n",
    "\n",
    "> BioThings types correspond to children and descendants of [BiologicalEntity](https://biolink.github.io/biolink-model/docs/BiologicalEntity.html) from the [Biolink Model](https://biolink.github.io/biolink-model/docs/), including `Disease` (e.g., \"lupus\"), `ChemicalSubstance` (e.g., \"acetaminophen\"), `Gene` (e.g., \"CDK2\"), `BiologicalProcess` (e.g., \"T cell differentiation\"), and `Pathway` (e.g., \"Citric acid cycle\"). **However, [only a subset of the Biolink BiologicalEntity children / descendants are currently implemented in BTE](https://smart-api.info/portal/translator/metakg)**. More biomedical object types will be available as more knowledge sources (APIs) are added to the system. **Note that the type `BiologicalEntity` means any BioThings type currently implemented in BTE will be accepted.**"
   ]
  },
  {
   "cell_type": "code",
   "execution_count": 6,
   "metadata": {
    "ExecuteTime": {
     "end_time": "2020-09-20T04:17:55.033066Z",
     "start_time": "2020-09-20T04:17:54.784401Z"
    },
    "scrolled": true
   },
   "outputs": [
    {
     "name": "stdout",
     "output_type": "stream",
     "text": [
      "There are 15 BioThings objects returned for hypertension:\n",
      "Gene, hypertension with brachydactyly, num of IDs: 2\n",
      "Gene, hypertension, essential, susceptibility to, 8, num of IDs: 2\n",
      "Gene, Hypertension, essential, susceptibility to, 6, num of IDs: 2\n",
      "Gene, Renal failure, progressive, with hypertension, num of IDs: 2\n",
      "Gene, Hypertension, essential, susceptibility to, 2, num of IDs: 2\n",
      "Disease, essential hypertension, num of IDs: 4\n",
      "Disease, malignant essential hypertension, num of IDs: 3\n",
      "Disease, renovascular hypertension (disease), num of IDs: 4\n",
      "Disease, benign essential hypertension, num of IDs: 3\n",
      "Disease, preeclampsia, num of IDs: 4\n",
      "PhenotypicFeature, Hypertension, num of IDs: 3\n",
      "PhenotypicFeature, Renovascular hypertension, num of IDs: 3\n",
      "PhenotypicFeature, Maternal hypertension, num of IDs: 2\n",
      "PhenotypicFeature, Portal hypertension, num of IDs: 3\n",
      "PhenotypicFeature, Episodic hypertension, num of IDs: 2\n"
     ]
    }
   ],
   "source": [
    "ht = Hint()  ## neater way to call this BTE module\n",
    "\n",
    "## the human user gives this input\n",
    "diseaseOrPheno_starting_str = \"hypertension\"\n",
    "\n",
    "diseaseOrPheno_hint = ht.query(diseaseOrPheno_starting_str)\n",
    "\n",
    "hint_display(diseaseOrPheno_starting_str, diseaseOrPheno_hint)"
   ]
  },
  {
   "cell_type": "markdown",
   "metadata": {},
   "source": [
    "Based on the information above, we'll pick the top `PhenotypicFeature` choice (indexed at 0) for our query. We can look at identifier mappings inside this BioThings object. \n",
    "\n",
    "Note that the query didn't work when picking the top `Disease` choice (essential hypertension). "
   ]
  },
  {
   "cell_type": "code",
   "execution_count": 7,
   "metadata": {
    "ExecuteTime": {
     "end_time": "2020-09-20T04:18:24.209257Z",
     "start_time": "2020-09-20T04:18:24.198899Z"
    }
   },
   "outputs": [
    {
     "data": {
      "text/plain": [
       "{'UMLS': 'C0020538',\n",
       " 'HP': 'HP:0000822',\n",
       " 'MESH': 'D006973',\n",
       " 'name': 'Hypertension',\n",
       " 'primary': {'identifier': 'UMLS',\n",
       "  'cls': 'PhenotypicFeature',\n",
       "  'value': 'C0020538'},\n",
       " 'display': 'UMLS(C0020538) HP(HP:0000822) MESH(D006973) name(Hypertension)',\n",
       " 'type': 'PhenotypicFeature'}"
      ]
     },
     "execution_count": 7,
     "metadata": {},
     "output_type": "execute_result"
    }
   ],
   "source": [
    "## the human user makes this choice, gives this input\n",
    "diseaseOrPheno_choice_type = 'PhenotypicFeature'\n",
    "diseaseOrPheno_choice_idx = 0\n",
    "\n",
    "diseaseOrPheno_hint_obj = diseaseOrPheno_hint[diseaseOrPheno_choice_type][diseaseOrPheno_choice_idx]  \n",
    "diseaseOrPheno_hint_obj"
   ]
  },
  {
   "cell_type": "markdown",
   "metadata": {},
   "source": [
    "## Step 2: Find representation of \"Cymbalta\" in BTE"
   ]
  },
  {
   "cell_type": "markdown",
   "metadata": {},
   "source": [
    "In this step, BioThings Explorer translates our query string \"Cymbalta\"  into BioThings objects, which contain mappings to many common identifiers. We then pick the BioThings object that best matches what we want (the rare disease). \n",
    "\n",
    "Generally, the top result returned by the Hint module for your BioThings type of interest will match what you want, but you should confirm that using the identifiers shown. \n",
    "\n",
    "\n",
    "> BioThings types correspond to children and descendants of [BiologicalEntity](https://biolink.github.io/biolink-model/docs/BiologicalEntity.html) from the [Biolink Model](https://biolink.github.io/biolink-model/docs/), including `Disease` (e.g., \"lupus\"), `ChemicalSubstance` (e.g., \"acetaminophen\"), `Gene` (e.g., \"CDK2\"), `BiologicalProcess` (e.g., \"T cell differentiation\"), and `Pathway` (e.g., \"Citric acid cycle\"). **However, [only a subset of the Biolink BiologicalEntity children / descendants are currently implemented in BTE](https://smart-api.info/portal/translator/metakg)**. More biomedical object types will be available as more knowledge sources (APIs) are added to the system. **Note that the type `BiologicalEntity` means any BioThings type currently implemented in BTE will be accepted.**"
   ]
  },
  {
   "cell_type": "code",
   "execution_count": 8,
   "metadata": {
    "ExecuteTime": {
     "end_time": "2020-09-20T04:18:38.614381Z",
     "start_time": "2020-09-20T04:18:38.394878Z"
    },
    "scrolled": true
   },
   "outputs": [
    {
     "name": "stdout",
     "output_type": "stream",
     "text": [
      "There are 4 BioThings objects returned for Cymbalta:\n",
      "ChemicalSubstance, (S)-duloxetine hydrochloride, num of IDs: 5\n",
      "ChemicalSubstance, Cymbalta, num of IDs: 2\n",
      "ChemicalSubstance, DULOXETINE, num of IDs: 12\n",
      "ChemicalSubstance, DULOXETINE HYDROCHLORIDE, num of IDs: 11\n"
     ]
    }
   ],
   "source": [
    "## the human user gives this input\n",
    "drug_starting_str = \"Cymbalta\"\n",
    "\n",
    "drug_hint = ht.query(drug_starting_str)\n",
    "hint_display(drug_starting_str, drug_hint)"
   ]
  },
  {
   "cell_type": "markdown",
   "metadata": {},
   "source": [
    "All of these `ChemicalSubstance` entries seem to be the right object. We'll pick the `ChemicalSubstance` choice with the most identifiers (indexed at 2) for our query. We can look at identifier mappings inside this BioThings object. "
   ]
  },
  {
   "cell_type": "code",
   "execution_count": 9,
   "metadata": {
    "ExecuteTime": {
     "end_time": "2020-09-20T04:19:35.350844Z",
     "start_time": "2020-09-20T04:19:35.346155Z"
    }
   },
   "outputs": [
    {
     "data": {
      "text/plain": [
       "{'CHEMBL.COMPOUND': 'CHEMBL1175',\n",
       " 'DRUGBANK': 'DB00476',\n",
       " 'PUBCHEM': 60835,\n",
       " 'CHEBI': 'CHEBI:36795',\n",
       " 'UMLS': 'C1505021',\n",
       " 'MESH': 'D000068736',\n",
       " 'UNII': '9044SC542W',\n",
       " 'INCHIKEY': 'ZEUITGRIYCTCEM-KRWDZBQOSA-N',\n",
       " 'INCHI': 'InChI=1S/C18H19NOS/c1-19-12-11-17(18-10-5-13-21-18)20-16-9-4-7-14-6-2-3-8-15(14)16/h2-10,13,17,19H,11-12H2,1H3/t17-/m0/s1',\n",
       " 'name': 'DULOXETINE',\n",
       " 'CAS': '116539-59-4',\n",
       " 'IUPAC': 'methyl-[(3S)-3-(1-naphthoxy)-3-(2-thienyl)propyl]amine',\n",
       " 'formula': 'C18H19NOS',\n",
       " 'primary': {'identifier': 'CHEBI',\n",
       "  'cls': 'ChemicalSubstance',\n",
       "  'value': 'CHEBI:36795'},\n",
       " 'display': 'CHEBI(CHEBI:36795) CHEMBL.COMPOUND(CHEMBL1175) DRUGBANK(DB00476) PUBCHEM(60835) MESH(D000068736) UNII(9044SC542W) UMLS(C1505021) name(DULOXETINE) CAS(116539-59-4) IUPAC(methyl-[(3S)-3-(1-naphthoxy)-3-(2-thienyl)propyl]amine) formula(C18H19NOS)',\n",
       " 'type': 'ChemicalSubstance'}"
      ]
     },
     "execution_count": 9,
     "metadata": {},
     "output_type": "execute_result"
    }
   ],
   "source": [
    "## the human user makes this choice, gives this input\n",
    "drug_choice_type = 'ChemicalSubstance'\n",
    "drug_choice_idx = 2\n",
    "\n",
    "drug_hint_obj = drug_hint[drug_choice_type][drug_choice_idx]  \n",
    "drug_hint_obj"
   ]
  },
  {
   "cell_type": "markdown",
   "metadata": {},
   "source": [
    "## Step 3: hypertension &rarr; Disease &larr; Cymbalta"
   ]
  },
  {
   "cell_type": "markdown",
   "metadata": {},
   "source": [
    "In this section, we dynamically generate a knowledge graph with paths connecting the PhenotypicFeature hypertension and the drug Cymbalta to Diseases (symptoms / side effects).  \n",
    "\n",
    "BTE performs the **query path planning** and **query path execution** by deconstructing the query into individual API calls, executing those API calls, and then assembling the results.\n",
    "\n",
    "The code block below takes ~5 seconds to run. "
   ]
  },
  {
   "cell_type": "code",
   "execution_count": 10,
   "metadata": {
    "ExecuteTime": {
     "end_time": "2020-09-20T04:19:56.031763Z",
     "start_time": "2020-09-20T04:19:51.853968Z"
    }
   },
   "outputs": [
    {
     "name": "stdout",
     "output_type": "stream",
     "text": [
      "API 2.2 semmed_phenotype failed\n",
      "API 2.8 semmed_phenotype failed\n",
      "API 2.6 semmed_phenotype failed\n",
      "API 2.1 semmed_phenotype failed\n",
      "API 2.16 semmed_phenotype failed\n",
      "API 2.19 semmed_phenotype failed\n",
      "API 2.18 semmed_phenotype failed\n",
      "API 2.17 semmed_phenotype failed\n",
      "API 2.4 semmed_phenotype failed\n",
      "API 2.15 semmed_phenotype failed\n",
      "API 2.3 semmed_phenotype failed\n",
      "API 2.5 semmed_phenotype failed\n",
      "API 2.12 semmed_phenotype failed\n",
      "API 2.14 semmed_phenotype failed\n",
      "API 2.7 semmed_phenotype failed\n",
      "API 2.13 semmed_phenotype failed\n",
      "API 2.9 semmed_phenotype failed\n",
      "API 2.11 semmed_phenotype failed\n",
      "API 2.10 semmed_phenotype failed\n",
      "API 2.2 pharos failed\n",
      "API 2.1 pharos failed\n"
     ]
    }
   ],
   "source": [
    "## the human user gives this input\n",
    "q1_intermediate = 'Disease'\n",
    "\n",
    "q1 = FindConnection(input_obj = diseaseOrPheno_hint_obj,\\\n",
    "                    output_obj = drug_hint_obj, \\\n",
    "                    intermediate_nodes = q1_intermediate)\n",
    "q1.connect(verbose = False)"
   ]
  },
  {
   "cell_type": "code",
   "execution_count": 11,
   "metadata": {
    "ExecuteTime": {
     "end_time": "2020-09-20T04:21:47.234041Z",
     "start_time": "2020-09-20T04:21:47.215139Z"
    }
   },
   "outputs": [],
   "source": [
    "q1_r_paths_table = q1.display_table_view()\n",
    "\n",
    "q1_type = re.findall(\"dispatcher.([a-zA-Z]+)'\", str(type(q1.fc)))\n",
    "q1_type = \"\".join(q1_type)  ## convert to string\n",
    "\n",
    "q1 = None  ## clear memory"
   ]
  },
  {
   "cell_type": "markdown",
   "metadata": {},
   "source": [
    "We can see the number of Diseases that were linked to both hypertension and to Cymbalta and the total number of paths from the hypertension node to the Cymbalta node."
   ]
  },
  {
   "cell_type": "code",
   "execution_count": 12,
   "metadata": {
    "ExecuteTime": {
     "end_time": "2020-09-20T04:22:03.923983Z",
     "start_time": "2020-09-20T04:22:03.919839Z"
    }
   },
   "outputs": [
    {
     "name": "stdout",
     "output_type": "stream",
     "text": [
      "There are 2 unique Diseases linked to both hypertension and Cymbalta.\n",
      "There are 3 unique paths between hypertension and Cymbalta.\n"
     ]
    }
   ],
   "source": [
    "## show number of unique intermediate nodes\n",
    "print(\"There are {0} unique {1}s linked to both {2} and {3}.\".format( \\\n",
    "    q1_r_paths_table.node1_name.nunique(), q1_intermediate, diseaseOrPheno_starting_str, drug_starting_str))\n",
    "\n",
    "## show number of paths from hypertension to cymbalta\n",
    "print(\"There are {0} unique paths between {1} and {2}.\".format( \\\n",
    "    q1_r_paths_table.shape[0], diseaseOrPheno_starting_str, drug_starting_str))"
   ]
  },
  {
   "cell_type": "markdown",
   "metadata": {},
   "source": [
    "### Filtering and scoring"
   ]
  },
  {
   "cell_type": "markdown",
   "metadata": {},
   "source": [
    "Filtering involves using edge provenance, like the source this relationship came from and the method used to make this association, to filter out edges (removing nodes in the process). "
   ]
  },
  {
   "cell_type": "code",
   "execution_count": 13,
   "metadata": {
    "ExecuteTime": {
     "end_time": "2020-09-20T04:22:07.599918Z",
     "start_time": "2020-09-20T04:22:07.589992Z"
    }
   },
   "outputs": [
    {
     "name": "stdout",
     "output_type": "stream",
     "text": [
      "There are 2 unique paths.\n"
     ]
    }
   ],
   "source": [
    "q1_r_paths_table = filter_table(q1_r_paths_table)\n",
    "\n",
    "## show number of paths from MSUD to genes\n",
    "print(\"There are {0} unique paths.\".format( \\\n",
    "    q1_r_paths_table.shape[0]))"
   ]
  },
  {
   "cell_type": "markdown",
   "metadata": {},
   "source": [
    "The scoring process for two-hop Explain queries (the type of query we're using now, has one intermediate step): \n",
    "\n",
    "1. To score individual intermediate nodes (Diseases), we first take a copy of the knowledge graph (KG) and remove some multi-edges. \n",
    "    * Each edge has predicate, API, method, source, and pubmed information. For scoring purposes, we will ignore pubmed and source information because APIs handle this information differently (returning multiple edges or single edges). \n",
    "2. We then count the number of edges to each intermediate node (from hypertension and Cymbalta nodes).        \n",
    "3. Finally, we \"normalize\" the score by dividing those counts by maximum-possible number of edges to an intermediate node (from hypertension and Cymbalta nodes).\n",
    "\n",
    "We can then see the top-scored intermediate nodes. A score of closer to 1 means that the many relationships link this node to hypertension and Cymbalta. A score closer to 0 means that only a few relationships link this node to hypertension and Cymbalta. "
   ]
  },
  {
   "cell_type": "code",
   "execution_count": 18,
   "metadata": {
    "ExecuteTime": {
     "end_time": "2020-09-20T04:23:16.011067Z",
     "start_time": "2020-09-20T04:23:15.995024Z"
    }
   },
   "outputs": [
    {
     "data": {
      "text/html": [
       "<div>\n",
       "<style scoped>\n",
       "    .dataframe tbody tr th:only-of-type {\n",
       "        vertical-align: middle;\n",
       "    }\n",
       "\n",
       "    .dataframe tbody tr th {\n",
       "        vertical-align: top;\n",
       "    }\n",
       "\n",
       "    .dataframe thead th {\n",
       "        text-align: right;\n",
       "    }\n",
       "</style>\n",
       "<table border=\"1\" class=\"dataframe\">\n",
       "  <thead>\n",
       "    <tr style=\"text-align: right;\">\n",
       "      <th></th>\n",
       "      <th>score</th>\n",
       "      <th>rank</th>\n",
       "    </tr>\n",
       "  </thead>\n",
       "  <tbody>\n",
       "    <tr>\n",
       "      <th>HIGH BLOOD PRESSURE</th>\n",
       "      <td>1.0</td>\n",
       "      <td>1.0</td>\n",
       "    </tr>\n",
       "    <tr>\n",
       "      <th>NEUROLEPTIC MALIGNANT SYNDROME</th>\n",
       "      <td>1.0</td>\n",
       "      <td>1.0</td>\n",
       "    </tr>\n",
       "  </tbody>\n",
       "</table>\n",
       "</div>"
      ],
      "text/plain": [
       "                                score  rank\n",
       "HIGH BLOOD PRESSURE               1.0   1.0\n",
       "NEUROLEPTIC MALIGNANT SYNDROME    1.0   1.0"
      ]
     },
     "execution_count": 18,
     "metadata": {},
     "output_type": "execute_result"
    }
   ],
   "source": [
    "## create scoring table for results\n",
    "q1_scoring = scoring_output(q1_r_paths_table, q1_type)\n",
    "\n",
    "q1_scoring.head(10)"
   ]
  },
  {
   "cell_type": "markdown",
   "metadata": {},
   "source": [
    "Different knowledge sources (APIs) were called in different parts of the query. \n",
    "\n",
    "In the first part of the query (hypertension &rarr; Disease), the following APIs returned results and the following predicates (semantic relationships) were found."
   ]
  },
  {
   "cell_type": "code",
   "execution_count": 19,
   "metadata": {
    "ExecuteTime": {
     "end_time": "2020-09-20T04:23:19.020461Z",
     "start_time": "2020-09-20T04:23:19.009628Z"
    }
   },
   "outputs": [
    {
     "data": {
      "text/html": [
       "<div>\n",
       "<style scoped>\n",
       "    .dataframe tbody tr th:only-of-type {\n",
       "        vertical-align: middle;\n",
       "    }\n",
       "\n",
       "    .dataframe tbody tr th {\n",
       "        vertical-align: top;\n",
       "    }\n",
       "\n",
       "    .dataframe thead th {\n",
       "        text-align: right;\n",
       "    }\n",
       "</style>\n",
       "<table border=\"1\" class=\"dataframe\">\n",
       "  <thead>\n",
       "    <tr style=\"text-align: right;\">\n",
       "      <th></th>\n",
       "      <th>pred1_api</th>\n",
       "      <th>pred1</th>\n",
       "    </tr>\n",
       "  </thead>\n",
       "  <tbody>\n",
       "    <tr>\n",
       "      <th>1</th>\n",
       "      <td>BioLink API</td>\n",
       "      <td>related_to</td>\n",
       "    </tr>\n",
       "  </tbody>\n",
       "</table>\n",
       "</div>"
      ],
      "text/plain": [
       "     pred1_api       pred1\n",
       "1  BioLink API  related_to"
      ]
     },
     "execution_count": 19,
     "metadata": {},
     "output_type": "execute_result"
    }
   ],
   "source": [
    "## show that the APIs use different predicates\n",
    "q1_r_paths_table[['pred1_api', 'pred1']].drop_duplicates().sort_values(by = ['pred1_api', 'pred1'])"
   ]
  },
  {
   "cell_type": "markdown",
   "metadata": {},
   "source": [
    "In the second part of the query (Cymbalta &rarr; Disease), the following APIs returned results and the following predicates (semantic relationships) were found."
   ]
  },
  {
   "cell_type": "code",
   "execution_count": 20,
   "metadata": {
    "ExecuteTime": {
     "end_time": "2020-09-20T04:23:21.132783Z",
     "start_time": "2020-09-20T04:23:21.120762Z"
    }
   },
   "outputs": [
    {
     "data": {
      "text/html": [
       "<div>\n",
       "<style scoped>\n",
       "    .dataframe tbody tr th:only-of-type {\n",
       "        vertical-align: middle;\n",
       "    }\n",
       "\n",
       "    .dataframe tbody tr th {\n",
       "        vertical-align: top;\n",
       "    }\n",
       "\n",
       "    .dataframe thead th {\n",
       "        text-align: right;\n",
       "    }\n",
       "</style>\n",
       "<table border=\"1\" class=\"dataframe\">\n",
       "  <thead>\n",
       "    <tr style=\"text-align: right;\">\n",
       "      <th></th>\n",
       "      <th>pred2_api</th>\n",
       "      <th>pred2</th>\n",
       "    </tr>\n",
       "  </thead>\n",
       "  <tbody>\n",
       "    <tr>\n",
       "      <th>1</th>\n",
       "      <td>MyChem.info API</td>\n",
       "      <td>contraindication</td>\n",
       "    </tr>\n",
       "  </tbody>\n",
       "</table>\n",
       "</div>"
      ],
      "text/plain": [
       "         pred2_api             pred2\n",
       "1  MyChem.info API  contraindication"
      ]
     },
     "execution_count": 20,
     "metadata": {},
     "output_type": "execute_result"
    }
   ],
   "source": [
    "## show that the APIs use different predicates\n",
    "q1_r_paths_table[['pred2_api', 'pred2']].drop_duplicates().sort_values(by = ['pred2_api', 'pred2'])"
   ]
  },
  {
   "cell_type": "markdown",
   "metadata": {},
   "source": [
    "Still in progress: adding the scores/ranks and provenance to the Reasoner Standard (TRAPI) object that will be returned to the ARS. \n",
    "* likely provenance will include score's range, method, what is a good score (larger or smaller numbers)"
   ]
  },
  {
   "cell_type": "markdown",
   "metadata": {},
   "source": [
    "## Evaluate results"
   ]
  },
  {
   "cell_type": "code",
   "execution_count": 21,
   "metadata": {
    "ExecuteTime": {
     "end_time": "2020-09-20T04:23:54.448113Z",
     "start_time": "2020-09-20T04:23:54.431591Z"
    }
   },
   "outputs": [
    {
     "data": {
      "text/html": [
       "<div>\n",
       "<style scoped>\n",
       "    .dataframe tbody tr th:only-of-type {\n",
       "        vertical-align: middle;\n",
       "    }\n",
       "\n",
       "    .dataframe tbody tr th {\n",
       "        vertical-align: top;\n",
       "    }\n",
       "\n",
       "    .dataframe thead th {\n",
       "        text-align: right;\n",
       "    }\n",
       "</style>\n",
       "<table border=\"1\" class=\"dataframe\">\n",
       "  <thead>\n",
       "    <tr style=\"text-align: right;\">\n",
       "      <th></th>\n",
       "      <th>input</th>\n",
       "      <th>input_type</th>\n",
       "      <th>pred1</th>\n",
       "      <th>pred1_source</th>\n",
       "      <th>pred1_api</th>\n",
       "      <th>pred1_pubmed</th>\n",
       "      <th>node1_type</th>\n",
       "      <th>node1_name</th>\n",
       "      <th>node1_id</th>\n",
       "      <th>pred2</th>\n",
       "      <th>pred2_source</th>\n",
       "      <th>pred2_api</th>\n",
       "      <th>pred2_pubmed</th>\n",
       "      <th>output_type</th>\n",
       "      <th>output_name</th>\n",
       "      <th>output_id</th>\n",
       "    </tr>\n",
       "  </thead>\n",
       "  <tbody>\n",
       "    <tr>\n",
       "      <th>1</th>\n",
       "      <td>HIGH BLOOD PRESSURE</td>\n",
       "      <td>PhenotypicFeature</td>\n",
       "      <td>related_to</td>\n",
       "      <td>None</td>\n",
       "      <td>BioLink API</td>\n",
       "      <td>None</td>\n",
       "      <td>Disease</td>\n",
       "      <td>HIGH BLOOD PRESSURE</td>\n",
       "      <td>MONDO:MONDO:0005044</td>\n",
       "      <td>contraindication</td>\n",
       "      <td>drugcentral</td>\n",
       "      <td>MyChem.info API</td>\n",
       "      <td>None</td>\n",
       "      <td>Disease</td>\n",
       "      <td>(3S)-N-METHYL-3-(1-NAPHTHYLOXY)-3-(2-THIENYL)P...</td>\n",
       "      <td>name:(3S)-N-METHYL-3-(1-NAPHTHYLOXY)-3-(2-THIE...</td>\n",
       "    </tr>\n",
       "    <tr>\n",
       "      <th>2</th>\n",
       "      <td>HIGH BLOOD PRESSURE</td>\n",
       "      <td>PhenotypicFeature</td>\n",
       "      <td>related_to</td>\n",
       "      <td>None</td>\n",
       "      <td>BioLink API</td>\n",
       "      <td>None</td>\n",
       "      <td>Disease</td>\n",
       "      <td>NEUROLEPTIC MALIGNANT SYNDROME</td>\n",
       "      <td>MONDO:MONDO:0019790</td>\n",
       "      <td>contraindication</td>\n",
       "      <td>drugcentral</td>\n",
       "      <td>MyChem.info API</td>\n",
       "      <td>None</td>\n",
       "      <td>Disease</td>\n",
       "      <td>(3S)-N-METHYL-3-(1-NAPHTHYLOXY)-3-(2-THIENYL)P...</td>\n",
       "      <td>name:(3S)-N-METHYL-3-(1-NAPHTHYLOXY)-3-(2-THIE...</td>\n",
       "    </tr>\n",
       "  </tbody>\n",
       "</table>\n",
       "</div>"
      ],
      "text/plain": [
       "                 input         input_type       pred1 pred1_source  \\\n",
       "1  HIGH BLOOD PRESSURE  PhenotypicFeature  related_to         None   \n",
       "2  HIGH BLOOD PRESSURE  PhenotypicFeature  related_to         None   \n",
       "\n",
       "     pred1_api pred1_pubmed node1_type                      node1_name  \\\n",
       "1  BioLink API         None    Disease             HIGH BLOOD PRESSURE   \n",
       "2  BioLink API         None    Disease  NEUROLEPTIC MALIGNANT SYNDROME   \n",
       "\n",
       "              node1_id             pred2 pred2_source        pred2_api  \\\n",
       "1  MONDO:MONDO:0005044  contraindication  drugcentral  MyChem.info API   \n",
       "2  MONDO:MONDO:0019790  contraindication  drugcentral  MyChem.info API   \n",
       "\n",
       "  pred2_pubmed output_type                                        output_name  \\\n",
       "1         None     Disease  (3S)-N-METHYL-3-(1-NAPHTHYLOXY)-3-(2-THIENYL)P...   \n",
       "2         None     Disease  (3S)-N-METHYL-3-(1-NAPHTHYLOXY)-3-(2-THIENYL)P...   \n",
       "\n",
       "                                           output_id  \n",
       "1  name:(3S)-N-METHYL-3-(1-NAPHTHYLOXY)-3-(2-THIE...  \n",
       "2  name:(3S)-N-METHYL-3-(1-NAPHTHYLOXY)-3-(2-THIE...  "
      ]
     },
     "execution_count": 21,
     "metadata": {},
     "output_type": "execute_result"
    }
   ],
   "source": [
    "q1_r_paths_table"
   ]
  },
  {
   "cell_type": "markdown",
   "metadata": {},
   "source": [
    "**BTE's results*** include two **potential adverse side effects** of using Cymbalta that are related to hypertension. \n",
    "1. **BTE successfully identifies [high blood pressure (and therefore hypertension) as an adverse side effect of Cymbalta (using the contraindication predicate)](https://www.accessdata.fda.gov/drugsatfda_docs/label/2007/021427s009s011s013lbl.pdf).** \n",
    "2. Surprisingly, BTE identifies another potential adverse side effect: [neuroleptic malignant syndrome (NMS)](https://www.ninds.nih.gov/Disorders/All-Disorders/Neuroleptic-Malignant-Syndrome-Information-Page). NMS symptoms can include unstable blood pressure (this is the likely connection to high blood pressure). At first glance, it is surprising to link this syndrome with Cymbalta because this syndrome is rare and normally associated with neuroleptic or antipsychotic drugs (Cymbalta is neither of those). However, a search revealed that this association may be valid.\n",
    "    * [Serotonergic agents like Cymbalta may enhance adverse effects and the dopamine blockade of antipsychotic agents, so a person taking both classes of drugs may be at increased risk for neuroleptic malignant syndrome ](https://www.drugs.com/ppa/duloxetine.html)\n",
    "    * Related to the point above, [a case report linked sudden duloxetine *withdrawal* and antipsychotic medication treatment with neuroleptic malignant syndrome](https://n.neurology.org/content/88/16_Supplement/P2.219).\n",
    "    * [A few case reports have linked venlafaxine use (another drug in the SNRI class, like duloxetine) with neuroleptic malignant syndrome](https://pubmed.ncbi.nlm.nih.gov/?term=neuroleptic+malignant+syndrome+venlafaxine)\n",
    "    \n",
    "*Note that the actual BTE results (diseases identified and their scores) vary because BTE dynamically generates its knowledge graph from current API results. "
   ]
  },
  {
   "cell_type": "code",
   "execution_count": null,
   "metadata": {},
   "outputs": [],
   "source": []
  }
 ],
 "metadata": {
  "kernelspec": {
   "display_name": "Python 3",
   "language": "python",
   "name": "python3"
  },
  "language_info": {
   "codemirror_mode": {
    "name": "ipython",
    "version": 3
   },
   "file_extension": ".py",
   "mimetype": "text/x-python",
   "name": "python",
   "nbconvert_exporter": "python",
   "pygments_lexer": "ipython3",
   "version": "3.7.9"
  },
  "toc": {
   "base_numbering": 1,
   "nav_menu": {},
   "number_sections": true,
   "sideBar": true,
   "skip_h1_title": true,
   "title_cell": "Table of Contents",
   "title_sidebar": "Contents",
   "toc_cell": false,
   "toc_position": {
    "height": "calc(100% - 180px)",
    "left": "10px",
    "top": "150px",
    "width": "261.567px"
   },
   "toc_section_display": true,
   "toc_window_display": true
  },
  "varInspector": {
   "cols": {
    "lenName": 16,
    "lenType": 16,
    "lenVar": 40
   },
   "kernels_config": {
    "python": {
     "delete_cmd_postfix": "",
     "delete_cmd_prefix": "del ",
     "library": "var_list.py",
     "varRefreshCmd": "print(var_dic_list())"
    },
    "r": {
     "delete_cmd_postfix": ") ",
     "delete_cmd_prefix": "rm(",
     "library": "var_list.r",
     "varRefreshCmd": "cat(var_dic_list()) "
    }
   },
   "types_to_exclude": [
    "module",
    "function",
    "builtin_function_or_method",
    "instance",
    "_Feature"
   ],
   "window_display": false
  }
 },
 "nbformat": 4,
 "nbformat_minor": 4
}
