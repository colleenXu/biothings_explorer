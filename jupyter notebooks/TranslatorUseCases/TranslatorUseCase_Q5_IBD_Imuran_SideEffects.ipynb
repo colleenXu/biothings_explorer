{
 "cells": [
  {
   "cell_type": "markdown",
   "metadata": {},
   "source": [
    "# Translator Use Case Question 5: IBD, Imuran, and side effects"
   ]
  },
  {
   "cell_type": "markdown",
   "metadata": {},
   "source": [
    "## Understanding the question"
   ]
  },
  {
   "cell_type": "markdown",
   "metadata": {},
   "source": [
    "**To experiment with an executable version of this notebook, [load it in Google Colaboratory](https://colab.research.google.com/github/colleenXu/biothings_explorer/blob/relay/jupyter%20notebooks/TranslatorUseCases/TranslatorUseCase_Q5_IBD_Imuran_SideEffects.ipynb).**\n",
    "\n",
    "The Translator Use Case Question #5 is:    \n",
    "\n",
    "> If a patient with disease X is treated off-label with drug Y, what are some potential side effects?\n",
    "\n",
    "We interpret the Translator Use Case Question to be about **unintended drug-disease interactions**. These occur when a drug has an unintended effect on a person due to the person’s existing medical conditions. \n",
    "* The interaction could be beneficial: for example, a person taking [lorazepam](https://www.drugs.com/ppa/lorazepam.html) for nighttime anxiety may also experience drowsiness (a common side effect), which may help them with their insomnia. \n",
    "* On the other hand, the interaction could be harmful: for example, a person with peptic ulcers may want to take [ibuprofen](https://www.drugs.com/ppa/ibuprofen.html) for a headache. However, NSAIDS can increase the risk of serious gastrointestinal inflammation, ulceration, bleeding, and perforation, especially for people with a history of GI ulcers or current GI ulcers. Some adverse drug-disease interactions, like the example here, are described in formal drug warnings and contraindications.\n",
    "\n",
    "We notice that unintended drug-disease interactions occur in more contexts than off-label drug use. They can also occur when the drug is used following its label-indication and in [the context of comorbidity / multimorbidity](https://www.bmj.com/content/350/bmj.h949), when a person is taking a drug to treat one of their diseases and the drug affects a comorbid condition.\n",
    "\n",
    "**We therefore decided to reframe this question and find potential unintended drug-disease interactions with the following type of question:**\n",
    "> What symptoms do `Disease` X and `ChemicalSubstance` Y have in common? \n",
    "\n",
    "BioThings Explorer (BTE) can answer two classes of queries -- \"EXPLAIN\" and \"PREDICT\". This Question fits the EXPLAIN  template of starting with **a specific biomedical entity** (a specific `Disease` X) and finding indirect relationships with **another specific biomedical entity** (a specific `ChemicalSubstance` Y)."
   ]
  },
  {
   "cell_type": "markdown",
   "metadata": {},
   "source": [
    "## Specific use case: IBD treatment linked to cancer "
   ]
  },
  {
   "cell_type": "markdown",
   "metadata": {},
   "source": [
    "We will use **inflammatory bowel disease (IBD)** as our specific disease of interest. We will use **Imuran** as our drug of interest. [Imuran / azathioprine](https://www.uptodate.com/contents/azathioprine-drug-information) has been [commonly used **off-label** to treat Crohn disease (a form of IBD)](https://www.mayoclinic.org/diseases-conditions/crohns-disease/diagnosis-treatment/drc-20353309). \n",
    "  \n",
    "However, the use of Imuran to treat IBD has been linked to hepatosplenic T-cell lymphoma (HSTCL) and other lymphomas (references [1](https://pubmed.ncbi.nlm.nih.gov/20888436/), [2](https://pubmed.ncbi.nlm.nih.gov/21830262/), [3](https://pubmed.ncbi.nlm.nih.gov/23891975/) and [4](https://www.ncbi.nlm.nih.gov/pmc/articles/PMC3710465/)). In particular, [hepatosplenic T-cell lymphoma is a rare, aggressive, and usually fatal disease](https://pubmed.ncbi.nlm.nih.gov/29337025/). This serious adverse effect is made clear in the black box warning for [Imuran](https://www.drugs.com/pro/imuran.html). \n",
    "\n",
    "We tackle the search for side-effects associated with using Imuran to treat IBD using the query: \n",
    "* `Disease` Crohn disease  &rarr; results:`Disease` &larr; `ChemicalSubstance` Imuran. \n",
    "    * Note that we use `Disease` as the intermediate node type to represent disease symptoms and drug effects. With the current APIs available and issues around BioThings type annotation (PhenotypicFeatures vs Diseases), it made more sense to use Disease as the intermediate node. \n",
    "* The query will return a graph object with entities as nodes and relationships as edges. We then use edge provenance information to **filter** the results. For each intermediate Disease node, we use the number of unique paths from the input nodes to that node to **score** it. The scores can then be used to sort the results.  \n",
    "\n",
    "<br>\n",
    "\n",
    "Note 1: This example was inspired by the [information shared by Jeff McKnight], [a molecular biology researcher](http://molbio.uoregon.edu/mcknight/) who is currently fighting hepatosplenic T-cell lymphoma after 16 years of taking Imuran and Remicade to treat Crohn disease. To help, he has a [fundraiser here](https://www.gofundme.com/f/mcknight-fund-help-jeff-buy-time-with-his-family). \n",
    "\n",
    "Note 2: many of those with IBD, this drug treatment, and this cancer are [men < 40 years old](https://www.ncbi.nlm.nih.gov/pmc/articles/PMC3710465/). Jeff may be in this age group. "
   ]
  },
  {
   "cell_type": "markdown",
   "metadata": {},
   "source": [
    "## Step 0: Load BTE modules, notebook functions"
   ]
  },
  {
   "cell_type": "code",
   "execution_count": null,
   "metadata": {
    "ExecuteTime": {
     "end_time": "2020-09-20T04:26:05.448374Z",
     "start_time": "2020-09-20T04:26:05.443765Z"
    }
   },
   "outputs": [],
   "source": [
    "## for Google Colab\n",
    "%%capture\n",
    "!pip install git+https://github.com/colleenXu/biothings_explorer@relay#egg=biothings_explorer"
   ]
  },
  {
   "cell_type": "code",
   "execution_count": 1,
   "metadata": {
    "ExecuteTime": {
     "end_time": "2020-09-29T01:30:36.606617Z",
     "start_time": "2020-09-29T01:30:36.003638Z"
    }
   },
   "outputs": [],
   "source": [
    "## CX: allows multiple lines of code to print from one code block\n",
    "from IPython.core.interactiveshell import InteractiveShell\n",
    "InteractiveShell.ast_node_interactivity = \"all\"\n",
    "\n",
    "# import modules from biothings_explorer\n",
    "from biothings_explorer.hint import Hint\n",
    "from biothings_explorer.user_query_dispatcher import FindConnection\n",
    "\n",
    "## show time that this notebook was executed \n",
    "from datetime import datetime\n",
    "\n",
    "## packages to work with objects \n",
    "import re\n",
    "\n",
    "## to get around bugs\n",
    "import nest_asyncio\n",
    "nest_asyncio.apply()"
   ]
  },
  {
   "cell_type": "code",
   "execution_count": 2,
   "metadata": {
    "ExecuteTime": {
     "end_time": "2020-09-29T01:30:37.245536Z",
     "start_time": "2020-09-29T01:30:37.240210Z"
    }
   },
   "outputs": [],
   "source": [
    "## functions to add to modules?\n",
    "def hint_display(query, hint_result):\n",
    "    \"\"\"\n",
    "    show the type, name, number of IDs for all results returned by the query\n",
    "    \n",
    "    :param: query: string used in hint query\n",
    "    :param: hint_result: object returned from hint query, a dictionary of lists of dictionaries\n",
    "    \n",
    "    Returns: None\n",
    "    \"\"\"\n",
    "    ## function needs to be rewritten if it's going to give the exact index of each object within its type \n",
    "    display = ['type', 'name']  ## replace with the parts of the BioThings object you want to see\n",
    "    concise_results = []\n",
    "    for BT_type, result in hint_result.items():\n",
    "        if result:  ## basically if it's not empty\n",
    "            for items in result:\n",
    "                ## number of identifiers per object: number of keys - 4 (name, primary, display, type)\n",
    "                temp = len(items) - 4\n",
    "                concise_results.append((items[display[0]], items[display[1]], \n",
    "                                         str(temp)))\n",
    "                    \n",
    "    print('There are {total} BioThings objects returned for {ht}:'.format(\\\n",
    "                total = len(concise_results), ht = query))\n",
    "    for display_info in concise_results:\n",
    "        print('{0}, {1}, num of IDs: {2}'.format(display_info[0], display_info[1], display_info[2]))"
   ]
  },
  {
   "cell_type": "code",
   "execution_count": 3,
   "metadata": {
    "ExecuteTime": {
     "end_time": "2020-09-29T01:30:37.625550Z",
     "start_time": "2020-09-29T01:30:37.621245Z"
    }
   },
   "outputs": [],
   "source": [
    "def filter_table(df):\n",
    "    \"\"\"\n",
    "    use _source and _method columns to remove rows (paths) from the dataframe\n",
    "    works with Explain and Predict queries\n",
    "    :param: pandas dataframe containing results from BTE FindConnection module, in table form\n",
    "    \n",
    "    Returns: filtered dataframe\n",
    "    \"\"\"\n",
    "    ## key is the string to match to column, value is a list of strings to match to column values\n",
    "    filter_out = {'_source': ['SEMMED', 'CTD', 'ctd', 'omia']   \n",
    "#                   '_method': []  ## currently no method stuff I want to filter out\n",
    "                 }\n",
    "    ## SEMMED: text mining results wrong for PhenotypicFeature -> Gene\n",
    "    ## CTD/ctd: results odd for MSUD -> ChemicalSubstance\n",
    "    ## omia: results wrong or discontinued gene IDs for PhenotypicFeature -> Gene\n",
    "    \n",
    "    \n",
    "    df_temp = df.copy()  ## so the original df isn't modified in-place\n",
    "    for key,val in filter_out.items():\n",
    "        ## find columns that match the key string\n",
    "        columns = [i for i in df_temp.columns if key in i]\n",
    "        ## iterate through each column\n",
    "        for col in columns:\n",
    "            ## iterate through each value to take out, check if string CONTAINS match. \n",
    "            ## only keep rows that don't contain the value\n",
    "            for i in val:\n",
    "                df_temp = df_temp[~ df_temp[col].str.contains(i, na = False)]\n",
    "\n",
    "    return df_temp"
   ]
  },
  {
   "cell_type": "code",
   "execution_count": 4,
   "metadata": {
    "ExecuteTime": {
     "end_time": "2020-09-29T01:30:38.007745Z",
     "start_time": "2020-09-29T01:30:37.998896Z"
    }
   },
   "outputs": [],
   "source": [
    "def scoring_output(df, q_type):\n",
    "    \"\"\"\n",
    "    score results based on whether query was Predict or Explain type, number of \n",
    "        intermediate nodes \n",
    "    :param: pandas dataframe containing results from BTE FindConnection module\n",
    "    :param: string describing type of query (Predict or Explain)\n",
    "    \n",
    "    May flatten some edges, because score only counts one edge per \n",
    "        unique predicate / API / method (ignoring source and pubmed col)\n",
    "    \n",
    "    Predict queries: score each output node by counting # of paths\n",
    "        from input nodes to it. Normalize by dividing by maximum\n",
    "        possible # of paths\n",
    "    Explain two-hop (one intermediate) queries: score each intermediate node by \n",
    "        counting # of paths (between input and output nodes) that include it. \n",
    "        Normalize by dividing by maximum possible # of paths    \n",
    "\n",
    "    Explain one-hop (direct) queries: no need to score, prints message\n",
    "    Other Explain queries (many-hops): currently not able to score, prints message     \n",
    "    \n",
    "    Returns: pandas series with scores, index is output_name\n",
    "             or None (one-hop or many-hop Explain query)\n",
    "    \"\"\"\n",
    "    df_temp = df.copy()  ## so no chance to mutate this   \n",
    "    flag_direct = False  ## one-hop query or not\n",
    "    ## use df_col to look quicker into columns\n",
    "    df_col = set(df_temp.columns)\n",
    "    \n",
    "    ## ignore source and pubmed col in looking at unique edges \n",
    "    columns_drop = [col for col in df_col if (('_source' in col) or ('_pubmed' in col))]\n",
    "    df_temp.drop(columns = columns_drop, inplace = True)    \n",
    "    df_temp.drop_duplicates(inplace = True)\n",
    "    \n",
    "    ## check if query is one-hop or not\n",
    "    if \"node1_name\" not in df_col:    ## name for first intermediate node layer\n",
    "        flag_direct = True  \n",
    "    \n",
    "    if q_type == 'Explain':\n",
    "        if flag_direct:   # one hop / no intermediates\n",
    "            print('No valid node scoring for one-hop (direct) Explain queries.')\n",
    "            return None\n",
    "        ## if there are many-hops/intermediate layers\n",
    "        elif \"node2_name\" in df_col:  ## name for 2nd intermed. node layer\n",
    "            print('Cannot currently score many-hop Explain queries.')\n",
    "            return None\n",
    "        else:   ## two-hop / 1 intermediate layer\n",
    "            ## count multi-edges to results (the intermediate node1 col)\n",
    "            scores = df_temp.node1_name.value_counts() \n",
    "            ## to find the maximum-possible number of edges, look at non-result cols\n",
    "            columns_drop = [col for col in df_col if 'node1' in col]\n",
    "            df_temp.drop(columns = columns_drop, inplace = True)\n",
    "            ## now look at number of unique combos for input, edge info, output\n",
    "            df_temp.drop_duplicates(inplace = True)\n",
    "            max_paths = df_temp.shape[0]            \n",
    "            ## normalize scores by dividing each by max number of paths\n",
    "            scores = scores / max_paths\n",
    "\n",
    "    else:  ## Predict type query\n",
    "        ## count multi-edges to results (the output col)\n",
    "        scores = df_temp.output_name.value_counts()\n",
    "        ## to find the maximum number of multi-edges, look at non-output col\n",
    "        columns_drop = [col for col in df_temp.columns if 'output' in col]\n",
    "        df_temp.drop(columns = columns_drop, inplace = True)\n",
    "        ## now look at number of unique paths possible\n",
    "        df_temp.drop_duplicates(inplace = True)\n",
    "        max_paths = df_temp.shape[0]\n",
    "        ## normalize scores by dividing each by max number of paths\n",
    "        scores = scores / max_paths\n",
    "            \n",
    "    ## return scores as pandas dataframe, with rank\n",
    "    scores = scores.to_frame(name = 'score') \n",
    "    scores['rank'] = scores['score'].rank(method = 'dense', ascending = False)\n",
    "    return scores"
   ]
  },
  {
   "cell_type": "code",
   "execution_count": 5,
   "metadata": {
    "ExecuteTime": {
     "end_time": "2020-09-29T01:30:38.462848Z",
     "start_time": "2020-09-29T01:30:38.458320Z"
    }
   },
   "outputs": [
    {
     "name": "stdout",
     "output_type": "stream",
     "text": [
      "The time that this notebook was executed is...\n",
      "Local time (PST, West Coast USA): \n",
      "2020-09-28 18:30:38.459729\n",
      "UTC time: \n",
      "2020-09-29 01:30:38.460184\n"
     ]
    }
   ],
   "source": [
    "## record when cell blocks are executed\n",
    "print('The time that this notebook was executed is...')\n",
    "print('Local time (PST, West Coast USA): ')\n",
    "print(datetime.now())\n",
    "print('UTC time: ')\n",
    "print(datetime.utcnow())"
   ]
  },
  {
   "cell_type": "markdown",
   "metadata": {},
   "source": [
    "## Step 1: Find representation of \"inflammatory bowel disease\" in BTE"
   ]
  },
  {
   "cell_type": "markdown",
   "metadata": {},
   "source": [
    "In this step, BioThings Explorer translates our query string \"IBD\"  into BioThings objects, which contain mappings to many common identifiers. We then pick the BioThings object that best matches what we want (inflammatory bowel disease). \n",
    "\n",
    "Note: the query failed to retrieve Disease &rarr; PhenotypicFeatures for Crohn disease (a child of IBD in the Mondo ontology).\n",
    "\n",
    "Generally, the top result returned by the Hint module for your BioThings type of interest will match what you want, but you should confirm that using the identifiers shown. \n",
    "\n",
    "\n",
    "> BioThings types correspond to children and descendants of [BiologicalEntity](https://biolink.github.io/biolink-model/docs/BiologicalEntity.html) from the [Biolink Model](https://biolink.github.io/biolink-model/docs/), including `Disease` (e.g., \"lupus\"), `ChemicalSubstance` (e.g., \"acetaminophen\"), `Gene` (e.g., \"CDK2\"), `BiologicalProcess` (e.g., \"T cell differentiation\"), and `Pathway` (e.g., \"Citric acid cycle\"). **However, [only a subset of the Biolink BiologicalEntity children / descendants are currently implemented in BTE](https://smart-api.info/portal/translator/metakg)**. More biomedical object types will be available as more knowledge sources (APIs) are added to the system. **Note that the type `BiologicalEntity` means any BioThings type currently implemented in BTE will be accepted.**"
   ]
  },
  {
   "cell_type": "code",
   "execution_count": 7,
   "metadata": {
    "ExecuteTime": {
     "end_time": "2020-09-29T01:30:52.497933Z",
     "start_time": "2020-09-29T01:30:52.322475Z"
    },
    "scrolled": true
   },
   "outputs": [
    {
     "name": "stdout",
     "output_type": "stream",
     "text": [
      "There are 12 BioThings objects returned for IBD:\n",
      "ChemicalSubstance, IBD-78, num of IDs: 2\n",
      "ChemicalSubstance, IBD-78, (Z)-, num of IDs: 6\n",
      "ChemicalSubstance, IBD-78 HYDROCHLORIDE, num of IDs: 2\n",
      "ChemicalSubstance, IBD-78 ACETATE, num of IDs: 2\n",
      "ChemicalSubstance, IBD-78, (E)-, num of IDs: 6\n",
      "Disease, irritable bowel syndrome, num of IDs: 5\n",
      "Disease, inflammatory bowel disease, num of IDs: 4\n",
      "Disease, IL21-related infantile inflammatory bowel disease, num of IDs: 4\n",
      "Disease, immune dysregulation-inflammatory bowel disease-arthritis-recurrent infections syndrome, num of IDs: 3\n",
      "Disease, multiple intestinal atresia, num of IDs: 6\n",
      "Pathway, Inflammatory bowel disease (IBD) - Homo sapiens (human), num of IDs: 1\n",
      "Pathway, Inflammatory bowel disease (IBD) - Mus musculus (mouse), num of IDs: 1\n"
     ]
    }
   ],
   "source": [
    "ht = Hint()  ## neater way to call this BTE module\n",
    "\n",
    "## the human user gives this input\n",
    "disease_starting_str = \"IBD\"\n",
    "\n",
    "disease_hint = ht.query(disease_starting_str)\n",
    "hint_display(disease_starting_str, disease_hint)"
   ]
  },
  {
   "cell_type": "markdown",
   "metadata": {},
   "source": [
    "Based on the information above, we'll pick the second `Disease` choice (indexed at 1) for our query because we want inflammatory bowel disease. We can look at identifier mappings inside this BioThings object. "
   ]
  },
  {
   "cell_type": "code",
   "execution_count": 8,
   "metadata": {
    "ExecuteTime": {
     "end_time": "2020-09-29T01:31:16.744998Z",
     "start_time": "2020-09-29T01:31:16.734494Z"
    }
   },
   "outputs": [
    {
     "data": {
      "text/plain": [
       "{'MONDO': 'MONDO:0005265',\n",
       " 'DOID': 'DOID:0050589',\n",
       " 'UMLS': 'C0021390',\n",
       " 'name': 'inflammatory bowel disease',\n",
       " 'MESH': 'D015212',\n",
       " 'primary': {'identifier': 'MONDO',\n",
       "  'cls': 'Disease',\n",
       "  'value': 'MONDO:0005265'},\n",
       " 'display': 'MONDO(MONDO:0005265) DOID(DOID:0050589) UMLS(C0021390) MESH(D015212) name(inflammatory bowel disease)',\n",
       " 'type': 'Disease'}"
      ]
     },
     "execution_count": 8,
     "metadata": {},
     "output_type": "execute_result"
    }
   ],
   "source": [
    "## the human user makes this choice, gives this input\n",
    "disease_choice_type = 'Disease'\n",
    "disease_choice_idx = 1\n",
    "\n",
    "disease_hint_obj = disease_hint[disease_choice_type][disease_choice_idx]  \n",
    "disease_hint_obj"
   ]
  },
  {
   "cell_type": "markdown",
   "metadata": {},
   "source": [
    "## Step 2: Find representation of \"Imuran\" in BTE"
   ]
  },
  {
   "cell_type": "markdown",
   "metadata": {},
   "source": [
    "In this step, BioThings Explorer translates our query string \"Imuran\"  into BioThings objects, which contain mappings to many common identifiers. We then pick the BioThings object that best matches what we want (the drug, also known as azathioprine). "
   ]
  },
  {
   "cell_type": "code",
   "execution_count": 9,
   "metadata": {
    "ExecuteTime": {
     "end_time": "2020-09-29T01:31:39.780668Z",
     "start_time": "2020-09-29T01:31:39.526635Z"
    },
    "scrolled": true
   },
   "outputs": [
    {
     "name": "stdout",
     "output_type": "stream",
     "text": [
      "There are 4 BioThings objects returned for Imuran:\n",
      "ChemicalSubstance, azathioprine, num of IDs: 6\n",
      "ChemicalSubstance, Imuran, num of IDs: 2\n",
      "ChemicalSubstance, AZATHIOPRINE SODIUM, num of IDs: 8\n",
      "ChemicalSubstance, AZATHIOPRINE, num of IDs: 13\n"
     ]
    }
   ],
   "source": [
    "## the human user gives this input\n",
    "drug_starting_str = \"Imuran\"\n",
    "\n",
    "drug_hint = ht.query(drug_starting_str)\n",
    "hint_display(drug_starting_str, drug_hint)"
   ]
  },
  {
   "cell_type": "markdown",
   "metadata": {},
   "source": [
    "All of these `ChemicalSubstance` entries seem to be the right object. We'll pick the entry with the most identifiers (indexed at 3) for our query. We can look at identifier mappings inside this BioThings object. "
   ]
  },
  {
   "cell_type": "code",
   "execution_count": 10,
   "metadata": {
    "ExecuteTime": {
     "end_time": "2020-09-29T01:31:44.881822Z",
     "start_time": "2020-09-29T01:31:44.877237Z"
    }
   },
   "outputs": [
    {
     "data": {
      "text/plain": [
       "{'CHEMBL.COMPOUND': 'CHEMBL1542',\n",
       " 'DRUGBANK': 'DB00993',\n",
       " 'PUBCHEM': 2265,\n",
       " 'CHEBI': 'CHEBI:2948',\n",
       " 'UMLS': 'C0004482',\n",
       " 'MESH': 'D001379',\n",
       " 'UNII': 'AM94R510MS',\n",
       " 'INCHIKEY': 'LMEKQMALGUDUQG-UHFFFAOYSA-N',\n",
       " 'INCHI': 'InChI=1S/C9H7N7O2S/c1-15-4-14-7(16(17)18)9(15)19-8-5-6(11-2-10-5)12-3-13-8/h2-4H,1H3,(H,10,11,12,13)',\n",
       " 'KEGG': 'C06837',\n",
       " 'name': 'AZATHIOPRINE',\n",
       " 'CAS': '446-86-6',\n",
       " 'IUPAC': '6-[(3-methyl-5-nitro-imidazol-4-yl)thio]-7H-purine',\n",
       " 'formula': 'C9H7N7O2S',\n",
       " 'primary': {'identifier': 'CHEBI',\n",
       "  'cls': 'ChemicalSubstance',\n",
       "  'value': 'CHEBI:2948'},\n",
       " 'display': 'CHEBI(CHEBI:2948) CHEMBL.COMPOUND(CHEMBL1542) DRUGBANK(DB00993) PUBCHEM(2265) MESH(D001379) UNII(AM94R510MS) UMLS(C0004482) name(AZATHIOPRINE) CAS(446-86-6) IUPAC(6-[(3-methyl-5-nitro-imidazol-4-yl)thio]-7H-purine) formula(C9H7N7O2S)',\n",
       " 'type': 'ChemicalSubstance'}"
      ]
     },
     "execution_count": 10,
     "metadata": {},
     "output_type": "execute_result"
    }
   ],
   "source": [
    "## the human user makes this choice, gives this input\n",
    "drug_choice_type = 'ChemicalSubstance'\n",
    "drug_choice_idx = 3\n",
    "\n",
    "drug_hint_obj = drug_hint[drug_choice_type][drug_choice_idx]  \n",
    "drug_hint_obj"
   ]
  },
  {
   "cell_type": "markdown",
   "metadata": {},
   "source": [
    "## Step 3: IBD &rarr; Disease &larr; Imuran"
   ]
  },
  {
   "cell_type": "markdown",
   "metadata": {},
   "source": [
    "In this section, we dynamically generate a knowledge graph with paths connecting inflammatory bowel disease (IBD) and the drug Imuran to `Diseases` (symptoms / side effects). We will then look at the `Diseases` that have relationships with both IBD and Imuran. \n",
    "\n",
    "BTE performs the **query path planning** and **query path execution** by deconstructing the query into individual API calls, executing those API calls, and then assembling the results.\n",
    "\n",
    "The code block below takes ~5 seconds to run. "
   ]
  },
  {
   "cell_type": "code",
   "execution_count": 11,
   "metadata": {
    "ExecuteTime": {
     "end_time": "2020-09-29T01:31:54.445513Z",
     "start_time": "2020-09-29T01:31:49.672060Z"
    }
   },
   "outputs": [
    {
     "name": "stdout",
     "output_type": "stream",
     "text": [
      "API 3.1 pharos failed\n"
     ]
    }
   ],
   "source": [
    "## the human user gives this input\n",
    "q1_intermediate = 'Disease'\n",
    "\n",
    "q1 = FindConnection(input_obj = disease_hint_obj,\\\n",
    "                     output_obj = drug_hint_obj, \\\n",
    "                    intermediate_nodes = q1_intermediate)\n",
    "q1.connect(verbose = False)"
   ]
  },
  {
   "cell_type": "code",
   "execution_count": 12,
   "metadata": {
    "ExecuteTime": {
     "end_time": "2020-09-29T01:31:55.851328Z",
     "start_time": "2020-09-29T01:31:55.792881Z"
    }
   },
   "outputs": [],
   "source": [
    "q1_r_paths_table = q1.display_table_view()\n",
    "\n",
    "q1_type = re.findall(\"dispatcher.([a-zA-Z]+)'\", str(type(q1.fc)))\n",
    "q1_type = \"\".join(q1_type)  ## convert to string\n",
    "\n",
    "q1 = None  ## clear memory"
   ]
  },
  {
   "cell_type": "markdown",
   "metadata": {},
   "source": [
    "We can see the number of Diseases that were linked to both IBD and to Imuran and the total number of paths from the IBD node to the Imuran node."
   ]
  },
  {
   "cell_type": "code",
   "execution_count": 13,
   "metadata": {
    "ExecuteTime": {
     "end_time": "2020-09-29T01:31:57.557618Z",
     "start_time": "2020-09-29T01:31:57.553327Z"
    }
   },
   "outputs": [
    {
     "name": "stdout",
     "output_type": "stream",
     "text": [
      "There are 334 unique Diseases linked to both IBD and Imuran.\n",
      "There are 1225 unique paths between IBD and Imuran.\n"
     ]
    }
   ],
   "source": [
    "## show number of unique intermediate nodes\n",
    "print(\"There are {0} unique {1}s linked to both {2} and {3}.\".format( \\\n",
    "    q1_r_paths_table.node1_name.nunique(), q1_intermediate, disease_starting_str, drug_starting_str))\n",
    "\n",
    "## show number of paths from IBD to Imuran\n",
    "print(\"There are {0} unique paths between {1} and {2}.\".format( \\\n",
    "    q1_r_paths_table.shape[0], disease_starting_str, drug_starting_str))"
   ]
  },
  {
   "cell_type": "markdown",
   "metadata": {},
   "source": [
    "### Filtering and scoring"
   ]
  },
  {
   "cell_type": "markdown",
   "metadata": {},
   "source": [
    "Filtering involves using edge provenance, like the source this relationship came from and the method used to make this association, to filter out edges (removing nodes in the process). "
   ]
  },
  {
   "cell_type": "code",
   "execution_count": 14,
   "metadata": {
    "ExecuteTime": {
     "end_time": "2020-09-29T01:31:59.541319Z",
     "start_time": "2020-09-29T01:31:59.531083Z"
    }
   },
   "outputs": [],
   "source": [
    "q1_r_paths_table = filter_table(q1_r_paths_table)"
   ]
  },
  {
   "cell_type": "markdown",
   "metadata": {},
   "source": [
    "After filtering, there are fewer results in the answer knowledge graph. "
   ]
  },
  {
   "cell_type": "code",
   "execution_count": 15,
   "metadata": {
    "ExecuteTime": {
     "end_time": "2020-09-29T01:32:00.846683Z",
     "start_time": "2020-09-29T01:32:00.842526Z"
    }
   },
   "outputs": [
    {
     "name": "stdout",
     "output_type": "stream",
     "text": [
      "There are 46 unique Diseases linked to both IBD and Imuran.\n",
      "There are 55 unique paths between IBD and Imuran.\n"
     ]
    }
   ],
   "source": [
    "## show number of unique intermediate nodes\n",
    "print(\"There are {0} unique {1}s linked to both {2} and {3}.\".format( \\\n",
    "    q1_r_paths_table.node1_name.nunique(), q1_intermediate, disease_starting_str, drug_starting_str))\n",
    "\n",
    "## show number of paths from IBD to Imuran\n",
    "print(\"There are {0} unique paths between {1} and {2}.\".format( \\\n",
    "    q1_r_paths_table.shape[0], disease_starting_str, drug_starting_str))"
   ]
  },
  {
   "cell_type": "markdown",
   "metadata": {},
   "source": [
    "The scoring process for two-hop Explain queries (the type of query we're using now, has one intermediate step): \n",
    "\n",
    "1. To score individual intermediate nodes (Diseases), we first take a copy of the knowledge graph (KG) and remove some multi-edges. \n",
    "    * Each edge has predicate, API, method, source, and pubmed information. For scoring purposes, we will ignore pubmed and source information because APIs handle this information differently (returning multiple edges or single edges). \n",
    "2. We then count the number of edges to each intermediate node (from IBD and Imuran nodes).        \n",
    "3. Finally, we \"normalize\" the score by dividing those counts by maximum-possible number of edges to an intermediate node (from IBD and Imuran nodes).\n",
    "\n",
    "We can then see the top-scored intermediate nodes. A score of closer to 1 means that the many relationships link this node to IBD and Imuran. A score closer to 0 means that only a few relationships link this node to IBD and Imuran. "
   ]
  },
  {
   "cell_type": "code",
   "execution_count": 16,
   "metadata": {
    "ExecuteTime": {
     "end_time": "2020-09-29T01:32:03.223584Z",
     "start_time": "2020-09-29T01:32:03.203569Z"
    }
   },
   "outputs": [
    {
     "data": {
      "text/html": [
       "<div>\n",
       "<style scoped>\n",
       "    .dataframe tbody tr th:only-of-type {\n",
       "        vertical-align: middle;\n",
       "    }\n",
       "\n",
       "    .dataframe tbody tr th {\n",
       "        vertical-align: top;\n",
       "    }\n",
       "\n",
       "    .dataframe thead th {\n",
       "        text-align: right;\n",
       "    }\n",
       "</style>\n",
       "<table border=\"1\" class=\"dataframe\">\n",
       "  <thead>\n",
       "    <tr style=\"text-align: right;\">\n",
       "      <th></th>\n",
       "      <th>score</th>\n",
       "      <th>rank</th>\n",
       "    </tr>\n",
       "  </thead>\n",
       "  <tbody>\n",
       "    <tr>\n",
       "      <th>CROHN DISEASE</th>\n",
       "      <td>0.571429</td>\n",
       "      <td>1.0</td>\n",
       "    </tr>\n",
       "    <tr>\n",
       "      <th>LYMPHOID CANCER</th>\n",
       "      <td>0.428571</td>\n",
       "      <td>2.0</td>\n",
       "    </tr>\n",
       "    <tr>\n",
       "      <th>DISEASE OF LIVER</th>\n",
       "      <td>0.285714</td>\n",
       "      <td>3.0</td>\n",
       "    </tr>\n",
       "    <tr>\n",
       "      <th>ARTHRITIS OR POLYARTHRITIS, RHEUMATIC</th>\n",
       "      <td>0.285714</td>\n",
       "      <td>3.0</td>\n",
       "    </tr>\n",
       "    <tr>\n",
       "      <th>DISSEMINATED LUPUS ERYTHEMATOSUS</th>\n",
       "      <td>0.285714</td>\n",
       "      <td>3.0</td>\n",
       "    </tr>\n",
       "    <tr>\n",
       "      <th>COLITIS</th>\n",
       "      <td>0.285714</td>\n",
       "      <td>3.0</td>\n",
       "    </tr>\n",
       "    <tr>\n",
       "      <th>AURA</th>\n",
       "      <td>0.142857</td>\n",
       "      <td>4.0</td>\n",
       "    </tr>\n",
       "    <tr>\n",
       "      <th>INFLAMMATION OF PANCREAS</th>\n",
       "      <td>0.142857</td>\n",
       "      <td>4.0</td>\n",
       "    </tr>\n",
       "    <tr>\n",
       "      <th>CHRONIC KIDNEY DISEASE</th>\n",
       "      <td>0.142857</td>\n",
       "      <td>4.0</td>\n",
       "    </tr>\n",
       "    <tr>\n",
       "      <th>BLOOD DISEASE</th>\n",
       "      <td>0.142857</td>\n",
       "      <td>4.0</td>\n",
       "    </tr>\n",
       "  </tbody>\n",
       "</table>\n",
       "</div>"
      ],
      "text/plain": [
       "                                          score  rank\n",
       "CROHN DISEASE                          0.571429   1.0\n",
       "LYMPHOID CANCER                        0.428571   2.0\n",
       "DISEASE OF LIVER                       0.285714   3.0\n",
       "ARTHRITIS OR POLYARTHRITIS, RHEUMATIC  0.285714   3.0\n",
       "DISSEMINATED LUPUS ERYTHEMATOSUS       0.285714   3.0\n",
       "COLITIS                                0.285714   3.0\n",
       "AURA                                   0.142857   4.0\n",
       "INFLAMMATION OF PANCREAS               0.142857   4.0\n",
       "CHRONIC KIDNEY DISEASE                 0.142857   4.0\n",
       "BLOOD DISEASE                          0.142857   4.0"
      ]
     },
     "execution_count": 16,
     "metadata": {},
     "output_type": "execute_result"
    }
   ],
   "source": [
    "## create scoring table for results\n",
    "q1_scoring = scoring_output(q1_r_paths_table, q1_type)\n",
    "\n",
    "q1_scoring.head(10)"
   ]
  },
  {
   "cell_type": "markdown",
   "metadata": {},
   "source": [
    "Different knowledge sources (APIs) were called in different parts of the query. \n",
    "\n",
    "In the first part of the query (IBD &rarr; Disease), the following APIs returned results and the following predicates (semantic relationships) were found."
   ]
  },
  {
   "cell_type": "code",
   "execution_count": 17,
   "metadata": {
    "ExecuteTime": {
     "end_time": "2020-09-29T01:32:09.018065Z",
     "start_time": "2020-09-29T01:32:09.006688Z"
    }
   },
   "outputs": [
    {
     "data": {
      "text/html": [
       "<div>\n",
       "<style scoped>\n",
       "    .dataframe tbody tr th:only-of-type {\n",
       "        vertical-align: middle;\n",
       "    }\n",
       "\n",
       "    .dataframe tbody tr th {\n",
       "        vertical-align: top;\n",
       "    }\n",
       "\n",
       "    .dataframe thead th {\n",
       "        text-align: right;\n",
       "    }\n",
       "</style>\n",
       "<table border=\"1\" class=\"dataframe\">\n",
       "  <thead>\n",
       "    <tr style=\"text-align: right;\">\n",
       "      <th></th>\n",
       "      <th>pred1_api</th>\n",
       "      <th>pred1</th>\n",
       "    </tr>\n",
       "  </thead>\n",
       "  <tbody>\n",
       "    <tr>\n",
       "      <th>363</th>\n",
       "      <td>CORD Disease API</td>\n",
       "      <td>related_to</td>\n",
       "    </tr>\n",
       "    <tr>\n",
       "      <th>589</th>\n",
       "      <td>Ontology Lookup Service API</td>\n",
       "      <td>has_subclass</td>\n",
       "    </tr>\n",
       "  </tbody>\n",
       "</table>\n",
       "</div>"
      ],
      "text/plain": [
       "                       pred1_api         pred1\n",
       "363             CORD Disease API    related_to\n",
       "589  Ontology Lookup Service API  has_subclass"
      ]
     },
     "execution_count": 17,
     "metadata": {},
     "output_type": "execute_result"
    }
   ],
   "source": [
    "## show that the APIs use different predicates\n",
    "q1_r_paths_table[['pred1_api', 'pred1']].drop_duplicates().sort_values(by = ['pred1_api', 'pred1'])"
   ]
  },
  {
   "cell_type": "markdown",
   "metadata": {},
   "source": [
    "In the second part of the query (Imuran &rarr; Disease), the following APIs returned results and the following predicates (semantic relationships) were found."
   ]
  },
  {
   "cell_type": "code",
   "execution_count": 18,
   "metadata": {
    "ExecuteTime": {
     "end_time": "2020-09-29T01:32:10.634651Z",
     "start_time": "2020-09-29T01:32:10.623549Z"
    }
   },
   "outputs": [
    {
     "data": {
      "text/html": [
       "<div>\n",
       "<style scoped>\n",
       "    .dataframe tbody tr th:only-of-type {\n",
       "        vertical-align: middle;\n",
       "    }\n",
       "\n",
       "    .dataframe tbody tr th {\n",
       "        vertical-align: top;\n",
       "    }\n",
       "\n",
       "    .dataframe thead th {\n",
       "        text-align: right;\n",
       "    }\n",
       "</style>\n",
       "<table border=\"1\" class=\"dataframe\">\n",
       "  <thead>\n",
       "    <tr style=\"text-align: right;\">\n",
       "      <th></th>\n",
       "      <th>pred2_api</th>\n",
       "      <th>pred2</th>\n",
       "    </tr>\n",
       "  </thead>\n",
       "  <tbody>\n",
       "    <tr>\n",
       "      <th>776</th>\n",
       "      <td>Automat CORD19 Scibite API</td>\n",
       "      <td>related_to</td>\n",
       "    </tr>\n",
       "    <tr>\n",
       "      <th>367</th>\n",
       "      <td>Automat CORD19 Scigraph API</td>\n",
       "      <td>related_to</td>\n",
       "    </tr>\n",
       "    <tr>\n",
       "      <th>422</th>\n",
       "      <td>CORD Chemical API</td>\n",
       "      <td>related_to</td>\n",
       "    </tr>\n",
       "    <tr>\n",
       "      <th>437</th>\n",
       "      <td>MyChem.info API</td>\n",
       "      <td>contraindication</td>\n",
       "    </tr>\n",
       "    <tr>\n",
       "      <th>363</th>\n",
       "      <td>MyChem.info API</td>\n",
       "      <td>treats</td>\n",
       "    </tr>\n",
       "  </tbody>\n",
       "</table>\n",
       "</div>"
      ],
      "text/plain": [
       "                       pred2_api             pred2\n",
       "776   Automat CORD19 Scibite API        related_to\n",
       "367  Automat CORD19 Scigraph API        related_to\n",
       "422            CORD Chemical API        related_to\n",
       "437              MyChem.info API  contraindication\n",
       "363              MyChem.info API            treats"
      ]
     },
     "execution_count": 18,
     "metadata": {},
     "output_type": "execute_result"
    }
   ],
   "source": [
    "## show that the APIs use different predicates\n",
    "q1_r_paths_table[['pred2_api', 'pred2']].drop_duplicates().sort_values(by = ['pred2_api', 'pred2'])"
   ]
  },
  {
   "cell_type": "markdown",
   "metadata": {},
   "source": [
    "Still in progress: adding the scores/ranks and provenance to the Reasoner Standard (TRAPI) object that will be returned to the ARS. \n",
    "* likely provenance will include score's range, method, what is a good score (larger or smaller numbers)"
   ]
  },
  {
   "cell_type": "markdown",
   "metadata": {},
   "source": [
    "## Evaluate results "
   ]
  },
  {
   "cell_type": "markdown",
   "metadata": {},
   "source": [
    "**BTE's top results (score above 0.2)*** include (1) diseases that are treated with the drug Imuran and are related to IBD, (2) **potential adverse side effects** of using Imuran to treat IBD, and (3) **potential beneficial side effects** of using Imuran to treat IBD. **BTE successfully identifies the connections between Imuran, IBD, and lymphoma that we described above.** \n",
    "\n",
    "*Note that the actual BTE results (diseases identified and their scores) vary because BTE dynamically generates its knowledge graph from current API results. \n",
    "\n",
    "#1: diseases that are treated with the drug Imuran and are related to IBD\n",
    "* [Crohn disease, ulcerative colitis, IBD](https://www.mayoclinic.org/diseases-conditions/crohns-disease/diagnosis-treatment/drc-20353309), [IBD1](https://beta.monarchinitiative.org/disease/MONDO:0009960): all forms of inflammatory bowel disease\n",
    "* [Disseminated / systemic lupus erythematosus aka SLE](https://monarchinitiative.org/disease/MONDO:0007915): [drug-induced lupus has occurred in patients with IBD](https://www.sciencedirect.com/science/article/pii/S1873994612001328), and [Imuran has been used to treat SLE](https://www.hopkinslupus.org/lupus-treatment/lupus-medications/immunosuppressive-medications/)\n",
    "\n",
    "#2: **potential adverse side effects of using Imuran to treat IBD**\n",
    "* [Lymphoid cancer aka lymphoma](https://monarchinitiative.org/disease/MONDO:0005062): as mentioned above, with references [1](https://pubmed.ncbi.nlm.nih.gov/20888436/), [2](https://pubmed.ncbi.nlm.nih.gov/21830262/), [3](https://pubmed.ncbi.nlm.nih.gov/23891975/) and [4](https://www.ncbi.nlm.nih.gov/pmc/articles/PMC3710465/)\n",
    "* [Colitis aka inflammation of the colon](https://www.drugs.com/cg/colitis.html): this can [occur in IBD](https://www.mayoclinic.org/diseases-conditions/inflammatory-bowel-disease/symptoms-causes/syc-20353315) and shares symptoms (nausea, diarrhea, fever, malaise) with [adverse GI side effects of Imuran treatment](https://www.drugs.com/pro/imuran.html#s-34084-4). \n",
    "* Liver disease: [people with IBD can experience liver damage](https://www.crohnscolitisfoundation.org/what-is-ibd/extraintestinal-complications-ibd) and [liver disease affects 3-5% of people with IBD](https://www.merckmanuals.com/professional/gastrointestinal-disorders/inflammatory-bowel-disease-ibd/overview-of-inflammatory-bowel-disease#v894353). [Liver injury is an adverse side effect of Imuran](https://www.ncbi.nlm.nih.gov/pmc/articles/PMC5505863/), and [a recent case report described liver cirrhosis as a potential rare adverse event when using Imuran to treat IBD](https://www.ncbi.nlm.nih.gov/pmc/articles/PMC7008285/).     \n",
    "\n",
    "#3: **potential beneficial side effects of using Imuran to treat IBD**\n",
    "* Rheumatic arthritis or polyarthritis: [arthritis is the most common non-GI complication of IBD](https://www.crohnscolitisfoundation.org/what-is-ibd/extraintestinal-complications-ibd), [although it is not rheumatic arthritis (perhaps a misannotation?)](http://europepmc.org/article/PMC/3424429). Imuran is [indicated for the treatment of active rheumatic arthritis](https://www.drugs.com/pro/imuran.html#s-34067-9) to reduce symptoms. Perhaps Imuran treatment would also reduce the arthritis symptoms in patients with IBD. "
   ]
  },
  {
   "cell_type": "code",
   "execution_count": 19,
   "metadata": {
    "ExecuteTime": {
     "end_time": "2020-09-29T01:32:16.466942Z",
     "start_time": "2020-09-29T01:32:16.459186Z"
    }
   },
   "outputs": [
    {
     "data": {
      "text/html": [
       "<div>\n",
       "<style scoped>\n",
       "    .dataframe tbody tr th:only-of-type {\n",
       "        vertical-align: middle;\n",
       "    }\n",
       "\n",
       "    .dataframe tbody tr th {\n",
       "        vertical-align: top;\n",
       "    }\n",
       "\n",
       "    .dataframe thead th {\n",
       "        text-align: right;\n",
       "    }\n",
       "</style>\n",
       "<table border=\"1\" class=\"dataframe\">\n",
       "  <thead>\n",
       "    <tr style=\"text-align: right;\">\n",
       "      <th></th>\n",
       "      <th>score</th>\n",
       "      <th>rank</th>\n",
       "    </tr>\n",
       "  </thead>\n",
       "  <tbody>\n",
       "    <tr>\n",
       "      <th>CROHN DISEASE</th>\n",
       "      <td>0.571429</td>\n",
       "      <td>1.0</td>\n",
       "    </tr>\n",
       "    <tr>\n",
       "      <th>LYMPHOID CANCER</th>\n",
       "      <td>0.428571</td>\n",
       "      <td>2.0</td>\n",
       "    </tr>\n",
       "    <tr>\n",
       "      <th>DISEASE OF LIVER</th>\n",
       "      <td>0.285714</td>\n",
       "      <td>3.0</td>\n",
       "    </tr>\n",
       "    <tr>\n",
       "      <th>ARTHRITIS OR POLYARTHRITIS, RHEUMATIC</th>\n",
       "      <td>0.285714</td>\n",
       "      <td>3.0</td>\n",
       "    </tr>\n",
       "    <tr>\n",
       "      <th>DISSEMINATED LUPUS ERYTHEMATOSUS</th>\n",
       "      <td>0.285714</td>\n",
       "      <td>3.0</td>\n",
       "    </tr>\n",
       "    <tr>\n",
       "      <th>COLITIS</th>\n",
       "      <td>0.285714</td>\n",
       "      <td>3.0</td>\n",
       "    </tr>\n",
       "    <tr>\n",
       "      <th>AURA</th>\n",
       "      <td>0.142857</td>\n",
       "      <td>4.0</td>\n",
       "    </tr>\n",
       "    <tr>\n",
       "      <th>INFLAMMATION OF PANCREAS</th>\n",
       "      <td>0.142857</td>\n",
       "      <td>4.0</td>\n",
       "    </tr>\n",
       "    <tr>\n",
       "      <th>CHRONIC KIDNEY DISEASE</th>\n",
       "      <td>0.142857</td>\n",
       "      <td>4.0</td>\n",
       "    </tr>\n",
       "    <tr>\n",
       "      <th>BLOOD DISEASE</th>\n",
       "      <td>0.142857</td>\n",
       "      <td>4.0</td>\n",
       "    </tr>\n",
       "  </tbody>\n",
       "</table>\n",
       "</div>"
      ],
      "text/plain": [
       "                                          score  rank\n",
       "CROHN DISEASE                          0.571429   1.0\n",
       "LYMPHOID CANCER                        0.428571   2.0\n",
       "DISEASE OF LIVER                       0.285714   3.0\n",
       "ARTHRITIS OR POLYARTHRITIS, RHEUMATIC  0.285714   3.0\n",
       "DISSEMINATED LUPUS ERYTHEMATOSUS       0.285714   3.0\n",
       "COLITIS                                0.285714   3.0\n",
       "AURA                                   0.142857   4.0\n",
       "INFLAMMATION OF PANCREAS               0.142857   4.0\n",
       "CHRONIC KIDNEY DISEASE                 0.142857   4.0\n",
       "BLOOD DISEASE                          0.142857   4.0"
      ]
     },
     "execution_count": 19,
     "metadata": {},
     "output_type": "execute_result"
    }
   ],
   "source": [
    "q1_scoring.head(10)"
   ]
  },
  {
   "cell_type": "markdown",
   "metadata": {},
   "source": [
    "The table below showing the relationships between IBD, Imuran, and lymphoma shows how multiple API queries were chained together, including results from the Translator Text Mining Provider group. "
   ]
  },
  {
   "cell_type": "code",
   "execution_count": 20,
   "metadata": {
    "ExecuteTime": {
     "end_time": "2020-09-29T01:32:21.009700Z",
     "start_time": "2020-09-29T01:32:20.988527Z"
    }
   },
   "outputs": [
    {
     "data": {
      "text/html": [
       "<div>\n",
       "<style scoped>\n",
       "    .dataframe tbody tr th:only-of-type {\n",
       "        vertical-align: middle;\n",
       "    }\n",
       "\n",
       "    .dataframe tbody tr th {\n",
       "        vertical-align: top;\n",
       "    }\n",
       "\n",
       "    .dataframe thead th {\n",
       "        text-align: right;\n",
       "    }\n",
       "</style>\n",
       "<table border=\"1\" class=\"dataframe\">\n",
       "  <thead>\n",
       "    <tr style=\"text-align: right;\">\n",
       "      <th></th>\n",
       "      <th>input</th>\n",
       "      <th>input_type</th>\n",
       "      <th>pred1</th>\n",
       "      <th>pred1_source</th>\n",
       "      <th>pred1_api</th>\n",
       "      <th>pred1_pubmed</th>\n",
       "      <th>pred1_method</th>\n",
       "      <th>node1_type</th>\n",
       "      <th>node1_name</th>\n",
       "      <th>node1_id</th>\n",
       "      <th>pred2</th>\n",
       "      <th>pred2_source</th>\n",
       "      <th>pred2_api</th>\n",
       "      <th>pred2_pubmed</th>\n",
       "      <th>pred2_method</th>\n",
       "      <th>output_type</th>\n",
       "      <th>output_name</th>\n",
       "      <th>output_id</th>\n",
       "    </tr>\n",
       "  </thead>\n",
       "  <tbody>\n",
       "    <tr>\n",
       "      <th>437</th>\n",
       "      <td>AUTOIMMUNE BOWEL DISORDER</td>\n",
       "      <td>Disease</td>\n",
       "      <td>related_to</td>\n",
       "      <td>Translator Text Mining Provider</td>\n",
       "      <td>CORD Disease API</td>\n",
       "      <td>None</td>\n",
       "      <td>None</td>\n",
       "      <td>Disease</td>\n",
       "      <td>LYMPHOID CANCER</td>\n",
       "      <td>MONDO:MONDO:0005062</td>\n",
       "      <td>contraindication</td>\n",
       "      <td>drugcentral</td>\n",
       "      <td>MyChem.info API</td>\n",
       "      <td>None</td>\n",
       "      <td>None</td>\n",
       "      <td>Disease</td>\n",
       "      <td>6-((1-METHYL-4-NITRO-1H-IMIDAZOL-5-YL)THIO)-1H...</td>\n",
       "      <td>name:6-((1-METHYL-4-NITRO-1H-IMIDAZOL-5-YL)THI...</td>\n",
       "    </tr>\n",
       "    <tr>\n",
       "      <th>441</th>\n",
       "      <td>AUTOIMMUNE BOWEL DISORDER</td>\n",
       "      <td>Disease</td>\n",
       "      <td>related_to</td>\n",
       "      <td>Translator Text Mining Provider</td>\n",
       "      <td>CORD Disease API</td>\n",
       "      <td>None</td>\n",
       "      <td>None</td>\n",
       "      <td>Disease</td>\n",
       "      <td>LYMPHOID CANCER</td>\n",
       "      <td>MONDO:MONDO:0005062</td>\n",
       "      <td>related_to</td>\n",
       "      <td>scigraph</td>\n",
       "      <td>Automat CORD19 Scigraph API</td>\n",
       "      <td>None</td>\n",
       "      <td>None</td>\n",
       "      <td>Disease</td>\n",
       "      <td>6-((1-METHYL-4-NITRO-1H-IMIDAZOL-5-YL)THIO)-1H...</td>\n",
       "      <td>name:6-((1-METHYL-4-NITRO-1H-IMIDAZOL-5-YL)THI...</td>\n",
       "    </tr>\n",
       "    <tr>\n",
       "      <th>445</th>\n",
       "      <td>AUTOIMMUNE BOWEL DISORDER</td>\n",
       "      <td>Disease</td>\n",
       "      <td>related_to</td>\n",
       "      <td>Translator Text Mining Provider</td>\n",
       "      <td>CORD Disease API</td>\n",
       "      <td>None</td>\n",
       "      <td>None</td>\n",
       "      <td>Disease</td>\n",
       "      <td>LYMPHOID CANCER</td>\n",
       "      <td>MONDO:MONDO:0005062</td>\n",
       "      <td>related_to</td>\n",
       "      <td>Translator Text Mining Provider</td>\n",
       "      <td>CORD Chemical API</td>\n",
       "      <td>None</td>\n",
       "      <td>None</td>\n",
       "      <td>Disease</td>\n",
       "      <td>6-((1-METHYL-4-NITRO-1H-IMIDAZOL-5-YL)THIO)-1H...</td>\n",
       "      <td>name:6-((1-METHYL-4-NITRO-1H-IMIDAZOL-5-YL)THI...</td>\n",
       "    </tr>\n",
       "  </tbody>\n",
       "</table>\n",
       "</div>"
      ],
      "text/plain": [
       "                         input input_type       pred1  \\\n",
       "437  AUTOIMMUNE BOWEL DISORDER    Disease  related_to   \n",
       "441  AUTOIMMUNE BOWEL DISORDER    Disease  related_to   \n",
       "445  AUTOIMMUNE BOWEL DISORDER    Disease  related_to   \n",
       "\n",
       "                        pred1_source         pred1_api pred1_pubmed  \\\n",
       "437  Translator Text Mining Provider  CORD Disease API         None   \n",
       "441  Translator Text Mining Provider  CORD Disease API         None   \n",
       "445  Translator Text Mining Provider  CORD Disease API         None   \n",
       "\n",
       "    pred1_method node1_type       node1_name             node1_id  \\\n",
       "437         None    Disease  LYMPHOID CANCER  MONDO:MONDO:0005062   \n",
       "441         None    Disease  LYMPHOID CANCER  MONDO:MONDO:0005062   \n",
       "445         None    Disease  LYMPHOID CANCER  MONDO:MONDO:0005062   \n",
       "\n",
       "                pred2                     pred2_source  \\\n",
       "437  contraindication                      drugcentral   \n",
       "441        related_to                         scigraph   \n",
       "445        related_to  Translator Text Mining Provider   \n",
       "\n",
       "                       pred2_api pred2_pubmed pred2_method output_type  \\\n",
       "437              MyChem.info API         None         None     Disease   \n",
       "441  Automat CORD19 Scigraph API         None         None     Disease   \n",
       "445            CORD Chemical API         None         None     Disease   \n",
       "\n",
       "                                           output_name  \\\n",
       "437  6-((1-METHYL-4-NITRO-1H-IMIDAZOL-5-YL)THIO)-1H...   \n",
       "441  6-((1-METHYL-4-NITRO-1H-IMIDAZOL-5-YL)THIO)-1H...   \n",
       "445  6-((1-METHYL-4-NITRO-1H-IMIDAZOL-5-YL)THIO)-1H...   \n",
       "\n",
       "                                             output_id  \n",
       "437  name:6-((1-METHYL-4-NITRO-1H-IMIDAZOL-5-YL)THI...  \n",
       "441  name:6-((1-METHYL-4-NITRO-1H-IMIDAZOL-5-YL)THI...  \n",
       "445  name:6-((1-METHYL-4-NITRO-1H-IMIDAZOL-5-YL)THI...  "
      ]
     },
     "execution_count": 20,
     "metadata": {},
     "output_type": "execute_result"
    }
   ],
   "source": [
    "q1_r_paths_table[q1_r_paths_table['node1_name'] == 'LYMPHOID CANCER']"
   ]
  },
  {
   "cell_type": "code",
   "execution_count": null,
   "metadata": {},
   "outputs": [],
   "source": []
  }
 ],
 "metadata": {
  "kernelspec": {
   "display_name": "Python 3",
   "language": "python",
   "name": "python3"
  },
  "language_info": {
   "codemirror_mode": {
    "name": "ipython",
    "version": 3
   },
   "file_extension": ".py",
   "mimetype": "text/x-python",
   "name": "python",
   "nbconvert_exporter": "python",
   "pygments_lexer": "ipython3",
   "version": "3.7.9"
  },
  "toc": {
   "base_numbering": 1,
   "nav_menu": {},
   "number_sections": true,
   "sideBar": true,
   "skip_h1_title": true,
   "title_cell": "Table of Contents",
   "title_sidebar": "Contents",
   "toc_cell": false,
   "toc_position": {
    "height": "calc(100% - 180px)",
    "left": "10px",
    "top": "150px",
    "width": "261.567px"
   },
   "toc_section_display": true,
   "toc_window_display": true
  },
  "varInspector": {
   "cols": {
    "lenName": 16,
    "lenType": 16,
    "lenVar": 40
   },
   "kernels_config": {
    "python": {
     "delete_cmd_postfix": "",
     "delete_cmd_prefix": "del ",
     "library": "var_list.py",
     "varRefreshCmd": "print(var_dic_list())"
    },
    "r": {
     "delete_cmd_postfix": ") ",
     "delete_cmd_prefix": "rm(",
     "library": "var_list.r",
     "varRefreshCmd": "cat(var_dic_list()) "
    }
   },
   "types_to_exclude": [
    "module",
    "function",
    "builtin_function_or_method",
    "instance",
    "_Feature"
   ],
   "window_display": false
  }
 },
 "nbformat": 4,
 "nbformat_minor": 4
}
