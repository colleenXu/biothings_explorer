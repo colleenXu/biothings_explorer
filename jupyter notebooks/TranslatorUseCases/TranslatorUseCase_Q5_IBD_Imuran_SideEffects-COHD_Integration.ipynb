{
 "cells": [
  {
   "cell_type": "markdown",
   "metadata": {},
   "source": [
    "# Translator Use Case Question 5: IBD, Imuran, and side effects"
   ]
  },
  {
   "cell_type": "markdown",
   "metadata": {},
   "source": [
    "## Understanding the question"
   ]
  },
  {
   "cell_type": "markdown",
   "metadata": {},
   "source": [
    "**To experiment with an executable version of this notebook, [load it in Google Colaboratory](https://colab.research.google.com/github/colleenXu/biothings_explorer/blob/relay/jupyter%20notebooks/TranslatorUseCases/TranslatorUseCase_Q5_IBD_Imuran_SideEffects.ipynb).**\n",
    "\n",
    "The Translator Use Case Question #5 is:    \n",
    "\n",
    "> If a patient with disease X is treated off-label with drug Y, what are some potential side effects?\n",
    "\n",
    "We interpret the Translator Use Case Question to be about **unintended drug-disease interactions**. These occur when a drug has an unintended effect on a person due to the person’s existing medical conditions. \n",
    "* The interaction could be beneficial: for example, a person taking [lorazepam](https://www.drugs.com/ppa/lorazepam.html) for nighttime anxiety may also experience drowsiness (a common side effect), which may help them with their insomnia. \n",
    "* On the other hand, the interaction could be harmful: for example, a person with peptic ulcers may want to take [ibuprofen](https://www.drugs.com/ppa/ibuprofen.html) for a headache. However, NSAIDS can increase the risk of serious gastrointestinal inflammation, ulceration, bleeding, and perforation, especially for people with a history of GI ulcers or current GI ulcers. Some adverse drug-disease interactions, like the example here, are described in formal drug warnings and contraindications.\n",
    "\n",
    "We notice that unintended drug-disease interactions occur in more contexts than off-label drug use. They can also occur when the drug is used following its label-indication and in [the context of comorbidity / multimorbidity](https://www.bmj.com/content/350/bmj.h949), when a person is taking a drug to treat one of their diseases and the drug affects a comorbid condition.\n",
    "\n",
    "**We therefore decided to reframe this question and find potential unintended drug-disease interactions with the following type of question:**\n",
    "> What symptoms do `Disease` X and `ChemicalSubstance` Y have in common? \n",
    "\n",
    "BioThings Explorer (BTE) can answer two classes of queries -- \"EXPLAIN\" and \"PREDICT\". This Question fits the EXPLAIN  template of starting with **a specific biomedical entity** (a specific `Disease` X) and finding indirect relationships with **another specific biomedical entity** (a specific `ChemicalSubstance` Y)."
   ]
  },
  {
   "cell_type": "markdown",
   "metadata": {},
   "source": [
    "## Specific use case: IBD treatment linked to cancer "
   ]
  },
  {
   "cell_type": "markdown",
   "metadata": {},
   "source": [
    "We will use **inflammatory bowel disease (IBD)** as our specific disease of interest. We will use **Imuran** as our drug of interest. [Imuran / azathioprine](https://www.uptodate.com/contents/azathioprine-drug-information) has been [commonly used **off-label** to treat Crohn disease (a form of IBD)](https://www.mayoclinic.org/diseases-conditions/crohns-disease/diagnosis-treatment/drc-20353309). \n",
    "  \n",
    "However, the use of Imuran to treat IBD has been linked to hepatosplenic T-cell lymphoma (HSTCL) and other lymphomas (references [1](https://pubmed.ncbi.nlm.nih.gov/20888436/), [2](https://pubmed.ncbi.nlm.nih.gov/21830262/), [3](https://pubmed.ncbi.nlm.nih.gov/23891975/) and [4](https://www.ncbi.nlm.nih.gov/pmc/articles/PMC3710465/)). In particular, [hepatosplenic T-cell lymphoma is a rare, aggressive, and usually fatal disease](https://pubmed.ncbi.nlm.nih.gov/29337025/). This serious adverse effect is made clear in the black box warning for [Imuran](https://www.drugs.com/pro/imuran.html). \n",
    "\n",
    "We tackle the search for side-effects associated with using Imuran to treat IBD using the query: \n",
    "* `Disease` Crohn disease  &rarr; results:`Disease` &larr; `ChemicalSubstance` Imuran. \n",
    "    * Note that we use `Disease` as the intermediate node type to represent disease symptoms and drug effects. With the current APIs available and issues around BioThings type annotation (PhenotypicFeatures vs Diseases), it made more sense to use Disease as the intermediate node. \n",
    "* The query will return a graph object with entities as nodes and relationships as edges. We then use edge provenance information to **filter** the results. For each intermediate Disease node, we use the number of unique paths from the input nodes to that node to **score** it. The scores can then be used to sort the results.  \n",
    "\n",
    "<br>\n",
    "\n",
    "Note 1: This example was inspired by the [information shared by Jeff McKnight], [a molecular biology researcher](http://molbio.uoregon.edu/mcknight/) who is currently fighting hepatosplenic T-cell lymphoma after 16 years of taking Imuran and Remicade to treat Crohn disease. To help, he has a [fundraiser here](https://www.gofundme.com/f/mcknight-fund-help-jeff-buy-time-with-his-family). \n",
    "\n",
    "Note 2: many of those with IBD, this drug treatment, and this cancer are [men < 40 years old](https://www.ncbi.nlm.nih.gov/pmc/articles/PMC3710465/). Jeff may be in this age group. "
   ]
  },
  {
   "cell_type": "markdown",
   "metadata": {},
   "source": [
    "## Step 0: Load BTE modules, notebook functions"
   ]
  },
  {
   "cell_type": "code",
   "execution_count": null,
   "metadata": {
    "ExecuteTime": {
     "end_time": "2020-09-22T18:08:51.538528Z",
     "start_time": "2020-09-22T18:08:51.532355Z"
    }
   },
   "outputs": [],
   "source": [
    "## for Google Colab\n",
    "%%capture\n",
    "!pip install git+https://github.com/colleenXu/biothings_explorer@relay#egg=biothings_explorer"
   ]
  },
  {
   "cell_type": "code",
   "execution_count": 1,
   "metadata": {
    "ExecuteTime": {
     "end_time": "2020-09-29T01:47:58.119651Z",
     "start_time": "2020-09-29T01:47:57.640041Z"
    }
   },
   "outputs": [],
   "source": [
    "## CX: allows multiple lines of code to print from one code block\n",
    "from IPython.core.interactiveshell import InteractiveShell\n",
    "InteractiveShell.ast_node_interactivity = \"all\"\n",
    "\n",
    "# import modules from biothings_explorer\n",
    "from biothings_explorer.hint import Hint\n",
    "# from biothings_explorer.user_query_dispatcher import FindConnection\n",
    "from biothings_explorer.query.predict import Predict\n",
    "\n",
    "## show time that this notebook was executed \n",
    "from datetime import datetime\n",
    "\n",
    "## packages to work with objects \n",
    "import re\n",
    "import requests\n",
    "\n",
    "## to get around bugs\n",
    "import nest_asyncio\n",
    "nest_asyncio.apply()"
   ]
  },
  {
   "cell_type": "code",
   "execution_count": 2,
   "metadata": {
    "ExecuteTime": {
     "end_time": "2020-09-29T01:47:58.249489Z",
     "start_time": "2020-09-29T01:47:58.243926Z"
    }
   },
   "outputs": [],
   "source": [
    "## functions to add to modules?\n",
    "def hint_display(query, hint_result):\n",
    "    \"\"\"\n",
    "    show the type, name, number of IDs for all results returned by the query\n",
    "    \n",
    "    :param: query: string used in hint query\n",
    "    :param: hint_result: object returned from hint query, a dictionary of lists of dictionaries\n",
    "    \n",
    "    Returns: None\n",
    "    \"\"\"\n",
    "    ## function needs to be rewritten if it's going to give the exact index of each object within its type \n",
    "    display = ['type', 'name']  ## replace with the parts of the BioThings object you want to see\n",
    "    concise_results = []\n",
    "    for BT_type, result in hint_result.items():\n",
    "        if result:  ## basically if it's not empty\n",
    "            for items in result:\n",
    "                ## number of identifiers per object: number of keys - 4 (name, primary, display, type)\n",
    "                temp = len(items) - 4\n",
    "                concise_results.append((items[display[0]], items[display[1]], \n",
    "                                         str(temp)))\n",
    "                    \n",
    "    print('There are {total} BioThings objects returned for {ht}:'.format(\\\n",
    "                total = len(concise_results), ht = query))\n",
    "    for display_info in concise_results:\n",
    "        print('{0}, {1}, num of IDs: {2}'.format(display_info[0], display_info[1], display_info[2]))"
   ]
  },
  {
   "cell_type": "code",
   "execution_count": 3,
   "metadata": {
    "ExecuteTime": {
     "end_time": "2020-09-29T01:47:58.692617Z",
     "start_time": "2020-09-29T01:47:58.688000Z"
    }
   },
   "outputs": [],
   "source": [
    "def filter_table(df):\n",
    "    \"\"\"\n",
    "    use _source and _method columns to remove rows (paths) from the dataframe\n",
    "    works with Explain and Predict queries\n",
    "    :param: pandas dataframe containing results from BTE FindConnection module, in table form\n",
    "    \n",
    "    Returns: filtered dataframe\n",
    "    \"\"\"\n",
    "    ## key is the string to match to column, value is a list of strings to match to column values\n",
    "    filter_out = {'_source': ['SEMMED', 'CTD', 'ctd', 'omia']   \n",
    "#                   '_method': []  ## currently no method stuff I want to filter out\n",
    "                 }\n",
    "    ## SEMMED: text mining results wrong for PhenotypicFeature -> Gene\n",
    "    ## CTD/ctd: results odd for MSUD -> ChemicalSubstance\n",
    "    ## omia: results wrong or discontinued gene IDs for PhenotypicFeature -> Gene\n",
    "    \n",
    "    \n",
    "    df_temp = df.copy()  ## so the original df isn't modified in-place\n",
    "    for key,val in filter_out.items():\n",
    "        ## find columns that match the key string\n",
    "        columns = [i for i in df_temp.columns if key in i]\n",
    "        ## iterate through each column\n",
    "        for col in columns:\n",
    "            ## iterate through each value to take out, check if string CONTAINS match. \n",
    "            ## only keep rows that don't contain the value\n",
    "            for i in val:\n",
    "                df_temp = df_temp[~ df_temp[col].str.contains(i, na = False)]\n",
    "\n",
    "    return df_temp"
   ]
  },
  {
   "cell_type": "code",
   "execution_count": 4,
   "metadata": {
    "ExecuteTime": {
     "end_time": "2020-09-29T01:47:59.130484Z",
     "start_time": "2020-09-29T01:47:59.120685Z"
    }
   },
   "outputs": [],
   "source": [
    "def scoring_output(df, q_type):\n",
    "    \"\"\"\n",
    "    score results based on whether query was Predict or Explain type, number of \n",
    "        intermediate nodes \n",
    "    :param: pandas dataframe containing results from BTE FindConnection module\n",
    "    :param: string describing type of query (Predict or Explain)\n",
    "    \n",
    "    May flatten some edges, because score only counts one edge per \n",
    "        unique predicate / API / method (ignoring source and pubmed col)\n",
    "    \n",
    "    Predict queries: score each output node by counting # of paths\n",
    "        from input nodes to it. Normalize by dividing by maximum\n",
    "        possible # of paths\n",
    "    Explain two-hop (one intermediate) queries: score each intermediate node by \n",
    "        counting # of paths (between input and output nodes) that include it. \n",
    "        Normalize by dividing by maximum possible # of paths    \n",
    "\n",
    "    Explain one-hop (direct) queries: no need to score, prints message\n",
    "    Other Explain queries (many-hops): currently not able to score, prints message     \n",
    "    \n",
    "    Returns: pandas series with scores, index is output_name\n",
    "             or None (one-hop or many-hop Explain query)\n",
    "    \"\"\"\n",
    "    df_temp = df.copy()  ## so no chance to mutate this   \n",
    "    flag_direct = False  ## one-hop query or not\n",
    "    ## use df_col to look quicker into columns\n",
    "    df_col = set(df_temp.columns)\n",
    "    \n",
    "    ## ignore source and pubmed col in looking at unique edges \n",
    "    columns_drop = [col for col in df_col if (('_source' in col) or ('_pubmed' in col))]\n",
    "    df_temp.drop(columns = columns_drop, inplace = True)    \n",
    "    df_temp.drop_duplicates(inplace = True)\n",
    "    \n",
    "    ## check if query is one-hop or not\n",
    "    if \"node1_label\" not in df_col:    ## name for first intermediate node layer\n",
    "        flag_direct = True  \n",
    "    \n",
    "    if q_type == 'Explain':\n",
    "        if flag_direct:   # one hop / no intermediates\n",
    "            print('No valid node scoring for one-hop (direct) Explain queries.')\n",
    "            return None\n",
    "        ## if there are many-hops/intermediate layers\n",
    "        elif \"node2_label\" in df_col:  ## name for 2nd intermed. node layer\n",
    "            print('Cannot currently score many-hop Explain queries.')\n",
    "            return None\n",
    "        else:   ## two-hop / 1 intermediate layer\n",
    "            ## count multi-edges to results (the intermediate node1 col)\n",
    "            scores = df_temp.node1_label.value_counts() \n",
    "            ## to find the maximum-possible number of edges, look at non-result cols\n",
    "            columns_drop = [col for col in df_col if 'node1' in col]\n",
    "            df_temp.drop(columns = columns_drop, inplace = True)\n",
    "            ## now look at number of unique combos for input, edge info, output\n",
    "            df_temp.drop_duplicates(inplace = True)\n",
    "            max_paths = df_temp.shape[0]            \n",
    "            ## normalize scores by dividing each by max number of paths\n",
    "            scores = scores / max_paths\n",
    "\n",
    "    else:  ## Predict type query\n",
    "        ## count multi-edges to results (the output col)\n",
    "        scores = df_temp.output_label.value_counts()\n",
    "        ## to find the maximum number of multi-edges, look at non-output col\n",
    "        columns_drop = [col for col in df_temp.columns if 'output' in col]\n",
    "        df_temp.drop(columns = columns_drop, inplace = True)\n",
    "        ## now look at number of unique paths possible\n",
    "        df_temp.drop_duplicates(inplace = True)\n",
    "        max_paths = df_temp.shape[0]\n",
    "        ## normalize scores by dividing each by max number of paths\n",
    "        scores = scores / max_paths\n",
    "            \n",
    "    ## return scores as pandas dataframe, with rank\n",
    "    scores = scores.to_frame(name = 'score') \n",
    "    scores['rank'] = scores['score'].rank(method = 'dense', ascending = False)\n",
    "    return scores"
   ]
  },
  {
   "cell_type": "code",
   "execution_count": 5,
   "metadata": {
    "ExecuteTime": {
     "end_time": "2020-09-29T01:47:59.621176Z",
     "start_time": "2020-09-29T01:47:59.616661Z"
    }
   },
   "outputs": [
    {
     "name": "stdout",
     "output_type": "stream",
     "text": [
      "The time that this notebook was executed is...\n",
      "Local time (PST, West Coast USA): \n",
      "2020-09-28 18:47:59.618219\n",
      "UTC time: \n",
      "2020-09-29 01:47:59.618389\n"
     ]
    }
   ],
   "source": [
    "## record when cell blocks are executed\n",
    "print('The time that this notebook was executed is...')\n",
    "print('Local time (PST, West Coast USA): ')\n",
    "print(datetime.now())\n",
    "print('UTC time: ')\n",
    "print(datetime.utcnow())"
   ]
  },
  {
   "cell_type": "markdown",
   "metadata": {},
   "source": [
    "## Step 1: Find representation of \"inflammatory bowel disease\" in BTE"
   ]
  },
  {
   "cell_type": "markdown",
   "metadata": {},
   "source": [
    "In this step, BioThings Explorer translates our query string \"inflammatory bowel disease\"  into BioThings objects, which contain mappings to many common identifiers. We then pick the BioThings object that best matches what we want (inflammatory bowel disease). \n",
    "\n",
    "Note: the query failed to retrieve Disease &rarr; PhenotypicFeatures for Crohn disease (a child of IBD in the Mondo ontology).\n",
    "\n",
    "Generally, the top result returned by the Hint module for your BioThings type of interest will match what you want, but you should confirm that using the identifiers shown. \n",
    "\n",
    "\n",
    "> BioThings types correspond to children and descendants of [BiologicalEntity](https://biolink.github.io/biolink-model/docs/BiologicalEntity.html) from the [Biolink Model](https://biolink.github.io/biolink-model/docs/), including `Disease` (e.g., \"lupus\"), `ChemicalSubstance` (e.g., \"acetaminophen\"), `Gene` (e.g., \"CDK2\"), `BiologicalProcess` (e.g., \"T cell differentiation\"), and `Pathway` (e.g., \"Citric acid cycle\"). **However, [only a subset of the Biolink BiologicalEntity children / descendants are currently implemented in BTE](https://smart-api.info/portal/translator/metakg)**. More biomedical object types will be available as more knowledge sources (APIs) are added to the system. **Note that the type `BiologicalEntity` means any BioThings type currently implemented in BTE will be accepted.**"
   ]
  },
  {
   "cell_type": "code",
   "execution_count": 6,
   "metadata": {
    "ExecuteTime": {
     "end_time": "2020-09-29T01:48:02.560941Z",
     "start_time": "2020-09-29T01:48:02.310960Z"
    },
    "scrolled": true
   },
   "outputs": [
    {
     "name": "stdout",
     "output_type": "stream",
     "text": [
      "There are 12 BioThings objects returned for IBD:\n",
      "ChemicalSubstance, IBD-78, num of IDs: 2\n",
      "ChemicalSubstance, IBD-78, (Z)-, num of IDs: 6\n",
      "ChemicalSubstance, IBD-78 HYDROCHLORIDE, num of IDs: 2\n",
      "ChemicalSubstance, IBD-78 ACETATE, num of IDs: 2\n",
      "ChemicalSubstance, IBD-78, (E)-, num of IDs: 6\n",
      "Disease, irritable bowel syndrome, num of IDs: 5\n",
      "Disease, inflammatory bowel disease, num of IDs: 4\n",
      "Disease, IL21-related infantile inflammatory bowel disease, num of IDs: 4\n",
      "Disease, immune dysregulation-inflammatory bowel disease-arthritis-recurrent infections syndrome, num of IDs: 3\n",
      "Disease, multiple intestinal atresia, num of IDs: 6\n",
      "Pathway, Inflammatory bowel disease (IBD) - Homo sapiens (human), num of IDs: 1\n",
      "Pathway, Inflammatory bowel disease (IBD) - Mus musculus (mouse), num of IDs: 1\n"
     ]
    }
   ],
   "source": [
    "ht = Hint()  ## neater way to call this BTE module\n",
    "\n",
    "## the human user gives this input\n",
    "disease_starting_str = \"IBD\"\n",
    "\n",
    "disease_hint = ht.query(disease_starting_str)\n",
    "hint_display(disease_starting_str, disease_hint)"
   ]
  },
  {
   "cell_type": "markdown",
   "metadata": {},
   "source": [
    "Based on the information above, we'll pick the second `Disease` choice (indexed at 1) for our query because we want inflammatory bowel disease. We can look at identifier mappings inside this BioThings object. "
   ]
  },
  {
   "cell_type": "code",
   "execution_count": 7,
   "metadata": {
    "ExecuteTime": {
     "end_time": "2020-09-29T01:48:06.819619Z",
     "start_time": "2020-09-29T01:48:06.808901Z"
    }
   },
   "outputs": [
    {
     "data": {
      "text/plain": [
       "{'MONDO': 'MONDO:0005265',\n",
       " 'DOID': 'DOID:0050589',\n",
       " 'UMLS': 'C0021390',\n",
       " 'name': 'inflammatory bowel disease',\n",
       " 'MESH': 'D015212',\n",
       " 'primary': {'identifier': 'MONDO',\n",
       "  'cls': 'Disease',\n",
       "  'value': 'MONDO:0005265'},\n",
       " 'display': 'MONDO(MONDO:0005265) DOID(DOID:0050589) UMLS(C0021390) MESH(D015212) name(inflammatory bowel disease)',\n",
       " 'type': 'Disease'}"
      ]
     },
     "execution_count": 7,
     "metadata": {},
     "output_type": "execute_result"
    }
   ],
   "source": [
    "## the human user makes this choice, gives this input\n",
    "disease_choice_type = 'Disease'\n",
    "disease_choice_idx = 1\n",
    "\n",
    "disease_hint_obj = disease_hint[disease_choice_type][disease_choice_idx]  \n",
    "disease_hint_obj"
   ]
  },
  {
   "cell_type": "markdown",
   "metadata": {},
   "source": [
    "Ideally BTE would do this under-the-hood, but that's an integration issue that hasn't been resolved yet. "
   ]
  },
  {
   "cell_type": "code",
   "execution_count": 8,
   "metadata": {
    "ExecuteTime": {
     "end_time": "2020-09-29T01:48:10.268624Z",
     "start_time": "2020-09-29T01:48:09.969945Z"
    }
   },
   "outputs": [
    {
     "data": {
      "text/plain": [
       "'http://tr-kp-clinical.ncats.io/api/omop/mapToStandardConceptID?concept_code=D015212&vocabulary_id=MESH'"
      ]
     },
     "execution_count": 8,
     "metadata": {},
     "output_type": "execute_result"
    },
    {
     "data": {
      "text/plain": [
       "200"
      ]
     },
     "execution_count": 8,
     "metadata": {},
     "output_type": "execute_result"
    },
    {
     "data": {
      "text/plain": [
       "{'results': [{'source_concept_code': 'D015212',\n",
       "   'source_concept_id': 45618215,\n",
       "   'source_concept_name': 'Inflammatory Bowel Diseases',\n",
       "   'source_vocabulary_id': 'MeSH',\n",
       "   'standard_concept_code': '24526004',\n",
       "   'standard_concept_id': 4074815,\n",
       "   'standard_concept_name': 'Inflammatory bowel disease',\n",
       "   'standard_domain_id': 'Condition',\n",
       "   'standard_vocabulary_id': 'SNOMED'}]}"
      ]
     },
     "execution_count": 8,
     "metadata": {},
     "output_type": "execute_result"
    },
    {
     "data": {
      "text/plain": [
       "4074815"
      ]
     },
     "execution_count": 8,
     "metadata": {},
     "output_type": "execute_result"
    }
   ],
   "source": [
    "vocab_OMOP_map = 'MESH'\n",
    "\n",
    "## human need to set up this url\n",
    "## it uses the MESH id from the disease object above\n",
    "headers = {'content-type': 'application/x-www-form-urlencoded'}\n",
    "\n",
    "getDisease_OMOP_url = 'http://tr-kp-clinical.ncats.io/api/'\\\n",
    "      'omop/mapToStandardConceptID?'\\\n",
    "      'concept_code={}&vocabulary_id={}'.format(disease_hint_obj[vocab_OMOP_map], vocab_OMOP_map)\n",
    "getDisease_OMOP_url\n",
    "\n",
    "getDisease_OMOP_request = requests.get(getDisease_OMOP_url, headers=headers)\n",
    "getDisease_OMOP_request.status_code\n",
    "\n",
    "getDisease_OMOP_response = getDisease_OMOP_request.json()\n",
    "getDisease_OMOP_response\n",
    "\n",
    "disease_OMOP_id = getDisease_OMOP_response['results'][0]['standard_concept_id']\n",
    "disease_OMOP_id"
   ]
  },
  {
   "cell_type": "code",
   "execution_count": 9,
   "metadata": {
    "ExecuteTime": {
     "end_time": "2020-09-29T01:48:13.774299Z",
     "start_time": "2020-09-29T01:48:13.771598Z"
    }
   },
   "outputs": [],
   "source": [
    "disease_hint_obj['OMOP'] = str(disease_OMOP_id)"
   ]
  },
  {
   "cell_type": "markdown",
   "metadata": {},
   "source": [
    "## Step 2: Find representation of \"Imuran\" in BTE"
   ]
  },
  {
   "cell_type": "markdown",
   "metadata": {},
   "source": [
    "In this step, BioThings Explorer translates our query string \"Imuran\"  into BioThings objects, which contain mappings to many common identifiers. We then pick the BioThings object that best matches what we want (the drug, also known as azathioprine). "
   ]
  },
  {
   "cell_type": "code",
   "execution_count": 10,
   "metadata": {
    "ExecuteTime": {
     "end_time": "2020-09-29T01:48:16.226817Z",
     "start_time": "2020-09-29T01:48:16.013510Z"
    },
    "scrolled": true
   },
   "outputs": [
    {
     "name": "stdout",
     "output_type": "stream",
     "text": [
      "There are 4 BioThings objects returned for Imuran:\n",
      "ChemicalSubstance, azathioprine, num of IDs: 6\n",
      "ChemicalSubstance, Imuran, num of IDs: 2\n",
      "ChemicalSubstance, AZATHIOPRINE SODIUM, num of IDs: 8\n",
      "ChemicalSubstance, AZATHIOPRINE, num of IDs: 13\n"
     ]
    }
   ],
   "source": [
    "## the human user gives this input\n",
    "drug_starting_str = \"Imuran\"\n",
    "\n",
    "drug_hint = ht.query(drug_starting_str)\n",
    "hint_display(drug_starting_str, drug_hint)"
   ]
  },
  {
   "cell_type": "markdown",
   "metadata": {},
   "source": [
    "All of these `ChemicalSubstance` entries seem to be the right object. We'll pick the entry with the most identifiers (indexed at 3) for our query. We can look at identifier mappings inside this BioThings object. "
   ]
  },
  {
   "cell_type": "code",
   "execution_count": 11,
   "metadata": {
    "ExecuteTime": {
     "end_time": "2020-09-29T01:48:18.608361Z",
     "start_time": "2020-09-29T01:48:18.603623Z"
    }
   },
   "outputs": [
    {
     "data": {
      "text/plain": [
       "{'CHEMBL.COMPOUND': 'CHEMBL1542',\n",
       " 'DRUGBANK': 'DB00993',\n",
       " 'PUBCHEM': 2265,\n",
       " 'CHEBI': 'CHEBI:2948',\n",
       " 'UMLS': 'C0004482',\n",
       " 'MESH': 'D001379',\n",
       " 'UNII': 'AM94R510MS',\n",
       " 'INCHIKEY': 'LMEKQMALGUDUQG-UHFFFAOYSA-N',\n",
       " 'INCHI': 'InChI=1S/C9H7N7O2S/c1-15-4-14-7(16(17)18)9(15)19-8-5-6(11-2-10-5)12-3-13-8/h2-4H,1H3,(H,10,11,12,13)',\n",
       " 'KEGG': 'C06837',\n",
       " 'name': 'AZATHIOPRINE',\n",
       " 'CAS': '446-86-6',\n",
       " 'IUPAC': '6-[(3-methyl-5-nitro-imidazol-4-yl)thio]-7H-purine',\n",
       " 'formula': 'C9H7N7O2S',\n",
       " 'primary': {'identifier': 'CHEBI',\n",
       "  'cls': 'ChemicalSubstance',\n",
       "  'value': 'CHEBI:2948'},\n",
       " 'display': 'CHEBI(CHEBI:2948) CHEMBL.COMPOUND(CHEMBL1542) DRUGBANK(DB00993) PUBCHEM(2265) MESH(D001379) UNII(AM94R510MS) UMLS(C0004482) name(AZATHIOPRINE) CAS(446-86-6) IUPAC(6-[(3-methyl-5-nitro-imidazol-4-yl)thio]-7H-purine) formula(C9H7N7O2S)',\n",
       " 'type': 'ChemicalSubstance'}"
      ]
     },
     "execution_count": 11,
     "metadata": {},
     "output_type": "execute_result"
    }
   ],
   "source": [
    "## the human user makes this choice, gives this input\n",
    "drug_choice_type = 'ChemicalSubstance'\n",
    "drug_choice_idx = 3\n",
    "\n",
    "drug_hint_obj = drug_hint[drug_choice_type][drug_choice_idx]  \n",
    "drug_hint_obj"
   ]
  },
  {
   "cell_type": "code",
   "execution_count": 12,
   "metadata": {
    "ExecuteTime": {
     "end_time": "2020-09-29T01:48:21.158142Z",
     "start_time": "2020-09-29T01:48:20.919825Z"
    }
   },
   "outputs": [
    {
     "data": {
      "text/plain": [
       "'http://tr-kp-clinical.ncats.io/api/omop/mapToStandardConceptID?concept_code=D001379&vocabulary_id=MESH'"
      ]
     },
     "execution_count": 12,
     "metadata": {},
     "output_type": "execute_result"
    },
    {
     "data": {
      "text/plain": [
       "200"
      ]
     },
     "execution_count": 12,
     "metadata": {},
     "output_type": "execute_result"
    },
    {
     "data": {
      "text/plain": [
       "{'results': [{'source_concept_code': 'D001379',\n",
       "   'source_concept_id': 45610378,\n",
       "   'source_concept_name': 'Azathioprine',\n",
       "   'source_vocabulary_id': 'MeSH',\n",
       "   'standard_concept_code': '1256',\n",
       "   'standard_concept_id': 19014878,\n",
       "   'standard_concept_name': 'Azathioprine',\n",
       "   'standard_domain_id': 'Drug',\n",
       "   'standard_vocabulary_id': 'RxNorm'}]}"
      ]
     },
     "execution_count": 12,
     "metadata": {},
     "output_type": "execute_result"
    },
    {
     "data": {
      "text/plain": [
       "19014878"
      ]
     },
     "execution_count": 12,
     "metadata": {},
     "output_type": "execute_result"
    }
   ],
   "source": [
    "## human need to set up this url\n",
    "## it uses the MESH id from the disease object above\n",
    "getDrug_OMOP_url = 'http://tr-kp-clinical.ncats.io/api/'\\\n",
    "      'omop/mapToStandardConceptID?'\\\n",
    "      'concept_code={}&vocabulary_id={}'.format(drug_hint_obj[vocab_OMOP_map], vocab_OMOP_map)\n",
    "getDrug_OMOP_url\n",
    "\n",
    "getDrug_request = requests.get(getDrug_OMOP_url, headers=headers)\n",
    "getDrug_request.status_code\n",
    "\n",
    "getDrug_OMOP_response = getDrug_request.json()\n",
    "getDrug_OMOP_response\n",
    "\n",
    "drug_OMOP_id = getDrug_OMOP_response['results'][0]['standard_concept_id']\n",
    "drug_OMOP_id"
   ]
  },
  {
   "cell_type": "code",
   "execution_count": 13,
   "metadata": {
    "ExecuteTime": {
     "end_time": "2020-09-29T01:48:23.448695Z",
     "start_time": "2020-09-29T01:48:23.446117Z"
    }
   },
   "outputs": [],
   "source": [
    "drug_hint_obj['OMOP'] = str(drug_OMOP_id)"
   ]
  },
  {
   "cell_type": "markdown",
   "metadata": {},
   "source": [
    "## Step 3: IBD &rarr; Disease"
   ]
  },
  {
   "cell_type": "markdown",
   "metadata": {},
   "source": [
    "BTE performs the **query path planning** and **query path execution** by deconstructing the query into individual API calls, executing those API calls, and then assembling the results.\n",
    "\n",
    "The code block below takes ~4 seconds to run. "
   ]
  },
  {
   "cell_type": "code",
   "execution_count": 14,
   "metadata": {
    "ExecuteTime": {
     "end_time": "2020-09-29T01:48:25.685570Z",
     "start_time": "2020-09-29T01:48:25.683218Z"
    }
   },
   "outputs": [],
   "source": [
    "## the human user gives this input\n",
    "result_types = ['Disease']"
   ]
  },
  {
   "cell_type": "code",
   "execution_count": 15,
   "metadata": {
    "ExecuteTime": {
     "end_time": "2020-09-29T01:48:30.690829Z",
     "start_time": "2020-09-29T01:48:27.344452Z"
    }
   },
   "outputs": [
    {
     "name": "stdout",
     "output_type": "stream",
     "text": [
      "==========\n",
      "========== QUERY PARAMETER SUMMARY ==========\n",
      "==========\n",
      "\n",
      "Your query have 1 input nodes, including inflammatory bowel disease .... And BTE will find paths that connect your input nodes to your output types ['Disease']. Paths will contain 0 intermediate nodes.\n",
      "\n",
      "\n",
      "========== Query # 1 ==========\n",
      "\n",
      "==== Step #1: Query Path Planning ====\n",
      "\n",
      "Input Types: Disease\n",
      "Output Types: ['Disease']\n",
      "Predicates: None\n",
      "\n",
      "BTE found 5 APIs based on SmartAPI Meta-KG.\n",
      "\n",
      "API 1. COHD API (1 API calls)\n",
      "API 2. Ontology Lookup Service API (1 API calls)\n",
      "API 3. mydisease.info API (2 API calls)\n",
      "API 4. SEMMED Disease API (17 API calls)\n",
      "API 5. CORD Disease API (1 API calls)\n",
      "\n",
      "\n",
      "==== Step #2: Query path execution ====\n",
      "\n",
      "NOTE: API requests are dispatched in parallel, so the list of APIs below is ordered by query time.\n",
      "\n",
      "API 3.1: http://mydisease.info/v1/query?fields=mondo.descendants (POST -d q=MONDO:0005265&scopes=mondo.mondo)\n",
      "API 3.1 mydisease.info API: 0 hits\n",
      "API 3.2: http://mydisease.info/v1/query?fields=mondo.parents (POST -d q=MONDO:0005265&scopes=mondo.mondo)\n",
      "API 3.2 mydisease.info API: 2 hits\n",
      "API 4.1: https://biothings.ncats.io/semmed/query?fields=causes (POST -d q=C0021390&scopes=umls)\n",
      "API 4.1 SEMMED Disease API: 137 hits\n",
      "API 5.1: https://biothings.ncats.io/cord_disease/query?fields=associated_with (POST -d q=DOID:0050589&scopes=doid)\n",
      "API 4.2: https://biothings.ncats.io/semmed/query?fields=caused_by (POST -d q=C0021390&scopes=umls)\n",
      "API 4.2: https://biothings.ncats.io/semmed/query?fields=affects (POST -d q=C0021390&scopes=umls)\n",
      "API 4.2: https://biothings.ncats.io/semmed/query?fields=affected_by (POST -d q=C0021390&scopes=umls)\n",
      "API 4.2 SEMMED Disease API: 106 hits\n",
      "API 5.1 CORD Disease API: 115 hits\n",
      "API 4.3 SEMMED Disease API: 148 hits\n",
      "API 4.4 SEMMED Disease API: 118 hits\n",
      "API 2.1: https://www.ebi.ac.uk/ols/api/ontologies/doid/children?id=DOID:0050589\n",
      "API 1.1: http://tr-kp-clinical.ncats.io/api/association/chiSquare?concept_id_1=4074815&dataset_id=3&domain=Condition\n",
      "API 2.1 Ontology Lookup Service API: 20 hits\n",
      "cohd transformer triggerd\n",
      "API 1.1 COHD API: 393 hits\n",
      "API 4.5: https://biothings.ncats.io/semmed/query?fields=negatively_regulated_by (POST -d q=C0021390&scopes=umls)\n",
      "API 4.5 SEMMED Disease API: 0 hits\n",
      "API 4.6: https://biothings.ncats.io/semmed/query?fields=disrupted_by (POST -d q=C0021390&scopes=umls)\n",
      "API 4.6 SEMMED Disease API: 0 hits\n",
      "API 4.7: https://biothings.ncats.io/semmed/query?fields=negatively_regulates (POST -d q=C0021390&scopes=umls)\n",
      "API 4.7 SEMMED Disease API: 0 hits\n",
      "API 4.8: https://biothings.ncats.io/semmed/query?fields=disrupts (POST -d q=C0021390&scopes=umls)\n",
      "API 4.8 SEMMED Disease API: 0 hits\n",
      "API 4.9: https://biothings.ncats.io/semmed/query?fields=coexists_with (POST -d q=C0021390&scopes=umls)\n",
      "API 4.9 SEMMED Disease API: 892 hits\n",
      "API 4.10: https://biothings.ncats.io/semmed/query?fields=physically_interacts_with (POST -d q=C0021390&scopes=umls)\n",
      "API 4.10 SEMMED Disease API: 0 hits\n",
      "API 4.11: https://biothings.ncats.io/semmed/query?fields=positively_regulated_by (POST -d q=C0021390&scopes=umls)\n",
      "API 4.11 SEMMED Disease API: 0 hits\n",
      "API 4.12: https://biothings.ncats.io/semmed/query?fields=prevents (POST -d q=C0021390&scopes=umls)\n",
      "API 4.12 SEMMED Disease API: 0 hits\n",
      "API 4.13: https://biothings.ncats.io/semmed/query?fields=positively_regulates (POST -d q=C0021390&scopes=umls)\n",
      "API 4.13 SEMMED Disease API: 0 hits\n",
      "API 4.14: https://biothings.ncats.io/semmed/query?fields=prevented_by (POST -d q=C0021390&scopes=umls)\n",
      "API 4.14 SEMMED Disease API: 0 hits\n",
      "API 4.15: https://biothings.ncats.io/semmed/query?fields=treats (POST -d q=C0021390&scopes=umls)\n",
      "API 4.15 SEMMED Disease API: 0 hits\n",
      "API 4.16: https://biothings.ncats.io/semmed/query?fields=treated_by (POST -d q=C0021390&scopes=umls)\n",
      "API 4.16: https://biothings.ncats.io/semmed/query?fields=related_to (POST -d q=C0021390&scopes=umls)\n",
      "API 4.16 SEMMED Disease API: 2 hits\n",
      "API 4.17 SEMMED Disease API: 65 hits\n",
      "\n",
      "BTE starts to perform id-to-object translation.\n",
      "\n",
      "After id-to-object translation, BTE retrieved 1500 unique output nodes.\n",
      "\n",
      "\n",
      "\n",
      "==========\n",
      "========== Final assembly of results ==========\n",
      "==========\n",
      "\n",
      "In the #1 query, BTE found 1500 unique nodes.\n"
     ]
    }
   ],
   "source": [
    "## the human user sets this up\n",
    "q1 = Predict(input_objs = [disease_hint_obj],\\\n",
    "                     output_types = result_types, \\\n",
    "                    intermediate_nodes = [], config = {})\n",
    "q1.connect(verbose = True)"
   ]
  },
  {
   "cell_type": "code",
   "execution_count": 16,
   "metadata": {
    "ExecuteTime": {
     "end_time": "2020-09-29T01:48:35.986416Z",
     "start_time": "2020-09-29T01:48:35.961496Z"
    }
   },
   "outputs": [],
   "source": [
    "q1_r_paths_table = q1.display_table_view()\n",
    "\n",
    "# q1 = None  ## clear memory"
   ]
  },
  {
   "cell_type": "code",
   "execution_count": 17,
   "metadata": {
    "ExecuteTime": {
     "end_time": "2020-09-29T01:48:36.907368Z",
     "start_time": "2020-09-29T01:48:36.903156Z"
    }
   },
   "outputs": [
    {
     "data": {
      "text/plain": [
       "Index(['input_id', 'input_label', 'input_type', 'pred1', 'pred1_source',\n",
       "       'pred1_api', 'pred1_publications', 'output_id', 'output_label',\n",
       "       'output_type', 'output_degree'],\n",
       "      dtype='object')"
      ]
     },
     "execution_count": 17,
     "metadata": {},
     "output_type": "execute_result"
    }
   ],
   "source": [
    "q1_r_paths_table.columns"
   ]
  },
  {
   "cell_type": "code",
   "execution_count": 18,
   "metadata": {
    "ExecuteTime": {
     "end_time": "2020-09-29T01:48:37.736400Z",
     "start_time": "2020-09-29T01:48:37.733139Z"
    }
   },
   "outputs": [],
   "source": [
    "cols_rename = ['input_id', 'input_label', 'input_type', 'pred1', 'pred1_source', 'pred1_api',\\\n",
    "               'pred1_publications', 'node1_id', 'node1_label', 'node1_type', 'node1_degree']\n",
    "q1_r_paths_table.columns = cols_rename"
   ]
  },
  {
   "cell_type": "markdown",
   "metadata": {},
   "source": [
    "## Step 4: Imuran &rarr; Disease"
   ]
  },
  {
   "cell_type": "markdown",
   "metadata": {},
   "source": [
    "BTE performs the **query path planning** and **query path execution** by deconstructing the query into individual API calls, executing those API calls, and then assembling the results.\n",
    "\n",
    "The code block below takes ~4 seconds to run. "
   ]
  },
  {
   "cell_type": "code",
   "execution_count": 19,
   "metadata": {
    "ExecuteTime": {
     "end_time": "2020-09-29T01:48:58.468399Z",
     "start_time": "2020-09-29T01:48:55.203223Z"
    }
   },
   "outputs": [
    {
     "name": "stdout",
     "output_type": "stream",
     "text": [
      "==========\n",
      "========== QUERY PARAMETER SUMMARY ==========\n",
      "==========\n",
      "\n",
      "Your query have 1 input nodes, including AZATHIOPRINE .... And BTE will find paths that connect your input nodes to your output types ['Disease']. Paths will contain 0 intermediate nodes.\n",
      "\n",
      "\n",
      "========== Query # 1 ==========\n",
      "\n",
      "==== Step #1: Query Path Planning ====\n",
      "\n",
      "Input Types: ChemicalSubstance\n",
      "Output Types: ['Disease']\n",
      "Predicates: None\n",
      "\n",
      "BTE found 9 APIs based on SmartAPI Meta-KG.\n",
      "\n",
      "API 1. COHD API (1 API calls)\n",
      "API 2. Automat CORD19 Scibite API (2 API calls)\n",
      "API 3. mydisease.info API (1 API calls)\n",
      "API 4. Automat CORD19 Scigraph API (2 API calls)\n",
      "API 5. SEMMED Chemical API (14 API calls)\n",
      "API 6. Automat PHAROS API (2 API calls)\n",
      "API 7. MyChem.info API (2 API calls)\n",
      "API 8. CORD Chemical API (1 API calls)\n",
      "API 9. Automat HMDB API (2 API calls)\n",
      "\n",
      "\n",
      "==== Step #2: Query path execution ====\n",
      "\n",
      "NOTE: API requests are dispatched in parallel, so the list of APIs below is ordered by query time.\n",
      "\n",
      "API 3.1: http://mydisease.info/v1/query?fields=disgenet.xrefs.mesh&size=250 (POST -d q=D001379&scopes=ctd.chemical_related_to_disease.mesh_chemical_id)\n",
      "API 3.1 mydisease.info API: 0 hits\n",
      "API 8.1: https://biothings.ncats.io/cord_chemical/query?fields=associated_with (POST -d q=CHEBI:2948&scopes=chebi)\n",
      "API 8.1 CORD Chemical API: 11 hits\n",
      "API 5.1: https://biothings.ncats.io/semmedchemical/query?fields=affected_by (POST -d q=C0004482&scopes=umls)\n",
      "API 5.1 SEMMED Chemical API: 0 hits\n",
      "API 5.2: https://biothings.ncats.io/semmedchemical/query?fields=coexists_with (POST -d q=C0004482&scopes=umls)\n",
      "API 5.2 SEMMED Chemical API: 0 hits\n",
      "API 5.3: https://biothings.ncats.io/semmedchemical/query?fields=causes (POST -d q=C0004482&scopes=umls)\n",
      "API 5.3: https://biothings.ncats.io/semmedchemical/query?fields=affects (POST -d q=C0004482&scopes=umls)\n",
      "API 5.3 SEMMED Chemical API: 136 hits\n",
      "API 5.4 SEMMED Chemical API: 107 hits\n",
      "API 7.1: https://mychem.info/v1/query?fields=drugcentral.drug_use.contraindication (POST -d q=CHEMBL1542&scopes=chembl.molecule_chembl_id)\n",
      "API 7.1 MyChem.info API: 13 hits\n",
      "API 7.2: https://mychem.info/v1/query?fields=drugcentral.drug_use.indication (POST -d q=CHEMBL1542&scopes=chembl.molecule_chembl_id)\n",
      "API 7.2 MyChem.info API: 1 hits\n",
      "API 6.1: https://automat.renci.org/pharos/chemical_substance/disease/CHEBI:2948\n",
      "API call to Automat PHAROS API with input CHEBI:2948 failed with status code 404\n",
      "{'error': 'Failed to get response from http://pharos-plater-plater-service:8080/chemical_substance/disease/CHEBI:2948?. Status code 404'}\n",
      "API 6.1: https://automat.renci.org/pharos/chemical_substance/disease/CHEBI:2948\n",
      "API call to Automat PHAROS API with input CHEBI:2948 failed with status code 404\n",
      "{'error': 'Failed to get response from http://pharos-plater-plater-service:8080/chemical_substance/disease/CHEBI:2948?. Status code 404'}\n",
      "API 9.1: https://automat.renci.org/hmdb/chemical_substance/disease/CHEBI:2948\n",
      "API 9.1 Automat HMDB API: 0 hits\n",
      "API 9.2: https://automat.renci.org/hmdb/chemical_substance/disease/CHEBI:2948\n",
      "API 9.2 Automat HMDB API: 0 hits\n",
      "API 2.1: https://automat.renci.org/cord19-scibite/chemical_substance/disease/CHEBI:2948\n",
      "API 2.1 Automat CORD19 Scibite API: 0 hits\n",
      "API 2.2: https://automat.renci.org/cord19-scibite/chemical_substance/disease/CHEBI:2948\n",
      "API 2.2 Automat CORD19 Scibite API: 14 hits\n",
      "API 4.1: https://automat.renci.org/cord19-scigraph/chemical_substance/disease/CHEBI:2948\n",
      "API 4.1: https://automat.renci.org/cord19-scigraph/chemical_substance/disease/CHEBI:2948\n",
      "API 4.1 Automat CORD19 Scigraph API: 372 hits\n",
      "API 4.2 Automat CORD19 Scigraph API: 0 hits\n",
      "API 1.1: http://tr-kp-clinical.ncats.io/api/association/chiSquare?concept_id_1=19014878&dataset_id=3&domain=Condition\n",
      "cohd transformer triggerd\n",
      "API 1.1 COHD API: 792 hits\n",
      "API 5.5: https://biothings.ncats.io/semmedchemical/query?fields=negatively_regulated_by (POST -d q=C0004482&scopes=umls)\n",
      "API 5.5 SEMMED Chemical API: 0 hits\n",
      "API 5.6: https://biothings.ncats.io/semmedchemical/query?fields=physically_interacts_with (POST -d q=C0004482&scopes=umls)\n",
      "API 5.6 SEMMED Chemical API: 0 hits\n",
      "API 5.7: https://biothings.ncats.io/semmedchemical/query?fields=negatively_regulates (POST -d q=C0004482&scopes=umls)\n",
      "API 5.7 SEMMED Chemical API: 10 hits\n",
      "API 5.8: https://biothings.ncats.io/semmedchemical/query?fields=positively_regulated_by (POST -d q=C0004482&scopes=umls)\n",
      "API 5.8 SEMMED Chemical API: 0 hits\n",
      "API 5.9: https://biothings.ncats.io/semmedchemical/query?fields=disrupts (POST -d q=C0004482&scopes=umls)\n",
      "API 5.9 SEMMED Chemical API: 27 hits\n",
      "API 5.10: https://biothings.ncats.io/semmedchemical/query?fields=related_to (POST -d q=C0004482&scopes=umls)\n",
      "API 5.10 SEMMED Chemical API: 3 hits\n",
      "API 5.11: https://biothings.ncats.io/semmedchemical/query?fields=positively_regulates (POST -d q=C0004482&scopes=umls)\n",
      "API 5.11 SEMMED Chemical API: 0 hits\n",
      "API 5.12: https://biothings.ncats.io/semmedchemical/query?fields=produced_by (POST -d q=C0004482&scopes=umls)\n",
      "API 5.12 SEMMED Chemical API: 0 hits\n",
      "API 5.13: https://biothings.ncats.io/semmedchemical/query?fields=prevents (POST -d q=C0004482&scopes=umls)\n",
      "API 5.13 SEMMED Chemical API: 60 hits\n",
      "API 5.14: https://biothings.ncats.io/semmedchemical/query?fields=treats (POST -d q=C0004482&scopes=umls)\n",
      "API 5.14 SEMMED Chemical API: 472 hits\n",
      "\n",
      "BTE starts to perform id-to-object translation.\n",
      "\n",
      "After id-to-object translation, BTE retrieved 1667 unique output nodes.\n",
      "\n",
      "\n",
      "\n",
      "==========\n",
      "========== Final assembly of results ==========\n",
      "==========\n",
      "\n",
      "In the #1 query, BTE found 1667 unique nodes.\n"
     ]
    }
   ],
   "source": [
    "## the human user gives this input\n",
    "q2 = Predict(input_objs = [drug_hint_obj],\\\n",
    "                     output_types = result_types, \\\n",
    "                    intermediate_nodes = [], config = {})\n",
    "q2.connect(verbose = True)"
   ]
  },
  {
   "cell_type": "code",
   "execution_count": 20,
   "metadata": {
    "ExecuteTime": {
     "end_time": "2020-09-29T01:49:08.028660Z",
     "start_time": "2020-09-29T01:49:08.005585Z"
    }
   },
   "outputs": [],
   "source": [
    "q2_r_paths_table = q2.display_table_view()"
   ]
  },
  {
   "cell_type": "code",
   "execution_count": 21,
   "metadata": {
    "ExecuteTime": {
     "end_time": "2020-09-29T01:49:08.464098Z",
     "start_time": "2020-09-29T01:49:08.460132Z"
    }
   },
   "outputs": [
    {
     "data": {
      "text/plain": [
       "Index(['input_id', 'input_label', 'input_type', 'pred1', 'pred1_source',\n",
       "       'pred1_api', 'pred1_publications', 'output_id', 'output_label',\n",
       "       'output_type', 'output_degree'],\n",
       "      dtype='object')"
      ]
     },
     "execution_count": 21,
     "metadata": {},
     "output_type": "execute_result"
    }
   ],
   "source": [
    "q2_r_paths_table.columns"
   ]
  },
  {
   "cell_type": "code",
   "execution_count": 22,
   "metadata": {
    "ExecuteTime": {
     "end_time": "2020-09-29T01:49:08.927507Z",
     "start_time": "2020-09-29T01:49:08.924091Z"
    }
   },
   "outputs": [],
   "source": [
    "cols_rename = ['output_id', 'output_label', 'output_type', 'pred2', 'pred2_source', 'pred2_api',\\\n",
    "               'pred2_publications', 'node1_id', 'node1_label', 'node1_type', 'node1_degree']\n",
    "q2_r_paths_table.columns = cols_rename"
   ]
  },
  {
   "cell_type": "markdown",
   "metadata": {},
   "source": [
    "## Merging"
   ]
  },
  {
   "cell_type": "code",
   "execution_count": 23,
   "metadata": {
    "ExecuteTime": {
     "end_time": "2020-09-29T01:49:10.777737Z",
     "start_time": "2020-09-29T01:49:10.768026Z"
    }
   },
   "outputs": [],
   "source": [
    "final_table = q1_r_paths_table.merge(q2_r_paths_table)"
   ]
  },
  {
   "cell_type": "code",
   "execution_count": 24,
   "metadata": {
    "ExecuteTime": {
     "end_time": "2020-09-29T01:49:11.864215Z",
     "start_time": "2020-09-29T01:49:11.860026Z"
    }
   },
   "outputs": [
    {
     "name": "stdout",
     "output_type": "stream",
     "text": [
      "There are 540 unique Diseases.\n",
      "There are 1510 unique paths.\n"
     ]
    }
   ],
   "source": [
    "## show number of unique intermediate nodes\n",
    "print(\"There are {0} unique {1}s.\".format( \\\n",
    "    final_table.node1_label.nunique(), \"\".join(result_types)))\n",
    "\n",
    "## show number of paths from IBD to Imuran\n",
    "print(\"There are {0} unique paths.\".format( \\\n",
    "    final_table.shape[0]))"
   ]
  },
  {
   "cell_type": "markdown",
   "metadata": {},
   "source": [
    "## Filtering"
   ]
  },
  {
   "cell_type": "markdown",
   "metadata": {},
   "source": [
    "Filtering involves using edge provenance, like the source this relationship came from and the method used to make this association, to filter out edges (removing nodes in the process). "
   ]
  },
  {
   "cell_type": "code",
   "execution_count": 25,
   "metadata": {
    "ExecuteTime": {
     "end_time": "2020-09-29T01:49:14.086716Z",
     "start_time": "2020-09-29T01:49:14.074036Z"
    }
   },
   "outputs": [],
   "source": [
    "final_table = filter_table(final_table)"
   ]
  },
  {
   "cell_type": "markdown",
   "metadata": {},
   "source": [
    "After filtering, there are fewer results in the answer knowledge graph. "
   ]
  },
  {
   "cell_type": "code",
   "execution_count": 26,
   "metadata": {
    "ExecuteTime": {
     "end_time": "2020-09-29T01:49:15.833972Z",
     "start_time": "2020-09-29T01:49:15.829849Z"
    }
   },
   "outputs": [
    {
     "name": "stdout",
     "output_type": "stream",
     "text": [
      "There are 259 unique Diseases.\n",
      "There are 291 unique paths.\n"
     ]
    }
   ],
   "source": [
    "## show number of unique intermediate nodes\n",
    "print(\"There are {0} unique {1}s.\".format( \\\n",
    "    final_table.node1_label.nunique(), \"\".join(result_types)))\n",
    "\n",
    "## show number of paths from IBD to Imuran\n",
    "print(\"There are {0} unique paths.\".format( \\\n",
    "    final_table.shape[0]))"
   ]
  },
  {
   "cell_type": "markdown",
   "metadata": {},
   "source": [
    "## Getting OMOP map -> MONDO"
   ]
  },
  {
   "cell_type": "markdown",
   "metadata": {},
   "source": [
    "We have some identifiers for intermediate nodes (our results) that are OMOP ids. We need to map them back to BTE's id-space. This takes about 2-3 min to run. "
   ]
  },
  {
   "cell_type": "code",
   "execution_count": 27,
   "metadata": {
    "ExecuteTime": {
     "end_time": "2020-09-29T01:49:20.029630Z",
     "start_time": "2020-09-29T01:49:20.025393Z"
    }
   },
   "outputs": [
    {
     "data": {
      "text/plain": [
       "199"
      ]
     },
     "execution_count": 27,
     "metadata": {},
     "output_type": "execute_result"
    }
   ],
   "source": [
    "stuff_to_map = [i for i in final_table['node1_id'].unique() if 'OMOP:' in i]\n",
    "len(stuff_to_map)  "
   ]
  },
  {
   "cell_type": "code",
   "execution_count": 28,
   "metadata": {
    "ExecuteTime": {
     "end_time": "2020-09-29T01:52:08.187916Z",
     "start_time": "2020-09-29T01:49:33.672204Z"
    }
   },
   "outputs": [
    {
     "name": "stdout",
     "output_type": "stream",
     "text": [
      "YAY it's MONDO:0005101\n",
      "not resolved\n",
      "not resolved\n",
      "not resolved\n",
      "not resolved\n",
      "not resolved\n",
      "not resolved\n",
      "not resolved\n",
      "not resolved\n",
      "YAY it's MONDO:0005292\n",
      "YAY it's MONDO:0043839\n",
      "not resolved\n",
      "not resolved\n",
      "not resolved\n",
      "not resolved\n",
      "not resolved\n",
      "not resolved\n",
      "not resolved\n",
      "not resolved\n",
      "not resolved\n",
      "not resolved\n",
      "YAY it's MONDO:0003409\n",
      "YAY it's MONDO:0024634\n",
      "not resolved\n",
      "YAY it's MONDO:0000707\n",
      "YAY it's MONDO:0005020\n",
      "YAY it's MONDO:0016542\n",
      "not resolved\n",
      "not resolved\n",
      "not resolved\n",
      "not resolved\n",
      "YAY it's MONDO:0005532\n",
      "not resolved\n",
      "YAY it's MONDO:0004335\n",
      "not resolved\n",
      "YAY it's MONDO:0000706\n",
      "not resolved\n",
      "YAY it's MONDO:0000710\n",
      "not resolved\n",
      "YAY it's MONDO:0004335\n",
      "not resolved\n",
      "not resolved\n",
      "YAY it's MONDO:0018305\n",
      "not resolved\n",
      "not resolved\n",
      "not resolved\n",
      "YAY it's MONDO:0021166\n",
      "not resolved\n",
      "YAY it's MONDO:0024635\n",
      "not resolved\n",
      "not resolved\n",
      "not resolved\n",
      "YAY it's MONDO:0044965\n",
      "not resolved\n",
      "not resolved\n",
      "YAY it's MONDO:0043579\n",
      "not resolved\n",
      "not resolved\n",
      "not resolved\n",
      "not resolved\n",
      "not resolved\n",
      "not resolved\n",
      "not resolved\n",
      "not resolved\n",
      "not resolved\n",
      "not resolved\n",
      "not resolved\n",
      "not resolved\n",
      "not resolved\n",
      "not resolved\n",
      "not resolved\n",
      "not resolved\n",
      "not resolved\n",
      "YAY it's MONDO:0024388\n",
      "not resolved\n",
      "YAY it's MONDO:0000705\n",
      "not resolved\n",
      "not resolved\n",
      "YAY it's MONDO:0002866\n",
      "not resolved\n",
      "not resolved\n",
      "not resolved\n",
      "not resolved\n",
      "not resolved\n",
      "YAY it's MONDO:0006873\n",
      "not resolved\n",
      "YAY it's MONDO:0001371\n",
      "YAY it's MONDO:0004298\n",
      "not resolved\n",
      "not resolved\n",
      "YAY it's MONDO:0024459\n",
      "YAY it's MONDO:0024389\n",
      "not resolved\n",
      "not resolved\n",
      "not resolved\n",
      "not resolved\n",
      "YAY it's MONDO:0005137\n",
      "not resolved\n",
      "not resolved\n",
      "not resolved\n",
      "not resolved\n",
      "not resolved\n",
      "not resolved\n",
      "not resolved\n",
      "YAY it's MONDO:0004634\n",
      "YAY it's MONDO:0002866\n",
      "not resolved\n",
      "not resolved\n",
      "YAY it's MONDO:0002515\n",
      "not resolved\n",
      "YAY it's MONDO:0005137\n",
      "not resolved\n",
      "not resolved\n",
      "not resolved\n",
      "YAY it's MONDO:0002887\n",
      "YAY it's MONDO:0002280\n",
      "YAY it's MONDO:0004868\n",
      "not resolved\n",
      "not resolved\n",
      "YAY it's MONDO:0005046\n",
      "not resolved\n",
      "not resolved\n",
      "not resolved\n",
      "not resolved\n",
      "not resolved\n",
      "not resolved\n",
      "not resolved\n",
      "not resolved\n",
      "not resolved\n",
      "YAY it's MONDO:0007747\n",
      "not resolved\n",
      "not resolved\n",
      "YAY it's MONDO:0003749\n",
      "not resolved\n",
      "not resolved\n",
      "not resolved\n",
      "not resolved\n",
      "not resolved\n",
      "not resolved\n",
      "YAY it's MONDO:0002280\n",
      "not resolved\n",
      "not resolved\n",
      "not resolved\n",
      "not resolved\n",
      "YAY it's MONDO:0004805\n",
      "YAY it's MONDO:0005385\n",
      "not resolved\n",
      "not resolved\n",
      "not resolved\n",
      "not resolved\n",
      "not resolved\n",
      "not resolved\n",
      "not resolved\n",
      "not resolved\n",
      "not resolved\n",
      "YAY it's MONDO:0012726\n",
      "not resolved\n",
      "YAY it's MONDO:0000270\n",
      "YAY it's MONDO:0004805\n",
      "not resolved\n",
      "YAY it's MONDO:0001673\n",
      "not resolved\n",
      "not resolved\n",
      "YAY it's MONDO:0000651\n",
      "not resolved\n",
      "not resolved\n",
      "not resolved\n",
      "YAY it's MONDO:0005550\n",
      "YAY it's MONDO:0005113\n",
      "not resolved\n",
      "not resolved\n",
      "not resolved\n",
      "not resolved\n",
      "not resolved\n",
      "not resolved\n",
      "not resolved\n",
      "not resolved\n",
      "not resolved\n",
      "not resolved\n",
      "not resolved\n",
      "not resolved\n",
      "YAY it's MONDO:0007186\n",
      "YAY it's MONDO:0005240\n",
      "not resolved\n",
      "YAY it's MONDO:0005240\n",
      "YAY it's MONDO:0019540\n",
      "not resolved\n",
      "not resolved\n",
      "YAY it's MONDO:0002118\n",
      "not resolved\n",
      "not resolved\n",
      "not resolved\n",
      "YAY it's MONDO:0005240\n",
      "not resolved\n",
      "not resolved\n",
      "not resolved\n",
      "not resolved\n",
      "YAY it's MONDO:0016370\n",
      "not resolved\n"
     ]
    }
   ],
   "source": [
    "## not sure if BTE is using the same names\n",
    "MONDO_translate = {}\n",
    "name_translate = {}\n",
    "\n",
    "for i in stuff_to_map:\n",
    "    OMOP = i[5:]\n",
    "    \n",
    "    url = 'http://tr-kp-clinical.ncats.io/api/'\\\n",
    "              'omop/xrefFromOMOP?'\\\n",
    "              'concept_id={}&mapping_targets=MONDO&distance=2'.format(OMOP)\n",
    "    res = requests.get(url, headers=headers)\n",
    "    if res.status_code == 200:\n",
    "        response = res.json()['results']\n",
    "        if len(response) == 0:\n",
    "            print(\"not resolved\")\n",
    "            MONDO_translate['OMOP:'+OMOP] = None  ## have to add the prefix back\n",
    "            name_translate['OMOP:'+OMOP] = None\n",
    "        else:\n",
    "            ## for now, just take the top result\n",
    "            temp_id = response[0]['target_curie']\n",
    "            temp_name = response[0]['target_label']\n",
    "            print(\"YAY it's {}\".format(temp_id))\n",
    "            MONDO_translate['OMOP:'+OMOP] = temp_id\n",
    "            name_translate['OMOP:'+OMOP] = temp_name\n",
    "    else:\n",
    "        print(\"not resolved\")\n",
    "        MONDO_translate['OMOP:'+OMOP] = None\n",
    "        name_translate['OMOP:'+OMOP] = None"
   ]
  },
  {
   "cell_type": "code",
   "execution_count": 29,
   "metadata": {
    "ExecuteTime": {
     "end_time": "2020-09-29T01:52:11.560771Z",
     "start_time": "2020-09-29T01:52:11.512491Z"
    }
   },
   "outputs": [],
   "source": [
    "final_table['node1_id'] = final_table['node1_id'].replace(to_replace = MONDO_translate)\n",
    "final_table['node1_label'] = final_table['node1_label'].replace(to_replace = name_translate)"
   ]
  },
  {
   "cell_type": "markdown",
   "metadata": {},
   "source": [
    "Remove results that weren't resolved to MONDO"
   ]
  },
  {
   "cell_type": "code",
   "execution_count": 30,
   "metadata": {
    "ExecuteTime": {
     "end_time": "2020-09-29T01:52:30.587787Z",
     "start_time": "2020-09-29T01:52:30.581963Z"
    }
   },
   "outputs": [],
   "source": [
    "final_table = final_table.dropna(subset = ['node1_label'])"
   ]
  },
  {
   "cell_type": "code",
   "execution_count": 31,
   "metadata": {
    "ExecuteTime": {
     "end_time": "2020-09-29T01:52:32.038001Z",
     "start_time": "2020-09-29T01:52:32.033834Z"
    }
   },
   "outputs": [
    {
     "name": "stdout",
     "output_type": "stream",
     "text": [
      "There are 98 unique Diseases.\n",
      "There are 146 unique paths.\n"
     ]
    }
   ],
   "source": [
    "## show number of unique intermediate nodes\n",
    "print(\"There are {0} unique {1}s.\".format( \\\n",
    "    final_table.node1_label.nunique(), \"\".join(result_types)))\n",
    "\n",
    "## show number of paths from IBD to Imuran\n",
    "print(\"There are {0} unique paths.\".format( \\\n",
    "    final_table.shape[0]))"
   ]
  },
  {
   "cell_type": "markdown",
   "metadata": {},
   "source": [
    "## Scoring"
   ]
  },
  {
   "cell_type": "code",
   "execution_count": 32,
   "metadata": {
    "ExecuteTime": {
     "end_time": "2020-09-29T01:52:35.515970Z",
     "start_time": "2020-09-29T01:52:35.503440Z"
    }
   },
   "outputs": [],
   "source": [
    "final_scoring = scoring_output(final_table, 'Explain')"
   ]
  },
  {
   "cell_type": "markdown",
   "metadata": {},
   "source": [
    "Different knowledge sources (APIs) were called in different parts of the query. \n",
    "\n",
    "In the first part of the query (IBD &rarr; Disease), the following APIs returned results and the following predicates (semantic relationships) were found."
   ]
  },
  {
   "cell_type": "code",
   "execution_count": 33,
   "metadata": {
    "ExecuteTime": {
     "end_time": "2020-09-29T01:52:37.489514Z",
     "start_time": "2020-09-29T01:52:37.477716Z"
    }
   },
   "outputs": [
    {
     "data": {
      "text/html": [
       "<div>\n",
       "<style scoped>\n",
       "    .dataframe tbody tr th:only-of-type {\n",
       "        vertical-align: middle;\n",
       "    }\n",
       "\n",
       "    .dataframe tbody tr th {\n",
       "        vertical-align: top;\n",
       "    }\n",
       "\n",
       "    .dataframe thead th {\n",
       "        text-align: right;\n",
       "    }\n",
       "</style>\n",
       "<table border=\"1\" class=\"dataframe\">\n",
       "  <thead>\n",
       "    <tr style=\"text-align: right;\">\n",
       "      <th></th>\n",
       "      <th>pred1_api</th>\n",
       "      <th>pred1</th>\n",
       "    </tr>\n",
       "  </thead>\n",
       "  <tbody>\n",
       "    <tr>\n",
       "      <th>0</th>\n",
       "      <td>COHD API</td>\n",
       "      <td>correlated_with</td>\n",
       "    </tr>\n",
       "    <tr>\n",
       "      <th>37</th>\n",
       "      <td>CORD Disease API</td>\n",
       "      <td>related_to</td>\n",
       "    </tr>\n",
       "    <tr>\n",
       "      <th>305</th>\n",
       "      <td>Ontology Lookup Service API</td>\n",
       "      <td>has_subclass</td>\n",
       "    </tr>\n",
       "    <tr>\n",
       "      <th>339</th>\n",
       "      <td>mydisease.info API</td>\n",
       "      <td>subclass_of</td>\n",
       "    </tr>\n",
       "  </tbody>\n",
       "</table>\n",
       "</div>"
      ],
      "text/plain": [
       "                       pred1_api            pred1\n",
       "0                       COHD API  correlated_with\n",
       "37              CORD Disease API       related_to\n",
       "305  Ontology Lookup Service API     has_subclass\n",
       "339           mydisease.info API      subclass_of"
      ]
     },
     "execution_count": 33,
     "metadata": {},
     "output_type": "execute_result"
    }
   ],
   "source": [
    "## show that the APIs use different predicates\n",
    "final_table[['pred1_api', 'pred1']].drop_duplicates().sort_values(by = ['pred1_api', 'pred1'])"
   ]
  },
  {
   "cell_type": "markdown",
   "metadata": {},
   "source": [
    "In the second part of the query (Imuran &rarr; Disease), the following APIs returned results and the following predicates (semantic relationships) were found."
   ]
  },
  {
   "cell_type": "code",
   "execution_count": 34,
   "metadata": {
    "ExecuteTime": {
     "end_time": "2020-09-29T01:52:40.448520Z",
     "start_time": "2020-09-29T01:52:40.437317Z"
    }
   },
   "outputs": [
    {
     "data": {
      "text/html": [
       "<div>\n",
       "<style scoped>\n",
       "    .dataframe tbody tr th:only-of-type {\n",
       "        vertical-align: middle;\n",
       "    }\n",
       "\n",
       "    .dataframe tbody tr th {\n",
       "        vertical-align: top;\n",
       "    }\n",
       "\n",
       "    .dataframe thead th {\n",
       "        text-align: right;\n",
       "    }\n",
       "</style>\n",
       "<table border=\"1\" class=\"dataframe\">\n",
       "  <thead>\n",
       "    <tr style=\"text-align: right;\">\n",
       "      <th></th>\n",
       "      <th>pred2_api</th>\n",
       "      <th>pred2</th>\n",
       "    </tr>\n",
       "  </thead>\n",
       "  <tbody>\n",
       "    <tr>\n",
       "      <th>218</th>\n",
       "      <td>Automat CORD19 Scibite API</td>\n",
       "      <td>related_to</td>\n",
       "    </tr>\n",
       "    <tr>\n",
       "      <th>36</th>\n",
       "      <td>Automat CORD19 Scigraph API</td>\n",
       "      <td>related_to</td>\n",
       "    </tr>\n",
       "    <tr>\n",
       "      <th>0</th>\n",
       "      <td>COHD API</td>\n",
       "      <td>correlated_with</td>\n",
       "    </tr>\n",
       "    <tr>\n",
       "      <th>600</th>\n",
       "      <td>CORD Chemical API</td>\n",
       "      <td>related_to</td>\n",
       "    </tr>\n",
       "    <tr>\n",
       "      <th>673</th>\n",
       "      <td>MyChem.info API</td>\n",
       "      <td>contraindication</td>\n",
       "    </tr>\n",
       "    <tr>\n",
       "      <th>395</th>\n",
       "      <td>MyChem.info API</td>\n",
       "      <td>treats</td>\n",
       "    </tr>\n",
       "  </tbody>\n",
       "</table>\n",
       "</div>"
      ],
      "text/plain": [
       "                       pred2_api             pred2\n",
       "218   Automat CORD19 Scibite API        related_to\n",
       "36   Automat CORD19 Scigraph API        related_to\n",
       "0                       COHD API   correlated_with\n",
       "600            CORD Chemical API        related_to\n",
       "673              MyChem.info API  contraindication\n",
       "395              MyChem.info API            treats"
      ]
     },
     "execution_count": 34,
     "metadata": {},
     "output_type": "execute_result"
    }
   ],
   "source": [
    "## show that the APIs use different predicates\n",
    "final_table[['pred2_api', 'pred2']].drop_duplicates().sort_values(by = ['pred2_api', 'pred2'])"
   ]
  },
  {
   "cell_type": "markdown",
   "metadata": {},
   "source": [
    "Still in progress: adding the scores/ranks and provenance to the Reasoner Standard (TRAPI) object that will be returned to the ARS. \n",
    "* likely provenance will include score's range, method, what is a good score (larger or smaller numbers)"
   ]
  },
  {
   "cell_type": "markdown",
   "metadata": {},
   "source": [
    "## Evaluate results "
   ]
  },
  {
   "cell_type": "markdown",
   "metadata": {},
   "source": [
    "**BTE's top results (score above 0.2)*** include (1) diseases that are treated with the drug Imuran and are related to IBD, (2) **potential adverse side effects** of using Imuran to treat IBD, and (3) **potential beneficial side effects** of using Imuran to treat IBD. **BTE successfully identifies the connections between Imuran, IBD, and lymphoma that we described above.** \n",
    "\n",
    "*Note that the actual BTE results (diseases identified and their scores) vary because BTE dynamically generates its knowledge graph from current API results. \n",
    "\n",
    "#1: diseases that are treated with the drug Imuran and are related to IBD\n",
    "* [Crohn disease, ulcerative colitis, IBD](https://www.mayoclinic.org/diseases-conditions/crohns-disease/diagnosis-treatment/drc-20353309), [IBD1](https://beta.monarchinitiative.org/disease/MONDO:0009960): all forms of inflammatory bowel disease\n",
    "* [Disseminated / systemic lupus erythematosus aka SLE](https://monarchinitiative.org/disease/MONDO:0007915): [drug-induced lupus has occurred in patients with IBD](https://www.sciencedirect.com/science/article/pii/S1873994612001328), and [Imuran has been used to treat SLE](https://www.hopkinslupus.org/lupus-treatment/lupus-medications/immunosuppressive-medications/)\n",
    "\n",
    "#2: **potential adverse side effects of using Imuran to treat IBD**\n",
    "* [Lymphoid cancer aka lymphoma](https://monarchinitiative.org/disease/MONDO:0005062): as mentioned above, with references [1](https://pubmed.ncbi.nlm.nih.gov/20888436/), [2](https://pubmed.ncbi.nlm.nih.gov/21830262/), [3](https://pubmed.ncbi.nlm.nih.gov/23891975/) and [4](https://www.ncbi.nlm.nih.gov/pmc/articles/PMC3710465/)\n",
    "* [Colitis aka inflammation of the colon](https://www.drugs.com/cg/colitis.html): this can [occur in IBD](https://www.mayoclinic.org/diseases-conditions/inflammatory-bowel-disease/symptoms-causes/syc-20353315) and shares symptoms (nausea, diarrhea, fever, malaise) with [adverse GI side effects of Imuran treatment](https://www.drugs.com/pro/imuran.html#s-34084-4). \n",
    "* Liver disease: [people with IBD can experience liver damage](https://www.crohnscolitisfoundation.org/what-is-ibd/extraintestinal-complications-ibd) and [liver disease affects 3-5% of people with IBD](https://www.merckmanuals.com/professional/gastrointestinal-disorders/inflammatory-bowel-disease-ibd/overview-of-inflammatory-bowel-disease#v894353). [Liver injury is an adverse side effect of Imuran](https://www.ncbi.nlm.nih.gov/pmc/articles/PMC5505863/), and [a recent case report described liver cirrhosis as a potential rare adverse event when using Imuran to treat IBD](https://www.ncbi.nlm.nih.gov/pmc/articles/PMC7008285/).     \n",
    "\n",
    "#3: **potential beneficial side effects of using Imuran to treat IBD**\n",
    "* Rheumatic arthritis or polyarthritis: [arthritis is the most common non-GI complication of IBD](https://www.crohnscolitisfoundation.org/what-is-ibd/extraintestinal-complications-ibd), [although it is not rheumatic arthritis (perhaps a misannotation?)](http://europepmc.org/article/PMC/3424429). Imuran is [indicated for the treatment of active rheumatic arthritis](https://www.drugs.com/pro/imuran.html#s-34067-9) to reduce symptoms. Perhaps Imuran treatment would also reduce the arthritis symptoms in patients with IBD. "
   ]
  },
  {
   "cell_type": "code",
   "execution_count": 35,
   "metadata": {
    "ExecuteTime": {
     "end_time": "2020-09-29T01:52:44.875041Z",
     "start_time": "2020-09-29T01:52:44.866901Z"
    }
   },
   "outputs": [
    {
     "data": {
      "text/html": [
       "<div>\n",
       "<style scoped>\n",
       "    .dataframe tbody tr th:only-of-type {\n",
       "        vertical-align: middle;\n",
       "    }\n",
       "\n",
       "    .dataframe tbody tr th {\n",
       "        vertical-align: top;\n",
       "    }\n",
       "\n",
       "    .dataframe thead th {\n",
       "        text-align: right;\n",
       "    }\n",
       "</style>\n",
       "<table border=\"1\" class=\"dataframe\">\n",
       "  <thead>\n",
       "    <tr style=\"text-align: right;\">\n",
       "      <th></th>\n",
       "      <th>score</th>\n",
       "      <th>rank</th>\n",
       "    </tr>\n",
       "  </thead>\n",
       "  <tbody>\n",
       "    <tr>\n",
       "      <th>liver disease</th>\n",
       "      <td>0.088235</td>\n",
       "      <td>1.0</td>\n",
       "    </tr>\n",
       "    <tr>\n",
       "      <th>Crohn disease</th>\n",
       "      <td>0.058824</td>\n",
       "      <td>2.0</td>\n",
       "    </tr>\n",
       "    <tr>\n",
       "      <th>diarrheal disease</th>\n",
       "      <td>0.058824</td>\n",
       "      <td>2.0</td>\n",
       "    </tr>\n",
       "    <tr>\n",
       "      <th>rheumatoid arthritis</th>\n",
       "      <td>0.044118</td>\n",
       "      <td>3.0</td>\n",
       "    </tr>\n",
       "    <tr>\n",
       "      <th>lymphoma</th>\n",
       "      <td>0.044118</td>\n",
       "      <td>3.0</td>\n",
       "    </tr>\n",
       "    <tr>\n",
       "      <th>systemic lupus erythematosus (disease)</th>\n",
       "      <td>0.044118</td>\n",
       "      <td>3.0</td>\n",
       "    </tr>\n",
       "    <tr>\n",
       "      <th>colitis (disease)</th>\n",
       "      <td>0.044118</td>\n",
       "      <td>3.0</td>\n",
       "    </tr>\n",
       "    <tr>\n",
       "      <th>systemic sclerosis</th>\n",
       "      <td>0.029412</td>\n",
       "      <td>4.0</td>\n",
       "    </tr>\n",
       "    <tr>\n",
       "      <th>digestive system disease</th>\n",
       "      <td>0.029412</td>\n",
       "      <td>4.0</td>\n",
       "    </tr>\n",
       "    <tr>\n",
       "      <th>chronic kidney disease</th>\n",
       "      <td>0.029412</td>\n",
       "      <td>4.0</td>\n",
       "    </tr>\n",
       "  </tbody>\n",
       "</table>\n",
       "</div>"
      ],
      "text/plain": [
       "                                           score  rank\n",
       "liver disease                           0.088235   1.0\n",
       "Crohn disease                           0.058824   2.0\n",
       "diarrheal disease                       0.058824   2.0\n",
       "rheumatoid arthritis                    0.044118   3.0\n",
       "lymphoma                                0.044118   3.0\n",
       "systemic lupus erythematosus (disease)  0.044118   3.0\n",
       "colitis (disease)                       0.044118   3.0\n",
       "systemic sclerosis                      0.029412   4.0\n",
       "digestive system disease                0.029412   4.0\n",
       "chronic kidney disease                  0.029412   4.0"
      ]
     },
     "execution_count": 35,
     "metadata": {},
     "output_type": "execute_result"
    }
   ],
   "source": [
    "final_scoring.head(10)"
   ]
  },
  {
   "cell_type": "markdown",
   "metadata": {},
   "source": [
    "The table below showing the relationships between IBD, Imuran, and liver disease shows how multiple API queries were chained together, including results from the Clinical Data Provider (COHD API). "
   ]
  },
  {
   "cell_type": "code",
   "execution_count": 36,
   "metadata": {
    "ExecuteTime": {
     "end_time": "2020-09-29T01:52:52.490803Z",
     "start_time": "2020-09-29T01:52:52.469230Z"
    }
   },
   "outputs": [
    {
     "data": {
      "text/html": [
       "<div>\n",
       "<style scoped>\n",
       "    .dataframe tbody tr th:only-of-type {\n",
       "        vertical-align: middle;\n",
       "    }\n",
       "\n",
       "    .dataframe tbody tr th {\n",
       "        vertical-align: top;\n",
       "    }\n",
       "\n",
       "    .dataframe thead th {\n",
       "        text-align: right;\n",
       "    }\n",
       "</style>\n",
       "<table border=\"1\" class=\"dataframe\">\n",
       "  <thead>\n",
       "    <tr style=\"text-align: right;\">\n",
       "      <th></th>\n",
       "      <th>input_id</th>\n",
       "      <th>input_label</th>\n",
       "      <th>input_type</th>\n",
       "      <th>pred1</th>\n",
       "      <th>pred1_source</th>\n",
       "      <th>pred1_api</th>\n",
       "      <th>pred1_publications</th>\n",
       "      <th>node1_id</th>\n",
       "      <th>node1_label</th>\n",
       "      <th>node1_type</th>\n",
       "      <th>node1_degree</th>\n",
       "      <th>output_id</th>\n",
       "      <th>output_label</th>\n",
       "      <th>output_type</th>\n",
       "      <th>pred2</th>\n",
       "      <th>pred2_source</th>\n",
       "      <th>pred2_api</th>\n",
       "      <th>pred2_publications</th>\n",
       "    </tr>\n",
       "  </thead>\n",
       "  <tbody>\n",
       "    <tr>\n",
       "      <th>217</th>\n",
       "      <td>MONDO:0005265</td>\n",
       "      <td>inflammatory bowel disease</td>\n",
       "      <td>Disease</td>\n",
       "      <td>correlated_with</td>\n",
       "      <td>None</td>\n",
       "      <td>COHD API</td>\n",
       "      <td>None</td>\n",
       "      <td>MONDO:0005154</td>\n",
       "      <td>liver disease</td>\n",
       "      <td>Disease</td>\n",
       "      <td>None</td>\n",
       "      <td>CHEBI:2948</td>\n",
       "      <td>AZATHIOPRINE</td>\n",
       "      <td>ChemicalSubstance</td>\n",
       "      <td>correlated_with</td>\n",
       "      <td>None</td>\n",
       "      <td>COHD API</td>\n",
       "      <td>None</td>\n",
       "    </tr>\n",
       "    <tr>\n",
       "      <th>218</th>\n",
       "      <td>MONDO:0005265</td>\n",
       "      <td>inflammatory bowel disease</td>\n",
       "      <td>Disease</td>\n",
       "      <td>correlated_with</td>\n",
       "      <td>None</td>\n",
       "      <td>COHD API</td>\n",
       "      <td>None</td>\n",
       "      <td>MONDO:0005154</td>\n",
       "      <td>liver disease</td>\n",
       "      <td>Disease</td>\n",
       "      <td>None</td>\n",
       "      <td>CHEBI:2948</td>\n",
       "      <td>AZATHIOPRINE</td>\n",
       "      <td>ChemicalSubstance</td>\n",
       "      <td>related_to</td>\n",
       "      <td>scibite</td>\n",
       "      <td>Automat CORD19 Scibite API</td>\n",
       "      <td>None</td>\n",
       "    </tr>\n",
       "    <tr>\n",
       "      <th>219</th>\n",
       "      <td>MONDO:0005265</td>\n",
       "      <td>inflammatory bowel disease</td>\n",
       "      <td>Disease</td>\n",
       "      <td>correlated_with</td>\n",
       "      <td>None</td>\n",
       "      <td>COHD API</td>\n",
       "      <td>None</td>\n",
       "      <td>MONDO:0005154</td>\n",
       "      <td>liver disease</td>\n",
       "      <td>Disease</td>\n",
       "      <td>None</td>\n",
       "      <td>CHEBI:2948</td>\n",
       "      <td>AZATHIOPRINE</td>\n",
       "      <td>ChemicalSubstance</td>\n",
       "      <td>related_to</td>\n",
       "      <td>scigraph</td>\n",
       "      <td>Automat CORD19 Scigraph API</td>\n",
       "      <td>None</td>\n",
       "    </tr>\n",
       "    <tr>\n",
       "      <th>235</th>\n",
       "      <td>MONDO:0005265</td>\n",
       "      <td>inflammatory bowel disease</td>\n",
       "      <td>Disease</td>\n",
       "      <td>related_to</td>\n",
       "      <td>Translator Text Mining Provider</td>\n",
       "      <td>CORD Disease API</td>\n",
       "      <td>PMC:6835877</td>\n",
       "      <td>MONDO:0005154</td>\n",
       "      <td>liver disease</td>\n",
       "      <td>Disease</td>\n",
       "      <td>None</td>\n",
       "      <td>CHEBI:2948</td>\n",
       "      <td>AZATHIOPRINE</td>\n",
       "      <td>ChemicalSubstance</td>\n",
       "      <td>correlated_with</td>\n",
       "      <td>None</td>\n",
       "      <td>COHD API</td>\n",
       "      <td>None</td>\n",
       "    </tr>\n",
       "    <tr>\n",
       "      <th>236</th>\n",
       "      <td>MONDO:0005265</td>\n",
       "      <td>inflammatory bowel disease</td>\n",
       "      <td>Disease</td>\n",
       "      <td>related_to</td>\n",
       "      <td>Translator Text Mining Provider</td>\n",
       "      <td>CORD Disease API</td>\n",
       "      <td>PMC:6835877</td>\n",
       "      <td>MONDO:0005154</td>\n",
       "      <td>liver disease</td>\n",
       "      <td>Disease</td>\n",
       "      <td>None</td>\n",
       "      <td>CHEBI:2948</td>\n",
       "      <td>AZATHIOPRINE</td>\n",
       "      <td>ChemicalSubstance</td>\n",
       "      <td>related_to</td>\n",
       "      <td>scibite</td>\n",
       "      <td>Automat CORD19 Scibite API</td>\n",
       "      <td>None</td>\n",
       "    </tr>\n",
       "    <tr>\n",
       "      <th>237</th>\n",
       "      <td>MONDO:0005265</td>\n",
       "      <td>inflammatory bowel disease</td>\n",
       "      <td>Disease</td>\n",
       "      <td>related_to</td>\n",
       "      <td>Translator Text Mining Provider</td>\n",
       "      <td>CORD Disease API</td>\n",
       "      <td>PMC:6835877</td>\n",
       "      <td>MONDO:0005154</td>\n",
       "      <td>liver disease</td>\n",
       "      <td>Disease</td>\n",
       "      <td>None</td>\n",
       "      <td>CHEBI:2948</td>\n",
       "      <td>AZATHIOPRINE</td>\n",
       "      <td>ChemicalSubstance</td>\n",
       "      <td>related_to</td>\n",
       "      <td>scigraph</td>\n",
       "      <td>Automat CORD19 Scigraph API</td>\n",
       "      <td>None</td>\n",
       "    </tr>\n",
       "  </tbody>\n",
       "</table>\n",
       "</div>"
      ],
      "text/plain": [
       "          input_id                 input_label input_type            pred1  \\\n",
       "217  MONDO:0005265  inflammatory bowel disease    Disease  correlated_with   \n",
       "218  MONDO:0005265  inflammatory bowel disease    Disease  correlated_with   \n",
       "219  MONDO:0005265  inflammatory bowel disease    Disease  correlated_with   \n",
       "235  MONDO:0005265  inflammatory bowel disease    Disease       related_to   \n",
       "236  MONDO:0005265  inflammatory bowel disease    Disease       related_to   \n",
       "237  MONDO:0005265  inflammatory bowel disease    Disease       related_to   \n",
       "\n",
       "                        pred1_source         pred1_api pred1_publications  \\\n",
       "217                             None          COHD API               None   \n",
       "218                             None          COHD API               None   \n",
       "219                             None          COHD API               None   \n",
       "235  Translator Text Mining Provider  CORD Disease API        PMC:6835877   \n",
       "236  Translator Text Mining Provider  CORD Disease API        PMC:6835877   \n",
       "237  Translator Text Mining Provider  CORD Disease API        PMC:6835877   \n",
       "\n",
       "          node1_id    node1_label node1_type node1_degree   output_id  \\\n",
       "217  MONDO:0005154  liver disease    Disease         None  CHEBI:2948   \n",
       "218  MONDO:0005154  liver disease    Disease         None  CHEBI:2948   \n",
       "219  MONDO:0005154  liver disease    Disease         None  CHEBI:2948   \n",
       "235  MONDO:0005154  liver disease    Disease         None  CHEBI:2948   \n",
       "236  MONDO:0005154  liver disease    Disease         None  CHEBI:2948   \n",
       "237  MONDO:0005154  liver disease    Disease         None  CHEBI:2948   \n",
       "\n",
       "     output_label        output_type            pred2 pred2_source  \\\n",
       "217  AZATHIOPRINE  ChemicalSubstance  correlated_with         None   \n",
       "218  AZATHIOPRINE  ChemicalSubstance       related_to      scibite   \n",
       "219  AZATHIOPRINE  ChemicalSubstance       related_to     scigraph   \n",
       "235  AZATHIOPRINE  ChemicalSubstance  correlated_with         None   \n",
       "236  AZATHIOPRINE  ChemicalSubstance       related_to      scibite   \n",
       "237  AZATHIOPRINE  ChemicalSubstance       related_to     scigraph   \n",
       "\n",
       "                       pred2_api pred2_publications  \n",
       "217                     COHD API               None  \n",
       "218   Automat CORD19 Scibite API               None  \n",
       "219  Automat CORD19 Scigraph API               None  \n",
       "235                     COHD API               None  \n",
       "236   Automat CORD19 Scibite API               None  \n",
       "237  Automat CORD19 Scigraph API               None  "
      ]
     },
     "execution_count": 36,
     "metadata": {},
     "output_type": "execute_result"
    }
   ],
   "source": [
    "final_table[final_table['node1_label'] == 'liver disease']"
   ]
  },
  {
   "cell_type": "code",
   "execution_count": null,
   "metadata": {},
   "outputs": [],
   "source": []
  }
 ],
 "metadata": {
  "kernelspec": {
   "display_name": "Python 3",
   "language": "python",
   "name": "python3"
  },
  "language_info": {
   "codemirror_mode": {
    "name": "ipython",
    "version": 3
   },
   "file_extension": ".py",
   "mimetype": "text/x-python",
   "name": "python",
   "nbconvert_exporter": "python",
   "pygments_lexer": "ipython3",
   "version": "3.7.9"
  },
  "toc": {
   "base_numbering": 1,
   "nav_menu": {},
   "number_sections": true,
   "sideBar": true,
   "skip_h1_title": true,
   "title_cell": "Table of Contents",
   "title_sidebar": "Contents",
   "toc_cell": false,
   "toc_position": {
    "height": "calc(100% - 180px)",
    "left": "10px",
    "top": "150px",
    "width": "261.567px"
   },
   "toc_section_display": true,
   "toc_window_display": true
  },
  "varInspector": {
   "cols": {
    "lenName": 16,
    "lenType": 16,
    "lenVar": 40
   },
   "kernels_config": {
    "python": {
     "delete_cmd_postfix": "",
     "delete_cmd_prefix": "del ",
     "library": "var_list.py",
     "varRefreshCmd": "print(var_dic_list())"
    },
    "r": {
     "delete_cmd_postfix": ") ",
     "delete_cmd_prefix": "rm(",
     "library": "var_list.r",
     "varRefreshCmd": "cat(var_dic_list()) "
    }
   },
   "types_to_exclude": [
    "module",
    "function",
    "builtin_function_or_method",
    "instance",
    "_Feature"
   ],
   "window_display": false
  }
 },
 "nbformat": 4,
 "nbformat_minor": 4
}
