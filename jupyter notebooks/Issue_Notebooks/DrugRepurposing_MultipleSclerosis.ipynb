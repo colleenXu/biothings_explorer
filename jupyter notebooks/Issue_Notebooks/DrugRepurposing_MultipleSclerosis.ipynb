{
 "cells": [
  {
   "cell_type": "markdown",
   "metadata": {},
   "source": [
    "# Multiple Sclerosis Drug Repurposing"
   ]
  },
  {
   "cell_type": "markdown",
   "metadata": {},
   "source": [
    "## Introduction"
   ]
  },
  {
   "cell_type": "markdown",
   "metadata": {},
   "source": [
    "https://github.com/biothings/biothings_explorer/issues/134  \n",
    "https://www.nature.com/articles/s41586-018-0360-3"
   ]
  },
  {
   "cell_type": "markdown",
   "metadata": {},
   "source": [
    "## Step 0: Load BTE modules, notebook functions"
   ]
  },
  {
   "cell_type": "code",
   "execution_count": null,
   "metadata": {},
   "outputs": [],
   "source": [
    "## for Google Colab\n",
    "%%capture\n",
    "!pip install git+https://github.com/colleenXu/biothings_explorer@issues_134_135#egg=biothings_explorer"
   ]
  },
  {
   "cell_type": "code",
   "execution_count": 1,
   "metadata": {
    "ExecuteTime": {
     "end_time": "2020-12-01T06:54:13.359883Z",
     "start_time": "2020-12-01T06:54:12.485612Z"
    }
   },
   "outputs": [],
   "source": [
    "## CX: allows multiple lines of code to print from one code block\n",
    "from IPython.core.interactiveshell import InteractiveShell\n",
    "InteractiveShell.ast_node_interactivity = \"all\"\n",
    "\n",
    "# import modules from biothings_explorer\n",
    "from biothings_explorer.hint import Hint\n",
    "from biothings_explorer.user_query_dispatcher import FindConnection\n",
    "\n",
    "## show time that this notebook was executed \n",
    "from datetime import datetime\n",
    "\n",
    "## packages to work with objects \n",
    "import re\n",
    "\n",
    "## to get around bugs\n",
    "import nest_asyncio\n",
    "nest_asyncio.apply()"
   ]
  },
  {
   "cell_type": "code",
   "execution_count": 2,
   "metadata": {
    "ExecuteTime": {
     "end_time": "2020-12-01T06:54:13.400132Z",
     "start_time": "2020-12-01T06:54:13.393997Z"
    }
   },
   "outputs": [],
   "source": [
    "## functions to add to modules?\n",
    "def hint_display(query, hint_result):\n",
    "    \"\"\"\n",
    "    show the type, name, number of IDs for all results returned by the query\n",
    "    \n",
    "    :param: query: string used in hint query\n",
    "    :param: hint_result: object returned from hint query, a dictionary of lists of dictionaries\n",
    "    \n",
    "    Returns: None\n",
    "    \"\"\"\n",
    "    ## function needs to be rewritten if it's going to give the exact index of each object within its type \n",
    "    display = ['type', 'name']  ## replace with the parts of the BioThings object you want to see\n",
    "    concise_results = []\n",
    "    for BT_type, result in hint_result.items():\n",
    "        if result:  ## basically if it's not empty\n",
    "            for items in result:\n",
    "                ## number of identifiers per object: number of keys - 4 (name, primary, display, type)\n",
    "                temp = len(items) - 4\n",
    "                concise_results.append((items[display[0]], items[display[1]], \n",
    "                                         str(temp)))\n",
    "                    \n",
    "    print('There are {total} BioThings objects returned for {ht}:'.format(\\\n",
    "                total = len(concise_results), ht = query))\n",
    "    for display_info in concise_results:\n",
    "        print('{0}, {1}, num of IDs: {2}'.format(display_info[0], display_info[1], display_info[2]))"
   ]
  },
  {
   "cell_type": "code",
   "execution_count": 3,
   "metadata": {
    "ExecuteTime": {
     "end_time": "2020-12-01T06:54:13.705091Z",
     "start_time": "2020-12-01T06:54:13.700530Z"
    }
   },
   "outputs": [],
   "source": [
    "def filter_table(df):\n",
    "    \"\"\"\n",
    "    use _source and _method columns to remove rows (paths) from the dataframe\n",
    "    :param: pandas dataframe containing results from BTE FindConnection module, in table form\n",
    "    \n",
    "    Returns: filtered dataframe\n",
    "    \"\"\"\n",
    "    ## note: still needs checking with EXPLAIN queries\n",
    "    ## key is the string to match to column, value is a list of strings to match to column values\n",
    "    filter_out = {'_source': ['SEMMED', 'CTD', 'ctd', 'omia']   \n",
    "#                   '_method': []  ## currently no method stuff I want to filter out\n",
    "                 }\n",
    "    ## SEMMED: text mining results wrong for PhenotypicFeature -> Gene\n",
    "    ## CTD/ctd: results odd for MSUD -> ChemicalSubstance\n",
    "    ## omia: results wrong or discontinued gene IDs for PhenotypicFeature -> Gene\n",
    "    \n",
    "    \n",
    "    df_temp = df.copy()  ## so the original df isn't modified in-place\n",
    "    for key,val in filter_out.items():\n",
    "        ## find columns that match the key string\n",
    "        columns = [i for i in df_temp.columns if key in i]\n",
    "        ## iterate through each column\n",
    "        for col in columns:\n",
    "            ## iterate through each value to take out, check if string CONTAINS match. \n",
    "            ## only keep rows that don't contain the value\n",
    "            for i in val:\n",
    "                df_temp = df_temp[~ df_temp[col].str.contains(i, na = False)]\n",
    "    return df_temp"
   ]
  },
  {
   "cell_type": "code",
   "execution_count": 4,
   "metadata": {
    "ExecuteTime": {
     "end_time": "2020-12-01T06:54:14.093562Z",
     "start_time": "2020-12-01T06:54:14.084783Z"
    }
   },
   "outputs": [],
   "source": [
    "def scoring_output(df, q_type):\n",
    "    \"\"\"\n",
    "    score results based on whether query was Predict or Explain type, number of \n",
    "        intermediate nodes \n",
    "    :param: pandas dataframe containing results from BTE FindConnection module\n",
    "    :param: string describing type of query (Predict or Explain)\n",
    "    \n",
    "    May flatten some edges, because score only counts one edge per \n",
    "        unique predicate / API / method (ignoring source and pubmed col)\n",
    "    \n",
    "    Predict queries: score each output node by counting # of paths\n",
    "        from input nodes to it. Normalize by dividing by maximum\n",
    "        possible # of paths\n",
    "    Explain two-hop (one intermediate) queries: score each intermediate node by \n",
    "        counting # of paths (between input and output nodes) that include it. \n",
    "        Normalize by dividing by maximum possible # of paths    \n",
    "\n",
    "    Explain one-hop (direct) queries: no need to score, prints message\n",
    "    Other Explain queries (many-hops): currently not able to score, prints message     \n",
    "    \n",
    "    Returns: pandas series with scores, index is output_name\n",
    "             or None (one-hop or many-hop Explain query)\n",
    "    \"\"\"\n",
    "    df_temp = df.copy()  ## so no chance to mutate this   \n",
    "    flag_direct = False  ## one-hop query or not\n",
    "    ## use df_col to look quicker into columns\n",
    "    df_col = set(df_temp.columns)\n",
    "    \n",
    "    ## ignore source and pubmed col in looking at unique edges \n",
    "    columns_drop = [col for col in df_col if (('_source' in col) or ('_pubmed' in col))]\n",
    "    df_temp.drop(columns = columns_drop, inplace = True)    \n",
    "    df_temp.drop_duplicates(inplace = True)\n",
    "    \n",
    "    ## check if query is one-hop or not\n",
    "    if \"node1_name\" not in df_col:    ## name for first intermediate node layer\n",
    "        flag_direct = True  \n",
    "    \n",
    "    if q_type == 'Explain':\n",
    "        if flag_direct:   # one hop / no intermediates\n",
    "            print('No valid node scoring for one-hop (direct) Explain queries.')\n",
    "            return None\n",
    "        ## if there are many-hops/intermediate layers\n",
    "        elif \"node2_name\" in df_col:  ## name for 2nd intermed. node layer\n",
    "            print('Cannot currently score many-hop Explain queries.')\n",
    "            return None\n",
    "        else:   ## two-hop / 1 intermediate layer\n",
    "            ## count multi-edges to results (the intermediate node1 col)\n",
    "            scores = df_temp.node1_name.value_counts() \n",
    "            ## to find the maximum-possible number of edges, look at non-result cols\n",
    "            columns_drop = [col for col in df_col if 'node1' in col]\n",
    "            df_temp.drop(columns = columns_drop, inplace = True)\n",
    "            ## now look at number of unique combos for input, edge info, output\n",
    "            df_temp.drop_duplicates(inplace = True)\n",
    "            max_paths = df_temp.shape[0]            \n",
    "            ## normalize scores by dividing each by max number of paths\n",
    "            scores = scores / max_paths\n",
    "\n",
    "    else:  ## Predict type query\n",
    "        ## count multi-edges to results (the output col)\n",
    "        scores = df_temp.output_name.value_counts()\n",
    "        ## to find the maximum number of multi-edges, look at non-output col\n",
    "        columns_drop = [col for col in df_temp.columns if 'output' in col]\n",
    "        df_temp.drop(columns = columns_drop, inplace = True)\n",
    "        ## now look at number of unique paths possible\n",
    "        df_temp.drop_duplicates(inplace = True)\n",
    "        max_paths = df_temp.shape[0]\n",
    "        ## normalize scores by dividing each by max number of paths\n",
    "        scores = scores / max_paths\n",
    "            \n",
    "    ## return scores as pandas dataframe, with rank\n",
    "    scores = scores.to_frame(name = 'score') \n",
    "    scores['rank'] = scores['score'].rank(method = 'dense', ascending = False)\n",
    "    return scores"
   ]
  },
  {
   "cell_type": "code",
   "execution_count": 5,
   "metadata": {
    "ExecuteTime": {
     "end_time": "2020-12-01T06:54:14.452679Z",
     "start_time": "2020-12-01T06:54:14.448276Z"
    }
   },
   "outputs": [
    {
     "name": "stdout",
     "output_type": "stream",
     "text": [
      "The time that this notebook was executed is...\n",
      "Local time (PST, West Coast USA): \n",
      "2020-11-30 22:54:14.449904\n",
      "UTC time: \n",
      "2020-12-01 06:54:14.450071\n"
     ]
    }
   ],
   "source": [
    "## record when cell blocks are executed\n",
    "print('The time that this notebook was executed is...')\n",
    "print('Local time (PST, West Coast USA): ')\n",
    "print(datetime.now())\n",
    "print('UTC time: ')\n",
    "print(datetime.utcnow())"
   ]
  },
  {
   "cell_type": "markdown",
   "metadata": {},
   "source": [
    "## Step 1: Find representation of \"multiple sclerosis\" in BTE"
   ]
  },
  {
   "cell_type": "code",
   "execution_count": 70,
   "metadata": {
    "ExecuteTime": {
     "end_time": "2020-12-01T07:10:05.741534Z",
     "start_time": "2020-12-01T07:10:05.226031Z"
    }
   },
   "outputs": [
    {
     "name": "stdout",
     "output_type": "stream",
     "text": [
      "There are 1 BioThings objects returned for CHEBI:86570:\n",
      "ChemicalSubstance, DIHYDROCHOLESTEROL, num of IDs: 9\n"
     ]
    }
   ],
   "source": [
    "ht = Hint()  ## neater way to call this BTE module\n",
    "\n",
    "## the human user gives this input\n",
    "starting_str1 = \"CHEBI:86570\"\n",
    "\n",
    "start_hint1 = ht.query(starting_str1)\n",
    "hint_display(starting_str1, start_hint1)"
   ]
  },
  {
   "cell_type": "code",
   "execution_count": 71,
   "metadata": {
    "ExecuteTime": {
     "end_time": "2020-12-01T07:10:07.446260Z",
     "start_time": "2020-12-01T07:10:07.441992Z"
    }
   },
   "outputs": [
    {
     "data": {
      "text/plain": [
       "{'CHEMBL.COMPOUND': 'CHEMBL1289436',\n",
       " 'PUBCHEM': 6665,\n",
       " 'CHEBI': 'CHEBI:86570',\n",
       " 'UNII': '8M308U816E',\n",
       " 'INCHIKEY': 'QYIXCDOBOSTCEI-QCYZZNICSA-N',\n",
       " 'INCHI': 'InChI=1S/C27H48O/c1-18(2)7-6-8-19(3)23-11-12-24-22-10-9-20-17-21(28)13-15-26(20,4)25(22)14-16-27(23,24)5/h18-25,28H,6-17H2,1-5H3/t19-,20+,21+,22+,23-,24+,25+,26+,27-/m1/s1',\n",
       " 'name': 'DIHYDROCHOLESTEROL',\n",
       " 'CAS': '80-97-7',\n",
       " 'IUPAC': '(3S,5S,8R,9S,10S,13R,14S,17R)-17-[(1R)-1,5-dimethylhexyl]-10,13-dimethyl-2,3,4,5,6,7,8,9,11,12,14,15,16,17-tetradecahydro-1H-cyclopenta[a]phenanthren-3-ol',\n",
       " 'formula': 'C27H48O',\n",
       " 'primary': {'identifier': 'CHEBI',\n",
       "  'cls': 'ChemicalSubstance',\n",
       "  'value': 'CHEBI:86570'},\n",
       " 'display': 'CHEBI(CHEBI:86570) CHEMBL.COMPOUND(CHEMBL1289436) PUBCHEM(6665) UNII(8M308U816E) name(DIHYDROCHOLESTEROL) CAS(80-97-7) IUPAC((3S,5S,8R,9S,10S,13R,14S,17R)-17-[(1R)-1,5-dimethylhexyl]-10,13-dimethyl-2,3,4,5,6,7,8,9,11,12,14,15,16,17-tetradecahydro-1H-cyclopenta[a]phenanthren-3-ol) formula(C27H48O)',\n",
       " 'type': 'ChemicalSubstance'}"
      ]
     },
     "execution_count": 71,
     "metadata": {},
     "output_type": "execute_result"
    }
   ],
   "source": [
    "choice_type1 = 'ChemicalSubstance'\n",
    "choice_idx1 = 0\n",
    "\n",
    "start_hint_obj1 = start_hint1[choice_type1][choice_idx1]  \n",
    "start_hint_obj1"
   ]
  },
  {
   "cell_type": "markdown",
   "metadata": {},
   "source": [
    "## query"
   ]
  },
  {
   "cell_type": "code",
   "execution_count": 72,
   "metadata": {
    "ExecuteTime": {
     "end_time": "2020-12-01T07:10:10.503447Z",
     "start_time": "2020-12-01T07:10:09.760726Z"
    }
   },
   "outputs": [
    {
     "name": "stdout",
     "output_type": "stream",
     "text": [
      "==========\n",
      "========== QUERY PARAMETER SUMMARY ==========\n",
      "==========\n",
      "\n",
      "BTE will find paths that join 'DIHYDROCHOLESTEROL' and 'Gene'. Paths will have 0 intermediate node.\n",
      "\n",
      "\n",
      "\n",
      "========== QUERY #1 -- fetch all Gene entities linked to DIHYDROCHOLESTEROL ==========\n",
      "==========\n",
      "\n",
      "==== Step #1: Query path planning ====\n",
      "\n",
      "Because DIHYDROCHOLESTEROL is of type 'ChemicalSubstance', BTE will query our meta-KG for APIs that can take 'ChemicalSubstance' as input and 'Gene' as output\n",
      "\n",
      "BTE found 8 apis:\n",
      "\n",
      "API 1. hmdb(1 API call)\n",
      "API 2. dgidb(1 API call)\n",
      "API 3. chembio(1 API call)\n",
      "API 4. scibite(1 API call)\n",
      "API 5. pharos(1 API call)\n",
      "API 6. scigraph(1 API call)\n",
      "API 7. mychem(1 API call)\n",
      "API 8. cord_chemical(1 API call)\n",
      "\n",
      "\n",
      "==== Step #2: Query path execution ====\n",
      "NOTE: API requests are dispatched in parallel, so the list of APIs below is ordered by query time.\n",
      "\n",
      "API 8.1: https://biothings.ncats.io/cord_chemical/query?fields=associated_with (POST -d q=CHEBI:86570&scopes=chebi)\n",
      "API 2.1: http://dgidb.genome.wustl.edu/api/v2/interactions.json?drugs=CHEMBL1289436\n",
      "API 3.1: https://automat.renci.org/chembio/chemical_substance/gene/CHEBI:86570\n",
      "API 4.1: https://automat.renci.org/cord19-scibite/chemical_substance/gene/CHEBI:86570\n",
      "API 5.1: https://automat.renci.org/pharos/chemical_substance/gene/CHEBI:86570\n",
      "API 1.1: https://automat.renci.org/hmdb/chemical_substance/gene/CHEBI:86570\n",
      "API 6.1: https://automat.renci.org/cord19-scigraph/chemical_substance/gene/CHEBI:86570\n",
      "\n",
      "\n",
      "==== Step #3: Output normalization ====\n",
      "\n",
      "API 3.1 chembio: No hits\n",
      "API 4.1 scibite: No hits\n",
      "API 7.1 mychem: No hits\n",
      "API 5.1 pharos: No hits\n",
      "API 6.1 scigraph: No hits\n",
      "API 2.1 dgidb: No hits\n",
      "API 1.1 hmdb: No hits\n",
      "API 8.1 cord_chemical: No hits\n",
      "\n",
      "After id-to-object translation, BTE retrieved 0 unique objects.\n",
      "\n",
      "==========\n",
      "========== Final assembly of results ==========\n",
      "==========\n",
      "\n",
      "\n"
     ]
    }
   ],
   "source": [
    "## the human user gives this input\n",
    "q1_output_type = 'Gene'\n",
    "# q1_intermediate = 'PhenotypicFeature'\n",
    "\n",
    "q1 = FindConnection(input_obj = start_hint_obj1,\\\n",
    "                     output_obj = q1_output_type, \\\n",
    "                    intermediate_nodes = None)\n",
    "q1.connect(verbose = True)"
   ]
  },
  {
   "cell_type": "code",
   "execution_count": 64,
   "metadata": {
    "ExecuteTime": {
     "end_time": "2020-12-01T07:07:07.031046Z",
     "start_time": "2020-12-01T07:07:07.018361Z"
    }
   },
   "outputs": [],
   "source": [
    "q1_r_paths_table = q1.display_table_view()\n",
    "\n",
    "q1_type = re.findall(\"dispatcher.([a-zA-Z]+)'\", str(type(q1.fc)))\n",
    "q1_type = \"\".join(q1_type)  ## convert to string\n",
    "\n",
    "q1 = None  ## clear memory"
   ]
  },
  {
   "cell_type": "code",
   "execution_count": 65,
   "metadata": {
    "ExecuteTime": {
     "end_time": "2020-12-01T07:07:09.656635Z",
     "start_time": "2020-12-01T07:07:09.652482Z"
    }
   },
   "outputs": [
    {
     "name": "stdout",
     "output_type": "stream",
     "text": [
      "There are 12 unique Gene.\n",
      "There are 13 unique paths.\n"
     ]
    }
   ],
   "source": [
    "## show number of unique output nodes\n",
    "print(\"There are {0} unique {1}.\".format( \\\n",
    "    q1_r_paths_table.output_name.nunique(), q1_output_type))\n",
    "\n",
    "## show number of paths from MSUD to genes\n",
    "print(\"There are {0} unique paths.\".format( \\\n",
    "    q1_r_paths_table.shape[0]))"
   ]
  },
  {
   "cell_type": "code",
   "execution_count": 44,
   "metadata": {
    "ExecuteTime": {
     "end_time": "2020-12-01T07:03:31.060654Z",
     "start_time": "2020-12-01T07:03:31.028916Z"
    }
   },
   "outputs": [
    {
     "data": {
      "text/html": [
       "<div>\n",
       "<style scoped>\n",
       "    .dataframe tbody tr th:only-of-type {\n",
       "        vertical-align: middle;\n",
       "    }\n",
       "\n",
       "    .dataframe tbody tr th {\n",
       "        vertical-align: top;\n",
       "    }\n",
       "\n",
       "    .dataframe thead th {\n",
       "        text-align: right;\n",
       "    }\n",
       "</style>\n",
       "<table border=\"1\" class=\"dataframe\">\n",
       "  <thead>\n",
       "    <tr style=\"text-align: right;\">\n",
       "      <th></th>\n",
       "      <th>input</th>\n",
       "      <th>input_type</th>\n",
       "      <th>pred1</th>\n",
       "      <th>pred1_source</th>\n",
       "      <th>pred1_api</th>\n",
       "      <th>pred1_pubmed</th>\n",
       "      <th>output_type</th>\n",
       "      <th>output_name</th>\n",
       "      <th>output_id</th>\n",
       "    </tr>\n",
       "  </thead>\n",
       "  <tbody>\n",
       "  </tbody>\n",
       "</table>\n",
       "</div>"
      ],
      "text/plain": [
       "Empty DataFrame\n",
       "Columns: [input, input_type, pred1, pred1_source, pred1_api, pred1_pubmed, output_type, output_name, output_id]\n",
       "Index: []"
      ]
     },
     "execution_count": 44,
     "metadata": {},
     "output_type": "execute_result"
    },
    {
     "data": {
      "text/html": [
       "<div>\n",
       "<style scoped>\n",
       "    .dataframe tbody tr th:only-of-type {\n",
       "        vertical-align: middle;\n",
       "    }\n",
       "\n",
       "    .dataframe tbody tr th {\n",
       "        vertical-align: top;\n",
       "    }\n",
       "\n",
       "    .dataframe thead th {\n",
       "        text-align: right;\n",
       "    }\n",
       "</style>\n",
       "<table border=\"1\" class=\"dataframe\">\n",
       "  <thead>\n",
       "    <tr style=\"text-align: right;\">\n",
       "      <th></th>\n",
       "      <th>input</th>\n",
       "      <th>input_type</th>\n",
       "      <th>pred1</th>\n",
       "      <th>pred1_source</th>\n",
       "      <th>pred1_api</th>\n",
       "      <th>pred1_pubmed</th>\n",
       "      <th>output_type</th>\n",
       "      <th>output_name</th>\n",
       "      <th>output_id</th>\n",
       "    </tr>\n",
       "  </thead>\n",
       "  <tbody>\n",
       "    <tr>\n",
       "      <th>0</th>\n",
       "      <td>5ALPHA-CHOLEST-8-EN-3BETA-OL</td>\n",
       "      <td>ChemicalSubstance</td>\n",
       "      <td>related_to</td>\n",
       "      <td>hmdb</td>\n",
       "      <td>Automat HMDB API</td>\n",
       "      <td>None</td>\n",
       "      <td>Gene</td>\n",
       "      <td>EBP</td>\n",
       "      <td>NCBIGene:10682</td>\n",
       "    </tr>\n",
       "  </tbody>\n",
       "</table>\n",
       "</div>"
      ],
      "text/plain": [
       "                          input         input_type       pred1 pred1_source  \\\n",
       "0  5ALPHA-CHOLEST-8-EN-3BETA-OL  ChemicalSubstance  related_to         hmdb   \n",
       "\n",
       "          pred1_api pred1_pubmed output_type output_name       output_id  \n",
       "0  Automat HMDB API         None        Gene         EBP  NCBIGene:10682  "
      ]
     },
     "execution_count": 44,
     "metadata": {},
     "output_type": "execute_result"
    },
    {
     "data": {
      "text/html": [
       "<div>\n",
       "<style scoped>\n",
       "    .dataframe tbody tr th:only-of-type {\n",
       "        vertical-align: middle;\n",
       "    }\n",
       "\n",
       "    .dataframe tbody tr th {\n",
       "        vertical-align: top;\n",
       "    }\n",
       "\n",
       "    .dataframe thead th {\n",
       "        text-align: right;\n",
       "    }\n",
       "</style>\n",
       "<table border=\"1\" class=\"dataframe\">\n",
       "  <thead>\n",
       "    <tr style=\"text-align: right;\">\n",
       "      <th></th>\n",
       "      <th>input</th>\n",
       "      <th>input_type</th>\n",
       "      <th>pred1</th>\n",
       "      <th>pred1_source</th>\n",
       "      <th>pred1_api</th>\n",
       "      <th>pred1_pubmed</th>\n",
       "      <th>output_type</th>\n",
       "      <th>output_name</th>\n",
       "      <th>output_id</th>\n",
       "    </tr>\n",
       "  </thead>\n",
       "  <tbody>\n",
       "  </tbody>\n",
       "</table>\n",
       "</div>"
      ],
      "text/plain": [
       "Empty DataFrame\n",
       "Columns: [input, input_type, pred1, pred1_source, pred1_api, pred1_pubmed, output_type, output_name, output_id]\n",
       "Index: []"
      ]
     },
     "execution_count": 44,
     "metadata": {},
     "output_type": "execute_result"
    },
    {
     "data": {
      "text/html": [
       "<div>\n",
       "<style scoped>\n",
       "    .dataframe tbody tr th:only-of-type {\n",
       "        vertical-align: middle;\n",
       "    }\n",
       "\n",
       "    .dataframe tbody tr th {\n",
       "        vertical-align: top;\n",
       "    }\n",
       "\n",
       "    .dataframe thead th {\n",
       "        text-align: right;\n",
       "    }\n",
       "</style>\n",
       "<table border=\"1\" class=\"dataframe\">\n",
       "  <thead>\n",
       "    <tr style=\"text-align: right;\">\n",
       "      <th></th>\n",
       "      <th>input</th>\n",
       "      <th>input_type</th>\n",
       "      <th>pred1</th>\n",
       "      <th>pred1_source</th>\n",
       "      <th>pred1_api</th>\n",
       "      <th>pred1_pubmed</th>\n",
       "      <th>output_type</th>\n",
       "      <th>output_name</th>\n",
       "      <th>output_id</th>\n",
       "    </tr>\n",
       "  </thead>\n",
       "  <tbody>\n",
       "  </tbody>\n",
       "</table>\n",
       "</div>"
      ],
      "text/plain": [
       "Empty DataFrame\n",
       "Columns: [input, input_type, pred1, pred1_source, pred1_api, pred1_pubmed, output_type, output_name, output_id]\n",
       "Index: []"
      ]
     },
     "execution_count": 44,
     "metadata": {},
     "output_type": "execute_result"
    }
   ],
   "source": [
    "q1_r_paths_table[q1_r_paths_table['output_name'].str.contains('LSS')]\n",
    "q1_r_paths_table[q1_r_paths_table['output_name'].str.contains('EBP')]\n",
    "q1_r_paths_table[q1_r_paths_table['output_name'].str.contains('CYP51')]\n",
    "q1_r_paths_table[q1_r_paths_table['output_name'].str.contains('TM7SF2')]"
   ]
  },
  {
   "cell_type": "code",
   "execution_count": 66,
   "metadata": {
    "ExecuteTime": {
     "end_time": "2020-12-01T07:07:12.183634Z",
     "start_time": "2020-12-01T07:07:12.168428Z"
    }
   },
   "outputs": [
    {
     "data": {
      "text/html": [
       "<div>\n",
       "<style scoped>\n",
       "    .dataframe tbody tr th:only-of-type {\n",
       "        vertical-align: middle;\n",
       "    }\n",
       "\n",
       "    .dataframe tbody tr th {\n",
       "        vertical-align: top;\n",
       "    }\n",
       "\n",
       "    .dataframe thead th {\n",
       "        text-align: right;\n",
       "    }\n",
       "</style>\n",
       "<table border=\"1\" class=\"dataframe\">\n",
       "  <thead>\n",
       "    <tr style=\"text-align: right;\">\n",
       "      <th></th>\n",
       "      <th>input</th>\n",
       "      <th>input_type</th>\n",
       "      <th>pred1</th>\n",
       "      <th>pred1_source</th>\n",
       "      <th>pred1_api</th>\n",
       "      <th>pred1_pubmed</th>\n",
       "      <th>output_type</th>\n",
       "      <th>output_name</th>\n",
       "      <th>output_id</th>\n",
       "    </tr>\n",
       "  </thead>\n",
       "  <tbody>\n",
       "    <tr>\n",
       "      <th>0</th>\n",
       "      <td>24-DEHYDROCHOLESTEROL</td>\n",
       "      <td>ChemicalSubstance</td>\n",
       "      <td>related_to</td>\n",
       "      <td>Translator Text Mining Provider</td>\n",
       "      <td>CORD Chemical API</td>\n",
       "      <td>None</td>\n",
       "      <td>Gene</td>\n",
       "      <td>7314</td>\n",
       "      <td>HGNC:7314</td>\n",
       "    </tr>\n",
       "    <tr>\n",
       "      <th>1</th>\n",
       "      <td>24-DEHYDROCHOLESTEROL</td>\n",
       "      <td>ChemicalSubstance</td>\n",
       "      <td>related_to</td>\n",
       "      <td>scibite</td>\n",
       "      <td>Automat CORD19 Scibite API</td>\n",
       "      <td>None</td>\n",
       "      <td>Gene</td>\n",
       "      <td>NR1H3</td>\n",
       "      <td>NCBIGene:10062</td>\n",
       "    </tr>\n",
       "    <tr>\n",
       "      <th>2</th>\n",
       "      <td>24-DEHYDROCHOLESTEROL</td>\n",
       "      <td>ChemicalSubstance</td>\n",
       "      <td>related_to</td>\n",
       "      <td>pharos</td>\n",
       "      <td>Automat PHAROS API</td>\n",
       "      <td>None</td>\n",
       "      <td>Gene</td>\n",
       "      <td>NR1H3</td>\n",
       "      <td>NCBIGene:10062</td>\n",
       "    </tr>\n",
       "    <tr>\n",
       "      <th>3</th>\n",
       "      <td>24-DEHYDROCHOLESTEROL</td>\n",
       "      <td>ChemicalSubstance</td>\n",
       "      <td>related_to</td>\n",
       "      <td>pharos</td>\n",
       "      <td>Automat PHAROS API</td>\n",
       "      <td>None</td>\n",
       "      <td>Gene</td>\n",
       "      <td>NR1H2</td>\n",
       "      <td>NCBIGene:7376</td>\n",
       "    </tr>\n",
       "    <tr>\n",
       "      <th>4</th>\n",
       "      <td>24-DEHYDROCHOLESTEROL</td>\n",
       "      <td>ChemicalSubstance</td>\n",
       "      <td>related_to</td>\n",
       "      <td>hmdb</td>\n",
       "      <td>Automat HMDB API</td>\n",
       "      <td>None</td>\n",
       "      <td>Gene</td>\n",
       "      <td>DHCR24</td>\n",
       "      <td>NCBIGene:1718</td>\n",
       "    </tr>\n",
       "    <tr>\n",
       "      <th>5</th>\n",
       "      <td>24-DEHYDROCHOLESTEROL</td>\n",
       "      <td>ChemicalSubstance</td>\n",
       "      <td>related_to</td>\n",
       "      <td>Translator Text Mining Provider</td>\n",
       "      <td>CORD Chemical API</td>\n",
       "      <td>None</td>\n",
       "      <td>Gene</td>\n",
       "      <td>CYP27A1</td>\n",
       "      <td>NCBIGene:1593</td>\n",
       "    </tr>\n",
       "    <tr>\n",
       "      <th>6</th>\n",
       "      <td>24-DEHYDROCHOLESTEROL</td>\n",
       "      <td>ChemicalSubstance</td>\n",
       "      <td>related_to</td>\n",
       "      <td>Translator Text Mining Provider</td>\n",
       "      <td>CORD Chemical API</td>\n",
       "      <td>None</td>\n",
       "      <td>Gene</td>\n",
       "      <td>CYP7B1</td>\n",
       "      <td>NCBIGene:9420</td>\n",
       "    </tr>\n",
       "    <tr>\n",
       "      <th>7</th>\n",
       "      <td>24-DEHYDROCHOLESTEROL</td>\n",
       "      <td>ChemicalSubstance</td>\n",
       "      <td>related_to</td>\n",
       "      <td>Translator Text Mining Provider</td>\n",
       "      <td>CORD Chemical API</td>\n",
       "      <td>None</td>\n",
       "      <td>Gene</td>\n",
       "      <td>NDUFB6</td>\n",
       "      <td>NCBIGene:4712</td>\n",
       "    </tr>\n",
       "    <tr>\n",
       "      <th>8</th>\n",
       "      <td>24-DEHYDROCHOLESTEROL</td>\n",
       "      <td>ChemicalSubstance</td>\n",
       "      <td>related_to</td>\n",
       "      <td>Translator Text Mining Provider</td>\n",
       "      <td>CORD Chemical API</td>\n",
       "      <td>None</td>\n",
       "      <td>Gene</td>\n",
       "      <td>DHDDS</td>\n",
       "      <td>NCBIGene:79947</td>\n",
       "    </tr>\n",
       "    <tr>\n",
       "      <th>9</th>\n",
       "      <td>24-DEHYDROCHOLESTEROL</td>\n",
       "      <td>ChemicalSubstance</td>\n",
       "      <td>related_to</td>\n",
       "      <td>Translator Text Mining Provider</td>\n",
       "      <td>CORD Chemical API</td>\n",
       "      <td>None</td>\n",
       "      <td>Gene</td>\n",
       "      <td>PSMB7</td>\n",
       "      <td>NCBIGene:5695</td>\n",
       "    </tr>\n",
       "    <tr>\n",
       "      <th>10</th>\n",
       "      <td>24-DEHYDROCHOLESTEROL</td>\n",
       "      <td>ChemicalSubstance</td>\n",
       "      <td>related_to</td>\n",
       "      <td>Translator Text Mining Provider</td>\n",
       "      <td>CORD Chemical API</td>\n",
       "      <td>None</td>\n",
       "      <td>Gene</td>\n",
       "      <td>PSMD1</td>\n",
       "      <td>NCBIGene:5707</td>\n",
       "    </tr>\n",
       "    <tr>\n",
       "      <th>11</th>\n",
       "      <td>24-DEHYDROCHOLESTEROL</td>\n",
       "      <td>ChemicalSubstance</td>\n",
       "      <td>related_to</td>\n",
       "      <td>Translator Text Mining Provider</td>\n",
       "      <td>CORD Chemical API</td>\n",
       "      <td>None</td>\n",
       "      <td>Gene</td>\n",
       "      <td>CISH</td>\n",
       "      <td>NCBIGene:1154</td>\n",
       "    </tr>\n",
       "    <tr>\n",
       "      <th>12</th>\n",
       "      <td>24-DEHYDROCHOLESTEROL</td>\n",
       "      <td>ChemicalSubstance</td>\n",
       "      <td>related_to</td>\n",
       "      <td>Translator Text Mining Provider</td>\n",
       "      <td>CORD Chemical API</td>\n",
       "      <td>None</td>\n",
       "      <td>Gene</td>\n",
       "      <td>ARHGAP32</td>\n",
       "      <td>NCBIGene:9743</td>\n",
       "    </tr>\n",
       "  </tbody>\n",
       "</table>\n",
       "</div>"
      ],
      "text/plain": [
       "                    input         input_type       pred1  \\\n",
       "0   24-DEHYDROCHOLESTEROL  ChemicalSubstance  related_to   \n",
       "1   24-DEHYDROCHOLESTEROL  ChemicalSubstance  related_to   \n",
       "2   24-DEHYDROCHOLESTEROL  ChemicalSubstance  related_to   \n",
       "3   24-DEHYDROCHOLESTEROL  ChemicalSubstance  related_to   \n",
       "4   24-DEHYDROCHOLESTEROL  ChemicalSubstance  related_to   \n",
       "5   24-DEHYDROCHOLESTEROL  ChemicalSubstance  related_to   \n",
       "6   24-DEHYDROCHOLESTEROL  ChemicalSubstance  related_to   \n",
       "7   24-DEHYDROCHOLESTEROL  ChemicalSubstance  related_to   \n",
       "8   24-DEHYDROCHOLESTEROL  ChemicalSubstance  related_to   \n",
       "9   24-DEHYDROCHOLESTEROL  ChemicalSubstance  related_to   \n",
       "10  24-DEHYDROCHOLESTEROL  ChemicalSubstance  related_to   \n",
       "11  24-DEHYDROCHOLESTEROL  ChemicalSubstance  related_to   \n",
       "12  24-DEHYDROCHOLESTEROL  ChemicalSubstance  related_to   \n",
       "\n",
       "                       pred1_source                   pred1_api pred1_pubmed  \\\n",
       "0   Translator Text Mining Provider           CORD Chemical API         None   \n",
       "1                           scibite  Automat CORD19 Scibite API         None   \n",
       "2                            pharos          Automat PHAROS API         None   \n",
       "3                            pharos          Automat PHAROS API         None   \n",
       "4                              hmdb            Automat HMDB API         None   \n",
       "5   Translator Text Mining Provider           CORD Chemical API         None   \n",
       "6   Translator Text Mining Provider           CORD Chemical API         None   \n",
       "7   Translator Text Mining Provider           CORD Chemical API         None   \n",
       "8   Translator Text Mining Provider           CORD Chemical API         None   \n",
       "9   Translator Text Mining Provider           CORD Chemical API         None   \n",
       "10  Translator Text Mining Provider           CORD Chemical API         None   \n",
       "11  Translator Text Mining Provider           CORD Chemical API         None   \n",
       "12  Translator Text Mining Provider           CORD Chemical API         None   \n",
       "\n",
       "   output_type output_name       output_id  \n",
       "0         Gene        7314       HGNC:7314  \n",
       "1         Gene       NR1H3  NCBIGene:10062  \n",
       "2         Gene       NR1H3  NCBIGene:10062  \n",
       "3         Gene       NR1H2   NCBIGene:7376  \n",
       "4         Gene      DHCR24   NCBIGene:1718  \n",
       "5         Gene     CYP27A1   NCBIGene:1593  \n",
       "6         Gene      CYP7B1   NCBIGene:9420  \n",
       "7         Gene      NDUFB6   NCBIGene:4712  \n",
       "8         Gene       DHDDS  NCBIGene:79947  \n",
       "9         Gene       PSMB7   NCBIGene:5695  \n",
       "10        Gene       PSMD1   NCBIGene:5707  \n",
       "11        Gene        CISH   NCBIGene:1154  \n",
       "12        Gene    ARHGAP32   NCBIGene:9743  "
      ]
     },
     "execution_count": 66,
     "metadata": {},
     "output_type": "execute_result"
    }
   ],
   "source": [
    "q1_r_paths_table"
   ]
  },
  {
   "cell_type": "code",
   "execution_count": null,
   "metadata": {
    "ExecuteTime": {
     "end_time": "2020-12-01T05:41:58.327199Z",
     "start_time": "2020-12-01T05:41:58.320996Z"
    }
   },
   "outputs": [],
   "source": [
    "q1_r_paths_table = filter_table(q1_r_paths_table)\n",
    "\n",
    "## show number of paths from MSUD to genes\n",
    "print(\"There are {0} unique paths.\".format( \\\n",
    "    q1_r_paths_table.shape[0]))"
   ]
  },
  {
   "cell_type": "code",
   "execution_count": null,
   "metadata": {
    "ExecuteTime": {
     "end_time": "2020-12-01T05:18:38.682919Z",
     "start_time": "2020-12-01T05:18:38.661812Z"
    },
    "scrolled": true
   },
   "outputs": [],
   "source": [
    "q1_r_paths_table"
   ]
  },
  {
   "cell_type": "code",
   "execution_count": null,
   "metadata": {},
   "outputs": [],
   "source": []
  },
  {
   "cell_type": "markdown",
   "metadata": {},
   "source": [
    "## Step 2: Find representation of \"sterol biosyn\" in BTE"
   ]
  },
  {
   "cell_type": "code",
   "execution_count": null,
   "metadata": {
    "ExecuteTime": {
     "end_time": "2020-12-01T05:39:13.921124Z",
     "start_time": "2020-12-01T05:39:13.734910Z"
    }
   },
   "outputs": [],
   "source": [
    "ht = Hint()  ## neater way to call this BTE module\n",
    "\n",
    "## the human user gives this input\n",
    "starting_str = \"cholesterol biosynthesis\"\n",
    "\n",
    "start_hint = ht.query(starting_str)\n",
    "hint_display(starting_str, start_hint)"
   ]
  },
  {
   "cell_type": "code",
   "execution_count": null,
   "metadata": {
    "ExecuteTime": {
     "end_time": "2020-12-01T05:36:06.128636Z",
     "start_time": "2020-12-01T05:36:06.124223Z"
    }
   },
   "outputs": [],
   "source": [
    "choice_type = 'BiologicalProcess'\n",
    "choice_idx = 0\n",
    "\n",
    "start_hint_obj = start_hint[choice_type][choice_idx]  \n",
    "start_hint_obj"
   ]
  }
 ],
 "metadata": {
  "kernelspec": {
   "display_name": "Python 3",
   "language": "python",
   "name": "python3"
  },
  "language_info": {
   "codemirror_mode": {
    "name": "ipython",
    "version": 3
   },
   "file_extension": ".py",
   "mimetype": "text/x-python",
   "name": "python",
   "nbconvert_exporter": "python",
   "pygments_lexer": "ipython3",
   "version": "3.7.9"
  },
  "toc": {
   "base_numbering": 1,
   "nav_menu": {},
   "number_sections": true,
   "sideBar": true,
   "skip_h1_title": true,
   "title_cell": "Table of Contents",
   "title_sidebar": "Contents",
   "toc_cell": false,
   "toc_position": {
    "height": "calc(100% - 180px)",
    "left": "10px",
    "top": "150px",
    "width": "222.5px"
   },
   "toc_section_display": true,
   "toc_window_display": true
  },
  "varInspector": {
   "cols": {
    "lenName": 16,
    "lenType": 16,
    "lenVar": 40
   },
   "kernels_config": {
    "python": {
     "delete_cmd_postfix": "",
     "delete_cmd_prefix": "del ",
     "library": "var_list.py",
     "varRefreshCmd": "print(var_dic_list())"
    },
    "r": {
     "delete_cmd_postfix": ") ",
     "delete_cmd_prefix": "rm(",
     "library": "var_list.r",
     "varRefreshCmd": "cat(var_dic_list()) "
    }
   },
   "types_to_exclude": [
    "module",
    "function",
    "builtin_function_or_method",
    "instance",
    "_Feature"
   ],
   "window_display": false
  }
 },
 "nbformat": 4,
 "nbformat_minor": 4
}
