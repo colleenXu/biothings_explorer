{
 "cells": [
  {
   "cell_type": "markdown",
   "metadata": {},
   "source": [
    "# VAMP2 Deficiency Drug Repurposing"
   ]
  },
  {
   "cell_type": "markdown",
   "metadata": {},
   "source": [
    "## Introduction"
   ]
  },
  {
   "cell_type": "markdown",
   "metadata": {},
   "source": [
    "https://github.com/biothings/biothings_explorer/issues/135  \n",
    "https://onlinelibrary.wiley.com/doi/full/10.1002/humu.24109?af=R  \n",
    "https://pubmed.ncbi.nlm.nih.gov/30929742/  "
   ]
  },
  {
   "cell_type": "markdown",
   "metadata": {},
   "source": [
    "## Step 0: Load BTE modules, notebook functions"
   ]
  },
  {
   "cell_type": "code",
   "execution_count": null,
   "metadata": {},
   "outputs": [],
   "source": [
    "## for Google Colab\n",
    "%%capture\n",
    "!pip install git+https://github.com/colleenXu/biothings_explorer@issues_134_135#egg=biothings_explorer"
   ]
  },
  {
   "cell_type": "code",
   "execution_count": 1,
   "metadata": {
    "ExecuteTime": {
     "end_time": "2020-11-27T02:56:20.750835Z",
     "start_time": "2020-11-27T02:56:20.154500Z"
    }
   },
   "outputs": [],
   "source": [
    "## CX: allows multiple lines of code to print from one code block\n",
    "from IPython.core.interactiveshell import InteractiveShell\n",
    "InteractiveShell.ast_node_interactivity = \"all\"\n",
    "\n",
    "# import modules from biothings_explorer\n",
    "from biothings_explorer.hint import Hint\n",
    "from biothings_explorer.user_query_dispatcher import FindConnection\n",
    "\n",
    "## show time that this notebook was executed \n",
    "from datetime import datetime\n",
    "\n",
    "## packages to work with objects \n",
    "import re\n",
    "\n",
    "## to get around bugs\n",
    "import nest_asyncio\n",
    "nest_asyncio.apply()"
   ]
  },
  {
   "cell_type": "code",
   "execution_count": 2,
   "metadata": {
    "ExecuteTime": {
     "end_time": "2020-11-27T02:56:21.236226Z",
     "start_time": "2020-11-27T02:56:21.230273Z"
    }
   },
   "outputs": [],
   "source": [
    "## functions to add to modules?\n",
    "def hint_display(query, hint_result):\n",
    "    \"\"\"\n",
    "    show the type, name, number of IDs for all results returned by the query\n",
    "    \n",
    "    :param: query: string used in hint query\n",
    "    :param: hint_result: object returned from hint query, a dictionary of lists of dictionaries\n",
    "    \n",
    "    Returns: None\n",
    "    \"\"\"\n",
    "    ## function needs to be rewritten if it's going to give the exact index of each object within its type \n",
    "    display = ['type', 'name']  ## replace with the parts of the BioThings object you want to see\n",
    "    concise_results = []\n",
    "    for BT_type, result in hint_result.items():\n",
    "        if result:  ## basically if it's not empty\n",
    "            for items in result:\n",
    "                ## number of identifiers per object: number of keys - 4 (name, primary, display, type)\n",
    "                temp = len(items) - 4\n",
    "                concise_results.append((items[display[0]], items[display[1]], \n",
    "                                         str(temp)))\n",
    "                    \n",
    "    print('There are {total} BioThings objects returned for {ht}:'.format(\\\n",
    "                total = len(concise_results), ht = query))\n",
    "    for display_info in concise_results:\n",
    "        print('{0}, {1}, num of IDs: {2}'.format(display_info[0], display_info[1], display_info[2]))"
   ]
  },
  {
   "cell_type": "code",
   "execution_count": 3,
   "metadata": {
    "ExecuteTime": {
     "end_time": "2020-11-27T02:56:21.722387Z",
     "start_time": "2020-11-27T02:56:21.717877Z"
    }
   },
   "outputs": [],
   "source": [
    "def filter_table(df):\n",
    "    \"\"\"\n",
    "    use _source and _method columns to remove rows (paths) from the dataframe\n",
    "    :param: pandas dataframe containing results from BTE FindConnection module, in table form\n",
    "    \n",
    "    Returns: filtered dataframe\n",
    "    \"\"\"\n",
    "    ## note: still needs checking with EXPLAIN queries\n",
    "    ## key is the string to match to column, value is a list of strings to match to column values\n",
    "    filter_out = {'_source': ['SEMMED', 'CTD', 'ctd', 'omia']   \n",
    "#                   '_method': []  ## currently no method stuff I want to filter out\n",
    "                 }\n",
    "    ## SEMMED: text mining results wrong for PhenotypicFeature -> Gene\n",
    "    ## CTD/ctd: results odd for MSUD -> ChemicalSubstance\n",
    "    ## omia: results wrong or discontinued gene IDs for PhenotypicFeature -> Gene\n",
    "    \n",
    "    \n",
    "    df_temp = df.copy()  ## so the original df isn't modified in-place\n",
    "    for key,val in filter_out.items():\n",
    "        ## find columns that match the key string\n",
    "        columns = [i for i in df_temp.columns if key in i]\n",
    "        ## iterate through each column\n",
    "        for col in columns:\n",
    "            ## iterate through each value to take out, check if string CONTAINS match. \n",
    "            ## only keep rows that don't contain the value\n",
    "            for i in val:\n",
    "                df_temp = df_temp[~ df_temp[col].str.contains(i, na = False)]\n",
    "    return df_temp"
   ]
  },
  {
   "cell_type": "code",
   "execution_count": 4,
   "metadata": {
    "ExecuteTime": {
     "end_time": "2020-11-27T02:56:22.161262Z",
     "start_time": "2020-11-27T02:56:22.152009Z"
    }
   },
   "outputs": [],
   "source": [
    "def scoring_output(df, q_type):\n",
    "    \"\"\"\n",
    "    score results based on whether query was Predict or Explain type, number of \n",
    "        intermediate nodes \n",
    "    :param: pandas dataframe containing results from BTE FindConnection module\n",
    "    :param: string describing type of query (Predict or Explain)\n",
    "    \n",
    "    May flatten some edges, because score only counts one edge per \n",
    "        unique predicate / API / method (ignoring source and pubmed col)\n",
    "    \n",
    "    Predict queries: score each output node by counting # of paths\n",
    "        from input nodes to it. Normalize by dividing by maximum\n",
    "        possible # of paths\n",
    "    Explain two-hop (one intermediate) queries: score each intermediate node by \n",
    "        counting # of paths (between input and output nodes) that include it. \n",
    "        Normalize by dividing by maximum possible # of paths    \n",
    "\n",
    "    Explain one-hop (direct) queries: no need to score, prints message\n",
    "    Other Explain queries (many-hops): currently not able to score, prints message     \n",
    "    \n",
    "    Returns: pandas series with scores, index is output_name\n",
    "             or None (one-hop or many-hop Explain query)\n",
    "    \"\"\"\n",
    "    df_temp = df.copy()  ## so no chance to mutate this   \n",
    "    flag_direct = False  ## one-hop query or not\n",
    "    ## use df_col to look quicker into columns\n",
    "    df_col = set(df_temp.columns)\n",
    "    \n",
    "    ## ignore source and pubmed col in looking at unique edges \n",
    "    columns_drop = [col for col in df_col if (('_source' in col) or ('_pubmed' in col))]\n",
    "    df_temp.drop(columns = columns_drop, inplace = True)    \n",
    "    df_temp.drop_duplicates(inplace = True)\n",
    "    \n",
    "    ## check if query is one-hop or not\n",
    "    if \"node1_name\" not in df_col:    ## name for first intermediate node layer\n",
    "        flag_direct = True  \n",
    "    \n",
    "    if q_type == 'Explain':\n",
    "        if flag_direct:   # one hop / no intermediates\n",
    "            print('No valid node scoring for one-hop (direct) Explain queries.')\n",
    "            return None\n",
    "        ## if there are many-hops/intermediate layers\n",
    "        elif \"node2_name\" in df_col:  ## name for 2nd intermed. node layer\n",
    "            print('Cannot currently score many-hop Explain queries.')\n",
    "            return None\n",
    "        else:   ## two-hop / 1 intermediate layer\n",
    "            ## count multi-edges to results (the intermediate node1 col)\n",
    "            scores = df_temp.node1_name.value_counts() \n",
    "            ## to find the maximum-possible number of edges, look at non-result cols\n",
    "            columns_drop = [col for col in df_col if 'node1' in col]\n",
    "            df_temp.drop(columns = columns_drop, inplace = True)\n",
    "            ## now look at number of unique combos for input, edge info, output\n",
    "            df_temp.drop_duplicates(inplace = True)\n",
    "            max_paths = df_temp.shape[0]            \n",
    "            ## normalize scores by dividing each by max number of paths\n",
    "            scores = scores / max_paths\n",
    "\n",
    "    else:  ## Predict type query\n",
    "        ## count multi-edges to results (the output col)\n",
    "        scores = df_temp.output_name.value_counts()\n",
    "        ## to find the maximum number of multi-edges, look at non-output col\n",
    "        columns_drop = [col for col in df_temp.columns if 'output' in col]\n",
    "        df_temp.drop(columns = columns_drop, inplace = True)\n",
    "        ## now look at number of unique paths possible\n",
    "        df_temp.drop_duplicates(inplace = True)\n",
    "        max_paths = df_temp.shape[0]\n",
    "        ## normalize scores by dividing each by max number of paths\n",
    "        scores = scores / max_paths\n",
    "            \n",
    "    ## return scores as pandas dataframe, with rank\n",
    "    scores = scores.to_frame(name = 'score') \n",
    "    scores['rank'] = scores['score'].rank(method = 'dense', ascending = False)\n",
    "    return scores"
   ]
  },
  {
   "cell_type": "code",
   "execution_count": 5,
   "metadata": {
    "ExecuteTime": {
     "end_time": "2020-11-27T02:56:22.689012Z",
     "start_time": "2020-11-27T02:56:22.685095Z"
    }
   },
   "outputs": [
    {
     "name": "stdout",
     "output_type": "stream",
     "text": [
      "The time that this notebook was executed is...\n",
      "Local time (PST, West Coast USA): \n",
      "2020-11-26 18:56:22.686453\n",
      "UTC time: \n",
      "2020-11-27 02:56:22.686738\n"
     ]
    }
   ],
   "source": [
    "## record when cell blocks are executed\n",
    "print('The time that this notebook was executed is...')\n",
    "print('Local time (PST, West Coast USA): ')\n",
    "print(datetime.now())\n",
    "print('UTC time: ')\n",
    "print(datetime.utcnow())"
   ]
  },
  {
   "cell_type": "markdown",
   "metadata": {},
   "source": [
    "## Step 1: Find representation of \"\" in BTE"
   ]
  },
  {
   "cell_type": "code",
   "execution_count": 6,
   "metadata": {
    "ExecuteTime": {
     "end_time": "2020-11-27T02:52:35.414721Z",
     "start_time": "2020-11-27T02:52:35.094319Z"
    }
   },
   "outputs": [
    {
     "name": "stdout",
     "output_type": "stream",
     "text": [
      "There are 6 BioThings objects returned for maple syrup urine disease:\n",
      "Disease, maple syrup urine disease, num of IDs: 6\n",
      "Disease, maple syrup urine disease, mild variant, num of IDs: 3\n",
      "Disease, pyruvate dehydrogenase E3 deficiency, num of IDs: 4\n",
      "Disease, inborn disorder of branched-chain amino acid metabolism, num of IDs: 3\n",
      "Disease, classic maple syrup urine disease, num of IDs: 3\n",
      "Pathway, Maple Syrup Urine Disease, num of IDs: 0\n"
     ]
    }
   ],
   "source": [
    "ht = Hint()  ## neater way to call this BTE module\n",
    "\n",
    "## the human user gives this input\n",
    "disease_starting_str = \"maple syrup urine disease\"\n",
    "\n",
    "disease_hint = ht.query(disease_starting_str)\n",
    "hint_display(disease_starting_str, disease_hint)"
   ]
  },
  {
   "cell_type": "code",
   "execution_count": 7,
   "metadata": {
    "ExecuteTime": {
     "end_time": "2020-11-27T02:52:42.858634Z",
     "start_time": "2020-11-27T02:52:42.847915Z"
    }
   },
   "outputs": [
    {
     "data": {
      "text/plain": [
       "{'MONDO': 'MONDO:0009563',\n",
       " 'DOID': 'DOID:9269',\n",
       " 'UMLS': 'C0024776',\n",
       " 'name': 'maple syrup urine disease',\n",
       " 'MESH': 'D008375',\n",
       " 'OMIM': '248600',\n",
       " 'ORPHANET': '511',\n",
       " 'primary': {'identifier': 'MONDO',\n",
       "  'cls': 'Disease',\n",
       "  'value': 'MONDO:0009563'},\n",
       " 'display': 'MONDO(MONDO:0009563) DOID(DOID:9269) OMIM(248600) ORPHANET(511) UMLS(C0024776) MESH(D008375) name(maple syrup urine disease)',\n",
       " 'type': 'Disease'}"
      ]
     },
     "execution_count": 7,
     "metadata": {},
     "output_type": "execute_result"
    }
   ],
   "source": [
    "## the human user makes this choice, gives this input\n",
    "disease_choice_type = 'Disease'\n",
    "disease_choice_idx = 0\n",
    "\n",
    "disease_hint_obj = disease_hint[disease_choice_type][disease_choice_idx]  \n",
    "disease_hint_obj"
   ]
  },
  {
   "cell_type": "code",
   "execution_count": null,
   "metadata": {},
   "outputs": [],
   "source": []
  }
 ],
 "metadata": {
  "kernelspec": {
   "display_name": "Python 3",
   "language": "python",
   "name": "python3"
  },
  "language_info": {
   "codemirror_mode": {
    "name": "ipython",
    "version": 3
   },
   "file_extension": ".py",
   "mimetype": "text/x-python",
   "name": "python",
   "nbconvert_exporter": "python",
   "pygments_lexer": "ipython3",
   "version": "3.7.9"
  },
  "toc": {
   "base_numbering": 1,
   "nav_menu": {},
   "number_sections": true,
   "sideBar": true,
   "skip_h1_title": true,
   "title_cell": "Table of Contents",
   "title_sidebar": "Contents",
   "toc_cell": false,
   "toc_position": {},
   "toc_section_display": true,
   "toc_window_display": true
  },
  "varInspector": {
   "cols": {
    "lenName": 16,
    "lenType": 16,
    "lenVar": 40
   },
   "kernels_config": {
    "python": {
     "delete_cmd_postfix": "",
     "delete_cmd_prefix": "del ",
     "library": "var_list.py",
     "varRefreshCmd": "print(var_dic_list())"
    },
    "r": {
     "delete_cmd_postfix": ") ",
     "delete_cmd_prefix": "rm(",
     "library": "var_list.r",
     "varRefreshCmd": "cat(var_dic_list()) "
    }
   },
   "types_to_exclude": [
    "module",
    "function",
    "builtin_function_or_method",
    "instance",
    "_Feature"
   ],
   "window_display": false
  }
 },
 "nbformat": 4,
 "nbformat_minor": 4
}
