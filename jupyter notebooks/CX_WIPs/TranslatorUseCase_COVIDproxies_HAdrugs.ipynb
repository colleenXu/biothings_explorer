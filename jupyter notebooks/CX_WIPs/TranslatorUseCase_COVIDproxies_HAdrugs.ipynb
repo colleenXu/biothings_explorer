{
 "cells": [
  {
   "cell_type": "markdown",
   "metadata": {},
   "source": [
    "# Exploring COVID, hereditary angioedema, drugs"
   ]
  },
  {
   "cell_type": "markdown",
   "metadata": {},
   "source": [
    "2020-11-26 update: Hint module results changed so the pick selection is changed. "
   ]
  },
  {
   "cell_type": "markdown",
   "metadata": {},
   "source": [
    "## Intro"
   ]
  },
  {
   "cell_type": "markdown",
   "metadata": {},
   "source": [
    "**To experiment with an executable version of this notebook, [load it in Google Colaboratory](https://colab.research.google.com/github/colleenXu/biothings_explorer/blob/relay/jupyter%20notebooks/CX_WIPs/TranslatorUseCase_COVIDproxies_HAdrugs.ipynb).**\n",
    "\n",
    "BioThings Explorer (BTE) can answer two classes of queries -- \"EXPLAIN\" and \"PREDICT\". This Question fits the EXPLAIN  template of starting with **a specific biomedical entity** (a specific `Disease` X) and finding indirect relationships with **another specific biomedical entity** (a specific `ChemicalSubstance` Y)."
   ]
  },
  {
   "cell_type": "markdown",
   "metadata": {},
   "source": [
    "## Step 0: Load BTE modules, notebook functions"
   ]
  },
  {
   "cell_type": "code",
   "execution_count": null,
   "metadata": {},
   "outputs": [],
   "source": [
    "## for Google Colab\n",
    "%%capture\n",
    "!pip install git+https://github.com/colleenXu/biothings_explorer@relay#egg=biothings_explorer"
   ]
  },
  {
   "cell_type": "code",
   "execution_count": 1,
   "metadata": {
    "ExecuteTime": {
     "end_time": "2020-11-27T01:51:45.228548Z",
     "start_time": "2020-11-27T01:51:44.575712Z"
    }
   },
   "outputs": [],
   "source": [
    "## CX: allows multiple lines of code to print from one code block\n",
    "from IPython.core.interactiveshell import InteractiveShell\n",
    "InteractiveShell.ast_node_interactivity = \"all\"\n",
    "\n",
    "# import modules from biothings_explorer\n",
    "from biothings_explorer.hint import Hint\n",
    "from biothings_explorer.user_query_dispatcher import FindConnection\n",
    "\n",
    "## show time that this notebook was executed \n",
    "from datetime import datetime\n",
    "\n",
    "## packages to work with objects \n",
    "import re\n",
    "\n",
    "## to get around bugs\n",
    "import nest_asyncio\n",
    "nest_asyncio.apply()"
   ]
  },
  {
   "cell_type": "code",
   "execution_count": 2,
   "metadata": {
    "ExecuteTime": {
     "end_time": "2020-11-27T01:51:46.144957Z",
     "start_time": "2020-11-27T01:51:46.139990Z"
    }
   },
   "outputs": [],
   "source": [
    "## functions to add to modules?\n",
    "def hint_display(query, hint_result):\n",
    "    \"\"\"\n",
    "    show the type, name, number of IDs for all results returned by the query\n",
    "    \n",
    "    :param: query: string used in hint query\n",
    "    :param: hint_result: object returned from hint query, a dictionary of lists of dictionaries\n",
    "    \n",
    "    Returns: None\n",
    "    \"\"\"\n",
    "    ## function needs to be rewritten if it's going to give the exact index of each object within its type \n",
    "    display = ['type', 'name']  ## replace with the parts of the BioThings object you want to see\n",
    "    concise_results = []\n",
    "    for BT_type, result in hint_result.items():\n",
    "        if result:  ## basically if it's not empty\n",
    "            for items in result:\n",
    "                ## number of identifiers per object: number of keys - 4 (name, primary, display, type)\n",
    "                temp = len(items) - 4\n",
    "                concise_results.append((items[display[0]], items[display[1]], \n",
    "                                         str(temp)))\n",
    "                    \n",
    "    print('There are {total} BioThings objects returned for {ht}:'.format(\\\n",
    "                total = len(concise_results), ht = query))\n",
    "    for display_info in concise_results:\n",
    "        print('{0}, {1}, num of IDs: {2}'.format(display_info[0], display_info[1], display_info[2]))"
   ]
  },
  {
   "cell_type": "code",
   "execution_count": 3,
   "metadata": {
    "ExecuteTime": {
     "end_time": "2020-11-27T01:51:46.602873Z",
     "start_time": "2020-11-27T01:51:46.598553Z"
    }
   },
   "outputs": [],
   "source": [
    "def filter_table(df):\n",
    "    \"\"\"\n",
    "    use _source and _method columns to remove rows (paths) from the dataframe\n",
    "    :param: pandas dataframe containing results from BTE FindConnection module, in table form\n",
    "    \n",
    "    Returns: filtered dataframe\n",
    "    \"\"\"\n",
    "    ## note: still needs checking with EXPLAIN queries\n",
    "    ## key is the string to match to column, value is a list of strings to match to column values\n",
    "    filter_out = {'_source': ['SEMMED', 'CTD', 'ctd', 'omia']   \n",
    "#                   '_method': []  ## currently no method stuff I want to filter out\n",
    "                 }\n",
    "    ## SEMMED: text mining results wrong for PhenotypicFeature -> Gene\n",
    "    ## CTD/ctd: results odd for MSUD -> ChemicalSubstance\n",
    "    ## omia: results wrong or discontinued gene IDs for PhenotypicFeature -> Gene\n",
    "    \n",
    "    \n",
    "    df_temp = df.copy()  ## so the original df isn't modified in-place\n",
    "    for key,val in filter_out.items():\n",
    "        ## find columns that match the key string\n",
    "        columns = [i for i in df_temp.columns if key in i]\n",
    "        ## iterate through each column\n",
    "        for col in columns:\n",
    "            ## iterate through each value to take out, check if string CONTAINS match. \n",
    "            ## only keep rows that don't contain the value\n",
    "            for i in val:\n",
    "                df_temp = df_temp[~ df_temp[col].str.contains(i, na = False)]\n",
    "    return df_temp"
   ]
  },
  {
   "cell_type": "code",
   "execution_count": 4,
   "metadata": {
    "ExecuteTime": {
     "end_time": "2020-11-27T01:51:47.033830Z",
     "start_time": "2020-11-27T01:51:47.024950Z"
    }
   },
   "outputs": [],
   "source": [
    "def scoring_output(df, q_type):\n",
    "    \"\"\"\n",
    "    score results based on whether query was Predict or Explain type, number of \n",
    "        intermediate nodes \n",
    "    :param: pandas dataframe containing results from BTE FindConnection module\n",
    "    :param: string describing type of query (Predict or Explain)\n",
    "    \n",
    "    May flatten some edges, because score only counts one edge per \n",
    "        unique predicate / API / method (ignoring source and pubmed col)\n",
    "    \n",
    "    Predict queries: score each output node by counting # of paths\n",
    "        from input nodes to it. Normalize by dividing by maximum\n",
    "        possible # of paths\n",
    "    Explain two-hop (one intermediate) queries: score each intermediate node by \n",
    "        counting # of paths (between input and output nodes) that include it. \n",
    "        Normalize by dividing by maximum possible # of paths    \n",
    "\n",
    "    Explain one-hop (direct) queries: no need to score, prints message\n",
    "    Other Explain queries (many-hops): currently not able to score, prints message     \n",
    "    \n",
    "    Returns: pandas series with scores, index is output_name\n",
    "             or None (one-hop or many-hop Explain query)\n",
    "    \"\"\"\n",
    "    df_temp = df.copy()  ## so no chance to mutate this   \n",
    "    flag_direct = False  ## one-hop query or not\n",
    "    ## use df_col to look quicker into columns\n",
    "    df_col = set(df_temp.columns)\n",
    "    \n",
    "    ## ignore source and pubmed col in looking at unique edges \n",
    "    columns_drop = [col for col in df_col if (('_source' in col) or ('_pubmed' in col))]\n",
    "    df_temp.drop(columns = columns_drop, inplace = True)    \n",
    "    df_temp.drop_duplicates(inplace = True)\n",
    "    \n",
    "    ## check if query is one-hop or not\n",
    "    if \"node1_name\" not in df_col:    ## name for first intermediate node layer\n",
    "        flag_direct = True  \n",
    "    \n",
    "    if q_type == 'Explain':\n",
    "        if flag_direct:   # one hop / no intermediates\n",
    "            print('No valid node scoring for one-hop (direct) Explain queries.')\n",
    "            return None\n",
    "        ## if there are many-hops/intermediate layers\n",
    "        elif \"node2_name\" in df_col:  ## name for 2nd intermed. node layer\n",
    "            print('Cannot currently score many-hop Explain queries.')\n",
    "            return None\n",
    "        else:   ## two-hop / 1 intermediate layer\n",
    "            ## count multi-edges to results (the intermediate node1 col)\n",
    "            scores = df_temp.node1_name.value_counts() \n",
    "            ## to find the maximum-possible number of edges, look at non-result cols\n",
    "            columns_drop = [col for col in df_col if 'node1' in col]\n",
    "            df_temp.drop(columns = columns_drop, inplace = True)\n",
    "            ## now look at number of unique combos for input, edge info, output\n",
    "            df_temp.drop_duplicates(inplace = True)\n",
    "            max_paths = df_temp.shape[0]            \n",
    "            ## normalize scores by dividing each by max number of paths\n",
    "            scores = scores / max_paths\n",
    "\n",
    "    else:  ## Predict type query\n",
    "        ## count multi-edges to results (the output col)\n",
    "        scores = df_temp.output_name.value_counts()\n",
    "        ## to find the maximum number of multi-edges, look at non-output col\n",
    "        columns_drop = [col for col in df_temp.columns if 'output' in col]\n",
    "        df_temp.drop(columns = columns_drop, inplace = True)\n",
    "        ## now look at number of unique paths possible\n",
    "        df_temp.drop_duplicates(inplace = True)\n",
    "        max_paths = df_temp.shape[0]\n",
    "        ## normalize scores by dividing each by max number of paths\n",
    "        scores = scores / max_paths\n",
    "            \n",
    "    ## return scores as pandas dataframe, with rank\n",
    "    scores = scores.to_frame(name = 'score') \n",
    "    scores['rank'] = scores['score'].rank(method = 'dense', ascending = False)\n",
    "    return scores"
   ]
  },
  {
   "cell_type": "code",
   "execution_count": 5,
   "metadata": {
    "ExecuteTime": {
     "end_time": "2020-11-27T01:51:47.482889Z",
     "start_time": "2020-11-27T01:51:47.478394Z"
    }
   },
   "outputs": [
    {
     "name": "stdout",
     "output_type": "stream",
     "text": [
      "The time that this notebook was executed is...\n",
      "Local time (PST, West Coast USA): \n",
      "2020-11-26 17:51:47.480246\n",
      "UTC time: \n",
      "2020-11-27 01:51:47.480470\n"
     ]
    }
   ],
   "source": [
    "## record when cell blocks are executed\n",
    "print('The time that this notebook was executed is...')\n",
    "print('Local time (PST, West Coast USA): ')\n",
    "print(datetime.now())\n",
    "print('UTC time: ')\n",
    "print(datetime.utcnow())"
   ]
  },
  {
   "cell_type": "markdown",
   "metadata": {},
   "source": [
    "## Step 1: Find representation of \"SARS\" in BTE"
   ]
  },
  {
   "cell_type": "markdown",
   "metadata": {},
   "source": [
    "In this step, BioThings Explorer translates our query string \"hypertension\"  into BioThings objects, which contain mappings to many common identifiers. We then pick the BioThings object that best matches what we want (the rare disease). \n",
    "\n",
    "Generally, the top result returned by the Hint module for your BioThings type of interest will match what you want, but you should confirm that using the identifiers shown. \n",
    "\n",
    "\n",
    "> BioThings types correspond to children and descendants of [BiologicalEntity](https://biolink.github.io/biolink-model/docs/BiologicalEntity.html) from the [Biolink Model](https://biolink.github.io/biolink-model/docs/), including `Disease` (e.g., \"lupus\"), `ChemicalSubstance` (e.g., \"acetaminophen\"), `Gene` (e.g., \"CDK2\"), `BiologicalProcess` (e.g., \"T cell differentiation\"), and `Pathway` (e.g., \"Citric acid cycle\"). **However, [only a subset of the Biolink BiologicalEntity children / descendants are currently implemented in BTE](https://smart-api.info/portal/translator/metakg)**. More biomedical object types will be available as more knowledge sources (APIs) are added to the system. **Note that the type `BiologicalEntity` means any BioThings type currently implemented in BTE will be accepted.**"
   ]
  },
  {
   "cell_type": "code",
   "execution_count": 6,
   "metadata": {
    "ExecuteTime": {
     "end_time": "2020-11-27T01:51:50.908424Z",
     "start_time": "2020-11-27T01:51:50.643000Z"
    },
    "scrolled": true
   },
   "outputs": [
    {
     "name": "stdout",
     "output_type": "stream",
     "text": [
      "There are 10 BioThings objects returned for SARS:\n",
      "ChemicalSubstance, Anti-SARS-CoV-2 REGN-COV2, num of IDs: 1\n",
      "Disease, severe acute respiratory syndrome, num of IDs: 5\n",
      "Disease, COVID-19, num of IDs: 2\n",
      "Disease, COVID-19–associated multisystem inflammatory syndrome in children, num of IDs: 2\n",
      "Disease, IMD74, num of IDs: 0\n",
      "MolecularActivity, selenocysteine-tRNA ligase activity, num of IDs: 2\n",
      "MolecularActivity, mRNA (guanine-N7-)-methyltransferase activity, num of IDs: 3\n",
      "MolecularActivity, 5'-3' RNA helicase activity, num of IDs: 2\n",
      "MolecularActivity, mRNA (nucleoside-2'-O-)-methyltransferase activity, num of IDs: 3\n",
      "MolecularActivity, RNA-directed 5'-3' RNA polymerase activity, num of IDs: 3\n"
     ]
    }
   ],
   "source": [
    "ht = Hint()  ## neater way to call this BTE module\n",
    "\n",
    "## the human user gives this input\n",
    "diseaseOrPheno_starting_str = \"SARS\"\n",
    "\n",
    "diseaseOrPheno_hint = ht.query(diseaseOrPheno_starting_str)\n",
    "\n",
    "hint_display(diseaseOrPheno_starting_str, diseaseOrPheno_hint)"
   ]
  },
  {
   "cell_type": "markdown",
   "metadata": {},
   "source": [
    "Based on the information above, we'll pick the top `PhenotypicFeature` choice (indexed at 0) for our query. We can look at identifier mappings inside this BioThings object. \n",
    "\n",
    "Note that the query didn't work when picking the top `Disease` choice (essential hypertension). "
   ]
  },
  {
   "cell_type": "code",
   "execution_count": 7,
   "metadata": {
    "ExecuteTime": {
     "end_time": "2020-11-27T01:51:54.406127Z",
     "start_time": "2020-11-27T01:51:54.395145Z"
    }
   },
   "outputs": [
    {
     "data": {
      "text/plain": [
       "{'MONDO': 'MONDO:0005091',\n",
       " 'DOID': 'DOID:2945',\n",
       " 'UMLS': 'C1175175',\n",
       " 'name': 'severe acute respiratory syndrome',\n",
       " 'MESH': 'D045169',\n",
       " 'ORPHANET': '140896',\n",
       " 'primary': {'identifier': 'MONDO',\n",
       "  'cls': 'Disease',\n",
       "  'value': 'MONDO:0005091'},\n",
       " 'display': 'MONDO(MONDO:0005091) DOID(DOID:2945) ORPHANET(140896) UMLS(C1175175) MESH(D045169) name(severe acute respiratory syndrome)',\n",
       " 'type': 'Disease'}"
      ]
     },
     "execution_count": 7,
     "metadata": {},
     "output_type": "execute_result"
    }
   ],
   "source": [
    "## the human user makes this choice, gives this input\n",
    "diseaseOrPheno_choice_type = 'Disease'\n",
    "diseaseOrPheno_choice_idx = 0\n",
    "\n",
    "diseaseOrPheno_hint_obj = diseaseOrPheno_hint[diseaseOrPheno_choice_type][diseaseOrPheno_choice_idx]  \n",
    "diseaseOrPheno_hint_obj"
   ]
  },
  {
   "cell_type": "markdown",
   "metadata": {},
   "source": [
    "## Step 2: Find representation of \"hereditary angioedema\" in BTE"
   ]
  },
  {
   "cell_type": "markdown",
   "metadata": {},
   "source": [
    "In this step, BioThings Explorer translates our query string \"hypertension\"  into BioThings objects, which contain mappings to many common identifiers. We then pick the BioThings object that best matches what we want (the rare disease). \n",
    "\n",
    "Generally, the top result returned by the Hint module for your BioThings type of interest will match what you want, but you should confirm that using the identifiers shown. \n",
    "\n",
    "\n",
    "> BioThings types correspond to children and descendants of [BiologicalEntity](https://biolink.github.io/biolink-model/docs/BiologicalEntity.html) from the [Biolink Model](https://biolink.github.io/biolink-model/docs/), including `Disease` (e.g., \"lupus\"), `ChemicalSubstance` (e.g., \"acetaminophen\"), `Gene` (e.g., \"CDK2\"), `BiologicalProcess` (e.g., \"T cell differentiation\"), and `Pathway` (e.g., \"Citric acid cycle\"). **However, [only a subset of the Biolink BiologicalEntity children / descendants are currently implemented in BTE](https://smart-api.info/portal/translator/metakg)**. More biomedical object types will be available as more knowledge sources (APIs) are added to the system. **Note that the type `BiologicalEntity` means any BioThings type currently implemented in BTE will be accepted.**"
   ]
  },
  {
   "cell_type": "code",
   "execution_count": 8,
   "metadata": {
    "ExecuteTime": {
     "end_time": "2020-11-27T01:51:58.225520Z",
     "start_time": "2020-11-27T01:51:58.044882Z"
    },
    "scrolled": true
   },
   "outputs": [
    {
     "name": "stdout",
     "output_type": "stream",
     "text": [
      "There are 5 BioThings objects returned for hereditary angioedema:\n",
      "Disease, hereditary angioedema, num of IDs: 5\n",
      "Disease, hereditary angioedema with C1Inh deficiency, num of IDs: 3\n",
      "Disease, hereditary angioedema type 3, num of IDs: 5\n",
      "Disease, hereditary angioedema type 2, num of IDs: 3\n",
      "Disease, hereditary angioedema type 1, num of IDs: 3\n"
     ]
    }
   ],
   "source": [
    "ht = Hint()  ## neater way to call this BTE module\n",
    "\n",
    "## the human user gives this input\n",
    "diseaseOrPheno2_starting_str = \"hereditary angioedema\"\n",
    "\n",
    "diseaseOrPheno2_hint = ht.query(diseaseOrPheno2_starting_str)\n",
    "\n",
    "hint_display(diseaseOrPheno2_starting_str, diseaseOrPheno2_hint)"
   ]
  },
  {
   "cell_type": "markdown",
   "metadata": {},
   "source": [
    "Based on the information above, we'll pick the top `Disease` choice (indexed at 0) for our query. We can look at identifier mappings inside this BioThings object. "
   ]
  },
  {
   "cell_type": "code",
   "execution_count": 9,
   "metadata": {
    "ExecuteTime": {
     "end_time": "2020-11-27T01:52:03.773279Z",
     "start_time": "2020-11-27T01:52:03.768710Z"
    }
   },
   "outputs": [
    {
     "data": {
      "text/plain": [
       "{'MONDO': 'MONDO:0019623',\n",
       " 'DOID': 'DOID:14735',\n",
       " 'UMLS': 'C0019243',\n",
       " 'name': 'hereditary angioedema',\n",
       " 'MESH': 'D054179',\n",
       " 'ORPHANET': '91378',\n",
       " 'primary': {'identifier': 'MONDO',\n",
       "  'cls': 'Disease',\n",
       "  'value': 'MONDO:0019623'},\n",
       " 'display': 'MONDO(MONDO:0019623) DOID(DOID:14735) ORPHANET(91378) UMLS(C0019243) MESH(D054179) name(hereditary angioedema)',\n",
       " 'type': 'Disease'}"
      ]
     },
     "execution_count": 9,
     "metadata": {},
     "output_type": "execute_result"
    }
   ],
   "source": [
    "## the human user makes this choice, gives this input\n",
    "diseaseOrPheno2_choice_type = 'Disease'\n",
    "diseaseOrPheno2_choice_idx = 0\n",
    "\n",
    "diseaseOrPheno2_hint_obj = diseaseOrPheno2_hint[diseaseOrPheno2_choice_type][diseaseOrPheno2_choice_idx]  \n",
    "diseaseOrPheno2_hint_obj"
   ]
  },
  {
   "cell_type": "markdown",
   "metadata": {},
   "source": [
    "## Step 2: Find representation of icatibant in BTE"
   ]
  },
  {
   "cell_type": "markdown",
   "metadata": {},
   "source": [
    "In this step, BioThings Explorer translates our query string into BioThings objects, which contain mappings to many common identifiers. We then pick the BioThings object that best matches what we want. \n",
    "\n",
    "Generally, the top result returned by the Hint module for your BioThings type of interest will match what you want, but you should confirm that using the identifiers shown. \n",
    "\n",
    "\n",
    "> BioThings types correspond to children and descendants of [BiologicalEntity](https://biolink.github.io/biolink-model/docs/BiologicalEntity.html) from the [Biolink Model](https://biolink.github.io/biolink-model/docs/), including `Disease` (e.g., \"lupus\"), `ChemicalSubstance` (e.g., \"acetaminophen\"), `Gene` (e.g., \"CDK2\"), `BiologicalProcess` (e.g., \"T cell differentiation\"), and `Pathway` (e.g., \"Citric acid cycle\"). **However, [only a subset of the Biolink BiologicalEntity children / descendants are currently implemented in BTE](https://smart-api.info/portal/translator/metakg)**. More biomedical object types will be available as more knowledge sources (APIs) are added to the system. **Note that the type `BiologicalEntity` means any BioThings type currently implemented in BTE will be accepted.**\n",
    "\n",
    "Drugs for drugs used to treat hereditary angioedema. Note that this question is not working with drug as ecallantide, Cinryze, Berinert, Ruconest, lanadelumab: BTE can find these objects (Hint module), but the specific drug -> disease is not finding anything. Issue with datasources or with identifier mapping inside hint module (not enough IDs)? "
   ]
  },
  {
   "cell_type": "code",
   "execution_count": 10,
   "metadata": {
    "ExecuteTime": {
     "end_time": "2020-11-27T01:52:06.939888Z",
     "start_time": "2020-11-27T01:52:06.740712Z"
    },
    "scrolled": true
   },
   "outputs": [
    {
     "name": "stdout",
     "output_type": "stream",
     "text": [
      "There are 3 BioThings objects returned for icatibant:\n",
      "ChemicalSubstance, ICATIBANT, num of IDs: 12\n",
      "ChemicalSubstance, ICATIBANT ACETATE, num of IDs: 8\n",
      "ChemicalSubstance, icatibant, num of IDs: 2\n"
     ]
    }
   ],
   "source": [
    "## the human user gives this input\n",
    "drug_starting_str = \"icatibant\"\n",
    "\n",
    "drug_hint = ht.query(drug_starting_str)\n",
    "hint_display(drug_starting_str, drug_hint)"
   ]
  },
  {
   "cell_type": "markdown",
   "metadata": {},
   "source": [
    "2020-11-26 update: Hint module results changed so the pick selection is changed. All of these `ChemicalSubstance` entries seem to be the right object. We'll pick the `ChemicalSubstance` choice with the most identifiers (the  first option, indexed at 0) for our query. We can look at identifier mappings inside this BioThings object. "
   ]
  },
  {
   "cell_type": "code",
   "execution_count": 11,
   "metadata": {
    "ExecuteTime": {
     "end_time": "2020-11-27T01:53:12.259463Z",
     "start_time": "2020-11-27T01:53:12.254880Z"
    }
   },
   "outputs": [
    {
     "data": {
      "text/plain": [
       "{'CHEMBL.COMPOUND': 'CHEMBL2028850',\n",
       " 'DRUGBANK': 'DB06196',\n",
       " 'PUBCHEM': 6918173,\n",
       " 'CHEBI': 'CHEBI:68556',\n",
       " 'UMLS': 'C0246269',\n",
       " 'MESH': 'C065679',\n",
       " 'UNII': '325O8467XK',\n",
       " 'INCHIKEY': 'QURWXBZNHXJZBE-SKXRKSCCSA-N',\n",
       " 'INCHI': 'InChI=1S/C59H89N19O13S/c60-37(14-5-19-67-57(61)62)48(82)72-38(15-6-20-68-58(63)64)52(86)75-22-8-18-43(75)54(88)77-30-35(80)26-44(77)50(84)70-28-47(81)71-40(27-36-13-9-23-92-36)49(83)74-41(31-79)53(87)76-29-34-12-2-1-10-32(34)24-46(76)55(89)78-42-17-4-3-11-33(42)25-45(78)51(85)73-39(56(90)91)16-7-21-69-59(65)66/h1-2,9-10,12-13,23,33,35,37-46,79-80H,3-8,11,14-22,24-31,60H2,(H,70,84)(H,71,81)(H,72,82)(H,73,85)(H,74,83)(H,90,91)(H4,61,62,67)(H4,63,64,68)(H4,65,66,69)/t33-,35+,37+,38-,39-,40-,41-,42-,43-,44-,45-,46+/m0/s1',\n",
       " 'name': 'ICATIBANT',\n",
       " 'CAS': '130308-48-4',\n",
       " 'IUPAC': '(2S)-2-[[(2S,3aS,7aS)-1-[(3R)-2-[(2S)-2-[[(2S)-2-[[2-[[(2S,4R)-1-[(2S)-1-[(2S)-2-[[(2R)-2-amino-5-guanidino-pentanoyl]amino]-5-guanidino-pentanoyl]prolyl]-4-hydroxy-prolyl]amino]acetyl]amino]-3-(2-thienyl)propanoyl]amino]-3-hydroxy-propanoyl]-3,4-dihydro-1H-isoquinoline-3-carbonyl]-2,3,3a,4,5,6,7,7a-octahydroindole-2-carbonyl]amino]-5-guanidino-valeric acid',\n",
       " 'formula': '(C2H4O2)n.C59H89N19O13S',\n",
       " 'primary': {'identifier': 'CHEBI',\n",
       "  'cls': 'ChemicalSubstance',\n",
       "  'value': 'CHEBI:68556'},\n",
       " 'display': 'CHEBI(CHEBI:68556) CHEMBL.COMPOUND(CHEMBL2028850) DRUGBANK(DB06196) PUBCHEM(6918173) MESH(C065679) UNII(325O8467XK) UMLS(C0246269) name(ICATIBANT) CAS(130308-48-4) IUPAC((2S)-2-[[(2S,3aS,7aS)-1-[(3R)-2-[(2S)-2-[[(2S)-2-[[2-[[(2S,4R)-1-[(2S)-1-[(2S)-2-[[(2R)-2-amino-5-guanidino-pentanoyl]amino]-5-guanidino-pentanoyl]prolyl]-4-hydroxy-prolyl]amino]acetyl]amino]-3-(2-thienyl)propanoyl]amino]-3-hydroxy-propanoyl]-3,4-dihydro-1H-isoquinoline-3-carbonyl]-2,3,3a,4,5,6,7,7a-octahydroindole-2-carbonyl]amino]-5-guanidino-valeric acid) formula((C2H4O2)n.C59H89N19O13S)',\n",
       " 'type': 'ChemicalSubstance'}"
      ]
     },
     "execution_count": 11,
     "metadata": {},
     "output_type": "execute_result"
    }
   ],
   "source": [
    "## the human user makes this choice, gives this input\n",
    "drug_choice_type = 'ChemicalSubstance'\n",
    "drug_choice_idx = 0  ## icatibant: set as 2,3,4 works\n",
    "\n",
    "drug_hint_obj = drug_hint[drug_choice_type][drug_choice_idx]  \n",
    "drug_hint_obj"
   ]
  },
  {
   "cell_type": "markdown",
   "metadata": {},
   "source": [
    "## Try 1: SARS &rarr; Disease &larr; icantinib"
   ]
  },
  {
   "cell_type": "markdown",
   "metadata": {},
   "source": [
    "BTE performs the **query path planning** and **query path execution** by deconstructing the query into individual API calls, executing those API calls, and then assembling the results.\n",
    "\n",
    "The code block below takes ~2 seconds to run. \n",
    "\n",
    "Note that this question is not working with drug as ecallantide, Cinryze, Berinert, Ruconest, lanadelumab: BTE can find these objects (Hint module), but the specific drug -> disease is not finding anything. Issue with datasources or with identifier mapping inside hint module (not enough IDs)? "
   ]
  },
  {
   "cell_type": "code",
   "execution_count": 12,
   "metadata": {
    "ExecuteTime": {
     "end_time": "2020-11-27T01:53:18.925721Z",
     "start_time": "2020-11-27T01:53:16.415246Z"
    }
   },
   "outputs": [
    {
     "name": "stdout",
     "output_type": "stream",
     "text": [
      "==========\n",
      "========== QUERY PARAMETER SUMMARY ==========\n",
      "==========\n",
      "\n",
      "BTE will find paths that join 'severe acute respiratory syndrome' and 'ICATIBANT'. Paths will have 1 intermediate node.\n",
      "\n",
      "Intermediate node #1 will have these type constraints: Disease\n",
      "\n",
      "\n",
      "==========\n",
      "========== QUERY #1 -- fetch all Disease entities linked to 'severe acute respiratory syndrome' ==========\n",
      "==========\n",
      "\n",
      "==== Step #1: Query path planning ====\n",
      "\n",
      "Because severe acute respiratory syndrome is of type 'Disease', BTE will query our meta-KG for APIs that can take 'Disease' as input and 'Disease' as output\n",
      "\n",
      "BTE found 3 apis:\n",
      "\n",
      "API 1. semmed_disease(17 API calls)\n",
      "API 2. cord_disease(1 API call)\n",
      "API 3. ontology_lookup_service(1 API call)\n",
      "\n",
      "\n",
      "==== Step #2: Query path execution ====\n",
      "NOTE: API requests are dispatched in parallel, so the list of APIs below is ordered by query time.\n",
      "\n",
      "API 1.5: https://biothings.ncats.io/semmed/query?fields=caused_by (POST -d q=C1175175&scopes=umls)\n",
      "API 2.1: https://biothings.ncats.io/cord_disease/query?fields=associated_with (POST -d q=DOID:2945&scopes=doid)\n",
      "API 1.2: https://biothings.ncats.io/semmed/query?fields=causes (POST -d q=C1175175&scopes=umls)\n",
      "API 1.1: https://biothings.ncats.io/semmed/query?fields=affected_by (POST -d q=C1175175&scopes=umls)\n",
      "API 1.4: https://biothings.ncats.io/semmed/query?fields=coexists_with (POST -d q=C1175175&scopes=umls)\n",
      "API 1.10: https://biothings.ncats.io/semmed/query?fields=disrupted_by (POST -d q=C1175175&scopes=umls)\n",
      "API 1.11: https://biothings.ncats.io/semmed/query?fields=negatively_regulated_by (POST -d q=C1175175&scopes=umls)\n",
      "API 1.8: https://biothings.ncats.io/semmed/query?fields=prevents (POST -d q=C1175175&scopes=umls)\n",
      "API 1.15: https://biothings.ncats.io/semmed/query?fields=negatively_regulates (POST -d q=C1175175&scopes=umls)\n",
      "API 1.6: https://biothings.ncats.io/semmed/query?fields=treated_by (POST -d q=C1175175&scopes=umls)\n",
      "API 1.17: https://biothings.ncats.io/semmed/query?fields=treats (POST -d q=C1175175&scopes=umls)\n",
      "API 1.12: https://biothings.ncats.io/semmed/query?fields=disrupts (POST -d q=C1175175&scopes=umls)\n",
      "API 1.14: https://biothings.ncats.io/semmed/query?fields=physically_interacts_with (POST -d q=C1175175&scopes=umls)\n",
      "API 1.9: https://biothings.ncats.io/semmed/query?fields=positively_regulates (POST -d q=C1175175&scopes=umls)\n",
      "API 1.7: https://biothings.ncats.io/semmed/query?fields=positively_regulated_by (POST -d q=C1175175&scopes=umls)\n",
      "API 1.13: https://biothings.ncats.io/semmed/query?fields=prevented_by (POST -d q=C1175175&scopes=umls)\n",
      "API 1.16: https://biothings.ncats.io/semmed/query?fields=affects (POST -d q=C1175175&scopes=umls)\n",
      "API 1.3: https://biothings.ncats.io/semmed/query?fields=related_to (POST -d q=C1175175&scopes=umls)\n",
      "API 3.1: https://www.ebi.ac.uk/ols/api/ontologies/doid/children?id=DOID:2945\n",
      "\n",
      "\n",
      "==== Step #3: Output normalization ====\n",
      "\n",
      "API 1.1 semmed_disease: 16 hits\n",
      "API 1.2 semmed_disease: 42 hits\n",
      "API 1.3 semmed_disease: 12 hits\n",
      "API 1.4 semmed_disease: 165 hits\n",
      "API 2.1 cord_disease: 20 hits\n",
      "API 1.5 semmed_disease: 40 hits\n",
      "API 1.6 semmed_disease: No hits\n",
      "API 1.7 semmed_disease: No hits\n",
      "API 1.8 semmed_disease: No hits\n",
      "API 3.1 ontology_lookup_service: No hits\n",
      "API 1.9 semmed_disease: No hits\n",
      "API 1.10 semmed_disease: No hits\n",
      "API 1.11 semmed_disease: No hits\n",
      "API 1.12 semmed_disease: No hits\n",
      "API 1.13 semmed_disease: No hits\n",
      "API 1.14 semmed_disease: No hits\n",
      "API 1.15 semmed_disease: No hits\n",
      "API 1.16 semmed_disease: 34 hits\n",
      "API 1.17 semmed_disease: No hits\n",
      "\n",
      "After id-to-object translation, BTE retrieved 255 unique objects.\n",
      "\n",
      "\n",
      "==========\n",
      "========== QUERY #2 -- fetch all Disease entities linked to 'ICATIBANT' ==========\n",
      "==========\n",
      "\n",
      "==== Step #1: Query path planning ====\n",
      "\n",
      "Because ICATIBANT is of type 'ChemicalSubstance', BTE will query our meta-KG for APIs that can take 'ChemicalSubstance' as input and 'Disease' as output\n",
      "\n",
      "BTE found 8 apis:\n",
      "\n",
      "API 1. hmdb(2 API calls)\n",
      "API 2. mychem(2 API calls)\n",
      "API 3. scibite(2 API calls)\n",
      "API 4. mydisease(1 API call)\n",
      "API 5. cord_chemical(1 API call)\n",
      "API 6. semmed_chemical(14 API calls)\n",
      "API 7. scigraph(2 API calls)\n",
      "API 8. pharos(2 API calls)\n",
      "\n",
      "\n",
      "==== Step #2: Query path execution ====\n",
      "NOTE: API requests are dispatched in parallel, so the list of APIs below is ordered by query time.\n",
      "\n",
      "API 4.1: https://mydisease.info/v1/query?fields=disgenet.xrefs.mesh&size=250 (POST -d q=C065679&scopes=ctd.chemical_related_to_disease.mesh_chemical_id)\n",
      "API 6.3: https://biothings.ncats.io/semmedchemical/query?fields=negatively_regulated_by (POST -d q=C0246269,C0082926&scopes=umls)\n",
      "API 5.1: https://biothings.ncats.io/cord_chemical/query?fields=associated_with (POST -d q=CHEBI:68564,CHEBI:68556&scopes=chebi)\n",
      "API 6.2: https://biothings.ncats.io/semmedchemical/query?fields=treats (POST -d q=C0246269,C0082926&scopes=umls)\n",
      "API 6.13: https://biothings.ncats.io/semmedchemical/query?fields=produced_by (POST -d q=C0246269,C0082926&scopes=umls)\n",
      "API 6.11: https://biothings.ncats.io/semmedchemical/query?fields=physically_interacts_with (POST -d q=C0246269,C0082926&scopes=umls)\n",
      "API 6.4: https://biothings.ncats.io/semmedchemical/query?fields=affects (POST -d q=C0246269,C0082926&scopes=umls)\n",
      "API 6.1: https://biothings.ncats.io/semmedchemical/query?fields=positively_regulates (POST -d q=C0246269,C0082926&scopes=umls)\n",
      "API 6.6: https://biothings.ncats.io/semmedchemical/query?fields=disrupts (POST -d q=C0246269,C0082926&scopes=umls)\n",
      "API 6.10: https://biothings.ncats.io/semmedchemical/query?fields=negatively_regulates (POST -d q=C0246269,C0082926&scopes=umls)\n",
      "API 6.8: https://biothings.ncats.io/semmedchemical/query?fields=prevents (POST -d q=C0246269,C0082926&scopes=umls)\n",
      "API 6.5: https://biothings.ncats.io/semmedchemical/query?fields=positively_regulated_by (POST -d q=C0246269,C0082926&scopes=umls)\n",
      "API 6.14: https://biothings.ncats.io/semmedchemical/query?fields=causes (POST -d q=C0246269,C0082926&scopes=umls)\n",
      "API 6.12: https://biothings.ncats.io/semmedchemical/query?fields=affected_by (POST -d q=C0246269,C0082926&scopes=umls)\n",
      "API 6.9: https://biothings.ncats.io/semmedchemical/query?fields=related_to (POST -d q=C0246269,C0082926&scopes=umls)\n",
      "API 6.7: https://biothings.ncats.io/semmedchemical/query?fields=coexists_with (POST -d q=C0246269,C0082926&scopes=umls)\n",
      "API 8.2: https://automat.renci.org/pharos/chemical_substance/disease/CHEBI:68556\n",
      "API 8.2 pharos failed\n",
      "API 8.1: https://automat.renci.org/pharos/chemical_substance/disease/CHEBI:68564\n",
      "API 8.1 pharos failed\n",
      "API 7.1: https://automat.renci.org/cord19-scigraph/chemical_substance/disease/CHEBI:68564\n",
      "API 3.1: https://automat.renci.org/cord19-scibite/chemical_substance/disease/CHEBI:68564\n",
      "API 1.1: https://automat.renci.org/hmdb/chemical_substance/disease/CHEBI:68564\n",
      "API 1.2: https://automat.renci.org/hmdb/chemical_substance/disease/CHEBI:68556\n",
      "API 3.2: https://automat.renci.org/cord19-scibite/chemical_substance/disease/CHEBI:68556\n",
      "API 7.2: https://automat.renci.org/cord19-scigraph/chemical_substance/disease/CHEBI:68556\n",
      "\n",
      "\n",
      "==== Step #3: Output normalization ====\n",
      "\n",
      "API 6.1 semmed_chemical: No hits\n",
      "API 6.2 semmed_chemical: No hits\n",
      "API 6.3 semmed_chemical: No hits\n",
      "API 6.4 semmed_chemical: No hits\n",
      "API 6.5 semmed_chemical: No hits\n",
      "API 1.1 hmdb: No hits\n",
      "API 1.2 hmdb: No hits\n",
      "API 6.6 semmed_chemical: No hits\n",
      "API 6.7 semmed_chemical: No hits\n",
      "API 6.8 semmed_chemical: No hits\n",
      "API 6.9 semmed_chemical: No hits\n",
      "API 6.10 semmed_chemical: No hits\n",
      "API 6.11 semmed_chemical: No hits\n",
      "API 6.12 semmed_chemical: No hits\n",
      "API 6.13 semmed_chemical: No hits\n",
      "API 2.1 mychem: 1 hits\n",
      "API 3.1 scibite: No hits\n",
      "API 3.2 scibite: 2 hits\n",
      "API 7.1 scigraph: No hits\n",
      "API 7.2 scigraph: 7 hits\n",
      "API 4.1 mydisease: No hits\n",
      "API 5.1 cord_chemical: 1 hits\n",
      "API 6.14 semmed_chemical: No hits\n",
      "API 2.2 mychem: No hits\n",
      "\n",
      "After id-to-object translation, BTE retrieved 9 unique objects.\n",
      "\n",
      "==========\n",
      "========== Final assembly of results ==========\n",
      "==========\n",
      "\n",
      "\n",
      "BTE found 3 unique intermediate nodes connecting 'severe acute respiratory syndrome' and 'ICATIBANT'\n"
     ]
    }
   ],
   "source": [
    "## the human user gives this input\n",
    "q1_intermediate = 'Disease'\n",
    "\n",
    "q1 = FindConnection(input_obj = diseaseOrPheno_hint_obj,\\\n",
    "                    output_obj = drug_hint_obj, \\\n",
    "                    intermediate_nodes = q1_intermediate)\n",
    "q1.connect(verbose = True)"
   ]
  },
  {
   "cell_type": "code",
   "execution_count": 13,
   "metadata": {
    "ExecuteTime": {
     "end_time": "2020-11-27T01:53:21.773948Z",
     "start_time": "2020-11-27T01:53:21.758335Z"
    }
   },
   "outputs": [],
   "source": [
    "q1_r_paths_table = q1.display_table_view()\n",
    "\n",
    "q1_type = re.findall(\"dispatcher.([a-zA-Z]+)'\", str(type(q1.fc)))\n",
    "q1_type = \"\".join(q1_type)  ## convert to string\n",
    "\n",
    "q1 = None  ## clear memory"
   ]
  },
  {
   "cell_type": "markdown",
   "metadata": {},
   "source": []
  },
  {
   "cell_type": "code",
   "execution_count": 14,
   "metadata": {
    "ExecuteTime": {
     "end_time": "2020-11-27T01:53:24.053786Z",
     "start_time": "2020-11-27T01:53:24.049018Z"
    }
   },
   "outputs": [
    {
     "name": "stdout",
     "output_type": "stream",
     "text": [
      "There are 3 unique Diseases linked to both SARS and icatibant.\n",
      "There are 6 unique paths between SARS and icatibant.\n"
     ]
    }
   ],
   "source": [
    "## show number of unique intermediate nodes\n",
    "print(\"There are {0} unique {1}s linked to both {2} and {3}.\".format( \\\n",
    "    q1_r_paths_table.node1_name.nunique(), q1_intermediate, diseaseOrPheno_starting_str, drug_starting_str))\n",
    "\n",
    "## show number of paths from hypertension to cymbalta\n",
    "print(\"There are {0} unique paths between {1} and {2}.\".format( \\\n",
    "    q1_r_paths_table.shape[0], diseaseOrPheno_starting_str, drug_starting_str))"
   ]
  },
  {
   "cell_type": "code",
   "execution_count": 15,
   "metadata": {
    "ExecuteTime": {
     "end_time": "2020-11-27T01:53:25.936239Z",
     "start_time": "2020-11-27T01:53:25.932040Z"
    }
   },
   "outputs": [
    {
     "data": {
      "text/plain": [
       "array(['BLOOD CLOT', 'HYPOTENSION', 'CONDITION'], dtype=object)"
      ]
     },
     "execution_count": 15,
     "metadata": {},
     "output_type": "execute_result"
    }
   ],
   "source": [
    "q1_r_paths_table['node1_name'].unique()"
   ]
  },
  {
   "cell_type": "markdown",
   "metadata": {},
   "source": [
    "## Try 2: SARS &rarr; Disease &larr; hereditary angioedema"
   ]
  },
  {
   "cell_type": "markdown",
   "metadata": {},
   "source": [
    "BTE performs the **query path planning** and **query path execution** by deconstructing the query into individual API calls, executing those API calls, and then assembling the results.\n",
    "\n",
    "The code block below takes ~2 seconds to run. \n",
    "\n",
    "Note that this question is not working with intermediate as PhenotypicFeature. "
   ]
  },
  {
   "cell_type": "code",
   "execution_count": 16,
   "metadata": {
    "ExecuteTime": {
     "end_time": "2020-11-27T01:53:32.193900Z",
     "start_time": "2020-11-27T01:53:30.253731Z"
    }
   },
   "outputs": [
    {
     "name": "stdout",
     "output_type": "stream",
     "text": [
      "==========\n",
      "========== QUERY PARAMETER SUMMARY ==========\n",
      "==========\n",
      "\n",
      "BTE will find paths that join 'severe acute respiratory syndrome' and 'hereditary angioedema'. Paths will have 1 intermediate node.\n",
      "\n",
      "Intermediate node #1 will have these type constraints: Disease\n",
      "\n",
      "\n",
      "==========\n",
      "========== QUERY #1 -- fetch all Disease entities linked to 'severe acute respiratory syndrome' ==========\n",
      "==========\n",
      "\n",
      "==== Step #1: Query path planning ====\n",
      "\n",
      "Because severe acute respiratory syndrome is of type 'Disease', BTE will query our meta-KG for APIs that can take 'Disease' as input and 'Disease' as output\n",
      "\n",
      "BTE found 3 apis:\n",
      "\n",
      "API 1. semmed_disease(17 API calls)\n",
      "API 2. cord_disease(1 API call)\n",
      "API 3. ontology_lookup_service(1 API call)\n",
      "\n",
      "\n",
      "==== Step #2: Query path execution ====\n",
      "NOTE: API requests are dispatched in parallel, so the list of APIs below is ordered by query time.\n",
      "\n",
      "API 1.17: https://biothings.ncats.io/semmed/query?fields=treats (POST -d q=C1175175&scopes=umls)\n",
      "API 1.11: https://biothings.ncats.io/semmed/query?fields=negatively_regulated_by (POST -d q=C1175175&scopes=umls)\n",
      "API 1.15: https://biothings.ncats.io/semmed/query?fields=negatively_regulates (POST -d q=C1175175&scopes=umls)\n",
      "API 1.9: https://biothings.ncats.io/semmed/query?fields=positively_regulates (POST -d q=C1175175&scopes=umls)\n",
      "API 1.5: https://biothings.ncats.io/semmed/query?fields=caused_by (POST -d q=C1175175&scopes=umls)\n",
      "API 1.3: https://biothings.ncats.io/semmed/query?fields=related_to (POST -d q=C1175175&scopes=umls)\n",
      "API 1.8: https://biothings.ncats.io/semmed/query?fields=prevents (POST -d q=C1175175&scopes=umls)\n",
      "API 1.12: https://biothings.ncats.io/semmed/query?fields=disrupts (POST -d q=C1175175&scopes=umls)\n",
      "API 1.13: https://biothings.ncats.io/semmed/query?fields=prevented_by (POST -d q=C1175175&scopes=umls)\n",
      "API 1.4: https://biothings.ncats.io/semmed/query?fields=coexists_with (POST -d q=C1175175&scopes=umls)\n",
      "API 1.2: https://biothings.ncats.io/semmed/query?fields=causes (POST -d q=C1175175&scopes=umls)\n",
      "API 2.1: https://biothings.ncats.io/cord_disease/query?fields=associated_with (POST -d q=DOID:2945&scopes=doid)\n",
      "API 1.6: https://biothings.ncats.io/semmed/query?fields=treated_by (POST -d q=C1175175&scopes=umls)\n",
      "API 1.14: https://biothings.ncats.io/semmed/query?fields=physically_interacts_with (POST -d q=C1175175&scopes=umls)\n",
      "API 1.7: https://biothings.ncats.io/semmed/query?fields=positively_regulated_by (POST -d q=C1175175&scopes=umls)\n",
      "API 1.1: https://biothings.ncats.io/semmed/query?fields=affected_by (POST -d q=C1175175&scopes=umls)\n",
      "API 1.10: https://biothings.ncats.io/semmed/query?fields=disrupted_by (POST -d q=C1175175&scopes=umls)\n",
      "API 1.16: https://biothings.ncats.io/semmed/query?fields=affects (POST -d q=C1175175&scopes=umls)\n",
      "API 3.1: https://www.ebi.ac.uk/ols/api/ontologies/doid/children?id=DOID:2945\n",
      "\n",
      "\n",
      "==== Step #3: Output normalization ====\n",
      "\n",
      "API 1.1 semmed_disease: 16 hits\n",
      "API 1.2 semmed_disease: 42 hits\n",
      "API 1.3 semmed_disease: 12 hits\n",
      "API 1.4 semmed_disease: 165 hits\n",
      "API 2.1 cord_disease: 20 hits\n",
      "API 1.5 semmed_disease: 40 hits\n",
      "API 1.6 semmed_disease: No hits\n",
      "API 1.7 semmed_disease: No hits\n",
      "API 1.8 semmed_disease: No hits\n",
      "API 3.1 ontology_lookup_service: No hits\n",
      "API 1.9 semmed_disease: No hits\n",
      "API 1.10 semmed_disease: No hits\n",
      "API 1.11 semmed_disease: No hits\n",
      "API 1.12 semmed_disease: No hits\n",
      "API 1.13 semmed_disease: No hits\n",
      "API 1.14 semmed_disease: No hits\n",
      "API 1.15 semmed_disease: No hits\n",
      "API 1.16 semmed_disease: 34 hits\n",
      "API 1.17 semmed_disease: No hits\n",
      "\n",
      "After id-to-object translation, BTE retrieved 255 unique objects.\n",
      "\n",
      "\n",
      "==========\n",
      "========== QUERY #2 -- fetch all Disease entities linked to 'hereditary angioedema' ==========\n",
      "==========\n",
      "\n",
      "==== Step #1: Query path planning ====\n",
      "\n",
      "Because hereditary angioedema is of type 'Disease', BTE will query our meta-KG for APIs that can take 'Disease' as input and 'Disease' as output\n",
      "\n",
      "BTE found 3 apis:\n",
      "\n",
      "API 1. semmed_disease(17 API calls)\n",
      "API 2. cord_disease(1 API call)\n",
      "API 3. ontology_lookup_service(1 API call)\n",
      "\n",
      "\n",
      "==== Step #2: Query path execution ====\n",
      "NOTE: API requests are dispatched in parallel, so the list of APIs below is ordered by query time.\n",
      "\n",
      "API 1.16: https://biothings.ncats.io/semmed/query?fields=affects (POST -d q=CN239191,C0019243&scopes=umls)\n",
      "API 2.1: https://biothings.ncats.io/cord_disease/query?fields=associated_with (POST -d q=DOID:14735&scopes=doid)\n",
      "API 1.11: https://biothings.ncats.io/semmed/query?fields=negatively_regulated_by (POST -d q=CN239191,C0019243&scopes=umls)\n",
      "API 1.8: https://biothings.ncats.io/semmed/query?fields=prevents (POST -d q=CN239191,C0019243&scopes=umls)\n",
      "API 1.13: https://biothings.ncats.io/semmed/query?fields=prevented_by (POST -d q=CN239191,C0019243&scopes=umls)\n",
      "API 1.5: https://biothings.ncats.io/semmed/query?fields=caused_by (POST -d q=CN239191,C0019243&scopes=umls)\n",
      "API 1.17: https://biothings.ncats.io/semmed/query?fields=treats (POST -d q=CN239191,C0019243&scopes=umls)\n",
      "API 1.6: https://biothings.ncats.io/semmed/query?fields=treated_by (POST -d q=CN239191,C0019243&scopes=umls)\n",
      "API 1.7: https://biothings.ncats.io/semmed/query?fields=positively_regulated_by (POST -d q=CN239191,C0019243&scopes=umls)\n",
      "API 1.9: https://biothings.ncats.io/semmed/query?fields=positively_regulates (POST -d q=CN239191,C0019243&scopes=umls)\n",
      "API 1.10: https://biothings.ncats.io/semmed/query?fields=disrupted_by (POST -d q=CN239191,C0019243&scopes=umls)\n",
      "API 1.14: https://biothings.ncats.io/semmed/query?fields=physically_interacts_with (POST -d q=CN239191,C0019243&scopes=umls)\n",
      "API 1.12: https://biothings.ncats.io/semmed/query?fields=disrupts (POST -d q=CN239191,C0019243&scopes=umls)\n",
      "API 1.1: https://biothings.ncats.io/semmed/query?fields=affected_by (POST -d q=CN239191,C0019243&scopes=umls)\n",
      "API 1.2: https://biothings.ncats.io/semmed/query?fields=causes (POST -d q=CN239191,C0019243&scopes=umls)\n",
      "API 1.15: https://biothings.ncats.io/semmed/query?fields=negatively_regulates (POST -d q=CN239191,C0019243&scopes=umls)\n",
      "API 1.3: https://biothings.ncats.io/semmed/query?fields=related_to (POST -d q=CN239191,C0019243&scopes=umls)\n",
      "API 1.4: https://biothings.ncats.io/semmed/query?fields=coexists_with (POST -d q=CN239191,C0019243&scopes=umls)\n",
      "API 3.1: https://www.ebi.ac.uk/ols/api/ontologies/doid/children?id=DOID:14735\n",
      "\n",
      "\n",
      "==== Step #3: Output normalization ====\n",
      "\n",
      "API 1.1 semmed_disease: 2 hits\n",
      "API 1.2 semmed_disease: 30 hits\n",
      "API 1.3 semmed_disease: 13 hits\n",
      "API 1.4 semmed_disease: 76 hits\n",
      "API 2.1 cord_disease: 2 hits\n",
      "API 1.5 semmed_disease: 13 hits\n",
      "API 1.6 semmed_disease: No hits\n",
      "API 1.7 semmed_disease: No hits\n",
      "API 1.8 semmed_disease: No hits\n",
      "API 3.1 ontology_lookup_service: No hits\n",
      "API 1.9 semmed_disease: No hits\n",
      "API 1.10 semmed_disease: No hits\n",
      "API 1.11 semmed_disease: No hits\n",
      "API 1.12 semmed_disease: No hits\n",
      "API 1.13 semmed_disease: No hits\n",
      "API 1.14 semmed_disease: No hits\n",
      "API 1.15 semmed_disease: No hits\n",
      "API 1.16 semmed_disease: 4 hits\n",
      "API 1.17 semmed_disease: No hits\n",
      "\n",
      "After id-to-object translation, BTE retrieved 112 unique objects.\n",
      "\n",
      "==========\n",
      "========== Final assembly of results ==========\n",
      "==========\n",
      "\n",
      "\n",
      "BTE found 24 unique intermediate nodes connecting 'severe acute respiratory syndrome' and 'hereditary angioedema'\n"
     ]
    }
   ],
   "source": [
    "## the human user gives this input\n",
    "q2_intermediate = 'Disease'\n",
    "\n",
    "q2 = FindConnection(input_obj = diseaseOrPheno_hint_obj,\\\n",
    "                    output_obj = diseaseOrPheno2_hint_obj, \\\n",
    "                    intermediate_nodes = q2_intermediate)\n",
    "q2.connect(verbose = True)"
   ]
  },
  {
   "cell_type": "code",
   "execution_count": 17,
   "metadata": {
    "ExecuteTime": {
     "end_time": "2020-11-27T01:53:36.113832Z",
     "start_time": "2020-11-27T01:53:36.099431Z"
    }
   },
   "outputs": [],
   "source": [
    "q2_r_paths_table = q2.display_table_view()\n",
    "\n",
    "q2_type = re.findall(\"dispatcher.([a-zA-Z]+)'\", str(type(q2.fc)))\n",
    "q2_type = \"\".join(q2_type)  ## convert to string\n",
    "\n",
    "q2 = None  ## clear memory"
   ]
  },
  {
   "cell_type": "markdown",
   "metadata": {},
   "source": []
  },
  {
   "cell_type": "code",
   "execution_count": 18,
   "metadata": {
    "ExecuteTime": {
     "end_time": "2020-11-27T01:53:38.432026Z",
     "start_time": "2020-11-27T01:53:38.428072Z"
    }
   },
   "outputs": [
    {
     "name": "stdout",
     "output_type": "stream",
     "text": [
      "There are 24 unique Diseases linked to both SARS and hereditary angioedema.\n",
      "There are 65 unique paths between SARS and hereditary angioedema.\n"
     ]
    }
   ],
   "source": [
    "## show number of unique intermediate nodes\n",
    "print(\"There are {0} unique {1}s linked to both {2} and {3}.\".format( \\\n",
    "    q2_r_paths_table.node1_name.nunique(), q2_intermediate, diseaseOrPheno_starting_str, diseaseOrPheno2_starting_str))\n",
    "\n",
    "## show number of paths from hypertension to cymbalta\n",
    "print(\"There are {0} unique paths between {1} and {2}.\".format( \\\n",
    "    q2_r_paths_table.shape[0], diseaseOrPheno_starting_str, diseaseOrPheno2_starting_str))"
   ]
  },
  {
   "cell_type": "markdown",
   "metadata": {},
   "source": [
    "## Try 3: SARS &rarr; ChemicalSubstance &larr; hereditary angioedema"
   ]
  },
  {
   "cell_type": "markdown",
   "metadata": {},
   "source": [
    "BTE performs the **query path planning** and **query path execution** by deconstructing the query into individual API calls, executing those API calls, and then assembling the results.\n",
    "\n",
    "The code block below takes ~4 seconds to run. \n",
    "\n",
    "Note that this question is not working with drug as ecallantide, Cinryze, Berinert, Ruconest, lanadelumab: BTE can find these objects (Hint module), but the specific drug -> disease is not finding anything. Issue with datasources or with identifier mapping inside hint module (not enough IDs)? "
   ]
  },
  {
   "cell_type": "code",
   "execution_count": 19,
   "metadata": {
    "ExecuteTime": {
     "end_time": "2020-11-27T01:53:45.770232Z",
     "start_time": "2020-11-27T01:53:42.237598Z"
    }
   },
   "outputs": [
    {
     "name": "stdout",
     "output_type": "stream",
     "text": [
      "==========\n",
      "========== QUERY PARAMETER SUMMARY ==========\n",
      "==========\n",
      "\n",
      "BTE will find paths that join 'severe acute respiratory syndrome' and 'hereditary angioedema'. Paths will have 1 intermediate node.\n",
      "\n",
      "Intermediate node #1 will have these type constraints: ChemicalSubstance\n",
      "\n",
      "\n",
      "==========\n",
      "========== QUERY #1 -- fetch all ChemicalSubstance entities linked to 'severe acute respiratory syndrome' ==========\n",
      "==========\n",
      "\n",
      "==== Step #1: Query path planning ====\n",
      "\n",
      "Because severe acute respiratory syndrome is of type 'Disease', BTE will query our meta-KG for APIs that can take 'Disease' as input and 'ChemicalSubstance' as output\n",
      "\n",
      "BTE found 8 apis:\n",
      "\n",
      "API 1. hmdb(1 API call)\n",
      "API 2. mychem(2 API calls)\n",
      "API 3. scibite(1 API call)\n",
      "API 4. semmed_disease(15 API calls)\n",
      "API 5. mydisease(1 API call)\n",
      "API 6. cord_disease(1 API call)\n",
      "API 7. scigraph(1 API call)\n",
      "API 8. pharos(1 API call)\n",
      "\n",
      "\n",
      "==== Step #2: Query path execution ====\n",
      "NOTE: API requests are dispatched in parallel, so the list of APIs below is ordered by query time.\n",
      "\n",
      "API 5.1: https://mydisease.info/v1/query?fields=ctd.chemical_related_to_disease (POST -d q=D045169&scopes=mondo.xrefs.mesh, disgenet.xrefs.mesh)\n",
      "API 4.1: https://biothings.ncats.io/semmed/query?fields=physically_interacts_with (POST -d q=C1175175&scopes=umls)\n",
      "API 4.14: https://biothings.ncats.io/semmed/query?fields=negatively_regulated_by (POST -d q=C1175175&scopes=umls)\n",
      "API 4.5: https://biothings.ncats.io/semmed/query?fields=derives_from (POST -d q=C1175175&scopes=umls)\n",
      "API 4.15: https://biothings.ncats.io/semmed/query?fields=positively_regulated_by (POST -d q=C1175175&scopes=umls)\n",
      "API 4.2: https://biothings.ncats.io/semmed/query?fields=disrupted_by (POST -d q=C1175175&scopes=umls)\n",
      "API 4.8: https://biothings.ncats.io/semmed/query?fields=treated_by (POST -d q=C1175175&scopes=umls)\n",
      "API 4.4: https://biothings.ncats.io/semmed/query?fields=prevented_by (POST -d q=C1175175&scopes=umls)\n",
      "API 4.10: https://biothings.ncats.io/semmed/query?fields=affects (POST -d q=C1175175&scopes=umls)\n",
      "API 4.12: https://biothings.ncats.io/semmed/query?fields=affected_by (POST -d q=C1175175&scopes=umls)\n",
      "API 4.7: https://biothings.ncats.io/semmed/query?fields=negatively_regulates (POST -d q=C1175175&scopes=umls)\n",
      "API 4.6: https://biothings.ncats.io/semmed/query?fields=caused_by (POST -d q=C1175175&scopes=umls)\n",
      "API 4.9: https://biothings.ncats.io/semmed/query?fields=related_to (POST -d q=C1175175&scopes=umls)\n",
      "API 4.13: https://biothings.ncats.io/semmed/query?fields=derives_info (POST -d q=C1175175&scopes=umls)\n",
      "API 6.1: https://biothings.ncats.io/cord_disease/query?fields=associated_with (POST -d q=DOID:2945&scopes=doid)\n",
      "API 4.11: https://biothings.ncats.io/semmed/query?fields=positively_regulates (POST -d q=C1175175&scopes=umls)\n",
      "API 4.3: https://biothings.ncats.io/semmed/query?fields=coexists_with (POST -d q=C1175175&scopes=umls)\n",
      "API 8.1: https://automat.renci.org/pharos/disease/chemical_substance/MONDO:0005091\n",
      "API 8.1 pharos failed\n",
      "API 1.1: https://automat.renci.org/hmdb/disease/chemical_substance/MONDO:0005091\n",
      "API 3.1: https://automat.renci.org/cord19-scibite/disease/chemical_substance/MONDO:0005091\n",
      "API 7.1: https://automat.renci.org/cord19-scigraph/disease/chemical_substance/MONDO:0005091\n",
      "\n",
      "\n",
      "==== Step #3: Output normalization ====\n",
      "\n",
      "API 2.1 mychem: No hits\n",
      "API 1.1 hmdb: No hits\n",
      "API 4.1 semmed_disease: No hits\n",
      "API 4.2 semmed_disease: 14 hits\n",
      "API 2.2 mychem: No hits\n",
      "API 4.3 semmed_disease: No hits\n",
      "API 6.1 cord_disease: 45 hits\n",
      "API 7.1 scigraph: 42 hits\n",
      "API 4.4 semmed_disease: 11 hits\n",
      "API 4.5 semmed_disease: No hits\n",
      "API 3.1 scibite: 50 hits\n",
      "API 4.6 semmed_disease: 20 hits\n",
      "API 4.7 semmed_disease: No hits\n",
      "API 4.8 semmed_disease: 69 hits\n",
      "API 4.9 semmed_disease: 28 hits\n",
      "API 4.10 semmed_disease: No hits\n",
      "API 4.11 semmed_disease: No hits\n",
      "API 4.12 semmed_disease: 19 hits\n",
      "API 4.13 semmed_disease: No hits\n",
      "API 4.14 semmed_disease: No hits\n",
      "API 5.1 mydisease: 35 hits\n",
      "API 4.15 semmed_disease: No hits\n",
      "\n",
      "After id-to-object translation, BTE retrieved 266 unique objects.\n",
      "\n",
      "\n",
      "==========\n",
      "========== QUERY #2 -- fetch all ChemicalSubstance entities linked to 'hereditary angioedema' ==========\n",
      "==========\n",
      "\n",
      "==== Step #1: Query path planning ====\n",
      "\n",
      "Because hereditary angioedema is of type 'Disease', BTE will query our meta-KG for APIs that can take 'Disease' as input and 'ChemicalSubstance' as output\n",
      "\n",
      "BTE found 8 apis:\n",
      "\n",
      "API 1. hmdb(1 API call)\n",
      "API 2. mychem(2 API calls)\n",
      "API 3. scibite(1 API call)\n",
      "API 4. semmed_disease(15 API calls)\n",
      "API 5. mydisease(1 API call)\n",
      "API 6. cord_disease(1 API call)\n",
      "API 7. scigraph(1 API call)\n",
      "API 8. pharos(1 API call)\n",
      "\n",
      "\n",
      "==== Step #2: Query path execution ====\n",
      "NOTE: API requests are dispatched in parallel, so the list of APIs below is ordered by query time.\n",
      "\n",
      "API 5.1: https://mydisease.info/v1/query?fields=ctd.chemical_related_to_disease (POST -d q=D054179&scopes=mondo.xrefs.mesh, disgenet.xrefs.mesh)\n",
      "API 4.4: https://biothings.ncats.io/semmed/query?fields=prevented_by (POST -d q=CN239191,C0019243&scopes=umls)\n",
      "API 4.8: https://biothings.ncats.io/semmed/query?fields=treated_by (POST -d q=CN239191,C0019243&scopes=umls)\n",
      "API 4.13: https://biothings.ncats.io/semmed/query?fields=derives_info (POST -d q=CN239191,C0019243&scopes=umls)\n",
      "API 4.3: https://biothings.ncats.io/semmed/query?fields=coexists_with (POST -d q=CN239191,C0019243&scopes=umls)\n",
      "API 4.12: https://biothings.ncats.io/semmed/query?fields=affected_by (POST -d q=CN239191,C0019243&scopes=umls)\n",
      "API 4.14: https://biothings.ncats.io/semmed/query?fields=negatively_regulated_by (POST -d q=CN239191,C0019243&scopes=umls)\n",
      "API 4.11: https://biothings.ncats.io/semmed/query?fields=positively_regulates (POST -d q=CN239191,C0019243&scopes=umls)\n",
      "API 4.2: https://biothings.ncats.io/semmed/query?fields=disrupted_by (POST -d q=CN239191,C0019243&scopes=umls)\n",
      "API 4.15: https://biothings.ncats.io/semmed/query?fields=positively_regulated_by (POST -d q=CN239191,C0019243&scopes=umls)\n",
      "API 4.10: https://biothings.ncats.io/semmed/query?fields=affects (POST -d q=CN239191,C0019243&scopes=umls)\n",
      "API 4.7: https://biothings.ncats.io/semmed/query?fields=negatively_regulates (POST -d q=CN239191,C0019243&scopes=umls)\n",
      "API 4.1: https://biothings.ncats.io/semmed/query?fields=physically_interacts_with (POST -d q=CN239191,C0019243&scopes=umls)\n",
      "API 6.1: https://biothings.ncats.io/cord_disease/query?fields=associated_with (POST -d q=DOID:14735&scopes=doid)\n",
      "API 4.9: https://biothings.ncats.io/semmed/query?fields=related_to (POST -d q=CN239191,C0019243&scopes=umls)\n",
      "API 4.5: https://biothings.ncats.io/semmed/query?fields=derives_from (POST -d q=CN239191,C0019243&scopes=umls)\n",
      "API 4.6: https://biothings.ncats.io/semmed/query?fields=caused_by (POST -d q=CN239191,C0019243&scopes=umls)\n",
      "API 8.1: https://automat.renci.org/pharos/disease/chemical_substance/MONDO:0019623\n",
      "API 8.1 pharos failed\n",
      "API 3.1: https://automat.renci.org/cord19-scibite/disease/chemical_substance/MONDO:0019623\n",
      "API 1.1: https://automat.renci.org/hmdb/disease/chemical_substance/MONDO:0019623\n",
      "API 7.1: https://automat.renci.org/cord19-scigraph/disease/chemical_substance/MONDO:0019623\n",
      "\n",
      "\n",
      "==== Step #3: Output normalization ====\n",
      "\n",
      "API 2.1 mychem: 17 hits\n",
      "API 1.1 hmdb: No hits\n",
      "API 4.1 semmed_disease: No hits\n",
      "API 4.2 semmed_disease: No hits\n",
      "API 2.2 mychem: 2 hits\n",
      "API 4.3 semmed_disease: No hits\n",
      "API 6.1 cord_disease: 2 hits\n",
      "API 7.1 scigraph: 17 hits\n",
      "API 4.4 semmed_disease: No hits\n",
      "API 4.5 semmed_disease: No hits\n",
      "API 3.1 scibite: 4 hits\n",
      "API 4.6 semmed_disease: 4 hits\n",
      "API 4.7 semmed_disease: No hits\n",
      "API 4.8 semmed_disease: 37 hits\n",
      "API 4.9 semmed_disease: 12 hits\n",
      "API 4.10 semmed_disease: No hits\n",
      "API 4.11 semmed_disease: No hits\n",
      "API 4.12 semmed_disease: 5 hits\n",
      "API 4.13 semmed_disease: No hits\n",
      "API 4.14 semmed_disease: No hits\n",
      "API 5.1 mydisease: 4 hits\n",
      "API 4.15 semmed_disease: No hits\n",
      "\n",
      "After id-to-object translation, BTE retrieved 86 unique objects.\n",
      "\n",
      "==========\n",
      "========== Final assembly of results ==========\n",
      "==========\n",
      "\n",
      "\n",
      "BTE found 11 unique intermediate nodes connecting 'severe acute respiratory syndrome' and 'hereditary angioedema'\n"
     ]
    }
   ],
   "source": [
    "## the human user gives this input\n",
    "q3_intermediate = 'ChemicalSubstance'\n",
    "\n",
    "q3 = FindConnection(input_obj = diseaseOrPheno_hint_obj,\\\n",
    "                    output_obj = diseaseOrPheno2_hint_obj, \\\n",
    "                    intermediate_nodes = q3_intermediate)\n",
    "q3.connect(verbose = True)"
   ]
  },
  {
   "cell_type": "code",
   "execution_count": 20,
   "metadata": {
    "ExecuteTime": {
     "end_time": "2020-11-27T01:53:48.039276Z",
     "start_time": "2020-11-27T01:53:48.022592Z"
    }
   },
   "outputs": [],
   "source": [
    "q3_r_paths_table = q3.display_table_view()\n",
    "\n",
    "q3_type = re.findall(\"dispatcher.([a-zA-Z]+)'\", str(type(q3.fc)))\n",
    "q3_type = \"\".join(q3_type)  ## convert to string\n",
    "\n",
    "q3 = None  ## clear memory"
   ]
  },
  {
   "cell_type": "markdown",
   "metadata": {},
   "source": []
  },
  {
   "cell_type": "code",
   "execution_count": 21,
   "metadata": {
    "ExecuteTime": {
     "end_time": "2020-11-27T01:53:50.192942Z",
     "start_time": "2020-11-27T01:53:50.189039Z"
    }
   },
   "outputs": [
    {
     "name": "stdout",
     "output_type": "stream",
     "text": [
      "There are 11 unique ChemicalSubstances linked to both SARS and hereditary angioedema.\n",
      "There are 26 unique paths between SARS and hereditary angioedema.\n"
     ]
    }
   ],
   "source": [
    "## show number of unique intermediate nodes\n",
    "print(\"There are {0} unique {1}s linked to both {2} and {3}.\".format( \\\n",
    "    q3_r_paths_table.node1_name.nunique(), q3_intermediate, diseaseOrPheno_starting_str, diseaseOrPheno2_starting_str))\n",
    "\n",
    "## show number of paths from hypertension to cymbalta\n",
    "print(\"There are {0} unique paths between {1} and {2}.\".format( \\\n",
    "    q3_r_paths_table.shape[0], diseaseOrPheno_starting_str, diseaseOrPheno2_starting_str))"
   ]
  },
  {
   "cell_type": "code",
   "execution_count": 22,
   "metadata": {
    "ExecuteTime": {
     "end_time": "2020-11-27T01:53:52.070481Z",
     "start_time": "2020-11-27T01:53:52.066573Z"
    },
    "scrolled": true
   },
   "outputs": [
    {
     "data": {
      "text/plain": [
       "array(['C0243077', 'C0450442', 'C0544357', 'C1611640', 'CHEBI:35222',\n",
       "       'CHEBI:48433', 'PHARMACEUTICAL PREPARATIONS',\n",
       "       'INHIBITOR, PROTEASE', 'ADSORBED HEPATITIS B VACCINE', 'ESTROGEN',\n",
       "       'ANIONIC TRNA POLYMER'], dtype=object)"
      ]
     },
     "execution_count": 22,
     "metadata": {},
     "output_type": "execute_result"
    }
   ],
   "source": [
    "q3_r_paths_table['node1_name'].unique()"
   ]
  },
  {
   "cell_type": "markdown",
   "metadata": {},
   "source": [
    "## Trying"
   ]
  },
  {
   "cell_type": "markdown",
   "metadata": {},
   "source": [
    "BTE performs the **query path planning** and **query path execution** by deconstructing the query into individual API calls, executing those API calls, and then assembling the results.\n",
    "\n",
    "The code block below takes ~4 seconds to run. \n",
    "\n",
    "Note that this question is not working with drug as ecallantide, Cinryze, Berinert, Ruconest, lanadelumab: BTE can find these objects (Hint module), but the specific drug -> disease is not finding anything. Issue with datasources or with identifier mapping inside hint module (not enough IDs)? \n",
    "\n",
    "Trying to see what ChemicalSubstances are even returned for hereditary angioedema"
   ]
  },
  {
   "cell_type": "code",
   "execution_count": 23,
   "metadata": {
    "ExecuteTime": {
     "end_time": "2020-11-27T01:53:57.843896Z",
     "start_time": "2020-11-27T01:53:56.142432Z"
    }
   },
   "outputs": [
    {
     "name": "stdout",
     "output_type": "stream",
     "text": [
      "==========\n",
      "========== QUERY PARAMETER SUMMARY ==========\n",
      "==========\n",
      "\n",
      "BTE will find paths that join 'hereditary angioedema' and 'ChemicalSubstance'. Paths will have 0 intermediate node.\n",
      "\n",
      "\n",
      "\n",
      "========== QUERY #1 -- fetch all ChemicalSubstance entities linked to hereditary angioedema ==========\n",
      "==========\n",
      "\n",
      "==== Step #1: Query path planning ====\n",
      "\n",
      "Because hereditary angioedema is of type 'Disease', BTE will query our meta-KG for APIs that can take 'Disease' as input and 'ChemicalSubstance' as output\n",
      "\n",
      "BTE found 8 apis:\n",
      "\n",
      "API 1. hmdb(1 API call)\n",
      "API 2. mychem(2 API calls)\n",
      "API 3. scibite(1 API call)\n",
      "API 4. semmed_disease(15 API calls)\n",
      "API 5. mydisease(1 API call)\n",
      "API 6. cord_disease(1 API call)\n",
      "API 7. scigraph(1 API call)\n",
      "API 8. pharos(1 API call)\n",
      "\n",
      "\n",
      "==== Step #2: Query path execution ====\n",
      "NOTE: API requests are dispatched in parallel, so the list of APIs below is ordered by query time.\n",
      "\n",
      "API 5.1: https://mydisease.info/v1/query?fields=ctd.chemical_related_to_disease (POST -d q=D054179&scopes=mondo.xrefs.mesh, disgenet.xrefs.mesh)\n",
      "API 4.15: https://biothings.ncats.io/semmed/query?fields=positively_regulated_by (POST -d q=CN239191,C0019243&scopes=umls)\n",
      "API 4.3: https://biothings.ncats.io/semmed/query?fields=coexists_with (POST -d q=CN239191,C0019243&scopes=umls)\n",
      "API 4.10: https://biothings.ncats.io/semmed/query?fields=affects (POST -d q=CN239191,C0019243&scopes=umls)\n",
      "API 4.1: https://biothings.ncats.io/semmed/query?fields=physically_interacts_with (POST -d q=CN239191,C0019243&scopes=umls)\n",
      "API 4.5: https://biothings.ncats.io/semmed/query?fields=derives_from (POST -d q=CN239191,C0019243&scopes=umls)\n",
      "API 6.1: https://biothings.ncats.io/cord_disease/query?fields=associated_with (POST -d q=DOID:14735&scopes=doid)\n",
      "API 4.4: https://biothings.ncats.io/semmed/query?fields=prevented_by (POST -d q=CN239191,C0019243&scopes=umls)\n",
      "API 4.14: https://biothings.ncats.io/semmed/query?fields=negatively_regulated_by (POST -d q=CN239191,C0019243&scopes=umls)\n",
      "API 4.9: https://biothings.ncats.io/semmed/query?fields=related_to (POST -d q=CN239191,C0019243&scopes=umls)\n",
      "API 4.11: https://biothings.ncats.io/semmed/query?fields=positively_regulates (POST -d q=CN239191,C0019243&scopes=umls)\n",
      "API 4.13: https://biothings.ncats.io/semmed/query?fields=derives_info (POST -d q=CN239191,C0019243&scopes=umls)\n",
      "API 4.6: https://biothings.ncats.io/semmed/query?fields=caused_by (POST -d q=CN239191,C0019243&scopes=umls)\n",
      "API 4.7: https://biothings.ncats.io/semmed/query?fields=negatively_regulates (POST -d q=CN239191,C0019243&scopes=umls)\n",
      "API 4.12: https://biothings.ncats.io/semmed/query?fields=affected_by (POST -d q=CN239191,C0019243&scopes=umls)\n",
      "API 4.8: https://biothings.ncats.io/semmed/query?fields=treated_by (POST -d q=CN239191,C0019243&scopes=umls)\n",
      "API 4.2: https://biothings.ncats.io/semmed/query?fields=disrupted_by (POST -d q=CN239191,C0019243&scopes=umls)\n",
      "API 8.1: https://automat.renci.org/pharos/disease/chemical_substance/MONDO:0019623\n",
      "API 8.1 pharos failed\n",
      "API 1.1: https://automat.renci.org/hmdb/disease/chemical_substance/MONDO:0019623\n",
      "API 3.1: https://automat.renci.org/cord19-scibite/disease/chemical_substance/MONDO:0019623\n",
      "API 7.1: https://automat.renci.org/cord19-scigraph/disease/chemical_substance/MONDO:0019623\n",
      "\n",
      "\n",
      "==== Step #3: Output normalization ====\n",
      "\n",
      "API 2.1 mychem: 17 hits\n",
      "API 1.1 hmdb: No hits\n",
      "API 4.1 semmed_disease: No hits\n",
      "API 4.2 semmed_disease: No hits\n",
      "API 2.2 mychem: 2 hits\n",
      "API 4.3 semmed_disease: No hits\n",
      "API 6.1 cord_disease: 2 hits\n",
      "API 7.1 scigraph: 17 hits\n",
      "API 4.4 semmed_disease: No hits\n",
      "API 4.5 semmed_disease: No hits\n",
      "API 3.1 scibite: 4 hits\n",
      "API 4.6 semmed_disease: 4 hits\n",
      "API 4.7 semmed_disease: No hits\n",
      "API 4.8 semmed_disease: 37 hits\n",
      "API 4.9 semmed_disease: 12 hits\n",
      "API 4.10 semmed_disease: No hits\n",
      "API 4.11 semmed_disease: No hits\n",
      "API 4.12 semmed_disease: 5 hits\n",
      "API 4.13 semmed_disease: No hits\n",
      "API 4.14 semmed_disease: No hits\n",
      "API 5.1 mydisease: 4 hits\n",
      "API 4.15 semmed_disease: No hits\n",
      "\n",
      "After id-to-object translation, BTE retrieved 86 unique objects.\n",
      "\n",
      "==========\n",
      "========== Final assembly of results ==========\n",
      "==========\n",
      "\n",
      "\n",
      "In the #1 query, BTE found 86 unique ChemicalSubstance nodes\n"
     ]
    }
   ],
   "source": [
    "## the human user gives this input\n",
    "q4_intermediate = None\n",
    "\n",
    "q4 = FindConnection(input_obj = diseaseOrPheno2_hint_obj,\\\n",
    "                    output_obj = 'ChemicalSubstance', \\\n",
    "                    intermediate_nodes = q4_intermediate)\n",
    "q4.connect(verbose = True)"
   ]
  },
  {
   "cell_type": "code",
   "execution_count": 24,
   "metadata": {
    "ExecuteTime": {
     "end_time": "2020-11-27T01:54:00.109743Z",
     "start_time": "2020-11-27T01:54:00.096383Z"
    }
   },
   "outputs": [],
   "source": [
    "q4_r_paths_table = q4.display_table_view()\n",
    "\n",
    "q4_type = re.findall(\"dispatcher.([a-zA-Z]+)'\", str(type(q4.fc)))\n",
    "q4_type = \"\".join(q4_type)  ## convert to string\n",
    "\n",
    "q4 = None  ## clear memory"
   ]
  },
  {
   "cell_type": "code",
   "execution_count": 25,
   "metadata": {
    "ExecuteTime": {
     "end_time": "2020-11-27T01:54:00.898961Z",
     "start_time": "2020-11-27T01:54:00.894535Z"
    }
   },
   "outputs": [
    {
     "data": {
      "text/plain": [
       "array(['C0243076', 'C0243077', 'C0351241', 'C0450442', 'C0544357',\n",
       "       'C0596537', 'C0597512', 'C1611640', 'C1305959', 'CHEBI:35222',\n",
       "       'CHEBI:48433', 'CHEBI:8583', 'CHEBI:48705', 'CHEBI:48706',\n",
       "       'CHEBI:37958', 'CHEBI:64926', 'CHEBI:33697', 'CHEBI:17891',\n",
       "       'CHEBI:36080', 'CHEBI:24505',\n",
       "       '(S)-1-(N(2)-(1-CARBOXY-3-PHENYLPROPYL)-L-LYSYL)-L-PROLINE',\n",
       "       '(3S)-2-{N-[(2S)-1-ETHOXYCARBONYL-4-PHENYLBUTAN-2-YL]-L-ALANYL}-1,2,3,4-TETRAHYDROISOQUINOLINE-3-CARBOXYLIC ACID',\n",
       "       '(2S-(1(R*(R*)),2ALPHA,3ABETA,6ABETA))-1-(2-((1-(ETHOXYCARBONYL)-3-PHENYLPROPYL)AMINO)-1-OXOPROPYL)OCTAHYDROCYCLOPENTA(B)PYRROLE-2-CARBOXYLIC ACID',\n",
       "       '(-)-CAPTOPRIL', 'ENALAPRIL ACID',\n",
       "       '(S)-1-(N-(1-(ETHOXYCARBONYL)-3-PHENYLPROPYL)-L-ALANYL)-L-PROLINE',\n",
       "       '(7E,9E,11E,13Z)-RETINOIC ACID', '(+/-)-VERAPAMIL',\n",
       "       '1H-1-BENZAZEPINE-1-ACETIC ACID, 3-((1-(ETHOXYCARBONYL)-3-PHENYLPROPYL)AMINO)-2,3,4,5-TETRAHYDRO-2-OXO-, (S-(R*,R*))-',\n",
       "       '6-CHLORO-1,1-DIOXO-1,2-DIHYDRO-1LAMBDA*6*-BENZO[1,2,4]THIADIAZINE-7-SULFONIC ACID AMIDE',\n",
       "       '(+-)-ETHYL METHYL 4-(2,3-DICHLOROPHENYL)-1,4-DIHYDRO-2,6-DIMETHYL-3,5-PYRIDINEDICARBOXYLATE',\n",
       "       'ACECOR',\n",
       "       '(+)-CIS-5-[2-(DIMETHYLAMINO)ETHYL]-2,3-DIHYDRO-3-HYDROXY-2-(P-METHOXYPHENYL)-1,5-BENZOTHIAZEPIN-4(5H)-ONE ACETATE ESTER',\n",
       "       'GOPTEN', 'APO-HYDRO',\n",
       "       '(RS)-3-ETHYL 5-METHYL 2-[(2-AMINOETHOXY)METHYL]-4-(2-CHLOROPHENYL)-6-METHYL-1,4-DIHYDROPYRIDINE-3,5-DICARBOXYLATE',\n",
       "       '(2S,3AS,7AS)-1-[(2S)-2-{[(2S)-1-ETHOXY-1-OXOPENTAN-2-YL]AMINO}PROPANOYL]OCTAHYDRO-1H-INDOLE-2-CARBOXYLIC ACID',\n",
       "       'ANDROSTANAZOL',\n",
       "       '(R)-ARGINYL-(S)-ARGINYL-()-PROLYL-(2S,4R)-(4-HYDROXYPROLYL)GLYCYL-(S)-(3-(2-THIENYL)ALANYL)-(S)-SERYL-(R)-((1,2,3,4-TETRAHYDRO-3-ISOQUINOLYL)CARBONYL)-(2S,3AS,7AS)-((HEXAHYDRO-2-INDOLINYL)CARBONYL)-(S)-ARGININE ACETATE',\n",
       "       'AGENTS, ALKYLATING', 'ANDROGENS',\n",
       "       'ANGIOTENSIN CONVERTING ENZYME INHIBITORS', 'ANTICOAGULANT',\n",
       "       'AGENTS, ANTIFIBRINOLYTIC',\n",
       "       '1-(DIPHENYLMETHYL)-4-(3-PHENYL-2-PROPENYL)PIPERAZINE',\n",
       "       'AGENTS, CONTRACEPTIVE', 'CHRONOGYN',\n",
       "       '3-BETA-HYDROXY-5-ANDROSTEN-17-ONE', 'PHARMACEUTICAL PREPARATIONS',\n",
       "       'DRUGS, INVESTIGATIONAL NEW', 'DRUG, ORPHAN',\n",
       "       '(-)-(R)-EPINEPHRINE', 'AGENTS, IMMUNOSUPPRESSIVE',\n",
       "       'DEHYDROMETHYLTESTOSTERONE',\n",
       "       '17(ALPHA)-METHYL-DELTA(4)-ANDROSTEN-17(BETA)-OL-3-ONE', 'ANAVAR',\n",
       "       'INHIBITORS, PLATELET', 'PROGESTIN', 'INHIBITOR, PROTEASE',\n",
       "       '309 FOURNEAU',\n",
       "       '(Z)-2-(4-(1,2-DIPHENYL-1-BUTENYL)PHENOXY)-N,N-DIMETHYLETHANAMINE',\n",
       "       'HORMONES', 'ACIDE TRANÉXAMIQUE',\n",
       "       'PROTHROMBIN COMPLEX CONCENTRATES',\n",
       "       '(17R)-17-HYDROXY-7ALPHA-METHYL-19-NORPREGN-5(10)-EN-20-YN-3-ONE',\n",
       "       'FRAXIPARIN', 'DANOCRINE', 'ADSORBED HEPATITIS B VACCINE',\n",
       "       'NORGESTRIENONE', '(S)-4-PREGNENE-3,20-DIONE',\n",
       "       'GONADAL STEROID HORMONES', 'INDIUM ARSENIDE',\n",
       "       'ANDROGENS, SYNTHETIC', 'ESTROGEN', 'ANIONIC TRNA POLYMER',\n",
       "       'ARG-PRO-PRO-GLY-PHE-SER-PRO-PHE-ARG', 'ASMANEX',\n",
       "       'ARDEPARIN SODIUM', '20CA',\n",
       "       '2-(4-(AMINOIMINOMETHYL)PHENYL)-1H-INDOLE-6-CARBOXIMIDAMIDE',\n",
       "       '1-CYCLOPROPYL-6-FLUORO-1,4-DIHYDRO-4-OXO-7-(1-PIPERAZINYL)-3-QUINOLINECARBOXYLIC ACID',\n",
       "       'COLLAGEN', 'DX-88', 'MS 54', 'AZIDOTHYMIDINE', '30ZN'],\n",
       "      dtype=object)"
      ]
     },
     "execution_count": 25,
     "metadata": {},
     "output_type": "execute_result"
    }
   ],
   "source": [
    "q4_r_paths_table['output_name'].unique()"
   ]
  },
  {
   "cell_type": "code",
   "execution_count": null,
   "metadata": {},
   "outputs": [],
   "source": []
  }
 ],
 "metadata": {
  "kernelspec": {
   "display_name": "Python 3",
   "language": "python",
   "name": "python3"
  },
  "language_info": {
   "codemirror_mode": {
    "name": "ipython",
    "version": 3
   },
   "file_extension": ".py",
   "mimetype": "text/x-python",
   "name": "python",
   "nbconvert_exporter": "python",
   "pygments_lexer": "ipython3",
   "version": "3.7.9"
  },
  "toc": {
   "base_numbering": 1,
   "nav_menu": {},
   "number_sections": true,
   "sideBar": true,
   "skip_h1_title": true,
   "title_cell": "Table of Contents",
   "title_sidebar": "Contents",
   "toc_cell": false,
   "toc_position": {
    "height": "calc(100% - 180px)",
    "left": "10px",
    "top": "150px",
    "width": "423.733px"
   },
   "toc_section_display": true,
   "toc_window_display": true
  },
  "varInspector": {
   "cols": {
    "lenName": 16,
    "lenType": 16,
    "lenVar": 40
   },
   "kernels_config": {
    "python": {
     "delete_cmd_postfix": "",
     "delete_cmd_prefix": "del ",
     "library": "var_list.py",
     "varRefreshCmd": "print(var_dic_list())"
    },
    "r": {
     "delete_cmd_postfix": ") ",
     "delete_cmd_prefix": "rm(",
     "library": "var_list.r",
     "varRefreshCmd": "cat(var_dic_list()) "
    }
   },
   "types_to_exclude": [
    "module",
    "function",
    "builtin_function_or_method",
    "instance",
    "_Feature"
   ],
   "window_display": false
  }
 },
 "nbformat": 4,
 "nbformat_minor": 4
}
