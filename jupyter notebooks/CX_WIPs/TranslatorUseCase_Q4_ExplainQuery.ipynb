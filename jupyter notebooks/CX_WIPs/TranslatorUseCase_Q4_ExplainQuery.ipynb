{
 "cells": [
  {
   "cell_type": "markdown",
   "metadata": {},
   "source": [
    "# Translator Use Case Question 4: Multiple situations"
   ]
  },
  {
   "cell_type": "markdown",
   "metadata": {},
   "source": [
    "2020-11-26 update: Hint module results changed so the pick selection is changed. "
   ]
  },
  {
   "cell_type": "markdown",
   "metadata": {},
   "source": [
    "## Understanding the Question"
   ]
  },
  {
   "cell_type": "markdown",
   "metadata": {},
   "source": [
    "The Translator Use Case Question #4 is:    \n",
    "\n",
    "> For a patient with disease X, what are some factors (such as genetic features, comorbidities, etc) that could cause sensitivity or resistance to drug Y? \n",
    "\n",
    "We interpret the Translator Use Case Question to be about several somewhat-related issues:\n",
    "* in the context of cancer, drug sensitivity means that the drug has the desired effect of killing or inhibiting cancerous cells and drug resistance means that the drug does not have this desired effect (this resistance can be pre-existing or can develop with time / exposure to the drug). [Reference](https://www.merckmanuals.com/home/drugs/factors-affecting-response-to-drugs/tolerance-and-resistance-to-drugs).\n",
    "    * There are [multiple overarching factors](https://www.nature.com/articles/s41586-019-1730-1) to drug resistance in this context.\n",
    "* in the context of pathogens and the diseases they cause, drug sensitivity (similar to the cancer context) means that the drug has the desired effect of killing or inhibiting the pathogens and drug resistance (similar to the cancer context) means that the drug does not have this desired effect. [Reference](https://www.merckmanuals.com/home/drugs/factors-affecting-response-to-drugs/tolerance-and-resistance-to-drugs). \n",
    "* outside of the above contexts, drug sensitivity often means that [the patient is unable to tolerate the drug due to adverse events](https://en.wikipedia.org/wiki/Drug_intolerance). These adverse events could be [drug allergies / hypersensitivity reactions, drug side effects, drug intolerances](https://www.racgp.org.au/afp/2013/januaryfebruary/adverse-drug-reactions/), or [adverse drug-disease interactions](https://www.drugs.com/drug_interactions.html). Drug tolerance can refer to [patients who require greater doses of a drug](https://www.merckmanuals.com/professional/clinical-pharmacology/factors-affecting-response-to-drugs/pharmacogenetics) to achieve therapeutic concentrations and effects. \n",
    "    * Genetic factors, environmental factors, and developmental factors affect drug response and metabolism. [Reference](https://www.merckmanuals.com/professional/clinical-pharmacology/factors-affecting-response-to-drugs/pharmacogenetics). \n",
    "    * This question then begins to overlap with Translator Use Case Question #5. \n",
    "\n",
    "**In this notebook, we will tackle situations (1) and (3) above, exploring genes involved with both the disease and the drug. \n",
    "\n",
    "**We therefore decided to reframe this question and ask:**\n",
    "> What genes are associated with both `Disease` X AND `ChemicalSubstance` Y?\n",
    "\n",
    "BioThings Explorer (BTE) can answer two classes of queries -- \"EXPLAIN\" and \"PREDICT\". This Question fits the EXPLAIN  template of starting with **a specific biomedical entity** (a specific `Disease` X) and finding indirect relationships with **another specific biomedical entity** (a specific `ChemicalSubstance` Y)."
   ]
  },
  {
   "cell_type": "markdown",
   "metadata": {},
   "source": [
    "## Step 0: Load BTE modules, notebook functions"
   ]
  },
  {
   "cell_type": "code",
   "execution_count": 1,
   "metadata": {
    "ExecuteTime": {
     "end_time": "2020-11-27T01:57:37.298613Z",
     "start_time": "2020-11-27T01:57:36.706259Z"
    }
   },
   "outputs": [],
   "source": [
    "## CX: allows multiple lines of code to print from one code block\n",
    "from IPython.core.interactiveshell import InteractiveShell\n",
    "InteractiveShell.ast_node_interactivity = \"all\"\n",
    "\n",
    "# import modules from biothings_explorer\n",
    "from biothings_explorer.hint import Hint\n",
    "from biothings_explorer.user_query_dispatcher import FindConnection\n",
    "\n",
    "## show time that this notebook was executed \n",
    "from datetime import datetime\n",
    "\n",
    "## packages to work with objects \n",
    "import re\n",
    "\n",
    "## to get around jupyter notebook bug\n",
    "import nest_asyncio\n",
    "nest_asyncio.apply() "
   ]
  },
  {
   "cell_type": "code",
   "execution_count": 2,
   "metadata": {
    "ExecuteTime": {
     "end_time": "2020-11-27T01:57:37.789545Z",
     "start_time": "2020-11-27T01:57:37.784058Z"
    }
   },
   "outputs": [],
   "source": [
    "## functions to add to modules?\n",
    "def hint_display(query, hint_result):\n",
    "    \"\"\"\n",
    "    show the type, name, number of IDs for all results returned by the query\n",
    "    \n",
    "    :param: query: string used in hint query\n",
    "    :param: hint_result: object returned from hint query, a dictionary of lists of dictionaries\n",
    "    \n",
    "    Returns: None\n",
    "    \"\"\"\n",
    "    ## function needs to be rewritten if it's going to give the exact index of each object within its type \n",
    "    display = ['type', 'name']  ## replace with the parts of the BioThings object you want to see\n",
    "    concise_results = []\n",
    "    for BT_type, result in hint_result.items():\n",
    "        if result:  ## basically if it's not empty\n",
    "            for items in result:\n",
    "                ## number of identifiers per object: number of keys - 4 (name, primary, display, type)\n",
    "                temp = len(items) - 4\n",
    "                concise_results.append((items[display[0]], items[display[1]], \n",
    "                                         str(temp)))\n",
    "                    \n",
    "    print('There are {total} BioThings objects returned for {ht}:'.format(\\\n",
    "                total = len(concise_results), ht = query))\n",
    "    for display_info in concise_results:\n",
    "        print('{0}, {1}, num of IDs: {2}'.format(display_info[0], display_info[1], display_info[2]))"
   ]
  },
  {
   "cell_type": "code",
   "execution_count": 3,
   "metadata": {
    "ExecuteTime": {
     "end_time": "2020-11-27T01:57:38.219346Z",
     "start_time": "2020-11-27T01:57:38.215009Z"
    }
   },
   "outputs": [],
   "source": [
    "def filter_table(df):\n",
    "    \"\"\"\n",
    "    use _source and _method columns to remove rows (paths) from the dataframe\n",
    "    works with Explain and Predict queries\n",
    "    :param: pandas dataframe containing results from BTE FindConnection module, in table form\n",
    "    \n",
    "    Returns: filtered dataframe\n",
    "    \"\"\"\n",
    "    ## key is the string to match to column, value is a list of strings to match to column values\n",
    "    filter_out = {'_source': ['SEMMED', 'CTD', 'ctd', 'omia']   \n",
    "#                   '_method': []  ## currently no method stuff I want to filter out\n",
    "                 }\n",
    "    ## SEMMED: text mining results wrong for PhenotypicFeature -> Gene\n",
    "    ## CTD/ctd: results odd for MSUD -> ChemicalSubstance\n",
    "    ## omia: results wrong or discontinued gene IDs for PhenotypicFeature -> Gene\n",
    "    \n",
    "    \n",
    "    df_temp = df.copy()  ## so the original df isn't modified in-place\n",
    "    for key,val in filter_out.items():\n",
    "        ## find columns that match the key string\n",
    "        columns = [i for i in df_temp.columns if key in i]\n",
    "        ## iterate through each column\n",
    "        for col in columns:\n",
    "            ## iterate through each value to take out, check if string CONTAINS match. \n",
    "            ## only keep rows that don't contain the value\n",
    "            for i in val:\n",
    "                df_temp = df_temp[~ df_temp[col].str.contains(i, na = False)]\n",
    "\n",
    "    return df_temp"
   ]
  },
  {
   "cell_type": "code",
   "execution_count": 4,
   "metadata": {
    "ExecuteTime": {
     "end_time": "2020-11-27T01:57:38.664855Z",
     "start_time": "2020-11-27T01:57:38.656095Z"
    }
   },
   "outputs": [],
   "source": [
    "def scoring_output(df, q_type):\n",
    "    \"\"\"\n",
    "    score results based on whether query was Predict or Explain type, number of \n",
    "        intermediate nodes \n",
    "    :param: pandas dataframe containing results from BTE FindConnection module\n",
    "    :param: string describing type of query (Predict or Explain)\n",
    "    \n",
    "    May flatten some edges, because score only counts one edge per \n",
    "        unique predicate / API / method (ignoring source and pubmed col)\n",
    "    \n",
    "    Predict queries: score each output node by counting # of paths\n",
    "        from input nodes to it. Normalize by dividing by maximum\n",
    "        possible # of paths\n",
    "    Explain two-hop (one intermediate) queries: score each intermediate node by \n",
    "        counting # of paths (between input and output nodes) that include it. \n",
    "        Normalize by dividing by maximum possible # of paths    \n",
    "\n",
    "    Explain one-hop (direct) queries: no need to score, prints message\n",
    "    Other Explain queries (many-hops): currently not able to score, prints message     \n",
    "    \n",
    "    Returns: pandas series with scores, index is output_name\n",
    "             or None (one-hop or many-hop Explain query)\n",
    "    \"\"\"\n",
    "    df_temp = df.copy()  ## so no chance to mutate this   \n",
    "    flag_direct = False  ## one-hop query or not\n",
    "    ## use df_col to look quicker into columns\n",
    "    df_col = set(df_temp.columns)\n",
    "    \n",
    "    ## ignore source and pubmed col in looking at unique edges \n",
    "    columns_drop = [col for col in df_col if (('_source' in col) or ('_pubmed' in col))]\n",
    "    df_temp.drop(columns = columns_drop, inplace = True)    \n",
    "    df_temp.drop_duplicates(inplace = True)\n",
    "    \n",
    "    ## check if query is one-hop or not\n",
    "    if \"node1_name\" not in df_col:    ## name for first intermediate node layer\n",
    "        flag_direct = True  \n",
    "    \n",
    "    if q_type == 'Explain':\n",
    "        if flag_direct:   # one hop / no intermediates\n",
    "            print('No valid node scoring for one-hop (direct) Explain queries.')\n",
    "            return None\n",
    "        ## if there are many-hops/intermediate layers\n",
    "        elif \"node2_name\" in df_col:  ## name for 2nd intermed. node layer\n",
    "            print('Cannot currently score many-hop Explain queries.')\n",
    "            return None\n",
    "        else:   ## two-hop / 1 intermediate layer\n",
    "            ## count multi-edges to results (the intermediate node1 col)\n",
    "            scores = df_temp.node1_name.value_counts() \n",
    "            ## to find the maximum-possible number of edges, look at non-result cols\n",
    "            columns_drop = [col for col in df_col if 'node1' in col]\n",
    "            df_temp.drop(columns = columns_drop, inplace = True)\n",
    "            ## now look at number of unique combos for input, edge info, output\n",
    "            df_temp.drop_duplicates(inplace = True)\n",
    "            max_paths = df_temp.shape[0]            \n",
    "            ## normalize scores by dividing each by max number of paths\n",
    "            scores = scores / max_paths\n",
    "\n",
    "    else:  ## Predict type query\n",
    "        ## count multi-edges to results (the output col)\n",
    "        scores = df_temp.output_name.value_counts()\n",
    "        ## to find the maximum number of multi-edges, look at non-output col\n",
    "        columns_drop = [col for col in df_temp.columns if 'output' in col]\n",
    "        df_temp.drop(columns = columns_drop, inplace = True)\n",
    "        ## now look at number of unique paths possible\n",
    "        df_temp.drop_duplicates(inplace = True)\n",
    "        max_paths = df_temp.shape[0]\n",
    "        ## normalize scores by dividing each by max number of paths\n",
    "        scores = scores / max_paths\n",
    "            \n",
    "    ## return scores as pandas dataframe, with rank\n",
    "    scores = scores.to_frame(name = 'score') \n",
    "    scores['rank'] = scores['score'].rank(method = 'dense', ascending = False)\n",
    "    return scores"
   ]
  },
  {
   "cell_type": "code",
   "execution_count": 5,
   "metadata": {
    "ExecuteTime": {
     "end_time": "2020-11-27T01:57:39.143770Z",
     "start_time": "2020-11-27T01:57:39.139865Z"
    }
   },
   "outputs": [
    {
     "name": "stdout",
     "output_type": "stream",
     "text": [
      "The time that this notebook was executed is...\n",
      "Local time (PST, West Coast USA): \n",
      "2020-11-26 17:57:39.141272\n",
      "UTC time: \n",
      "2020-11-27 01:57:39.141408\n"
     ]
    }
   ],
   "source": [
    "## record when cell blocks are executed\n",
    "print('The time that this notebook was executed is...')\n",
    "print('Local time (PST, West Coast USA): ')\n",
    "print(datetime.now())\n",
    "print('UTC time: ')\n",
    "print(datetime.utcnow())"
   ]
  },
  {
   "cell_type": "markdown",
   "metadata": {},
   "source": [
    "## Specific use case #1: lung adenocarcinoma and brigatinib"
   ]
  },
  {
   "cell_type": "markdown",
   "metadata": {},
   "source": [
    "This use case illustrates situation (1) discussed above in \"Understanding the Question\". We will use **lung adenocarcinoma** as our specific disease of interest. We will use **brigatinib** as our drug of interest. [Brigatinib](https://www.drugs.com/ppa/brigatinib.html) is an inhibitor of ALK, ROS1, IGF-1R, FLT3, and mutant-EGFR. This drug is indicated (currently approved) for use in ALK-positive metastatic non-small cell lung cancer (which includes lung adenocarcinoma as a subclass).\n",
    "\n",
    "This drug has been [studied for its potential to help overcome acquired resistance to other EGFR-tyrosine kinase inhibitors (TKIs), which occurs when the cancer cells acquire specific EGFR mutations](https://pubmed.ncbi.nlm.nih.gov/32353596/). Brigatinib is [known to preferentially bind to triple-mutant-EGFR over wild-type EGFR, inhibiting it, and to inhibit growth (a synergistic effect) in *in vivo* studies when used with another anti-EGFR antibody treatment](https://www.ncbi.nlm.nih.gov/pmc/articles/PMC5355811/). \n",
    "\n",
    "We tackle the search for genes associated with brigatinib and lung adenocarcinoma using the query:  \n",
    "* `Disease`lung adenocarcinoma  &rarr; results:`Gene` &larr; `ChemicalSubstance` brigatinib. \n",
    "* The query will return a graph object with entities as nodes and relationships as edges. We then use edge provenance information to **filter** the results. For each intermediate Disease node, we use the number of unique paths from the input nodes to that node to **score** it. The scores can then be used to sort the results.  "
   ]
  },
  {
   "cell_type": "markdown",
   "metadata": {},
   "source": [
    "### Step 1: Find representation of \"lung adenocarcinoma\" in BTE"
   ]
  },
  {
   "cell_type": "markdown",
   "metadata": {},
   "source": [
    "In this step, BioThings Explorer translates our query string \"lung adenocarcinoma\" into BioThings objects, which contain mappings to many common identifiers. We then pick the BioThings object that best matches what we want. \n",
    "\n",
    "Generally, the top result returned by the Hint module for your BioThings type of interest will match what you want, but you should confirm that using the identifiers shown. \n",
    "\n",
    "\n",
    "> BioThings types correspond to children and descendants of [BiologicalEntity](https://biolink.github.io/biolink-model/docs/BiologicalEntity.html) from the [Biolink Model](https://biolink.github.io/biolink-model/docs/), including `Disease` (e.g., \"lupus\"), `ChemicalSubstance` (e.g., \"acetaminophen\"), `Gene` (e.g., \"CDK2\"), `BiologicalProcess` (e.g., \"T cell differentiation\"), and `Pathway` (e.g., \"Citric acid cycle\"). **However, [only a subset of the Biolink BiologicalEntity children / descendants are currently implemented in BTE](https://smart-api.info/portal/translator/metakg)**. More biomedical object types will be available as more knowledge sources (APIs) are added to the system. **Note that the type `BiologicalEntity` means any BioThings type currently implemented in BTE will be accepted.**"
   ]
  },
  {
   "cell_type": "code",
   "execution_count": 6,
   "metadata": {
    "ExecuteTime": {
     "end_time": "2020-11-27T01:57:44.628867Z",
     "start_time": "2020-11-27T01:57:44.370381Z"
    }
   },
   "outputs": [
    {
     "name": "stdout",
     "output_type": "stream",
     "text": [
      "There are 9 BioThings objects returned for lung adenocarcinoma:\n",
      "Gene, lung adenocarcinoma-associated transcript 1, num of IDs: 2\n",
      "Gene, lung adenocarcinoma associated transcript 1, num of IDs: 5\n",
      "Gene, metastasis associated lung adenocarcinoma transcript 1, num of IDs: 5\n",
      "Disease, lung occult adenocarcinoma, num of IDs: 3\n",
      "Disease, lung adenocarcinoma, num of IDs: 4\n",
      "Disease, papillary lung adenocarcinoma, num of IDs: 3\n",
      "Disease, acinar lung adenocarcinoma, num of IDs: 3\n",
      "Disease, lung colloid adenocarcinoma, num of IDs: 3\n",
      "PhenotypicFeature, Lung adenocarcinoma, num of IDs: 4\n"
     ]
    }
   ],
   "source": [
    "ht = Hint()  ## neater way to call this BTE module\n",
    "\n",
    "## the human user gives this input\n",
    "disease_starting_str = \"lung adenocarcinoma\"\n",
    "\n",
    "disease_hint = ht.query(disease_starting_str)\n",
    "hint_display(disease_starting_str, disease_hint)"
   ]
  },
  {
   "cell_type": "markdown",
   "metadata": {},
   "source": [
    "Based on the information above, we'll pick the second `Disease` choice (indexed at 1) for our query because we want lung adenocarcinoma. We can look at identifier mappings inside this BioThings object. "
   ]
  },
  {
   "cell_type": "code",
   "execution_count": 7,
   "metadata": {
    "ExecuteTime": {
     "end_time": "2020-11-27T01:57:57.924977Z",
     "start_time": "2020-11-27T01:57:57.913805Z"
    }
   },
   "outputs": [
    {
     "data": {
      "text/plain": [
       "{'MONDO': 'MONDO:0005061',\n",
       " 'DOID': 'DOID:3910',\n",
       " 'UMLS': 'C0152013',\n",
       " 'name': 'lung adenocarcinoma',\n",
       " 'MESH': 'C538231',\n",
       " 'primary': {'identifier': 'MONDO',\n",
       "  'cls': 'Disease',\n",
       "  'value': 'MONDO:0005061'},\n",
       " 'display': 'MONDO(MONDO:0005061) DOID(DOID:3910) UMLS(C0152013) MESH(C538231) name(lung adenocarcinoma)',\n",
       " 'type': 'Disease'}"
      ]
     },
     "execution_count": 7,
     "metadata": {},
     "output_type": "execute_result"
    }
   ],
   "source": [
    "## the human user makes this choice, gives this input\n",
    "disease_choice_type = 'Disease'\n",
    "disease_choice_idx = 1\n",
    "\n",
    "disease_hint_obj = disease_hint[disease_choice_type][disease_choice_idx]  \n",
    "disease_hint_obj"
   ]
  },
  {
   "cell_type": "markdown",
   "metadata": {},
   "source": [
    "### Step 2: Find representation of \"brigatinib\" in BTE"
   ]
  },
  {
   "cell_type": "markdown",
   "metadata": {},
   "source": [
    "In this step, BioThings Explorer translates our query string \"brigatinib\"  into BioThings objects, which contain mappings to many common identifiers. We then pick the BioThings object that best matches what we want. "
   ]
  },
  {
   "cell_type": "code",
   "execution_count": 8,
   "metadata": {
    "ExecuteTime": {
     "end_time": "2020-11-27T01:58:02.668552Z",
     "start_time": "2020-11-27T01:58:02.487465Z"
    }
   },
   "outputs": [
    {
     "name": "stdout",
     "output_type": "stream",
     "text": [
      "There are 2 BioThings objects returned for brigatinib:\n",
      "ChemicalSubstance, BRIGATINIB, num of IDs: 11\n",
      "ChemicalSubstance, brigatinib, num of IDs: 2\n"
     ]
    }
   ],
   "source": [
    "## the human user gives this input\n",
    "drug_starting_str = \"brigatinib\"\n",
    "\n",
    "drug_hint = ht.query(drug_starting_str)\n",
    "hint_display(drug_starting_str, drug_hint)"
   ]
  },
  {
   "cell_type": "markdown",
   "metadata": {},
   "source": [
    "All of these `ChemicalSubstance` entries seem to be the right object. We'll pick the entry with the most identifiers (indexed at 0) for our query. We can look at identifier mappings inside this BioThings object. "
   ]
  },
  {
   "cell_type": "code",
   "execution_count": 9,
   "metadata": {
    "ExecuteTime": {
     "end_time": "2020-11-27T01:58:07.170441Z",
     "start_time": "2020-11-27T01:58:07.166077Z"
    }
   },
   "outputs": [
    {
     "data": {
      "text/plain": [
       "{'CHEMBL.COMPOUND': 'CHEMBL3545311',\n",
       " 'DRUGBANK': 'DB12267',\n",
       " 'PUBCHEM': 68165256,\n",
       " 'UMLS': 'C3274459',\n",
       " 'MESH': 'C000598580',\n",
       " 'UNII': 'HYW8DB273J',\n",
       " 'INCHIKEY': 'AILRADAXUVEEIR-UHFFFAOYSA-N',\n",
       " 'INCHI': 'InChI=1S/C29H39ClN7O2P/c1-35-15-17-37(18-16-35)21-11-13-36(14-12-21)22-9-10-24(26(19-22)39-2)33-29-31-20-23(30)28(34-29)32-25-7-5-6-8-27(25)40(3,4)38/h5-10,19-21H,11-18H2,1-4H3,(H2,31,32,33,34)',\n",
       " 'name': 'BRIGATINIB',\n",
       " 'CAS': '1197953-54-0',\n",
       " 'IUPAC': '[5-chloro-4-(2-dimethylphosphorylanilino)pyrimidin-2-yl]-[2-methoxy-4-[4-(4-methylpiperazino)piperidino]phenyl]amine',\n",
       " 'formula': 'C29H39ClN7O2P',\n",
       " 'primary': {'identifier': 'CHEMBL.COMPOUND',\n",
       "  'cls': 'ChemicalSubstance',\n",
       "  'value': 'CHEMBL3545311'},\n",
       " 'display': 'CHEMBL.COMPOUND(CHEMBL3545311) DRUGBANK(DB12267) PUBCHEM(68165256) MESH(C000598580) UNII(HYW8DB273J) UMLS(C3274459) name(BRIGATINIB) CAS(1197953-54-0) IUPAC([5-chloro-4-(2-dimethylphosphorylanilino)pyrimidin-2-yl]-[2-methoxy-4-[4-(4-methylpiperazino)piperidino]phenyl]amine) formula(C29H39ClN7O2P)',\n",
       " 'type': 'ChemicalSubstance'}"
      ]
     },
     "execution_count": 9,
     "metadata": {},
     "output_type": "execute_result"
    }
   ],
   "source": [
    "## the human user makes this choice, gives this input\n",
    "drug_choice_type = 'ChemicalSubstance'\n",
    "drug_choice_idx = 0\n",
    "\n",
    "drug_hint_obj = drug_hint[drug_choice_type][drug_choice_idx]  \n",
    "drug_hint_obj"
   ]
  },
  {
   "cell_type": "markdown",
   "metadata": {},
   "source": [
    "### Step 3: lung adenocarcinoma &rarr; Gene &larr; brigatinib"
   ]
  },
  {
   "cell_type": "markdown",
   "metadata": {},
   "source": [
    "In this section, we dynamically generate a knowledge graph with paths connecting lung adenocarcinoma and the drug brigatinib to `Genes` . We will then look at the `Genes` that have relationships with both lung adenocarcinoma and brigatinib. \n",
    "\n",
    "BTE performs the **query path planning** and **query path execution** by deconstructing the query into individual API calls, executing those API calls, and then assembling the results.\n",
    "\n",
    "The code block below takes ~1 min 40 seconds to run. "
   ]
  },
  {
   "cell_type": "code",
   "execution_count": 11,
   "metadata": {
    "ExecuteTime": {
     "end_time": "2020-11-27T02:00:45.518671Z",
     "start_time": "2020-11-27T01:59:03.111228Z"
    }
   },
   "outputs": [
    {
     "name": "stdout",
     "output_type": "stream",
     "text": [
      "==========\n",
      "========== QUERY PARAMETER SUMMARY ==========\n",
      "==========\n",
      "\n",
      "BTE will find paths that join 'lung adenocarcinoma' and 'BRIGATINIB'. Paths will have 1 intermediate node.\n",
      "\n",
      "Intermediate node #1 will have these type constraints: Gene\n",
      "\n",
      "\n",
      "==========\n",
      "========== QUERY #1 -- fetch all Gene entities linked to 'lung adenocarcinoma' ==========\n",
      "==========\n",
      "\n",
      "==== Step #1: Query path planning ====\n",
      "\n",
      "Because lung adenocarcinoma is of type 'Disease', BTE will query our meta-KG for APIs that can take 'Disease' as input and 'Gene' as output\n",
      "\n",
      "BTE found 10 apis:\n",
      "\n",
      "API 1. mgi_gene2phenotype(1 API call)\n",
      "API 2. scibite(1 API call)\n",
      "API 3. pharos(1 API call)\n",
      "API 4. DISEASES(1 API call)\n",
      "API 5. semmed_disease(15 API calls)\n",
      "API 6. biolink(1 API call)\n",
      "API 7. mydisease(1 API call)\n",
      "API 8. hetio(1 API call)\n",
      "API 9. scigraph(1 API call)\n",
      "API 10. cord_disease(1 API call)\n",
      "\n",
      "\n",
      "==== Step #2: Query path execution ====\n",
      "NOTE: API requests are dispatched in parallel, so the list of APIs below is ordered by query time.\n",
      "\n",
      "API 1.1: https://pending.biothings.io/mgigene2phenotype/query?fields=_id&size=300 (POST -d q=DOID:3910&scopes=mgi.associated_with_disease.doid)\n",
      "API 6.1: https://mydisease.info/v1/query?fields=disgenet.genes_related_to_disease.gene_id (POST -d q=C1335060,C0152013&scopes=mondo.xrefs.umls, disgenet.xrefs.umls)\n",
      "API 4.1: https://pending.biothings.io/DISEASES/query?fields=DISEASES.associatedWith (POST -d q=DOID:3910&scopes=DISEASES.doid)\n",
      "API 5.7: https://biothings.ncats.io/semmed/query?fields=positively_regulated_by (POST -d q=C1335060,C0152013&scopes=umls)\n",
      "API 5.3: https://biothings.ncats.io/semmed/query?fields=prevented_by (POST -d q=C1335060,C0152013&scopes=umls)\n",
      "API 5.5: https://biothings.ncats.io/semmed/query?fields=physically_interacts_with (POST -d q=C1335060,C0152013&scopes=umls)\n",
      "API 5.9: https://biothings.ncats.io/semmed/query?fields=disrupted_by (POST -d q=C1335060,C0152013&scopes=umls)\n",
      "API 5.12: https://biothings.ncats.io/semmed/query?fields=related_to (POST -d q=C1335060,C0152013&scopes=umls)\n",
      "API 5.8: https://biothings.ncats.io/semmed/query?fields=derives_from (POST -d q=C1335060,C0152013&scopes=umls)\n",
      "API 5.14: https://biothings.ncats.io/semmed/query?fields=caused_by (POST -d q=C1335060,C0152013&scopes=umls)\n",
      "API 5.1: https://biothings.ncats.io/semmed/query?fields=affects (POST -d q=C1335060,C0152013&scopes=umls)\n",
      "API 5.10: https://biothings.ncats.io/semmed/query?fields=affected_by (POST -d q=C1335060,C0152013&scopes=umls)\n",
      "API 10.1: https://biothings.ncats.io/cord_disease/query?fields=associated_with (POST -d q=DOID:3910&scopes=doid)\n",
      "API 5.2: https://biothings.ncats.io/semmed/query?fields=coexists_with (POST -d q=C1335060,C0152013&scopes=umls)\n",
      "API 5.13: https://biothings.ncats.io/semmed/query?fields=disrupts (POST -d q=C1335060,C0152013&scopes=umls)\n",
      "API 5.4: https://biothings.ncats.io/semmed/query?fields=positively_regulates (POST -d q=C1335060,C0152013&scopes=umls)\n",
      "API 5.6: https://biothings.ncats.io/semmed/query?fields=treated_by (POST -d q=C1335060,C0152013&scopes=umls)\n",
      "API 5.11: https://biothings.ncats.io/semmed/query?fields=negatively_regulates (POST -d q=C1335060,C0152013&scopes=umls)\n",
      "API 5.15: https://biothings.ncats.io/semmed/query?fields=negatively_regulated_by (POST -d q=C1335060,C0152013&scopes=umls)\n",
      "API 7.1: https://api.monarchinitiative.org/api/bioentity/disease/MONDO:0005061/genes?rows=200&direct=true\n",
      "API 9.1: https://automat.renci.org/cord19-scigraph/disease/gene/MONDO:0005061\n",
      "API 8.1: https://automat.renci.org/hetio/disease/gene/MONDO:0005061\n",
      "API 2.1: https://automat.renci.org/cord19-scibite/disease/gene/MONDO:0005061\n",
      "API 3.1: https://automat.renci.org/pharos/disease/gene/MONDO:0005061\n",
      "\n",
      "\n",
      "==== Step #3: Output normalization ====\n",
      "\n",
      "API 1.1 mgi_gene2phenotype: 2 hits\n",
      "API 5.1 semmed_disease: No hits\n",
      "API 5.2 semmed_disease: No hits\n",
      "API 4.1 DISEASES: 3 hits\n",
      "API 5.3 semmed_disease: No hits\n",
      "API 5.4 semmed_disease: No hits\n",
      "API 5.5 semmed_disease: No hits\n",
      "API 5.6 semmed_disease: No hits\n",
      "API 5.7 semmed_disease: No hits\n",
      "API 9.1 scigraph: 1 hits\n",
      "API 3.1 pharos: 212 hits\n",
      "API 7.1 biolink: 94 hits\n",
      "API 5.8 semmed_disease: No hits\n",
      "API 5.9 semmed_disease: 2 hits\n",
      "API 10.1 cord_disease: 212 hits\n",
      "API 5.10 semmed_disease: No hits\n",
      "API 2.1 scibite: 20 hits\n",
      "API 8.1 hetio: No hits\n",
      "API 5.11 semmed_disease: No hits\n",
      "API 5.12 semmed_disease: 21 hits\n",
      "API 6.1 mydisease: 10 hits\n",
      "API 5.13 semmed_disease: No hits\n",
      "API 5.14 semmed_disease: 3 hits\n",
      "API 5.15 semmed_disease: No hits\n",
      "\n",
      "After id-to-object translation, BTE retrieved 529 unique objects.\n",
      "\n",
      "\n",
      "==========\n",
      "========== QUERY #2 -- fetch all Gene entities linked to 'BRIGATINIB' ==========\n",
      "==========\n",
      "\n",
      "==== Step #1: Query path planning ====\n",
      "\n",
      "Because BRIGATINIB is of type 'ChemicalSubstance', BTE will query our meta-KG for APIs that can take 'ChemicalSubstance' as input and 'Gene' as output\n",
      "\n",
      "BTE found 4 apis:\n",
      "\n",
      "API 1. dgidb(1 API call)\n",
      "API 2. semmed_chemical(13 API calls)\n",
      "API 3. mychem(3 API calls)\n",
      "API 4. ctd(1 API call)\n",
      "\n",
      "\n",
      "==== Step #2: Query path execution ====\n",
      "NOTE: API requests are dispatched in parallel, so the list of APIs below is ordered by query time.\n",
      "\n",
      "API 2.4: https://biothings.ncats.io/semmedchemical/query?fields=disrupted_by (POST -d q=C3274459&scopes=umls)\n",
      "API 2.11: https://biothings.ncats.io/semmedchemical/query?fields=affects (POST -d q=C3274459&scopes=umls)\n",
      "API 2.9: https://biothings.ncats.io/semmedchemical/query?fields=produced_by (POST -d q=C3274459&scopes=umls)\n",
      "API 2.2: https://biothings.ncats.io/semmedchemical/query?fields=positively_regulates (POST -d q=C3274459&scopes=umls)\n",
      "API 2.12: https://biothings.ncats.io/semmedchemical/query?fields=affected_by (POST -d q=C3274459&scopes=umls)\n",
      "API 2.8: https://biothings.ncats.io/semmedchemical/query?fields=produces (POST -d q=C3274459&scopes=umls)\n",
      "API 2.10: https://biothings.ncats.io/semmedchemical/query?fields=negatively_regulates (POST -d q=C3274459&scopes=umls)\n",
      "API 2.13: https://biothings.ncats.io/semmedchemical/query?fields=positively_regulated_by (POST -d q=C3274459&scopes=umls)\n",
      "API 2.5: https://biothings.ncats.io/semmedchemical/query?fields=related_to (POST -d q=C3274459&scopes=umls)\n",
      "API 2.3: https://biothings.ncats.io/semmedchemical/query?fields=negatively_regulated_by (POST -d q=C3274459&scopes=umls)\n",
      "API 2.1: https://biothings.ncats.io/semmedchemical/query?fields=physically_interacts_with (POST -d q=C3274459&scopes=umls)\n",
      "API 2.7: https://biothings.ncats.io/semmedchemical/query?fields=coexists_with (POST -d q=C3274459&scopes=umls)\n",
      "API 2.6: https://biothings.ncats.io/semmedchemical/query?fields=disrupts (POST -d q=C3274459&scopes=umls)\n",
      "API 1.1: http://dgidb.genome.wustl.edu/api/v2/interactions.json?drugs=CHEMBL3545311\n",
      "API 4.1: http://ctdbase.org/tools/batchQuery.go?inputType=chem&report=genes_curated&format=json&inputTerms=C000598580\n",
      "API 4.1 ctd failed\n",
      "\n",
      "\n",
      "==== Step #3: Output normalization ====\n",
      "\n",
      "API 2.1 semmed_chemical: No hits\n",
      "API 3.1 mychem: 9 hits\n",
      "API 3.2 mychem: 6 hits\n",
      "API 3.3 mychem: 2 hits\n",
      "API 2.2 semmed_chemical: No hits\n",
      "API 2.3 semmed_chemical: No hits\n",
      "API 2.4 semmed_chemical: No hits\n",
      "API 2.5 semmed_chemical: No hits\n",
      "API 1.1 dgidb: No hits\n",
      "API 2.6 semmed_chemical: No hits\n",
      "API 2.7 semmed_chemical: No hits\n",
      "API 2.8 semmed_chemical: No hits\n",
      "API 2.9 semmed_chemical: No hits\n",
      "API 2.10 semmed_chemical: No hits\n",
      "API 2.11 semmed_chemical: No hits\n",
      "API 2.12 semmed_chemical: No hits\n",
      "API 2.13 semmed_chemical: No hits\n",
      "\n",
      "After id-to-object translation, BTE retrieved 12 unique objects.\n",
      "\n",
      "==========\n",
      "========== Final assembly of results ==========\n",
      "==========\n",
      "\n",
      "\n",
      "BTE found 5 unique intermediate nodes connecting 'lung adenocarcinoma' and 'BRIGATINIB'\n"
     ]
    }
   ],
   "source": [
    "## the human user gives this input\n",
    "q1_intermediate = 'Gene'\n",
    "\n",
    "q1 = FindConnection(input_obj = disease_hint_obj,\\\n",
    "                     output_obj = drug_hint_obj, \\\n",
    "                    intermediate_nodes = q1_intermediate)\n",
    "q1.connect(verbose = True)"
   ]
  },
  {
   "cell_type": "code",
   "execution_count": 12,
   "metadata": {
    "ExecuteTime": {
     "end_time": "2020-11-27T02:10:41.224773Z",
     "start_time": "2020-11-27T02:10:41.210239Z"
    }
   },
   "outputs": [],
   "source": [
    "# q1_r_graph = q1.fc.G  ## for changing the graph object to reflect the table\n",
    "q1_r_paths_table = q1.display_table_view()\n",
    "\n",
    "q1_type = re.findall(\"dispatcher.([a-zA-Z]+)'\", str(type(q1.fc)))\n",
    "q1_type = \"\".join(q1_type)  ## convert to string\n",
    "\n",
    "# q1 = None  ## clear memory"
   ]
  },
  {
   "cell_type": "markdown",
   "metadata": {},
   "source": [
    "We can see the number of Genes that were linked to both lung adenocarcinoma and to brigatinib and the total number of paths from the lung adenocarcinoma node to the brigatinib node."
   ]
  },
  {
   "cell_type": "code",
   "execution_count": 13,
   "metadata": {
    "ExecuteTime": {
     "end_time": "2020-11-27T02:10:43.381818Z",
     "start_time": "2020-11-27T02:10:43.377729Z"
    }
   },
   "outputs": [
    {
     "name": "stdout",
     "output_type": "stream",
     "text": [
      "There are 5 unique Genes linked to both lung adenocarcinoma and brigatinib.\n",
      "There are 25 unique paths between lung adenocarcinoma and brigatinib.\n"
     ]
    }
   ],
   "source": [
    "## show number of unique intermediate nodes\n",
    "print(\"There are {0} unique {1}s linked to both {2} and {3}.\".format( \\\n",
    "    q1_r_paths_table.node1_name.nunique(), q1_intermediate, disease_starting_str, drug_starting_str))\n",
    "\n",
    "## show number of paths from disease to drug\n",
    "print(\"There are {0} unique paths between {1} and {2}.\".format( \\\n",
    "    q1_r_paths_table.shape[0], disease_starting_str, drug_starting_str))"
   ]
  },
  {
   "cell_type": "markdown",
   "metadata": {},
   "source": [
    "#### Filtering and scoring"
   ]
  },
  {
   "cell_type": "markdown",
   "metadata": {},
   "source": [
    "Filtering involves using edge provenance, like the source this relationship came from and the method used to make this association, to filter out edges (removing nodes in the process). "
   ]
  },
  {
   "cell_type": "code",
   "execution_count": 14,
   "metadata": {
    "ExecuteTime": {
     "end_time": "2020-11-27T02:10:46.392955Z",
     "start_time": "2020-11-27T02:10:46.384234Z"
    }
   },
   "outputs": [],
   "source": [
    "q1_r_paths_table = filter_table(q1_r_paths_table)"
   ]
  },
  {
   "cell_type": "markdown",
   "metadata": {},
   "source": [
    "After filtering, there are fewer paths in the answer knowledge graph. "
   ]
  },
  {
   "cell_type": "code",
   "execution_count": 15,
   "metadata": {
    "ExecuteTime": {
     "end_time": "2020-11-27T02:10:48.102757Z",
     "start_time": "2020-11-27T02:10:48.098710Z"
    }
   },
   "outputs": [
    {
     "name": "stdout",
     "output_type": "stream",
     "text": [
      "There are 5 unique Genes linked to both lung adenocarcinoma and brigatinib.\n",
      "There are 19 unique paths between lung adenocarcinoma and brigatinib.\n"
     ]
    }
   ],
   "source": [
    "## show number of unique intermediate nodes\n",
    "print(\"There are {0} unique {1}s linked to both {2} and {3}.\".format( \\\n",
    "    q1_r_paths_table.node1_name.nunique(), q1_intermediate, disease_starting_str, drug_starting_str))\n",
    "\n",
    "## show number of paths from IBD to Imuran\n",
    "print(\"There are {0} unique paths between {1} and {2}.\".format( \\\n",
    "    q1_r_paths_table.shape[0], disease_starting_str, drug_starting_str))"
   ]
  },
  {
   "cell_type": "markdown",
   "metadata": {},
   "source": [
    "The scoring process for two-hop Explain queries (the type of query we're using now, has one intermediate step): \n",
    "\n",
    "1. To score individual intermediate nodes (Genes), we first take a copy of the knowledge graph (KG) and remove some multi-edges. \n",
    "    * Each edge has predicate, API, method, source, and pubmed information. For scoring purposes, we will ignore pubmed and source information because APIs handle this information differently (returning multiple edges or single edges). \n",
    "2. We then count the number of edges to each intermediate node (from lung adenocarcinoma and brigatinib nodes).        \n",
    "3. Finally, we \"normalize\" the score by dividing those counts by maximum-possible number of edges to an intermediate node (from lung adenocarcinoma and brigatinib nodes).\n",
    "\n",
    "We can then see the top-scored intermediate nodes. A score of closer to 1 means that the many relationships link this node to lung adenocarcinoma and brigatinib. A score closer to 0 means that only a few relationships link this node to lung adenocarcinoma and brigatinib. "
   ]
  },
  {
   "cell_type": "code",
   "execution_count": 16,
   "metadata": {
    "ExecuteTime": {
     "end_time": "2020-11-27T02:10:52.320042Z",
     "start_time": "2020-11-27T02:10:52.301381Z"
    }
   },
   "outputs": [
    {
     "data": {
      "text/html": [
       "<div>\n",
       "<style scoped>\n",
       "    .dataframe tbody tr th:only-of-type {\n",
       "        vertical-align: middle;\n",
       "    }\n",
       "\n",
       "    .dataframe tbody tr th {\n",
       "        vertical-align: top;\n",
       "    }\n",
       "\n",
       "    .dataframe thead th {\n",
       "        text-align: right;\n",
       "    }\n",
       "</style>\n",
       "<table border=\"1\" class=\"dataframe\">\n",
       "  <thead>\n",
       "    <tr style=\"text-align: right;\">\n",
       "      <th></th>\n",
       "      <th>score</th>\n",
       "      <th>rank</th>\n",
       "    </tr>\n",
       "  </thead>\n",
       "  <tbody>\n",
       "    <tr>\n",
       "      <th>EGFR</th>\n",
       "      <td>1.00</td>\n",
       "      <td>1.0</td>\n",
       "    </tr>\n",
       "    <tr>\n",
       "      <th>ROS1</th>\n",
       "      <td>0.75</td>\n",
       "      <td>2.0</td>\n",
       "    </tr>\n",
       "    <tr>\n",
       "      <th>ALK</th>\n",
       "      <td>0.75</td>\n",
       "      <td>2.0</td>\n",
       "    </tr>\n",
       "    <tr>\n",
       "      <th>MET</th>\n",
       "      <td>0.25</td>\n",
       "      <td>3.0</td>\n",
       "    </tr>\n",
       "    <tr>\n",
       "      <th>ERBB2</th>\n",
       "      <td>0.25</td>\n",
       "      <td>3.0</td>\n",
       "    </tr>\n",
       "  </tbody>\n",
       "</table>\n",
       "</div>"
      ],
      "text/plain": [
       "       score  rank\n",
       "EGFR    1.00   1.0\n",
       "ROS1    0.75   2.0\n",
       "ALK     0.75   2.0\n",
       "MET     0.25   3.0\n",
       "ERBB2   0.25   3.0"
      ]
     },
     "execution_count": 16,
     "metadata": {},
     "output_type": "execute_result"
    }
   ],
   "source": [
    "## create scoring table for results\n",
    "q1_scoring = scoring_output(q1_r_paths_table, q1_type)\n",
    "\n",
    "q1_scoring"
   ]
  },
  {
   "cell_type": "markdown",
   "metadata": {},
   "source": [
    "Different knowledge sources (APIs) were called in different parts of the query. \n",
    "\n",
    "In the first part of the query (lung adenocarcinoma &rarr; Gene), the following APIs returned results and the following predicates (semantic relationships) were found."
   ]
  },
  {
   "cell_type": "code",
   "execution_count": 17,
   "metadata": {
    "ExecuteTime": {
     "end_time": "2020-11-27T02:10:55.230094Z",
     "start_time": "2020-11-27T02:10:55.217162Z"
    }
   },
   "outputs": [
    {
     "data": {
      "text/html": [
       "<div>\n",
       "<style scoped>\n",
       "    .dataframe tbody tr th:only-of-type {\n",
       "        vertical-align: middle;\n",
       "    }\n",
       "\n",
       "    .dataframe tbody tr th {\n",
       "        vertical-align: top;\n",
       "    }\n",
       "\n",
       "    .dataframe thead th {\n",
       "        text-align: right;\n",
       "    }\n",
       "</style>\n",
       "<table border=\"1\" class=\"dataframe\">\n",
       "  <thead>\n",
       "    <tr style=\"text-align: right;\">\n",
       "      <th></th>\n",
       "      <th>pred1_api</th>\n",
       "      <th>pred1</th>\n",
       "    </tr>\n",
       "  </thead>\n",
       "  <tbody>\n",
       "    <tr>\n",
       "      <th>2</th>\n",
       "      <td>Automat CORD19 Scibite API</td>\n",
       "      <td>related_to</td>\n",
       "    </tr>\n",
       "    <tr>\n",
       "      <th>9</th>\n",
       "      <td>Automat CORD19 Scigraph API</td>\n",
       "      <td>related_to</td>\n",
       "    </tr>\n",
       "    <tr>\n",
       "      <th>1</th>\n",
       "      <td>Automat PHAROS API</td>\n",
       "      <td>related_to</td>\n",
       "    </tr>\n",
       "    <tr>\n",
       "      <th>0</th>\n",
       "      <td>CORD Disease API</td>\n",
       "      <td>related_to</td>\n",
       "    </tr>\n",
       "  </tbody>\n",
       "</table>\n",
       "</div>"
      ],
      "text/plain": [
       "                     pred1_api       pred1\n",
       "2   Automat CORD19 Scibite API  related_to\n",
       "9  Automat CORD19 Scigraph API  related_to\n",
       "1           Automat PHAROS API  related_to\n",
       "0             CORD Disease API  related_to"
      ]
     },
     "execution_count": 17,
     "metadata": {},
     "output_type": "execute_result"
    }
   ],
   "source": [
    "## show that the APIs use different predicates\n",
    "q1_r_paths_table[['pred1_api', 'pred1']].drop_duplicates().sort_values(by = ['pred1_api', 'pred1'])"
   ]
  },
  {
   "cell_type": "markdown",
   "metadata": {},
   "source": [
    "In the second part of the query (brigatinib &rarr; Gene), the following APIs returned results and the following predicates (semantic relationships) were found."
   ]
  },
  {
   "cell_type": "code",
   "execution_count": 18,
   "metadata": {
    "ExecuteTime": {
     "end_time": "2020-11-27T02:10:57.508118Z",
     "start_time": "2020-11-27T02:10:57.497314Z"
    }
   },
   "outputs": [
    {
     "data": {
      "text/html": [
       "<div>\n",
       "<style scoped>\n",
       "    .dataframe tbody tr th:only-of-type {\n",
       "        vertical-align: middle;\n",
       "    }\n",
       "\n",
       "    .dataframe tbody tr th {\n",
       "        vertical-align: top;\n",
       "    }\n",
       "\n",
       "    .dataframe thead th {\n",
       "        text-align: right;\n",
       "    }\n",
       "</style>\n",
       "<table border=\"1\" class=\"dataframe\">\n",
       "  <thead>\n",
       "    <tr style=\"text-align: right;\">\n",
       "      <th></th>\n",
       "      <th>pred2_api</th>\n",
       "      <th>pred2</th>\n",
       "    </tr>\n",
       "  </thead>\n",
       "  <tbody>\n",
       "    <tr>\n",
       "      <th>0</th>\n",
       "      <td>MyChem.info API</td>\n",
       "      <td>physically_interacts_with</td>\n",
       "    </tr>\n",
       "  </tbody>\n",
       "</table>\n",
       "</div>"
      ],
      "text/plain": [
       "         pred2_api                      pred2\n",
       "0  MyChem.info API  physically_interacts_with"
      ]
     },
     "execution_count": 18,
     "metadata": {},
     "output_type": "execute_result"
    }
   ],
   "source": [
    "## show that the APIs use different predicates\n",
    "q1_r_paths_table[['pred2_api', 'pred2']].drop_duplicates().sort_values(by = ['pred2_api', 'pred2'])"
   ]
  },
  {
   "cell_type": "markdown",
   "metadata": {},
   "source": [
    "[TO DO: Actual code depends on graph object (ReasonerStd object or Networkx MultiDiGraph) used.]\n",
    "\n",
    "We then add the scores and score provenance information to the graph object that will be returned to the ARS. These stored as node attributes on the Gene nodes of the \"answer graph\". "
   ]
  },
  {
   "cell_type": "code",
   "execution_count": 18,
   "metadata": {
    "ExecuteTime": {
     "end_time": "2020-09-21T05:05:07.255980Z",
     "start_time": "2020-09-21T05:05:07.253443Z"
    }
   },
   "outputs": [],
   "source": [
    "# nx.set_node_attributes(q1_r_graph, values = q1_scoring.to_dict(), \\\n",
    "#                        name = 'score')\n",
    "# nx.set_node_attributes(q1_r_graph, values = '(0-1]', name = 'score_range')\n",
    "# nx.set_node_attributes(q1_r_graph, values = 'normalized path count', name = 'score_method')\n",
    "# ## what is a good score, larger or smaller? \n",
    "# nx.set_node_attributes(q1_r_graph, values = 'larger', name = 'score_better_direction')  \n",
    "\n",
    "# ## example of Gene node object with score-related attributes\n",
    "# q1_r_graph.nodes()['NDUFS1']"
   ]
  },
  {
   "cell_type": "markdown",
   "metadata": {},
   "source": [
    "### Evaluate results "
   ]
  },
  {
   "cell_type": "markdown",
   "metadata": {},
   "source": [
    "Lung adenocarcinoma is linked to [mutations or fusions in all of the gene](https://www.ncbi.nlm.nih.gov/pmc/articles/PMC5542927/) found by BTE. \n",
    "\n",
    "As mentioned above, [brigatinib](https://www.drugs.com/ppa/brigatinib.html) is an inhibitor of ALK, ROS1, and mutant-EGFR and is indicated (currently approved) for use in ALK-positive metastatic non-small cell lung cancer (which includes lung adenocarcinoma as a subclass). \n",
    "\n",
    "This drug has also showed [*in vitro* and clinical activity against cancer cells expressing EML4-ALK mutant forms associated with ALK inhibitor resistance](https://www.drugs.com/ppa/brigatinib.html). \n",
    "\n",
    "A quick literature search did not find links between brigatinib and MET. "
   ]
  },
  {
   "cell_type": "code",
   "execution_count": 19,
   "metadata": {
    "ExecuteTime": {
     "end_time": "2020-11-27T02:11:00.453467Z",
     "start_time": "2020-11-27T02:11:00.446253Z"
    }
   },
   "outputs": [
    {
     "data": {
      "text/html": [
       "<div>\n",
       "<style scoped>\n",
       "    .dataframe tbody tr th:only-of-type {\n",
       "        vertical-align: middle;\n",
       "    }\n",
       "\n",
       "    .dataframe tbody tr th {\n",
       "        vertical-align: top;\n",
       "    }\n",
       "\n",
       "    .dataframe thead th {\n",
       "        text-align: right;\n",
       "    }\n",
       "</style>\n",
       "<table border=\"1\" class=\"dataframe\">\n",
       "  <thead>\n",
       "    <tr style=\"text-align: right;\">\n",
       "      <th></th>\n",
       "      <th>score</th>\n",
       "      <th>rank</th>\n",
       "    </tr>\n",
       "  </thead>\n",
       "  <tbody>\n",
       "    <tr>\n",
       "      <th>EGFR</th>\n",
       "      <td>1.00</td>\n",
       "      <td>1.0</td>\n",
       "    </tr>\n",
       "    <tr>\n",
       "      <th>ROS1</th>\n",
       "      <td>0.75</td>\n",
       "      <td>2.0</td>\n",
       "    </tr>\n",
       "    <tr>\n",
       "      <th>ALK</th>\n",
       "      <td>0.75</td>\n",
       "      <td>2.0</td>\n",
       "    </tr>\n",
       "    <tr>\n",
       "      <th>MET</th>\n",
       "      <td>0.25</td>\n",
       "      <td>3.0</td>\n",
       "    </tr>\n",
       "    <tr>\n",
       "      <th>ERBB2</th>\n",
       "      <td>0.25</td>\n",
       "      <td>3.0</td>\n",
       "    </tr>\n",
       "  </tbody>\n",
       "</table>\n",
       "</div>"
      ],
      "text/plain": [
       "       score  rank\n",
       "EGFR    1.00   1.0\n",
       "ROS1    0.75   2.0\n",
       "ALK     0.75   2.0\n",
       "MET     0.25   3.0\n",
       "ERBB2   0.25   3.0"
      ]
     },
     "execution_count": 19,
     "metadata": {},
     "output_type": "execute_result"
    }
   ],
   "source": [
    "q1_scoring"
   ]
  },
  {
   "cell_type": "markdown",
   "metadata": {},
   "source": [
    "## Specific use case #2: inflammatory bowel disease and imuran"
   ]
  },
  {
   "cell_type": "markdown",
   "metadata": {},
   "source": [
    "This use case illustrates situation (3) discussed above in \"Understanding the Question\". We will use **inflammatory bowel disease (IBD)** as our specific disease of interest. We will use **Imuran** as our drug of interest. [Imuran / azathioprine](https://www.uptodate.com/contents/azathioprine-drug-information) has been [commonly used **off-label** to treat Crohn disease (a form of IBD)](https://www.mayoclinic.org/diseases-conditions/crohns-disease/diagnosis-treatment/drc-20353309). \n",
    "\n",
    "However, people taking this drug [should be tested for](https://www.drugs.com/pro/imuran.html)...\n",
    "* TPMT deficiency: ~10% of patients of European/African ancestry have one loss-of-function allele (intermediate metabolizers)\n",
    "* NUDT15 deficiency: 2% of patients of East Asian ancestry have two loss-of-function alleles in this gene, and ~21% have one loss-of-function allele  \n",
    "\n",
    "We tackle the search for genes associated with inflammatory bowel disease and Imuran using the query:  \n",
    "* `Disease`inflammatory bowel disease &rarr; results:`Gene` &larr; `ChemicalSubstance` imuran. \n",
    "* The query will return a graph object with entities as nodes and relationships as edges. We then use edge provenance information to **filter** the results. For each intermediate Disease node, we use the number of unique paths from the input nodes to that node to **score** it. The scores can then be used to sort the results.  "
   ]
  },
  {
   "cell_type": "markdown",
   "metadata": {},
   "source": [
    "### Step 1: Find representation of \"inflammatory bowel disease\" in BTE"
   ]
  },
  {
   "cell_type": "markdown",
   "metadata": {},
   "source": [
    "In this step, BioThings Explorer translates our query string \"IBD\" into BioThings objects, which contain mappings to many common identifiers. We then pick the BioThings object that best matches what we want. \n",
    "\n",
    "Generally, the top result returned by the Hint module for your BioThings type of interest will match what you want, but you should confirm that using the identifiers shown. \n",
    "\n",
    "\n",
    "> BioThings types correspond to children and descendants of [BiologicalEntity](https://biolink.github.io/biolink-model/docs/BiologicalEntity.html) from the [Biolink Model](https://biolink.github.io/biolink-model/docs/), including `Disease` (e.g., \"lupus\"), `ChemicalSubstance` (e.g., \"acetaminophen\"), `Gene` (e.g., \"CDK2\"), `BiologicalProcess` (e.g., \"T cell differentiation\"), and `Pathway` (e.g., \"Citric acid cycle\"). **However, [only a subset of the Biolink BiologicalEntity children / descendants are currently implemented in BTE](https://smart-api.info/portal/translator/metakg)**. More biomedical object types will be available as more knowledge sources (APIs) are added to the system. **Note that the type `BiologicalEntity` means any BioThings type currently implemented in BTE will be accepted.**"
   ]
  },
  {
   "cell_type": "code",
   "execution_count": 20,
   "metadata": {
    "ExecuteTime": {
     "end_time": "2020-11-27T02:11:04.574301Z",
     "start_time": "2020-11-27T02:11:04.327375Z"
    }
   },
   "outputs": [
    {
     "name": "stdout",
     "output_type": "stream",
     "text": [
      "There are 12 BioThings objects returned for IBD:\n",
      "ChemicalSubstance, IBD-78, num of IDs: 2\n",
      "ChemicalSubstance, IBD-78, (Z)-, num of IDs: 6\n",
      "ChemicalSubstance, IBD-78 HYDROCHLORIDE, num of IDs: 2\n",
      "ChemicalSubstance, IBD-78 ACETATE, num of IDs: 2\n",
      "ChemicalSubstance, IBD-78, (E)-, num of IDs: 6\n",
      "Disease, irritable bowel syndrome, num of IDs: 5\n",
      "Disease, inflammatory bowel disease, num of IDs: 4\n",
      "Disease, IL21-related infantile inflammatory bowel disease, num of IDs: 4\n",
      "Disease, immune dysregulation-inflammatory bowel disease-arthritis-recurrent infections syndrome, num of IDs: 3\n",
      "Disease, multiple intestinal atresia, num of IDs: 6\n",
      "Pathway, Inflammatory bowel disease (IBD) - Homo sapiens (human), num of IDs: 1\n",
      "Pathway, Inflammatory bowel disease (IBD) - Mus musculus (mouse), num of IDs: 1\n"
     ]
    }
   ],
   "source": [
    "ht = Hint()  ## neater way to call this BTE module\n",
    "\n",
    "## the human user gives this input\n",
    "disease2_starting_str = \"IBD\"\n",
    "\n",
    "disease2_hint = ht.query(disease2_starting_str)\n",
    "hint_display(disease2_starting_str, disease2_hint)"
   ]
  },
  {
   "cell_type": "markdown",
   "metadata": {},
   "source": [
    "Based on the information above, we'll pick the second `Disease` choice (indexed at 1) for our query. We can look at identifier mappings inside this BioThings object. "
   ]
  },
  {
   "cell_type": "code",
   "execution_count": 21,
   "metadata": {
    "ExecuteTime": {
     "end_time": "2020-11-27T02:11:07.917928Z",
     "start_time": "2020-11-27T02:11:07.913810Z"
    }
   },
   "outputs": [
    {
     "data": {
      "text/plain": [
       "{'MONDO': 'MONDO:0005265',\n",
       " 'DOID': 'DOID:0050589',\n",
       " 'UMLS': 'C0021390',\n",
       " 'name': 'inflammatory bowel disease',\n",
       " 'MESH': 'D015212',\n",
       " 'primary': {'identifier': 'MONDO',\n",
       "  'cls': 'Disease',\n",
       "  'value': 'MONDO:0005265'},\n",
       " 'display': 'MONDO(MONDO:0005265) DOID(DOID:0050589) UMLS(C0021390) MESH(D015212) name(inflammatory bowel disease)',\n",
       " 'type': 'Disease'}"
      ]
     },
     "execution_count": 21,
     "metadata": {},
     "output_type": "execute_result"
    }
   ],
   "source": [
    "## the human user makes this choice, gives this input\n",
    "disease2_choice_type = 'Disease'\n",
    "disease2_choice_idx = 1\n",
    "\n",
    "disease2_hint_obj = disease2_hint[disease2_choice_type][disease2_choice_idx]  \n",
    "disease2_hint_obj"
   ]
  },
  {
   "cell_type": "markdown",
   "metadata": {},
   "source": [
    "### Step 2: Find representation of \"Imuran\" in BTE"
   ]
  },
  {
   "cell_type": "markdown",
   "metadata": {},
   "source": [
    "In this step, BioThings Explorer translates our query string \"imuran\"  into BioThings objects, which contain mappings to many common identifiers. We then pick the BioThings object that best matches what we want. "
   ]
  },
  {
   "cell_type": "code",
   "execution_count": 22,
   "metadata": {
    "ExecuteTime": {
     "end_time": "2020-11-27T02:11:10.714673Z",
     "start_time": "2020-11-27T02:11:10.511652Z"
    }
   },
   "outputs": [
    {
     "name": "stdout",
     "output_type": "stream",
     "text": [
      "There are 3 BioThings objects returned for imuran:\n",
      "ChemicalSubstance, AZATHIOPRINE, num of IDs: 13\n",
      "ChemicalSubstance, Imuran, num of IDs: 2\n",
      "ChemicalSubstance, AZATHIOPRINE SODIUM, num of IDs: 8\n"
     ]
    }
   ],
   "source": [
    "## the human user gives this input\n",
    "drug2_starting_str = \"imuran\"\n",
    "\n",
    "drug2_hint = ht.query(drug2_starting_str)\n",
    "hint_display(drug2_starting_str, drug2_hint)"
   ]
  },
  {
   "cell_type": "markdown",
   "metadata": {},
   "source": [
    "2020-11-26 update: Hint module results changed so the pick selection is changed. All of these `ChemicalSubstance` entries seem to be the right object. We'll pick the entry with the most identifiers (first option, indexed at 0) for our query. We can look at identifier mappings inside this BioThings object. "
   ]
  },
  {
   "cell_type": "code",
   "execution_count": 23,
   "metadata": {
    "ExecuteTime": {
     "end_time": "2020-11-27T02:11:42.859083Z",
     "start_time": "2020-11-27T02:11:42.854616Z"
    }
   },
   "outputs": [
    {
     "data": {
      "text/plain": [
       "{'CHEMBL.COMPOUND': 'CHEMBL1542',\n",
       " 'DRUGBANK': 'DB00993',\n",
       " 'PUBCHEM': 2265,\n",
       " 'CHEBI': 'CHEBI:2948',\n",
       " 'UMLS': 'C0004482',\n",
       " 'MESH': 'D001379',\n",
       " 'UNII': 'AM94R510MS',\n",
       " 'INCHIKEY': 'LMEKQMALGUDUQG-UHFFFAOYSA-N',\n",
       " 'INCHI': 'InChI=1S/C9H7N7O2S/c1-15-4-14-7(16(17)18)9(15)19-8-5-6(11-2-10-5)12-3-13-8/h2-4H,1H3,(H,10,11,12,13)',\n",
       " 'KEGG': 'C06837',\n",
       " 'name': 'AZATHIOPRINE',\n",
       " 'CAS': '446-86-6',\n",
       " 'IUPAC': '6-[(3-methyl-5-nitro-imidazol-4-yl)thio]-7H-purine',\n",
       " 'formula': 'C9H7N7O2S',\n",
       " 'primary': {'identifier': 'CHEBI',\n",
       "  'cls': 'ChemicalSubstance',\n",
       "  'value': 'CHEBI:2948'},\n",
       " 'display': 'CHEBI(CHEBI:2948) CHEMBL.COMPOUND(CHEMBL1542) DRUGBANK(DB00993) PUBCHEM(2265) MESH(D001379) UNII(AM94R510MS) UMLS(C0004482) name(AZATHIOPRINE) CAS(446-86-6) IUPAC(6-[(3-methyl-5-nitro-imidazol-4-yl)thio]-7H-purine) formula(C9H7N7O2S)',\n",
       " 'type': 'ChemicalSubstance'}"
      ]
     },
     "execution_count": 23,
     "metadata": {},
     "output_type": "execute_result"
    }
   ],
   "source": [
    "## the human user makes this choice, gives this input\n",
    "drug2_choice_type = 'ChemicalSubstance'\n",
    "drug2_choice_idx = 0\n",
    "\n",
    "drug2_hint_obj = drug2_hint[drug2_choice_type][drug2_choice_idx]  \n",
    "drug2_hint_obj"
   ]
  },
  {
   "cell_type": "markdown",
   "metadata": {},
   "source": [
    "### Step 3: inflammatory bowel disease &rarr; Gene &larr; imuran"
   ]
  },
  {
   "cell_type": "markdown",
   "metadata": {},
   "source": [
    "In this section, we dynamically generate a knowledge graph with paths connecting inflammatory bowel disease and the drug imuran to `Genes` . We will then look at the `Genes` that have relationships with both inflammatory bowel disease and imuran. \n",
    "\n",
    "BTE performs the **query path planning** and **query path execution** by deconstructing the query into individual API calls, executing those API calls, and then assembling the results.\n",
    "\n",
    "The code block below takes ~1 min 50 seconds to run. "
   ]
  },
  {
   "cell_type": "code",
   "execution_count": 24,
   "metadata": {
    "ExecuteTime": {
     "end_time": "2020-11-27T02:13:54.612949Z",
     "start_time": "2020-11-27T02:12:07.422481Z"
    }
   },
   "outputs": [
    {
     "name": "stdout",
     "output_type": "stream",
     "text": [
      "==========\n",
      "========== QUERY PARAMETER SUMMARY ==========\n",
      "==========\n",
      "\n",
      "BTE will find paths that join 'inflammatory bowel disease' and 'AZATHIOPRINE'. Paths will have 1 intermediate node.\n",
      "\n",
      "Intermediate node #1 will have these type constraints: Gene\n",
      "\n",
      "\n",
      "==========\n",
      "========== QUERY #1 -- fetch all Gene entities linked to 'inflammatory bowel disease' ==========\n",
      "==========\n",
      "\n",
      "==== Step #1: Query path planning ====\n",
      "\n",
      "Because inflammatory bowel disease is of type 'Disease', BTE will query our meta-KG for APIs that can take 'Disease' as input and 'Gene' as output\n",
      "\n",
      "BTE found 10 apis:\n",
      "\n",
      "API 1. mgi_gene2phenotype(1 API call)\n",
      "API 2. scibite(1 API call)\n",
      "API 3. pharos(1 API call)\n",
      "API 4. DISEASES(1 API call)\n",
      "API 5. semmed_disease(15 API calls)\n",
      "API 6. biolink(1 API call)\n",
      "API 7. mydisease(1 API call)\n",
      "API 8. hetio(1 API call)\n",
      "API 9. scigraph(1 API call)\n",
      "API 10. cord_disease(1 API call)\n",
      "\n",
      "\n",
      "==== Step #2: Query path execution ====\n",
      "NOTE: API requests are dispatched in parallel, so the list of APIs below is ordered by query time.\n",
      "\n",
      "API 6.1: https://mydisease.info/v1/query?fields=disgenet.genes_related_to_disease.gene_id (POST -d q=C0021390&scopes=mondo.xrefs.umls, disgenet.xrefs.umls)\n",
      "API 10.1: https://biothings.ncats.io/cord_disease/query?fields=associated_with (POST -d q=DOID:0050589&scopes=doid)\n",
      "API 5.11: https://biothings.ncats.io/semmed/query?fields=negatively_regulates (POST -d q=C0021390&scopes=umls)\n",
      "API 5.15: https://biothings.ncats.io/semmed/query?fields=negatively_regulated_by (POST -d q=C0021390&scopes=umls)\n",
      "API 5.6: https://biothings.ncats.io/semmed/query?fields=treated_by (POST -d q=C0021390&scopes=umls)\n",
      "API 5.5: https://biothings.ncats.io/semmed/query?fields=physically_interacts_with (POST -d q=C0021390&scopes=umls)\n",
      "API 5.4: https://biothings.ncats.io/semmed/query?fields=positively_regulates (POST -d q=C0021390&scopes=umls)\n",
      "API 5.13: https://biothings.ncats.io/semmed/query?fields=disrupts (POST -d q=C0021390&scopes=umls)\n",
      "API 5.1: https://biothings.ncats.io/semmed/query?fields=affects (POST -d q=C0021390&scopes=umls)\n",
      "API 5.8: https://biothings.ncats.io/semmed/query?fields=derives_from (POST -d q=C0021390&scopes=umls)\n",
      "API 5.9: https://biothings.ncats.io/semmed/query?fields=disrupted_by (POST -d q=C0021390&scopes=umls)\n",
      "API 5.10: https://biothings.ncats.io/semmed/query?fields=affected_by (POST -d q=C0021390&scopes=umls)\n",
      "API 5.14: https://biothings.ncats.io/semmed/query?fields=caused_by (POST -d q=C0021390&scopes=umls)\n",
      "API 5.7: https://biothings.ncats.io/semmed/query?fields=positively_regulated_by (POST -d q=C0021390&scopes=umls)\n",
      "API 5.2: https://biothings.ncats.io/semmed/query?fields=coexists_with (POST -d q=C0021390&scopes=umls)\n",
      "API 5.12: https://biothings.ncats.io/semmed/query?fields=related_to (POST -d q=C0021390&scopes=umls)\n",
      "API 5.3: https://biothings.ncats.io/semmed/query?fields=prevented_by (POST -d q=C0021390&scopes=umls)\n",
      "API 1.1: https://pending.biothings.io/mgigene2phenotype/query?fields=_id&size=300 (POST -d q=DOID:0050589&scopes=mgi.associated_with_disease.doid)\n",
      "API 4.1: https://pending.biothings.io/DISEASES/query?fields=DISEASES.associatedWith (POST -d q=DOID:0050589&scopes=DISEASES.doid)\n",
      "API 9.1: https://automat.renci.org/cord19-scigraph/disease/gene/MONDO:0005265\n",
      "API 2.1: https://automat.renci.org/cord19-scibite/disease/gene/MONDO:0005265\n",
      "API 8.1: https://automat.renci.org/hetio/disease/gene/MONDO:0005265\n",
      "API 3.1: https://automat.renci.org/pharos/disease/gene/MONDO:0005265\n",
      "API 7.1: https://api.monarchinitiative.org/api/bioentity/disease/MONDO:0005265/genes?rows=200&direct=true\n",
      "\n",
      "\n",
      "==== Step #3: Output normalization ====\n",
      "\n",
      "API 1.1 mgi_gene2phenotype: 12 hits\n",
      "API 5.1 semmed_disease: No hits\n",
      "API 5.2 semmed_disease: No hits\n",
      "API 4.1 DISEASES: 914 hits\n",
      "API 5.3 semmed_disease: 4 hits\n",
      "API 5.4 semmed_disease: No hits\n",
      "API 5.5 semmed_disease: No hits\n",
      "API 5.6 semmed_disease: 233 hits\n",
      "API 5.7 semmed_disease: No hits\n",
      "API 9.1 scigraph: 38 hits\n",
      "API 3.1 pharos: 203 hits\n",
      "API 7.1 biolink: 169 hits\n",
      "API 5.8 semmed_disease: No hits\n",
      "API 5.9 semmed_disease: 28 hits\n",
      "API 10.1 cord_disease: 156 hits\n",
      "API 5.10 semmed_disease: 94 hits\n",
      "API 2.1 scibite: 13 hits\n",
      "API 8.1 hetio: No hits\n",
      "API 5.11 semmed_disease: No hits\n",
      "API 5.12 semmed_disease: 675 hits\n",
      "API 6.1 mydisease: 1841 hits\n",
      "API 5.13 semmed_disease: No hits\n",
      "API 5.14 semmed_disease: 105 hits\n",
      "API 5.15 semmed_disease: No hits\n",
      "\n",
      "After id-to-object translation, BTE retrieved 2590 unique objects.\n",
      "\n",
      "\n",
      "==========\n",
      "========== QUERY #2 -- fetch all Gene entities linked to 'AZATHIOPRINE' ==========\n",
      "==========\n",
      "\n",
      "==== Step #1: Query path planning ====\n",
      "\n",
      "Because AZATHIOPRINE is of type 'ChemicalSubstance', BTE will query our meta-KG for APIs that can take 'ChemicalSubstance' as input and 'Gene' as output\n",
      "\n",
      "BTE found 10 apis:\n",
      "\n",
      "API 1. dgidb(2 API calls)\n",
      "API 2. semmed_chemical(13 API calls)\n",
      "API 3. mychem(3 API calls)\n",
      "API 4. scibite(1 API call)\n",
      "API 5. pharos(1 API call)\n",
      "API 6. hmdb(1 API call)\n",
      "API 7. ctd(1 API call)\n",
      "API 8. cord_chemical(1 API call)\n",
      "API 9. chembio(1 API call)\n",
      "API 10. scigraph(1 API call)\n",
      "\n",
      "\n",
      "==== Step #2: Query path execution ====\n",
      "NOTE: API requests are dispatched in parallel, so the list of APIs below is ordered by query time.\n",
      "\n",
      "API 8.1: https://biothings.ncats.io/cord_chemical/query?fields=associated_with (POST -d q=CHEBI:2948&scopes=chebi)\n",
      "API 2.12: https://biothings.ncats.io/semmedchemical/query?fields=affected_by (POST -d q=C0004482&scopes=umls)\n",
      "API 2.4: https://biothings.ncats.io/semmedchemical/query?fields=disrupted_by (POST -d q=C0004482&scopes=umls)\n",
      "API 2.10: https://biothings.ncats.io/semmedchemical/query?fields=negatively_regulates (POST -d q=C0004482&scopes=umls)\n",
      "API 2.6: https://biothings.ncats.io/semmedchemical/query?fields=disrupts (POST -d q=C0004482&scopes=umls)\n",
      "API 2.9: https://biothings.ncats.io/semmedchemical/query?fields=produced_by (POST -d q=C0004482&scopes=umls)\n",
      "API 2.11: https://biothings.ncats.io/semmedchemical/query?fields=affects (POST -d q=C0004482&scopes=umls)\n",
      "API 2.7: https://biothings.ncats.io/semmedchemical/query?fields=coexists_with (POST -d q=C0004482&scopes=umls)\n",
      "API 2.1: https://biothings.ncats.io/semmedchemical/query?fields=physically_interacts_with (POST -d q=C0004482&scopes=umls)\n",
      "API 2.3: https://biothings.ncats.io/semmedchemical/query?fields=negatively_regulated_by (POST -d q=C0004482&scopes=umls)\n",
      "API 2.2: https://biothings.ncats.io/semmedchemical/query?fields=positively_regulates (POST -d q=C0004482&scopes=umls)\n",
      "API 2.13: https://biothings.ncats.io/semmedchemical/query?fields=positively_regulated_by (POST -d q=C0004482&scopes=umls)\n",
      "API 2.5: https://biothings.ncats.io/semmedchemical/query?fields=related_to (POST -d q=C0004482&scopes=umls)\n",
      "API 2.8: https://biothings.ncats.io/semmedchemical/query?fields=produces (POST -d q=C0004482&scopes=umls)\n",
      "API 9.1: https://automat.renci.org/chembio/chemical_substance/gene/CHEBI:2948\n",
      "API 10.1: https://automat.renci.org/cord19-scigraph/chemical_substance/gene/CHEBI:2948\n",
      "API 5.1: https://automat.renci.org/pharos/chemical_substance/gene/CHEBI:2948\n",
      "API 4.1: https://automat.renci.org/cord19-scibite/chemical_substance/gene/CHEBI:2948\n",
      "API 7.1: https://automat.renci.org/hmdb/chemical_substance/gene/CHEBI:2948\n",
      "API 1.1: http://dgidb.genome.wustl.edu/api/v2/interactions.json?drugs=CHEMBL1542\n",
      "API 1.2: http://dgidb.genome.wustl.edu/api/v2/interactions.json?drugs=CHEMBL1200400\n",
      "API 6.1: http://ctdbase.org/tools/batchQuery.go?inputType=chem&report=genes_curated&format=json&inputTerms=D001379\n",
      "API 6.1 ctd failed\n",
      "\n",
      "\n",
      "==== Step #3: Output normalization ====\n",
      "\n",
      "API 2.1 semmed_chemical: 34 hits\n",
      "API 9.1 chembio: No hits\n",
      "API 4.1 scibite: 1 hits\n",
      "API 3.1 mychem: 1 hits\n",
      "API 3.2 mychem: 5 hits\n",
      "API 3.3 mychem: 12 hits\n",
      "API 5.1 pharos: No hits\n",
      "API 2.2 semmed_chemical: 18 hits\n",
      "API 10.1 scigraph: 15 hits\n",
      "API 2.3 semmed_chemical: 13 hits\n",
      "API 2.4 semmed_chemical: No hits\n",
      "API 2.5 semmed_chemical: No hits\n",
      "API 1.1 dgidb: No hits\n",
      "API 1.2 dgidb: No hits\n",
      "API 7.1 hmdb: 3 hits\n",
      "API 2.6 semmed_chemical: No hits\n",
      "API 2.7 semmed_chemical: 30 hits\n",
      "API 2.8 semmed_chemical: No hits\n",
      "API 2.9 semmed_chemical: No hits\n",
      "API 8.1 cord_chemical: 12 hits\n",
      "API 2.10 semmed_chemical: 31 hits\n",
      "API 2.11 semmed_chemical: No hits\n",
      "API 2.12 semmed_chemical: No hits\n",
      "API 2.13 semmed_chemical: 9 hits\n",
      "\n",
      "After id-to-object translation, BTE retrieved 130 unique objects.\n",
      "\n",
      "==========\n",
      "========== Final assembly of results ==========\n",
      "==========\n",
      "\n",
      "\n",
      "BTE found 71 unique intermediate nodes connecting 'inflammatory bowel disease' and 'AZATHIOPRINE'\n"
     ]
    }
   ],
   "source": [
    "## the human user gives this input\n",
    "q2_intermediate = 'Gene'\n",
    "\n",
    "q2 = FindConnection(input_obj = disease2_hint_obj,\\\n",
    "                     output_obj = drug2_hint_obj, \\\n",
    "                    intermediate_nodes = q2_intermediate)\n",
    "q2.connect(verbose = True)"
   ]
  },
  {
   "cell_type": "code",
   "execution_count": 25,
   "metadata": {
    "ExecuteTime": {
     "end_time": "2020-11-27T02:14:08.443327Z",
     "start_time": "2020-11-27T02:14:08.424425Z"
    }
   },
   "outputs": [],
   "source": [
    "# q2_r_graph = q2.fc.G  ## for changing the graph object to reflect the table\n",
    "q2_r_paths_table = q2.display_table_view()\n",
    "\n",
    "q2_type = re.findall(\"dispatcher.([a-zA-Z]+)'\", str(type(q2.fc)))\n",
    "q2_type = \"\".join(q2_type)  ## convert to string\n",
    "\n",
    "# q1 = None  ## clear memory"
   ]
  },
  {
   "cell_type": "markdown",
   "metadata": {},
   "source": [
    "We can see the number of Genes that were linked to both lung adenocarcinoma and to brigatinib and the total number of paths from the lung adenocarcinoma node to the brigatinib node."
   ]
  },
  {
   "cell_type": "code",
   "execution_count": 26,
   "metadata": {
    "ExecuteTime": {
     "end_time": "2020-11-27T02:14:10.649801Z",
     "start_time": "2020-11-27T02:14:10.645666Z"
    }
   },
   "outputs": [
    {
     "name": "stdout",
     "output_type": "stream",
     "text": [
      "There are 71 unique Genes linked to both IBD and imuran.\n",
      "There are 324 unique paths between IBD and imuran.\n"
     ]
    }
   ],
   "source": [
    "## show number of unique intermediate nodes\n",
    "print(\"There are {0} unique {1}s linked to both {2} and {3}.\".format( \\\n",
    "    q2_r_paths_table.node1_name.nunique(), q2_intermediate, disease2_starting_str, drug2_starting_str))\n",
    "\n",
    "## show number of paths from disease to drug\n",
    "print(\"There are {0} unique paths between {1} and {2}.\".format( \\\n",
    "    q2_r_paths_table.shape[0], disease2_starting_str, drug2_starting_str))"
   ]
  },
  {
   "cell_type": "markdown",
   "metadata": {},
   "source": [
    "#### Filtering and scoring"
   ]
  },
  {
   "cell_type": "markdown",
   "metadata": {},
   "source": [
    "Filtering involves using edge provenance, like the source this relationship came from and the method used to make this association, to filter out edges (removing nodes in the process). "
   ]
  },
  {
   "cell_type": "code",
   "execution_count": 27,
   "metadata": {
    "ExecuteTime": {
     "end_time": "2020-11-27T02:14:13.330396Z",
     "start_time": "2020-11-27T02:14:13.321241Z"
    }
   },
   "outputs": [],
   "source": [
    "q2_r_paths_table = filter_table(q2_r_paths_table)"
   ]
  },
  {
   "cell_type": "markdown",
   "metadata": {},
   "source": [
    "After filtering, there are fewer paths in the answer knowledge graph. "
   ]
  },
  {
   "cell_type": "code",
   "execution_count": 28,
   "metadata": {
    "ExecuteTime": {
     "end_time": "2020-11-27T02:14:14.858085Z",
     "start_time": "2020-11-27T02:14:14.853625Z"
    }
   },
   "outputs": [
    {
     "name": "stdout",
     "output_type": "stream",
     "text": [
      "There are 27 unique Genes linked to both IBD and imuran.\n",
      "There are 67 unique paths between IBD and imuran.\n"
     ]
    }
   ],
   "source": [
    "## show number of unique intermediate nodes\n",
    "print(\"There are {0} unique {1}s linked to both {2} and {3}.\".format( \\\n",
    "    q2_r_paths_table.node1_name.nunique(), q2_intermediate, disease2_starting_str, drug2_starting_str))\n",
    "\n",
    "## show number of paths from disease to drug\n",
    "print(\"There are {0} unique paths between {1} and {2}.\".format( \\\n",
    "    q2_r_paths_table.shape[0], disease2_starting_str, drug2_starting_str))"
   ]
  },
  {
   "cell_type": "markdown",
   "metadata": {},
   "source": [
    "The scoring process for two-hop Explain queries (the type of query we're using now, has one intermediate step): \n",
    "\n",
    "1. To score individual intermediate nodes (Genes), we first take a copy of the knowledge graph (KG) and remove some multi-edges. \n",
    "    * Each edge has predicate, API, method, source, and pubmed information. For scoring purposes, we will ignore pubmed and source information because APIs handle this information differently (returning multiple edges or single edges). \n",
    "2. We then count the number of edges to each intermediate node (from lung adenocarcinoma and brigatinib nodes).        \n",
    "3. Finally, we \"normalize\" the score by dividing those counts by maximum-possible number of edges to an intermediate node (from lung adenocarcinoma and brigatinib nodes).\n",
    "\n",
    "We can then see the top-scored intermediate nodes. A score of closer to 1 means that the many relationships link this node to lung adenocarcinoma and brigatinib. A score closer to 0 means that only a few relationships link this node to lung adenocarcinoma and brigatinib. "
   ]
  },
  {
   "cell_type": "code",
   "execution_count": 29,
   "metadata": {
    "ExecuteTime": {
     "end_time": "2020-11-27T02:14:17.653457Z",
     "start_time": "2020-11-27T02:14:17.635953Z"
    }
   },
   "outputs": [
    {
     "data": {
      "text/html": [
       "<div>\n",
       "<style scoped>\n",
       "    .dataframe tbody tr th:only-of-type {\n",
       "        vertical-align: middle;\n",
       "    }\n",
       "\n",
       "    .dataframe tbody tr th {\n",
       "        vertical-align: top;\n",
       "    }\n",
       "\n",
       "    .dataframe thead th {\n",
       "        text-align: right;\n",
       "    }\n",
       "</style>\n",
       "<table border=\"1\" class=\"dataframe\">\n",
       "  <thead>\n",
       "    <tr style=\"text-align: right;\">\n",
       "      <th></th>\n",
       "      <th>score</th>\n",
       "      <th>rank</th>\n",
       "    </tr>\n",
       "  </thead>\n",
       "  <tbody>\n",
       "    <tr>\n",
       "      <th>TPMT</th>\n",
       "      <td>0.521739</td>\n",
       "      <td>1.0</td>\n",
       "    </tr>\n",
       "    <tr>\n",
       "      <th>TNF</th>\n",
       "      <td>0.260870</td>\n",
       "      <td>2.0</td>\n",
       "    </tr>\n",
       "    <tr>\n",
       "      <th>CRP</th>\n",
       "      <td>0.173913</td>\n",
       "      <td>3.0</td>\n",
       "    </tr>\n",
       "    <tr>\n",
       "      <th>NUDT15</th>\n",
       "      <td>0.173913</td>\n",
       "      <td>3.0</td>\n",
       "    </tr>\n",
       "    <tr>\n",
       "      <th>FOXP3</th>\n",
       "      <td>0.173913</td>\n",
       "      <td>3.0</td>\n",
       "    </tr>\n",
       "    <tr>\n",
       "      <th>CAT</th>\n",
       "      <td>0.130435</td>\n",
       "      <td>4.0</td>\n",
       "    </tr>\n",
       "    <tr>\n",
       "      <th>CD4</th>\n",
       "      <td>0.130435</td>\n",
       "      <td>4.0</td>\n",
       "    </tr>\n",
       "    <tr>\n",
       "      <th>ITPA</th>\n",
       "      <td>0.130435</td>\n",
       "      <td>4.0</td>\n",
       "    </tr>\n",
       "    <tr>\n",
       "      <th>AHR</th>\n",
       "      <td>0.130435</td>\n",
       "      <td>4.0</td>\n",
       "    </tr>\n",
       "    <tr>\n",
       "      <th>CAST</th>\n",
       "      <td>0.086957</td>\n",
       "      <td>5.0</td>\n",
       "    </tr>\n",
       "  </tbody>\n",
       "</table>\n",
       "</div>"
      ],
      "text/plain": [
       "           score  rank\n",
       "TPMT    0.521739   1.0\n",
       "TNF     0.260870   2.0\n",
       "CRP     0.173913   3.0\n",
       "NUDT15  0.173913   3.0\n",
       "FOXP3   0.173913   3.0\n",
       "CAT     0.130435   4.0\n",
       "CD4     0.130435   4.0\n",
       "ITPA    0.130435   4.0\n",
       "AHR     0.130435   4.0\n",
       "CAST    0.086957   5.0"
      ]
     },
     "execution_count": 29,
     "metadata": {},
     "output_type": "execute_result"
    }
   ],
   "source": [
    "## create scoring table for results\n",
    "q2_scoring = scoring_output(q2_r_paths_table, q2_type)\n",
    "\n",
    "q2_scoring.head(10)"
   ]
  },
  {
   "cell_type": "markdown",
   "metadata": {},
   "source": [
    "Different knowledge sources (APIs) were called in different parts of the query. \n",
    "\n",
    "In the first part of the query (lung adenocarcinoma &rarr; Gene), the following APIs returned results and the following predicates (semantic relationships) were found."
   ]
  },
  {
   "cell_type": "code",
   "execution_count": 30,
   "metadata": {
    "ExecuteTime": {
     "end_time": "2020-11-27T02:14:21.267543Z",
     "start_time": "2020-11-27T02:14:21.257261Z"
    }
   },
   "outputs": [
    {
     "data": {
      "text/html": [
       "<div>\n",
       "<style scoped>\n",
       "    .dataframe tbody tr th:only-of-type {\n",
       "        vertical-align: middle;\n",
       "    }\n",
       "\n",
       "    .dataframe tbody tr th {\n",
       "        vertical-align: top;\n",
       "    }\n",
       "\n",
       "    .dataframe thead th {\n",
       "        text-align: right;\n",
       "    }\n",
       "</style>\n",
       "<table border=\"1\" class=\"dataframe\">\n",
       "  <thead>\n",
       "    <tr style=\"text-align: right;\">\n",
       "      <th></th>\n",
       "      <th>pred1_api</th>\n",
       "      <th>pred1</th>\n",
       "    </tr>\n",
       "  </thead>\n",
       "  <tbody>\n",
       "    <tr>\n",
       "      <th>2</th>\n",
       "      <td>Automat CORD19 Scibite API</td>\n",
       "      <td>related_to</td>\n",
       "    </tr>\n",
       "    <tr>\n",
       "      <th>9</th>\n",
       "      <td>Automat CORD19 Scigraph API</td>\n",
       "      <td>related_to</td>\n",
       "    </tr>\n",
       "    <tr>\n",
       "      <th>1</th>\n",
       "      <td>Automat PHAROS API</td>\n",
       "      <td>related_to</td>\n",
       "    </tr>\n",
       "    <tr>\n",
       "      <th>0</th>\n",
       "      <td>CORD Disease API</td>\n",
       "      <td>related_to</td>\n",
       "    </tr>\n",
       "  </tbody>\n",
       "</table>\n",
       "</div>"
      ],
      "text/plain": [
       "                     pred1_api       pred1\n",
       "2   Automat CORD19 Scibite API  related_to\n",
       "9  Automat CORD19 Scigraph API  related_to\n",
       "1           Automat PHAROS API  related_to\n",
       "0             CORD Disease API  related_to"
      ]
     },
     "execution_count": 30,
     "metadata": {},
     "output_type": "execute_result"
    }
   ],
   "source": [
    "## show that the APIs use different predicates\n",
    "q1_r_paths_table[['pred1_api', 'pred1']].drop_duplicates().sort_values(by = ['pred1_api', 'pred1'])"
   ]
  },
  {
   "cell_type": "markdown",
   "metadata": {},
   "source": [
    "In the second part of the query (brigatinib &rarr; Gene), the following APIs returned results and the following predicates (semantic relationships) were found."
   ]
  },
  {
   "cell_type": "code",
   "execution_count": 31,
   "metadata": {
    "ExecuteTime": {
     "end_time": "2020-11-27T02:14:23.338287Z",
     "start_time": "2020-11-27T02:14:23.327991Z"
    }
   },
   "outputs": [
    {
     "data": {
      "text/html": [
       "<div>\n",
       "<style scoped>\n",
       "    .dataframe tbody tr th:only-of-type {\n",
       "        vertical-align: middle;\n",
       "    }\n",
       "\n",
       "    .dataframe tbody tr th {\n",
       "        vertical-align: top;\n",
       "    }\n",
       "\n",
       "    .dataframe thead th {\n",
       "        text-align: right;\n",
       "    }\n",
       "</style>\n",
       "<table border=\"1\" class=\"dataframe\">\n",
       "  <thead>\n",
       "    <tr style=\"text-align: right;\">\n",
       "      <th></th>\n",
       "      <th>pred2_api</th>\n",
       "      <th>pred2</th>\n",
       "    </tr>\n",
       "  </thead>\n",
       "  <tbody>\n",
       "    <tr>\n",
       "      <th>0</th>\n",
       "      <td>MyChem.info API</td>\n",
       "      <td>physically_interacts_with</td>\n",
       "    </tr>\n",
       "  </tbody>\n",
       "</table>\n",
       "</div>"
      ],
      "text/plain": [
       "         pred2_api                      pred2\n",
       "0  MyChem.info API  physically_interacts_with"
      ]
     },
     "execution_count": 31,
     "metadata": {},
     "output_type": "execute_result"
    }
   ],
   "source": [
    "## show that the APIs use different predicates\n",
    "q1_r_paths_table[['pred2_api', 'pred2']].drop_duplicates().sort_values(by = ['pred2_api', 'pred2'])"
   ]
  },
  {
   "cell_type": "markdown",
   "metadata": {},
   "source": [
    "[TO DO: Actual code depends on graph object (ReasonerStd object or Networkx MultiDiGraph) used.]\n",
    "\n",
    "We then add the scores and score provenance information to the graph object that will be returned to the ARS. These stored as node attributes on the Gene nodes of the \"answer graph\". "
   ]
  },
  {
   "cell_type": "code",
   "execution_count": 32,
   "metadata": {
    "ExecuteTime": {
     "end_time": "2020-09-21T05:05:15.286719Z",
     "start_time": "2020-09-21T05:05:15.283823Z"
    }
   },
   "outputs": [],
   "source": [
    "# nx.set_node_attributes(q1_r_graph, values = q1_scoring.to_dict(), \\\n",
    "#                        name = 'score')\n",
    "# nx.set_node_attributes(q1_r_graph, values = '(0-1]', name = 'score_range')\n",
    "# nx.set_node_attributes(q1_r_graph, values = 'normalized path count', name = 'score_method')\n",
    "# ## what is a good score, larger or smaller? \n",
    "# nx.set_node_attributes(q1_r_graph, values = 'larger', name = 'score_better_direction')  \n",
    "\n",
    "# ## example of Gene node object with score-related attributes\n",
    "# q1_r_graph.nodes()['NDUFS1']"
   ]
  },
  {
   "cell_type": "markdown",
   "metadata": {},
   "source": [
    "### Evaluate results "
   ]
  },
  {
   "cell_type": "markdown",
   "metadata": {},
   "source": [
    "As mentioned above, the known answers are TPMT and NUDT15. **These two genes are highly-scored results of the query `Disease` inflammatory bowel disease &rarr; `Gene` &larr; `ChemicalSubstance` Imuran**. The information supporting this answer came from multiple APIs. "
   ]
  },
  {
   "cell_type": "code",
   "execution_count": 32,
   "metadata": {
    "ExecuteTime": {
     "end_time": "2020-11-27T02:14:26.249975Z",
     "start_time": "2020-11-27T02:14:26.247654Z"
    }
   },
   "outputs": [],
   "source": [
    "known_answers = ['TPMT', 'NUDT15']"
   ]
  },
  {
   "cell_type": "code",
   "execution_count": 33,
   "metadata": {
    "ExecuteTime": {
     "end_time": "2020-11-27T02:14:26.955635Z",
     "start_time": "2020-11-27T02:14:26.930023Z"
    }
   },
   "outputs": [
    {
     "name": "stdout",
     "output_type": "stream",
     "text": [
      "Scoring from the IBD -> Gene <- Imuran query\n"
     ]
    },
    {
     "data": {
      "text/html": [
       "<div>\n",
       "<style scoped>\n",
       "    .dataframe tbody tr th:only-of-type {\n",
       "        vertical-align: middle;\n",
       "    }\n",
       "\n",
       "    .dataframe tbody tr th {\n",
       "        vertical-align: top;\n",
       "    }\n",
       "\n",
       "    .dataframe thead th {\n",
       "        text-align: right;\n",
       "    }\n",
       "</style>\n",
       "<table border=\"1\" class=\"dataframe\">\n",
       "  <thead>\n",
       "    <tr style=\"text-align: right;\">\n",
       "      <th></th>\n",
       "      <th>node1_name</th>\n",
       "      <th>score</th>\n",
       "      <th>rank</th>\n",
       "    </tr>\n",
       "  </thead>\n",
       "  <tbody>\n",
       "    <tr>\n",
       "      <th>0</th>\n",
       "      <td>TPMT</td>\n",
       "      <td>0.521739</td>\n",
       "      <td>1.0</td>\n",
       "    </tr>\n",
       "    <tr>\n",
       "      <th>3</th>\n",
       "      <td>NUDT15</td>\n",
       "      <td>0.173913</td>\n",
       "      <td>3.0</td>\n",
       "    </tr>\n",
       "  </tbody>\n",
       "</table>\n",
       "</div>"
      ],
      "text/plain": [
       "  node1_name     score  rank\n",
       "0       TPMT  0.521739   1.0\n",
       "3     NUDT15  0.173913   3.0"
      ]
     },
     "execution_count": 33,
     "metadata": {},
     "output_type": "execute_result"
    },
    {
     "data": {
      "text/html": [
       "<div>\n",
       "<style scoped>\n",
       "    .dataframe tbody tr th:only-of-type {\n",
       "        vertical-align: middle;\n",
       "    }\n",
       "\n",
       "    .dataframe tbody tr th {\n",
       "        vertical-align: top;\n",
       "    }\n",
       "\n",
       "    .dataframe thead th {\n",
       "        text-align: right;\n",
       "    }\n",
       "</style>\n",
       "<table border=\"1\" class=\"dataframe\">\n",
       "  <thead>\n",
       "    <tr style=\"text-align: right;\">\n",
       "      <th></th>\n",
       "      <th>pred1_api</th>\n",
       "    </tr>\n",
       "  </thead>\n",
       "  <tbody>\n",
       "    <tr>\n",
       "      <th>100</th>\n",
       "      <td>DISEASES API</td>\n",
       "    </tr>\n",
       "    <tr>\n",
       "      <th>101</th>\n",
       "      <td>mydisease.info API</td>\n",
       "    </tr>\n",
       "    <tr>\n",
       "      <th>103</th>\n",
       "      <td>Automat PHAROS API</td>\n",
       "    </tr>\n",
       "    <tr>\n",
       "      <th>105</th>\n",
       "      <td>BioLink API</td>\n",
       "    </tr>\n",
       "  </tbody>\n",
       "</table>\n",
       "</div>"
      ],
      "text/plain": [
       "              pred1_api\n",
       "100        DISEASES API\n",
       "101  mydisease.info API\n",
       "103  Automat PHAROS API\n",
       "105         BioLink API"
      ]
     },
     "execution_count": 33,
     "metadata": {},
     "output_type": "execute_result"
    },
    {
     "data": {
      "text/html": [
       "<div>\n",
       "<style scoped>\n",
       "    .dataframe tbody tr th:only-of-type {\n",
       "        vertical-align: middle;\n",
       "    }\n",
       "\n",
       "    .dataframe tbody tr th {\n",
       "        vertical-align: top;\n",
       "    }\n",
       "\n",
       "    .dataframe thead th {\n",
       "        text-align: right;\n",
       "    }\n",
       "</style>\n",
       "<table border=\"1\" class=\"dataframe\">\n",
       "  <thead>\n",
       "    <tr style=\"text-align: right;\">\n",
       "      <th></th>\n",
       "      <th>pred2_api</th>\n",
       "    </tr>\n",
       "  </thead>\n",
       "  <tbody>\n",
       "    <tr>\n",
       "      <th>100</th>\n",
       "      <td>MyChem.info API</td>\n",
       "    </tr>\n",
       "    <tr>\n",
       "      <th>151</th>\n",
       "      <td>Automat CORD19 Scibite API</td>\n",
       "    </tr>\n",
       "    <tr>\n",
       "      <th>158</th>\n",
       "      <td>Automat HMDB API</td>\n",
       "    </tr>\n",
       "  </tbody>\n",
       "</table>\n",
       "</div>"
      ],
      "text/plain": [
       "                      pred2_api\n",
       "100             MyChem.info API\n",
       "151  Automat CORD19 Scibite API\n",
       "158            Automat HMDB API"
      ]
     },
     "execution_count": 33,
     "metadata": {},
     "output_type": "execute_result"
    }
   ],
   "source": [
    "print('Scoring from the IBD -> Gene <- Imuran query')\n",
    "\n",
    "## reset index to show placement of genes\n",
    "q2_scoring_df = q2_scoring.reset_index().rename(columns = {'index': 'node1_name'})\n",
    "q2_scoring_df[q2_scoring_df.node1_name.isin(known_answers)]\n",
    "\n",
    "## show APIs/sources for the underlying info for these answers\n",
    "q2_r_paths_table[q2_r_paths_table.node1_name.isin(known_answers)][['pred1_api']].drop_duplicates()\n",
    "q2_r_paths_table[q2_r_paths_table.node1_name.isin(known_answers)][['pred2_api']].drop_duplicates()"
   ]
  },
  {
   "cell_type": "code",
   "execution_count": null,
   "metadata": {},
   "outputs": [],
   "source": []
  }
 ],
 "metadata": {
  "kernelspec": {
   "display_name": "Python 3",
   "language": "python",
   "name": "python3"
  },
  "language_info": {
   "codemirror_mode": {
    "name": "ipython",
    "version": 3
   },
   "file_extension": ".py",
   "mimetype": "text/x-python",
   "name": "python",
   "nbconvert_exporter": "python",
   "pygments_lexer": "ipython3",
   "version": "3.7.9"
  },
  "toc": {
   "base_numbering": 1,
   "nav_menu": {},
   "number_sections": true,
   "sideBar": true,
   "skip_h1_title": true,
   "title_cell": "Table of Contents",
   "title_sidebar": "Contents",
   "toc_cell": false,
   "toc_position": {
    "height": "calc(100% - 180px)",
    "left": "10px",
    "top": "150px",
    "width": "204.967px"
   },
   "toc_section_display": true,
   "toc_window_display": true
  },
  "varInspector": {
   "cols": {
    "lenName": 16,
    "lenType": 16,
    "lenVar": 40
   },
   "kernels_config": {
    "python": {
     "delete_cmd_postfix": "",
     "delete_cmd_prefix": "del ",
     "library": "var_list.py",
     "varRefreshCmd": "print(var_dic_list())"
    },
    "r": {
     "delete_cmd_postfix": ") ",
     "delete_cmd_prefix": "rm(",
     "library": "var_list.r",
     "varRefreshCmd": "cat(var_dic_list()) "
    }
   },
   "types_to_exclude": [
    "module",
    "function",
    "builtin_function_or_method",
    "instance",
    "_Feature"
   ],
   "window_display": false
  }
 },
 "nbformat": 4,
 "nbformat_minor": 2
}
