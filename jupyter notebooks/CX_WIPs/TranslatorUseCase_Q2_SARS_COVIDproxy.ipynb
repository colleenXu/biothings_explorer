{
 "cells": [
  {
   "cell_type": "markdown",
   "metadata": {},
   "source": [
    "# Translator Use Case Question 2: SARS (proxy for COVID-19)"
   ]
  },
  {
   "cell_type": "markdown",
   "metadata": {},
   "source": [
    "## Introduction"
   ]
  },
  {
   "cell_type": "markdown",
   "metadata": {},
   "source": [
    "**To experiment with an executable version of this notebook, [load it in Google Colaboratory](https://colab.research.google.com/github/colleenXu/biothings_explorer/blob/relay/jupyter%20notebooks/CX_WIPs/TranslatorUseCase_Q2_SARS_COVIDproxy.ipynb).**\n",
    "\n",
    "The Translator Use Case Question #2 is:    \n",
    "\n",
    "> What genes or proteins may be associated with symptoms of a disease X (such as based on drugs that are currently used to treat that disease, etc)?\n",
    "\n",
    "<br>\n",
    "\n",
    "BioThings Explorer (BTE) can answer two classes of queries -- \"EXPLAIN\" and \"PREDICT\". This Question fits the PREDICT  template of starting with **a specific biomedical entity** (a specific `Disease` X) and finding relationships with **one biomedical entity type** (like `PhenotypicFeature` or `Gene`).\n",
    "* Note that currently a `Protein` biomedical entity type is not implemented in BTE. Instead, protein-coding and some non-coding genes are `Genes`. \n",
    "\n",
    "<br>\n",
    "\n",
    "We will use severe acute respiratory syndrome (SARS), as a proxy for COVID-19, as our specific disease of interest.  We address the question above using the query: `Disease` SARS &rarr; `PhenotypicFeature` &rarr; `Gene`.    \n",
    "* In other words, starting with the Disease SARS, find entities of type PhenotypicFeature associated with this disease, then find the entities of type Gene associated with those PhenotypicFeatures.       \n",
    "* This query will return a graph object with entities as nodes and relationships as edges. We then use edge provenance information to **filter** the results. For each Gene node, we use the number of unique paths from SARS (input node) to that node to **score** it. The scores can then be used to sort the results.  \n",
    "\n",
    "We will then compare the results to the genes mentioned in a [recent article describing a \"bradykinin storm\" mechanism for COVID-19](https://elifesciences.org/articles/59177). "
   ]
  },
  {
   "cell_type": "markdown",
   "metadata": {},
   "source": [
    "## Step 0: Load BTE modules, notebook functions"
   ]
  },
  {
   "cell_type": "code",
   "execution_count": 1,
   "metadata": {
    "ExecuteTime": {
     "end_time": "2020-09-29T02:35:17.747479Z",
     "start_time": "2020-09-29T02:35:17.091494Z"
    }
   },
   "outputs": [],
   "source": [
    "## CX: allows multiple lines of code to print from one code block\n",
    "from IPython.core.interactiveshell import InteractiveShell\n",
    "InteractiveShell.ast_node_interactivity = \"all\"\n",
    "\n",
    "# import modules from biothings_explorer\n",
    "from biothings_explorer.hint import Hint\n",
    "from biothings_explorer.user_query_dispatcher import FindConnection\n",
    "\n",
    "## show time that this notebook was executed \n",
    "from datetime import datetime\n",
    "\n",
    "## packages to work with objects \n",
    "import re\n",
    "\n",
    "## to get around bugs\n",
    "import nest_asyncio\n",
    "nest_asyncio.apply()"
   ]
  },
  {
   "cell_type": "code",
   "execution_count": 2,
   "metadata": {
    "ExecuteTime": {
     "end_time": "2020-09-29T02:35:17.755634Z",
     "start_time": "2020-09-29T02:35:17.750404Z"
    }
   },
   "outputs": [],
   "source": [
    "## functions to add to modules?\n",
    "def hint_display(query, hint_result):\n",
    "    \"\"\"\n",
    "    show the type, name, number of IDs for all results returned by the query\n",
    "    \n",
    "    :param: query: string used in hint query\n",
    "    :param: hint_result: object returned from hint query, a dictionary of lists of dictionaries\n",
    "    \n",
    "    Returns: None\n",
    "    \"\"\"\n",
    "    ## function needs to be rewritten if it's going to give the exact index of each object within its type \n",
    "    display = ['type', 'name']  ## replace with the parts of the BioThings object you want to see\n",
    "    concise_results = []\n",
    "    for BT_type, result in hint_result.items():\n",
    "        if result:  ## basically if it's not empty\n",
    "            for items in result:\n",
    "                ## number of identifiers per object: number of keys - 4 (name, primary, display, type)\n",
    "                temp = len(items) - 4\n",
    "                concise_results.append((items[display[0]], items[display[1]], \n",
    "                                         str(temp)))\n",
    "                    \n",
    "    print('There are {total} BioThings objects returned for {ht}:'.format(\\\n",
    "                total = len(concise_results), ht = query))\n",
    "    for display_info in concise_results:\n",
    "        print('{0}, {1}, num of IDs: {2}'.format(display_info[0], display_info[1], display_info[2]))"
   ]
  },
  {
   "cell_type": "code",
   "execution_count": 3,
   "metadata": {
    "ExecuteTime": {
     "end_time": "2020-09-29T02:35:17.762578Z",
     "start_time": "2020-09-29T02:35:17.758164Z"
    }
   },
   "outputs": [],
   "source": [
    "def filter_table(df):\n",
    "    \"\"\"\n",
    "    use _source and _method columns to remove rows (paths) from the dataframe\n",
    "    :param: pandas dataframe containing results from BTE FindConnection module, in table form\n",
    "    \n",
    "    Returns: filtered dataframe\n",
    "    \"\"\"\n",
    "    ## note: still needs checking with EXPLAIN queries\n",
    "    ## key is the string to match to column, value is a list of strings to match to column values\n",
    "    filter_out = {'_source': ['SEMMED', 'CTD', 'ctd', 'omia']   \n",
    "#                   '_method': []  ## currently no method stuff I want to filter out\n",
    "                 }\n",
    "    ## SEMMED: text mining results wrong for PhenotypicFeature -> Gene\n",
    "    ## CTD/ctd: results odd for MSUD -> ChemicalSubstance\n",
    "    ## omia: results wrong or discontinued gene IDs for PhenotypicFeature -> Gene\n",
    "    \n",
    "    \n",
    "    df_temp = df.copy()  ## so the original df isn't modified in-place\n",
    "    for key,val in filter_out.items():\n",
    "        ## find columns that match the key string\n",
    "        columns = [i for i in df_temp.columns if key in i]\n",
    "        ## iterate through each column\n",
    "        for col in columns:\n",
    "            ## iterate through each value to take out, check if string CONTAINS match. \n",
    "            ## only keep rows that don't contain the value\n",
    "            for i in val:\n",
    "                df_temp = df_temp[~ df_temp[col].str.contains(i, na = False)]\n",
    "    return df_temp"
   ]
  },
  {
   "cell_type": "code",
   "execution_count": 4,
   "metadata": {
    "ExecuteTime": {
     "end_time": "2020-09-29T02:35:17.773207Z",
     "start_time": "2020-09-29T02:35:17.764592Z"
    }
   },
   "outputs": [],
   "source": [
    "def scoring_output(df, q_type):\n",
    "    \"\"\"\n",
    "    score results based on whether query was Predict or Explain type, number of \n",
    "        intermediate nodes \n",
    "    :param: pandas dataframe containing results from BTE FindConnection module\n",
    "    :param: string describing type of query (Predict or Explain)\n",
    "    \n",
    "    May flatten some edges, because score only counts one edge per \n",
    "        unique predicate / API / method (ignoring source and pubmed col)\n",
    "    \n",
    "    Predict queries: score each output node by counting # of paths\n",
    "        from input nodes to it. Normalize by dividing by maximum\n",
    "        possible # of paths\n",
    "    Explain two-hop (one intermediate) queries: score each intermediate node by \n",
    "        counting # of paths (between input and output nodes) that include it. \n",
    "        Normalize by dividing by maximum possible # of paths    \n",
    "\n",
    "    Explain one-hop (direct) queries: no need to score, prints message\n",
    "    Other Explain queries (many-hops): currently not able to score, prints message     \n",
    "    \n",
    "    Returns: pandas series with scores, index is output_name\n",
    "             or None (one-hop or many-hop Explain query)\n",
    "    \"\"\"\n",
    "    df_temp = df.copy()  ## so no chance to mutate this   \n",
    "    flag_direct = False  ## one-hop query or not\n",
    "    ## use df_col to look quicker into columns\n",
    "    df_col = set(df_temp.columns)\n",
    "    \n",
    "    ## ignore source and pubmed col in looking at unique edges \n",
    "    columns_drop = [col for col in df_col if (('_source' in col) or ('_pubmed' in col))]\n",
    "    df_temp.drop(columns = columns_drop, inplace = True)    \n",
    "    df_temp.drop_duplicates(inplace = True)\n",
    "    \n",
    "    ## check if query is one-hop or not\n",
    "    if \"node1_name\" not in df_col:    ## name for first intermediate node layer\n",
    "        flag_direct = True  \n",
    "    \n",
    "    if q_type == 'Explain':\n",
    "        if flag_direct:   # one hop / no intermediates\n",
    "            print('No valid node scoring for one-hop (direct) Explain queries.')\n",
    "            return None\n",
    "        ## if there are many-hops/intermediate layers\n",
    "        elif \"node2_name\" in df_col:  ## name for 2nd intermed. node layer\n",
    "            print('Cannot currently score many-hop Explain queries.')\n",
    "            return None\n",
    "        else:   ## two-hop / 1 intermediate layer\n",
    "            ## count multi-edges to results (the intermediate node1 col)\n",
    "            scores = df_temp.node1_name.value_counts() \n",
    "            ## to find the maximum-possible number of edges, look at non-result cols\n",
    "            columns_drop = [col for col in df_col if 'node1' in col]\n",
    "            df_temp.drop(columns = columns_drop, inplace = True)\n",
    "            ## now look at number of unique combos for input, edge info, output\n",
    "            df_temp.drop_duplicates(inplace = True)\n",
    "            max_paths = df_temp.shape[0]            \n",
    "            ## normalize scores by dividing each by max number of paths\n",
    "            scores = scores / max_paths\n",
    "\n",
    "    else:  ## Predict type query\n",
    "        ## count multi-edges to results (the output col)\n",
    "        scores = df_temp.output_name.value_counts()\n",
    "        ## to find the maximum number of multi-edges, look at non-output col\n",
    "        columns_drop = [col for col in df_temp.columns if 'output' in col]\n",
    "        df_temp.drop(columns = columns_drop, inplace = True)\n",
    "        ## now look at number of unique paths possible\n",
    "        df_temp.drop_duplicates(inplace = True)\n",
    "        max_paths = df_temp.shape[0]\n",
    "        ## normalize scores by dividing each by max number of paths\n",
    "        scores = scores / max_paths\n",
    "            \n",
    "    ## return scores as pandas dataframe, with rank\n",
    "    scores = scores.to_frame(name = 'score') \n",
    "    scores['rank'] = scores['score'].rank(method = 'dense', ascending = False)\n",
    "    return scores"
   ]
  },
  {
   "cell_type": "code",
   "execution_count": 5,
   "metadata": {
    "ExecuteTime": {
     "end_time": "2020-09-29T02:35:17.779571Z",
     "start_time": "2020-09-29T02:35:17.775426Z"
    }
   },
   "outputs": [
    {
     "name": "stdout",
     "output_type": "stream",
     "text": [
      "The time that this notebook was executed is...\n",
      "Local time (PST, West Coast USA): \n",
      "2020-09-28 19:35:17.776939\n",
      "UTC time: \n",
      "2020-09-29 02:35:17.777061\n"
     ]
    }
   ],
   "source": [
    "## record when cell blocks are executed\n",
    "print('The time that this notebook was executed is...')\n",
    "print('Local time (PST, West Coast USA): ')\n",
    "print(datetime.now())\n",
    "print('UTC time: ')\n",
    "print(datetime.utcnow())"
   ]
  },
  {
   "cell_type": "markdown",
   "metadata": {},
   "source": [
    "## Step 1: Find representation of \"SARS\" in BTE"
   ]
  },
  {
   "cell_type": "markdown",
   "metadata": {},
   "source": [
    "In this step, BioThings Explorer translates our query string \"SARS\"  into BioThings objects, which contain mappings to many common identifiers. We then pick the BioThings object that best matches what we want. \n",
    "\n",
    "Generally, the top result returned by the Hint module for your BioThings type of interest will match what you want, but you should confirm that using the identifiers shown. \n",
    "\n",
    "\n",
    "> BioThings types correspond to children and descendants of [BiologicalEntity](https://biolink.github.io/biolink-model/docs/BiologicalEntity.html) from the [Biolink Model](https://biolink.github.io/biolink-model/docs/), including `Disease` (e.g., \"lupus\"), `ChemicalSubstance` (e.g., \"acetaminophen\"), `Gene` (e.g., \"CDK2\"), `BiologicalProcess` (e.g., \"T cell differentiation\"), and `Pathway` (e.g., \"Citric acid cycle\"). **However, [only a subset of the Biolink BiologicalEntity children / descendants are currently implemented in BTE](https://smart-api.info/portal/translator/metakg)**. More biomedical object types will be available as more knowledge sources (APIs) are added to the system. **Note that the type `BiologicalEntity` means any BioThings type currently implemented in BTE will be accepted.**"
   ]
  },
  {
   "cell_type": "code",
   "execution_count": 6,
   "metadata": {
    "ExecuteTime": {
     "end_time": "2020-09-29T02:35:18.045529Z",
     "start_time": "2020-09-29T02:35:17.783212Z"
    }
   },
   "outputs": [
    {
     "name": "stdout",
     "output_type": "stream",
     "text": [
      "There are 9 BioThings objects returned for SARS:\n",
      "ChemicalSubstance, Anti-SARS-CoV-2 REGN-COV2, num of IDs: 1\n",
      "Disease, severe acute respiratory syndrome, num of IDs: 5\n",
      "Disease, COVID-19, num of IDs: 2\n",
      "Disease, SARS-CoV-2 Kawasaki-like syndrome, num of IDs: 1\n",
      "MolecularActivity, selenocysteine-tRNA ligase activity, num of IDs: 2\n",
      "MolecularActivity, mRNA (guanine-N7-)-methyltransferase activity, num of IDs: 3\n",
      "MolecularActivity, 5'-3' RNA helicase activity, num of IDs: 2\n",
      "MolecularActivity, mRNA (nucleoside-2'-O-)-methyltransferase activity, num of IDs: 3\n",
      "MolecularActivity, RNA-directed 5'-3' RNA polymerase activity, num of IDs: 3\n"
     ]
    }
   ],
   "source": [
    "ht = Hint()  ## neater way to call this BTE module\n",
    "\n",
    "## the human user gives this input\n",
    "disease_starting_str = \"SARS\"\n",
    "\n",
    "disease_hint = ht.query(disease_starting_str)\n",
    "hint_display(disease_starting_str, disease_hint)"
   ]
  },
  {
   "cell_type": "markdown",
   "metadata": {},
   "source": [
    "Note: the query failed to retrieve Disease &rarr; PhenotypicFeatures for COVID-19 (a sibling of SARS in the Mondo ontology) and Orthocoronavirinae infectious disease (parent of COVID-19 and SARS in the Mondo ontology). \n",
    "\n",
    "So we'll pick the SARS `Disease` choice (indexed at 0) for our query. We can look at identifier mappings inside this BioThings object. "
   ]
  },
  {
   "cell_type": "code",
   "execution_count": 7,
   "metadata": {
    "ExecuteTime": {
     "end_time": "2020-09-29T02:35:18.058627Z",
     "start_time": "2020-09-29T02:35:18.047502Z"
    }
   },
   "outputs": [
    {
     "data": {
      "text/plain": [
       "{'MONDO': 'MONDO:0005091',\n",
       " 'DOID': 'DOID:2945',\n",
       " 'UMLS': 'C1175175',\n",
       " 'name': 'severe acute respiratory syndrome',\n",
       " 'MESH': 'D045169',\n",
       " 'ORPHANET': '140896',\n",
       " 'primary': {'identifier': 'MONDO',\n",
       "  'cls': 'Disease',\n",
       "  'value': 'MONDO:0005091'},\n",
       " 'display': 'MONDO(MONDO:0005091) DOID(DOID:2945) ORPHANET(140896) UMLS(C1175175) MESH(D045169) name(severe acute respiratory syndrome)',\n",
       " 'type': 'Disease'}"
      ]
     },
     "execution_count": 7,
     "metadata": {},
     "output_type": "execute_result"
    }
   ],
   "source": [
    "## the human user makes this choice, gives this input\n",
    "disease_choice_type = 'Disease'\n",
    "disease_choice_idx = 0\n",
    "\n",
    "disease_hint_obj = disease_hint[disease_choice_type][disease_choice_idx]  \n",
    "disease_hint_obj\n",
    "## these inner dictionaries are keys = id type, \n",
    "##       values = curie, normal string, or dictionary (for the key 'primary')"
   ]
  },
  {
   "cell_type": "markdown",
   "metadata": {},
   "source": [
    "## Step 2: SARS &rarr; PhenotypicFeature &rarr; Gene"
   ]
  },
  {
   "cell_type": "markdown",
   "metadata": {},
   "source": [
    "In this section, we dynamically generate a knowledge graph with paths connecting SARS to genes *using PhenotypicFeature intermediates* (representing the symptoms part of the question).  \n",
    "\n",
    "BTE performs the **query path planning** and **query path execution** by deconstructing the query into individual API calls, executing those API calls, and then assembling the results.\n",
    "\n",
    "The code block below takes about 1 minute to run.   "
   ]
  },
  {
   "cell_type": "code",
   "execution_count": 8,
   "metadata": {
    "ExecuteTime": {
     "end_time": "2020-09-29T02:36:07.052178Z",
     "start_time": "2020-09-29T02:35:18.062361Z"
    }
   },
   "outputs": [
    {
     "name": "stdout",
     "output_type": "stream",
     "text": [
      "==========\n",
      "========== QUERY PARAMETER SUMMARY ==========\n",
      "==========\n",
      "\n",
      "BTE will find paths that join 'severe acute respiratory syndrome' and 'Gene'.                   Paths will have 1 intermediate node.\n",
      "\n",
      "Intermediate node #1 will have these type constraints: PhenotypicFeature\n",
      "\n",
      "\n",
      "\n",
      "========== QUERY #1 -- fetch all PhenotypicFeature entities linked to severe acute respiratory syndrome ==========\n",
      "==========\n",
      "\n",
      "==== Step #1: Query path planning ====\n",
      "\n",
      "Because severe acute respiratory syndrome is of type 'Disease', BTE will query our meta-KG for APIs that can take 'Disease' as input and 'PhenotypicFeature' as output\n",
      "\n",
      "BTE found 3 apis:\n",
      "\n",
      "API 1. semmed_disease(11 API calls)\n",
      "API 2. biolink(1 API call)\n",
      "API 3. mydisease(1 API call)\n",
      "\n",
      "\n",
      "==== Step #2: Query path execution ====\n",
      "NOTE: API requests are dispatched in parallel, so the list of APIs below is ordered by query time.\n",
      "\n",
      "API 3.1: https://mydisease.info/v1/query?fields=hpo.phenotype_related_to_disease (POST -d q=140896&scopes=hpo.orphanet)\n",
      "API 1.7: https://biothings.ncats.io/semmed/query?fields=related_to (POST -d q=C1175175&scopes=umls)\n",
      "API 1.11: https://biothings.ncats.io/semmed/query?fields=negatively_regulated_by (POST -d q=C1175175&scopes=umls)\n",
      "API 1.10: https://biothings.ncats.io/semmed/query?fields=disrupts (POST -d q=C1175175&scopes=umls)\n",
      "API 1.9: https://biothings.ncats.io/semmed/query?fields=physically_interacts_with (POST -d q=C1175175&scopes=umls)\n",
      "API 1.2: https://biothings.ncats.io/semmed/query?fields=affects (POST -d q=C1175175&scopes=umls)\n",
      "API 1.1: https://biothings.ncats.io/semmed/query?fields=affected_by (POST -d q=C1175175&scopes=umls)\n",
      "API 1.5: https://biothings.ncats.io/semmed/query?fields=treated_by (POST -d q=C1175175&scopes=umls)\n",
      "API 1.6: https://biothings.ncats.io/semmed/query?fields=prevented_by (POST -d q=C1175175&scopes=umls)\n",
      "API 1.8: https://biothings.ncats.io/semmed/query?fields=coexists_with (POST -d q=C1175175&scopes=umls)\n",
      "API 1.4: https://biothings.ncats.io/semmed/query?fields=caused_by (POST -d q=C1175175&scopes=umls)\n",
      "API 1.3: https://biothings.ncats.io/semmed/query?fields=disrupted_by (POST -d q=C1175175&scopes=umls)\n",
      "API 2.1: https://api.monarchinitiative.org/api/bioentity/disease/MONDO:0005091/phenotypes?rows=200&direct=true\n",
      "\n",
      "\n",
      "==== Step #3: Output normalization ====\n",
      "\n",
      "API 1.1 semmed_disease: No hits\n",
      "API 1.2 semmed_disease: No hits\n",
      "API 1.3 semmed_disease: No hits\n",
      "API 1.4 semmed_disease: No hits\n",
      "API 2.1 biolink: 16 hits\n",
      "API 1.5 semmed_disease: No hits\n",
      "API 1.6 semmed_disease: No hits\n",
      "API 1.7 semmed_disease: No hits\n",
      "API 1.8 semmed_disease: No hits\n",
      "API 3.1 mydisease: 16 hits\n",
      "API 1.9 semmed_disease: No hits\n",
      "API 1.10 semmed_disease: No hits\n",
      "API 1.11 semmed_disease: No hits\n",
      "\n",
      "After id-to-object translation, BTE retrieved 16 unique objects.\n",
      "\n",
      "\n",
      "========== QUERY #2.1 -- fetch all Gene entities linked to PhenotypicFeature entites ==========\n",
      "==========\n",
      "\n",
      "==== Step #1: Query path planning ====\n",
      "\n",
      "Because None is of type 'PhenotypicFeature', BTE will query our meta-KG for APIs that can take 'PhenotypicFeature' as input and 'Gene' as output\n",
      "\n",
      "BTE found 3 apis:\n",
      "\n",
      "API 1. ebi_gene2phenotype(1 API call)\n",
      "API 2. semmed_phenotype(13 API calls)\n",
      "API 3. biolink(32 API calls)\n",
      "\n",
      "\n",
      "==== Step #2: Query path execution ====\n",
      "NOTE: API requests are dispatched in parallel, so the list of APIs below is ordered by query time.\n",
      "\n",
      "API 2.5: https://biothings.ncats.io/semmedphenotype/query?fields=manifestation_of (POST -d q=C0007222,C0022660,C0011849,C0476273,C0027651,C4025279,C4023112,C0010200,C0021051,C0018681,C0006826,C0746102,C0700292,C2609414,C0013404,C0243050,C0015967,C0231528&scopes=umls)\n",
      "API 2.9: https://biothings.ncats.io/semmedphenotype/query?fields=positively_regulates (POST -d q=C0007222,C0022660,C0011849,C0476273,C0027651,C4025279,C4023112,C0010200,C0021051,C0018681,C0006826,C0746102,C0700292,C2609414,C0013404,C0243050,C0015967,C0231528&scopes=umls)\n",
      "API 2.1: https://biothings.ncats.io/semmedphenotype/query?fields=has_part (POST -d q=C0007222,C0022660,C0011849,C0476273,C0027651,C4025279,C4023112,C0010200,C0021051,C0018681,C0006826,C0746102,C0700292,C2609414,C0013404,C0243050,C0015967,C0231528&scopes=umls)\n",
      "API 2.11: https://biothings.ncats.io/semmedphenotype/query?fields=produces (POST -d q=C0007222,C0022660,C0011849,C0476273,C0027651,C4025279,C4023112,C0010200,C0021051,C0018681,C0006826,C0746102,C0700292,C2609414,C0013404,C0243050,C0015967,C0231528&scopes=umls)\n",
      "API 2.4: https://biothings.ncats.io/semmedphenotype/query?fields=produced_by (POST -d q=C0007222,C0022660,C0011849,C0476273,C0027651,C4025279,C4023112,C0010200,C0021051,C0018681,C0006826,C0746102,C0700292,C2609414,C0013404,C0243050,C0015967,C0231528&scopes=umls)\n",
      "API 2.7: https://biothings.ncats.io/semmedphenotype/query?fields=negatively_regulated_by (POST -d q=C0007222,C0022660,C0011849,C0476273,C0027651,C4025279,C4023112,C0010200,C0021051,C0018681,C0006826,C0746102,C0700292,C2609414,C0013404,C0243050,C0015967,C0231528&scopes=umls)\n",
      "API 2.12: https://biothings.ncats.io/semmedphenotype/query?fields=negatively_regulates (POST -d q=C0007222,C0022660,C0011849,C0476273,C0027651,C4025279,C4023112,C0010200,C0021051,C0018681,C0006826,C0746102,C0700292,C2609414,C0013404,C0243050,C0015967,C0231528&scopes=umls)\n",
      "API 2.2: https://biothings.ncats.io/semmedphenotype/query?fields=affected_by (POST -d q=C0007222,C0022660,C0011849,C0476273,C0027651,C4025279,C4023112,C0010200,C0021051,C0018681,C0006826,C0746102,C0700292,C2609414,C0013404,C0243050,C0015967,C0231528&scopes=umls)\n",
      "API 2.6: https://biothings.ncats.io/semmedphenotype/query?fields=physically_interacts_with (POST -d q=C0007222,C0022660,C0011849,C0476273,C0027651,C4025279,C4023112,C0010200,C0021051,C0018681,C0006826,C0746102,C0700292,C2609414,C0013404,C0243050,C0015967,C0231528&scopes=umls)\n",
      "API 2.13: https://biothings.ncats.io/semmedphenotype/query?fields=positively_regulated_by (POST -d q=C0007222,C0022660,C0011849,C0476273,C0027651,C4025279,C4023112,C0010200,C0021051,C0018681,C0006826,C0746102,C0700292,C2609414,C0013404,C0243050,C0015967,C0231528&scopes=umls)\n",
      "API 2.8: https://biothings.ncats.io/semmedphenotype/query?fields=disrupted_by (POST -d q=C0007222,C0022660,C0011849,C0476273,C0027651,C4025279,C4023112,C0010200,C0021051,C0018681,C0006826,C0746102,C0700292,C2609414,C0013404,C0243050,C0015967,C0231528&scopes=umls)\n",
      "API 2.3: https://biothings.ncats.io/semmedphenotype/query?fields=related_to (POST -d q=C0007222,C0022660,C0011849,C0476273,C0027651,C4025279,C4023112,C0010200,C0021051,C0018681,C0006826,C0746102,C0700292,C2609414,C0013404,C0243050,C0015967,C0231528&scopes=umls)\n",
      "API 2.10: https://biothings.ncats.io/semmedphenotype/query?fields=subclass_of (POST -d q=C0007222,C0022660,C0011849,C0476273,C0027651,C4025279,C4023112,C0010200,C0021051,C0018681,C0006826,C0746102,C0700292,C2609414,C0013404,C0243050,C0015967,C0231528&scopes=umls)\n",
      "API 1.1: https://pending.biothings.io/ebigene2phenotype/query?fields=_id&size=350 (POST -d q=HP:0002094,HP:0001919,HP:0011949,HP:0012418,HP:0002315,HP:0012735,HP:0002721,HP:0001626,HP:0002098,HP:0000819,HP:0002664,HP:0025439,HP:0001945,HP:0006528,HP:0004887,HP:0003326&scopes=gene2phenotype.phenotypes)\n",
      "API 3.28: https://api.monarchinitiative.org/api/bioentity/phenotype/HP:0025439/genes?rows=200\n",
      "API 3.15: https://api.monarchinitiative.org/api/bioentity/phenotype/HP:0004887/genes?rows=200&direct=true\n",
      "API 3.13: https://api.monarchinitiative.org/api/bioentity/phenotype/HP:0001945/genes?rows=200&direct=true\n",
      "API 3.12: https://api.monarchinitiative.org/api/bioentity/phenotype/HP:0025439/genes?rows=200&direct=true\n",
      "API 3.9: https://api.monarchinitiative.org/api/bioentity/phenotype/HP:0002098/genes?rows=200&direct=true\n",
      "API 3.10: https://api.monarchinitiative.org/api/bioentity/phenotype/HP:0000819/genes?rows=200&direct=true\n",
      "API 3.14: https://api.monarchinitiative.org/api/bioentity/phenotype/HP:0006528/genes?rows=200&direct=true\n",
      "API 3.4: https://api.monarchinitiative.org/api/bioentity/phenotype/HP:0012418/genes?rows=200&direct=true\n",
      "API 3.8: https://api.monarchinitiative.org/api/bioentity/phenotype/HP:0001626/genes?rows=200&direct=true\n",
      "API 3.16: https://api.monarchinitiative.org/api/bioentity/phenotype/HP:0003326/genes?rows=200&direct=true\n",
      "API 3.17: https://api.monarchinitiative.org/api/bioentity/phenotype/HP:0002094/genes?rows=200\n",
      "API 3.3: https://api.monarchinitiative.org/api/bioentity/phenotype/HP:0011949/genes?rows=200&direct=true\n"
     ]
    },
    {
     "name": "stdout",
     "output_type": "stream",
     "text": [
      "API 3.22: https://api.monarchinitiative.org/api/bioentity/phenotype/HP:0012735/genes?rows=200\n",
      "API 3.27: https://api.monarchinitiative.org/api/bioentity/phenotype/HP:0002664/genes?rows=200\n",
      "API 3.7: https://api.monarchinitiative.org/api/bioentity/phenotype/HP:0002721/genes?rows=200&direct=true\n",
      "API 3.29: https://api.monarchinitiative.org/api/bioentity/phenotype/HP:0001945/genes?rows=200\n",
      "API 3.30: https://api.monarchinitiative.org/api/bioentity/phenotype/HP:0006528/genes?rows=200\n",
      "API 3.31: https://api.monarchinitiative.org/api/bioentity/phenotype/HP:0004887/genes?rows=200\n",
      "API 3.32: https://api.monarchinitiative.org/api/bioentity/phenotype/HP:0003326/genes?rows=200\n",
      "API 3.26: https://api.monarchinitiative.org/api/bioentity/phenotype/HP:0000819/genes?rows=200\n",
      "API 3.21: https://api.monarchinitiative.org/api/bioentity/phenotype/HP:0002315/genes?rows=200\n",
      "API 3.19: https://api.monarchinitiative.org/api/bioentity/phenotype/HP:0011949/genes?rows=200\n",
      "API 3.18: https://api.monarchinitiative.org/api/bioentity/phenotype/HP:0001919/genes?rows=200\n",
      "API 3.6: https://api.monarchinitiative.org/api/bioentity/phenotype/HP:0012735/genes?rows=200&direct=true\n",
      "API 3.25: https://api.monarchinitiative.org/api/bioentity/phenotype/HP:0002098/genes?rows=200\n",
      "API 3.1: https://api.monarchinitiative.org/api/bioentity/phenotype/HP:0002094/genes?rows=200&direct=true\n",
      "API 3.11: https://api.monarchinitiative.org/api/bioentity/phenotype/HP:0002664/genes?rows=200&direct=true\n",
      "API 3.20: https://api.monarchinitiative.org/api/bioentity/phenotype/HP:0012418/genes?rows=200\n",
      "API 3.2: https://api.monarchinitiative.org/api/bioentity/phenotype/HP:0001919/genes?rows=200&direct=true\n",
      "API 3.5: https://api.monarchinitiative.org/api/bioentity/phenotype/HP:0002315/genes?rows=200&direct=true\n",
      "API 3.23: https://api.monarchinitiative.org/api/bioentity/phenotype/HP:0002721/genes?rows=200\n",
      "API 3.24: https://api.monarchinitiative.org/api/bioentity/phenotype/HP:0001626/genes?rows=200\n",
      "\n",
      "\n",
      "==== Step #3: Output normalization ====\n",
      "\n",
      "API 2.1 semmed_phenotype: No hits\n",
      "API 1.1 ebi_gene2phenotype: 99 hits\n",
      "API 2.2 semmed_phenotype: No hits\n",
      "API 2.3 semmed_phenotype: No hits\n",
      "API 2.4 semmed_phenotype: No hits\n",
      "API 2.5 semmed_phenotype: No hits\n",
      "API 3.1 biolink: 161 hits\n",
      "API 3.2 biolink: 15 hits\n",
      "API 3.3 biolink: 5 hits\n",
      "API 3.4 biolink: 12 hits\n",
      "API 3.5 biolink: 159 hits\n",
      "API 3.6 biolink: 112 hits\n",
      "API 3.7 biolink: 147 hits\n",
      "API 3.8 biolink: 50 hits\n",
      "API 3.9 biolink: 156 hits\n",
      "API 3.10 biolink: 171 hits\n",
      "API 3.11 biolink: 151 hits\n",
      "API 3.12 biolink: 5 hits\n",
      "API 3.13 biolink: 180 hits\n",
      "API 3.14 biolink: 22 hits\n",
      "API 3.15 biolink: 15 hits\n",
      "API 3.16 biolink: 108 hits\n",
      "API 2.6 semmed_phenotype: No hits\n",
      "API 3.17 biolink: No hits\n",
      "API 3.18 biolink: 1 hits\n",
      "API 3.19 biolink: No hits\n",
      "API 3.20 biolink: No hits\n",
      "API 3.21 biolink: No hits\n",
      "API 3.22 biolink: 1 hits\n",
      "API 3.23 biolink: No hits\n",
      "API 3.24 biolink: No hits\n",
      "API 3.25 biolink: No hits\n",
      "API 3.26 biolink: No hits\n",
      "API 3.27 biolink: No hits\n",
      "API 3.28 biolink: No hits\n",
      "API 3.29 biolink: No hits\n",
      "API 3.30 biolink: No hits\n",
      "API 3.31 biolink: No hits\n",
      "API 3.32 biolink: No hits\n",
      "API 2.7 semmed_phenotype: No hits\n",
      "API 2.8 semmed_phenotype: No hits\n",
      "API 2.9 semmed_phenotype: No hits\n",
      "API 2.10 semmed_phenotype: No hits\n",
      "API 2.11 semmed_phenotype: No hits\n",
      "API 2.12 semmed_phenotype: No hits\n",
      "API 2.13 semmed_phenotype: No hits\n",
      "\n",
      "After id-to-object translation, BTE retrieved 985 unique objects.\n",
      "\n",
      "==========\n",
      "========== Final assembly of results ==========\n",
      "==========\n",
      "\n",
      "\n",
      "In the #1 query, BTE found 16 unique PhenotypicFeature nodes\n",
      "In the #2 query, BTE found 985 unique Gene nodes\n"
     ]
    }
   ],
   "source": [
    "## the human user gives this input\n",
    "q1_output_type = 'Gene'\n",
    "q1_intermediate = 'PhenotypicFeature'\n",
    "\n",
    "q1 = FindConnection(input_obj = disease_hint_obj,\\\n",
    "                     output_obj = q1_output_type, \\\n",
    "                    intermediate_nodes = q1_intermediate)\n",
    "q1.connect(verbose = True)"
   ]
  },
  {
   "cell_type": "code",
   "execution_count": 9,
   "metadata": {
    "ExecuteTime": {
     "end_time": "2020-09-29T02:36:07.175724Z",
     "start_time": "2020-09-29T02:36:07.054585Z"
    }
   },
   "outputs": [],
   "source": [
    "# q1_r_graph = q1.fc.G   ## for changing the graph object to reflect the table\n",
    "q1_r_paths_table = q1.display_table_view()\n",
    "\n",
    "q1_type = re.findall(\"dispatcher.([a-zA-Z]+)'\", str(type(q1.fc)))\n",
    "q1_type = \"\".join(q1_type)  ## convert to string\n",
    "\n",
    "q1 = None  ## clear memory"
   ]
  },
  {
   "cell_type": "markdown",
   "metadata": {},
   "source": [
    "We can see the number of PhenotypicFeatures that were linked to both SARS and to a Gene, the number of Genes returned as output nodes, and the total number of paths from SARS to Gene nodes. "
   ]
  },
  {
   "cell_type": "code",
   "execution_count": 10,
   "metadata": {
    "ExecuteTime": {
     "end_time": "2020-09-29T02:36:07.185625Z",
     "start_time": "2020-09-29T02:36:07.177921Z"
    }
   },
   "outputs": [
    {
     "name": "stdout",
     "output_type": "stream",
     "text": [
      "There are 16 unique PhenotypicFeatures for SARS.\n",
      "There are 985 unique Genes linked to those PhenotypicFeatures.\n",
      "There are 3140 unique paths.\n"
     ]
    }
   ],
   "source": [
    "## show number of unique intermediate nodes\n",
    "print(\"There are {0} unique {1}s for {2}.\".format( \\\n",
    "    q1_r_paths_table.node1_name.nunique(), q1_intermediate, disease_starting_str))\n",
    "\n",
    "## show number of unique output nodes\n",
    "print(\"There are {0} unique Genes linked to those {1}s.\".format( \\\n",
    "    q1_r_paths_table.output_name.nunique(), q1_intermediate))\n",
    "\n",
    "## show number of paths from disease to genes\n",
    "print(\"There are {0} unique paths.\".format( \\\n",
    "    q1_r_paths_table.shape[0]))"
   ]
  },
  {
   "cell_type": "markdown",
   "metadata": {},
   "source": [
    "### Filtering and scoring"
   ]
  },
  {
   "cell_type": "markdown",
   "metadata": {},
   "source": [
    "Filtering involves using edge provenance, like the source this relationship came from and the method used to make this association, to filter out edges (removing nodes in the process). \n",
    "\n",
    "However, in this particular example, no edges will be removed (we consider almost all the information reliable). "
   ]
  },
  {
   "cell_type": "code",
   "execution_count": 11,
   "metadata": {
    "ExecuteTime": {
     "end_time": "2020-09-29T02:36:07.224762Z",
     "start_time": "2020-09-29T02:36:07.187565Z"
    }
   },
   "outputs": [
    {
     "name": "stdout",
     "output_type": "stream",
     "text": [
      "There are 3140 unique paths.\n"
     ]
    }
   ],
   "source": [
    "q1_r_paths_table = filter_table(q1_r_paths_table)\n",
    "\n",
    "## show number of paths from disease to genes\n",
    "print(\"There are {0} unique paths.\".format( \\\n",
    "    q1_r_paths_table.shape[0]))"
   ]
  },
  {
   "cell_type": "markdown",
   "metadata": {},
   "source": [
    "The scoring process relies on the assumption that the user would be most interested in Genes that share many phenotypes (intermediate nodes) with SARS. \n",
    "1. To score individual Gene nodes, we first take a copy of the knowledge graph (KG) and flatten the multi-edges into single edges. \n",
    "2. We then count the number of paths from the SARS node to each Gene node. This count is also equivalent to the number of phenotypes/symptoms (PhenotypicFeatures) that SARS and the Gene in common and to the node (out)degree of the Gene in the flattened KG.    \n",
    "3. Finally, we \"normalize\" the score by dividing those counts by maximum-possible number of paths from the SARS node to a Gene node. In this case (with  one input node and one intermediate node type), this is equivalent to the number of PhenotypicFeature nodes. \n",
    "\n",
    "We can then see the top-scored nodes. A score of 1 would mean that the maximum number of PhenotypicFeatures were linked to both SARS and to that Gene. A score closer to 0 would mean that only a few PhenotypicFeatures were linked to both SARS and to that Gene. "
   ]
  },
  {
   "cell_type": "code",
   "execution_count": 12,
   "metadata": {
    "ExecuteTime": {
     "end_time": "2020-09-29T02:36:07.272797Z",
     "start_time": "2020-09-29T02:36:07.227595Z"
    }
   },
   "outputs": [
    {
     "data": {
      "text/html": [
       "<div>\n",
       "<style scoped>\n",
       "    .dataframe tbody tr th:only-of-type {\n",
       "        vertical-align: middle;\n",
       "    }\n",
       "\n",
       "    .dataframe tbody tr th {\n",
       "        vertical-align: top;\n",
       "    }\n",
       "\n",
       "    .dataframe thead th {\n",
       "        text-align: right;\n",
       "    }\n",
       "</style>\n",
       "<table border=\"1\" class=\"dataframe\">\n",
       "  <thead>\n",
       "    <tr style=\"text-align: right;\">\n",
       "      <th></th>\n",
       "      <th>score</th>\n",
       "      <th>rank</th>\n",
       "    </tr>\n",
       "  </thead>\n",
       "  <tbody>\n",
       "    <tr>\n",
       "      <th>GBA</th>\n",
       "      <td>0.225806</td>\n",
       "      <td>1.0</td>\n",
       "    </tr>\n",
       "    <tr>\n",
       "      <th>MTHFR</th>\n",
       "      <td>0.193548</td>\n",
       "      <td>2.0</td>\n",
       "    </tr>\n",
       "    <tr>\n",
       "      <th>HBB</th>\n",
       "      <td>0.193548</td>\n",
       "      <td>2.0</td>\n",
       "    </tr>\n",
       "    <tr>\n",
       "      <th>ATM</th>\n",
       "      <td>0.161290</td>\n",
       "      <td>3.0</td>\n",
       "    </tr>\n",
       "    <tr>\n",
       "      <th>RET</th>\n",
       "      <td>0.161290</td>\n",
       "      <td>3.0</td>\n",
       "    </tr>\n",
       "    <tr>\n",
       "      <th>WT1</th>\n",
       "      <td>0.161290</td>\n",
       "      <td>3.0</td>\n",
       "    </tr>\n",
       "    <tr>\n",
       "      <th>GAA</th>\n",
       "      <td>0.161290</td>\n",
       "      <td>3.0</td>\n",
       "    </tr>\n",
       "    <tr>\n",
       "      <th>CSF2RB</th>\n",
       "      <td>0.161290</td>\n",
       "      <td>3.0</td>\n",
       "    </tr>\n",
       "    <tr>\n",
       "      <th>APC</th>\n",
       "      <td>0.161290</td>\n",
       "      <td>3.0</td>\n",
       "    </tr>\n",
       "    <tr>\n",
       "      <th>PDGFRA</th>\n",
       "      <td>0.161290</td>\n",
       "      <td>3.0</td>\n",
       "    </tr>\n",
       "  </tbody>\n",
       "</table>\n",
       "</div>"
      ],
      "text/plain": [
       "           score  rank\n",
       "GBA     0.225806   1.0\n",
       "MTHFR   0.193548   2.0\n",
       "HBB     0.193548   2.0\n",
       "ATM     0.161290   3.0\n",
       "RET     0.161290   3.0\n",
       "WT1     0.161290   3.0\n",
       "GAA     0.161290   3.0\n",
       "CSF2RB  0.161290   3.0\n",
       "APC     0.161290   3.0\n",
       "PDGFRA  0.161290   3.0"
      ]
     },
     "execution_count": 12,
     "metadata": {},
     "output_type": "execute_result"
    }
   ],
   "source": [
    "## create scoring table for Genes (output nodes)\n",
    "q1_scoring = scoring_output(q1_r_paths_table, q1_type)\n",
    "\n",
    "q1_scoring.head(10)"
   ]
  },
  {
   "cell_type": "markdown",
   "metadata": {},
   "source": [
    "Different knowledge sources (APIs) were called in different parts of the query. \n",
    "\n",
    "In the first part of the query (SARS &rarr; PhenotypicFeature), the following APIs returned results and the following predicates (semantic relationships) were found. "
   ]
  },
  {
   "cell_type": "code",
   "execution_count": 13,
   "metadata": {
    "ExecuteTime": {
     "end_time": "2020-09-29T02:36:07.295342Z",
     "start_time": "2020-09-29T02:36:07.276134Z"
    }
   },
   "outputs": [
    {
     "data": {
      "text/html": [
       "<div>\n",
       "<style scoped>\n",
       "    .dataframe tbody tr th:only-of-type {\n",
       "        vertical-align: middle;\n",
       "    }\n",
       "\n",
       "    .dataframe tbody tr th {\n",
       "        vertical-align: top;\n",
       "    }\n",
       "\n",
       "    .dataframe thead th {\n",
       "        text-align: right;\n",
       "    }\n",
       "</style>\n",
       "<table border=\"1\" class=\"dataframe\">\n",
       "  <thead>\n",
       "    <tr style=\"text-align: right;\">\n",
       "      <th></th>\n",
       "      <th>pred1_api</th>\n",
       "      <th>pred1</th>\n",
       "    </tr>\n",
       "  </thead>\n",
       "  <tbody>\n",
       "    <tr>\n",
       "      <th>0</th>\n",
       "      <td>BioLink API</td>\n",
       "      <td>has_phenotype</td>\n",
       "    </tr>\n",
       "    <tr>\n",
       "      <th>1</th>\n",
       "      <td>mydisease.info API</td>\n",
       "      <td>related_to</td>\n",
       "    </tr>\n",
       "  </tbody>\n",
       "</table>\n",
       "</div>"
      ],
      "text/plain": [
       "            pred1_api          pred1\n",
       "0         BioLink API  has_phenotype\n",
       "1  mydisease.info API     related_to"
      ]
     },
     "execution_count": 13,
     "metadata": {},
     "output_type": "execute_result"
    }
   ],
   "source": [
    "## show that the APIs use different predicates\n",
    "q1_r_paths_table[['pred1_api', 'pred1']].drop_duplicates().sort_values(by = ['pred1_api', 'pred1'])"
   ]
  },
  {
   "cell_type": "markdown",
   "metadata": {},
   "source": [
    "The following symptoms (PhenotypicFeatures) were linked to genes and to SARS. "
   ]
  },
  {
   "cell_type": "code",
   "execution_count": 14,
   "metadata": {
    "ExecuteTime": {
     "end_time": "2020-09-29T02:36:07.305482Z",
     "start_time": "2020-09-29T02:36:07.298238Z"
    }
   },
   "outputs": [
    {
     "data": {
      "text/plain": [
       "array(['DECREASED IMMUNE FUNCTION', 'HEADACHE', 'DIABETES MELLITUS',\n",
       "       'FEVER', 'CHRONIC LUNG DISEASE', 'ABNORMAL TISSUE MASS',\n",
       "       'BREATHING DIFFICULTIES', 'MUSCLE ACHE', 'ABNORMAL BREATHING',\n",
       "       'COUGH',\n",
       "       'RESPIRATORY DISTRESS NECESSITATING MECHANICAL VENTILATION',\n",
       "       'HYPOXEMIA', 'ABNORMALITY OF THE CARDIOVASCULAR SYSTEM',\n",
       "       'ACUTE INFECTIOUS PNEUMONIA', 'ACUTE KIDNEY FAILURE',\n",
       "       'PHARYNGITIS'], dtype=object)"
      ]
     },
     "execution_count": 14,
     "metadata": {},
     "output_type": "execute_result"
    }
   ],
   "source": [
    "q1_r_paths_table['node1_name'].unique()"
   ]
  },
  {
   "cell_type": "markdown",
   "metadata": {},
   "source": [
    "In the second part of the query (PhenotypicFeature &rarr; Gene), the following APIs returned results and the following predicates (semantic relationships) were found."
   ]
  },
  {
   "cell_type": "code",
   "execution_count": 15,
   "metadata": {
    "ExecuteTime": {
     "end_time": "2020-09-29T02:36:07.319471Z",
     "start_time": "2020-09-29T02:36:07.307783Z"
    }
   },
   "outputs": [
    {
     "data": {
      "text/html": [
       "<div>\n",
       "<style scoped>\n",
       "    .dataframe tbody tr th:only-of-type {\n",
       "        vertical-align: middle;\n",
       "    }\n",
       "\n",
       "    .dataframe tbody tr th {\n",
       "        vertical-align: top;\n",
       "    }\n",
       "\n",
       "    .dataframe thead th {\n",
       "        text-align: right;\n",
       "    }\n",
       "</style>\n",
       "<table border=\"1\" class=\"dataframe\">\n",
       "  <thead>\n",
       "    <tr style=\"text-align: right;\">\n",
       "      <th></th>\n",
       "      <th>pred2_api</th>\n",
       "      <th>pred2</th>\n",
       "    </tr>\n",
       "  </thead>\n",
       "  <tbody>\n",
       "    <tr>\n",
       "      <th>628</th>\n",
       "      <td>BioLink API</td>\n",
       "      <td>contributes_to_condition</td>\n",
       "    </tr>\n",
       "    <tr>\n",
       "      <th>2</th>\n",
       "      <td>BioLink API</td>\n",
       "      <td>has_phenotype</td>\n",
       "    </tr>\n",
       "    <tr>\n",
       "      <th>0</th>\n",
       "      <td>EBIgene2phenotype API</td>\n",
       "      <td>related_to</td>\n",
       "    </tr>\n",
       "  </tbody>\n",
       "</table>\n",
       "</div>"
      ],
      "text/plain": [
       "                 pred2_api                     pred2\n",
       "628            BioLink API  contributes_to_condition\n",
       "2              BioLink API             has_phenotype\n",
       "0    EBIgene2phenotype API                related_to"
      ]
     },
     "execution_count": 15,
     "metadata": {},
     "output_type": "execute_result"
    }
   ],
   "source": [
    "## show that the APIs use different predicates\n",
    "q1_r_paths_table[['pred2_api', 'pred2']].drop_duplicates().sort_values(by = ['pred2_api', 'pred2'])"
   ]
  },
  {
   "cell_type": "markdown",
   "metadata": {},
   "source": [
    "[TO DO: Actual code depends on graph object (ReasonerStd object or Networkx MultiDiGraph) used.]\n",
    "\n",
    "We then add the scores and score provenance information to the graph object that will be returned to the ARS. These stored as node attributes on the Gene nodes of the \"answer graph\". "
   ]
  },
  {
   "cell_type": "code",
   "execution_count": 16,
   "metadata": {
    "ExecuteTime": {
     "end_time": "2020-09-29T02:36:07.324952Z",
     "start_time": "2020-09-29T02:36:07.322216Z"
    }
   },
   "outputs": [],
   "source": [
    "# nx.set_node_attributes(q1_r_graph, values = q1_scoring.to_dict(), \\\n",
    "#                        name = 'score')\n",
    "# nx.set_node_attributes(q1_r_graph, values = '(0-1]', name = 'score_range')\n",
    "# nx.set_node_attributes(q1_r_graph, values = 'normalized path count', name = 'score_method')\n",
    "# ## what is a good score, larger or smaller? \n",
    "# nx.set_node_attributes(q1_r_graph, values = 'larger', name = 'score_better_direction')  \n",
    "\n",
    "# ## example of Gene node object with score-related attributes\n",
    "# q1_r_graph.nodes()['NDUFS1']"
   ]
  },
  {
   "cell_type": "markdown",
   "metadata": {},
   "source": [
    "## Compare answers to bradykinin article"
   ]
  },
  {
   "cell_type": "markdown",
   "metadata": {},
   "source": [
    "The [\"bradykinin storm\" mechanism article](https://elifesciences.org/articles/59177) describes many gene products and states that these may be linked to COVID-19 symptoms. \n",
    "\n",
    "We used BTE to find genes that are linked to COVID-19 / SARS symptoms (PhenotypicFeatures). We can then compare BTE's answers to the genes mentioned in this article. "
   ]
  },
  {
   "cell_type": "code",
   "execution_count": 17,
   "metadata": {
    "ExecuteTime": {
     "end_time": "2020-09-29T02:36:07.331898Z",
     "start_time": "2020-09-29T02:36:07.327322Z"
    }
   },
   "outputs": [],
   "source": [
    "article_genes = ['AGT', ## AGT = angiotensin precursor. \n",
    "                 'AGTR1', 'AGTR2', 'MAS1', ## receptors angiotensin binds to\n",
    "                 'REN', 'ACE', 'ACE2',  ## enzymes working on angiotensin II precursors\n",
    "                 'KNG1', 'KLKB1', ## Bradykinin precursor\n",
    "                 'BDKRB2', 'BDKRB1', ## receptors for bradykinin\n",
    "                 'NOS1', 'NOS2',  ## nitric oxide synthases: missing NOS3\n",
    "                 'VDR', 'CYP24A1', 'CYP3A4',  ## vitamin D related\n",
    "                 'KLK1', 'KLK2', 'KLK3', 'KLK4', 'KLK5', ## KLK = enzymes working on bradykinin precursor \n",
    "                 'KLK6', 'KLK7', 'KLK8', 'KLK9', 'KLK10', \n",
    "                 'KLK11', 'KLK12', 'KLK13', 'KLK14', 'KLK15', \n",
    "                 'KLK11', 'KLK12', 'KLK13', 'KLK14', 'KLK15', \n",
    "                 'F12',  ## F12: factor XII related to clotting and bradykinin precursor\n",
    "                 'SERPING1', ## protease inhibitor, involved in kinin, clotting, complement pathways\n",
    "                 'CPN1', ## protease linked to kinins, angioedema\n",
    "                 'HAS1', 'HAS2', 'HAS3', ## hyaluronic acid synthases\n",
    "                 'HYAL1', 'HYAL2',  ## degrade hyaluronic acid \n",
    "                 'CD44',  ## related to hyaluronic acid and immune system\n",
    "                 'TMSB4X', ## linked to ACE, tissue regeneration\n",
    "                 'IL2', ## link to CD44, capillary leak syndrome (called VLS in the paper)\n",
    "                 'APLN', 'APLNR',  ## apelin and its receptor. related to RAS, heart \n",
    "                 'MME', ## related to degrading bradykinin, apelin \n",
    "                 'NFKB1', 'NFKB2', 'RELA', 'RELB', 'REL', ## genes for NF-kB complex\n",
    "                 'IKBKG', ## part of IKB kinase complex that activates NFkappaB, degraded by virus 3CLpro protease?\n",
    "                 'DPP4' ## linked to MERS and immune system\n",
    "                ]  "
   ]
  },
  {
   "cell_type": "markdown",
   "metadata": {},
   "source": [
    "Of the gene entities discussed in the bradykinin article, the following are in our results:     \n",
    "* **NOS1** linked to cough,   \n",
    "* **SERPING1** linked to breathing difficulties and abnormal breathing    \n",
    "* **NFKB1**, **NFKB2**, **IKBKG** linked to decreased immune function    \n",
    "\n",
    "Below, the scores and COVID-19 / SARS symptoms linked to the genes are shown. "
   ]
  },
  {
   "cell_type": "code",
   "execution_count": 18,
   "metadata": {
    "ExecuteTime": {
     "end_time": "2020-09-29T02:36:07.353836Z",
     "start_time": "2020-09-29T02:36:07.333720Z"
    }
   },
   "outputs": [
    {
     "name": "stdout",
     "output_type": "stream",
     "text": [
      "Scoring from SARS -> PhenotypicFeature -> Gene query\n"
     ]
    },
    {
     "data": {
      "text/html": [
       "<div>\n",
       "<style scoped>\n",
       "    .dataframe tbody tr th:only-of-type {\n",
       "        vertical-align: middle;\n",
       "    }\n",
       "\n",
       "    .dataframe tbody tr th {\n",
       "        vertical-align: top;\n",
       "    }\n",
       "\n",
       "    .dataframe thead th {\n",
       "        text-align: right;\n",
       "    }\n",
       "</style>\n",
       "<table border=\"1\" class=\"dataframe\">\n",
       "  <thead>\n",
       "    <tr style=\"text-align: right;\">\n",
       "      <th></th>\n",
       "      <th>output_name</th>\n",
       "      <th>score</th>\n",
       "      <th>rank</th>\n",
       "    </tr>\n",
       "  </thead>\n",
       "  <tbody>\n",
       "    <tr>\n",
       "      <th>194</th>\n",
       "      <td>IKBKG</td>\n",
       "      <td>0.064516</td>\n",
       "      <td>6.0</td>\n",
       "    </tr>\n",
       "    <tr>\n",
       "      <th>342</th>\n",
       "      <td>SERPING1</td>\n",
       "      <td>0.064516</td>\n",
       "      <td>6.0</td>\n",
       "    </tr>\n",
       "    <tr>\n",
       "      <th>528</th>\n",
       "      <td>NOS1</td>\n",
       "      <td>0.032258</td>\n",
       "      <td>7.0</td>\n",
       "    </tr>\n",
       "    <tr>\n",
       "      <th>589</th>\n",
       "      <td>NFKB2</td>\n",
       "      <td>0.032258</td>\n",
       "      <td>7.0</td>\n",
       "    </tr>\n",
       "    <tr>\n",
       "      <th>658</th>\n",
       "      <td>NFKB1</td>\n",
       "      <td>0.032258</td>\n",
       "      <td>7.0</td>\n",
       "    </tr>\n",
       "  </tbody>\n",
       "</table>\n",
       "</div>"
      ],
      "text/plain": [
       "    output_name     score  rank\n",
       "194       IKBKG  0.064516   6.0\n",
       "342    SERPING1  0.064516   6.0\n",
       "528        NOS1  0.032258   7.0\n",
       "589       NFKB2  0.032258   7.0\n",
       "658       NFKB1  0.032258   7.0"
      ]
     },
     "execution_count": 18,
     "metadata": {},
     "output_type": "execute_result"
    },
    {
     "data": {
      "text/html": [
       "<div>\n",
       "<style scoped>\n",
       "    .dataframe tbody tr th:only-of-type {\n",
       "        vertical-align: middle;\n",
       "    }\n",
       "\n",
       "    .dataframe tbody tr th {\n",
       "        vertical-align: top;\n",
       "    }\n",
       "\n",
       "    .dataframe thead th {\n",
       "        text-align: right;\n",
       "    }\n",
       "</style>\n",
       "<table border=\"1\" class=\"dataframe\">\n",
       "  <thead>\n",
       "    <tr style=\"text-align: right;\">\n",
       "      <th></th>\n",
       "      <th>node1_name</th>\n",
       "      <th>pred2</th>\n",
       "      <th>output_name</th>\n",
       "    </tr>\n",
       "  </thead>\n",
       "  <tbody>\n",
       "    <tr>\n",
       "      <th>0</th>\n",
       "      <td>DECREASED IMMUNE FUNCTION</td>\n",
       "      <td>related_to</td>\n",
       "      <td>IKBKG</td>\n",
       "    </tr>\n",
       "    <tr>\n",
       "      <th>1</th>\n",
       "      <td>DECREASED IMMUNE FUNCTION</td>\n",
       "      <td>related_to</td>\n",
       "      <td>IKBKG</td>\n",
       "    </tr>\n",
       "    <tr>\n",
       "      <th>2</th>\n",
       "      <td>DECREASED IMMUNE FUNCTION</td>\n",
       "      <td>has_phenotype</td>\n",
       "      <td>IKBKG</td>\n",
       "    </tr>\n",
       "    <tr>\n",
       "      <th>3</th>\n",
       "      <td>DECREASED IMMUNE FUNCTION</td>\n",
       "      <td>has_phenotype</td>\n",
       "      <td>IKBKG</td>\n",
       "    </tr>\n",
       "    <tr>\n",
       "      <th>122</th>\n",
       "      <td>DECREASED IMMUNE FUNCTION</td>\n",
       "      <td>has_phenotype</td>\n",
       "      <td>NFKB2</td>\n",
       "    </tr>\n",
       "    <tr>\n",
       "      <th>123</th>\n",
       "      <td>DECREASED IMMUNE FUNCTION</td>\n",
       "      <td>has_phenotype</td>\n",
       "      <td>NFKB2</td>\n",
       "    </tr>\n",
       "    <tr>\n",
       "      <th>124</th>\n",
       "      <td>DECREASED IMMUNE FUNCTION</td>\n",
       "      <td>has_phenotype</td>\n",
       "      <td>NFKB1</td>\n",
       "    </tr>\n",
       "    <tr>\n",
       "      <th>125</th>\n",
       "      <td>DECREASED IMMUNE FUNCTION</td>\n",
       "      <td>has_phenotype</td>\n",
       "      <td>NFKB1</td>\n",
       "    </tr>\n",
       "    <tr>\n",
       "      <th>1134</th>\n",
       "      <td>COUGH</td>\n",
       "      <td>has_phenotype</td>\n",
       "      <td>NOS1</td>\n",
       "    </tr>\n",
       "    <tr>\n",
       "      <th>1135</th>\n",
       "      <td>COUGH</td>\n",
       "      <td>has_phenotype</td>\n",
       "      <td>NOS1</td>\n",
       "    </tr>\n",
       "    <tr>\n",
       "      <th>1812</th>\n",
       "      <td>BREATHING DIFFICULTIES</td>\n",
       "      <td>has_phenotype</td>\n",
       "      <td>SERPING1</td>\n",
       "    </tr>\n",
       "    <tr>\n",
       "      <th>1813</th>\n",
       "      <td>BREATHING DIFFICULTIES</td>\n",
       "      <td>has_phenotype</td>\n",
       "      <td>SERPING1</td>\n",
       "    </tr>\n",
       "    <tr>\n",
       "      <th>1814</th>\n",
       "      <td>ABNORMAL BREATHING</td>\n",
       "      <td>has_phenotype</td>\n",
       "      <td>SERPING1</td>\n",
       "    </tr>\n",
       "    <tr>\n",
       "      <th>1815</th>\n",
       "      <td>ABNORMAL BREATHING</td>\n",
       "      <td>has_phenotype</td>\n",
       "      <td>SERPING1</td>\n",
       "    </tr>\n",
       "  </tbody>\n",
       "</table>\n",
       "</div>"
      ],
      "text/plain": [
       "                     node1_name          pred2 output_name\n",
       "0     DECREASED IMMUNE FUNCTION     related_to       IKBKG\n",
       "1     DECREASED IMMUNE FUNCTION     related_to       IKBKG\n",
       "2     DECREASED IMMUNE FUNCTION  has_phenotype       IKBKG\n",
       "3     DECREASED IMMUNE FUNCTION  has_phenotype       IKBKG\n",
       "122   DECREASED IMMUNE FUNCTION  has_phenotype       NFKB2\n",
       "123   DECREASED IMMUNE FUNCTION  has_phenotype       NFKB2\n",
       "124   DECREASED IMMUNE FUNCTION  has_phenotype       NFKB1\n",
       "125   DECREASED IMMUNE FUNCTION  has_phenotype       NFKB1\n",
       "1134                      COUGH  has_phenotype        NOS1\n",
       "1135                      COUGH  has_phenotype        NOS1\n",
       "1812     BREATHING DIFFICULTIES  has_phenotype    SERPING1\n",
       "1813     BREATHING DIFFICULTIES  has_phenotype    SERPING1\n",
       "1814         ABNORMAL BREATHING  has_phenotype    SERPING1\n",
       "1815         ABNORMAL BREATHING  has_phenotype    SERPING1"
      ]
     },
     "execution_count": 18,
     "metadata": {},
     "output_type": "execute_result"
    }
   ],
   "source": [
    "print('Scoring from SARS -> PhenotypicFeature -> Gene query')\n",
    "\n",
    "## reset index to show placement of genes\n",
    "q1_scoring_df = q1_scoring.reset_index().rename(columns = {'index': 'output_name'})\n",
    "q1_scoring_df[q1_scoring_df.output_name.isin(article_genes)]\n",
    "\n",
    "q1_r_paths_table[q1_r_paths_table.output_name.isin(article_genes)][['node1_name', 'pred2', 'output_name']]"
   ]
  },
  {
   "cell_type": "markdown",
   "metadata": {},
   "source": [
    "The APIs involved in those results are shown below. "
   ]
  },
  {
   "cell_type": "code",
   "execution_count": 19,
   "metadata": {
    "ExecuteTime": {
     "end_time": "2020-09-29T02:36:07.373793Z",
     "start_time": "2020-09-29T02:36:07.357429Z"
    }
   },
   "outputs": [
    {
     "data": {
      "text/html": [
       "<div>\n",
       "<style scoped>\n",
       "    .dataframe tbody tr th:only-of-type {\n",
       "        vertical-align: middle;\n",
       "    }\n",
       "\n",
       "    .dataframe tbody tr th {\n",
       "        vertical-align: top;\n",
       "    }\n",
       "\n",
       "    .dataframe thead th {\n",
       "        text-align: right;\n",
       "    }\n",
       "</style>\n",
       "<table border=\"1\" class=\"dataframe\">\n",
       "  <thead>\n",
       "    <tr style=\"text-align: right;\">\n",
       "      <th></th>\n",
       "      <th>pred1_api</th>\n",
       "    </tr>\n",
       "  </thead>\n",
       "  <tbody>\n",
       "    <tr>\n",
       "      <th>0</th>\n",
       "      <td>BioLink API</td>\n",
       "    </tr>\n",
       "    <tr>\n",
       "      <th>1</th>\n",
       "      <td>mydisease.info API</td>\n",
       "    </tr>\n",
       "  </tbody>\n",
       "</table>\n",
       "</div>"
      ],
      "text/plain": [
       "            pred1_api\n",
       "0         BioLink API\n",
       "1  mydisease.info API"
      ]
     },
     "execution_count": 19,
     "metadata": {},
     "output_type": "execute_result"
    },
    {
     "data": {
      "text/html": [
       "<div>\n",
       "<style scoped>\n",
       "    .dataframe tbody tr th:only-of-type {\n",
       "        vertical-align: middle;\n",
       "    }\n",
       "\n",
       "    .dataframe tbody tr th {\n",
       "        vertical-align: top;\n",
       "    }\n",
       "\n",
       "    .dataframe thead th {\n",
       "        text-align: right;\n",
       "    }\n",
       "</style>\n",
       "<table border=\"1\" class=\"dataframe\">\n",
       "  <thead>\n",
       "    <tr style=\"text-align: right;\">\n",
       "      <th></th>\n",
       "      <th>pred2_api</th>\n",
       "    </tr>\n",
       "  </thead>\n",
       "  <tbody>\n",
       "    <tr>\n",
       "      <th>0</th>\n",
       "      <td>EBIgene2phenotype API</td>\n",
       "    </tr>\n",
       "    <tr>\n",
       "      <th>2</th>\n",
       "      <td>BioLink API</td>\n",
       "    </tr>\n",
       "  </tbody>\n",
       "</table>\n",
       "</div>"
      ],
      "text/plain": [
       "               pred2_api\n",
       "0  EBIgene2phenotype API\n",
       "2            BioLink API"
      ]
     },
     "execution_count": 19,
     "metadata": {},
     "output_type": "execute_result"
    }
   ],
   "source": [
    "## show APIs/sources for the underlying info for these answers\n",
    "q1_r_paths_table[q1_r_paths_table.output_name.isin(article_genes)][['pred1_api']].drop_duplicates()\n",
    "q1_r_paths_table[q1_r_paths_table.output_name.isin(article_genes)][['pred2_api']].drop_duplicates()"
   ]
  },
  {
   "cell_type": "markdown",
   "metadata": {},
   "source": [
    "## Top scored genes and disease mechanism ideas"
   ]
  },
  {
   "cell_type": "markdown",
   "metadata": {},
   "source": [
    "The top scored genes in BTE's dynamically generated knowledge graph are..."
   ]
  },
  {
   "cell_type": "code",
   "execution_count": 20,
   "metadata": {
    "ExecuteTime": {
     "end_time": "2020-09-29T02:36:07.388853Z",
     "start_time": "2020-09-29T02:36:07.375762Z"
    }
   },
   "outputs": [
    {
     "data": {
      "text/html": [
       "<div>\n",
       "<style scoped>\n",
       "    .dataframe tbody tr th:only-of-type {\n",
       "        vertical-align: middle;\n",
       "    }\n",
       "\n",
       "    .dataframe tbody tr th {\n",
       "        vertical-align: top;\n",
       "    }\n",
       "\n",
       "    .dataframe thead th {\n",
       "        text-align: right;\n",
       "    }\n",
       "</style>\n",
       "<table border=\"1\" class=\"dataframe\">\n",
       "  <thead>\n",
       "    <tr style=\"text-align: right;\">\n",
       "      <th></th>\n",
       "      <th>output_name</th>\n",
       "      <th>score</th>\n",
       "      <th>rank</th>\n",
       "    </tr>\n",
       "  </thead>\n",
       "  <tbody>\n",
       "    <tr>\n",
       "      <th>0</th>\n",
       "      <td>GBA</td>\n",
       "      <td>0.225806</td>\n",
       "      <td>1.0</td>\n",
       "    </tr>\n",
       "    <tr>\n",
       "      <th>2</th>\n",
       "      <td>HBB</td>\n",
       "      <td>0.193548</td>\n",
       "      <td>2.0</td>\n",
       "    </tr>\n",
       "    <tr>\n",
       "      <th>1</th>\n",
       "      <td>MTHFR</td>\n",
       "      <td>0.193548</td>\n",
       "      <td>2.0</td>\n",
       "    </tr>\n",
       "    <tr>\n",
       "      <th>10</th>\n",
       "      <td>ADA2</td>\n",
       "      <td>0.161290</td>\n",
       "      <td>3.0</td>\n",
       "    </tr>\n",
       "    <tr>\n",
       "      <th>8</th>\n",
       "      <td>APC</td>\n",
       "      <td>0.161290</td>\n",
       "      <td>3.0</td>\n",
       "    </tr>\n",
       "    <tr>\n",
       "      <th>3</th>\n",
       "      <td>ATM</td>\n",
       "      <td>0.161290</td>\n",
       "      <td>3.0</td>\n",
       "    </tr>\n",
       "    <tr>\n",
       "      <th>12</th>\n",
       "      <td>CAV1</td>\n",
       "      <td>0.161290</td>\n",
       "      <td>3.0</td>\n",
       "    </tr>\n",
       "    <tr>\n",
       "      <th>7</th>\n",
       "      <td>CSF2RB</td>\n",
       "      <td>0.161290</td>\n",
       "      <td>3.0</td>\n",
       "    </tr>\n",
       "    <tr>\n",
       "      <th>11</th>\n",
       "      <td>CTNNB1</td>\n",
       "      <td>0.161290</td>\n",
       "      <td>3.0</td>\n",
       "    </tr>\n",
       "    <tr>\n",
       "      <th>13</th>\n",
       "      <td>DMPK</td>\n",
       "      <td>0.161290</td>\n",
       "      <td>3.0</td>\n",
       "    </tr>\n",
       "    <tr>\n",
       "      <th>14</th>\n",
       "      <td>FBP1</td>\n",
       "      <td>0.161290</td>\n",
       "      <td>3.0</td>\n",
       "    </tr>\n",
       "    <tr>\n",
       "      <th>6</th>\n",
       "      <td>GAA</td>\n",
       "      <td>0.161290</td>\n",
       "      <td>3.0</td>\n",
       "    </tr>\n",
       "    <tr>\n",
       "      <th>9</th>\n",
       "      <td>PDGFRA</td>\n",
       "      <td>0.161290</td>\n",
       "      <td>3.0</td>\n",
       "    </tr>\n",
       "    <tr>\n",
       "      <th>4</th>\n",
       "      <td>RET</td>\n",
       "      <td>0.161290</td>\n",
       "      <td>3.0</td>\n",
       "    </tr>\n",
       "    <tr>\n",
       "      <th>5</th>\n",
       "      <td>WT1</td>\n",
       "      <td>0.161290</td>\n",
       "      <td>3.0</td>\n",
       "    </tr>\n",
       "    <tr>\n",
       "      <th>30</th>\n",
       "      <td>ATP6</td>\n",
       "      <td>0.129032</td>\n",
       "      <td>4.0</td>\n",
       "    </tr>\n",
       "    <tr>\n",
       "      <th>43</th>\n",
       "      <td>CFTR</td>\n",
       "      <td>0.129032</td>\n",
       "      <td>4.0</td>\n",
       "    </tr>\n",
       "    <tr>\n",
       "      <th>32</th>\n",
       "      <td>CSF2RA</td>\n",
       "      <td>0.129032</td>\n",
       "      <td>4.0</td>\n",
       "    </tr>\n",
       "    <tr>\n",
       "      <th>17</th>\n",
       "      <td>DNAAF3</td>\n",
       "      <td>0.129032</td>\n",
       "      <td>4.0</td>\n",
       "    </tr>\n",
       "    <tr>\n",
       "      <th>15</th>\n",
       "      <td>ETFA</td>\n",
       "      <td>0.129032</td>\n",
       "      <td>4.0</td>\n",
       "    </tr>\n",
       "  </tbody>\n",
       "</table>\n",
       "</div>"
      ],
      "text/plain": [
       "   output_name     score  rank\n",
       "0          GBA  0.225806   1.0\n",
       "2          HBB  0.193548   2.0\n",
       "1        MTHFR  0.193548   2.0\n",
       "10        ADA2  0.161290   3.0\n",
       "8          APC  0.161290   3.0\n",
       "3          ATM  0.161290   3.0\n",
       "12        CAV1  0.161290   3.0\n",
       "7       CSF2RB  0.161290   3.0\n",
       "11      CTNNB1  0.161290   3.0\n",
       "13        DMPK  0.161290   3.0\n",
       "14        FBP1  0.161290   3.0\n",
       "6          GAA  0.161290   3.0\n",
       "9       PDGFRA  0.161290   3.0\n",
       "4          RET  0.161290   3.0\n",
       "5          WT1  0.161290   3.0\n",
       "30        ATP6  0.129032   4.0\n",
       "43        CFTR  0.129032   4.0\n",
       "32      CSF2RA  0.129032   4.0\n",
       "17      DNAAF3  0.129032   4.0\n",
       "15        ETFA  0.129032   4.0"
      ]
     },
     "execution_count": 20,
     "metadata": {},
     "output_type": "execute_result"
    }
   ],
   "source": [
    "q1_scoring_df.sort_values(by = ['score', 'output_name'], ascending = [False, True]).head(20)"
   ]
  },
  {
   "cell_type": "markdown",
   "metadata": {},
   "source": [
    "[Note: the genes discussed below were in the results at the time that this notebook was run.]\n",
    "\n",
    "Even though the symptoms for COVID-19 / SARS are non-specific (many diseases have some of these symptoms), BTE's top results includes 2 interesting genes that relate to potential mechanisms of disease. \n",
    "\n",
    "**Immune-system-related genes:**\n",
    "* [**ADA2**](https://ghr.nlm.nih.gov/gene/ADA2): this gene appears to be involved in the growth and development of immune cells, particularly macrophages. Mutations in this gene can lead to [adenosine deaminase 2 deficiency](https://ghr.nlm.nih.gov/condition/adenosine-deaminase-2-deficiency), which involves abnormal inflammation of blood vessels (vasculitis) and other tissues. Symptoms involve fever, skin discoloration (livedo racemosa), enlarged liver and spleen, recurrent strokes, and immune system abnormalities. \n",
    "* [**CSF2RB**](https://www.genecards.org/cgi-bin/carddisp.pl?gene=CSF2RB): encodes a subunit for the IL3 receptor, IL5 receptor, and GM-CSF receptor. [IL3, IL5, and GM-CSF signaling is involved in the growth, development, and maturation of immune cells.](https://reactome.org/PathwayBrowser/#/R-HSA-512988) \n",
    "\n",
    "In particular, people have been investigating GM-CSF-related therapies for COVID-19 (references [here](https://www.nature.com/articles/s41577-020-0357-7 ) and [here](https://els-jbs-prod-cdn.jbs.elsevierhealth.com/pb/assets/raw/Health%20Advance/journals/jmcp/jmcp_ft95_8_7.pdf)).\n",
    "For more information on GM-CSF and its role in suppressing autoimmunity, [see this article](https://www.ncbi.nlm.nih.gov/pmc/articles/PMC4553090/). \n",
    "\n",
    "\n",
    "Other top genes that seem less related to COVID-19 / SARS:\n",
    "* [GBA: related to Gaucher disease (symptoms include enlarged liver and spleen), anemia, easy bruising, neurological issues), Parkinson disease, and dementia with Lewy bodies](https://ghr.nlm.nih.gov/gene/GBA)\n",
    "* [HBB: encodes hemoglobin. Related to beta-thalassemia and sickle cell anemia](https://monarchinitiative.org/gene/HGNC:4827)\n",
    "* [MTHFR: related to cancer, neuronal disease, vascular disease](https://monarchinitiative.org/gene/HGNC:7436)    \n",
    "* [APC: related to cancer, cell adhesion, cell migration, etc.](https://monarchinitiative.org/gene/HGNC:583)\n",
    "* [ATM: related to cancer, cell division, DNA repair, multiple body systems' development and activity](https://ghr.nlm.nih.gov/gene/ATM)\n",
    "* [CAV1: linked to lipodystrophy](https://ghr.nlm.nih.gov/gene/CAV1#conditions)\n",
    "* [CTNNB1: related to cancer, cell adhesion](https://ghr.nlm.nih.gov/gene/CTNNB1)\n",
    "* [DMPK: linked to myotonic dystrophy](https://ghr.nlm.nih.gov/gene/DMPK#conditions)\n",
    "* [FBP1: linked to fructose-1,6-bisphosphatase deficiency, which involves hypoglycemia and metabolic acidosis with fasting.](https://www.omim.org/entry/229700)\n",
    "* [GAA: linked to Pompe disease, which involves the accumulation of glycogen in the body. This can cause progressive muscle weakness, breathing issues, heart issues, etc.](https://ghr.nlm.nih.gov/condition/pompe-disease#genes)\n",
    "* [PDGFRA: related to cancer, cell growth and division](https://ghr.nlm.nih.gov/gene/PDGFRA)\n",
    "* [RET: related to cancer, nerve and kidney development](https://ghr.nlm.nih.gov/gene/RET)\n",
    "* [WT1: related to kidney development and cancer](https://ghr.nlm.nih.gov/gene/WT1)"
   ]
  },
  {
   "cell_type": "code",
   "execution_count": 23,
   "metadata": {
    "ExecuteTime": {
     "end_time": "2020-09-29T03:42:26.050443Z",
     "start_time": "2020-09-29T03:42:26.026334Z"
    }
   },
   "outputs": [
    {
     "data": {
      "text/html": [
       "<div>\n",
       "<style scoped>\n",
       "    .dataframe tbody tr th:only-of-type {\n",
       "        vertical-align: middle;\n",
       "    }\n",
       "\n",
       "    .dataframe tbody tr th {\n",
       "        vertical-align: top;\n",
       "    }\n",
       "\n",
       "    .dataframe thead th {\n",
       "        text-align: right;\n",
       "    }\n",
       "</style>\n",
       "<table border=\"1\" class=\"dataframe\">\n",
       "  <thead>\n",
       "    <tr style=\"text-align: right;\">\n",
       "      <th></th>\n",
       "      <th>input</th>\n",
       "      <th>input_type</th>\n",
       "      <th>pred1</th>\n",
       "      <th>pred1_source</th>\n",
       "      <th>pred1_api</th>\n",
       "      <th>pred1_pubmed</th>\n",
       "      <th>pred1_method</th>\n",
       "      <th>node1_type</th>\n",
       "      <th>node1_name</th>\n",
       "      <th>node1_id</th>\n",
       "      <th>pred2</th>\n",
       "      <th>pred2_source</th>\n",
       "      <th>pred2_api</th>\n",
       "      <th>pred2_pubmed</th>\n",
       "      <th>pred2_method</th>\n",
       "      <th>output_type</th>\n",
       "      <th>output_name</th>\n",
       "      <th>output_id</th>\n",
       "    </tr>\n",
       "  </thead>\n",
       "  <tbody>\n",
       "    <tr>\n",
       "      <th>1430</th>\n",
       "      <td>ACUTE RESPIRATORY CORONAVIRUS INFECTION</td>\n",
       "      <td>Disease</td>\n",
       "      <td>has_phenotype</td>\n",
       "      <td>hpoa</td>\n",
       "      <td>BioLink API</td>\n",
       "      <td>None</td>\n",
       "      <td>None</td>\n",
       "      <td>PhenotypicFeature</td>\n",
       "      <td>COUGH</td>\n",
       "      <td>UMLS:C0010200</td>\n",
       "      <td>has_phenotype</td>\n",
       "      <td>orphanet,hpoa</td>\n",
       "      <td>BioLink API</td>\n",
       "      <td>None</td>\n",
       "      <td>None</td>\n",
       "      <td>Gene</td>\n",
       "      <td>CSF2RB</td>\n",
       "      <td>NCBIGene:1439</td>\n",
       "    </tr>\n",
       "    <tr>\n",
       "      <th>1431</th>\n",
       "      <td>ACUTE RESPIRATORY CORONAVIRUS INFECTION</td>\n",
       "      <td>Disease</td>\n",
       "      <td>related_to</td>\n",
       "      <td>hpo</td>\n",
       "      <td>mydisease.info API</td>\n",
       "      <td>None</td>\n",
       "      <td>TAS</td>\n",
       "      <td>PhenotypicFeature</td>\n",
       "      <td>COUGH</td>\n",
       "      <td>UMLS:C0010200</td>\n",
       "      <td>has_phenotype</td>\n",
       "      <td>orphanet,hpoa</td>\n",
       "      <td>BioLink API</td>\n",
       "      <td>None</td>\n",
       "      <td>None</td>\n",
       "      <td>Gene</td>\n",
       "      <td>CSF2RB</td>\n",
       "      <td>NCBIGene:1439</td>\n",
       "    </tr>\n",
       "    <tr>\n",
       "      <th>1432</th>\n",
       "      <td>ACUTE RESPIRATORY CORONAVIRUS INFECTION</td>\n",
       "      <td>Disease</td>\n",
       "      <td>has_phenotype</td>\n",
       "      <td>hpoa</td>\n",
       "      <td>BioLink API</td>\n",
       "      <td>None</td>\n",
       "      <td>None</td>\n",
       "      <td>PhenotypicFeature</td>\n",
       "      <td>HYPOXEMIA</td>\n",
       "      <td>UMLS:C0700292</td>\n",
       "      <td>has_phenotype</td>\n",
       "      <td>orphanet,hpoa</td>\n",
       "      <td>BioLink API</td>\n",
       "      <td>None</td>\n",
       "      <td>None</td>\n",
       "      <td>Gene</td>\n",
       "      <td>CSF2RB</td>\n",
       "      <td>NCBIGene:1439</td>\n",
       "    </tr>\n",
       "    <tr>\n",
       "      <th>1433</th>\n",
       "      <td>ACUTE RESPIRATORY CORONAVIRUS INFECTION</td>\n",
       "      <td>Disease</td>\n",
       "      <td>related_to</td>\n",
       "      <td>hpo</td>\n",
       "      <td>mydisease.info API</td>\n",
       "      <td>None</td>\n",
       "      <td>TAS</td>\n",
       "      <td>PhenotypicFeature</td>\n",
       "      <td>HYPOXEMIA</td>\n",
       "      <td>UMLS:C0700292</td>\n",
       "      <td>has_phenotype</td>\n",
       "      <td>orphanet,hpoa</td>\n",
       "      <td>BioLink API</td>\n",
       "      <td>None</td>\n",
       "      <td>None</td>\n",
       "      <td>Gene</td>\n",
       "      <td>CSF2RB</td>\n",
       "      <td>NCBIGene:1439</td>\n",
       "    </tr>\n",
       "    <tr>\n",
       "      <th>1434</th>\n",
       "      <td>ACUTE RESPIRATORY CORONAVIRUS INFECTION</td>\n",
       "      <td>Disease</td>\n",
       "      <td>has_phenotype</td>\n",
       "      <td>hpoa</td>\n",
       "      <td>BioLink API</td>\n",
       "      <td>None</td>\n",
       "      <td>None</td>\n",
       "      <td>PhenotypicFeature</td>\n",
       "      <td>ABNORMAL BREATHING</td>\n",
       "      <td>UMLS:C0013404</td>\n",
       "      <td>has_phenotype</td>\n",
       "      <td>omim,hpoa</td>\n",
       "      <td>BioLink API</td>\n",
       "      <td>None</td>\n",
       "      <td>None</td>\n",
       "      <td>Gene</td>\n",
       "      <td>CSF2RB</td>\n",
       "      <td>NCBIGene:1439</td>\n",
       "    </tr>\n",
       "    <tr>\n",
       "      <th>1435</th>\n",
       "      <td>ACUTE RESPIRATORY CORONAVIRUS INFECTION</td>\n",
       "      <td>Disease</td>\n",
       "      <td>related_to</td>\n",
       "      <td>hpo</td>\n",
       "      <td>mydisease.info API</td>\n",
       "      <td>None</td>\n",
       "      <td>TAS</td>\n",
       "      <td>PhenotypicFeature</td>\n",
       "      <td>ABNORMAL BREATHING</td>\n",
       "      <td>UMLS:C0013404</td>\n",
       "      <td>has_phenotype</td>\n",
       "      <td>omim,hpoa</td>\n",
       "      <td>BioLink API</td>\n",
       "      <td>None</td>\n",
       "      <td>None</td>\n",
       "      <td>Gene</td>\n",
       "      <td>CSF2RB</td>\n",
       "      <td>NCBIGene:1439</td>\n",
       "    </tr>\n",
       "    <tr>\n",
       "      <th>1436</th>\n",
       "      <td>ACUTE RESPIRATORY CORONAVIRUS INFECTION</td>\n",
       "      <td>Disease</td>\n",
       "      <td>has_phenotype</td>\n",
       "      <td>hpoa</td>\n",
       "      <td>BioLink API</td>\n",
       "      <td>None</td>\n",
       "      <td>None</td>\n",
       "      <td>PhenotypicFeature</td>\n",
       "      <td>RESPIRATORY DISTRESS NECESSITATING MECHANICAL ...</td>\n",
       "      <td>UMLS:C4025279</td>\n",
       "      <td>has_phenotype</td>\n",
       "      <td>orphanet,hpoa</td>\n",
       "      <td>BioLink API</td>\n",
       "      <td>None</td>\n",
       "      <td>None</td>\n",
       "      <td>Gene</td>\n",
       "      <td>CSF2RB</td>\n",
       "      <td>NCBIGene:1439</td>\n",
       "    </tr>\n",
       "    <tr>\n",
       "      <th>1437</th>\n",
       "      <td>ACUTE RESPIRATORY CORONAVIRUS INFECTION</td>\n",
       "      <td>Disease</td>\n",
       "      <td>related_to</td>\n",
       "      <td>hpo</td>\n",
       "      <td>mydisease.info API</td>\n",
       "      <td>None</td>\n",
       "      <td>TAS</td>\n",
       "      <td>PhenotypicFeature</td>\n",
       "      <td>RESPIRATORY DISTRESS NECESSITATING MECHANICAL ...</td>\n",
       "      <td>UMLS:C4025279</td>\n",
       "      <td>has_phenotype</td>\n",
       "      <td>orphanet,hpoa</td>\n",
       "      <td>BioLink API</td>\n",
       "      <td>None</td>\n",
       "      <td>None</td>\n",
       "      <td>Gene</td>\n",
       "      <td>CSF2RB</td>\n",
       "      <td>NCBIGene:1439</td>\n",
       "    </tr>\n",
       "    <tr>\n",
       "      <th>1438</th>\n",
       "      <td>ACUTE RESPIRATORY CORONAVIRUS INFECTION</td>\n",
       "      <td>Disease</td>\n",
       "      <td>has_phenotype</td>\n",
       "      <td>hpoa</td>\n",
       "      <td>BioLink API</td>\n",
       "      <td>None</td>\n",
       "      <td>None</td>\n",
       "      <td>PhenotypicFeature</td>\n",
       "      <td>ACUTE INFECTIOUS PNEUMONIA</td>\n",
       "      <td>UMLS:C4023112</td>\n",
       "      <td>has_phenotype</td>\n",
       "      <td>orphanet,hpoa</td>\n",
       "      <td>BioLink API</td>\n",
       "      <td>None</td>\n",
       "      <td>None</td>\n",
       "      <td>Gene</td>\n",
       "      <td>CSF2RB</td>\n",
       "      <td>NCBIGene:1439</td>\n",
       "    </tr>\n",
       "    <tr>\n",
       "      <th>1439</th>\n",
       "      <td>ACUTE RESPIRATORY CORONAVIRUS INFECTION</td>\n",
       "      <td>Disease</td>\n",
       "      <td>related_to</td>\n",
       "      <td>hpo</td>\n",
       "      <td>mydisease.info API</td>\n",
       "      <td>None</td>\n",
       "      <td>TAS</td>\n",
       "      <td>PhenotypicFeature</td>\n",
       "      <td>ACUTE INFECTIOUS PNEUMONIA</td>\n",
       "      <td>UMLS:C4023112</td>\n",
       "      <td>has_phenotype</td>\n",
       "      <td>orphanet,hpoa</td>\n",
       "      <td>BioLink API</td>\n",
       "      <td>None</td>\n",
       "      <td>None</td>\n",
       "      <td>Gene</td>\n",
       "      <td>CSF2RB</td>\n",
       "      <td>NCBIGene:1439</td>\n",
       "    </tr>\n",
       "  </tbody>\n",
       "</table>\n",
       "</div>"
      ],
      "text/plain": [
       "                                        input input_type          pred1  \\\n",
       "1430  ACUTE RESPIRATORY CORONAVIRUS INFECTION    Disease  has_phenotype   \n",
       "1431  ACUTE RESPIRATORY CORONAVIRUS INFECTION    Disease     related_to   \n",
       "1432  ACUTE RESPIRATORY CORONAVIRUS INFECTION    Disease  has_phenotype   \n",
       "1433  ACUTE RESPIRATORY CORONAVIRUS INFECTION    Disease     related_to   \n",
       "1434  ACUTE RESPIRATORY CORONAVIRUS INFECTION    Disease  has_phenotype   \n",
       "1435  ACUTE RESPIRATORY CORONAVIRUS INFECTION    Disease     related_to   \n",
       "1436  ACUTE RESPIRATORY CORONAVIRUS INFECTION    Disease  has_phenotype   \n",
       "1437  ACUTE RESPIRATORY CORONAVIRUS INFECTION    Disease     related_to   \n",
       "1438  ACUTE RESPIRATORY CORONAVIRUS INFECTION    Disease  has_phenotype   \n",
       "1439  ACUTE RESPIRATORY CORONAVIRUS INFECTION    Disease     related_to   \n",
       "\n",
       "     pred1_source           pred1_api pred1_pubmed pred1_method  \\\n",
       "1430         hpoa         BioLink API         None         None   \n",
       "1431          hpo  mydisease.info API         None          TAS   \n",
       "1432         hpoa         BioLink API         None         None   \n",
       "1433          hpo  mydisease.info API         None          TAS   \n",
       "1434         hpoa         BioLink API         None         None   \n",
       "1435          hpo  mydisease.info API         None          TAS   \n",
       "1436         hpoa         BioLink API         None         None   \n",
       "1437          hpo  mydisease.info API         None          TAS   \n",
       "1438         hpoa         BioLink API         None         None   \n",
       "1439          hpo  mydisease.info API         None          TAS   \n",
       "\n",
       "             node1_type                                         node1_name  \\\n",
       "1430  PhenotypicFeature                                              COUGH   \n",
       "1431  PhenotypicFeature                                              COUGH   \n",
       "1432  PhenotypicFeature                                          HYPOXEMIA   \n",
       "1433  PhenotypicFeature                                          HYPOXEMIA   \n",
       "1434  PhenotypicFeature                                 ABNORMAL BREATHING   \n",
       "1435  PhenotypicFeature                                 ABNORMAL BREATHING   \n",
       "1436  PhenotypicFeature  RESPIRATORY DISTRESS NECESSITATING MECHANICAL ...   \n",
       "1437  PhenotypicFeature  RESPIRATORY DISTRESS NECESSITATING MECHANICAL ...   \n",
       "1438  PhenotypicFeature                         ACUTE INFECTIOUS PNEUMONIA   \n",
       "1439  PhenotypicFeature                         ACUTE INFECTIOUS PNEUMONIA   \n",
       "\n",
       "           node1_id          pred2   pred2_source    pred2_api pred2_pubmed  \\\n",
       "1430  UMLS:C0010200  has_phenotype  orphanet,hpoa  BioLink API         None   \n",
       "1431  UMLS:C0010200  has_phenotype  orphanet,hpoa  BioLink API         None   \n",
       "1432  UMLS:C0700292  has_phenotype  orphanet,hpoa  BioLink API         None   \n",
       "1433  UMLS:C0700292  has_phenotype  orphanet,hpoa  BioLink API         None   \n",
       "1434  UMLS:C0013404  has_phenotype      omim,hpoa  BioLink API         None   \n",
       "1435  UMLS:C0013404  has_phenotype      omim,hpoa  BioLink API         None   \n",
       "1436  UMLS:C4025279  has_phenotype  orphanet,hpoa  BioLink API         None   \n",
       "1437  UMLS:C4025279  has_phenotype  orphanet,hpoa  BioLink API         None   \n",
       "1438  UMLS:C4023112  has_phenotype  orphanet,hpoa  BioLink API         None   \n",
       "1439  UMLS:C4023112  has_phenotype  orphanet,hpoa  BioLink API         None   \n",
       "\n",
       "     pred2_method output_type output_name      output_id  \n",
       "1430         None        Gene      CSF2RB  NCBIGene:1439  \n",
       "1431         None        Gene      CSF2RB  NCBIGene:1439  \n",
       "1432         None        Gene      CSF2RB  NCBIGene:1439  \n",
       "1433         None        Gene      CSF2RB  NCBIGene:1439  \n",
       "1434         None        Gene      CSF2RB  NCBIGene:1439  \n",
       "1435         None        Gene      CSF2RB  NCBIGene:1439  \n",
       "1436         None        Gene      CSF2RB  NCBIGene:1439  \n",
       "1437         None        Gene      CSF2RB  NCBIGene:1439  \n",
       "1438         None        Gene      CSF2RB  NCBIGene:1439  \n",
       "1439         None        Gene      CSF2RB  NCBIGene:1439  "
      ]
     },
     "execution_count": 23,
     "metadata": {},
     "output_type": "execute_result"
    }
   ],
   "source": [
    "q1_r_paths_table[q1_r_paths_table['output_name'] == 'CSF2RB']"
   ]
  },
  {
   "cell_type": "code",
   "execution_count": null,
   "metadata": {},
   "outputs": [],
   "source": []
  }
 ],
 "metadata": {
  "kernelspec": {
   "display_name": "Python 3",
   "language": "python",
   "name": "python3"
  },
  "language_info": {
   "codemirror_mode": {
    "name": "ipython",
    "version": 3
   },
   "file_extension": ".py",
   "mimetype": "text/x-python",
   "name": "python",
   "nbconvert_exporter": "python",
   "pygments_lexer": "ipython3",
   "version": "3.7.9"
  },
  "toc": {
   "base_numbering": 1,
   "nav_menu": {},
   "number_sections": true,
   "sideBar": true,
   "skip_h1_title": true,
   "title_cell": "Table of Contents",
   "title_sidebar": "Contents",
   "toc_cell": false,
   "toc_position": {
    "height": "calc(100% - 180px)",
    "left": "10px",
    "top": "150px",
    "width": "280.867px"
   },
   "toc_section_display": true,
   "toc_window_display": true
  },
  "varInspector": {
   "cols": {
    "lenName": 16,
    "lenType": 16,
    "lenVar": 40
   },
   "kernels_config": {
    "python": {
     "delete_cmd_postfix": "",
     "delete_cmd_prefix": "del ",
     "library": "var_list.py",
     "varRefreshCmd": "print(var_dic_list())"
    },
    "r": {
     "delete_cmd_postfix": ") ",
     "delete_cmd_prefix": "rm(",
     "library": "var_list.r",
     "varRefreshCmd": "cat(var_dic_list()) "
    }
   },
   "types_to_exclude": [
    "module",
    "function",
    "builtin_function_or_method",
    "instance",
    "_Feature"
   ],
   "window_display": false
  }
 },
 "nbformat": 4,
 "nbformat_minor": 4
}
