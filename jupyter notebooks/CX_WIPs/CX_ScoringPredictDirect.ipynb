{
 "cells": [
  {
   "cell_type": "markdown",
   "metadata": {},
   "source": [
    "## Step 0: Load BTE modules, notebook functions"
   ]
  },
  {
   "cell_type": "code",
   "execution_count": 1,
   "metadata": {
    "ExecuteTime": {
     "end_time": "2020-09-13T22:14:01.022365Z",
     "start_time": "2020-09-13T22:14:00.288948Z"
    }
   },
   "outputs": [],
   "source": [
    "## CX: allows multiple lines of code to print from one code block\n",
    "from IPython.core.interactiveshell import InteractiveShell\n",
    "InteractiveShell.ast_node_interactivity = \"all\"\n",
    "\n",
    "# import modules from biothings_explorer\n",
    "from biothings_explorer.hint import Hint\n",
    "from biothings_explorer.user_query_dispatcher import FindConnection\n",
    "\n",
    "## show time that this notebook was executed \n",
    "from datetime import datetime\n",
    "\n",
    "## packages to work with objects \n",
    "import re"
   ]
  },
  {
   "cell_type": "code",
   "execution_count": 2,
   "metadata": {
    "ExecuteTime": {
     "end_time": "2020-09-13T22:14:01.344225Z",
     "start_time": "2020-09-13T22:14:01.339631Z"
    }
   },
   "outputs": [],
   "source": [
    "## functions to add to modules?\n",
    "def hint_display(query, hint_result):\n",
    "    \"\"\"\n",
    "    show the name and type of all results returned by the query\n",
    "    \n",
    "    :param: query: string used in hint query\n",
    "    :param: hint_result: object returned from hint query, a dictionary of lists of dictionaries\n",
    "    \n",
    "    Returns: None\n",
    "    \"\"\"\n",
    "    ## function needs to be rewritten if it's going to give the exact index of each object within its type \n",
    "    display = ['type', 'name']  ## replace with the parts of the BioThings object you want to see\n",
    "    concise_results = []\n",
    "    for BT_type, result in hint_result.items():\n",
    "        if result:  ## basically if it's not empty\n",
    "            for items in result:\n",
    "                concise_results.append((items[display[0]], items[display[1]]))\n",
    "    print('There are {total} BioThings objects returned for {ht}:'.format(\\\n",
    "                total = len(concise_results), ht = query))\n",
    "    for display_info in concise_results:\n",
    "        print(display_info)"
   ]
  },
  {
   "cell_type": "code",
   "execution_count": 3,
   "metadata": {
    "ExecuteTime": {
     "end_time": "2020-09-13T22:14:02.839115Z",
     "start_time": "2020-09-13T22:14:02.834726Z"
    }
   },
   "outputs": [],
   "source": [
    "def filter_table(df):\n",
    "    \"\"\"\n",
    "    use _source and _method columns to remove rows (paths) from the dataframe\n",
    "    :param: pandas dataframe containing results from BTE FindConnection module, in table form\n",
    "    \n",
    "    Returns: filtered dataframe\n",
    "    \"\"\"\n",
    "    ## note: still needs checking with EXPLAIN queries\n",
    "    ## key is the string to match to column, value is a list of strings to match to column values\n",
    "    filter_out = {'_source': ['SEMMED', 'CTD', 'ctd', 'omia']   \n",
    "#                   '_method': []  ## currently no method stuff I want to filter out\n",
    "                 }\n",
    "    ## SEMMED: text mining results wrong for PhenotypicFeature -> Gene\n",
    "    ## CTD/ctd: results odd for MSUD -> ChemicalSubstance\n",
    "    ## omia: results wrong or discontinued gene IDs for PhenotypicFeature -> Gene\n",
    "    \n",
    "    \n",
    "    df_temp = df.copy()  ## so the original df isn't modified in-place\n",
    "    for key,val in filter_out.items():\n",
    "        ## find columns that match the key string\n",
    "        columns = [i for i in df_temp.columns if key in i]\n",
    "        ## iterate through each column\n",
    "        for col in columns:\n",
    "            ## iterate through each value to take out, check if string CONTAINS match. \n",
    "            ## only keep rows that don't contain the value\n",
    "            for i in val:\n",
    "                df_temp = df_temp[~ df_temp[col].str.contains(i)]\n",
    "\n",
    "    return df_temp"
   ]
  },
  {
   "cell_type": "code",
   "execution_count": 28,
   "metadata": {
    "ExecuteTime": {
     "end_time": "2020-09-14T02:38:27.655417Z",
     "start_time": "2020-09-14T02:38:27.651136Z"
    }
   },
   "outputs": [
    {
     "name": "stdout",
     "output_type": "stream",
     "text": [
      "The time that this notebook was executed is...\n",
      "Local time (PST, West Coast USA): \n",
      "2020-09-13 19:38:27.652538\n",
      "UTC time: \n",
      "2020-09-14 02:38:27.652735\n"
     ]
    }
   ],
   "source": [
    "## record when cell blocks are executed\n",
    "print('The time that this notebook was executed is...')\n",
    "print('Local time (PST, West Coast USA): ')\n",
    "print(datetime.now())\n",
    "print('UTC time: ')\n",
    "print(datetime.utcnow())"
   ]
  },
  {
   "cell_type": "markdown",
   "metadata": {},
   "source": [
    "## Step 1: Find representation of \"maple syrup urine disease\" in BTE"
   ]
  },
  {
   "cell_type": "markdown",
   "metadata": {},
   "source": [
    "In this step, BioThings Explorer translates our query string \"maple syrup urine disease\"  into BioThings objects, which contain mappings to many common identifiers. We then pick the BioThings object that best matches what we want (the rare disease). \n",
    "\n",
    "Generally, the top result returned by the Hint module for your BioThings type of interest will match what you want, but you should confirm that using the identifiers shown. \n",
    "\n",
    "\n",
    "> BioThings types correspond to children and descendants of [BiologicalEntity](https://biolink.github.io/biolink-model/docs/BiologicalEntity.html) from the [Biolink Model](https://biolink.github.io/biolink-model/docs/), including `Disease` (e.g., \"lupus\"), `ChemicalSubstance` (e.g., \"acetaminophen\"), `Gene` (e.g., \"CDK2\"), `BiologicalProcess` (e.g., \"T cell differentiation\"), and `Pathway` (e.g., \"Citric acid cycle\"). **However, [only a subset of the Biolink BiologicalEntity children / descendants are currently implemented in BTE](https://smart-api.info/portal/translator/metakg)**. More biomedical object types will be available as more knowledge sources (APIs) are added to the system. **Note that the type `BiologicalEntity` means any BioThings type currently implemented in BTE will be accepted.**"
   ]
  },
  {
   "cell_type": "code",
   "execution_count": 5,
   "metadata": {
    "ExecuteTime": {
     "end_time": "2020-09-13T22:14:11.456795Z",
     "start_time": "2020-09-13T22:14:11.012567Z"
    }
   },
   "outputs": [
    {
     "name": "stdout",
     "output_type": "stream",
     "text": [
      "There are 6 BioThings objects returned for maple syrup urine disease:\n",
      "('Disease', 'maple syrup urine disease')\n",
      "('Disease', 'maple syrup urine disease, mild variant')\n",
      "('Disease', 'pyruvate dehydrogenase E3 deficiency')\n",
      "('Disease', 'inborn disorder of branched-chain amino acid metabolism')\n",
      "('Disease', 'classic maple syrup urine disease')\n",
      "('Pathway', 'Maple Syrup Urine Disease')\n"
     ]
    }
   ],
   "source": [
    "ht = Hint()  ## neater way to call this BTE module\n",
    "\n",
    "## the human user gives this input\n",
    "MSUD_starting_str = \"maple syrup urine disease\"\n",
    "\n",
    "MSUD_hint = ht.query(MSUD_starting_str)\n",
    "## the object is a dictionary with keys = set strings, values = list of dictionaries. \n",
    "hint_display(MSUD_starting_str, MSUD_hint)"
   ]
  },
  {
   "cell_type": "markdown",
   "metadata": {},
   "source": [
    "Based on the information above, we'll pick the top `Disease` choice (indexed at 0) for our query. We can look at identifier mappings inside this BioThings object for maple syrup urine disease (MSUD). "
   ]
  },
  {
   "cell_type": "code",
   "execution_count": 6,
   "metadata": {
    "ExecuteTime": {
     "end_time": "2020-09-13T22:14:13.800545Z",
     "start_time": "2020-09-13T22:14:13.789950Z"
    }
   },
   "outputs": [
    {
     "data": {
      "text/plain": [
       "{'MONDO': 'MONDO:0009563',\n",
       " 'DOID': 'DOID:9269',\n",
       " 'UMLS': 'C0024776',\n",
       " 'name': 'maple syrup urine disease',\n",
       " 'MESH': 'D008375',\n",
       " 'OMIM': '248600',\n",
       " 'ORPHANET': '511',\n",
       " 'primary': {'identifier': 'MONDO',\n",
       "  'cls': 'Disease',\n",
       "  'value': 'MONDO:0009563'},\n",
       " 'display': 'MONDO(MONDO:0009563) DOID(DOID:9269) OMIM(248600) ORPHANET(511) UMLS(C0024776) MESH(D008375) name(maple syrup urine disease)',\n",
       " 'type': 'Disease'}"
      ]
     },
     "execution_count": 6,
     "metadata": {},
     "output_type": "execute_result"
    }
   ],
   "source": [
    "## the human user makes this choice, gives this input\n",
    "MSUD_choice_type = 'Disease'\n",
    "MSUD_choice_idx = 0\n",
    "\n",
    "MSUD_hint_obj = MSUD_hint[MSUD_choice_type][MSUD_choice_idx]  \n",
    "MSUD_hint_obj\n",
    "## these inner dictionaries are keys = id type, \n",
    "##       values = curie, normal string, or dictionary (for the key 'primary')"
   ]
  },
  {
   "cell_type": "markdown",
   "metadata": {},
   "source": [
    "## Step 3: MSUD &rarr; PhenotypicFeature"
   ]
  },
  {
   "cell_type": "code",
   "execution_count": 29,
   "metadata": {
    "ExecuteTime": {
     "end_time": "2020-09-14T02:38:33.553644Z",
     "start_time": "2020-09-14T02:38:33.037700Z"
    }
   },
   "outputs": [
    {
     "name": "stdout",
     "output_type": "stream",
     "text": [
      "==========\n",
      "========== QUERY PARAMETER SUMMARY ==========\n",
      "==========\n",
      "\n",
      "BTE will find paths that join 'maple syrup urine disease' and 'PhenotypicFeature'.                   Paths will have 0 intermediate node.\n",
      "\n",
      "\n",
      "\n",
      "========== QUERY #1 -- fetch all PhenotypicFeature entities linked to maple syrup urine disease ==========\n",
      "==========\n",
      "\n",
      "==== Step #1: Query path planning ====\n",
      "\n",
      "Because maple syrup urine disease is of type 'Disease', BTE will query our meta-KG for APIs that can take 'Disease' as input and 'PhenotypicFeature' as output\n",
      "\n",
      "BTE found 3 apis:\n",
      "\n",
      "API 1. biolink(1 API call)\n",
      "API 2. mydisease(2 API calls)\n",
      "API 3. semmed_disease(11 API calls)\n",
      "\n",
      "\n",
      "==== Step #2: Query path execution ====\n",
      "NOTE: API requests are dispatched in parallel, so the list of APIs below is ordered by query time.\n",
      "\n",
      "API 2.2: https://mydisease.info/v1/query?fields=hpo.phenotype_related_to_disease (POST -d q=511&scopes=hpo.orphanet)\n",
      "API 2.1: https://mydisease.info/v1/query?fields=hpo.phenotype_related_to_disease (POST -d q=248600&scopes=hpo.omim)\n",
      "API 3.4: https://biothings.ncats.io/semmed/query?fields=caused_by (POST -d q=C1855371,C0024776&scopes=umls)\n",
      "API 3.11: https://biothings.ncats.io/semmed/query?fields=negatively_regulated_by (POST -d q=C1855371,C0024776&scopes=umls)\n",
      "API 3.6: https://biothings.ncats.io/semmed/query?fields=prevented_by (POST -d q=C1855371,C0024776&scopes=umls)\n",
      "API 3.2: https://biothings.ncats.io/semmed/query?fields=affects (POST -d q=C1855371,C0024776&scopes=umls)\n",
      "API 3.9: https://biothings.ncats.io/semmed/query?fields=physically_interacts_with (POST -d q=C1855371,C0024776&scopes=umls)\n",
      "API 3.7: https://biothings.ncats.io/semmed/query?fields=related_to (POST -d q=C1855371,C0024776&scopes=umls)\n",
      "API 3.5: https://biothings.ncats.io/semmed/query?fields=treated_by (POST -d q=C1855371,C0024776&scopes=umls)\n",
      "API 3.8: https://biothings.ncats.io/semmed/query?fields=coexists_with (POST -d q=C1855371,C0024776&scopes=umls)\n",
      "API 3.10: https://biothings.ncats.io/semmed/query?fields=disrupts (POST -d q=C1855371,C0024776&scopes=umls)\n",
      "API 1.1: https://api.monarchinitiative.org/api/bioentity/disease/MONDO:0009563/phenotypes?rows=200&direct=true\n",
      "API 3.1: https://biothings.ncats.io/semmed/query?fields=affected_by (POST -d q=C1855371,C0024776&scopes=umls)\n",
      "API 3.3: https://biothings.ncats.io/semmed/query?fields=disrupted_by (POST -d q=C1855371,C0024776&scopes=umls)\n",
      "\n",
      "\n",
      "==== Step #3: Output normalization ====\n",
      "\n",
      "API 3.1 semmed_disease: No hits\n",
      "API 3.2 semmed_disease: No hits\n",
      "API 3.3 semmed_disease: No hits\n",
      "API 3.4 semmed_disease: No hits\n",
      "API 1.1 biolink: 25 hits\n",
      "API 3.5 semmed_disease: No hits\n",
      "API 2.1 mydisease: 20 hits\n",
      "API 3.6 semmed_disease: No hits\n",
      "API 3.7 semmed_disease: No hits\n",
      "API 3.8 semmed_disease: No hits\n",
      "API 2.2 mydisease: No hits\n",
      "API 3.9 semmed_disease: No hits\n",
      "API 3.10 semmed_disease: No hits\n",
      "API 3.11 semmed_disease: No hits\n",
      "\n",
      "After id-to-object translation, BTE retrieved 27 unique objects.\n",
      "\n",
      "==========\n",
      "========== Final assembly of results ==========\n",
      "==========\n",
      "\n",
      "\n",
      "In the #1 query, BTE found 27 unique PhenotypicFeature nodes\n"
     ]
    }
   ],
   "source": [
    "## the human user gives this input\n",
    "q1_output_type = 'PhenotypicFeature'\n",
    "q1_intermediate = None\n",
    "\n",
    "q1 = FindConnection(input_obj = MSUD_hint_obj,\\\n",
    "                     output_obj = q1_output_type, \\\n",
    "                    intermediate_nodes = q1_intermediate)\n",
    "q1.connect(verbose = True)"
   ]
  },
  {
   "cell_type": "code",
   "execution_count": 30,
   "metadata": {
    "ExecuteTime": {
     "end_time": "2020-09-14T02:38:43.473593Z",
     "start_time": "2020-09-14T02:38:43.464744Z"
    }
   },
   "outputs": [],
   "source": [
    "# q1_r_graph = q1.fc.G  ## for changing the graph object to reflect the table\n",
    "q1_r_paths_table = q1.display_table_view()\n",
    "\n",
    "q1_type = re.findall(\"dispatcher.([a-zA-Z]+)'\", str(type(q1.fc)))\n",
    "q1_type = \"\".join(q1_type)  ## convert to string\n",
    "\n",
    "# q1 = None  ## clear memory"
   ]
  },
  {
   "cell_type": "markdown",
   "metadata": {},
   "source": [
    "We can see the number of PhenotypicFeatures that were linked to MSUD and the total number of paths from MSUD to PhenotypicFeature nodes. "
   ]
  },
  {
   "cell_type": "code",
   "execution_count": 31,
   "metadata": {
    "ExecuteTime": {
     "end_time": "2020-09-14T02:38:45.620818Z",
     "start_time": "2020-09-14T02:38:45.616590Z"
    }
   },
   "outputs": [
    {
     "name": "stdout",
     "output_type": "stream",
     "text": [
      "There are 27 unique PhenotypicFeatures.\n",
      "There are 45 unique paths.\n"
     ]
    }
   ],
   "source": [
    "## show number of unique output nodes\n",
    "print(\"There are {0} unique {1}s.\".format( \\\n",
    "    q1_r_paths_table.output_name.nunique(), q1_output_type))\n",
    "\n",
    "## show number of paths \n",
    "print(\"There are {0} unique paths.\".format( \\\n",
    "    q1_r_paths_table.shape[0]))"
   ]
  },
  {
   "cell_type": "markdown",
   "metadata": {},
   "source": [
    "### Filtering and scoring"
   ]
  },
  {
   "cell_type": "markdown",
   "metadata": {},
   "source": [
    "Filtering involves using edge provenance, like the source this relationship came from and the method used to make this association, to filter out edges (removing nodes in the process). \n",
    "\n",
    "However, in this particular example, either no edges or only a few edges will be removed (we consider almost all the information reliable). "
   ]
  },
  {
   "cell_type": "code",
   "execution_count": 32,
   "metadata": {
    "ExecuteTime": {
     "end_time": "2020-09-14T02:38:47.814564Z",
     "start_time": "2020-09-14T02:38:47.808145Z"
    }
   },
   "outputs": [
    {
     "name": "stdout",
     "output_type": "stream",
     "text": [
      "There are 45 unique paths.\n"
     ]
    }
   ],
   "source": [
    "q1_r_paths_table = filter_table(q1_r_paths_table)\n",
    "\n",
    "## show number of paths from MSUD to genes\n",
    "print(\"There are {0} unique paths.\".format( \\\n",
    "    q1_r_paths_table.shape[0]))"
   ]
  },
  {
   "cell_type": "markdown",
   "metadata": {},
   "source": [
    "For a direct query (no intermediates)...I won't be able to score if I flatten ALL the multi-edges. So instead I have to keep some of multi-edges and then count the edges per output node. \n",
    "\n",
    "I don't like counting as multiple edges when biolink returns multi-edges that only differ by pubmed sources or only differ by a long list of sources (that only differ by one member)\n",
    "\n",
    "Then normalize by dividing by the maximum-possible number of edges it could have. So the max. number of edges is 4. \n",
    "\n",
    "The scores will be funny since right now the most we have is 1 edge per API..."
   ]
  },
  {
   "cell_type": "code",
   "execution_count": 47,
   "metadata": {
    "ExecuteTime": {
     "end_time": "2020-09-14T02:41:59.447685Z",
     "start_time": "2020-09-14T02:41:59.434986Z"
    }
   },
   "outputs": [
    {
     "data": {
      "text/plain": [
       "Index(['input', 'input_type', 'pred1', 'pred1_source', 'pred1_api',\n",
       "       'pred1_pubmed', 'pred1_method', 'output_type', 'output_name',\n",
       "       'output_id'],\n",
       "      dtype='object')"
      ]
     },
     "execution_count": 47,
     "metadata": {},
     "output_type": "execute_result"
    },
    {
     "data": {
      "text/html": [
       "<div>\n",
       "<style scoped>\n",
       "    .dataframe tbody tr th:only-of-type {\n",
       "        vertical-align: middle;\n",
       "    }\n",
       "\n",
       "    .dataframe tbody tr th {\n",
       "        vertical-align: top;\n",
       "    }\n",
       "\n",
       "    .dataframe thead th {\n",
       "        text-align: right;\n",
       "    }\n",
       "</style>\n",
       "<table border=\"1\" class=\"dataframe\">\n",
       "  <thead>\n",
       "    <tr style=\"text-align: right;\">\n",
       "      <th></th>\n",
       "      <th>input</th>\n",
       "      <th>pred1</th>\n",
       "      <th>pred1_api</th>\n",
       "      <th>pred1_method</th>\n",
       "    </tr>\n",
       "  </thead>\n",
       "  <tbody>\n",
       "    <tr>\n",
       "      <th>0</th>\n",
       "      <td>BCKD DEFICIENCY</td>\n",
       "      <td>has_phenotype</td>\n",
       "      <td>BioLink API</td>\n",
       "      <td>None</td>\n",
       "    </tr>\n",
       "    <tr>\n",
       "      <th>2</th>\n",
       "      <td>BCKD DEFICIENCY</td>\n",
       "      <td>related_to</td>\n",
       "      <td>mydisease.info API</td>\n",
       "      <td>PCS</td>\n",
       "    </tr>\n",
       "    <tr>\n",
       "      <th>4</th>\n",
       "      <td>BCKD DEFICIENCY</td>\n",
       "      <td>related_to</td>\n",
       "      <td>mydisease.info API</td>\n",
       "      <td>IEA</td>\n",
       "    </tr>\n",
       "    <tr>\n",
       "      <th>17</th>\n",
       "      <td>BCKD DEFICIENCY</td>\n",
       "      <td>related_to</td>\n",
       "      <td>mydisease.info API</td>\n",
       "      <td>TAS</td>\n",
       "    </tr>\n",
       "  </tbody>\n",
       "</table>\n",
       "</div>"
      ],
      "text/plain": [
       "              input          pred1           pred1_api pred1_method\n",
       "0   BCKD DEFICIENCY  has_phenotype         BioLink API         None\n",
       "2   BCKD DEFICIENCY     related_to  mydisease.info API          PCS\n",
       "4   BCKD DEFICIENCY     related_to  mydisease.info API          IEA\n",
       "17  BCKD DEFICIENCY     related_to  mydisease.info API          TAS"
      ]
     },
     "execution_count": 47,
     "metadata": {},
     "output_type": "execute_result"
    }
   ],
   "source": [
    "q1_r_paths_table.columns\n",
    "q1_r_paths_table[['input', 'pred1', 'pred1_api', 'pred1_method']].drop_duplicates()"
   ]
  },
  {
   "cell_type": "code",
   "execution_count": 38,
   "metadata": {
    "ExecuteTime": {
     "end_time": "2020-09-14T02:39:46.158958Z",
     "start_time": "2020-09-14T02:39:46.155159Z"
    }
   },
   "outputs": [
    {
     "data": {
      "text/plain": [
       "{'input',\n",
       " 'input_type',\n",
       " 'output_id',\n",
       " 'output_name',\n",
       " 'output_type',\n",
       " 'pred1',\n",
       " 'pred1_api',\n",
       " 'pred1_method',\n",
       " 'pred1_pubmed',\n",
       " 'pred1_source'}"
      ]
     },
     "execution_count": 38,
     "metadata": {},
     "output_type": "execute_result"
    }
   ],
   "source": [
    "set(q1_r_paths_table.columns)"
   ]
  },
  {
   "cell_type": "code",
   "execution_count": 48,
   "metadata": {
    "ExecuteTime": {
     "end_time": "2020-09-14T03:06:18.605469Z",
     "start_time": "2020-09-14T03:06:18.597352Z"
    }
   },
   "outputs": [],
   "source": [
    "def scoring_output(df, q_type):\n",
    "    \"\"\"\n",
    "    score results based on whether query was Predict or Explain type, number of \n",
    "        intermediate nodes \n",
    "    :param: pandas dataframe containing results from BTE FindConnection module\n",
    "    :param: string describing type of query (Predict or Explain)\n",
    "    \n",
    "    May flatten some edges, because score only counts one edge per \n",
    "        unique predicate / API / method (ignoring source and pubmed col)\n",
    "    \n",
    "    Predict queries: score each output node by counting # of paths\n",
    "        from input nodes to it. Normalize by dividing by maximum\n",
    "        possible # of paths\n",
    "    Explain two-hop (one intermediate) queries: score each intermediate node by \n",
    "        counting # of paths (between input and output nodes) that include it. \n",
    "        Normalize by dividing by maximum possible # of paths    \n",
    "\n",
    "    Explain one-hop (direct) queries: no need to score, prints message\n",
    "    Other Explain queries (many-hops): currently not able to score, prints message     \n",
    "    \n",
    "    Returns: pandas series with scores, index is output_name\n",
    "             or None (one-hop or many-hop Explain query)\n",
    "    \"\"\"\n",
    "    df_temp = df.copy()  ## so no chance to mutate this   \n",
    "    flag_direct = False  ## one-hop query or not\n",
    "    ## use df_col to look quicker into columns\n",
    "    df_col = set(df_temp.columns)\n",
    "    \n",
    "    ## ignore source and pubmed col in looking at unique edges \n",
    "    columns_drop = [col for col in df_col if (('_source' in col) or ('_pubmed' in col))]\n",
    "    df_temp.drop(columns = columns_drop, inplace = True)    \n",
    "    df_temp.drop_duplicates(inplace = True)\n",
    "    \n",
    "    ## check if query is one-hop or not\n",
    "    if \"node1_name\" not in df_col:    ## name for first intermediate node layer\n",
    "        flag_direct = True  \n",
    "    \n",
    "    if q_type == 'Explain':\n",
    "        if flag_direct:   # one hop / no intermediates\n",
    "            print('No valid node scoring for one-hop (direct) Explain queries.')\n",
    "            return None\n",
    "        ## if there are many-hops/intermediate layers\n",
    "        elif \"node2_name\" in df_col:  ## name for 2nd intermed. node layer\n",
    "            print('Cannot currently score many-hop Explain queries.')\n",
    "            return None\n",
    "        else:   ## two-hop / 1 intermediate layer\n",
    "            ## count multi-edges to results (the intermediate node1 col)\n",
    "            scores = df_temp.node1_name.value_counts() \n",
    "            ## to find the maximum-possible number of edges, look at non-result cols\n",
    "            columns_drop = [col for col in df_col if 'node1' in col]\n",
    "            df_temp.drop(columns = columns_drop, inplace = True)\n",
    "            ## now look at number of unique combos for input, edge info, output\n",
    "            df_temp.drop_duplicates(inplace = True)\n",
    "            max_paths = df_temp.shape[0]            \n",
    "            ## normalize scores by dividing each by max number of paths\n",
    "            scores = scores / max_paths\n",
    "            ## return scores as pandas dataframe\n",
    "            return scores.to_frame(name = 'score')            \n",
    "\n",
    "    else:  ## Predict type query\n",
    "        ## count multi-edges to results (the output col)\n",
    "        scores = df_temp.output_name.value_counts()\n",
    "        ## to find the maximum number of multi-edges, look at non-output col\n",
    "        columns_drop = [col for col in df_temp.columns if 'output' in col]\n",
    "        df_temp.drop(columns = columns_drop, inplace = True)\n",
    "        ## now look at number of unique paths possible\n",
    "        df_temp.drop_duplicates(inplace = True)\n",
    "        max_paths = df_temp.shape[0]\n",
    "        ## normalize scores by dividing each by max number of paths\n",
    "        scores = scores / max_paths\n",
    "        ## return scores as pandas dataframe\n",
    "        return scores.to_frame(name = 'score')                 "
   ]
  },
  {
   "cell_type": "code",
   "execution_count": 49,
   "metadata": {
    "ExecuteTime": {
     "end_time": "2020-09-14T03:06:21.447951Z",
     "start_time": "2020-09-14T03:06:21.432892Z"
    }
   },
   "outputs": [
    {
     "data": {
      "text/html": [
       "<div>\n",
       "<style scoped>\n",
       "    .dataframe tbody tr th:only-of-type {\n",
       "        vertical-align: middle;\n",
       "    }\n",
       "\n",
       "    .dataframe tbody tr th {\n",
       "        vertical-align: top;\n",
       "    }\n",
       "\n",
       "    .dataframe thead th {\n",
       "        text-align: right;\n",
       "    }\n",
       "</style>\n",
       "<table border=\"1\" class=\"dataframe\">\n",
       "  <thead>\n",
       "    <tr style=\"text-align: right;\">\n",
       "      <th></th>\n",
       "      <th>score</th>\n",
       "    </tr>\n",
       "  </thead>\n",
       "  <tbody>\n",
       "    <tr>\n",
       "      <th>INCREASED LEVEL OF HIPPURIC ACID IN URINE</th>\n",
       "      <td>0.50</td>\n",
       "    </tr>\n",
       "    <tr>\n",
       "      <th>BRAIN EDEMA</th>\n",
       "      <td>0.50</td>\n",
       "    </tr>\n",
       "    <tr>\n",
       "      <th>EPILEPSY</th>\n",
       "      <td>0.50</td>\n",
       "    </tr>\n",
       "    <tr>\n",
       "      <th>EMESIS</th>\n",
       "      <td>0.50</td>\n",
       "    </tr>\n",
       "    <tr>\n",
       "      <th>ATAXIA</th>\n",
       "      <td>0.50</td>\n",
       "    </tr>\n",
       "    <tr>\n",
       "      <th>HYPOGLYCAEMIA</th>\n",
       "      <td>0.50</td>\n",
       "    </tr>\n",
       "    <tr>\n",
       "      <th>COMA</th>\n",
       "      <td>0.50</td>\n",
       "    </tr>\n",
       "    <tr>\n",
       "      <th>LETHARGY</th>\n",
       "      <td>0.50</td>\n",
       "    </tr>\n",
       "    <tr>\n",
       "      <th>ELEVATED PLASMA BRANCHED CHAIN AMINO ACIDS</th>\n",
       "      <td>0.50</td>\n",
       "    </tr>\n",
       "    <tr>\n",
       "      <th>DECREASED MUSCLE TONE</th>\n",
       "      <td>0.50</td>\n",
       "    </tr>\n",
       "    <tr>\n",
       "      <th>ABNORMAL GROWTH</th>\n",
       "      <td>0.50</td>\n",
       "    </tr>\n",
       "    <tr>\n",
       "      <th>HALLUCINATION</th>\n",
       "      <td>0.50</td>\n",
       "    </tr>\n",
       "    <tr>\n",
       "      <th>PANCREATIC INFLAMMATION</th>\n",
       "      <td>0.50</td>\n",
       "    </tr>\n",
       "    <tr>\n",
       "      <th>FEEDING DIFFICULTIES IN INFANCY</th>\n",
       "      <td>0.50</td>\n",
       "    </tr>\n",
       "    <tr>\n",
       "      <th>HYPERLACTICACIDEMIA</th>\n",
       "      <td>0.50</td>\n",
       "    </tr>\n",
       "    <tr>\n",
       "      <th>DULL INTELLIGENCE</th>\n",
       "      <td>0.50</td>\n",
       "    </tr>\n",
       "    <tr>\n",
       "      <th>HIGH LEVELS OF KETONE BODIES</th>\n",
       "      <td>0.50</td>\n",
       "    </tr>\n",
       "    <tr>\n",
       "      <th>LOW OR WEAK MUSCLE TONE</th>\n",
       "      <td>0.50</td>\n",
       "    </tr>\n",
       "    <tr>\n",
       "      <th>INVOLUNTARY MUSCLE STIFFNESS, CONTRACTION, OR SPASM</th>\n",
       "      <td>0.25</td>\n",
       "    </tr>\n",
       "    <tr>\n",
       "      <th>ABSENT OR DECREASED DEEP TENDON REFLEXES</th>\n",
       "      <td>0.25</td>\n",
       "    </tr>\n",
       "    <tr>\n",
       "      <th>AUTOSOMAL RECESSIVE</th>\n",
       "      <td>0.25</td>\n",
       "    </tr>\n",
       "    <tr>\n",
       "      <th>ABNORMALITY OF THE VOICE</th>\n",
       "      <td>0.25</td>\n",
       "    </tr>\n",
       "    <tr>\n",
       "      <th>HEMIPLEGIA/HEMIPARESIS</th>\n",
       "      <td>0.25</td>\n",
       "    </tr>\n",
       "    <tr>\n",
       "      <th>HYPERTONIA</th>\n",
       "      <td>0.25</td>\n",
       "    </tr>\n",
       "    <tr>\n",
       "      <th>ABNORMALITY OF THE PHARYNX</th>\n",
       "      <td>0.25</td>\n",
       "    </tr>\n",
       "    <tr>\n",
       "      <th>COGNITIVE DELAY</th>\n",
       "      <td>0.25</td>\n",
       "    </tr>\n",
       "    <tr>\n",
       "      <th>PROGRESSIVE RESPIRATORY FAILURE</th>\n",
       "      <td>0.25</td>\n",
       "    </tr>\n",
       "  </tbody>\n",
       "</table>\n",
       "</div>"
      ],
      "text/plain": [
       "                                                    score\n",
       "INCREASED LEVEL OF HIPPURIC ACID IN URINE            0.50\n",
       "BRAIN EDEMA                                          0.50\n",
       "EPILEPSY                                             0.50\n",
       "EMESIS                                               0.50\n",
       "ATAXIA                                               0.50\n",
       "HYPOGLYCAEMIA                                        0.50\n",
       "COMA                                                 0.50\n",
       "LETHARGY                                             0.50\n",
       "ELEVATED PLASMA BRANCHED CHAIN AMINO ACIDS           0.50\n",
       "DECREASED MUSCLE TONE                                0.50\n",
       "ABNORMAL GROWTH                                      0.50\n",
       "HALLUCINATION                                        0.50\n",
       "PANCREATIC INFLAMMATION                              0.50\n",
       "FEEDING DIFFICULTIES IN INFANCY                      0.50\n",
       "HYPERLACTICACIDEMIA                                  0.50\n",
       "DULL INTELLIGENCE                                    0.50\n",
       "HIGH LEVELS OF KETONE BODIES                         0.50\n",
       "LOW OR WEAK MUSCLE TONE                              0.50\n",
       "INVOLUNTARY MUSCLE STIFFNESS, CONTRACTION, OR S...   0.25\n",
       "ABSENT OR DECREASED DEEP TENDON REFLEXES             0.25\n",
       "AUTOSOMAL RECESSIVE                                  0.25\n",
       "ABNORMALITY OF THE VOICE                             0.25\n",
       "HEMIPLEGIA/HEMIPARESIS                               0.25\n",
       "HYPERTONIA                                           0.25\n",
       "ABNORMALITY OF THE PHARYNX                           0.25\n",
       "COGNITIVE DELAY                                      0.25\n",
       "PROGRESSIVE RESPIRATORY FAILURE                      0.25"
      ]
     },
     "execution_count": 49,
     "metadata": {},
     "output_type": "execute_result"
    }
   ],
   "source": [
    "## create scoring table for results (output nodes)\n",
    "q1_scoring = scoring_output(q1_r_paths_table, q1_type)\n",
    "\n",
    "q1_scoring"
   ]
  },
  {
   "cell_type": "code",
   "execution_count": null,
   "metadata": {},
   "outputs": [],
   "source": []
  }
 ],
 "metadata": {
  "kernelspec": {
   "display_name": "Python [conda env:BTE] *",
   "language": "python",
   "name": "conda-env-BTE-py"
  },
  "language_info": {
   "codemirror_mode": {
    "name": "ipython",
    "version": 3
   },
   "file_extension": ".py",
   "mimetype": "text/x-python",
   "name": "python",
   "nbconvert_exporter": "python",
   "pygments_lexer": "ipython3",
   "version": "3.7.8"
  },
  "toc": {
   "base_numbering": 1,
   "nav_menu": {},
   "number_sections": true,
   "sideBar": true,
   "skip_h1_title": true,
   "title_cell": "Table of Contents",
   "title_sidebar": "Contents",
   "toc_cell": false,
   "toc_position": {
    "height": "calc(100% - 180px)",
    "left": "10px",
    "top": "150px",
    "width": "261.567px"
   },
   "toc_section_display": true,
   "toc_window_display": true
  },
  "varInspector": {
   "cols": {
    "lenName": 16,
    "lenType": 16,
    "lenVar": 40
   },
   "kernels_config": {
    "python": {
     "delete_cmd_postfix": "",
     "delete_cmd_prefix": "del ",
     "library": "var_list.py",
     "varRefreshCmd": "print(var_dic_list())"
    },
    "r": {
     "delete_cmd_postfix": ") ",
     "delete_cmd_prefix": "rm(",
     "library": "var_list.r",
     "varRefreshCmd": "cat(var_dic_list()) "
    }
   },
   "types_to_exclude": [
    "module",
    "function",
    "builtin_function_or_method",
    "instance",
    "_Feature"
   ],
   "window_display": false
  }
 },
 "nbformat": 4,
 "nbformat_minor": 4
}
