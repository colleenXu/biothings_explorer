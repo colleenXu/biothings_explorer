{
 "cells": [
  {
   "cell_type": "markdown",
   "metadata": {},
   "source": [
    "# Translator Use Case Question 2: Maple Syrup Urine Disease"
   ]
  },
  {
   "cell_type": "markdown",
   "metadata": {},
   "source": [
    "## Introduction"
   ]
  },
  {
   "cell_type": "markdown",
   "metadata": {},
   "source": [
    "The Translator Use Case Question #2 is:    \n",
    "\n",
    "> What genes or proteins may be associated with symptoms of a disease X (such as based on drugs that are currently used to treat that disease, etc)?\n",
    "\n",
    "<br>\n",
    "\n",
    "BioThings Explorer (BTE) can answer two classes of queries -- \"Explain\" and \"Predict\". This Question fits the Predict  template of starting with **a specific biomedical entity** (a `Disease` X) and finding relationships with **one biomedical entity type** (like `PhenotypicFeature` or `Gene`).\n",
    "* Note that currently a `Protein` biomedical entity type is not implemented in BTE. Instead, protein-coding and some non-coding genes are `Genes`. \n",
    "\n",
    "<br>\n",
    "\n",
    "We will use the rare metabolic disease [Maple Syrup Urine Disease (MSUD)](https://ghr.nlm.nih.gov/condition/maple-syrup-urine-disease) as our specific disease of interest. In this disease, the normal process of breaking down branched-chain amino acids (isoleucine, leucine, and valine) from food for energy is impaired. We first address the question above using the query: `Disease` MSUD &rarr; `PhenotypicFeature` &rarr; `Gene`.    \n",
    "* In other words, starting with the Disease MSUD, find entities of type PhenotypicFeature associated with this disease, then find the entities of type Gene associated with those PhenotypicFeatures.       \n",
    "* This query will return a graph object with entities as nodes and relationships as edges. We then use edge provenance information to **filter** the results. For each Gene node, we use the number of unique paths from MSUD (input node) to that node to **score** it. The scores can then be used to sort the results. \n",
    "\n",
    "<br>\n",
    "\n",
    "We then address the question using a different query and the same process: `Disease` MSUD &rarr; `ChemicalSubstance` &rarr; `Gene`.     \n",
    "In other words, starting with the Disease MSUD, find entities of type ChemicalSubstances (which will include drugs) associated with this disease, then find the entities of type Gene associated with those ChemicalSubstances.    "
   ]
  },
  {
   "cell_type": "markdown",
   "metadata": {},
   "source": [
    "## Step 0: Load BTE modules, notebook functions"
   ]
  },
  {
   "cell_type": "code",
   "execution_count": 1,
   "metadata": {
    "ExecuteTime": {
     "end_time": "2020-09-15T00:54:21.273494Z",
     "start_time": "2020-09-15T00:54:20.643189Z"
    }
   },
   "outputs": [],
   "source": [
    "## CX: allows multiple lines of code to print from one code block\n",
    "from IPython.core.interactiveshell import InteractiveShell\n",
    "InteractiveShell.ast_node_interactivity = \"all\"\n",
    "\n",
    "# import modules from biothings_explorer\n",
    "from biothings_explorer.hint import Hint\n",
    "from biothings_explorer.user_query_dispatcher import FindConnection\n",
    "\n",
    "## show time that this notebook was executed \n",
    "from datetime import datetime\n",
    "\n",
    "## packages to work with objects \n",
    "import re"
   ]
  },
  {
   "cell_type": "code",
   "execution_count": 2,
   "metadata": {
    "ExecuteTime": {
     "end_time": "2020-09-15T00:54:21.280266Z",
     "start_time": "2020-09-15T00:54:21.275183Z"
    }
   },
   "outputs": [],
   "source": [
    "## functions to add to modules?\n",
    "def hint_display(query, hint_result):\n",
    "    \"\"\"\n",
    "    show the type, name, number of IDs for all results returned by the query\n",
    "    \n",
    "    :param: query: string used in hint query\n",
    "    :param: hint_result: object returned from hint query, a dictionary of lists of dictionaries\n",
    "    \n",
    "    Returns: None\n",
    "    \"\"\"\n",
    "    ## function needs to be rewritten if it's going to give the exact index of each object within its type \n",
    "    display = ['type', 'name']  ## replace with the parts of the BioThings object you want to see\n",
    "    concise_results = []\n",
    "    for BT_type, result in hint_result.items():\n",
    "        if result:  ## basically if it's not empty\n",
    "            for items in result:\n",
    "                ## number of identifiers per object: number of keys - 4 (name, primary, display, type)\n",
    "                temp = len(items) - 4\n",
    "                concise_results.append((items[display[0]], items[display[1]], \n",
    "                                         str(temp)))\n",
    "                    \n",
    "    print('There are {total} BioThings objects returned for {ht}:'.format(\\\n",
    "                total = len(concise_results), ht = query))\n",
    "    for display_info in concise_results:\n",
    "        print('{0}, {1}, num of IDs: {2}'.format(display_info[0], display_info[1], display_info[2]))"
   ]
  },
  {
   "cell_type": "code",
   "execution_count": 3,
   "metadata": {
    "ExecuteTime": {
     "end_time": "2020-09-15T00:54:21.286906Z",
     "start_time": "2020-09-15T00:54:21.282766Z"
    }
   },
   "outputs": [],
   "source": [
    "def filter_table(df):\n",
    "    \"\"\"\n",
    "    use _source and _method columns to remove rows (paths) from the dataframe\n",
    "    :param: pandas dataframe containing results from BTE FindConnection module, in table form\n",
    "    \n",
    "    Returns: filtered dataframe\n",
    "    \"\"\"\n",
    "    ## note: still needs checking with EXPLAIN queries\n",
    "    ## key is the string to match to column, value is a list of strings to match to column values\n",
    "    filter_out = {'_source': ['SEMMED', 'CTD', 'ctd', 'omia']   \n",
    "#                   '_method': []  ## currently no method stuff I want to filter out\n",
    "                 }\n",
    "    ## SEMMED: text mining results wrong for PhenotypicFeature -> Gene\n",
    "    ## CTD/ctd: results odd for MSUD -> ChemicalSubstance\n",
    "    ## omia: results wrong or discontinued gene IDs for PhenotypicFeature -> Gene\n",
    "    \n",
    "    \n",
    "    df_temp = df.copy()  ## so the original df isn't modified in-place\n",
    "    for key,val in filter_out.items():\n",
    "        ## find columns that match the key string\n",
    "        columns = [i for i in df_temp.columns if key in i]\n",
    "        ## iterate through each column\n",
    "        for col in columns:\n",
    "            ## iterate through each value to take out, check if string CONTAINS match. \n",
    "            ## only keep rows that don't contain the value\n",
    "            for i in val:\n",
    "                df_temp = df_temp[~ df_temp[col].str.contains(i, na = False)]\n",
    "    return df_temp"
   ]
  },
  {
   "cell_type": "code",
   "execution_count": 4,
   "metadata": {
    "ExecuteTime": {
     "end_time": "2020-09-15T00:54:21.297483Z",
     "start_time": "2020-09-15T00:54:21.289196Z"
    }
   },
   "outputs": [],
   "source": [
    "def scoring_output(df, q_type):\n",
    "    \"\"\"\n",
    "    score results based on whether query was Predict or Explain type, number of \n",
    "        intermediate nodes \n",
    "    :param: pandas dataframe containing results from BTE FindConnection module\n",
    "    :param: string describing type of query (Predict or Explain)\n",
    "    \n",
    "    May flatten some edges, because score only counts one edge per \n",
    "        unique predicate / API / method (ignoring source and pubmed col)\n",
    "    \n",
    "    Predict queries: score each output node by counting # of paths\n",
    "        from input nodes to it. Normalize by dividing by maximum\n",
    "        possible # of paths\n",
    "    Explain two-hop (one intermediate) queries: score each intermediate node by \n",
    "        counting # of paths (between input and output nodes) that include it. \n",
    "        Normalize by dividing by maximum possible # of paths    \n",
    "\n",
    "    Explain one-hop (direct) queries: no need to score, prints message\n",
    "    Other Explain queries (many-hops): currently not able to score, prints message     \n",
    "    \n",
    "    Returns: pandas series with scores, index is output_name\n",
    "             or None (one-hop or many-hop Explain query)\n",
    "    \"\"\"\n",
    "    df_temp = df.copy()  ## so no chance to mutate this   \n",
    "    flag_direct = False  ## one-hop query or not\n",
    "    ## use df_col to look quicker into columns\n",
    "    df_col = set(df_temp.columns)\n",
    "    \n",
    "    ## ignore source and pubmed col in looking at unique edges \n",
    "    columns_drop = [col for col in df_col if (('_source' in col) or ('_pubmed' in col))]\n",
    "    df_temp.drop(columns = columns_drop, inplace = True)    \n",
    "    df_temp.drop_duplicates(inplace = True)\n",
    "    \n",
    "    ## check if query is one-hop or not\n",
    "    if \"node1_name\" not in df_col:    ## name for first intermediate node layer\n",
    "        flag_direct = True  \n",
    "    \n",
    "    if q_type == 'Explain':\n",
    "        if flag_direct:   # one hop / no intermediates\n",
    "            print('No valid node scoring for one-hop (direct) Explain queries.')\n",
    "            return None\n",
    "        ## if there are many-hops/intermediate layers\n",
    "        elif \"node2_name\" in df_col:  ## name for 2nd intermed. node layer\n",
    "            print('Cannot currently score many-hop Explain queries.')\n",
    "            return None\n",
    "        else:   ## two-hop / 1 intermediate layer\n",
    "            ## count multi-edges to results (the intermediate node1 col)\n",
    "            scores = df_temp.node1_name.value_counts() \n",
    "            ## to find the maximum-possible number of edges, look at non-result cols\n",
    "            columns_drop = [col for col in df_col if 'node1' in col]\n",
    "            df_temp.drop(columns = columns_drop, inplace = True)\n",
    "            ## now look at number of unique combos for input, edge info, output\n",
    "            df_temp.drop_duplicates(inplace = True)\n",
    "            max_paths = df_temp.shape[0]            \n",
    "            ## normalize scores by dividing each by max number of paths\n",
    "            scores = scores / max_paths\n",
    "            ## return scores as pandas dataframe\n",
    "            return scores.to_frame(name = 'score')            \n",
    "\n",
    "    else:  ## Predict type query\n",
    "        ## count multi-edges to results (the output col)\n",
    "        scores = df_temp.output_name.value_counts()\n",
    "        ## to find the maximum number of multi-edges, look at non-output col\n",
    "        columns_drop = [col for col in df_temp.columns if 'output' in col]\n",
    "        df_temp.drop(columns = columns_drop, inplace = True)\n",
    "        ## now look at number of unique paths possible\n",
    "        df_temp.drop_duplicates(inplace = True)\n",
    "        max_paths = df_temp.shape[0]\n",
    "        ## normalize scores by dividing each by max number of paths\n",
    "        scores = scores / max_paths\n",
    "        ## return scores as pandas dataframe\n",
    "        return scores.to_frame(name = 'score')                 "
   ]
  },
  {
   "cell_type": "code",
   "execution_count": 5,
   "metadata": {
    "ExecuteTime": {
     "end_time": "2020-09-15T00:54:21.303529Z",
     "start_time": "2020-09-15T00:54:21.299303Z"
    }
   },
   "outputs": [
    {
     "name": "stdout",
     "output_type": "stream",
     "text": [
      "The time that this notebook was executed is...\n",
      "Local time (PST, West Coast USA): \n",
      "2020-09-14 17:54:21.300690\n",
      "UTC time: \n",
      "2020-09-15 00:54:21.300802\n"
     ]
    }
   ],
   "source": [
    "## record when cell blocks are executed\n",
    "print('The time that this notebook was executed is...')\n",
    "print('Local time (PST, West Coast USA): ')\n",
    "print(datetime.now())\n",
    "print('UTC time: ')\n",
    "print(datetime.utcnow())"
   ]
  },
  {
   "cell_type": "markdown",
   "metadata": {},
   "source": [
    "## Step 1: Find representation of \"maple syrup urine disease\" in BTE"
   ]
  },
  {
   "cell_type": "markdown",
   "metadata": {},
   "source": [
    "In this step, BioThings Explorer translates our query string \"maple syrup urine disease\"  into BioThings objects, which contain mappings to many common identifiers. We then pick the BioThings object that best matches what we want. \n",
    "\n",
    "Generally, the top result returned by the Hint module for your BioThings type of interest will match what you want, but you should confirm that using the identifiers shown. \n",
    "> BioThings types correspond to children and descendants of [BiologicalEntity](https://biolink.github.io/biolink-model/docs/BiologicalEntity.html) from the [Biolink Model](https://biolink.github.io/biolink-model/docs/), including `Disease` (e.g., \"lupus\"), `ChemicalSubstance` (e.g., \"acetaminophen\"), `Gene` (e.g., \"CDK2\"), `BiologicalProcess` (e.g., \"T cell differentiation\"), and `Pathway` (e.g., \"Citric acid cycle\"). **However, [only a subset of the Biolink BiologicalEntity children / descendants are currently implemented in BTE](https://smart-api.info/portal/translator/metakg)**. More biomedical object types will be available as more knowledge sources (APIs) are added to the system. **Note that the type `BiologicalEntity` means any BioThings type currently implemented in BTE will be accepted.**"
   ]
  },
  {
   "cell_type": "code",
   "execution_count": 6,
   "metadata": {
    "ExecuteTime": {
     "end_time": "2020-09-15T00:54:21.507841Z",
     "start_time": "2020-09-15T00:54:21.305231Z"
    }
   },
   "outputs": [
    {
     "name": "stdout",
     "output_type": "stream",
     "text": [
      "There are 6 BioThings objects returned for maple syrup urine disease:\n",
      "Disease, maple syrup urine disease, num of IDs: 6\n",
      "Disease, maple syrup urine disease, mild variant, num of IDs: 3\n",
      "Disease, pyruvate dehydrogenase E3 deficiency, num of IDs: 4\n",
      "Disease, inborn disorder of branched-chain amino acid metabolism, num of IDs: 3\n",
      "Disease, classic maple syrup urine disease, num of IDs: 3\n",
      "Pathway, Maple Syrup Urine Disease, num of IDs: 0\n"
     ]
    }
   ],
   "source": [
    "ht = Hint()  ## neater way to call this BTE module\n",
    "\n",
    "## the human user gives this input\n",
    "MSUD_starting_str = \"maple syrup urine disease\"\n",
    "\n",
    "MSUD_hint = ht.query(MSUD_starting_str)\n",
    "hint_display(MSUD_starting_str, MSUD_hint)"
   ]
  },
  {
   "cell_type": "markdown",
   "metadata": {},
   "source": [
    "Based on the information above, we'll pick the top `Disease` choice (indexed at 0) for our query. We can look at identifier mappings inside this BioThings object for maple syrup urine disease (MSUD). "
   ]
  },
  {
   "cell_type": "code",
   "execution_count": 7,
   "metadata": {
    "ExecuteTime": {
     "end_time": "2020-09-15T00:54:21.519716Z",
     "start_time": "2020-09-15T00:54:21.509635Z"
    }
   },
   "outputs": [
    {
     "data": {
      "text/plain": [
       "{'MONDO': 'MONDO:0009563',\n",
       " 'DOID': 'DOID:9269',\n",
       " 'UMLS': 'C0024776',\n",
       " 'name': 'maple syrup urine disease',\n",
       " 'MESH': 'D008375',\n",
       " 'OMIM': '248600',\n",
       " 'ORPHANET': '511',\n",
       " 'primary': {'identifier': 'MONDO',\n",
       "  'cls': 'Disease',\n",
       "  'value': 'MONDO:0009563'},\n",
       " 'display': 'MONDO(MONDO:0009563) DOID(DOID:9269) OMIM(248600) ORPHANET(511) UMLS(C0024776) MESH(D008375) name(maple syrup urine disease)',\n",
       " 'type': 'Disease'}"
      ]
     },
     "execution_count": 7,
     "metadata": {},
     "output_type": "execute_result"
    }
   ],
   "source": [
    "## the human user makes this choice, gives this input\n",
    "MSUD_choice_type = 'Disease'\n",
    "MSUD_choice_idx = 0\n",
    "\n",
    "MSUD_hint_obj = MSUD_hint[MSUD_choice_type][MSUD_choice_idx]  \n",
    "MSUD_hint_obj"
   ]
  },
  {
   "cell_type": "markdown",
   "metadata": {},
   "source": [
    "## Step 2: MSUD &rarr; PhenotypicFeature &rarr; Gene"
   ]
  },
  {
   "cell_type": "markdown",
   "metadata": {},
   "source": [
    "### Generating a knowledge graph"
   ]
  },
  {
   "cell_type": "markdown",
   "metadata": {},
   "source": [
    "In this section, we dynamically generate a knowledge graph with paths connecting maple syrup urine disease (MSUD) to genes *using PhenotypicFeature intermediates* (representing the symptoms part of the question).  \n",
    "\n",
    "BTE performs the **query path planning** and **query path execution** by deconstructing the query into individual API calls, executing those API calls, and then assembling the results.\n",
    "\n",
    "The code block below takes 1-2 minutes to run. "
   ]
  },
  {
   "cell_type": "code",
   "execution_count": 8,
   "metadata": {
    "ExecuteTime": {
     "end_time": "2020-09-15T00:55:40.258855Z",
     "start_time": "2020-09-15T00:54:21.522962Z"
    }
   },
   "outputs": [],
   "source": [
    "## the human user gives this input\n",
    "q1_output_type = 'Gene'\n",
    "q1_intermediate = 'PhenotypicFeature'\n",
    "\n",
    "q1 = FindConnection(input_obj = MSUD_hint_obj,\\\n",
    "                     output_obj = q1_output_type, \\\n",
    "                    intermediate_nodes = q1_intermediate)\n",
    "q1.connect(verbose = False)"
   ]
  },
  {
   "cell_type": "code",
   "execution_count": 9,
   "metadata": {
    "ExecuteTime": {
     "end_time": "2020-09-15T00:55:40.569065Z",
     "start_time": "2020-09-15T00:55:40.261212Z"
    }
   },
   "outputs": [],
   "source": [
    "# q1_r_graph = q1.fc.G  ## for changing the graph object to reflect the table\n",
    "q1_r_paths_table = q1.display_table_view()\n",
    "\n",
    "q1_type = re.findall(\"dispatcher.([a-zA-Z]+)'\", str(type(q1.fc)))\n",
    "q1_type = \"\".join(q1_type)  ## convert to string\n",
    "\n",
    "q1 = None  ## clear memory"
   ]
  },
  {
   "cell_type": "markdown",
   "metadata": {},
   "source": [
    "We can see the number of PhenotypicFeatures that were linked to both MSUD and to a Gene, the number of Genes returned as output nodes, and the total number of paths from MSUD to Gene nodes. "
   ]
  },
  {
   "cell_type": "code",
   "execution_count": 10,
   "metadata": {
    "ExecuteTime": {
     "end_time": "2020-09-15T00:55:40.578214Z",
     "start_time": "2020-09-15T00:55:40.571127Z"
    }
   },
   "outputs": [
    {
     "name": "stdout",
     "output_type": "stream",
     "text": [
      "There are 27 unique PhenotypicFeatures for maple syrup urine disease.\n",
      "There are 1561 unique Genes linked to those PhenotypicFeatures.\n",
      "There are 7964 unique paths.\n"
     ]
    }
   ],
   "source": [
    "## show number of unique intermediate nodes\n",
    "print(\"There are {0} unique {1}s for {2}.\".format( \\\n",
    "    q1_r_paths_table.node1_name.nunique(), q1_intermediate, MSUD_starting_str))\n",
    "\n",
    "## show number of unique output nodes\n",
    "print(\"There are {0} unique Genes linked to those {1}s.\".format( \\\n",
    "    q1_r_paths_table.output_name.nunique(), q1_intermediate))\n",
    "\n",
    "## show number of paths from MSUD to genes\n",
    "print(\"There are {0} unique paths.\".format( \\\n",
    "    q1_r_paths_table.shape[0]))"
   ]
  },
  {
   "cell_type": "markdown",
   "metadata": {},
   "source": [
    "### Filtering and scoring"
   ]
  },
  {
   "cell_type": "markdown",
   "metadata": {},
   "source": [
    "Filtering involves using edge provenance, like the source this relationship came from and the method used to make this association, to filter out edges (removing nodes in the process). \n",
    "\n",
    "However, in this particular example, either no edges or only a few edges will be removed (we consider almost all the information reliable). "
   ]
  },
  {
   "cell_type": "code",
   "execution_count": 11,
   "metadata": {
    "ExecuteTime": {
     "end_time": "2020-09-15T00:55:40.644626Z",
     "start_time": "2020-09-15T00:55:40.580077Z"
    }
   },
   "outputs": [
    {
     "name": "stdout",
     "output_type": "stream",
     "text": [
      "There are 7960 unique paths.\n"
     ]
    }
   ],
   "source": [
    "q1_r_paths_table = filter_table(q1_r_paths_table)\n",
    "\n",
    "## show number of paths from MSUD to genes\n",
    "print(\"There are {0} unique paths.\".format( \\\n",
    "    q1_r_paths_table.shape[0]))"
   ]
  },
  {
   "cell_type": "markdown",
   "metadata": {},
   "source": [
    "The scoring process for Predict queries (the type of query we're using now): \n",
    "\n",
    "1. To score individual Gene nodes, we first take a copy of the knowledge graph (KG) and remove some multi-edges. \n",
    "    * Each edge has predicate, API, method, source, and pubmed information. For scoring purposes, we will ignore pubmed and source information because APIs handle this information differently (returning multiple edges or single edges). \n",
    "2. We then count the number of paths from the MSUD node to each Gene node.        \n",
    "3. Finally, we \"normalize\" the score by dividing those counts by maximum-possible number of paths from the MSUD node to a Gene node.\n",
    "\n",
    "We can then see the top-scored nodes. A score of closer to 1 means that the many PhenotypicFeatures and relationships link MSUD and the Gene node. A score closer to 0 means that only a few PhenotypicFeatures and relationships link MSUD and the Gene node. "
   ]
  },
  {
   "cell_type": "code",
   "execution_count": 12,
   "metadata": {
    "ExecuteTime": {
     "end_time": "2020-09-15T00:55:40.698173Z",
     "start_time": "2020-09-15T00:55:40.646685Z"
    }
   },
   "outputs": [
    {
     "data": {
      "text/html": [
       "<div>\n",
       "<style scoped>\n",
       "    .dataframe tbody tr th:only-of-type {\n",
       "        vertical-align: middle;\n",
       "    }\n",
       "\n",
       "    .dataframe tbody tr th {\n",
       "        vertical-align: top;\n",
       "    }\n",
       "\n",
       "    .dataframe thead th {\n",
       "        text-align: right;\n",
       "    }\n",
       "</style>\n",
       "<table border=\"1\" class=\"dataframe\">\n",
       "  <thead>\n",
       "    <tr style=\"text-align: right;\">\n",
       "      <th></th>\n",
       "      <th>score</th>\n",
       "    </tr>\n",
       "  </thead>\n",
       "  <tbody>\n",
       "    <tr>\n",
       "      <th>BCKDHA</th>\n",
       "      <td>0.871795</td>\n",
       "    </tr>\n",
       "    <tr>\n",
       "      <th>DBT</th>\n",
       "      <td>0.871795</td>\n",
       "    </tr>\n",
       "    <tr>\n",
       "      <th>BCKDHB</th>\n",
       "      <td>0.846154</td>\n",
       "    </tr>\n",
       "    <tr>\n",
       "      <th>DLD</th>\n",
       "      <td>0.615385</td>\n",
       "    </tr>\n",
       "    <tr>\n",
       "      <th>NDUFV1</th>\n",
       "      <td>0.551282</td>\n",
       "    </tr>\n",
       "    <tr>\n",
       "      <th>NDUFS1</th>\n",
       "      <td>0.512821</td>\n",
       "    </tr>\n",
       "    <tr>\n",
       "      <th>NDUFA1</th>\n",
       "      <td>0.448718</td>\n",
       "    </tr>\n",
       "    <tr>\n",
       "      <th>NDUFS7</th>\n",
       "      <td>0.448718</td>\n",
       "    </tr>\n",
       "    <tr>\n",
       "      <th>PCCB</th>\n",
       "      <td>0.448718</td>\n",
       "    </tr>\n",
       "    <tr>\n",
       "      <th>PCCA</th>\n",
       "      <td>0.448718</td>\n",
       "    </tr>\n",
       "  </tbody>\n",
       "</table>\n",
       "</div>"
      ],
      "text/plain": [
       "           score\n",
       "BCKDHA  0.871795\n",
       "DBT     0.871795\n",
       "BCKDHB  0.846154\n",
       "DLD     0.615385\n",
       "NDUFV1  0.551282\n",
       "NDUFS1  0.512821\n",
       "NDUFA1  0.448718\n",
       "NDUFS7  0.448718\n",
       "PCCB    0.448718\n",
       "PCCA    0.448718"
      ]
     },
     "execution_count": 12,
     "metadata": {},
     "output_type": "execute_result"
    }
   ],
   "source": [
    "## create scoring table for Genes (output nodes)\n",
    "q1_scoring = scoring_output(q1_r_paths_table, q1_type)\n",
    "\n",
    "q1_scoring.head(10)"
   ]
  },
  {
   "cell_type": "markdown",
   "metadata": {},
   "source": [
    "Different knowledge sources (APIs) were called in different parts of the query. \n",
    "\n",
    "In the first part of the query (maple syrup urine disease &rarr; PhenotypicFeature), the following APIs returned results and the following predicates (semantic relationships) were found."
   ]
  },
  {
   "cell_type": "code",
   "execution_count": 13,
   "metadata": {
    "ExecuteTime": {
     "end_time": "2020-09-15T00:55:40.712751Z",
     "start_time": "2020-09-15T00:55:40.700037Z"
    }
   },
   "outputs": [
    {
     "data": {
      "text/html": [
       "<div>\n",
       "<style scoped>\n",
       "    .dataframe tbody tr th:only-of-type {\n",
       "        vertical-align: middle;\n",
       "    }\n",
       "\n",
       "    .dataframe tbody tr th {\n",
       "        vertical-align: top;\n",
       "    }\n",
       "\n",
       "    .dataframe thead th {\n",
       "        text-align: right;\n",
       "    }\n",
       "</style>\n",
       "<table border=\"1\" class=\"dataframe\">\n",
       "  <thead>\n",
       "    <tr style=\"text-align: right;\">\n",
       "      <th></th>\n",
       "      <th>pred1_api</th>\n",
       "      <th>pred1</th>\n",
       "    </tr>\n",
       "  </thead>\n",
       "  <tbody>\n",
       "    <tr>\n",
       "      <th>0</th>\n",
       "      <td>BioLink API</td>\n",
       "      <td>has_phenotype</td>\n",
       "    </tr>\n",
       "    <tr>\n",
       "      <th>2</th>\n",
       "      <td>mydisease.info API</td>\n",
       "      <td>related_to</td>\n",
       "    </tr>\n",
       "  </tbody>\n",
       "</table>\n",
       "</div>"
      ],
      "text/plain": [
       "            pred1_api          pred1\n",
       "0         BioLink API  has_phenotype\n",
       "2  mydisease.info API     related_to"
      ]
     },
     "execution_count": 13,
     "metadata": {},
     "output_type": "execute_result"
    }
   ],
   "source": [
    "## show that the APIs use different predicates\n",
    "q1_r_paths_table[['pred1_api', 'pred1']].drop_duplicates().sort_values(by = ['pred1_api', 'pred1'])"
   ]
  },
  {
   "cell_type": "markdown",
   "metadata": {},
   "source": [
    "In the second part of the query (PhenotypicFeatures &rarr; Gene), the following APIs returned results and the following predicates (semantic relationships) were found."
   ]
  },
  {
   "cell_type": "code",
   "execution_count": 14,
   "metadata": {
    "ExecuteTime": {
     "end_time": "2020-09-15T00:55:40.728372Z",
     "start_time": "2020-09-15T00:55:40.715193Z"
    }
   },
   "outputs": [
    {
     "data": {
      "text/html": [
       "<div>\n",
       "<style scoped>\n",
       "    .dataframe tbody tr th:only-of-type {\n",
       "        vertical-align: middle;\n",
       "    }\n",
       "\n",
       "    .dataframe tbody tr th {\n",
       "        vertical-align: top;\n",
       "    }\n",
       "\n",
       "    .dataframe thead th {\n",
       "        text-align: right;\n",
       "    }\n",
       "</style>\n",
       "<table border=\"1\" class=\"dataframe\">\n",
       "  <thead>\n",
       "    <tr style=\"text-align: right;\">\n",
       "      <th></th>\n",
       "      <th>pred2_api</th>\n",
       "      <th>pred2</th>\n",
       "    </tr>\n",
       "  </thead>\n",
       "  <tbody>\n",
       "    <tr>\n",
       "      <th>7741</th>\n",
       "      <td>BioLink API</td>\n",
       "      <td>contributes_to_condition</td>\n",
       "    </tr>\n",
       "    <tr>\n",
       "      <th>0</th>\n",
       "      <td>BioLink API</td>\n",
       "      <td>has_phenotype</td>\n",
       "    </tr>\n",
       "    <tr>\n",
       "      <th>4</th>\n",
       "      <td>EBIgene2phenotype API</td>\n",
       "      <td>related_to</td>\n",
       "    </tr>\n",
       "  </tbody>\n",
       "</table>\n",
       "</div>"
      ],
      "text/plain": [
       "                  pred2_api                     pred2\n",
       "7741            BioLink API  contributes_to_condition\n",
       "0               BioLink API             has_phenotype\n",
       "4     EBIgene2phenotype API                related_to"
      ]
     },
     "execution_count": 14,
     "metadata": {},
     "output_type": "execute_result"
    }
   ],
   "source": [
    "## show that the APIs use different predicates\n",
    "q1_r_paths_table[['pred2_api', 'pred2']].drop_duplicates().sort_values(by = ['pred2_api', 'pred2'])"
   ]
  },
  {
   "cell_type": "markdown",
   "metadata": {},
   "source": [
    "[TO DO: Actual code depends on graph object (ReasonerStd object or Networkx MultiDiGraph) used.]\n",
    "\n",
    "We then add the scores and score provenance information to the graph object that will be returned to the ARS. These stored as node attributes on the results (`Gene`-type nodes) of the \"answer graph\". "
   ]
  },
  {
   "cell_type": "code",
   "execution_count": 15,
   "metadata": {
    "ExecuteTime": {
     "end_time": "2020-09-15T00:55:40.732607Z",
     "start_time": "2020-09-15T00:55:40.730383Z"
    }
   },
   "outputs": [],
   "source": [
    "# nx.set_node_attributes(q1_r_graph, values = q1_scoring.to_dict(), \\\n",
    "#                        name = 'score')\n",
    "# nx.set_node_attributes(q1_r_graph, values = '(0-1]', name = 'score_range')\n",
    "# nx.set_node_attributes(q1_r_graph, values = 'normalized path count', name = 'score_method')\n",
    "# ## what is a good score, larger or smaller? \n",
    "# nx.set_node_attributes(q1_r_graph, values = 'larger', name = 'score_better_direction')  \n",
    "\n",
    "# ## example of Gene node object with score-related attributes\n",
    "# q1_r_graph.nodes()['NDUFS1']"
   ]
  },
  {
   "cell_type": "markdown",
   "metadata": {},
   "source": [
    "## Step 3: MSUD &rarr; ChemicalSubstance &rarr; Gene"
   ]
  },
  {
   "cell_type": "markdown",
   "metadata": {},
   "source": [
    "### Generating a knowledge graph"
   ]
  },
  {
   "cell_type": "markdown",
   "metadata": {},
   "source": [
    "In this section, we dynamically generate a knowledge graph with paths connecting maple syrup urine disease (MSUD) to genes *with ChemicalSubstance intermediates* (representing the drugs part of the question).  \n",
    "\n",
    "BTE performs the **query path planning** and **query path execution** by deconstructing the query into individual API calls, executing those API calls, and then assembling the results.\n",
    "\n",
    "The following code block takes about 30 seconds to run. "
   ]
  },
  {
   "cell_type": "code",
   "execution_count": 16,
   "metadata": {
    "ExecuteTime": {
     "end_time": "2020-09-15T00:56:10.246850Z",
     "start_time": "2020-09-15T00:55:40.734417Z"
    }
   },
   "outputs": [
    {
     "name": "stdout",
     "output_type": "stream",
     "text": [
      "API 4.1 pharos failed\n"
     ]
    }
   ],
   "source": [
    "## the human user gives this input\n",
    "q2_output_type = 'Gene'\n",
    "q2_intermediate = 'ChemicalSubstance'\n",
    "\n",
    "q2 = FindConnection(input_obj = MSUD_hint_obj,\\\n",
    "                     output_obj = q2_output_type, \\\n",
    "                    intermediate_nodes = q2_intermediate)\n",
    "q2.connect(verbose = False)"
   ]
  },
  {
   "cell_type": "code",
   "execution_count": 17,
   "metadata": {
    "ExecuteTime": {
     "end_time": "2020-09-15T00:56:12.257296Z",
     "start_time": "2020-09-15T00:56:10.248661Z"
    }
   },
   "outputs": [],
   "source": [
    "# q2_r_graph = q2.fc.G ## for changing the graph object to reflect the table\n",
    "q2_r_paths_table = q2.display_table_view()\n",
    "\n",
    "q2_type = re.findall(\"dispatcher.([a-zA-Z]+)'\", str(type(q2.fc)))\n",
    "q2_type = \"\".join(q2_type)  ## convert to string\n",
    "\n",
    "q2 = None ## clear memory"
   ]
  },
  {
   "cell_type": "markdown",
   "metadata": {},
   "source": [
    "We can see the number of ChemicalSubstances that were linked to both MSUD and to a Gene, the number of Genes returned as output nodes, and the total number of paths from MSUD to Gene nodes. "
   ]
  },
  {
   "cell_type": "code",
   "execution_count": 18,
   "metadata": {
    "ExecuteTime": {
     "end_time": "2020-09-15T00:56:12.274819Z",
     "start_time": "2020-09-15T00:56:12.259144Z"
    }
   },
   "outputs": [
    {
     "name": "stdout",
     "output_type": "stream",
     "text": [
      "There are 58 unique ChemicalSubstances for maple syrup urine disease.\n",
      "There are 11847 unique Genes linked to those ChemicalSubstances.\n",
      "There are 62968 unique paths.\n"
     ]
    }
   ],
   "source": [
    "## show number of unique intermediate nodes\n",
    "print(\"There are {0} unique {1}s for {2}.\".format( \\\n",
    "    q2_r_paths_table.node1_name.nunique(), q2_intermediate, MSUD_starting_str))\n",
    "\n",
    "## show number of unique output nodes\n",
    "print(\"There are {0} unique Genes linked to those {1}s.\".format( \\\n",
    "    q2_r_paths_table.output_name.nunique(), q2_intermediate))\n",
    "\n",
    "## show number of paths from MSUD to genes\n",
    "print(\"There are {0} unique paths.\".format( \\\n",
    "    q2_r_paths_table.shape[0]))"
   ]
  },
  {
   "cell_type": "markdown",
   "metadata": {},
   "source": [
    "### Filtering and scoring"
   ]
  },
  {
   "cell_type": "markdown",
   "metadata": {},
   "source": [
    "Filtering involves using edge provenance, like the source this relationship came from and the method used to make this association, to filter out edges (removing nodes in the process). "
   ]
  },
  {
   "cell_type": "code",
   "execution_count": 19,
   "metadata": {
    "ExecuteTime": {
     "end_time": "2020-09-15T00:56:12.364602Z",
     "start_time": "2020-09-15T00:56:12.276930Z"
    }
   },
   "outputs": [],
   "source": [
    "q2_r_paths_table = filter_table(q2_r_paths_table)"
   ]
  },
  {
   "cell_type": "markdown",
   "metadata": {},
   "source": [
    "After filtering, there are fewer results in the answer knowledge graph. "
   ]
  },
  {
   "cell_type": "code",
   "execution_count": 20,
   "metadata": {
    "ExecuteTime": {
     "end_time": "2020-09-15T00:56:12.372279Z",
     "start_time": "2020-09-15T00:56:12.366420Z"
    }
   },
   "outputs": [
    {
     "name": "stdout",
     "output_type": "stream",
     "text": [
      "There are 30 unique ChemicalSubstances for maple syrup urine disease.\n",
      "There are 1140 unique Genes linked to those ChemicalSubstances.\n",
      "There are 1925 unique paths.\n"
     ]
    }
   ],
   "source": [
    "## show number of unique intermediate nodes\n",
    "print(\"There are {0} unique {1}s for {2}.\".format( \\\n",
    "    q2_r_paths_table.node1_name.nunique(), q2_intermediate, MSUD_starting_str))\n",
    "\n",
    "## show number of unique output nodes\n",
    "print(\"There are {0} unique Genes linked to those {1}s.\".format( \\\n",
    "    q2_r_paths_table.output_name.nunique(), q2_intermediate))\n",
    "\n",
    "## show number of paths from MSUD to genes\n",
    "print(\"There are {0} unique paths.\".format( \\\n",
    "    q2_r_paths_table.shape[0]))"
   ]
  },
  {
   "cell_type": "markdown",
   "metadata": {},
   "source": [
    "The scoring process for Predict queries (the type of query we're using now): \n",
    "\n",
    "1. To score individual Gene nodes, we first take a copy of the knowledge graph (KG) and remove some multi-edges. \n",
    "    * Each edge has predicate, API, method, source, and pubmed information. For scoring purposes, we will ignore pubmed and source information because APIs handle this information differently (returning multiple edges or single edges). \n",
    "2. We then count the number of paths from the MSUD node to each Gene node.        \n",
    "3. Finally, we \"normalize\" the score by dividing those counts by maximum-possible number of paths from the MSUD node to a Gene node.\n",
    "\n",
    "We can then see the top-scored nodes. A score of closer to 1 means that the many ChemicalSubstances and relationships link MSUD and the Gene node. A score closer to 0 means that only a few ChemicalSubstances and relationships link MSUD and the Gene node. "
   ]
  },
  {
   "cell_type": "code",
   "execution_count": 21,
   "metadata": {
    "ExecuteTime": {
     "end_time": "2020-09-15T00:56:12.396400Z",
     "start_time": "2020-09-15T00:56:12.374326Z"
    }
   },
   "outputs": [
    {
     "data": {
      "text/html": [
       "<div>\n",
       "<style scoped>\n",
       "    .dataframe tbody tr th:only-of-type {\n",
       "        vertical-align: middle;\n",
       "    }\n",
       "\n",
       "    .dataframe tbody tr th {\n",
       "        vertical-align: top;\n",
       "    }\n",
       "\n",
       "    .dataframe thead th {\n",
       "        text-align: right;\n",
       "    }\n",
       "</style>\n",
       "<table border=\"1\" class=\"dataframe\">\n",
       "  <thead>\n",
       "    <tr style=\"text-align: right;\">\n",
       "      <th></th>\n",
       "      <th>score</th>\n",
       "    </tr>\n",
       "  </thead>\n",
       "  <tbody>\n",
       "    <tr>\n",
       "      <th>CAT</th>\n",
       "      <td>0.117117</td>\n",
       "    </tr>\n",
       "    <tr>\n",
       "      <th>BCAT1</th>\n",
       "      <td>0.108108</td>\n",
       "    </tr>\n",
       "    <tr>\n",
       "      <th>BCAT2</th>\n",
       "      <td>0.099099</td>\n",
       "    </tr>\n",
       "    <tr>\n",
       "      <th>PPIB</th>\n",
       "      <td>0.099099</td>\n",
       "    </tr>\n",
       "    <tr>\n",
       "      <th>INS</th>\n",
       "      <td>0.081081</td>\n",
       "    </tr>\n",
       "    <tr>\n",
       "      <th>CS</th>\n",
       "      <td>0.081081</td>\n",
       "    </tr>\n",
       "    <tr>\n",
       "      <th>CASP14</th>\n",
       "      <td>0.072072</td>\n",
       "    </tr>\n",
       "    <tr>\n",
       "      <th>TLN1</th>\n",
       "      <td>0.072072</td>\n",
       "    </tr>\n",
       "    <tr>\n",
       "      <th>SLC25A5</th>\n",
       "      <td>0.063063</td>\n",
       "    </tr>\n",
       "    <tr>\n",
       "      <th>PTS</th>\n",
       "      <td>0.063063</td>\n",
       "    </tr>\n",
       "  </tbody>\n",
       "</table>\n",
       "</div>"
      ],
      "text/plain": [
       "            score\n",
       "CAT      0.117117\n",
       "BCAT1    0.108108\n",
       "BCAT2    0.099099\n",
       "PPIB     0.099099\n",
       "INS      0.081081\n",
       "CS       0.081081\n",
       "CASP14   0.072072\n",
       "TLN1     0.072072\n",
       "SLC25A5  0.063063\n",
       "PTS      0.063063"
      ]
     },
     "execution_count": 21,
     "metadata": {},
     "output_type": "execute_result"
    }
   ],
   "source": [
    "## create scoring table for Genes (output nodes)\n",
    "q2_scoring = scoring_output(q2_r_paths_table, q2_type)\n",
    "\n",
    "q2_scoring.head(10)"
   ]
  },
  {
   "cell_type": "markdown",
   "metadata": {},
   "source": [
    "Different knowledge sources (APIs) were called in different parts of the query. \n",
    "\n",
    "In the first part of the query (maple syrup urine disease &rarr; ChemicalSubstance), the following APIs returned results and the following predicates (semantic relationships) were found."
   ]
  },
  {
   "cell_type": "code",
   "execution_count": 22,
   "metadata": {
    "ExecuteTime": {
     "end_time": "2020-09-15T00:56:12.411715Z",
     "start_time": "2020-09-15T00:56:12.399283Z"
    }
   },
   "outputs": [
    {
     "data": {
      "text/html": [
       "<div>\n",
       "<style scoped>\n",
       "    .dataframe tbody tr th:only-of-type {\n",
       "        vertical-align: middle;\n",
       "    }\n",
       "\n",
       "    .dataframe tbody tr th {\n",
       "        vertical-align: top;\n",
       "    }\n",
       "\n",
       "    .dataframe thead th {\n",
       "        text-align: right;\n",
       "    }\n",
       "</style>\n",
       "<table border=\"1\" class=\"dataframe\">\n",
       "  <thead>\n",
       "    <tr style=\"text-align: right;\">\n",
       "      <th></th>\n",
       "      <th>pred1_api</th>\n",
       "      <th>pred1</th>\n",
       "    </tr>\n",
       "  </thead>\n",
       "  <tbody>\n",
       "    <tr>\n",
       "      <th>5166</th>\n",
       "      <td>Automat CORD19 Scigraph API</td>\n",
       "      <td>related_to</td>\n",
       "    </tr>\n",
       "    <tr>\n",
       "      <th>5148</th>\n",
       "      <td>Automat HMDB API</td>\n",
       "      <td>related_to</td>\n",
       "    </tr>\n",
       "  </tbody>\n",
       "</table>\n",
       "</div>"
      ],
      "text/plain": [
       "                        pred1_api       pred1\n",
       "5166  Automat CORD19 Scigraph API  related_to\n",
       "5148             Automat HMDB API  related_to"
      ]
     },
     "execution_count": 22,
     "metadata": {},
     "output_type": "execute_result"
    }
   ],
   "source": [
    "## show that the APIs use different predicates, one each\n",
    "q2_r_paths_table[['pred1_api', 'pred1']].drop_duplicates().sort_values(by = ['pred1_api', 'pred1'])"
   ]
  },
  {
   "cell_type": "markdown",
   "metadata": {},
   "source": [
    "In the second part of the query (ChemicalSubstance &rarr; Gene), the following APIs returned results and the following predicates (semantic relationships) were found."
   ]
  },
  {
   "cell_type": "code",
   "execution_count": 23,
   "metadata": {
    "ExecuteTime": {
     "end_time": "2020-09-15T00:56:12.454996Z",
     "start_time": "2020-09-15T00:56:12.442764Z"
    }
   },
   "outputs": [
    {
     "data": {
      "text/html": [
       "<div>\n",
       "<style scoped>\n",
       "    .dataframe tbody tr th:only-of-type {\n",
       "        vertical-align: middle;\n",
       "    }\n",
       "\n",
       "    .dataframe tbody tr th {\n",
       "        vertical-align: top;\n",
       "    }\n",
       "\n",
       "    .dataframe thead th {\n",
       "        text-align: right;\n",
       "    }\n",
       "</style>\n",
       "<table border=\"1\" class=\"dataframe\">\n",
       "  <thead>\n",
       "    <tr style=\"text-align: right;\">\n",
       "      <th></th>\n",
       "      <th>pred2_api</th>\n",
       "      <th>pred2</th>\n",
       "    </tr>\n",
       "  </thead>\n",
       "  <tbody>\n",
       "    <tr>\n",
       "      <th>19162</th>\n",
       "      <td>Automat CHEMBIO API</td>\n",
       "      <td>related_to</td>\n",
       "    </tr>\n",
       "    <tr>\n",
       "      <th>5254</th>\n",
       "      <td>Automat CORD19 Scibite API</td>\n",
       "      <td>related_to</td>\n",
       "    </tr>\n",
       "    <tr>\n",
       "      <th>5252</th>\n",
       "      <td>Automat CORD19 Scigraph API</td>\n",
       "      <td>related_to</td>\n",
       "    </tr>\n",
       "    <tr>\n",
       "      <th>7661</th>\n",
       "      <td>Automat HMDB API</td>\n",
       "      <td>related_to</td>\n",
       "    </tr>\n",
       "    <tr>\n",
       "      <th>22615</th>\n",
       "      <td>Automat PHAROS API</td>\n",
       "      <td>related_to</td>\n",
       "    </tr>\n",
       "    <tr>\n",
       "      <th>5148</th>\n",
       "      <td>CORD Chemical API</td>\n",
       "      <td>related_to</td>\n",
       "    </tr>\n",
       "    <tr>\n",
       "      <th>6073</th>\n",
       "      <td>DGIdb API</td>\n",
       "      <td>physically_interacts_with</td>\n",
       "    </tr>\n",
       "    <tr>\n",
       "      <th>22892</th>\n",
       "      <td>MyChem.info API</td>\n",
       "      <td>metabolic_processing_affected_by</td>\n",
       "    </tr>\n",
       "    <tr>\n",
       "      <th>6072</th>\n",
       "      <td>MyChem.info API</td>\n",
       "      <td>physically_interacts_with</td>\n",
       "    </tr>\n",
       "  </tbody>\n",
       "</table>\n",
       "</div>"
      ],
      "text/plain": [
       "                         pred2_api                             pred2\n",
       "19162          Automat CHEMBIO API                        related_to\n",
       "5254    Automat CORD19 Scibite API                        related_to\n",
       "5252   Automat CORD19 Scigraph API                        related_to\n",
       "7661              Automat HMDB API                        related_to\n",
       "22615           Automat PHAROS API                        related_to\n",
       "5148             CORD Chemical API                        related_to\n",
       "6073                     DGIdb API         physically_interacts_with\n",
       "22892              MyChem.info API  metabolic_processing_affected_by\n",
       "6072               MyChem.info API         physically_interacts_with"
      ]
     },
     "execution_count": 23,
     "metadata": {},
     "output_type": "execute_result"
    }
   ],
   "source": [
    "## show that the APIs use different predicates\n",
    "q2_r_paths_table[['pred2_api', 'pred2']].drop_duplicates().sort_values(by = ['pred2_api', 'pred2'])"
   ]
  },
  {
   "cell_type": "markdown",
   "metadata": {},
   "source": [
    "[TO DO: Actual code depends on graph object (ReasonerStd object or Networkx MultiDiGraph) used.]\n",
    "\n",
    "We then add the scores and score provenance information to the graph object that will be returned to the ARS. These stored as node attributes on the Gene nodes of the \"answer graph\". "
   ]
  },
  {
   "cell_type": "code",
   "execution_count": 24,
   "metadata": {
    "ExecuteTime": {
     "end_time": "2020-09-15T00:56:12.463233Z",
     "start_time": "2020-09-15T00:56:12.459595Z"
    }
   },
   "outputs": [],
   "source": [
    "# nx.set_node_attributes(q2_r_graph, values = q2_scoring.to_dict(), \\\n",
    "#                        name = 'score')\n",
    "# nx.set_node_attributes(q2_r_graph, values = '(0-1]', name = 'score_range')\n",
    "# nx.set_node_attributes(q2_r_graph, values = 'normalized path count', name = 'score_method')\n",
    "# ## what is a good score, larger or smaller? \n",
    "# nx.set_node_attributes(q2_r_graph, values = 'larger', name = 'score_better_direction')  \n",
    "\n",
    "# ## example of Gene node object with score-related attributes\n",
    "# q2_r_graph.nodes()['BCAT2']"
   ]
  },
  {
   "cell_type": "markdown",
   "metadata": {},
   "source": [
    "## Compare answers to known genes"
   ]
  },
  {
   "cell_type": "markdown",
   "metadata": {},
   "source": [
    "[From the NIH](https://ghr.nlm.nih.gov/condition/maple-syrup-urine-disease#genes), maple syrup urine disease (MSUD) is caused by mutations in the genes **BCKDHA**, **BCKDHB**, and **DBT**. \n",
    "\n",
    "These three genes are the **top-scored results of the query `Disease` MSUD &rarr; `PhenotypicFeature` &rarr; `Gene`**. The information supporting this answer came from multiple APIs. "
   ]
  },
  {
   "cell_type": "code",
   "execution_count": 25,
   "metadata": {
    "ExecuteTime": {
     "end_time": "2020-09-15T00:56:12.469593Z",
     "start_time": "2020-09-15T00:56:12.465877Z"
    }
   },
   "outputs": [],
   "source": [
    "known_answers = ['BCKDHA', 'BCKDHB', 'DBT']"
   ]
  },
  {
   "cell_type": "code",
   "execution_count": 26,
   "metadata": {
    "ExecuteTime": {
     "end_time": "2020-09-15T00:56:12.501470Z",
     "start_time": "2020-09-15T00:56:12.473196Z"
    }
   },
   "outputs": [
    {
     "name": "stdout",
     "output_type": "stream",
     "text": [
      "Scoring from the MSUD -> PhenotypicFeature -> Gene query\n"
     ]
    },
    {
     "data": {
      "text/html": [
       "<div>\n",
       "<style scoped>\n",
       "    .dataframe tbody tr th:only-of-type {\n",
       "        vertical-align: middle;\n",
       "    }\n",
       "\n",
       "    .dataframe tbody tr th {\n",
       "        vertical-align: top;\n",
       "    }\n",
       "\n",
       "    .dataframe thead th {\n",
       "        text-align: right;\n",
       "    }\n",
       "</style>\n",
       "<table border=\"1\" class=\"dataframe\">\n",
       "  <thead>\n",
       "    <tr style=\"text-align: right;\">\n",
       "      <th></th>\n",
       "      <th>output_name</th>\n",
       "      <th>score</th>\n",
       "    </tr>\n",
       "  </thead>\n",
       "  <tbody>\n",
       "    <tr>\n",
       "      <th>0</th>\n",
       "      <td>BCKDHA</td>\n",
       "      <td>0.871795</td>\n",
       "    </tr>\n",
       "    <tr>\n",
       "      <th>1</th>\n",
       "      <td>DBT</td>\n",
       "      <td>0.871795</td>\n",
       "    </tr>\n",
       "    <tr>\n",
       "      <th>2</th>\n",
       "      <td>BCKDHB</td>\n",
       "      <td>0.846154</td>\n",
       "    </tr>\n",
       "  </tbody>\n",
       "</table>\n",
       "</div>"
      ],
      "text/plain": [
       "  output_name     score\n",
       "0      BCKDHA  0.871795\n",
       "1         DBT  0.871795\n",
       "2      BCKDHB  0.846154"
      ]
     },
     "execution_count": 26,
     "metadata": {},
     "output_type": "execute_result"
    },
    {
     "data": {
      "text/html": [
       "<div>\n",
       "<style scoped>\n",
       "    .dataframe tbody tr th:only-of-type {\n",
       "        vertical-align: middle;\n",
       "    }\n",
       "\n",
       "    .dataframe tbody tr th {\n",
       "        vertical-align: top;\n",
       "    }\n",
       "\n",
       "    .dataframe thead th {\n",
       "        text-align: right;\n",
       "    }\n",
       "</style>\n",
       "<table border=\"1\" class=\"dataframe\">\n",
       "  <thead>\n",
       "    <tr style=\"text-align: right;\">\n",
       "      <th></th>\n",
       "      <th>pred1_api</th>\n",
       "    </tr>\n",
       "  </thead>\n",
       "  <tbody>\n",
       "    <tr>\n",
       "      <th>52</th>\n",
       "      <td>BioLink API</td>\n",
       "    </tr>\n",
       "    <tr>\n",
       "      <th>54</th>\n",
       "      <td>mydisease.info API</td>\n",
       "    </tr>\n",
       "  </tbody>\n",
       "</table>\n",
       "</div>"
      ],
      "text/plain": [
       "             pred1_api\n",
       "52         BioLink API\n",
       "54  mydisease.info API"
      ]
     },
     "execution_count": 26,
     "metadata": {},
     "output_type": "execute_result"
    },
    {
     "data": {
      "text/html": [
       "<div>\n",
       "<style scoped>\n",
       "    .dataframe tbody tr th:only-of-type {\n",
       "        vertical-align: middle;\n",
       "    }\n",
       "\n",
       "    .dataframe tbody tr th {\n",
       "        vertical-align: top;\n",
       "    }\n",
       "\n",
       "    .dataframe thead th {\n",
       "        text-align: right;\n",
       "    }\n",
       "</style>\n",
       "<table border=\"1\" class=\"dataframe\">\n",
       "  <thead>\n",
       "    <tr style=\"text-align: right;\">\n",
       "      <th></th>\n",
       "      <th>pred2_api</th>\n",
       "    </tr>\n",
       "  </thead>\n",
       "  <tbody>\n",
       "    <tr>\n",
       "      <th>52</th>\n",
       "      <td>BioLink API</td>\n",
       "    </tr>\n",
       "    <tr>\n",
       "      <th>55</th>\n",
       "      <td>EBIgene2phenotype API</td>\n",
       "    </tr>\n",
       "  </tbody>\n",
       "</table>\n",
       "</div>"
      ],
      "text/plain": [
       "                pred2_api\n",
       "52            BioLink API\n",
       "55  EBIgene2phenotype API"
      ]
     },
     "execution_count": 26,
     "metadata": {},
     "output_type": "execute_result"
    }
   ],
   "source": [
    "print('Scoring from the MSUD -> PhenotypicFeature -> Gene query')\n",
    "\n",
    "## reset index to show placement of genes\n",
    "q1_scoring_df = q1_scoring.reset_index().rename(columns = {'index': 'output_name'})\n",
    "q1_scoring_df[q1_scoring_df.output_name.isin(known_answers)]\n",
    "\n",
    "## show APIs/sources for the underlying info for these answers\n",
    "q1_r_paths_table[q1_r_paths_table.output_name.isin(known_answers)][['pred1_api']].drop_duplicates()\n",
    "q1_r_paths_table[q1_r_paths_table.output_name.isin(known_answers)][['pred2_api']].drop_duplicates()"
   ]
  },
  {
   "cell_type": "markdown",
   "metadata": {},
   "source": [
    "Two of the genes (**BCKDHA**, **BCKDHB**) are found in the query `Disease` MSUD &rarr; `ChemicalSubstance` &rarr; `Gene`. However, they are not highly scored. This is likely because:\n",
    "* ChemicalSubstance intermediates included chemicals that are involved in many biological processes (and would therefore be annotated to many genes)\n",
    "* the causal genes for this disease act on branched-chain-amino-acid-derived alpha-keto-acids (and would therefore not be annotated to many chemicals). \n",
    "\n",
    "The information supporting those answers came from the Automat HMDB API. "
   ]
  },
  {
   "cell_type": "code",
   "execution_count": 27,
   "metadata": {
    "ExecuteTime": {
     "end_time": "2020-09-15T00:56:12.527781Z",
     "start_time": "2020-09-15T00:56:12.503519Z"
    }
   },
   "outputs": [
    {
     "name": "stdout",
     "output_type": "stream",
     "text": [
      "Scoring from the MSUD -> ChemicalSubstance -> Gene query\n"
     ]
    },
    {
     "data": {
      "text/html": [
       "<div>\n",
       "<style scoped>\n",
       "    .dataframe tbody tr th:only-of-type {\n",
       "        vertical-align: middle;\n",
       "    }\n",
       "\n",
       "    .dataframe tbody tr th {\n",
       "        vertical-align: top;\n",
       "    }\n",
       "\n",
       "    .dataframe thead th {\n",
       "        text-align: right;\n",
       "    }\n",
       "</style>\n",
       "<table border=\"1\" class=\"dataframe\">\n",
       "  <thead>\n",
       "    <tr style=\"text-align: right;\">\n",
       "      <th></th>\n",
       "      <th>output_name</th>\n",
       "      <th>score</th>\n",
       "    </tr>\n",
       "  </thead>\n",
       "  <tbody>\n",
       "    <tr>\n",
       "      <th>125</th>\n",
       "      <td>BCKDHA</td>\n",
       "      <td>0.027027</td>\n",
       "    </tr>\n",
       "    <tr>\n",
       "      <th>184</th>\n",
       "      <td>BCKDHB</td>\n",
       "      <td>0.027027</td>\n",
       "    </tr>\n",
       "  </tbody>\n",
       "</table>\n",
       "</div>"
      ],
      "text/plain": [
       "    output_name     score\n",
       "125      BCKDHA  0.027027\n",
       "184      BCKDHB  0.027027"
      ]
     },
     "execution_count": 27,
     "metadata": {},
     "output_type": "execute_result"
    },
    {
     "data": {
      "text/html": [
       "<div>\n",
       "<style scoped>\n",
       "    .dataframe tbody tr th:only-of-type {\n",
       "        vertical-align: middle;\n",
       "    }\n",
       "\n",
       "    .dataframe tbody tr th {\n",
       "        vertical-align: top;\n",
       "    }\n",
       "\n",
       "    .dataframe thead th {\n",
       "        text-align: right;\n",
       "    }\n",
       "</style>\n",
       "<table border=\"1\" class=\"dataframe\">\n",
       "  <thead>\n",
       "    <tr style=\"text-align: right;\">\n",
       "      <th></th>\n",
       "      <th>pred1_api</th>\n",
       "    </tr>\n",
       "  </thead>\n",
       "  <tbody>\n",
       "    <tr>\n",
       "      <th>55761</th>\n",
       "      <td>Automat HMDB API</td>\n",
       "    </tr>\n",
       "  </tbody>\n",
       "</table>\n",
       "</div>"
      ],
      "text/plain": [
       "              pred1_api\n",
       "55761  Automat HMDB API"
      ]
     },
     "execution_count": 27,
     "metadata": {},
     "output_type": "execute_result"
    },
    {
     "data": {
      "text/html": [
       "<div>\n",
       "<style scoped>\n",
       "    .dataframe tbody tr th:only-of-type {\n",
       "        vertical-align: middle;\n",
       "    }\n",
       "\n",
       "    .dataframe tbody tr th {\n",
       "        vertical-align: top;\n",
       "    }\n",
       "\n",
       "    .dataframe thead th {\n",
       "        text-align: right;\n",
       "    }\n",
       "</style>\n",
       "<table border=\"1\" class=\"dataframe\">\n",
       "  <thead>\n",
       "    <tr style=\"text-align: right;\">\n",
       "      <th></th>\n",
       "      <th>pred2_api</th>\n",
       "    </tr>\n",
       "  </thead>\n",
       "  <tbody>\n",
       "    <tr>\n",
       "      <th>55761</th>\n",
       "      <td>Automat HMDB API</td>\n",
       "    </tr>\n",
       "  </tbody>\n",
       "</table>\n",
       "</div>"
      ],
      "text/plain": [
       "              pred2_api\n",
       "55761  Automat HMDB API"
      ]
     },
     "execution_count": 27,
     "metadata": {},
     "output_type": "execute_result"
    }
   ],
   "source": [
    "print('Scoring from the MSUD -> ChemicalSubstance -> Gene query')\n",
    "\n",
    "## reset index to show placement of genes\n",
    "q2_scoring_df = q2_scoring.reset_index().rename(columns = {'index': 'output_name'})\n",
    "q2_scoring_df[q2_scoring_df.output_name.isin(['BCKDHA', 'BCKDHB', 'DBT'])]\n",
    "\n",
    "## show APIs/sources for the underlying info for these answers\n",
    "q2_r_paths_table[q2_r_paths_table.output_name.isin(known_answers)][['pred1_api']].drop_duplicates()\n",
    "q2_r_paths_table[q2_r_paths_table.output_name.isin(known_answers)][['pred2_api']].drop_duplicates()"
   ]
  },
  {
   "cell_type": "markdown",
   "metadata": {},
   "source": [
    "Other interesting, high-ranked genes returned by the queries include...\n",
    "* **DLD** encodes a protein that is [a member of the same enzyme complex as the three known MSUD genes](https://ghr.nlm.nih.gov/condition/dihydrolipoamide-dehydrogenase-deficiency#genes). It is also a member of several other enzyme complexes. **DLD** mutations can result in dihydrolipoamide dehydrogenase deficiency (previously known as a type of maple syrup urine disease), a disease with [that has some overlapping features but has other more severe phenotypes](https://www.omim.org/entry/248600). \n",
    "* **BCAT1** and **BCAT2** are part of the same process (branched-chain amino acid catabolism) as the three known MSUD genes; they both encode proteins that act in an earlier step of the process. [This reference from 2019](https://pubmed.ncbi.nlm.nih.gov/31177572/) describes how **BCAT2** deficiencies (caused by gene mutations) appear to have some similarities and differences from MSUD. \n",
    "\n",
    "[This reference](https://academic.oup.com/hmg/article/23/R1/R1/2900649) explains the role of the BCAT genes and MSUD genes in branched-chain amino acid metabolism. Note that the **BCAT** gene products participate in the first step of the process (amino acid -> alpha-keto-acid). The **BCKDHA** (E1-alpha subunit), **BCKDHB** (E1-beta subunit), **DBT** (E2 subunit), and **DLD** (E3 subunit) gene products participate in the next (rate-limiting) step of the process. \n",
    "\n",
    "The code blocks below show the genes returned by the queries and the APIs that the underlying information supporting those genes came from. "
   ]
  },
  {
   "cell_type": "code",
   "execution_count": 28,
   "metadata": {
    "ExecuteTime": {
     "end_time": "2020-09-15T00:56:12.552057Z",
     "start_time": "2020-09-15T00:56:12.529192Z"
    }
   },
   "outputs": [
    {
     "name": "stdout",
     "output_type": "stream",
     "text": [
      "Scoring from the MSUD -> PhenotypicFeature -> Gene query\n"
     ]
    },
    {
     "data": {
      "text/html": [
       "<div>\n",
       "<style scoped>\n",
       "    .dataframe tbody tr th:only-of-type {\n",
       "        vertical-align: middle;\n",
       "    }\n",
       "\n",
       "    .dataframe tbody tr th {\n",
       "        vertical-align: top;\n",
       "    }\n",
       "\n",
       "    .dataframe thead th {\n",
       "        text-align: right;\n",
       "    }\n",
       "</style>\n",
       "<table border=\"1\" class=\"dataframe\">\n",
       "  <thead>\n",
       "    <tr style=\"text-align: right;\">\n",
       "      <th></th>\n",
       "      <th>output_name</th>\n",
       "      <th>score</th>\n",
       "    </tr>\n",
       "  </thead>\n",
       "  <tbody>\n",
       "    <tr>\n",
       "      <th>3</th>\n",
       "      <td>DLD</td>\n",
       "      <td>0.615385</td>\n",
       "    </tr>\n",
       "  </tbody>\n",
       "</table>\n",
       "</div>"
      ],
      "text/plain": [
       "  output_name     score\n",
       "3         DLD  0.615385"
      ]
     },
     "execution_count": 28,
     "metadata": {},
     "output_type": "execute_result"
    },
    {
     "data": {
      "text/html": [
       "<div>\n",
       "<style scoped>\n",
       "    .dataframe tbody tr th:only-of-type {\n",
       "        vertical-align: middle;\n",
       "    }\n",
       "\n",
       "    .dataframe tbody tr th {\n",
       "        vertical-align: top;\n",
       "    }\n",
       "\n",
       "    .dataframe thead th {\n",
       "        text-align: right;\n",
       "    }\n",
       "</style>\n",
       "<table border=\"1\" class=\"dataframe\">\n",
       "  <thead>\n",
       "    <tr style=\"text-align: right;\">\n",
       "      <th></th>\n",
       "      <th>pred1_api</th>\n",
       "    </tr>\n",
       "  </thead>\n",
       "  <tbody>\n",
       "    <tr>\n",
       "      <th>1222</th>\n",
       "      <td>BioLink API</td>\n",
       "    </tr>\n",
       "    <tr>\n",
       "      <th>1223</th>\n",
       "      <td>mydisease.info API</td>\n",
       "    </tr>\n",
       "  </tbody>\n",
       "</table>\n",
       "</div>"
      ],
      "text/plain": [
       "               pred1_api\n",
       "1222         BioLink API\n",
       "1223  mydisease.info API"
      ]
     },
     "execution_count": 28,
     "metadata": {},
     "output_type": "execute_result"
    },
    {
     "data": {
      "text/html": [
       "<div>\n",
       "<style scoped>\n",
       "    .dataframe tbody tr th:only-of-type {\n",
       "        vertical-align: middle;\n",
       "    }\n",
       "\n",
       "    .dataframe tbody tr th {\n",
       "        vertical-align: top;\n",
       "    }\n",
       "\n",
       "    .dataframe thead th {\n",
       "        text-align: right;\n",
       "    }\n",
       "</style>\n",
       "<table border=\"1\" class=\"dataframe\">\n",
       "  <thead>\n",
       "    <tr style=\"text-align: right;\">\n",
       "      <th></th>\n",
       "      <th>pred2_api</th>\n",
       "    </tr>\n",
       "  </thead>\n",
       "  <tbody>\n",
       "    <tr>\n",
       "      <th>1222</th>\n",
       "      <td>EBIgene2phenotype API</td>\n",
       "    </tr>\n",
       "    <tr>\n",
       "      <th>1235</th>\n",
       "      <td>BioLink API</td>\n",
       "    </tr>\n",
       "  </tbody>\n",
       "</table>\n",
       "</div>"
      ],
      "text/plain": [
       "                  pred2_api\n",
       "1222  EBIgene2phenotype API\n",
       "1235            BioLink API"
      ]
     },
     "execution_count": 28,
     "metadata": {},
     "output_type": "execute_result"
    }
   ],
   "source": [
    "other_interesting_genes = ['DLD', 'BCAT1', 'BCAT2']\n",
    "\n",
    "print('Scoring from the MSUD -> PhenotypicFeature -> Gene query')\n",
    "\n",
    "q1_scoring_df[q1_scoring_df.output_name.isin(other_interesting_genes)]\n",
    "## show APIs/sources for the underlying info for these answers\n",
    "q1_r_paths_table[q1_r_paths_table.output_name.isin(other_interesting_genes)][['pred1_api']].drop_duplicates()\n",
    "q1_r_paths_table[q1_r_paths_table.output_name.isin(other_interesting_genes)][['pred2_api']].drop_duplicates()"
   ]
  },
  {
   "cell_type": "code",
   "execution_count": 29,
   "metadata": {
    "ExecuteTime": {
     "end_time": "2020-09-15T00:56:12.576064Z",
     "start_time": "2020-09-15T00:56:12.553996Z"
    }
   },
   "outputs": [
    {
     "name": "stdout",
     "output_type": "stream",
     "text": [
      "Scoring from the MSUD -> ChemicalSubstance -> Gene query\n"
     ]
    },
    {
     "data": {
      "text/html": [
       "<div>\n",
       "<style scoped>\n",
       "    .dataframe tbody tr th:only-of-type {\n",
       "        vertical-align: middle;\n",
       "    }\n",
       "\n",
       "    .dataframe tbody tr th {\n",
       "        vertical-align: top;\n",
       "    }\n",
       "\n",
       "    .dataframe thead th {\n",
       "        text-align: right;\n",
       "    }\n",
       "</style>\n",
       "<table border=\"1\" class=\"dataframe\">\n",
       "  <thead>\n",
       "    <tr style=\"text-align: right;\">\n",
       "      <th></th>\n",
       "      <th>output_name</th>\n",
       "      <th>score</th>\n",
       "    </tr>\n",
       "  </thead>\n",
       "  <tbody>\n",
       "    <tr>\n",
       "      <th>1</th>\n",
       "      <td>BCAT1</td>\n",
       "      <td>0.108108</td>\n",
       "    </tr>\n",
       "    <tr>\n",
       "      <th>2</th>\n",
       "      <td>BCAT2</td>\n",
       "      <td>0.099099</td>\n",
       "    </tr>\n",
       "    <tr>\n",
       "      <th>741</th>\n",
       "      <td>DLD</td>\n",
       "      <td>0.009009</td>\n",
       "    </tr>\n",
       "  </tbody>\n",
       "</table>\n",
       "</div>"
      ],
      "text/plain": [
       "    output_name     score\n",
       "1         BCAT1  0.108108\n",
       "2         BCAT2  0.099099\n",
       "741         DLD  0.009009"
      ]
     },
     "execution_count": 29,
     "metadata": {},
     "output_type": "execute_result"
    },
    {
     "data": {
      "text/html": [
       "<div>\n",
       "<style scoped>\n",
       "    .dataframe tbody tr th:only-of-type {\n",
       "        vertical-align: middle;\n",
       "    }\n",
       "\n",
       "    .dataframe tbody tr th {\n",
       "        vertical-align: top;\n",
       "    }\n",
       "\n",
       "    .dataframe thead th {\n",
       "        text-align: right;\n",
       "    }\n",
       "</style>\n",
       "<table border=\"1\" class=\"dataframe\">\n",
       "  <thead>\n",
       "    <tr style=\"text-align: right;\">\n",
       "      <th></th>\n",
       "      <th>pred1_api</th>\n",
       "    </tr>\n",
       "  </thead>\n",
       "  <tbody>\n",
       "    <tr>\n",
       "      <th>22889</th>\n",
       "      <td>Automat HMDB API</td>\n",
       "    </tr>\n",
       "  </tbody>\n",
       "</table>\n",
       "</div>"
      ],
      "text/plain": [
       "              pred1_api\n",
       "22889  Automat HMDB API"
      ]
     },
     "execution_count": 29,
     "metadata": {},
     "output_type": "execute_result"
    },
    {
     "data": {
      "text/html": [
       "<div>\n",
       "<style scoped>\n",
       "    .dataframe tbody tr th:only-of-type {\n",
       "        vertical-align: middle;\n",
       "    }\n",
       "\n",
       "    .dataframe tbody tr th {\n",
       "        vertical-align: top;\n",
       "    }\n",
       "\n",
       "    .dataframe thead th {\n",
       "        text-align: right;\n",
       "    }\n",
       "</style>\n",
       "<table border=\"1\" class=\"dataframe\">\n",
       "  <thead>\n",
       "    <tr style=\"text-align: right;\">\n",
       "      <th></th>\n",
       "      <th>pred2_api</th>\n",
       "    </tr>\n",
       "  </thead>\n",
       "  <tbody>\n",
       "    <tr>\n",
       "      <th>22889</th>\n",
       "      <td>Automat HMDB API</td>\n",
       "    </tr>\n",
       "    <tr>\n",
       "      <th>22891</th>\n",
       "      <td>MyChem.info API</td>\n",
       "    </tr>\n",
       "    <tr>\n",
       "      <th>22893</th>\n",
       "      <td>DGIdb API</td>\n",
       "    </tr>\n",
       "  </tbody>\n",
       "</table>\n",
       "</div>"
      ],
      "text/plain": [
       "              pred2_api\n",
       "22889  Automat HMDB API\n",
       "22891   MyChem.info API\n",
       "22893         DGIdb API"
      ]
     },
     "execution_count": 29,
     "metadata": {},
     "output_type": "execute_result"
    }
   ],
   "source": [
    "print('Scoring from the MSUD -> ChemicalSubstance -> Gene query')\n",
    "\n",
    "q2_scoring_df[q2_scoring_df.output_name.isin(other_interesting_genes)]\n",
    "## show APIs/sources for the underlying info for these answers\n",
    "q2_r_paths_table[q2_r_paths_table.output_name.isin(other_interesting_genes)][['pred1_api']].drop_duplicates()\n",
    "q2_r_paths_table[q2_r_paths_table.output_name.isin(other_interesting_genes)][['pred2_api']].drop_duplicates()"
   ]
  },
  {
   "cell_type": "code",
   "execution_count": null,
   "metadata": {},
   "outputs": [],
   "source": []
  }
 ],
 "metadata": {
  "kernelspec": {
   "display_name": "Python [conda env:BTE] *",
   "language": "python",
   "name": "conda-env-BTE-py"
  },
  "language_info": {
   "codemirror_mode": {
    "name": "ipython",
    "version": 3
   },
   "file_extension": ".py",
   "mimetype": "text/x-python",
   "name": "python",
   "nbconvert_exporter": "python",
   "pygments_lexer": "ipython3",
   "version": "3.7.8"
  },
  "toc": {
   "base_numbering": 1,
   "nav_menu": {},
   "number_sections": true,
   "sideBar": true,
   "skip_h1_title": true,
   "title_cell": "Table of Contents",
   "title_sidebar": "Contents",
   "toc_cell": false,
   "toc_position": {
    "height": "calc(100% - 180px)",
    "left": "10px",
    "top": "150px",
    "width": "261.567px"
   },
   "toc_section_display": true,
   "toc_window_display": true
  },
  "varInspector": {
   "cols": {
    "lenName": 16,
    "lenType": 16,
    "lenVar": 40
   },
   "kernels_config": {
    "python": {
     "delete_cmd_postfix": "",
     "delete_cmd_prefix": "del ",
     "library": "var_list.py",
     "varRefreshCmd": "print(var_dic_list())"
    },
    "r": {
     "delete_cmd_postfix": ") ",
     "delete_cmd_prefix": "rm(",
     "library": "var_list.r",
     "varRefreshCmd": "cat(var_dic_list()) "
    }
   },
   "types_to_exclude": [
    "module",
    "function",
    "builtin_function_or_method",
    "instance",
    "_Feature"
   ],
   "window_display": false
  }
 },
 "nbformat": 4,
 "nbformat_minor": 4
}
