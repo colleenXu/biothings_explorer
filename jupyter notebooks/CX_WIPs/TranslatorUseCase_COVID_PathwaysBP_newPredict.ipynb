{
 "cells": [
  {
   "cell_type": "markdown",
   "metadata": {},
   "source": [
    "# COVID, Pathways / BiologicalProcesses, and the bradykinin storm article"
   ]
  },
  {
   "cell_type": "markdown",
   "metadata": {},
   "source": [
    "## Introduction"
   ]
  },
  {
   "cell_type": "markdown",
   "metadata": {},
   "source": [
    "**To experiment with an executable version of this notebook, [load it in Google Colaboratory](https://colab.research.google.com/github/colleenXu/biothings_explorer/blob/relay/jupyter%20notebooks/CX_WIPs/TranslatorUseCase_COVID_PathwaysBP_newPredict.ipynb).**\n",
    "\n",
    "The [\"bradykinin storm\" mechanism article](https://elifesciences.org/articles/59177) hypothesizes that RAS- and bradykinin-related pathways are linked to COVID-19 symptoms. \n",
    "\n",
    "Using BTE, we can explore this line of reasoning using the following query templates:\n",
    "`Disease` &rarr; `PhenotypicFeature` &rarr; `Gene` &rarr; `Pathway`\n",
    "`Disease` &rarr; `PhenotypicFeature` &rarr; `Gene` &rarr; `BiologicalProcess`\n",
    "\n",
    "We will use severe acute respiratory syndrome (SARS), as a proxy for COVID-19, as our specific disease of interest. \n",
    "\n",
    "Notes:\n",
    "\n",
    "BioThings Explorer (BTE) can answer two classes of queries -- \"EXPLAIN\" and \"PREDICT\". This Question fits the PREDICT  template of starting with **a specific biomedical entity** (a specific `Disease` X) and finding relationships with **one biomedical entity type** (like `PhenotypicFeature` or `Gene`).\n",
    "* Note that currently a `Protein` biomedical entity type is not implemented in BTE. Instead, protein-coding and some non-coding genes are `Genes`. \n",
    "\n",
    "* This query will return a graph object with entities as nodes and relationships as edges. We then use edge provenance information to **filter** the results. For each Gene node, we use the number of unique paths from SARS (input node) to that node to **score** it. The scores can then be used to sort the results.  "
   ]
  },
  {
   "cell_type": "markdown",
   "metadata": {
    "heading_collapsed": true
   },
   "source": [
    "## Step 0: Load BTE modules, notebook functions"
   ]
  },
  {
   "cell_type": "code",
   "execution_count": null,
   "metadata": {
    "hidden": true
   },
   "outputs": [],
   "source": [
    "## for Google Colab\n",
    "%%capture\n",
    "!pip install git+https://github.com/colleenXu/biothings_explorer@relay#egg=biothings_explorer"
   ]
  },
  {
   "cell_type": "code",
   "execution_count": 1,
   "metadata": {
    "ExecuteTime": {
     "end_time": "2020-10-07T05:42:02.910394Z",
     "start_time": "2020-10-07T05:42:02.452576Z"
    },
    "hidden": true
   },
   "outputs": [],
   "source": [
    "## CX: allows multiple lines of code to print from one code block\n",
    "from IPython.core.interactiveshell import InteractiveShell\n",
    "InteractiveShell.ast_node_interactivity = \"all\"\n",
    "\n",
    "# import modules from biothings_explorer\n",
    "from biothings_explorer.hint import Hint\n",
    "from biothings_explorer.query.predict import Predict  ## new Predict will run\n",
    "\n",
    "## show time that this notebook was executed \n",
    "from datetime import datetime\n",
    "\n",
    "## packages to work with objects \n",
    "import re\n",
    "\n",
    "## to get around bugs\n",
    "import nest_asyncio\n",
    "nest_asyncio.apply()"
   ]
  },
  {
   "cell_type": "code",
   "execution_count": 2,
   "metadata": {
    "ExecuteTime": {
     "end_time": "2020-10-07T05:42:02.918018Z",
     "start_time": "2020-10-07T05:42:02.912745Z"
    },
    "hidden": true
   },
   "outputs": [],
   "source": [
    "## functions to add to modules?\n",
    "def hint_display(query, hint_result):\n",
    "    \"\"\"\n",
    "    show the type, name, number of IDs for all results returned by the query\n",
    "    \n",
    "    :param: query: string used in hint query\n",
    "    :param: hint_result: object returned from hint query, a dictionary of lists of dictionaries\n",
    "    \n",
    "    Returns: None\n",
    "    \"\"\"\n",
    "    ## function needs to be rewritten if it's going to give the exact index of each object within its type \n",
    "    display = ['type', 'name']  ## replace with the parts of the BioThings object you want to see\n",
    "    concise_results = []\n",
    "    for BT_type, result in hint_result.items():\n",
    "        if result:  ## basically if it's not empty\n",
    "            for items in result:\n",
    "                ## number of identifiers per object: number of keys - 4 (name, primary, display, type)\n",
    "                temp = len(items) - 4\n",
    "                concise_results.append((items[display[0]], items[display[1]], \n",
    "                                         str(temp)))\n",
    "                    \n",
    "    print('There are {total} BioThings objects returned for {ht}:'.format(\\\n",
    "                total = len(concise_results), ht = query))\n",
    "    for display_info in concise_results:\n",
    "        print('{0}, {1}, num of IDs: {2}'.format(display_info[0], display_info[1], display_info[2]))"
   ]
  },
  {
   "cell_type": "code",
   "execution_count": 3,
   "metadata": {
    "ExecuteTime": {
     "end_time": "2020-10-07T05:42:02.924586Z",
     "start_time": "2020-10-07T05:42:02.920428Z"
    },
    "hidden": true
   },
   "outputs": [],
   "source": [
    "def filter_table(df):\n",
    "    \"\"\"\n",
    "    use _source and _method columns to remove rows (paths) from the dataframe\n",
    "    :param: pandas dataframe containing results from BTE FindConnection module, in table form\n",
    "    \n",
    "    Returns: filtered dataframe\n",
    "    \"\"\"\n",
    "    ## note: still needs checking with EXPLAIN queries\n",
    "    ## key is the string to match to column, value is a list of strings to match to column values\n",
    "    filter_out = {'_source': ['SEMMED', 'CTD', 'ctd', 'omia']   \n",
    "#                   '_method': []  ## currently no method stuff I want to filter out\n",
    "                 }\n",
    "    ## SEMMED: text mining results wrong for PhenotypicFeature -> Gene\n",
    "    ## CTD/ctd: results odd for MSUD -> ChemicalSubstance\n",
    "    ## omia: results wrong or discontinued gene IDs for PhenotypicFeature -> Gene\n",
    "    \n",
    "    \n",
    "    df_temp = df.copy()  ## so the original df isn't modified in-place\n",
    "    for key,val in filter_out.items():\n",
    "        ## find columns that match the key string\n",
    "        columns = [i for i in df_temp.columns if key in i]\n",
    "        ## iterate through each column\n",
    "        for col in columns:\n",
    "            ## iterate through each value to take out, check if string CONTAINS match. \n",
    "            ## only keep rows that don't contain the value\n",
    "            for i in val:\n",
    "                df_temp = df_temp[~ df_temp[col].str.contains(i, na = False)]\n",
    "    return df_temp"
   ]
  },
  {
   "cell_type": "code",
   "execution_count": 4,
   "metadata": {
    "ExecuteTime": {
     "end_time": "2020-10-07T05:42:02.934417Z",
     "start_time": "2020-10-07T05:42:02.926460Z"
    },
    "hidden": true
   },
   "outputs": [],
   "source": [
    "## set for new predict, note that it's using labels and not ids....(change that behavior?)\n",
    "def scoring_output(df, q_type):\n",
    "    \"\"\"\n",
    "    score results based on whether query was Predict or Explain type, number of \n",
    "        intermediate nodes \n",
    "    :param: pandas dataframe containing results from BTE FindConnection module\n",
    "    :param: string describing type of query (Predict or Explain)\n",
    "    \n",
    "    May flatten some edges, because score only counts one edge per \n",
    "        unique predicate / API / method (ignoring source and pubmed col)\n",
    "    \n",
    "    Predict queries: score each output node by counting # of paths\n",
    "        from input nodes to it. Normalize by dividing by maximum\n",
    "        possible # of paths\n",
    "    Explain two-hop (one intermediate) queries: score each intermediate node by \n",
    "        counting # of paths (between input and output nodes) that include it. \n",
    "        Normalize by dividing by maximum possible # of paths    \n",
    "\n",
    "    Explain one-hop (direct) queries: no need to score, prints message\n",
    "    Other Explain queries (many-hops): currently not able to score, prints message     \n",
    "    \n",
    "    Returns: pandas series with scores, index is output_name\n",
    "             or None (one-hop or many-hop Explain query)\n",
    "    \"\"\"\n",
    "    df_temp = df.copy()  ## so no chance to mutate this   \n",
    "    flag_direct = False  ## one-hop query or not\n",
    "    ## use df_col to look quicker into columns\n",
    "    df_col = set(df_temp.columns)\n",
    "    \n",
    "    ## ignore source and pubmed col in looking at unique edges \n",
    "    columns_drop = [col for col in df_col if (('_source' in col) or ('_publications' in col))]\n",
    "    df_temp.drop(columns = columns_drop, inplace = True)    \n",
    "    df_temp.drop_duplicates(inplace = True)\n",
    "    \n",
    "    ## check if query is one-hop or not\n",
    "    if \"node1_label\" not in df_col:    ## name for first intermediate node layer\n",
    "        flag_direct = True  \n",
    "    \n",
    "    if q_type == 'Explain':\n",
    "        if flag_direct:   # one hop / no intermediates\n",
    "            print('No valid node scoring for one-hop (direct) Explain queries.')\n",
    "            return None\n",
    "        ## if there are many-hops/intermediate layers\n",
    "        elif \"node2_label\" in df_col:  ## name for 2nd intermed. node layer\n",
    "            print('Cannot currently score many-hop Explain queries.')\n",
    "            return None\n",
    "        else:   ## two-hop / 1 intermediate layer\n",
    "            ## count multi-edges to results (the intermediate node1 col)\n",
    "            scores = df_temp.node1_label.value_counts() \n",
    "            ## to find the maximum-possible number of edges, look at non-result cols\n",
    "            columns_drop = [col for col in df_col if 'node1' in col]\n",
    "            df_temp.drop(columns = columns_drop, inplace = True)\n",
    "            ## now look at number of unique combos for input, edge info, output\n",
    "            df_temp.drop_duplicates(inplace = True)\n",
    "            max_paths = df_temp.shape[0]            \n",
    "            ## normalize scores by dividing each by max number of paths\n",
    "            scores = scores / max_paths\n",
    "\n",
    "    else:  ## Predict type query\n",
    "        ## count multi-edges to results (the output col)\n",
    "        scores = df_temp.output_label.value_counts()\n",
    "        ## to find the maximum number of multi-edges, look at non-output col\n",
    "        columns_drop = [col for col in df_temp.columns if 'output' in col]\n",
    "        df_temp.drop(columns = columns_drop, inplace = True)\n",
    "        ## now look at number of unique paths possible\n",
    "        df_temp.drop_duplicates(inplace = True)\n",
    "        max_paths = df_temp.shape[0]\n",
    "        ## normalize scores by dividing each by max number of paths\n",
    "        scores = scores / max_paths\n",
    "            \n",
    "    ## return scores as pandas dataframe, with rank\n",
    "    scores = scores.to_frame(name = 'score') \n",
    "    scores['rank'] = scores['score'].rank(method = 'dense', ascending = False)\n",
    "    return scores"
   ]
  },
  {
   "cell_type": "code",
   "execution_count": 5,
   "metadata": {
    "ExecuteTime": {
     "end_time": "2020-10-07T05:42:02.940695Z",
     "start_time": "2020-10-07T05:42:02.936602Z"
    },
    "hidden": true
   },
   "outputs": [
    {
     "name": "stdout",
     "output_type": "stream",
     "text": [
      "The time that this notebook was executed is...\n",
      "Local time (PST, West Coast USA): \n",
      "2020-10-06 22:42:02.938057\n",
      "UTC time: \n",
      "2020-10-07 05:42:02.938180\n"
     ]
    }
   ],
   "source": [
    "## record when cell blocks are executed\n",
    "print('The time that this notebook was executed is...')\n",
    "print('Local time (PST, West Coast USA): ')\n",
    "print(datetime.now())\n",
    "print('UTC time: ')\n",
    "print(datetime.utcnow())"
   ]
  },
  {
   "cell_type": "markdown",
   "metadata": {},
   "source": [
    "## Step 1: Find representation of \"SARS\" in BTE"
   ]
  },
  {
   "cell_type": "markdown",
   "metadata": {},
   "source": [
    "In this step, BioThings Explorer translates our query string \"SARS\"  into BioThings objects, which contain mappings to many common identifiers. We then pick the BioThings object that best matches what we want. \n",
    "\n",
    "Generally, the top result returned by the Hint module for your BioThings type of interest will match what you want, but you should confirm that using the identifiers shown. \n",
    "\n",
    "\n",
    "> BioThings types correspond to children and descendants of [BiologicalEntity](https://biolink.github.io/biolink-model/docs/BiologicalEntity.html) from the [Biolink Model](https://biolink.github.io/biolink-model/docs/), including `Disease` (e.g., \"lupus\"), `ChemicalSubstance` (e.g., \"acetaminophen\"), `Gene` (e.g., \"CDK2\"), `BiologicalProcess` (e.g., \"T cell differentiation\"), and `Pathway` (e.g., \"Citric acid cycle\"). **However, [only a subset of the Biolink BiologicalEntity children / descendants are currently implemented in BTE](https://smart-api.info/portal/translator/metakg)**. More biomedical object types will be available as more knowledge sources (APIs) are added to the system. **Note that the type `BiologicalEntity` means any BioThings type currently implemented in BTE will be accepted.**"
   ]
  },
  {
   "cell_type": "code",
   "execution_count": 6,
   "metadata": {
    "ExecuteTime": {
     "end_time": "2020-10-07T05:42:03.131476Z",
     "start_time": "2020-10-07T05:42:02.942387Z"
    }
   },
   "outputs": [
    {
     "name": "stdout",
     "output_type": "stream",
     "text": [
      "There are 9 BioThings objects returned for SARS:\n",
      "ChemicalSubstance, Anti-SARS-CoV-2 REGN-COV2, num of IDs: 1\n",
      "Disease, severe acute respiratory syndrome, num of IDs: 5\n",
      "Disease, COVID-19, num of IDs: 2\n",
      "Disease, SARS-CoV-2 Kawasaki-like syndrome, num of IDs: 1\n",
      "MolecularActivity, selenocysteine-tRNA ligase activity, num of IDs: 2\n",
      "MolecularActivity, mRNA (guanine-N7-)-methyltransferase activity, num of IDs: 3\n",
      "MolecularActivity, 5'-3' RNA helicase activity, num of IDs: 2\n",
      "MolecularActivity, mRNA (nucleoside-2'-O-)-methyltransferase activity, num of IDs: 3\n",
      "MolecularActivity, RNA-directed 5'-3' RNA polymerase activity, num of IDs: 3\n"
     ]
    }
   ],
   "source": [
    "ht = Hint()  ## neater way to call this BTE module\n",
    "\n",
    "## the human user gives this input\n",
    "disease_starting_str = \"SARS\"\n",
    "\n",
    "disease_hint = ht.query(disease_starting_str)\n",
    "hint_display(disease_starting_str, disease_hint)"
   ]
  },
  {
   "cell_type": "markdown",
   "metadata": {},
   "source": [
    "Note: the query failed to retrieve Disease &rarr; PhenotypicFeatures for COVID-19 (a sibling of SARS in the Mondo ontology) and Orthocoronavirinae infectious disease (parent of COVID-19 and SARS in the Mondo ontology). \n",
    "\n",
    "So we'll pick the SARS `Disease` choice (indexed at 0) for our query. We can look at identifier mappings inside this BioThings object. "
   ]
  },
  {
   "cell_type": "code",
   "execution_count": 7,
   "metadata": {
    "ExecuteTime": {
     "end_time": "2020-10-07T05:42:03.144311Z",
     "start_time": "2020-10-07T05:42:03.133389Z"
    }
   },
   "outputs": [
    {
     "data": {
      "text/plain": [
       "{'MONDO': 'MONDO:0005091',\n",
       " 'DOID': 'DOID:2945',\n",
       " 'UMLS': 'C1175175',\n",
       " 'name': 'severe acute respiratory syndrome',\n",
       " 'MESH': 'D045169',\n",
       " 'ORPHANET': '140896',\n",
       " 'primary': {'identifier': 'MONDO',\n",
       "  'cls': 'Disease',\n",
       "  'value': 'MONDO:0005091'},\n",
       " 'display': 'MONDO(MONDO:0005091) DOID(DOID:2945) ORPHANET(140896) UMLS(C1175175) MESH(D045169) name(severe acute respiratory syndrome)',\n",
       " 'type': 'Disease'}"
      ]
     },
     "execution_count": 7,
     "metadata": {},
     "output_type": "execute_result"
    }
   ],
   "source": [
    "## the human user makes this choice, gives this input\n",
    "disease_choice_type = 'Disease'\n",
    "disease_choice_idx = 0\n",
    "\n",
    "disease_hint_obj = disease_hint[disease_choice_type][disease_choice_idx]  \n",
    "disease_hint_obj\n",
    "## these inner dictionaries are keys = id type, \n",
    "##       values = curie, normal string, or dictionary (for the key 'primary')"
   ]
  },
  {
   "cell_type": "markdown",
   "metadata": {},
   "source": [
    "## SARS &rarr; PhenotypicFeature &rarr; Gene &rarr; Pathway"
   ]
  },
  {
   "cell_type": "markdown",
   "metadata": {},
   "source": [
    "In this section, we dynamically generate a knowledge graph with paths connecting SARS to pathways *using PhenotypicFeature and Gene intermediates*.  \n",
    "\n",
    "BTE performs the **query path planning** and **query path execution** by deconstructing the query into individual API calls, executing those API calls, and then assembling the results.\n",
    "\n",
    "The code block below takes less than a minute to run.   "
   ]
  },
  {
   "cell_type": "code",
   "execution_count": 8,
   "metadata": {
    "ExecuteTime": {
     "end_time": "2020-10-07T05:42:42.704519Z",
     "start_time": "2020-10-07T05:42:03.147351Z"
    }
   },
   "outputs": [],
   "source": [
    "## the human user gives this input\n",
    "q1_output_type = 'Pathway'\n",
    "q1_intermediate = ['PhenotypicFeature', 'Gene']\n",
    "\n",
    "## uses newer version of BTE Predict function\n",
    "q1 = Predict(input_objs = [disease_hint_obj],\\\n",
    "             output_types = [q1_output_type], \\\n",
    "             intermediate_nodes = q1_intermediate,\n",
    "             config = {})  ## no configs set\n",
    "q1.connect(verbose = False)"
   ]
  },
  {
   "cell_type": "code",
   "execution_count": 9,
   "metadata": {
    "ExecuteTime": {
     "end_time": "2020-10-07T05:42:42.934889Z",
     "start_time": "2020-10-07T05:42:42.706834Z"
    }
   },
   "outputs": [],
   "source": [
    "# q1_r_graph = q1.fc.G   ## for changing the graph object to reflect the table\n",
    "q1_r_paths_table = q1.display_table_view()\n",
    "\n",
    "q1_type = re.findall(\"query.predict.([a-zA-Z]+)'\", str(type(q1)))\n",
    "q1_type = \"\".join(q1_type)  ## convert to string\n",
    "\n",
    "q1 = None  ## clear memory"
   ]
  },
  {
   "cell_type": "markdown",
   "metadata": {},
   "source": [
    "We can see the number of PhenotypicFeatures that were linked to SARS, the number of Genes linked to those PhenotypicFeatures, the number of Pathways returned as output, and the total number of paths from .and to a Gene, the number of Genes returned as output nodes, and the total number of paths from SARS to Pathway nodes. "
   ]
  },
  {
   "cell_type": "code",
   "execution_count": 10,
   "metadata": {
    "ExecuteTime": {
     "end_time": "2020-10-07T05:42:42.954034Z",
     "start_time": "2020-10-07T05:42:42.936809Z"
    }
   },
   "outputs": [
    {
     "name": "stdout",
     "output_type": "stream",
     "text": [
      "There are 16 unique PhenotypicFeatures for SARS.\n",
      "There are 816 unique Genes for SARS.\n",
      "There are 2067 unique Pathways for SARS.\n",
      "There are 54402 unique paths.\n"
     ]
    }
   ],
   "source": [
    "## show number of unique intermediate nodes\n",
    "print(\"There are {0} unique {1}s for {2}.\".format( \\\n",
    "    q1_r_paths_table.node1_label.nunique(), q1_intermediate[0], disease_starting_str))\n",
    "\n",
    "print(\"There are {0} unique {1}s for {2}.\".format( \\\n",
    "    q1_r_paths_table.node2_label.nunique(), q1_intermediate[1], disease_starting_str))\n",
    "\n",
    "## show number of unique output nodes\n",
    "print(\"There are {0} unique {1}s for {2}.\".format( \\\n",
    "    q1_r_paths_table.output_label.nunique(), q1_output_type, disease_starting_str))\n",
    "\n",
    "## show number of paths from disease to genes\n",
    "print(\"There are {0} unique paths.\".format( \\\n",
    "    q1_r_paths_table.shape[0]))"
   ]
  },
  {
   "cell_type": "markdown",
   "metadata": {},
   "source": [
    "The PhenotypicFeatures (symptoms) of SARS/COVID19 used:"
   ]
  },
  {
   "cell_type": "code",
   "execution_count": 11,
   "metadata": {
    "ExecuteTime": {
     "end_time": "2020-10-07T05:42:42.962639Z",
     "start_time": "2020-10-07T05:42:42.955613Z"
    }
   },
   "outputs": [
    {
     "data": {
      "text/plain": [
       "array(['Cough', 'Fever', 'Respiratory distress', 'Headache', 'Dyspnea',\n",
       "       'Immunodeficiency', 'Myalgia',\n",
       "       'Respiratory failure requiring assisted ventilation',\n",
       "       'Diabetes mellitus', 'Neoplasm', 'Acute infectious pneumonia',\n",
       "       'Hypoxemia', 'Abnormality of the cardiovascular system',\n",
       "       'Acute kidney injury', 'Pharyngitis', 'Chronic lung disease'],\n",
       "      dtype=object)"
      ]
     },
     "execution_count": 11,
     "metadata": {},
     "output_type": "execute_result"
    }
   ],
   "source": [
    "q1_r_paths_table['node1_label'].unique()"
   ]
  },
  {
   "cell_type": "markdown",
   "metadata": {},
   "source": [
    "### Scoring"
   ]
  },
  {
   "cell_type": "markdown",
   "metadata": {},
   "source": [
    "The scoring process for Predict queries (the type of query we're using now): \n",
    "\n",
    "It relies on the assumption that the user would be most interested in Pathways that share many intermediate nodes (phenotypes and genes) with SARS. \n",
    "\n",
    "1. To score individual Pathway nodes, we first take a copy of the knowledge graph (KG) and remove some multi-edges. \n",
    "    * Each edge has predicate, API, method, source, and pubmed information. For scoring purposes, we will ignore pubmed and source information because APIs handle this information differently (returning multiple edges or single edges). \n",
    "2. We then count the number of paths from the SARS node to each Pathway node.        \n",
    "3. Finally, we \"normalize\" the score by dividing those counts by maximum-possible number of paths from the SARS node to a Pathway node.\n",
    "\n",
    "We can then see the top-scored nodes. A score of closer to 1 means that the many PhenotypicFeatures and Genes link SARS and the Pathway node. A score closer to 0 means that only a few PhenotypicFeatures and Genes link SARS and the Pathway node. "
   ]
  },
  {
   "cell_type": "code",
   "execution_count": 12,
   "metadata": {
    "ExecuteTime": {
     "end_time": "2020-10-07T05:42:43.196026Z",
     "start_time": "2020-10-07T05:42:42.964416Z"
    }
   },
   "outputs": [
    {
     "data": {
      "text/html": [
       "<div>\n",
       "<style scoped>\n",
       "    .dataframe tbody tr th:only-of-type {\n",
       "        vertical-align: middle;\n",
       "    }\n",
       "\n",
       "    .dataframe tbody tr th {\n",
       "        vertical-align: top;\n",
       "    }\n",
       "\n",
       "    .dataframe thead th {\n",
       "        text-align: right;\n",
       "    }\n",
       "</style>\n",
       "<table border=\"1\" class=\"dataframe\">\n",
       "  <thead>\n",
       "    <tr style=\"text-align: right;\">\n",
       "      <th></th>\n",
       "      <th>output_label</th>\n",
       "      <th>score</th>\n",
       "      <th>rank</th>\n",
       "    </tr>\n",
       "  </thead>\n",
       "  <tbody>\n",
       "    <tr>\n",
       "      <th>0</th>\n",
       "      <td>Immune System</td>\n",
       "      <td>0.286275</td>\n",
       "      <td>1.0</td>\n",
       "    </tr>\n",
       "    <tr>\n",
       "      <th>1</th>\n",
       "      <td>Signal Transduction</td>\n",
       "      <td>0.271373</td>\n",
       "      <td>2.0</td>\n",
       "    </tr>\n",
       "    <tr>\n",
       "      <th>2</th>\n",
       "      <td>Metabolism</td>\n",
       "      <td>0.264314</td>\n",
       "      <td>3.0</td>\n",
       "    </tr>\n",
       "    <tr>\n",
       "      <th>3</th>\n",
       "      <td>Disease</td>\n",
       "      <td>0.251765</td>\n",
       "      <td>4.0</td>\n",
       "    </tr>\n",
       "    <tr>\n",
       "      <th>4</th>\n",
       "      <td>Metabolism of proteins</td>\n",
       "      <td>0.208627</td>\n",
       "      <td>5.0</td>\n",
       "    </tr>\n",
       "    <tr>\n",
       "      <th>5</th>\n",
       "      <td>Gene expression (Transcription)</td>\n",
       "      <td>0.142745</td>\n",
       "      <td>6.0</td>\n",
       "    </tr>\n",
       "    <tr>\n",
       "      <th>6</th>\n",
       "      <td>Innate Immune System</td>\n",
       "      <td>0.142745</td>\n",
       "      <td>6.0</td>\n",
       "    </tr>\n",
       "    <tr>\n",
       "      <th>7</th>\n",
       "      <td>Cytokine Signaling in Immune system</td>\n",
       "      <td>0.140392</td>\n",
       "      <td>7.0</td>\n",
       "    </tr>\n",
       "    <tr>\n",
       "      <th>8</th>\n",
       "      <td>RNA Polymerase II Transcription</td>\n",
       "      <td>0.133333</td>\n",
       "      <td>8.0</td>\n",
       "    </tr>\n",
       "    <tr>\n",
       "      <th>9</th>\n",
       "      <td>Generic Transcription Pathway</td>\n",
       "      <td>0.130980</td>\n",
       "      <td>9.0</td>\n",
       "    </tr>\n",
       "    <tr>\n",
       "      <th>10</th>\n",
       "      <td>Post-translational protein modification</td>\n",
       "      <td>0.130196</td>\n",
       "      <td>10.0</td>\n",
       "    </tr>\n",
       "    <tr>\n",
       "      <th>11</th>\n",
       "      <td>Cell Cycle</td>\n",
       "      <td>0.116863</td>\n",
       "      <td>11.0</td>\n",
       "    </tr>\n",
       "    <tr>\n",
       "      <th>12</th>\n",
       "      <td>Developmental Biology</td>\n",
       "      <td>0.112157</td>\n",
       "      <td>12.0</td>\n",
       "    </tr>\n",
       "    <tr>\n",
       "      <th>13</th>\n",
       "      <td>Infectious disease</td>\n",
       "      <td>0.099608</td>\n",
       "      <td>13.0</td>\n",
       "    </tr>\n",
       "    <tr>\n",
       "      <th>14</th>\n",
       "      <td>Hemostasis</td>\n",
       "      <td>0.096471</td>\n",
       "      <td>14.0</td>\n",
       "    </tr>\n",
       "    <tr>\n",
       "      <th>15</th>\n",
       "      <td>Signaling by Receptor Tyrosine Kinases</td>\n",
       "      <td>0.094902</td>\n",
       "      <td>15.0</td>\n",
       "    </tr>\n",
       "    <tr>\n",
       "      <th>16</th>\n",
       "      <td>Diseases of signal transduction</td>\n",
       "      <td>0.088627</td>\n",
       "      <td>16.0</td>\n",
       "    </tr>\n",
       "    <tr>\n",
       "      <th>17</th>\n",
       "      <td>Adaptive Immune System</td>\n",
       "      <td>0.084706</td>\n",
       "      <td>17.0</td>\n",
       "    </tr>\n",
       "    <tr>\n",
       "      <th>18</th>\n",
       "      <td>Transport of small molecules</td>\n",
       "      <td>0.083922</td>\n",
       "      <td>18.0</td>\n",
       "    </tr>\n",
       "    <tr>\n",
       "      <th>19</th>\n",
       "      <td>Signaling by Interleukins</td>\n",
       "      <td>0.077647</td>\n",
       "      <td>19.0</td>\n",
       "    </tr>\n",
       "  </tbody>\n",
       "</table>\n",
       "</div>"
      ],
      "text/plain": [
       "                               output_label     score  rank\n",
       "0                             Immune System  0.286275   1.0\n",
       "1                       Signal Transduction  0.271373   2.0\n",
       "2                                Metabolism  0.264314   3.0\n",
       "3                                   Disease  0.251765   4.0\n",
       "4                    Metabolism of proteins  0.208627   5.0\n",
       "5           Gene expression (Transcription)  0.142745   6.0\n",
       "6                      Innate Immune System  0.142745   6.0\n",
       "7       Cytokine Signaling in Immune system  0.140392   7.0\n",
       "8           RNA Polymerase II Transcription  0.133333   8.0\n",
       "9             Generic Transcription Pathway  0.130980   9.0\n",
       "10  Post-translational protein modification  0.130196  10.0\n",
       "11                               Cell Cycle  0.116863  11.0\n",
       "12                    Developmental Biology  0.112157  12.0\n",
       "13                       Infectious disease  0.099608  13.0\n",
       "14                               Hemostasis  0.096471  14.0\n",
       "15   Signaling by Receptor Tyrosine Kinases  0.094902  15.0\n",
       "16          Diseases of signal transduction  0.088627  16.0\n",
       "17                   Adaptive Immune System  0.084706  17.0\n",
       "18             Transport of small molecules  0.083922  18.0\n",
       "19                Signaling by Interleukins  0.077647  19.0"
      ]
     },
     "execution_count": 12,
     "metadata": {},
     "output_type": "execute_result"
    }
   ],
   "source": [
    "## create scoring table for Genes (output nodes)\n",
    "q1_scoring = scoring_output(q1_r_paths_table, q1_type)\n",
    "q1_scoring.index.name = 'output_label'\n",
    "q1_scoring.reset_index(inplace = True)\n",
    "\n",
    "q1_scoring.head(20)"
   ]
  },
  {
   "cell_type": "markdown",
   "metadata": {},
   "source": [
    "Notice that multiple top results have to do with the immune system, infectious disease, cytokines, and interleukins. "
   ]
  },
  {
   "cell_type": "markdown",
   "metadata": {},
   "source": [
    "### Comparing answers to bradykinin article"
   ]
  },
  {
   "cell_type": "markdown",
   "metadata": {},
   "source": [
    "We manually took keywords from the parts of the [\"bradykinin storm\" mechanism article](https://elifesciences.org/articles/59177) that discussed pathways and mechanisms, and we searched for them in the pathways returned by BTE. The keywords that returned results and the results found are shown below. \n",
    "\n",
    "Notice that while RAS signaling and other processes mentioned in the article are found in BTE, they are not the top-scoring results overall. "
   ]
  },
  {
   "cell_type": "code",
   "execution_count": 13,
   "metadata": {
    "ExecuteTime": {
     "end_time": "2020-10-07T05:42:43.211764Z",
     "start_time": "2020-10-07T05:42:43.197917Z"
    }
   },
   "outputs": [
    {
     "data": {
      "text/html": [
       "<div>\n",
       "<style scoped>\n",
       "    .dataframe tbody tr th:only-of-type {\n",
       "        vertical-align: middle;\n",
       "    }\n",
       "\n",
       "    .dataframe tbody tr th {\n",
       "        vertical-align: top;\n",
       "    }\n",
       "\n",
       "    .dataframe thead th {\n",
       "        text-align: right;\n",
       "    }\n",
       "</style>\n",
       "<table border=\"1\" class=\"dataframe\">\n",
       "  <thead>\n",
       "    <tr style=\"text-align: right;\">\n",
       "      <th></th>\n",
       "      <th>output_label</th>\n",
       "      <th>score</th>\n",
       "      <th>rank</th>\n",
       "    </tr>\n",
       "  </thead>\n",
       "  <tbody>\n",
       "    <tr>\n",
       "      <th>38</th>\n",
       "      <td>Neutrophil degranulation</td>\n",
       "      <td>0.056471</td>\n",
       "      <td>32.0</td>\n",
       "    </tr>\n",
       "    <tr>\n",
       "      <th>167</th>\n",
       "      <td>Cardiac conduction</td>\n",
       "      <td>0.022745</td>\n",
       "      <td>69.0</td>\n",
       "    </tr>\n",
       "    <tr>\n",
       "      <th>227</th>\n",
       "      <td>Calcium Regulation in the Cardiac Cell</td>\n",
       "      <td>0.018824</td>\n",
       "      <td>74.0</td>\n",
       "    </tr>\n",
       "    <tr>\n",
       "      <th>277</th>\n",
       "      <td>Cardiac Progenitor Differentiation</td>\n",
       "      <td>0.017255</td>\n",
       "      <td>76.0</td>\n",
       "    </tr>\n",
       "    <tr>\n",
       "      <th>341</th>\n",
       "      <td>Cardiac Hypertrophic Response</td>\n",
       "      <td>0.014902</td>\n",
       "      <td>79.0</td>\n",
       "    </tr>\n",
       "    <tr>\n",
       "      <th>358</th>\n",
       "      <td>Inflammatory Response Pathway</td>\n",
       "      <td>0.014118</td>\n",
       "      <td>80.0</td>\n",
       "    </tr>\n",
       "    <tr>\n",
       "      <th>512</th>\n",
       "      <td>Resistin as a regulator of inflammation</td>\n",
       "      <td>0.010980</td>\n",
       "      <td>84.0</td>\n",
       "    </tr>\n",
       "    <tr>\n",
       "      <th>546</th>\n",
       "      <td>Relationship between inflammation, COX-2 and EGFR</td>\n",
       "      <td>0.010196</td>\n",
       "      <td>85.0</td>\n",
       "    </tr>\n",
       "    <tr>\n",
       "      <th>560</th>\n",
       "      <td>Erythropoietin activates RAS</td>\n",
       "      <td>0.009412</td>\n",
       "      <td>86.0</td>\n",
       "    </tr>\n",
       "    <tr>\n",
       "      <th>576</th>\n",
       "      <td>Inflammasomes</td>\n",
       "      <td>0.009412</td>\n",
       "      <td>86.0</td>\n",
       "    </tr>\n",
       "  </tbody>\n",
       "</table>\n",
       "</div>"
      ],
      "text/plain": [
       "                                          output_label     score  rank\n",
       "38                            Neutrophil degranulation  0.056471  32.0\n",
       "167                                 Cardiac conduction  0.022745  69.0\n",
       "227             Calcium Regulation in the Cardiac Cell  0.018824  74.0\n",
       "277                 Cardiac Progenitor Differentiation  0.017255  76.0\n",
       "341                      Cardiac Hypertrophic Response  0.014902  79.0\n",
       "358                      Inflammatory Response Pathway  0.014118  80.0\n",
       "512            Resistin as a regulator of inflammation  0.010980  84.0\n",
       "546  Relationship between inflammation, COX-2 and EGFR  0.010196  85.0\n",
       "560                       Erythropoietin activates RAS  0.009412  86.0\n",
       "576                                      Inflammasomes  0.009412  86.0"
      ]
     },
     "execution_count": 13,
     "metadata": {},
     "output_type": "execute_result"
    }
   ],
   "source": [
    "path_mask = 'RAS|ACE Inhibitor|Vascular|Coagulation|Clot|Inflamm|inflamm|'\\\n",
    "            'Vasopressin|Neutrophil|Fibrin|Cardiac|cardiac|Vitamin D'\\\n",
    "            'vitamin D|Potassium'\n",
    "\n",
    "q1_scoring_BK = q1_scoring[q1_scoring['output_label'].str.contains(path_mask)].copy()\n",
    "q1_scoring_BK.head(10)"
   ]
  },
  {
   "cell_type": "markdown",
   "metadata": {},
   "source": [
    "### APIs used"
   ]
  },
  {
   "cell_type": "markdown",
   "metadata": {},
   "source": [
    "Different knowledge sources (APIs) were called in different parts of the query. \n",
    "\n",
    "In the first part of the query (SARS &rarr; PhenotypicFeature), the following APIs returned results and the following predicates (semantic relationships) were found. "
   ]
  },
  {
   "cell_type": "code",
   "execution_count": 14,
   "metadata": {
    "ExecuteTime": {
     "end_time": "2020-10-07T05:42:43.255930Z",
     "start_time": "2020-10-07T05:42:43.213675Z"
    }
   },
   "outputs": [
    {
     "data": {
      "text/html": [
       "<div>\n",
       "<style scoped>\n",
       "    .dataframe tbody tr th:only-of-type {\n",
       "        vertical-align: middle;\n",
       "    }\n",
       "\n",
       "    .dataframe tbody tr th {\n",
       "        vertical-align: top;\n",
       "    }\n",
       "\n",
       "    .dataframe thead th {\n",
       "        text-align: right;\n",
       "    }\n",
       "</style>\n",
       "<table border=\"1\" class=\"dataframe\">\n",
       "  <thead>\n",
       "    <tr style=\"text-align: right;\">\n",
       "      <th></th>\n",
       "      <th>pred1_api</th>\n",
       "      <th>pred1</th>\n",
       "    </tr>\n",
       "  </thead>\n",
       "  <tbody>\n",
       "    <tr>\n",
       "      <th>12</th>\n",
       "      <td>BioLink API</td>\n",
       "      <td>has_phenotype</td>\n",
       "    </tr>\n",
       "    <tr>\n",
       "      <th>0</th>\n",
       "      <td>mydisease.info API</td>\n",
       "      <td>related_to</td>\n",
       "    </tr>\n",
       "  </tbody>\n",
       "</table>\n",
       "</div>"
      ],
      "text/plain": [
       "             pred1_api          pred1\n",
       "12         BioLink API  has_phenotype\n",
       "0   mydisease.info API     related_to"
      ]
     },
     "execution_count": 14,
     "metadata": {},
     "output_type": "execute_result"
    }
   ],
   "source": [
    "## show that the APIs use different predicates\n",
    "q1_r_paths_table[['pred1_api', 'pred1']].drop_duplicates().sort_values(by = ['pred1_api', 'pred1'])"
   ]
  },
  {
   "cell_type": "markdown",
   "metadata": {},
   "source": [
    "In the second part of the query (PhenotypicFeature &rarr; Gene), the following APIs returned results and the following predicates (semantic relationships) were found. "
   ]
  },
  {
   "cell_type": "code",
   "execution_count": 15,
   "metadata": {
    "ExecuteTime": {
     "end_time": "2020-10-07T05:42:43.278055Z",
     "start_time": "2020-10-07T05:42:43.257891Z"
    }
   },
   "outputs": [
    {
     "data": {
      "text/html": [
       "<div>\n",
       "<style scoped>\n",
       "    .dataframe tbody tr th:only-of-type {\n",
       "        vertical-align: middle;\n",
       "    }\n",
       "\n",
       "    .dataframe tbody tr th {\n",
       "        vertical-align: top;\n",
       "    }\n",
       "\n",
       "    .dataframe thead th {\n",
       "        text-align: right;\n",
       "    }\n",
       "</style>\n",
       "<table border=\"1\" class=\"dataframe\">\n",
       "  <thead>\n",
       "    <tr style=\"text-align: right;\">\n",
       "      <th></th>\n",
       "      <th>pred2_api</th>\n",
       "      <th>pred2</th>\n",
       "    </tr>\n",
       "  </thead>\n",
       "  <tbody>\n",
       "    <tr>\n",
       "      <th>0</th>\n",
       "      <td>BioLink API</td>\n",
       "      <td>related_to</td>\n",
       "    </tr>\n",
       "    <tr>\n",
       "      <th>797</th>\n",
       "      <td>EBIgene2phenotype API</td>\n",
       "      <td>related_to</td>\n",
       "    </tr>\n",
       "  </tbody>\n",
       "</table>\n",
       "</div>"
      ],
      "text/plain": [
       "                 pred2_api       pred2\n",
       "0              BioLink API  related_to\n",
       "797  EBIgene2phenotype API  related_to"
      ]
     },
     "execution_count": 15,
     "metadata": {},
     "output_type": "execute_result"
    }
   ],
   "source": [
    "q1_r_paths_table[['pred2_api', 'pred2']].drop_duplicates().sort_values(by = ['pred2_api', 'pred2'])"
   ]
  },
  {
   "cell_type": "markdown",
   "metadata": {},
   "source": [
    "In the third part of the query (Gene &rarr; Pathway), the following APIs returned results and the following predicates (semantic relationships) were found."
   ]
  },
  {
   "cell_type": "code",
   "execution_count": 16,
   "metadata": {
    "ExecuteTime": {
     "end_time": "2020-10-07T05:42:43.299066Z",
     "start_time": "2020-10-07T05:42:43.279974Z"
    }
   },
   "outputs": [
    {
     "data": {
      "text/html": [
       "<div>\n",
       "<style scoped>\n",
       "    .dataframe tbody tr th:only-of-type {\n",
       "        vertical-align: middle;\n",
       "    }\n",
       "\n",
       "    .dataframe tbody tr th {\n",
       "        vertical-align: top;\n",
       "    }\n",
       "\n",
       "    .dataframe thead th {\n",
       "        text-align: right;\n",
       "    }\n",
       "</style>\n",
       "<table border=\"1\" class=\"dataframe\">\n",
       "  <thead>\n",
       "    <tr style=\"text-align: right;\">\n",
       "      <th></th>\n",
       "      <th>pred3_api</th>\n",
       "      <th>pred3</th>\n",
       "    </tr>\n",
       "  </thead>\n",
       "  <tbody>\n",
       "    <tr>\n",
       "      <th>0</th>\n",
       "      <td>MyGene.info API</td>\n",
       "      <td>functional_association</td>\n",
       "    </tr>\n",
       "  </tbody>\n",
       "</table>\n",
       "</div>"
      ],
      "text/plain": [
       "         pred3_api                   pred3\n",
       "0  MyGene.info API  functional_association"
      ]
     },
     "execution_count": 16,
     "metadata": {},
     "output_type": "execute_result"
    }
   ],
   "source": [
    "## show that the APIs use different predicates\n",
    "q1_r_paths_table[['pred3_api', 'pred3']].drop_duplicates().sort_values(by = ['pred3_api', 'pred3'])"
   ]
  },
  {
   "cell_type": "markdown",
   "metadata": {},
   "source": [
    "## SARS &rarr; PhenotypicFeature &rarr; Gene &rarr; BiologicalProcess"
   ]
  },
  {
   "cell_type": "markdown",
   "metadata": {},
   "source": [
    "In this section, we dynamically generate a knowledge graph with paths connecting SARS to biological processes (GO biological process terms) *using PhenotypicFeature and Gene intermediates*.  \n",
    "\n",
    "BTE performs the **query path planning** and **query path execution** by deconstructing the query into individual API calls, executing those API calls, and then assembling the results.\n",
    "\n",
    "The code block below takes less than a minute to run.   "
   ]
  },
  {
   "cell_type": "code",
   "execution_count": 27,
   "metadata": {
    "ExecuteTime": {
     "end_time": "2020-10-07T05:44:36.457273Z",
     "start_time": "2020-10-07T05:43:44.803958Z"
    }
   },
   "outputs": [
    {
     "name": "stdout",
     "output_type": "stream",
     "text": [
      "API call to SEMMED Gene API with input ['C1418752', 'C1424242', 'C1419926', 'C3146739', 'C1419872', 'C2239449', 'C1824763', 'C1367553', 'C1366557', 'C1412062', 'C1417807', 'C1415891', 'C1334530', 'C1416783', 'C1419929', 'C1424232', 'C1414128', 'C1825897', 'C1427727', 'C1414544', 'C1424878', 'C1442485', 'C1456375', 'C1538052', 'C1335203', 'C1823401', 'C0085301', 'C1367342', 'C1335836', 'C1538686', 'C1415044', 'C1538013', 'C1419909', 'C1336620', 'C1336670', 'C1420481', 'C1420649', 'C1412750', 'C1419906', 'C0072502', 'C3147174', 'C1417635', 'C1427712', 'C1419728', 'C1420718', 'C1421305', 'C0919427', 'C1332669', 'C1428703', 'C1832361', 'C1540183', 'C0066357', 'C1418706', 'C1420131', 'C1335270', 'C3539134', 'C1364818', 'C1412373', 'C1414057', 'C1414857', 'C1418756', 'C1332724', 'C1420822', 'C1333359', 'C1823245', 'C0172537', 'C1825593', 'C0085218', 'C1367578', 'C1419758', 'C1825588', 'C1417620', 'C1823479', 'C1367307', 'C1413146', 'C1335280', 'C0080222', 'C1417644', 'C1426196', 'C1334908', 'C0751995', 'C1418649', 'C1335086', 'C3470652', 'C1421583', 'C1853225', 'C1414473', 'C1413803', 'C1412691', 'C3890126', 'C1427586', 'C1335879', 'C1413589', 'C2829592', 'C1416543', 'C1414636', 'C1835898', 'C1413450', 'C1420259', 'C1419396', 'C1336596', 'C1824571', 'C1420337', 'C1537992', 'C1424525', 'C1420490', 'C1332124', 'C1421478', 'C1538002', 'C1426592', 'C1419628', 'C1413916', 'C1425064', 'C1824951', 'C1333356', 'C1418731', 'C1425514', 'C1537396', 'C1366767', 'C1416467', 'C1333663', 'C1826332', 'C1708291', 'C1420748', 'C1418975', 'C1413560', 'C0023816', 'C1420812', 'C0132096', 'C1823139', 'C1413113', 'C1425527', 'C1824631', 'C1417205', 'C1857794', 'C1412402', 'C1538095', 'C1413696', 'C1366529', 'C1420279', 'C1425445', 'C1418754', 'C1412331', 'C1414674', 'C1428017', 'C1425806', 'C1415042', 'C1419903', 'C1424942', 'C0694890', 'C1423546', 'C1417953', 'C1418927', 'C1418544', 'C1540046', 'C1539477', 'C1826392', 'C1864814', 'C1413239', 'C0919509', 'C0079419', 'C1412855', 'C1415068', 'C0919432', 'C1825770', 'C1413206', 'C1419857', 'C1413096', 'C0010461', 'C1425764', 'C1826738', 'C1419413', 'C1420850', 'C1421501', 'C1826624', 'C1826773', 'C1427946', 'C1825621', 'C1419635', 'C1419248', 'C0032140', 'C1414326', 'C1415876', 'C1419105', 'C1418458', 'C1414137', 'C1825552', 'C1418907', 'C1337109', 'C1334083', 'C1420814', 'C1419869', 'C1335876', 'C1419195', 'C1825692', 'C1414119', 'C1419667', 'C1424562', 'C1427260', 'C1537558', 'C1421146', 'C1416768', 'C1415462', 'C1333543', 'C1413590', 'C1539725', 'C1423817', 'C1427359', 'C2239353', 'C0086661', 'C1415457', 'C1412922', 'C1412629', 'C1420826', 'C1336631', 'C1426562', 'C1414157', 'C1334084', 'C1425219', 'C1825620', 'C1417616', 'C1414637', 'C1413648', 'C1427913', 'C1417609', 'C1537985', 'C1425085', 'C1419731', 'C1421375', 'C1412981', 'C0919524', 'C1416902', 'C0059377', 'C1417772', 'C1538440', 'C1335212', 'C1418696', 'C1842747', 'C1824843', 'C1416655', 'C1822686', 'C1335201', 'C1422239', 'C1426761', 'C1332431', 'C1416604', 'C1419216', 'C1417434', 'C1418605', 'C1826473', 'C3890999', 'C1824589', 'C1417123', 'C1366370', 'C1414091', 'C1333652', 'C1826837', 'C1422602', 'C1366536', 'C1412841', 'C1337030', 'C1416877', 'C1413240', 'C1417627', 'C1417651', 'C1417645', 'C1333357', 'C1413661', 'C1426175', 'C2681211', 'C1414561', 'C1412364', 'C1427118', 'C1537987', 'C1442762', 'C1412282', 'C1420431', 'C2677502', 'C1416912', 'C1414330', 'C1418732', 'C1835861', 'C1540079', 'C1537995', 'C0812222', 'C0082978', 'C1366757', 'C1419632', 'C1367482', 'C1417203', 'C1420248', 'C1414056', 'C1413603', 'C1336848', 'C1415882', 'C1426185', 'C1414431', 'C1418478', 'C1421996', 'C1412389', 'C1422496', 'C1413826', 'C1422251', 'C1418423', 'C1419427', 'C1423607', 'C1414683', 'C1424138', 'C3146638', 'C1427995', 'C4320437', 'C0007841', 'C1419864', 'C1420092', 'C0919538', 'C1456413', 'C1366537', 'C1416578', 'C1418518', 'C1824564', 'C1422658', 'C1332803', 'C1826562', 'C0054959', 'C1415629', 'C1413451', 'C1424774', 'C1414532', 'C1413365', 'C1427623', 'C0694897', 'C1335829', 'C1424735', 'C1414860', 'C1417646', 'C1414555', 'C1415491', 'C1423987', 'C1826433', 'C1428691', 'C1420496', 'C1412266', 'C1414528', 'C1420498', 'C1416868', 'C1420653', 'C1427582', 'C1415460', 'C1418876', 'C1417542', 'C1424235', 'C1412304', 'C1417652', 'C0694878', 'C1417015', 'C1823523', 'C1823529', 'C1334114', 'C1367449', 'C1416380', 'C0032923', 'C1538125', 'C1333683', 'C1416865', 'C1420636', 'C1416587', 'C1415803', 'C1412445', 'C1420603', 'C0003595', 'C0694895', 'C1414688', 'C1425842', 'C1824603', 'C1413636', 'C1420141', 'C1424883', 'C1826449', 'C1419862', 'C1539082', 'C1418941', 'C1826618', 'C1417708', 'C1417538', 'C0084715', 'C1413412', 'C1422597', 'C1824336', 'C1422342', 'C0017351', 'C1417523', 'C1384616', 'C1417458', 'C1417608', 'C1423674', 'C1419073', 'C1332802', 'C1427608', 'C1424448', 'C0812377', 'C1416746', 'C1419128', 'C1422163', 'C1417565', 'C1826435', 'C1384510', 'C1366837', 'C1420527', 'C0163617', 'C1418413', 'C1423542', 'C1416786', 'C1335833', 'C1413376', 'C1414085', 'C1417614', 'C1419227', 'C1439306', 'C1708000', 'C1824563', 'C1413856', 'C4085399', 'C1414422', 'C1420306', 'C1417650', 'C1413629', 'C0073320', 'C1417768', 'C1332661', 'C1332125', 'C1334894', 'C1415508', 'C0082420', 'C1826724', 'C0812242', 'C1418285', 'C1421249', 'C1824156', 'C1426171', 'C0006558', 'C1539549', 'C1421437', 'C1414472', 'C1428652', 'C1415078', 'C1538006', 'C1418916', 'C1412856', 'C1412097', 'C1428235', 'C1424456', 'C1332790', 'C1423635', 'C1366583', 'C1538423', 'C1414669', 'C1423814', 'C1539478', 'C1825454', 'C1415614', 'C1417104', 'C1421409', 'C1414083', 'C0812241', 'C1420003', 'C1334137', 'C1421361', 'C1363982', 'C1425041', 'C1363984', 'C2748512', 'C1420295', 'C0079414', 'C1332823', 'C1413713', 'C1539711', 'C1412111', 'C1417767', 'C1415101', 'C4320593', 'C1425020', 'C1538495', 'C0126037', 'C1824460', 'C1420387', 'C1426958', 'C1538832', 'C1416588', 'C1537503', 'C1823843', 'C1413379', 'C1824414', 'C1537399', 'C1826617', 'C1425614', 'C1335580', 'C0083344', 'C1419713', 'C1539102', 'C1415079', 'C1968832', 'C1417326', 'C1415014', 'C1423501', 'C1538016', 'C1337033', 'C1414327', 'C1425364', 'C1419228', 'C1414405', 'C1418954', 'C1412756', 'C1538627', 'C1414426', 'C2240338', 'C1824725', 'C1420193', 'C1413690', 'C0071795', 'C0812228', 'C1334522', 'C1442758', 'C1418643', 'C1414946', 'C1412937', 'C1826496', 'C1412118', 'C1413036', 'C0080113', 'C1335837', 'C1420494', 'C1415077', 'C1421540', 'C1414328', 'C1456390', 'C1415793', 'C1366448', 'C1422337', 'C1422573', 'C3469918', 'C1419283', 'C1419651', 'C1825278', 'C1413172', 'C1414110', 'C0087140', 'C1337112', 'C1537994', 'C1413588', 'C1413219', 'C1418859', 'C1415378', 'C1424823', 'C1823502', 'C1424302', 'C1412481', 'C0079259', 'C1421152', 'C2828877', 'C1415634', 'C1423081', 'C1418434', 'C1824710', 'C1425223', 'C1428204', 'C0694883', 'C1538001', 'C1418727', 'C1332711', 'C1539081', 'C1826310', 'C1413134', 'C1419623', 'C1414996', 'C1413844', 'C1334116', 'C1428293', 'C1413804', 'C1825092', 'C1417641', 'C1427709', 'C1421355', 'C1418272', 'C1826838', 'C1823857', 'C1420121', 'C0080065', 'C1419705', 'C0812295', 'C1419668', 'C0376571', 'C1416613', 'C1418462', 'C1412072', 'C1413238', 'C1413136', 'C1332770', 'C1825263', 'C1439272', 'C1420708', 'C0168552', 'C1824677', 'C1414094', 'C1421525', 'C1824492', 'C1824454', 'C1825868', 'C1418612', 'C1421199', 'C1416697', 'C1416383', 'C1538017', 'C1824104', 'C1414435', 'C1413153', 'C0920288', 'C1333242', 'C1366623', 'C1417061', 'C1413833', 'C1418965', 'C1412697', 'C0017768', 'C1413587', 'C0072108', 'C1423027', 'C1334115', 'C1424064', 'C1418674', 'C1413784', 'C1332029', 'C1413801', 'C0122577', 'C1423585', 'C1426244', 'C1415993', 'C1415701', 'C1538695', 'C1428931', 'C1333358', 'C1425496', 'C1333542', 'C1419068', 'C1427276', 'C3539335', 'C0694898', 'C1412077', 'C1332420', 'C1412471', 'C0020687', 'C1439334', 'C0051844', 'C1366618', 'C1414032', 'C1419771', 'C1332772', 'C1537990', 'C1337090', 'C1414471', 'C1538489', 'C1420365', 'C1426901', 'C1822705', 'C1824382', 'C1424211', 'C1333532', 'C1825595', 'C1414105', 'C1334340', 'C1384665', 'C0001457', 'C1334911', 'C1415375', 'C1413622', 'C1414542', 'C1413222', 'C1416997', 'C1414677', 'C1417701', 'C1824947', 'C1413861', 'C1427303', 'C1415597', 'C1416929', 'C1540215', 'C1424608', 'C1419347', 'C1337031', 'C1367721', 'C1969088', 'C1537630', 'C1418668', 'C1425532', 'C1538150', 'C1425753', 'C1825036', 'C2239666', 'C0108801', 'C1419871', 'C1417759', 'C1421222', 'C1414531', 'C0694872', 'C1418516', 'C1414527', 'C1413266', 'C1824580', 'C1414998', 'C1414504', 'C1418755', 'C1425226', 'C1412492', 'C1332773', 'C1421880', 'C1422011', 'C1823405', 'C1332742', 'C1425844', 'C1427038', 'C2681327', 'C1413580', 'C1417530', 'C1414101', 'C1415481', 'C0812443', 'C2240298', 'C1333669', 'C1420160', 'C1334123', 'C1335623', 'C1415081', 'C0694888', 'C0812273', 'C1415144', 'C1537989', 'C1419873', 'C1423837', 'C1413449', 'C1332455', 'C1826732', 'C1332100', 'C1412387', 'C3469994', 'C1825380', 'C1413942', 'C1419908', 'C0085113', 'C1864650', 'C1427279', 'C1419992', 'C1336929', 'C1538456', 'C1425470', 'C1539328', 'C1424250', 'C1332725', 'C1417504', 'C1417633', 'C1824643', 'C1419751', 'C1415846', 'C1418697', 'C1418901', 'C1417610', 'C1336624', 'C0085114', 'C1419868', 'C1421224', 'C1417388', 'C1423548', 'C1417174', 'C1428074', 'C1415707', 'C1425023', 'C1420090', 'C0082645', 'C1424082', 'C1334091', 'C1335654', 'C1823437', 'C1539574', 'C1825311', 'C0138318', 'C1419778', 'C1412279', 'C1413850', 'C1417046', 'C1421148', 'C1423573', 'C1826414', 'C1826413', 'C1414038', 'C1334102', 'C1419699', 'C1419051', 'C1826825', 'C1442489', 'C1539188', 'C1706652', 'C0162832', 'C1419856', 'C1416777', 'C0812286', 'C1426673', 'C1412110', 'C1417653', 'C0919477', 'C1539327', 'C1412946', 'C1412746', 'C1416576', 'C0059570', 'C1424843', 'C1416731', 'C2681086', 'C1425573', 'C1540111', 'C1417640', 'C2240268', 'C1416811', 'C1422134', 'C1424691', 'C1412747', 'C1537991', 'C1337098', 'C1418729', 'C1414106', 'C1421223', 'C1334088', 'C0694879', 'C1420408', 'C1826645', 'C0598034', 'C1427947', 'C1538151', 'C1412306', 'C0037903', 'C1414329', 'C1424286', 'C1538472', 'C1426334', 'C1417649', 'C1414336', 'C0146283', 'C1426079', 'C1419732', 'C1824106', 'C1413458', 'C1335088', 'C1414104', 'C1825567', 'C1420187', 'C1416486', 'C1442757', 'C1415529', 'C1332009', 'C0171427', 'C1334880', 'C1413681', 'C1412179', 'C1419277', 'C1333583', 'C1413591', 'C1413750', 'C1414172', 'C1414092', 'C1335083', 'C1538866', 'C1537422', 'C1420331', 'C0694894', 'C1417647', 'C1419157', 'C1416406', 'C1825901', 'C1366535', 'C1414899', 'C1419725', 'C1421504', 'C1426228', 'C1413658', 'C1420828', 'C1428025', 'C1418576', 'C1538935', 'C1413605', 'C2678549', 'C1414261', 'C1417001', 'C1415877', 'C1422800', 'C0017626', 'C1332667', 'C1417680', 'C1420385', 'C1414530', 'C1538901', 'C0812385', 'C1414994', 'C1825233', 'C1416407', 'C0105421', 'C1414812', 'C1417547', 'C1412082', 'C1539312', 'C1858105', 'C1415001', 'C1412854', 'C1420017', 'C1414369', 'C1422257', 'C1333342', 'C1416991', 'C3463911', 'C1334090', 'C1333360', 'C0085741', 'C1420132', 'C1424244', 'C1412225', 'C1824808', 'C1333661', 'C1413178', 'C1426489', 'C1424252', 'C1412630', 'C1419907', 'C1420118', 'C1334862', 'C1414541', 'C1412215', 'C1415195', 'C1420150', 'C1418402', 'C1422190', 'C1366515', 'C0017757', 'C1420588', 'C1425272', 'C1335641', 'C1427755', 'C1417474', 'C1418932', 'C1420111', 'C1417508', 'C1418469', 'C0038296', 'C1427642', 'C1423715', 'C1335872', 'C1422601', 'C1540147', 'C1422534', 'C1537595', 'C1414529', 'C1417035', 'C1412749', 'C1418575', 'C1425653', 'C1418779', 'C1537661', 'C1418202', 'C1412573', 'C1825876', 'C1537986', 'C0020818', 'C0812267', 'C1414420', 'C1537562', 'C1427106', 'C1416960', 'C1419867', 'C1426855', 'C1335238', 'C1420596', 'C0001414', 'C1537983', 'C1416293', 'C1425630', 'C1421425', 'C1425325', 'C1419683', 'C1414558', 'C1418634', 'C1413223', 'C1540311', 'C1412844', 'C3891913', 'C1421944', 'C1413903', 'C1824668', 'C0079471', 'C1825275', 'C0809246', 'C1537502', 'C1419695', 'C2680482', 'C1337007', 'C1428503'] failed with timeout error. Current timeout limit is 20 seconds\n",
      "API call to CORD Gene API with input ['6257', '18455', '2942', '26013', '2267', '175', '9202', '7421', '24245', '10680', '10383', '4886', '3582', '1512', '11922', '18153', '11916', '8761', '19440', '9388', '3951', '26927', '6770', '34016', '6764', '20748', '3586', '51483', '11408', '29091', '23247', '9787', '2212', '11433', '4861', '2689', '25994', '2561', '29796', '325', '1149', '10593', '93', '14450', '11727', '2578', '24488', '1509', '12572', '886', '7456', '7821', '894', '21606', '59', '10301', '4827', '3585', '12687', '3435', '967', '7315', '14432', '10379', '6524', '7162', '12371', '16205', '19960', '2172', '2950', '11936', '25018', '12831', '25244', '23145', '10705', '27659', '10604', '8977', '7910', '1151', '29157', '11274', '1744', '1884', '2514', '4976', '11103', '11782', '16404', '9831', '17993', '24872', '2330', '3512', '7675', '186', '613', '6898', '25784', '24846', '14378', '18518', '10938', '29937', '11326', '644', '4021', '3267', '29882', '17996', '12305', '2198', '303', '10801', '2020', '17088', '2852', '7704', '25896', '9071', '17989', '6218', '1748', '3257', '10959', '25489', '9023', '25539', '11280', '30611', '877', '1786', '11763', '2019', '9476', '28510', '10970', '17642', '6286', '4315', '8059', '6769', '3482', '6267', '15512', '20990', '19331', '11362', '2226', '6483', '11633', '6858', '28086', '26560', '7481', '18398', '4177', '3602', '2183', '13345', '23406', '12362', '7458', '8907', '8729', '19687', '12399', '16353', '1736', '9069', '14374', '535', '12632', '3796', '3625', '4166', '2858', '2591', '14000', '13203', '4704', '25430', '2567', '970', '16808', '3801', '6929', '38515', '6716', '1388', '1500', '11164', '11831', '8773', '3097', '9726', '12404', '25751', '282', '9153', '5358', '1100', '7872', '92', '3255', '7526', '4274', '28887', '1742', '25481', '19368', '3583', '25118', '21732', '1698', '362', '3261', '10414', '11386', '12565', '11364', '3437', '21144', '3483', '7217', '30802', '9380', '7715', '9608', '11998', '14211', '2260', '32700', '13664', '7713', '24154', '5970', '17646', '25280', '7461', '1912', '1591', '7501', '483', '11179', '9801', '1301', '9016', '8794', '26169', '11765', '28880', '1097', '1133', '7765', '3354', '3775', '3258', '7716', '11824', '4053', '2197', '17412', '2933', '28570', '6009', '7489', '7661', '9411', '8850', '30858', '21708', '11773', '3603', '2959', '10419', '17151', '620', '9588', '4803', '25781', '1514', '4296', '18744', '16466', '10295', '10681', '10682', '5541', '5173', '9820', '15864', '969', '5440', '7690', '33720', '17288', '10411', '76', '6192', '26034', '2953', '12665', '26661', '1546', '4798', '14558', '3481', '25737', '9175', '15598', '5439', '9076', '15899', '10310', '3823', '5024', '33551', '10327', '7577', '2436', '28337', '1839', '10910', '4237', '3052', '3622', '10671', '17756', '16627', '12313', '5477', '8859', '800', '15646', '603', '15573', '4887', '9204', '6493', '7500', '3381', '19191', '10345', '4010', '10050', '4180', '17997', '30083', '16380', '3438', '14888', '27962', '8975', '16106', '30494', '11918', '17142', '7696', '5870', '28858', '1366', '21143', '7473', '3157', '19353', '18466', '8140', '15832', '5286', '5331', '3584', '24990', '10941', '10472', '13503', '20788', '2891', '3260', '25941', '9439', '1148', '25522', '4801', '9236', '16266', '10683', '470', '4171', '8905', '7662', '14275', '7660', '8011', '15710', '29678', '7782', '5383', '15894', '24856', '7939', '3229', '9107', '25070', '9878', '5391', '30550', '14006', '6006', '7882', '1675', '4006', '7237', '6997', '10483', '450', '6973', '18550', '10961', '17296', '5971', '28216', '3349', '23246', '6446', '2027', '2516', '1160', '12791', '4195', '11795', '5273', '5960', '28303', '11142', '14153', '3005', '1674', '6430', '9688', '397', '634', '8803', '6998', '9205', '438', '9330', '2577', '4982', '11920', '3606', '14372', '16412', '20001', '4451', '10599', '16446', '9600', '1527', '8522', '15518', '7710', '20188', '11429', '6255', '7419', '14951', '7490', '21054', '6601', '9180', '10360', '2701', '1247', '13176', '7029', '3416', '4387', '321', '2252', '14377', '24265', '9498', '10344', '30074', '15455', '11647', '8156', '132', '3372', '10802', '13210', '3413', '29021', '29605', '6460', '18640', '20087', '8487', '11825', '22938', '1014', '14202', '1541', '8941', '16473', '17493', '9832', '5985', '735', '6139', '12363', '30000', '12796', '2988', '15559', '16725', '8632', '2210', '2211', '5157', '3377', '6535', '11094', '3036', '12874', '29670', '12731', '4284', '1058', '6008', '26144', '3546', '12269', '6912', '1633', '5389', '9475', '237', '4286', '4235', '18420', '11474', '7583', '9644', '4392', '1582', '7551', '8979', '3395', '11244', '16784', '6636', '12829', '18318', '14313', '2488', '6106', '4883', '10418', '20371', '11120', '13861', '20318', '8490', '9585', '583', '6677', '29203', '25792', '2584', '18873', '2230', '44477', '492', '1391', '20626', '29253', '10306', '21576', '21034', '11766', '6392', '1966', '6107', '1152', '17233', '7711', '5467', '13890', '28672', '5401', '17634', '18437', '21715', '5466', '33867', '9142', '23096', '33', '3018', '6554', '983', '10602', '24212', '6819', '2295', '30500', '8768', '25455', '6692', '11917', '7462', '7108', '17021', '2940', '2873', '5005', '2955', '14628', '6621', '28648', '21497', '9766', '2209', '4174', '5382', '16028', '6081', '28027', '30492', '16391', '3535', '9864', '12403', '26513', '3755', '9399', '7717', '15901', '9580', '26789', '7479', '13771', '11389', '12816', '24537', '5961', '11730', '3756', '11367', '7602', '11027', '11919', '10931', '18828', '3309', '15888', '19027', '6010', '24576', '1321', '7392', '10820', '801', '11431', '1915', '7121', '21057', '10600', '9967', '1137', '2979', '9479', '2555', '4285', '11740', '1228', '2200', '11772', '26293', '2600', '40050', '7459', '13478', '3809', '7422', '6547', '30546', '2505', '9586', '21493', '4057', '8805', '9237', '88', '10702', '7414', '4115', '10799', '9206', '9968', '14335', '2294', '7683', '17209', '2348', '18358', '11272', '18060', '16400', '10989', '23287', '17371', '6826', '7714', '37212', '1343', '10898', '46', '10019', '9179', '10402', '28188', '1701', '26291', '5031', '17697', '37234', '16636', '7794', '2519', '25568', '18874', '9655', '11947', '2336', '6295', '18179', '2518', '738', '26837', '6469', '6266', '2364', '3688', '4232', '1101', '2291', '9871', '10979', '2890', '7892', '10069', '17869', '30883', '7708', '966', '17042', '19412', '25671', '11943', '1699', '21082', '225', '25009', '25230', '11653', '7758', '11251', '9449', '14234', '9817', '7883', '7773', '12649', '1677', '53', '11425', '16393', '19341', '11212', '989', '9884', '10783', '7436', '17967', '30521', '5351', '7160', '7698', '12666', '29331', '18119', '16873', '2939', '12736', '11630', '3436', '15766', '8609', '16187', '6005', '103', '9143', '2279', '11021', '8881', '7530', '30539', '6833', '1673', '8783', '4065', '13879', '30794', '11949', '24116', '2954', '10990', '1480', '10389', '10603', '468', '44095', '6342', '20330', '7455', '18576', '31750', '7795', '1529', '6617', '5465', '2213', '7497', '23639', '12509', '795', '897', '23734', '24036', '4707', '7562', '21558', '23216', '51409', '7573', '3587', '1455', '17800', '4172', '6697', '9349', '20278', '16783', '9462', '17755', '12440', '903', '28403', '25583', '20473', '10597', '3513', '23700', '6490', '3806', '2671', '565', '9059', '3619', '26970', '26193', '4170', '12762', '9115', '11581', '54277', '12592', '12631', '1356', '1057', '13164', '16384', '7703', '11592', '26648', '7553', '11976', '4288', '10586', '26090', '22140', '7652', '3444', '10449', '11005', '15516', '9177', '8840', '3588', '1260', '26944', '14294', '18871', '2321', '19750', '20372', '11571', '37276', '758', '29918', '360', '7989', '19863', '13723', '7448', '10591', '10471', '2435', '5163', '9802', '2718', '391', '10440', '11935', '6407', '6024', '3434', '4837', '2928', '23845', '2018', '11927', '1665', '7166', '1968', '23147', '8800', '626', '7707', '10912', '12765', '18621', '3816', '3178', '1739', '12405', '12814', '1090', '12307', '3690', '15925', '18758', '27561', '1078', '3689', '27337', '1573', '10397', '15561', '592', '13444', '10585', '18592', '2973', '3259', '8029', '7678', '11204', '20761', '23168', '11301', '16762', '30718', '12799', '10031', '29947', '30213', '3432'] failed with timeout error. Current timeout limit is 20 seconds\n"
     ]
    }
   ],
   "source": [
    "## the human user gives this input\n",
    "q2_output_type = 'BiologicalProcess'\n",
    "q2_intermediate = ['PhenotypicFeature', 'Gene']\n",
    "\n",
    "q2 = Predict(input_objs = [disease_hint_obj],\\\n",
    "             output_types = [q2_output_type], \\\n",
    "             intermediate_nodes = q2_intermediate, \\\n",
    "             config = {})  ## no configs set\n",
    "q2.connect(verbose = False)"
   ]
  },
  {
   "cell_type": "code",
   "execution_count": 18,
   "metadata": {
    "ExecuteTime": {
     "end_time": "2020-10-07T05:43:35.618248Z",
     "start_time": "2020-10-07T05:43:35.178701Z"
    }
   },
   "outputs": [],
   "source": [
    "# q1_r_graph = q1.fc.G   ## for changing the graph object to reflect the table\n",
    "q2_r_paths_table = q2.display_table_view()\n",
    "\n",
    "q2_type = re.findall(\"predict.([a-zA-Z]+)'\", str(type(q2)))\n",
    "q2_type = \"\".join(q2_type)  ## convert to string\n",
    "\n",
    "q2 = None  ## clear memory"
   ]
  },
  {
   "cell_type": "code",
   "execution_count": 19,
   "metadata": {
    "ExecuteTime": {
     "end_time": "2020-10-07T05:43:35.647219Z",
     "start_time": "2020-10-07T05:43:35.620202Z"
    }
   },
   "outputs": [
    {
     "name": "stdout",
     "output_type": "stream",
     "text": [
      "There are 16 unique PhenotypicFeatures for SARS.\n",
      "There are 960 unique Genes for SARS.\n",
      "There are 6622 unique BiologicalProcesss for SARS.\n",
      "There are 105362 unique paths.\n"
     ]
    }
   ],
   "source": [
    "## show number of unique intermediate nodes\n",
    "print(\"There are {0} unique {1}s for {2}.\".format( \\\n",
    "    q2_r_paths_table.node1_label.nunique(), q2_intermediate[0], disease_starting_str))\n",
    "\n",
    "print(\"There are {0} unique {1}s for {2}.\".format( \\\n",
    "    q2_r_paths_table.node2_label.nunique(), q2_intermediate[1], disease_starting_str))\n",
    "\n",
    "## show number of unique output nodes\n",
    "print(\"There are {0} unique {1}s for {2}.\".format( \\\n",
    "    q2_r_paths_table.output_label.nunique(), q2_output_type, disease_starting_str))\n",
    "\n",
    "## show number of paths from disease to genes\n",
    "print(\"There are {0} unique paths.\".format( \\\n",
    "    q2_r_paths_table.shape[0]))"
   ]
  },
  {
   "cell_type": "markdown",
   "metadata": {},
   "source": [
    "The PhenotypicFeatures (symptoms) of SARS/COVID19 used:"
   ]
  },
  {
   "cell_type": "code",
   "execution_count": 20,
   "metadata": {
    "ExecuteTime": {
     "end_time": "2020-10-07T05:43:35.658684Z",
     "start_time": "2020-10-07T05:43:35.649169Z"
    }
   },
   "outputs": [
    {
     "data": {
      "text/plain": [
       "array(['Cough', 'Fever', 'Respiratory distress', 'Headache',\n",
       "       'Chronic lung disease', 'Dyspnea', 'Immunodeficiency', 'Myalgia',\n",
       "       'Respiratory failure requiring assisted ventilation',\n",
       "       'Diabetes mellitus', 'Neoplasm', 'Acute infectious pneumonia',\n",
       "       'Hypoxemia', 'Abnormality of the cardiovascular system',\n",
       "       'Acute kidney injury', 'Pharyngitis'], dtype=object)"
      ]
     },
     "execution_count": 20,
     "metadata": {},
     "output_type": "execute_result"
    }
   ],
   "source": [
    "q2_r_paths_table['node1_label'].unique()"
   ]
  },
  {
   "cell_type": "markdown",
   "metadata": {},
   "source": [
    "### Scoring"
   ]
  },
  {
   "cell_type": "markdown",
   "metadata": {},
   "source": [
    "The scoring process for Predict queries (the type of query we're using now): \n",
    "\n",
    "It relies on the assumption that the user would be most interested in Pathways that share many intermediate nodes (phenotypes and genes) with SARS. \n",
    "\n",
    "1. To score individual Pathway nodes, we first take a copy of the knowledge graph (KG) and remove some multi-edges. \n",
    "    * Each edge has predicate, API, method, source, and pubmed information. For scoring purposes, we will ignore pubmed and source information because APIs handle this information differently (returning multiple edges or single edges). \n",
    "2. We then count the number of paths from the SARS node to each Pathway node.        \n",
    "3. Finally, we \"normalize\" the score by dividing those counts by maximum-possible number of paths from the SARS node to a Pathway node.\n",
    "\n",
    "We can then see the top-scored nodes. A score of closer to 1 means that the many PhenotypicFeatures and Genes link SARS and the Pathway node. A score closer to 0 means that only a few PhenotypicFeatures and Genes link SARS and the Pathway node. "
   ]
  },
  {
   "cell_type": "code",
   "execution_count": 21,
   "metadata": {
    "ExecuteTime": {
     "end_time": "2020-10-07T05:43:35.784887Z",
     "start_time": "2020-10-07T05:43:35.660535Z"
    }
   },
   "outputs": [],
   "source": [
    "## current bug: issue resolving ULMS ids, removing them for now\n",
    "q2_r_paths_table = q2_r_paths_table[~ q2_r_paths_table['output_label'].str.contains('UMLS:')]"
   ]
  },
  {
   "cell_type": "code",
   "execution_count": 22,
   "metadata": {
    "ExecuteTime": {
     "end_time": "2020-10-07T05:43:36.005453Z",
     "start_time": "2020-10-07T05:43:35.786626Z"
    }
   },
   "outputs": [
    {
     "data": {
      "text/html": [
       "<div>\n",
       "<style scoped>\n",
       "    .dataframe tbody tr th:only-of-type {\n",
       "        vertical-align: middle;\n",
       "    }\n",
       "\n",
       "    .dataframe tbody tr th {\n",
       "        vertical-align: top;\n",
       "    }\n",
       "\n",
       "    .dataframe thead th {\n",
       "        text-align: right;\n",
       "    }\n",
       "</style>\n",
       "<table border=\"1\" class=\"dataframe\">\n",
       "  <thead>\n",
       "    <tr style=\"text-align: right;\">\n",
       "      <th></th>\n",
       "      <th>output_label</th>\n",
       "      <th>score</th>\n",
       "      <th>rank</th>\n",
       "    </tr>\n",
       "  </thead>\n",
       "  <tbody>\n",
       "    <tr>\n",
       "      <th>0</th>\n",
       "      <td>positive regulation of transcription by RNA po...</td>\n",
       "      <td>0.117763</td>\n",
       "      <td>1.0</td>\n",
       "    </tr>\n",
       "    <tr>\n",
       "      <th>1</th>\n",
       "      <td>negative regulation of transcription by RNA po...</td>\n",
       "      <td>0.089474</td>\n",
       "      <td>2.0</td>\n",
       "    </tr>\n",
       "    <tr>\n",
       "      <th>2</th>\n",
       "      <td>positive regulation of transcription, DNA-temp...</td>\n",
       "      <td>0.086842</td>\n",
       "      <td>3.0</td>\n",
       "    </tr>\n",
       "    <tr>\n",
       "      <th>3</th>\n",
       "      <td>signal transduction</td>\n",
       "      <td>0.083553</td>\n",
       "      <td>4.0</td>\n",
       "    </tr>\n",
       "    <tr>\n",
       "      <th>4</th>\n",
       "      <td>positive regulation of gene expression</td>\n",
       "      <td>0.069737</td>\n",
       "      <td>5.0</td>\n",
       "    </tr>\n",
       "    <tr>\n",
       "      <th>5</th>\n",
       "      <td>positive regulation of cell population prolife...</td>\n",
       "      <td>0.063816</td>\n",
       "      <td>6.0</td>\n",
       "    </tr>\n",
       "    <tr>\n",
       "      <th>6</th>\n",
       "      <td>negative regulation of cell population prolife...</td>\n",
       "      <td>0.061842</td>\n",
       "      <td>7.0</td>\n",
       "    </tr>\n",
       "    <tr>\n",
       "      <th>7</th>\n",
       "      <td>response to drug</td>\n",
       "      <td>0.061842</td>\n",
       "      <td>7.0</td>\n",
       "    </tr>\n",
       "    <tr>\n",
       "      <th>8</th>\n",
       "      <td>negative regulation of apoptotic process</td>\n",
       "      <td>0.058553</td>\n",
       "      <td>8.0</td>\n",
       "    </tr>\n",
       "    <tr>\n",
       "      <th>9</th>\n",
       "      <td>protein phosphorylation</td>\n",
       "      <td>0.054605</td>\n",
       "      <td>9.0</td>\n",
       "    </tr>\n",
       "    <tr>\n",
       "      <th>10</th>\n",
       "      <td>cytokine-mediated signaling pathway</td>\n",
       "      <td>0.053947</td>\n",
       "      <td>10.0</td>\n",
       "    </tr>\n",
       "    <tr>\n",
       "      <th>11</th>\n",
       "      <td>regulation of transcription by RNA polymerase II</td>\n",
       "      <td>0.052632</td>\n",
       "      <td>11.0</td>\n",
       "    </tr>\n",
       "    <tr>\n",
       "      <th>12</th>\n",
       "      <td>viral process</td>\n",
       "      <td>0.051974</td>\n",
       "      <td>12.0</td>\n",
       "    </tr>\n",
       "    <tr>\n",
       "      <th>13</th>\n",
       "      <td>apoptotic process</td>\n",
       "      <td>0.049342</td>\n",
       "      <td>13.0</td>\n",
       "    </tr>\n",
       "    <tr>\n",
       "      <th>14</th>\n",
       "      <td>heart development</td>\n",
       "      <td>0.048684</td>\n",
       "      <td>14.0</td>\n",
       "    </tr>\n",
       "    <tr>\n",
       "      <th>15</th>\n",
       "      <td>innate immune response</td>\n",
       "      <td>0.048684</td>\n",
       "      <td>14.0</td>\n",
       "    </tr>\n",
       "    <tr>\n",
       "      <th>16</th>\n",
       "      <td>MAPK cascade</td>\n",
       "      <td>0.048026</td>\n",
       "      <td>15.0</td>\n",
       "    </tr>\n",
       "    <tr>\n",
       "      <th>17</th>\n",
       "      <td>neutrophil degranulation</td>\n",
       "      <td>0.047368</td>\n",
       "      <td>16.0</td>\n",
       "    </tr>\n",
       "    <tr>\n",
       "      <th>18</th>\n",
       "      <td>cilium movement</td>\n",
       "      <td>0.045395</td>\n",
       "      <td>17.0</td>\n",
       "    </tr>\n",
       "    <tr>\n",
       "      <th>19</th>\n",
       "      <td>inflammatory response</td>\n",
       "      <td>0.044079</td>\n",
       "      <td>18.0</td>\n",
       "    </tr>\n",
       "  </tbody>\n",
       "</table>\n",
       "</div>"
      ],
      "text/plain": [
       "                                         output_label     score  rank\n",
       "0   positive regulation of transcription by RNA po...  0.117763   1.0\n",
       "1   negative regulation of transcription by RNA po...  0.089474   2.0\n",
       "2   positive regulation of transcription, DNA-temp...  0.086842   3.0\n",
       "3                                 signal transduction  0.083553   4.0\n",
       "4              positive regulation of gene expression  0.069737   5.0\n",
       "5   positive regulation of cell population prolife...  0.063816   6.0\n",
       "6   negative regulation of cell population prolife...  0.061842   7.0\n",
       "7                                    response to drug  0.061842   7.0\n",
       "8            negative regulation of apoptotic process  0.058553   8.0\n",
       "9                             protein phosphorylation  0.054605   9.0\n",
       "10                cytokine-mediated signaling pathway  0.053947  10.0\n",
       "11   regulation of transcription by RNA polymerase II  0.052632  11.0\n",
       "12                                      viral process  0.051974  12.0\n",
       "13                                  apoptotic process  0.049342  13.0\n",
       "14                                  heart development  0.048684  14.0\n",
       "15                             innate immune response  0.048684  14.0\n",
       "16                                       MAPK cascade  0.048026  15.0\n",
       "17                           neutrophil degranulation  0.047368  16.0\n",
       "18                                    cilium movement  0.045395  17.0\n",
       "19                              inflammatory response  0.044079  18.0"
      ]
     },
     "execution_count": 22,
     "metadata": {},
     "output_type": "execute_result"
    }
   ],
   "source": [
    "## create scoring table for Genes (output nodes)\n",
    "q2_scoring = scoring_output(q2_r_paths_table, q2_type)\n",
    "q2_scoring.index.name = 'output_label'\n",
    "q2_scoring.reset_index(inplace = True)\n",
    "\n",
    "q2_scoring.head(20)"
   ]
  },
  {
   "cell_type": "markdown",
   "metadata": {},
   "source": [
    "Notice that some top results include the immune system, including innate immunity, viral process, cytokines, neutrophils, and inflammation. "
   ]
  },
  {
   "cell_type": "markdown",
   "metadata": {},
   "source": [
    "### Comparing answers to bradykinin article"
   ]
  },
  {
   "cell_type": "markdown",
   "metadata": {},
   "source": [
    "We manually took keywords from the parts of the [\"bradykinin storm\" mechanism article](https://elifesciences.org/articles/59177) that discussed pathways and mechanisms, and we searched for them in the biological processes returned by BTE. The keywords that returned results and the results found are shown below. \n",
    "\n",
    "Notice that while RAS signaling and other processes mentioned in the article are found in BTE, they are not the top-scoring results overall. "
   ]
  },
  {
   "cell_type": "code",
   "execution_count": 23,
   "metadata": {
    "ExecuteTime": {
     "end_time": "2020-10-07T05:43:36.038314Z",
     "start_time": "2020-10-07T05:43:36.014868Z"
    }
   },
   "outputs": [
    {
     "data": {
      "text/html": [
       "<div>\n",
       "<style scoped>\n",
       "    .dataframe tbody tr th:only-of-type {\n",
       "        vertical-align: middle;\n",
       "    }\n",
       "\n",
       "    .dataframe tbody tr th {\n",
       "        vertical-align: top;\n",
       "    }\n",
       "\n",
       "    .dataframe thead th {\n",
       "        text-align: right;\n",
       "    }\n",
       "</style>\n",
       "<table border=\"1\" class=\"dataframe\">\n",
       "  <thead>\n",
       "    <tr style=\"text-align: right;\">\n",
       "      <th></th>\n",
       "      <th>output_label</th>\n",
       "      <th>score</th>\n",
       "      <th>rank</th>\n",
       "    </tr>\n",
       "  </thead>\n",
       "  <tbody>\n",
       "    <tr>\n",
       "      <th>17</th>\n",
       "      <td>neutrophil degranulation</td>\n",
       "      <td>0.047368</td>\n",
       "      <td>16.0</td>\n",
       "    </tr>\n",
       "    <tr>\n",
       "      <th>19</th>\n",
       "      <td>inflammatory response</td>\n",
       "      <td>0.044079</td>\n",
       "      <td>18.0</td>\n",
       "    </tr>\n",
       "    <tr>\n",
       "      <th>35</th>\n",
       "      <td>blood coagulation</td>\n",
       "      <td>0.033553</td>\n",
       "      <td>30.0</td>\n",
       "    </tr>\n",
       "    <tr>\n",
       "      <th>75</th>\n",
       "      <td>negative regulation of inflammatory response</td>\n",
       "      <td>0.023684</td>\n",
       "      <td>45.0</td>\n",
       "    </tr>\n",
       "    <tr>\n",
       "      <th>142</th>\n",
       "      <td>sodium ion transmembrane transport</td>\n",
       "      <td>0.016447</td>\n",
       "      <td>56.0</td>\n",
       "    </tr>\n",
       "    <tr>\n",
       "      <th>148</th>\n",
       "      <td>cardiac muscle contraction</td>\n",
       "      <td>0.015789</td>\n",
       "      <td>57.0</td>\n",
       "    </tr>\n",
       "    <tr>\n",
       "      <th>184</th>\n",
       "      <td>regulation of inflammatory response</td>\n",
       "      <td>0.014474</td>\n",
       "      <td>59.0</td>\n",
       "    </tr>\n",
       "    <tr>\n",
       "      <th>213</th>\n",
       "      <td>sodium ion transport</td>\n",
       "      <td>0.013158</td>\n",
       "      <td>61.0</td>\n",
       "    </tr>\n",
       "    <tr>\n",
       "      <th>244</th>\n",
       "      <td>regulation of blood pressure</td>\n",
       "      <td>0.012500</td>\n",
       "      <td>62.0</td>\n",
       "    </tr>\n",
       "    <tr>\n",
       "      <th>303</th>\n",
       "      <td>regulation of cardiac conduction</td>\n",
       "      <td>0.011184</td>\n",
       "      <td>64.0</td>\n",
       "    </tr>\n",
       "  </tbody>\n",
       "</table>\n",
       "</div>"
      ],
      "text/plain": [
       "                                     output_label     score  rank\n",
       "17                       neutrophil degranulation  0.047368  16.0\n",
       "19                          inflammatory response  0.044079  18.0\n",
       "35                              blood coagulation  0.033553  30.0\n",
       "75   negative regulation of inflammatory response  0.023684  45.0\n",
       "142            sodium ion transmembrane transport  0.016447  56.0\n",
       "148                    cardiac muscle contraction  0.015789  57.0\n",
       "184           regulation of inflammatory response  0.014474  59.0\n",
       "213                          sodium ion transport  0.013158  61.0\n",
       "244                  regulation of blood pressure  0.012500  62.0\n",
       "303              regulation of cardiac conduction  0.011184  64.0"
      ]
     },
     "execution_count": 23,
     "metadata": {},
     "output_type": "execute_result"
    }
   ],
   "source": [
    "bp_mask = 'aldosterone|angiotensin|hyaluronan|vaso|vascular permeability|'\\\n",
    "          'coagulation|sodium|pressure|neutrophil|inflamm|fibrin|'\\\n",
    "          'vitamin D|cardiac|pain|potassium'\n",
    "\n",
    "q2_scoring_BK = q2_scoring[q2_scoring['output_label'].str.contains(bp_mask)].copy()\n",
    "q2_scoring_BK.head(10)"
   ]
  },
  {
   "cell_type": "markdown",
   "metadata": {},
   "source": [
    "### APIs used"
   ]
  },
  {
   "cell_type": "markdown",
   "metadata": {},
   "source": [
    "Different knowledge sources (APIs) were called in different parts of the query. \n",
    "\n",
    "In the first part of the query (SARS &rarr; PhenotypicFeature), the following APIs returned results and the following predicates (semantic relationships) were found. "
   ]
  },
  {
   "cell_type": "code",
   "execution_count": 24,
   "metadata": {
    "ExecuteTime": {
     "end_time": "2020-10-07T05:43:36.063014Z",
     "start_time": "2020-10-07T05:43:36.041701Z"
    }
   },
   "outputs": [
    {
     "data": {
      "text/html": [
       "<div>\n",
       "<style scoped>\n",
       "    .dataframe tbody tr th:only-of-type {\n",
       "        vertical-align: middle;\n",
       "    }\n",
       "\n",
       "    .dataframe tbody tr th {\n",
       "        vertical-align: top;\n",
       "    }\n",
       "\n",
       "    .dataframe thead th {\n",
       "        text-align: right;\n",
       "    }\n",
       "</style>\n",
       "<table border=\"1\" class=\"dataframe\">\n",
       "  <thead>\n",
       "    <tr style=\"text-align: right;\">\n",
       "      <th></th>\n",
       "      <th>pred1_api</th>\n",
       "      <th>pred1</th>\n",
       "    </tr>\n",
       "  </thead>\n",
       "  <tbody>\n",
       "    <tr>\n",
       "      <th>11</th>\n",
       "      <td>BioLink API</td>\n",
       "      <td>has_phenotype</td>\n",
       "    </tr>\n",
       "    <tr>\n",
       "      <th>0</th>\n",
       "      <td>mydisease.info API</td>\n",
       "      <td>related_to</td>\n",
       "    </tr>\n",
       "  </tbody>\n",
       "</table>\n",
       "</div>"
      ],
      "text/plain": [
       "             pred1_api          pred1\n",
       "11         BioLink API  has_phenotype\n",
       "0   mydisease.info API     related_to"
      ]
     },
     "execution_count": 24,
     "metadata": {},
     "output_type": "execute_result"
    }
   ],
   "source": [
    "## show that the APIs use different predicates\n",
    "q2_r_paths_table[['pred1_api', 'pred1']].drop_duplicates().sort_values(by = ['pred1_api', 'pred1'])"
   ]
  },
  {
   "cell_type": "markdown",
   "metadata": {},
   "source": [
    "In the second part of the query (PhenotypicFeature &rarr; Gene), the following APIs returned results and the following predicates (semantic relationships) were found. "
   ]
  },
  {
   "cell_type": "code",
   "execution_count": 25,
   "metadata": {
    "ExecuteTime": {
     "end_time": "2020-10-07T05:43:36.084930Z",
     "start_time": "2020-10-07T05:43:36.064792Z"
    }
   },
   "outputs": [
    {
     "data": {
      "text/html": [
       "<div>\n",
       "<style scoped>\n",
       "    .dataframe tbody tr th:only-of-type {\n",
       "        vertical-align: middle;\n",
       "    }\n",
       "\n",
       "    .dataframe tbody tr th {\n",
       "        vertical-align: top;\n",
       "    }\n",
       "\n",
       "    .dataframe thead th {\n",
       "        text-align: right;\n",
       "    }\n",
       "</style>\n",
       "<table border=\"1\" class=\"dataframe\">\n",
       "  <thead>\n",
       "    <tr style=\"text-align: right;\">\n",
       "      <th></th>\n",
       "      <th>pred2_api</th>\n",
       "      <th>pred2</th>\n",
       "    </tr>\n",
       "  </thead>\n",
       "  <tbody>\n",
       "    <tr>\n",
       "      <th>0</th>\n",
       "      <td>BioLink API</td>\n",
       "      <td>related_to</td>\n",
       "    </tr>\n",
       "    <tr>\n",
       "      <th>2979</th>\n",
       "      <td>EBIgene2phenotype API</td>\n",
       "      <td>related_to</td>\n",
       "    </tr>\n",
       "  </tbody>\n",
       "</table>\n",
       "</div>"
      ],
      "text/plain": [
       "                  pred2_api       pred2\n",
       "0               BioLink API  related_to\n",
       "2979  EBIgene2phenotype API  related_to"
      ]
     },
     "execution_count": 25,
     "metadata": {},
     "output_type": "execute_result"
    }
   ],
   "source": [
    "q2_r_paths_table[['pred2_api', 'pred2']].drop_duplicates().sort_values(by = ['pred2_api', 'pred2'])"
   ]
  },
  {
   "cell_type": "markdown",
   "metadata": {},
   "source": [
    "In the third part of the query (Gene &rarr; Pathway), the following APIs returned results and the following predicates (semantic relationships) were found."
   ]
  },
  {
   "cell_type": "code",
   "execution_count": 26,
   "metadata": {
    "ExecuteTime": {
     "end_time": "2020-10-07T05:43:36.107606Z",
     "start_time": "2020-10-07T05:43:36.086761Z"
    }
   },
   "outputs": [
    {
     "data": {
      "text/html": [
       "<div>\n",
       "<style scoped>\n",
       "    .dataframe tbody tr th:only-of-type {\n",
       "        vertical-align: middle;\n",
       "    }\n",
       "\n",
       "    .dataframe tbody tr th {\n",
       "        vertical-align: top;\n",
       "    }\n",
       "\n",
       "    .dataframe thead th {\n",
       "        text-align: right;\n",
       "    }\n",
       "</style>\n",
       "<table border=\"1\" class=\"dataframe\">\n",
       "  <thead>\n",
       "    <tr style=\"text-align: right;\">\n",
       "      <th></th>\n",
       "      <th>pred3_api</th>\n",
       "      <th>pred3</th>\n",
       "    </tr>\n",
       "  </thead>\n",
       "  <tbody>\n",
       "    <tr>\n",
       "      <th>0</th>\n",
       "      <td>MyGene.info API</td>\n",
       "      <td>functional_association</td>\n",
       "    </tr>\n",
       "  </tbody>\n",
       "</table>\n",
       "</div>"
      ],
      "text/plain": [
       "         pred3_api                   pred3\n",
       "0  MyGene.info API  functional_association"
      ]
     },
     "execution_count": 26,
     "metadata": {},
     "output_type": "execute_result"
    }
   ],
   "source": [
    "## show that the APIs use different predicates\n",
    "q2_r_paths_table[['pred3_api', 'pred3']].drop_duplicates().sort_values(by = ['pred3_api', 'pred3'])"
   ]
  },
  {
   "cell_type": "code",
   "execution_count": null,
   "metadata": {},
   "outputs": [],
   "source": []
  }
 ],
 "metadata": {
  "kernelspec": {
   "display_name": "Python 3",
   "language": "python",
   "name": "python3"
  },
  "language_info": {
   "codemirror_mode": {
    "name": "ipython",
    "version": 3
   },
   "file_extension": ".py",
   "mimetype": "text/x-python",
   "name": "python",
   "nbconvert_exporter": "python",
   "pygments_lexer": "ipython3",
   "version": "3.7.9"
  },
  "toc": {
   "base_numbering": 1,
   "nav_menu": {},
   "number_sections": true,
   "sideBar": true,
   "skip_h1_title": true,
   "title_cell": "Table of Contents",
   "title_sidebar": "Contents",
   "toc_cell": false,
   "toc_position": {
    "height": "calc(100% - 180px)",
    "left": "10px",
    "top": "150px",
    "width": "354.433px"
   },
   "toc_section_display": true,
   "toc_window_display": true
  },
  "varInspector": {
   "cols": {
    "lenName": 16,
    "lenType": 16,
    "lenVar": 40
   },
   "kernels_config": {
    "python": {
     "delete_cmd_postfix": "",
     "delete_cmd_prefix": "del ",
     "library": "var_list.py",
     "varRefreshCmd": "print(var_dic_list())"
    },
    "r": {
     "delete_cmd_postfix": ") ",
     "delete_cmd_prefix": "rm(",
     "library": "var_list.r",
     "varRefreshCmd": "cat(var_dic_list()) "
    }
   },
   "types_to_exclude": [
    "module",
    "function",
    "builtin_function_or_method",
    "instance",
    "_Feature"
   ],
   "window_display": false
  }
 },
 "nbformat": 4,
 "nbformat_minor": 4
}
