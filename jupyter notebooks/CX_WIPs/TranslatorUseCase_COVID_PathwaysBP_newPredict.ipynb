{
 "cells": [
  {
   "cell_type": "markdown",
   "metadata": {},
   "source": [
    "# COVID, Pathways / BiologicalProcesses, and the bradykinin storm article"
   ]
  },
  {
   "cell_type": "markdown",
   "metadata": {},
   "source": [
    "2020-11-26 update: moved the code removing unresolved UMLS ids, now runs before the report of how many entities there are in the answer KG"
   ]
  },
  {
   "cell_type": "markdown",
   "metadata": {},
   "source": [
    "## Introduction"
   ]
  },
  {
   "cell_type": "markdown",
   "metadata": {},
   "source": [
    "**To experiment with an executable version of this notebook, [load it in Google Colaboratory](https://colab.research.google.com/github/colleenXu/biothings_explorer/blob/relay/jupyter%20notebooks/CX_WIPs/TranslatorUseCase_COVID_PathwaysBP_newPredict.ipynb).**\n",
    "\n",
    "The [\"bradykinin storm\" mechanism article](https://elifesciences.org/articles/59177) hypothesizes that RAS- and bradykinin-related pathways are linked to COVID-19 symptoms. \n",
    "\n",
    "Using BTE, we can explore this line of reasoning using the following query templates:\n",
    "`Disease` &rarr; `PhenotypicFeature` &rarr; `Gene` &rarr; `Pathway`\n",
    "`Disease` &rarr; `PhenotypicFeature` &rarr; `Gene` &rarr; `BiologicalProcess`\n",
    "\n",
    "We will use severe acute respiratory syndrome (SARS), as a proxy for COVID-19, as our specific disease of interest. \n",
    "\n",
    "Notes:\n",
    "\n",
    "BioThings Explorer (BTE) can answer two classes of queries -- \"EXPLAIN\" and \"PREDICT\". This Question fits the PREDICT  template of starting with **a specific biomedical entity** (a specific `Disease` X) and finding relationships with **one biomedical entity type** (like `PhenotypicFeature` or `Gene`).\n",
    "* Note that currently a `Protein` biomedical entity type is not implemented in BTE. Instead, protein-coding and some non-coding genes are `Genes`. \n",
    "\n",
    "* This query will return a graph object with entities as nodes and relationships as edges. We then use edge provenance information to **filter** the results. For each Gene node, we use the number of unique paths from SARS (input node) to that node to **score** it. The scores can then be used to sort the results.  "
   ]
  },
  {
   "cell_type": "markdown",
   "metadata": {},
   "source": [
    "## Step 0: Load BTE modules, notebook functions"
   ]
  },
  {
   "cell_type": "code",
   "execution_count": null,
   "metadata": {},
   "outputs": [],
   "source": [
    "## for Google Colab\n",
    "%%capture\n",
    "!pip install git+https://github.com/colleenXu/biothings_explorer@relay#egg=biothings_explorer"
   ]
  },
  {
   "cell_type": "code",
   "execution_count": 1,
   "metadata": {
    "ExecuteTime": {
     "end_time": "2020-11-27T00:47:22.161373Z",
     "start_time": "2020-11-27T00:47:21.656044Z"
    }
   },
   "outputs": [],
   "source": [
    "## CX: allows multiple lines of code to print from one code block\n",
    "from IPython.core.interactiveshell import InteractiveShell\n",
    "InteractiveShell.ast_node_interactivity = \"all\"\n",
    "\n",
    "# import modules from biothings_explorer\n",
    "from biothings_explorer.hint import Hint\n",
    "from biothings_explorer.query.predict import Predict  ## new Predict will run\n",
    "\n",
    "## show time that this notebook was executed \n",
    "from datetime import datetime\n",
    "\n",
    "## packages to work with objects \n",
    "import re\n",
    "\n",
    "## to get around bugs\n",
    "import nest_asyncio\n",
    "nest_asyncio.apply()"
   ]
  },
  {
   "cell_type": "code",
   "execution_count": 2,
   "metadata": {
    "ExecuteTime": {
     "end_time": "2020-11-27T00:47:22.725475Z",
     "start_time": "2020-11-27T00:47:22.719587Z"
    }
   },
   "outputs": [],
   "source": [
    "## functions to add to modules?\n",
    "def hint_display(query, hint_result):\n",
    "    \"\"\"\n",
    "    show the type, name, number of IDs for all results returned by the query\n",
    "    \n",
    "    :param: query: string used in hint query\n",
    "    :param: hint_result: object returned from hint query, a dictionary of lists of dictionaries\n",
    "    \n",
    "    Returns: None\n",
    "    \"\"\"\n",
    "    ## function needs to be rewritten if it's going to give the exact index of each object within its type \n",
    "    display = ['type', 'name']  ## replace with the parts of the BioThings object you want to see\n",
    "    concise_results = []\n",
    "    for BT_type, result in hint_result.items():\n",
    "        if result:  ## basically if it's not empty\n",
    "            for items in result:\n",
    "                ## number of identifiers per object: number of keys - 4 (name, primary, display, type)\n",
    "                temp = len(items) - 4\n",
    "                concise_results.append((items[display[0]], items[display[1]], \n",
    "                                         str(temp)))\n",
    "                    \n",
    "    print('There are {total} BioThings objects returned for {ht}:'.format(\\\n",
    "                total = len(concise_results), ht = query))\n",
    "    for display_info in concise_results:\n",
    "        print('{0}, {1}, num of IDs: {2}'.format(display_info[0], display_info[1], display_info[2]))"
   ]
  },
  {
   "cell_type": "code",
   "execution_count": 3,
   "metadata": {
    "ExecuteTime": {
     "end_time": "2020-11-27T00:47:23.224339Z",
     "start_time": "2020-11-27T00:47:23.219070Z"
    }
   },
   "outputs": [],
   "source": [
    "def filter_table(df):\n",
    "    \"\"\"\n",
    "    use _source and _method columns to remove rows (paths) from the dataframe\n",
    "    :param: pandas dataframe containing results from BTE FindConnection module, in table form\n",
    "    \n",
    "    Returns: filtered dataframe\n",
    "    \"\"\"\n",
    "    ## note: still needs checking with EXPLAIN queries\n",
    "    ## key is the string to match to column, value is a list of strings to match to column values\n",
    "    filter_out = {'_source': ['SEMMED', 'CTD', 'ctd', 'omia']   \n",
    "#                   '_method': []  ## currently no method stuff I want to filter out\n",
    "                 }\n",
    "    ## SEMMED: text mining results wrong for PhenotypicFeature -> Gene\n",
    "    ## CTD/ctd: results odd for MSUD -> ChemicalSubstance\n",
    "    ## omia: results wrong or discontinued gene IDs for PhenotypicFeature -> Gene\n",
    "    \n",
    "    \n",
    "    df_temp = df.copy()  ## so the original df isn't modified in-place\n",
    "    for key,val in filter_out.items():\n",
    "        ## find columns that match the key string\n",
    "        columns = [i for i in df_temp.columns if key in i]\n",
    "        ## iterate through each column\n",
    "        for col in columns:\n",
    "            ## iterate through each value to take out, check if string CONTAINS match. \n",
    "            ## only keep rows that don't contain the value\n",
    "            for i in val:\n",
    "                df_temp = df_temp[~ df_temp[col].str.contains(i, na = False)]\n",
    "    return df_temp"
   ]
  },
  {
   "cell_type": "code",
   "execution_count": 4,
   "metadata": {
    "ExecuteTime": {
     "end_time": "2020-11-27T00:47:23.768611Z",
     "start_time": "2020-11-27T00:47:23.760144Z"
    }
   },
   "outputs": [],
   "source": [
    "## set for new predict, note that it's using labels and not ids....(change that behavior?)\n",
    "def scoring_output(df, q_type):\n",
    "    \"\"\"\n",
    "    score results based on whether query was Predict or Explain type, number of \n",
    "        intermediate nodes \n",
    "    :param: pandas dataframe containing results from BTE FindConnection module\n",
    "    :param: string describing type of query (Predict or Explain)\n",
    "    \n",
    "    May flatten some edges, because score only counts one edge per \n",
    "        unique predicate / API / method (ignoring source and pubmed col)\n",
    "    \n",
    "    Predict queries: score each output node by counting # of paths\n",
    "        from input nodes to it. Normalize by dividing by maximum\n",
    "        possible # of paths\n",
    "    Explain two-hop (one intermediate) queries: score each intermediate node by \n",
    "        counting # of paths (between input and output nodes) that include it. \n",
    "        Normalize by dividing by maximum possible # of paths    \n",
    "\n",
    "    Explain one-hop (direct) queries: no need to score, prints message\n",
    "    Other Explain queries (many-hops): currently not able to score, prints message     \n",
    "    \n",
    "    Returns: pandas series with scores, index is output_name\n",
    "             or None (one-hop or many-hop Explain query)\n",
    "    \"\"\"\n",
    "    df_temp = df.copy()  ## so no chance to mutate this   \n",
    "    flag_direct = False  ## one-hop query or not\n",
    "    ## use df_col to look quicker into columns\n",
    "    df_col = set(df_temp.columns)\n",
    "    \n",
    "    ## ignore source and pubmed col in looking at unique edges \n",
    "    columns_drop = [col for col in df_col if (('_source' in col) or ('_publications' in col))]\n",
    "    df_temp.drop(columns = columns_drop, inplace = True)    \n",
    "    df_temp.drop_duplicates(inplace = True)\n",
    "    \n",
    "    ## check if query is one-hop or not\n",
    "    if \"node1_label\" not in df_col:    ## name for first intermediate node layer\n",
    "        flag_direct = True  \n",
    "    \n",
    "    if q_type == 'Explain':\n",
    "        if flag_direct:   # one hop / no intermediates\n",
    "            print('No valid node scoring for one-hop (direct) Explain queries.')\n",
    "            return None\n",
    "        ## if there are many-hops/intermediate layers\n",
    "        elif \"node2_label\" in df_col:  ## name for 2nd intermed. node layer\n",
    "            print('Cannot currently score many-hop Explain queries.')\n",
    "            return None\n",
    "        else:   ## two-hop / 1 intermediate layer\n",
    "            ## count multi-edges to results (the intermediate node1 col)\n",
    "            scores = df_temp.node1_label.value_counts() \n",
    "            ## to find the maximum-possible number of edges, look at non-result cols\n",
    "            columns_drop = [col for col in df_col if 'node1' in col]\n",
    "            df_temp.drop(columns = columns_drop, inplace = True)\n",
    "            ## now look at number of unique combos for input, edge info, output\n",
    "            df_temp.drop_duplicates(inplace = True)\n",
    "            max_paths = df_temp.shape[0]            \n",
    "            ## normalize scores by dividing each by max number of paths\n",
    "            scores = scores / max_paths\n",
    "\n",
    "    else:  ## Predict type query\n",
    "        ## count multi-edges to results (the output col)\n",
    "        scores = df_temp.output_label.value_counts()\n",
    "        ## to find the maximum number of multi-edges, look at non-output col\n",
    "        columns_drop = [col for col in df_temp.columns if 'output' in col]\n",
    "        df_temp.drop(columns = columns_drop, inplace = True)\n",
    "        ## now look at number of unique paths possible\n",
    "        df_temp.drop_duplicates(inplace = True)\n",
    "        max_paths = df_temp.shape[0]\n",
    "        ## normalize scores by dividing each by max number of paths\n",
    "        scores = scores / max_paths\n",
    "            \n",
    "    ## return scores as pandas dataframe, with rank\n",
    "    scores = scores.to_frame(name = 'score') \n",
    "    scores['rank'] = scores['score'].rank(method = 'dense', ascending = False)\n",
    "    return scores"
   ]
  },
  {
   "cell_type": "code",
   "execution_count": 5,
   "metadata": {
    "ExecuteTime": {
     "end_time": "2020-11-27T00:47:24.273858Z",
     "start_time": "2020-11-27T00:47:24.269632Z"
    }
   },
   "outputs": [
    {
     "name": "stdout",
     "output_type": "stream",
     "text": [
      "The time that this notebook was executed is...\n",
      "Local time (PST, West Coast USA): \n",
      "2020-11-26 16:47:24.271129\n",
      "UTC time: \n",
      "2020-11-27 00:47:24.271325\n"
     ]
    }
   ],
   "source": [
    "## record when cell blocks are executed\n",
    "print('The time that this notebook was executed is...')\n",
    "print('Local time (PST, West Coast USA): ')\n",
    "print(datetime.now())\n",
    "print('UTC time: ')\n",
    "print(datetime.utcnow())"
   ]
  },
  {
   "cell_type": "markdown",
   "metadata": {},
   "source": [
    "## Step 1: Find representation of \"SARS\" in BTE"
   ]
  },
  {
   "cell_type": "markdown",
   "metadata": {},
   "source": [
    "In this step, BioThings Explorer translates our query string \"SARS\"  into BioThings objects, which contain mappings to many common identifiers. We then pick the BioThings object that best matches what we want. \n",
    "\n",
    "Generally, the top result returned by the Hint module for your BioThings type of interest will match what you want, but you should confirm that using the identifiers shown. \n",
    "\n",
    "\n",
    "> BioThings types correspond to children and descendants of [BiologicalEntity](https://biolink.github.io/biolink-model/docs/BiologicalEntity.html) from the [Biolink Model](https://biolink.github.io/biolink-model/docs/), including `Disease` (e.g., \"lupus\"), `ChemicalSubstance` (e.g., \"acetaminophen\"), `Gene` (e.g., \"CDK2\"), `BiologicalProcess` (e.g., \"T cell differentiation\"), and `Pathway` (e.g., \"Citric acid cycle\"). **However, [only a subset of the Biolink BiologicalEntity children / descendants are currently implemented in BTE](https://smart-api.info/portal/translator/metakg)**. More biomedical object types will be available as more knowledge sources (APIs) are added to the system. **Note that the type `BiologicalEntity` means any BioThings type currently implemented in BTE will be accepted.**"
   ]
  },
  {
   "cell_type": "code",
   "execution_count": 6,
   "metadata": {
    "ExecuteTime": {
     "end_time": "2020-11-27T00:47:28.280559Z",
     "start_time": "2020-11-27T00:47:28.006711Z"
    }
   },
   "outputs": [
    {
     "name": "stdout",
     "output_type": "stream",
     "text": [
      "There are 10 BioThings objects returned for SARS:\n",
      "ChemicalSubstance, Anti-SARS-CoV-2 REGN-COV2, num of IDs: 1\n",
      "Disease, severe acute respiratory syndrome, num of IDs: 5\n",
      "Disease, COVID-19, num of IDs: 2\n",
      "Disease, COVID-19–associated multisystem inflammatory syndrome in children, num of IDs: 2\n",
      "Disease, IMD74, num of IDs: 0\n",
      "MolecularActivity, selenocysteine-tRNA ligase activity, num of IDs: 2\n",
      "MolecularActivity, mRNA (guanine-N7-)-methyltransferase activity, num of IDs: 3\n",
      "MolecularActivity, 5'-3' RNA helicase activity, num of IDs: 2\n",
      "MolecularActivity, mRNA (nucleoside-2'-O-)-methyltransferase activity, num of IDs: 3\n",
      "MolecularActivity, RNA-directed 5'-3' RNA polymerase activity, num of IDs: 3\n"
     ]
    }
   ],
   "source": [
    "ht = Hint()  ## neater way to call this BTE module\n",
    "\n",
    "## the human user gives this input\n",
    "disease_starting_str = \"SARS\"\n",
    "\n",
    "disease_hint = ht.query(disease_starting_str)\n",
    "hint_display(disease_starting_str, disease_hint)"
   ]
  },
  {
   "cell_type": "markdown",
   "metadata": {},
   "source": [
    "Note: the query failed to retrieve Disease &rarr; PhenotypicFeatures for COVID-19 (a sibling of SARS in the Mondo ontology) and Orthocoronavirinae infectious disease (parent of COVID-19 and SARS in the Mondo ontology). \n",
    "\n",
    "So we'll pick the SARS `Disease` choice (indexed at 0) for our query. We can look at identifier mappings inside this BioThings object. "
   ]
  },
  {
   "cell_type": "code",
   "execution_count": 7,
   "metadata": {
    "ExecuteTime": {
     "end_time": "2020-11-27T00:47:33.296163Z",
     "start_time": "2020-11-27T00:47:33.284729Z"
    }
   },
   "outputs": [
    {
     "data": {
      "text/plain": [
       "{'MONDO': 'MONDO:0005091',\n",
       " 'DOID': 'DOID:2945',\n",
       " 'UMLS': 'C1175175',\n",
       " 'name': 'severe acute respiratory syndrome',\n",
       " 'MESH': 'D045169',\n",
       " 'ORPHANET': '140896',\n",
       " 'primary': {'identifier': 'MONDO',\n",
       "  'cls': 'Disease',\n",
       "  'value': 'MONDO:0005091'},\n",
       " 'display': 'MONDO(MONDO:0005091) DOID(DOID:2945) ORPHANET(140896) UMLS(C1175175) MESH(D045169) name(severe acute respiratory syndrome)',\n",
       " 'type': 'Disease'}"
      ]
     },
     "execution_count": 7,
     "metadata": {},
     "output_type": "execute_result"
    }
   ],
   "source": [
    "## the human user makes this choice, gives this input\n",
    "disease_choice_type = 'Disease'\n",
    "disease_choice_idx = 0\n",
    "\n",
    "disease_hint_obj = disease_hint[disease_choice_type][disease_choice_idx]  \n",
    "disease_hint_obj\n",
    "## these inner dictionaries are keys = id type, \n",
    "##       values = curie, normal string, or dictionary (for the key 'primary')"
   ]
  },
  {
   "cell_type": "markdown",
   "metadata": {},
   "source": [
    "## SARS &rarr; PhenotypicFeature &rarr; Gene &rarr; Pathway"
   ]
  },
  {
   "cell_type": "markdown",
   "metadata": {},
   "source": [
    "In this section, we dynamically generate a knowledge graph with paths connecting SARS to pathways *using PhenotypicFeature and Gene intermediates*.  \n",
    "\n",
    "BTE performs the **query path planning** and **query path execution** by deconstructing the query into individual API calls, executing those API calls, and then assembling the results.\n",
    "\n",
    "The code block below takes less than a minute to run.   "
   ]
  },
  {
   "cell_type": "code",
   "execution_count": 8,
   "metadata": {
    "ExecuteTime": {
     "end_time": "2020-11-27T00:48:14.604955Z",
     "start_time": "2020-11-27T00:47:35.942220Z"
    }
   },
   "outputs": [],
   "source": [
    "## the human user gives this input\n",
    "q1_output_type = 'Pathway'\n",
    "q1_intermediate = ['PhenotypicFeature', 'Gene']\n",
    "\n",
    "## uses newer version of BTE Predict function\n",
    "q1 = Predict(input_objs = [disease_hint_obj],\\\n",
    "             output_types = [q1_output_type], \\\n",
    "             intermediate_nodes = q1_intermediate,\n",
    "             config = {})  ## no configs set\n",
    "q1.connect(verbose = False)"
   ]
  },
  {
   "cell_type": "code",
   "execution_count": 9,
   "metadata": {
    "ExecuteTime": {
     "end_time": "2020-11-27T00:57:40.979411Z",
     "start_time": "2020-11-27T00:57:40.665902Z"
    }
   },
   "outputs": [],
   "source": [
    "# q1_r_graph = q1.fc.G   ## for changing the graph object to reflect the table\n",
    "q1_r_paths_table = q1.display_table_view()\n",
    "\n",
    "q1_type = re.findall(\"query.predict.([a-zA-Z]+)'\", str(type(q1)))\n",
    "q1_type = \"\".join(q1_type)  ## convert to string\n",
    "\n",
    "q1 = None  ## clear memory"
   ]
  },
  {
   "cell_type": "markdown",
   "metadata": {},
   "source": [
    "We can see the number of PhenotypicFeatures that were linked to SARS, the number of Genes linked to those PhenotypicFeatures, the number of Pathways returned as output, and the total number of paths from .and to a Gene, the number of Genes returned as output nodes, and the total number of paths from SARS to Pathway nodes. "
   ]
  },
  {
   "cell_type": "code",
   "execution_count": 10,
   "metadata": {
    "ExecuteTime": {
     "end_time": "2020-11-27T00:57:42.815837Z",
     "start_time": "2020-11-27T00:57:42.799667Z"
    }
   },
   "outputs": [
    {
     "name": "stdout",
     "output_type": "stream",
     "text": [
      "There are 16 unique PhenotypicFeatures for SARS.\n",
      "There are 805 unique Genes for SARS.\n",
      "There are 2059 unique Pathways for SARS.\n",
      "There are 51768 unique paths.\n"
     ]
    }
   ],
   "source": [
    "## show number of unique intermediate nodes\n",
    "print(\"There are {0} unique {1}s for {2}.\".format( \\\n",
    "    q1_r_paths_table.node1_label.nunique(), q1_intermediate[0], disease_starting_str))\n",
    "\n",
    "print(\"There are {0} unique {1}s for {2}.\".format( \\\n",
    "    q1_r_paths_table.node2_label.nunique(), q1_intermediate[1], disease_starting_str))\n",
    "\n",
    "## show number of unique output nodes\n",
    "print(\"There are {0} unique {1}s for {2}.\".format( \\\n",
    "    q1_r_paths_table.output_label.nunique(), q1_output_type, disease_starting_str))\n",
    "\n",
    "## show number of paths from disease to genes\n",
    "print(\"There are {0} unique paths.\".format( \\\n",
    "    q1_r_paths_table.shape[0]))"
   ]
  },
  {
   "cell_type": "markdown",
   "metadata": {},
   "source": [
    "The PhenotypicFeatures (symptoms) of SARS/COVID19 used:"
   ]
  },
  {
   "cell_type": "code",
   "execution_count": 11,
   "metadata": {
    "ExecuteTime": {
     "end_time": "2020-11-27T00:57:45.888363Z",
     "start_time": "2020-11-27T00:57:45.881384Z"
    }
   },
   "outputs": [
    {
     "data": {
      "text/plain": [
       "array(['Cough', 'Headache', 'Neoplasm', 'Fever', 'Dyspnea',\n",
       "       'Respiratory distress', 'Myalgia', 'Immunodeficiency',\n",
       "       'Diabetes mellitus',\n",
       "       'Respiratory failure requiring assisted ventilation',\n",
       "       'Acute infectious pneumonia', 'Hypoxemia',\n",
       "       'Abnormality of the cardiovascular system', 'Pharyngitis',\n",
       "       'Acute kidney injury', 'Chronic lung disease'], dtype=object)"
      ]
     },
     "execution_count": 11,
     "metadata": {},
     "output_type": "execute_result"
    }
   ],
   "source": [
    "q1_r_paths_table['node1_label'].unique()"
   ]
  },
  {
   "cell_type": "markdown",
   "metadata": {},
   "source": [
    "### Scoring"
   ]
  },
  {
   "cell_type": "markdown",
   "metadata": {},
   "source": [
    "The scoring process for Predict queries (the type of query we're using now): \n",
    "\n",
    "It relies on the assumption that the user would be most interested in Pathways that share many intermediate nodes (phenotypes and genes) with SARS. \n",
    "\n",
    "1. To score individual Pathway nodes, we first take a copy of the knowledge graph (KG) and remove some multi-edges. \n",
    "    * Each edge has predicate, API, method, source, and pubmed information. For scoring purposes, we will ignore pubmed and source information because APIs handle this information differently (returning multiple edges or single edges). \n",
    "2. We then count the number of paths from the SARS node to each Pathway node.        \n",
    "3. Finally, we \"normalize\" the score by dividing those counts by maximum-possible number of paths from the SARS node to a Pathway node.\n",
    "\n",
    "We can then see the top-scored nodes. A score of closer to 1 means that the many PhenotypicFeatures and Genes link SARS and the Pathway node. A score closer to 0 means that only a few PhenotypicFeatures and Genes link SARS and the Pathway node. "
   ]
  },
  {
   "cell_type": "code",
   "execution_count": 14,
   "metadata": {
    "ExecuteTime": {
     "end_time": "2020-11-27T00:59:07.422565Z",
     "start_time": "2020-11-27T00:59:07.222146Z"
    }
   },
   "outputs": [
    {
     "data": {
      "text/html": [
       "<div>\n",
       "<style scoped>\n",
       "    .dataframe tbody tr th:only-of-type {\n",
       "        vertical-align: middle;\n",
       "    }\n",
       "\n",
       "    .dataframe tbody tr th {\n",
       "        vertical-align: top;\n",
       "    }\n",
       "\n",
       "    .dataframe thead th {\n",
       "        text-align: right;\n",
       "    }\n",
       "</style>\n",
       "<table border=\"1\" class=\"dataframe\">\n",
       "  <thead>\n",
       "    <tr style=\"text-align: right;\">\n",
       "      <th></th>\n",
       "      <th>output_label</th>\n",
       "      <th>score</th>\n",
       "      <th>rank</th>\n",
       "    </tr>\n",
       "  </thead>\n",
       "  <tbody>\n",
       "    <tr>\n",
       "      <th>0</th>\n",
       "      <td>Immune System</td>\n",
       "      <td>0.292723</td>\n",
       "      <td>1.0</td>\n",
       "    </tr>\n",
       "    <tr>\n",
       "      <th>1</th>\n",
       "      <td>Signal Transduction</td>\n",
       "      <td>0.280458</td>\n",
       "      <td>2.0</td>\n",
       "    </tr>\n",
       "    <tr>\n",
       "      <th>2</th>\n",
       "      <td>Metabolism</td>\n",
       "      <td>0.250204</td>\n",
       "      <td>3.0</td>\n",
       "    </tr>\n",
       "    <tr>\n",
       "      <th>3</th>\n",
       "      <td>Disease</td>\n",
       "      <td>0.239575</td>\n",
       "      <td>4.0</td>\n",
       "    </tr>\n",
       "    <tr>\n",
       "      <th>4</th>\n",
       "      <td>Metabolism of proteins</td>\n",
       "      <td>0.206051</td>\n",
       "      <td>5.0</td>\n",
       "    </tr>\n",
       "    <tr>\n",
       "      <th>5</th>\n",
       "      <td>Cytokine Signaling in Immune system</td>\n",
       "      <td>0.146361</td>\n",
       "      <td>6.0</td>\n",
       "    </tr>\n",
       "    <tr>\n",
       "      <th>6</th>\n",
       "      <td>Gene expression (Transcription)</td>\n",
       "      <td>0.141455</td>\n",
       "      <td>7.0</td>\n",
       "    </tr>\n",
       "    <tr>\n",
       "      <th>7</th>\n",
       "      <td>Innate Immune System</td>\n",
       "      <td>0.140638</td>\n",
       "      <td>8.0</td>\n",
       "    </tr>\n",
       "    <tr>\n",
       "      <th>8</th>\n",
       "      <td>RNA Polymerase II Transcription</td>\n",
       "      <td>0.132461</td>\n",
       "      <td>9.0</td>\n",
       "    </tr>\n",
       "    <tr>\n",
       "      <th>9</th>\n",
       "      <td>Post-translational protein modification</td>\n",
       "      <td>0.130826</td>\n",
       "      <td>10.0</td>\n",
       "    </tr>\n",
       "    <tr>\n",
       "      <th>10</th>\n",
       "      <td>Generic Transcription Pathway</td>\n",
       "      <td>0.130008</td>\n",
       "      <td>11.0</td>\n",
       "    </tr>\n",
       "    <tr>\n",
       "      <th>11</th>\n",
       "      <td>Cell Cycle</td>\n",
       "      <td>0.119379</td>\n",
       "      <td>12.0</td>\n",
       "    </tr>\n",
       "    <tr>\n",
       "      <th>12</th>\n",
       "      <td>Developmental Biology</td>\n",
       "      <td>0.107114</td>\n",
       "      <td>13.0</td>\n",
       "    </tr>\n",
       "    <tr>\n",
       "      <th>13</th>\n",
       "      <td>Hemostasis</td>\n",
       "      <td>0.098937</td>\n",
       "      <td>14.0</td>\n",
       "    </tr>\n",
       "    <tr>\n",
       "      <th>14</th>\n",
       "      <td>Signaling by Receptor Tyrosine Kinases</td>\n",
       "      <td>0.098119</td>\n",
       "      <td>15.0</td>\n",
       "    </tr>\n",
       "    <tr>\n",
       "      <th>15</th>\n",
       "      <td>Diseases of signal transduction</td>\n",
       "      <td>0.091578</td>\n",
       "      <td>16.0</td>\n",
       "    </tr>\n",
       "    <tr>\n",
       "      <th>16</th>\n",
       "      <td>Adaptive Immune System</td>\n",
       "      <td>0.088307</td>\n",
       "      <td>17.0</td>\n",
       "    </tr>\n",
       "    <tr>\n",
       "      <th>17</th>\n",
       "      <td>Infectious disease</td>\n",
       "      <td>0.087490</td>\n",
       "      <td>18.0</td>\n",
       "    </tr>\n",
       "    <tr>\n",
       "      <th>18</th>\n",
       "      <td>Transport of small molecules</td>\n",
       "      <td>0.085854</td>\n",
       "      <td>19.0</td>\n",
       "    </tr>\n",
       "    <tr>\n",
       "      <th>19</th>\n",
       "      <td>Signaling by Interleukins</td>\n",
       "      <td>0.084219</td>\n",
       "      <td>20.0</td>\n",
       "    </tr>\n",
       "  </tbody>\n",
       "</table>\n",
       "</div>"
      ],
      "text/plain": [
       "                               output_label     score  rank\n",
       "0                             Immune System  0.292723   1.0\n",
       "1                       Signal Transduction  0.280458   2.0\n",
       "2                                Metabolism  0.250204   3.0\n",
       "3                                   Disease  0.239575   4.0\n",
       "4                    Metabolism of proteins  0.206051   5.0\n",
       "5       Cytokine Signaling in Immune system  0.146361   6.0\n",
       "6           Gene expression (Transcription)  0.141455   7.0\n",
       "7                      Innate Immune System  0.140638   8.0\n",
       "8           RNA Polymerase II Transcription  0.132461   9.0\n",
       "9   Post-translational protein modification  0.130826  10.0\n",
       "10            Generic Transcription Pathway  0.130008  11.0\n",
       "11                               Cell Cycle  0.119379  12.0\n",
       "12                    Developmental Biology  0.107114  13.0\n",
       "13                               Hemostasis  0.098937  14.0\n",
       "14   Signaling by Receptor Tyrosine Kinases  0.098119  15.0\n",
       "15          Diseases of signal transduction  0.091578  16.0\n",
       "16                   Adaptive Immune System  0.088307  17.0\n",
       "17                       Infectious disease  0.087490  18.0\n",
       "18             Transport of small molecules  0.085854  19.0\n",
       "19                Signaling by Interleukins  0.084219  20.0"
      ]
     },
     "execution_count": 14,
     "metadata": {},
     "output_type": "execute_result"
    }
   ],
   "source": [
    "## create scoring table for Genes (output nodes)\n",
    "q1_scoring = scoring_output(q1_r_paths_table, q1_type)\n",
    "q1_scoring.index.name = 'output_label'\n",
    "q1_scoring.reset_index(inplace = True)\n",
    "\n",
    "q1_scoring.head(20)"
   ]
  },
  {
   "cell_type": "markdown",
   "metadata": {},
   "source": [
    "Notice that multiple top results have to do with the immune system, infectious disease, cytokines, and interleukins. "
   ]
  },
  {
   "cell_type": "markdown",
   "metadata": {},
   "source": [
    "### Comparing answers to bradykinin article"
   ]
  },
  {
   "cell_type": "markdown",
   "metadata": {},
   "source": [
    "We manually took keywords from the parts of the [\"bradykinin storm\" mechanism article](https://elifesciences.org/articles/59177) that discussed pathways and mechanisms, and we searched for them in the pathways returned by BTE. The keywords that returned results and the results found are shown below. \n",
    "\n",
    "Notice that while RAS signaling and other processes mentioned in the article are found in BTE, they are not the top-scoring results overall. "
   ]
  },
  {
   "cell_type": "code",
   "execution_count": 15,
   "metadata": {
    "ExecuteTime": {
     "end_time": "2020-11-27T00:59:10.430589Z",
     "start_time": "2020-11-27T00:59:10.416151Z"
    }
   },
   "outputs": [
    {
     "data": {
      "text/html": [
       "<div>\n",
       "<style scoped>\n",
       "    .dataframe tbody tr th:only-of-type {\n",
       "        vertical-align: middle;\n",
       "    }\n",
       "\n",
       "    .dataframe tbody tr th {\n",
       "        vertical-align: top;\n",
       "    }\n",
       "\n",
       "    .dataframe thead th {\n",
       "        text-align: right;\n",
       "    }\n",
       "</style>\n",
       "<table border=\"1\" class=\"dataframe\">\n",
       "  <thead>\n",
       "    <tr style=\"text-align: right;\">\n",
       "      <th></th>\n",
       "      <th>output_label</th>\n",
       "      <th>score</th>\n",
       "      <th>rank</th>\n",
       "    </tr>\n",
       "  </thead>\n",
       "  <tbody>\n",
       "    <tr>\n",
       "      <th>38</th>\n",
       "      <td>Neutrophil degranulation</td>\n",
       "      <td>0.055601</td>\n",
       "      <td>34.0</td>\n",
       "    </tr>\n",
       "    <tr>\n",
       "      <th>165</th>\n",
       "      <td>Cardiac conduction</td>\n",
       "      <td>0.023712</td>\n",
       "      <td>67.0</td>\n",
       "    </tr>\n",
       "    <tr>\n",
       "      <th>190</th>\n",
       "      <td>Cardiac Progenitor Differentiation</td>\n",
       "      <td>0.022077</td>\n",
       "      <td>69.0</td>\n",
       "    </tr>\n",
       "    <tr>\n",
       "      <th>213</th>\n",
       "      <td>Calcium Regulation in the Cardiac Cell</td>\n",
       "      <td>0.020442</td>\n",
       "      <td>71.0</td>\n",
       "    </tr>\n",
       "    <tr>\n",
       "      <th>309</th>\n",
       "      <td>Inflammatory Response Pathway</td>\n",
       "      <td>0.016353</td>\n",
       "      <td>76.0</td>\n",
       "    </tr>\n",
       "    <tr>\n",
       "      <th>337</th>\n",
       "      <td>Cardiac Hypertrophic Response</td>\n",
       "      <td>0.014718</td>\n",
       "      <td>78.0</td>\n",
       "    </tr>\n",
       "    <tr>\n",
       "      <th>399</th>\n",
       "      <td>Resistin as a regulator of inflammation</td>\n",
       "      <td>0.013083</td>\n",
       "      <td>80.0</td>\n",
       "    </tr>\n",
       "    <tr>\n",
       "      <th>452</th>\n",
       "      <td>Relationship between inflammation, COX-2 and EGFR</td>\n",
       "      <td>0.011447</td>\n",
       "      <td>82.0</td>\n",
       "    </tr>\n",
       "    <tr>\n",
       "      <th>492</th>\n",
       "      <td>Inflammasomes</td>\n",
       "      <td>0.010630</td>\n",
       "      <td>83.0</td>\n",
       "    </tr>\n",
       "    <tr>\n",
       "      <th>525</th>\n",
       "      <td>Fibrin Complement Receptor 3 Signaling Pathway</td>\n",
       "      <td>0.009812</td>\n",
       "      <td>84.0</td>\n",
       "    </tr>\n",
       "  </tbody>\n",
       "</table>\n",
       "</div>"
      ],
      "text/plain": [
       "                                          output_label     score  rank\n",
       "38                            Neutrophil degranulation  0.055601  34.0\n",
       "165                                 Cardiac conduction  0.023712  67.0\n",
       "190                 Cardiac Progenitor Differentiation  0.022077  69.0\n",
       "213             Calcium Regulation in the Cardiac Cell  0.020442  71.0\n",
       "309                      Inflammatory Response Pathway  0.016353  76.0\n",
       "337                      Cardiac Hypertrophic Response  0.014718  78.0\n",
       "399            Resistin as a regulator of inflammation  0.013083  80.0\n",
       "452  Relationship between inflammation, COX-2 and EGFR  0.011447  82.0\n",
       "492                                      Inflammasomes  0.010630  83.0\n",
       "525     Fibrin Complement Receptor 3 Signaling Pathway  0.009812  84.0"
      ]
     },
     "execution_count": 15,
     "metadata": {},
     "output_type": "execute_result"
    }
   ],
   "source": [
    "path_mask = 'RAS|ACE Inhibitor|Vascular|Coagulation|Clot|Inflamm|inflamm|'\\\n",
    "            'Vasopressin|Neutrophil|Fibrin|Cardiac|cardiac|Vitamin D'\\\n",
    "            'vitamin D|Potassium'\n",
    "\n",
    "q1_scoring_BK = q1_scoring[q1_scoring['output_label'].str.contains(path_mask)].copy()\n",
    "q1_scoring_BK.head(10)"
   ]
  },
  {
   "cell_type": "markdown",
   "metadata": {},
   "source": [
    "### APIs used"
   ]
  },
  {
   "cell_type": "markdown",
   "metadata": {},
   "source": [
    "Different knowledge sources (APIs) were called in different parts of the query. \n",
    "\n",
    "In the first part of the query (SARS &rarr; PhenotypicFeature), the following APIs returned results and the following predicates (semantic relationships) were found. "
   ]
  },
  {
   "cell_type": "code",
   "execution_count": 16,
   "metadata": {
    "ExecuteTime": {
     "end_time": "2020-11-27T00:59:14.030996Z",
     "start_time": "2020-11-27T00:59:14.012694Z"
    }
   },
   "outputs": [
    {
     "data": {
      "text/html": [
       "<div>\n",
       "<style scoped>\n",
       "    .dataframe tbody tr th:only-of-type {\n",
       "        vertical-align: middle;\n",
       "    }\n",
       "\n",
       "    .dataframe tbody tr th {\n",
       "        vertical-align: top;\n",
       "    }\n",
       "\n",
       "    .dataframe thead th {\n",
       "        text-align: right;\n",
       "    }\n",
       "</style>\n",
       "<table border=\"1\" class=\"dataframe\">\n",
       "  <thead>\n",
       "    <tr style=\"text-align: right;\">\n",
       "      <th></th>\n",
       "      <th>pred1_api</th>\n",
       "      <th>pred1</th>\n",
       "    </tr>\n",
       "  </thead>\n",
       "  <tbody>\n",
       "    <tr>\n",
       "      <th>7</th>\n",
       "      <td>BioLink API</td>\n",
       "      <td>has_phenotype</td>\n",
       "    </tr>\n",
       "    <tr>\n",
       "      <th>0</th>\n",
       "      <td>mydisease.info API</td>\n",
       "      <td>related_to</td>\n",
       "    </tr>\n",
       "  </tbody>\n",
       "</table>\n",
       "</div>"
      ],
      "text/plain": [
       "            pred1_api          pred1\n",
       "7         BioLink API  has_phenotype\n",
       "0  mydisease.info API     related_to"
      ]
     },
     "execution_count": 16,
     "metadata": {},
     "output_type": "execute_result"
    }
   ],
   "source": [
    "## show that the APIs use different predicates\n",
    "q1_r_paths_table[['pred1_api', 'pred1']].drop_duplicates().sort_values(by = ['pred1_api', 'pred1'])"
   ]
  },
  {
   "cell_type": "markdown",
   "metadata": {},
   "source": [
    "In the second part of the query (PhenotypicFeature &rarr; Gene), the following APIs returned results and the following predicates (semantic relationships) were found. "
   ]
  },
  {
   "cell_type": "code",
   "execution_count": 17,
   "metadata": {
    "ExecuteTime": {
     "end_time": "2020-11-27T00:59:15.852458Z",
     "start_time": "2020-11-27T00:59:15.834136Z"
    }
   },
   "outputs": [
    {
     "data": {
      "text/html": [
       "<div>\n",
       "<style scoped>\n",
       "    .dataframe tbody tr th:only-of-type {\n",
       "        vertical-align: middle;\n",
       "    }\n",
       "\n",
       "    .dataframe tbody tr th {\n",
       "        vertical-align: top;\n",
       "    }\n",
       "\n",
       "    .dataframe thead th {\n",
       "        text-align: right;\n",
       "    }\n",
       "</style>\n",
       "<table border=\"1\" class=\"dataframe\">\n",
       "  <thead>\n",
       "    <tr style=\"text-align: right;\">\n",
       "      <th></th>\n",
       "      <th>pred2_api</th>\n",
       "      <th>pred2</th>\n",
       "    </tr>\n",
       "  </thead>\n",
       "  <tbody>\n",
       "    <tr>\n",
       "      <th>0</th>\n",
       "      <td>BioLink API</td>\n",
       "      <td>related_to</td>\n",
       "    </tr>\n",
       "    <tr>\n",
       "      <th>284</th>\n",
       "      <td>EBIgene2phenotype API</td>\n",
       "      <td>related_to</td>\n",
       "    </tr>\n",
       "  </tbody>\n",
       "</table>\n",
       "</div>"
      ],
      "text/plain": [
       "                 pred2_api       pred2\n",
       "0              BioLink API  related_to\n",
       "284  EBIgene2phenotype API  related_to"
      ]
     },
     "execution_count": 17,
     "metadata": {},
     "output_type": "execute_result"
    }
   ],
   "source": [
    "q1_r_paths_table[['pred2_api', 'pred2']].drop_duplicates().sort_values(by = ['pred2_api', 'pred2'])"
   ]
  },
  {
   "cell_type": "markdown",
   "metadata": {},
   "source": [
    "In the third part of the query (Gene &rarr; Pathway), the following APIs returned results and the following predicates (semantic relationships) were found."
   ]
  },
  {
   "cell_type": "code",
   "execution_count": 18,
   "metadata": {
    "ExecuteTime": {
     "end_time": "2020-11-27T00:59:17.744559Z",
     "start_time": "2020-11-27T00:59:17.726555Z"
    }
   },
   "outputs": [
    {
     "data": {
      "text/html": [
       "<div>\n",
       "<style scoped>\n",
       "    .dataframe tbody tr th:only-of-type {\n",
       "        vertical-align: middle;\n",
       "    }\n",
       "\n",
       "    .dataframe tbody tr th {\n",
       "        vertical-align: top;\n",
       "    }\n",
       "\n",
       "    .dataframe thead th {\n",
       "        text-align: right;\n",
       "    }\n",
       "</style>\n",
       "<table border=\"1\" class=\"dataframe\">\n",
       "  <thead>\n",
       "    <tr style=\"text-align: right;\">\n",
       "      <th></th>\n",
       "      <th>pred3_api</th>\n",
       "      <th>pred3</th>\n",
       "    </tr>\n",
       "  </thead>\n",
       "  <tbody>\n",
       "    <tr>\n",
       "      <th>0</th>\n",
       "      <td>MyGene.info API</td>\n",
       "      <td>functional_association</td>\n",
       "    </tr>\n",
       "  </tbody>\n",
       "</table>\n",
       "</div>"
      ],
      "text/plain": [
       "         pred3_api                   pred3\n",
       "0  MyGene.info API  functional_association"
      ]
     },
     "execution_count": 18,
     "metadata": {},
     "output_type": "execute_result"
    }
   ],
   "source": [
    "## show that the APIs use different predicates\n",
    "q1_r_paths_table[['pred3_api', 'pred3']].drop_duplicates().sort_values(by = ['pred3_api', 'pred3'])"
   ]
  },
  {
   "cell_type": "markdown",
   "metadata": {},
   "source": [
    "## SARS &rarr; PhenotypicFeature &rarr; Gene &rarr; BiologicalProcess"
   ]
  },
  {
   "cell_type": "markdown",
   "metadata": {},
   "source": [
    "In this section, we dynamically generate a knowledge graph with paths connecting SARS to biological processes (GO biological process terms) *using PhenotypicFeature and Gene intermediates*.  \n",
    "\n",
    "BTE performs the **query path planning** and **query path execution** by deconstructing the query into individual API calls, executing those API calls, and then assembling the results.\n",
    "\n",
    "The code block below takes less than a minute to run.   "
   ]
  },
  {
   "cell_type": "code",
   "execution_count": 19,
   "metadata": {
    "ExecuteTime": {
     "end_time": "2020-11-27T01:00:19.874291Z",
     "start_time": "2020-11-27T00:59:21.275541Z"
    }
   },
   "outputs": [],
   "source": [
    "## the human user gives this input\n",
    "q2_output_type = 'BiologicalProcess'\n",
    "q2_intermediate = ['PhenotypicFeature', 'Gene']\n",
    "\n",
    "q2 = Predict(input_objs = [disease_hint_obj],\\\n",
    "             output_types = [q2_output_type], \\\n",
    "             intermediate_nodes = q2_intermediate, \\\n",
    "             config = {})  ## no configs set\n",
    "q2.connect(verbose = False)"
   ]
  },
  {
   "cell_type": "code",
   "execution_count": 20,
   "metadata": {
    "ExecuteTime": {
     "end_time": "2020-11-27T01:00:27.184828Z",
     "start_time": "2020-11-27T01:00:26.517865Z"
    }
   },
   "outputs": [],
   "source": [
    "# q1_r_graph = q1.fc.G   ## for changing the graph object to reflect the table\n",
    "q2_r_paths_table = q2.display_table_view()\n",
    "\n",
    "q2_type = re.findall(\"predict.([a-zA-Z]+)'\", str(type(q2)))\n",
    "q2_type = \"\".join(q2_type)  ## convert to string\n",
    "\n",
    "q2 = None  ## clear memory"
   ]
  },
  {
   "cell_type": "code",
   "execution_count": 22,
   "metadata": {
    "ExecuteTime": {
     "end_time": "2020-11-27T01:00:35.966508Z",
     "start_time": "2020-11-27T01:00:35.735886Z"
    }
   },
   "outputs": [],
   "source": [
    "## current bug: issue resolving UMLS ids, removing them for now\n",
    "q2_r_paths_table = q2_r_paths_table[~ q2_r_paths_table['output_label'].str.contains('UMLS:')]"
   ]
  },
  {
   "cell_type": "code",
   "execution_count": 23,
   "metadata": {
    "ExecuteTime": {
     "end_time": "2020-11-27T01:00:37.082816Z",
     "start_time": "2020-11-27T01:00:37.055803Z"
    }
   },
   "outputs": [
    {
     "name": "stdout",
     "output_type": "stream",
     "text": [
      "There are 16 unique PhenotypicFeatures for SARS.\n",
      "There are 924 unique Genes for SARS.\n",
      "There are 5736 unique BiologicalProcesss for SARS.\n",
      "There are 73030 unique paths.\n"
     ]
    }
   ],
   "source": [
    "## show number of unique intermediate nodes\n",
    "print(\"There are {0} unique {1}s for {2}.\".format( \\\n",
    "    q2_r_paths_table.node1_label.nunique(), q2_intermediate[0], disease_starting_str))\n",
    "\n",
    "print(\"There are {0} unique {1}s for {2}.\".format( \\\n",
    "    q2_r_paths_table.node2_label.nunique(), q2_intermediate[1], disease_starting_str))\n",
    "\n",
    "## show number of unique output nodes\n",
    "print(\"There are {0} unique {1}s for {2}.\".format( \\\n",
    "    q2_r_paths_table.output_label.nunique(), q2_output_type, disease_starting_str))\n",
    "\n",
    "## show number of paths from disease to genes\n",
    "print(\"There are {0} unique paths.\".format( \\\n",
    "    q2_r_paths_table.shape[0]))"
   ]
  },
  {
   "cell_type": "markdown",
   "metadata": {},
   "source": [
    "The PhenotypicFeatures (symptoms) of SARS/COVID19 used:"
   ]
  },
  {
   "cell_type": "code",
   "execution_count": 24,
   "metadata": {
    "ExecuteTime": {
     "end_time": "2020-11-27T01:00:41.697242Z",
     "start_time": "2020-11-27T01:00:41.688840Z"
    }
   },
   "outputs": [
    {
     "data": {
      "text/plain": [
       "array(['Cough', 'Headache', 'Neoplasm', 'Fever', 'Dyspnea',\n",
       "       'Respiratory distress', 'Myalgia', 'Immunodeficiency',\n",
       "       'Diabetes mellitus',\n",
       "       'Respiratory failure requiring assisted ventilation',\n",
       "       'Acute infectious pneumonia', 'Hypoxemia', 'Chronic lung disease',\n",
       "       'Abnormality of the cardiovascular system', 'Acute kidney injury',\n",
       "       'Pharyngitis'], dtype=object)"
      ]
     },
     "execution_count": 24,
     "metadata": {},
     "output_type": "execute_result"
    }
   ],
   "source": [
    "q2_r_paths_table['node1_label'].unique()"
   ]
  },
  {
   "cell_type": "markdown",
   "metadata": {},
   "source": [
    "### Scoring"
   ]
  },
  {
   "cell_type": "markdown",
   "metadata": {},
   "source": [
    "The scoring process for Predict queries (the type of query we're using now): \n",
    "\n",
    "It relies on the assumption that the user would be most interested in Pathways that share many intermediate nodes (phenotypes and genes) with SARS. \n",
    "\n",
    "1. To score individual Pathway nodes, we first take a copy of the knowledge graph (KG) and remove some multi-edges. \n",
    "    * Each edge has predicate, API, method, source, and pubmed information. For scoring purposes, we will ignore pubmed and source information because APIs handle this information differently (returning multiple edges or single edges). \n",
    "2. We then count the number of paths from the SARS node to each Pathway node.        \n",
    "3. Finally, we \"normalize\" the score by dividing those counts by maximum-possible number of paths from the SARS node to a Pathway node.\n",
    "\n",
    "We can then see the top-scored nodes. A score of closer to 1 means that the many PhenotypicFeatures and Genes link SARS and the Pathway node. A score closer to 0 means that only a few PhenotypicFeatures and Genes link SARS and the Pathway node. "
   ]
  },
  {
   "cell_type": "code",
   "execution_count": 25,
   "metadata": {
    "ExecuteTime": {
     "end_time": "2020-11-27T01:00:45.101963Z",
     "start_time": "2020-11-27T01:00:44.808411Z"
    }
   },
   "outputs": [
    {
     "data": {
      "text/html": [
       "<div>\n",
       "<style scoped>\n",
       "    .dataframe tbody tr th:only-of-type {\n",
       "        vertical-align: middle;\n",
       "    }\n",
       "\n",
       "    .dataframe tbody tr th {\n",
       "        vertical-align: top;\n",
       "    }\n",
       "\n",
       "    .dataframe thead th {\n",
       "        text-align: right;\n",
       "    }\n",
       "</style>\n",
       "<table border=\"1\" class=\"dataframe\">\n",
       "  <thead>\n",
       "    <tr style=\"text-align: right;\">\n",
       "      <th></th>\n",
       "      <th>output_label</th>\n",
       "      <th>score</th>\n",
       "      <th>rank</th>\n",
       "    </tr>\n",
       "  </thead>\n",
       "  <tbody>\n",
       "    <tr>\n",
       "      <th>0</th>\n",
       "      <td>growth</td>\n",
       "      <td>0.102507</td>\n",
       "      <td>1.0</td>\n",
       "    </tr>\n",
       "    <tr>\n",
       "      <th>1</th>\n",
       "      <td>positive regulation of transcription by RNA po...</td>\n",
       "      <td>0.094708</td>\n",
       "      <td>2.0</td>\n",
       "    </tr>\n",
       "    <tr>\n",
       "      <th>2</th>\n",
       "      <td>gene expression</td>\n",
       "      <td>0.089694</td>\n",
       "      <td>3.0</td>\n",
       "    </tr>\n",
       "    <tr>\n",
       "      <th>3</th>\n",
       "      <td>negative regulation of transcription by RNA po...</td>\n",
       "      <td>0.071309</td>\n",
       "      <td>4.0</td>\n",
       "    </tr>\n",
       "    <tr>\n",
       "      <th>4</th>\n",
       "      <td>innate immune response</td>\n",
       "      <td>0.069081</td>\n",
       "      <td>5.0</td>\n",
       "    </tr>\n",
       "    <tr>\n",
       "      <th>5</th>\n",
       "      <td>positive regulation of transcription, DNA-temp...</td>\n",
       "      <td>0.068524</td>\n",
       "      <td>6.0</td>\n",
       "    </tr>\n",
       "    <tr>\n",
       "      <th>6</th>\n",
       "      <td>signal transduction</td>\n",
       "      <td>0.067409</td>\n",
       "      <td>7.0</td>\n",
       "    </tr>\n",
       "    <tr>\n",
       "      <th>7</th>\n",
       "      <td>inflammatory response</td>\n",
       "      <td>0.066852</td>\n",
       "      <td>8.0</td>\n",
       "    </tr>\n",
       "    <tr>\n",
       "      <th>8</th>\n",
       "      <td>cell population proliferation</td>\n",
       "      <td>0.064067</td>\n",
       "      <td>9.0</td>\n",
       "    </tr>\n",
       "    <tr>\n",
       "      <th>9</th>\n",
       "      <td>catagen</td>\n",
       "      <td>0.060724</td>\n",
       "      <td>10.0</td>\n",
       "    </tr>\n",
       "    <tr>\n",
       "      <th>10</th>\n",
       "      <td>catabolic process</td>\n",
       "      <td>0.060167</td>\n",
       "      <td>11.0</td>\n",
       "    </tr>\n",
       "    <tr>\n",
       "      <th>11</th>\n",
       "      <td>regulation of transcription by RNA polymerase II</td>\n",
       "      <td>0.057939</td>\n",
       "      <td>12.0</td>\n",
       "    </tr>\n",
       "    <tr>\n",
       "      <th>12</th>\n",
       "      <td>positive regulation of gene expression</td>\n",
       "      <td>0.056825</td>\n",
       "      <td>13.0</td>\n",
       "    </tr>\n",
       "    <tr>\n",
       "      <th>13</th>\n",
       "      <td>metabolic process</td>\n",
       "      <td>0.056267</td>\n",
       "      <td>14.0</td>\n",
       "    </tr>\n",
       "    <tr>\n",
       "      <th>14</th>\n",
       "      <td>positive regulation of cell population prolife...</td>\n",
       "      <td>0.055710</td>\n",
       "      <td>15.0</td>\n",
       "    </tr>\n",
       "    <tr>\n",
       "      <th>15</th>\n",
       "      <td>immune response</td>\n",
       "      <td>0.052925</td>\n",
       "      <td>16.0</td>\n",
       "    </tr>\n",
       "    <tr>\n",
       "      <th>16</th>\n",
       "      <td>negative regulation of apoptotic process</td>\n",
       "      <td>0.052925</td>\n",
       "      <td>16.0</td>\n",
       "    </tr>\n",
       "    <tr>\n",
       "      <th>17</th>\n",
       "      <td>MAPK cascade</td>\n",
       "      <td>0.051811</td>\n",
       "      <td>17.0</td>\n",
       "    </tr>\n",
       "    <tr>\n",
       "      <th>18</th>\n",
       "      <td>angiogenesis</td>\n",
       "      <td>0.051811</td>\n",
       "      <td>17.0</td>\n",
       "    </tr>\n",
       "    <tr>\n",
       "      <th>19</th>\n",
       "      <td>conjugation</td>\n",
       "      <td>0.050696</td>\n",
       "      <td>18.0</td>\n",
       "    </tr>\n",
       "  </tbody>\n",
       "</table>\n",
       "</div>"
      ],
      "text/plain": [
       "                                         output_label     score  rank\n",
       "0                                              growth  0.102507   1.0\n",
       "1   positive regulation of transcription by RNA po...  0.094708   2.0\n",
       "2                                     gene expression  0.089694   3.0\n",
       "3   negative regulation of transcription by RNA po...  0.071309   4.0\n",
       "4                              innate immune response  0.069081   5.0\n",
       "5   positive regulation of transcription, DNA-temp...  0.068524   6.0\n",
       "6                                 signal transduction  0.067409   7.0\n",
       "7                               inflammatory response  0.066852   8.0\n",
       "8                       cell population proliferation  0.064067   9.0\n",
       "9                                             catagen  0.060724  10.0\n",
       "10                                  catabolic process  0.060167  11.0\n",
       "11   regulation of transcription by RNA polymerase II  0.057939  12.0\n",
       "12             positive regulation of gene expression  0.056825  13.0\n",
       "13                                  metabolic process  0.056267  14.0\n",
       "14  positive regulation of cell population prolife...  0.055710  15.0\n",
       "15                                    immune response  0.052925  16.0\n",
       "16           negative regulation of apoptotic process  0.052925  16.0\n",
       "17                                       MAPK cascade  0.051811  17.0\n",
       "18                                       angiogenesis  0.051811  17.0\n",
       "19                                        conjugation  0.050696  18.0"
      ]
     },
     "execution_count": 25,
     "metadata": {},
     "output_type": "execute_result"
    }
   ],
   "source": [
    "## create scoring table for Genes (output nodes)\n",
    "q2_scoring = scoring_output(q2_r_paths_table, q2_type)\n",
    "q2_scoring.index.name = 'output_label'\n",
    "q2_scoring.reset_index(inplace = True)\n",
    "\n",
    "q2_scoring.head(20)"
   ]
  },
  {
   "cell_type": "markdown",
   "metadata": {},
   "source": [
    "Notice that some top results include the immune system, including innate immunity, viral process, cytokines, neutrophils, and inflammation. "
   ]
  },
  {
   "cell_type": "markdown",
   "metadata": {},
   "source": [
    "### Comparing answers to bradykinin article"
   ]
  },
  {
   "cell_type": "markdown",
   "metadata": {},
   "source": [
    "We manually took keywords from the parts of the [\"bradykinin storm\" mechanism article](https://elifesciences.org/articles/59177) that discussed pathways and mechanisms, and we searched for them in the biological processes returned by BTE. The keywords that returned results and the results found are shown below. \n",
    "\n",
    "Notice that while RAS signaling and other processes mentioned in the article are found in BTE, they are not the top-scoring results overall. "
   ]
  },
  {
   "cell_type": "code",
   "execution_count": 26,
   "metadata": {
    "ExecuteTime": {
     "end_time": "2020-11-27T01:00:49.365549Z",
     "start_time": "2020-11-27T01:00:49.340474Z"
    }
   },
   "outputs": [
    {
     "data": {
      "text/html": [
       "<div>\n",
       "<style scoped>\n",
       "    .dataframe tbody tr th:only-of-type {\n",
       "        vertical-align: middle;\n",
       "    }\n",
       "\n",
       "    .dataframe tbody tr th {\n",
       "        vertical-align: top;\n",
       "    }\n",
       "\n",
       "    .dataframe thead th {\n",
       "        text-align: right;\n",
       "    }\n",
       "</style>\n",
       "<table border=\"1\" class=\"dataframe\">\n",
       "  <thead>\n",
       "    <tr style=\"text-align: right;\">\n",
       "      <th></th>\n",
       "      <th>output_label</th>\n",
       "      <th>score</th>\n",
       "      <th>rank</th>\n",
       "    </tr>\n",
       "  </thead>\n",
       "  <tbody>\n",
       "    <tr>\n",
       "      <th>7</th>\n",
       "      <td>inflammatory response</td>\n",
       "      <td>0.066852</td>\n",
       "      <td>8.0</td>\n",
       "    </tr>\n",
       "    <tr>\n",
       "      <th>42</th>\n",
       "      <td>neutrophil degranulation</td>\n",
       "      <td>0.037883</td>\n",
       "      <td>34.0</td>\n",
       "    </tr>\n",
       "    <tr>\n",
       "      <th>62</th>\n",
       "      <td>blood coagulation</td>\n",
       "      <td>0.029526</td>\n",
       "      <td>43.0</td>\n",
       "    </tr>\n",
       "    <tr>\n",
       "      <th>87</th>\n",
       "      <td>negative regulation of inflammatory response</td>\n",
       "      <td>0.024513</td>\n",
       "      <td>51.0</td>\n",
       "    </tr>\n",
       "    <tr>\n",
       "      <th>180</th>\n",
       "      <td>cardiac muscle contraction</td>\n",
       "      <td>0.015042</td>\n",
       "      <td>68.0</td>\n",
       "    </tr>\n",
       "    <tr>\n",
       "      <th>210</th>\n",
       "      <td>sodium ion transmembrane transport</td>\n",
       "      <td>0.013370</td>\n",
       "      <td>71.0</td>\n",
       "    </tr>\n",
       "    <tr>\n",
       "      <th>223</th>\n",
       "      <td>vasoconstriction</td>\n",
       "      <td>0.012813</td>\n",
       "      <td>72.0</td>\n",
       "    </tr>\n",
       "    <tr>\n",
       "      <th>281</th>\n",
       "      <td>regulation of inflammatory response</td>\n",
       "      <td>0.011142</td>\n",
       "      <td>75.0</td>\n",
       "    </tr>\n",
       "    <tr>\n",
       "      <th>288</th>\n",
       "      <td>sodium ion transport</td>\n",
       "      <td>0.011142</td>\n",
       "      <td>75.0</td>\n",
       "    </tr>\n",
       "    <tr>\n",
       "      <th>297</th>\n",
       "      <td>regulation of blood pressure</td>\n",
       "      <td>0.010585</td>\n",
       "      <td>76.0</td>\n",
       "    </tr>\n",
       "  </tbody>\n",
       "</table>\n",
       "</div>"
      ],
      "text/plain": [
       "                                     output_label     score  rank\n",
       "7                           inflammatory response  0.066852   8.0\n",
       "42                       neutrophil degranulation  0.037883  34.0\n",
       "62                              blood coagulation  0.029526  43.0\n",
       "87   negative regulation of inflammatory response  0.024513  51.0\n",
       "180                    cardiac muscle contraction  0.015042  68.0\n",
       "210            sodium ion transmembrane transport  0.013370  71.0\n",
       "223                              vasoconstriction  0.012813  72.0\n",
       "281           regulation of inflammatory response  0.011142  75.0\n",
       "288                          sodium ion transport  0.011142  75.0\n",
       "297                  regulation of blood pressure  0.010585  76.0"
      ]
     },
     "execution_count": 26,
     "metadata": {},
     "output_type": "execute_result"
    }
   ],
   "source": [
    "bp_mask = 'aldosterone|angiotensin|hyaluronan|vaso|vascular permeability|'\\\n",
    "          'coagulation|sodium|pressure|neutrophil|inflamm|fibrin|'\\\n",
    "          'vitamin D|cardiac|pain|potassium'\n",
    "\n",
    "q2_scoring_BK = q2_scoring[q2_scoring['output_label'].str.contains(bp_mask)].copy()\n",
    "q2_scoring_BK.head(10)"
   ]
  },
  {
   "cell_type": "markdown",
   "metadata": {},
   "source": [
    "### APIs used"
   ]
  },
  {
   "cell_type": "markdown",
   "metadata": {},
   "source": [
    "Different knowledge sources (APIs) were called in different parts of the query. \n",
    "\n",
    "In the first part of the query (SARS &rarr; PhenotypicFeature), the following APIs returned results and the following predicates (semantic relationships) were found. "
   ]
  },
  {
   "cell_type": "code",
   "execution_count": 27,
   "metadata": {
    "ExecuteTime": {
     "end_time": "2020-11-27T01:00:53.409588Z",
     "start_time": "2020-11-27T01:00:53.386969Z"
    }
   },
   "outputs": [
    {
     "data": {
      "text/html": [
       "<div>\n",
       "<style scoped>\n",
       "    .dataframe tbody tr th:only-of-type {\n",
       "        vertical-align: middle;\n",
       "    }\n",
       "\n",
       "    .dataframe tbody tr th {\n",
       "        vertical-align: top;\n",
       "    }\n",
       "\n",
       "    .dataframe thead th {\n",
       "        text-align: right;\n",
       "    }\n",
       "</style>\n",
       "<table border=\"1\" class=\"dataframe\">\n",
       "  <thead>\n",
       "    <tr style=\"text-align: right;\">\n",
       "      <th></th>\n",
       "      <th>pred1_api</th>\n",
       "      <th>pred1</th>\n",
       "    </tr>\n",
       "  </thead>\n",
       "  <tbody>\n",
       "    <tr>\n",
       "      <th>7</th>\n",
       "      <td>BioLink API</td>\n",
       "      <td>has_phenotype</td>\n",
       "    </tr>\n",
       "    <tr>\n",
       "      <th>0</th>\n",
       "      <td>mydisease.info API</td>\n",
       "      <td>related_to</td>\n",
       "    </tr>\n",
       "  </tbody>\n",
       "</table>\n",
       "</div>"
      ],
      "text/plain": [
       "            pred1_api          pred1\n",
       "7         BioLink API  has_phenotype\n",
       "0  mydisease.info API     related_to"
      ]
     },
     "execution_count": 27,
     "metadata": {},
     "output_type": "execute_result"
    }
   ],
   "source": [
    "## show that the APIs use different predicates\n",
    "q2_r_paths_table[['pred1_api', 'pred1']].drop_duplicates().sort_values(by = ['pred1_api', 'pred1'])"
   ]
  },
  {
   "cell_type": "markdown",
   "metadata": {},
   "source": [
    "In the second part of the query (PhenotypicFeature &rarr; Gene), the following APIs returned results and the following predicates (semantic relationships) were found. "
   ]
  },
  {
   "cell_type": "code",
   "execution_count": 28,
   "metadata": {
    "ExecuteTime": {
     "end_time": "2020-11-27T01:00:55.798105Z",
     "start_time": "2020-11-27T01:00:55.778043Z"
    }
   },
   "outputs": [
    {
     "data": {
      "text/html": [
       "<div>\n",
       "<style scoped>\n",
       "    .dataframe tbody tr th:only-of-type {\n",
       "        vertical-align: middle;\n",
       "    }\n",
       "\n",
       "    .dataframe tbody tr th {\n",
       "        vertical-align: top;\n",
       "    }\n",
       "\n",
       "    .dataframe thead th {\n",
       "        text-align: right;\n",
       "    }\n",
       "</style>\n",
       "<table border=\"1\" class=\"dataframe\">\n",
       "  <thead>\n",
       "    <tr style=\"text-align: right;\">\n",
       "      <th></th>\n",
       "      <th>pred2_api</th>\n",
       "      <th>pred2</th>\n",
       "    </tr>\n",
       "  </thead>\n",
       "  <tbody>\n",
       "    <tr>\n",
       "      <th>0</th>\n",
       "      <td>BioLink API</td>\n",
       "      <td>related_to</td>\n",
       "    </tr>\n",
       "    <tr>\n",
       "      <th>1964</th>\n",
       "      <td>EBIgene2phenotype API</td>\n",
       "      <td>related_to</td>\n",
       "    </tr>\n",
       "  </tbody>\n",
       "</table>\n",
       "</div>"
      ],
      "text/plain": [
       "                  pred2_api       pred2\n",
       "0               BioLink API  related_to\n",
       "1964  EBIgene2phenotype API  related_to"
      ]
     },
     "execution_count": 28,
     "metadata": {},
     "output_type": "execute_result"
    }
   ],
   "source": [
    "q2_r_paths_table[['pred2_api', 'pred2']].drop_duplicates().sort_values(by = ['pred2_api', 'pred2'])"
   ]
  },
  {
   "cell_type": "markdown",
   "metadata": {},
   "source": [
    "In the third part of the query (Gene &rarr; Pathway), the following APIs returned results and the following predicates (semantic relationships) were found."
   ]
  },
  {
   "cell_type": "code",
   "execution_count": 29,
   "metadata": {
    "ExecuteTime": {
     "end_time": "2020-11-27T01:00:57.757249Z",
     "start_time": "2020-11-27T01:00:57.736086Z"
    }
   },
   "outputs": [
    {
     "data": {
      "text/html": [
       "<div>\n",
       "<style scoped>\n",
       "    .dataframe tbody tr th:only-of-type {\n",
       "        vertical-align: middle;\n",
       "    }\n",
       "\n",
       "    .dataframe tbody tr th {\n",
       "        vertical-align: top;\n",
       "    }\n",
       "\n",
       "    .dataframe thead th {\n",
       "        text-align: right;\n",
       "    }\n",
       "</style>\n",
       "<table border=\"1\" class=\"dataframe\">\n",
       "  <thead>\n",
       "    <tr style=\"text-align: right;\">\n",
       "      <th></th>\n",
       "      <th>pred3_api</th>\n",
       "      <th>pred3</th>\n",
       "    </tr>\n",
       "  </thead>\n",
       "  <tbody>\n",
       "    <tr>\n",
       "      <th>98</th>\n",
       "      <td>CORD Gene API</td>\n",
       "      <td>related_to</td>\n",
       "    </tr>\n",
       "    <tr>\n",
       "      <th>0</th>\n",
       "      <td>MyGene.info API</td>\n",
       "      <td>functional_association</td>\n",
       "    </tr>\n",
       "  </tbody>\n",
       "</table>\n",
       "</div>"
      ],
      "text/plain": [
       "          pred3_api                   pred3\n",
       "98    CORD Gene API              related_to\n",
       "0   MyGene.info API  functional_association"
      ]
     },
     "execution_count": 29,
     "metadata": {},
     "output_type": "execute_result"
    }
   ],
   "source": [
    "## show that the APIs use different predicates\n",
    "q2_r_paths_table[['pred3_api', 'pred3']].drop_duplicates().sort_values(by = ['pred3_api', 'pred3'])"
   ]
  },
  {
   "cell_type": "code",
   "execution_count": null,
   "metadata": {},
   "outputs": [],
   "source": []
  }
 ],
 "metadata": {
  "kernelspec": {
   "display_name": "Python 3",
   "language": "python",
   "name": "python3"
  },
  "language_info": {
   "codemirror_mode": {
    "name": "ipython",
    "version": 3
   },
   "file_extension": ".py",
   "mimetype": "text/x-python",
   "name": "python",
   "nbconvert_exporter": "python",
   "pygments_lexer": "ipython3",
   "version": "3.7.9"
  },
  "toc": {
   "base_numbering": 1,
   "nav_menu": {},
   "number_sections": true,
   "sideBar": true,
   "skip_h1_title": true,
   "title_cell": "Table of Contents",
   "title_sidebar": "Contents",
   "toc_cell": false,
   "toc_position": {
    "height": "calc(100% - 180px)",
    "left": "10px",
    "top": "150px",
    "width": "354.433px"
   },
   "toc_section_display": true,
   "toc_window_display": true
  },
  "varInspector": {
   "cols": {
    "lenName": 16,
    "lenType": 16,
    "lenVar": 40
   },
   "kernels_config": {
    "python": {
     "delete_cmd_postfix": "",
     "delete_cmd_prefix": "del ",
     "library": "var_list.py",
     "varRefreshCmd": "print(var_dic_list())"
    },
    "r": {
     "delete_cmd_postfix": ") ",
     "delete_cmd_prefix": "rm(",
     "library": "var_list.r",
     "varRefreshCmd": "cat(var_dic_list()) "
    }
   },
   "types_to_exclude": [
    "module",
    "function",
    "builtin_function_or_method",
    "instance",
    "_Feature"
   ],
   "window_display": false
  }
 },
 "nbformat": 4,
 "nbformat_minor": 4
}
